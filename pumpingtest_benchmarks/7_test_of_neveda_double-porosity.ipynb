{
 "cells": [
  {
   "cell_type": "markdown",
   "metadata": {},
   "source": [
    "## Double Porosity Test\n",
    "**This test is taken from MLU examples.**"
   ]
  },
  {
   "cell_type": "code",
   "execution_count": 1,
   "metadata": {},
   "outputs": [],
   "source": [
    "%matplotlib inline\n",
    "from ttim import *\n",
    "import numpy as np\n",
    "import matplotlib.pyplot as plt\n",
    "import pandas as pd"
   ]
  },
  {
   "cell_type": "markdown",
   "metadata": {},
   "source": [
    "Set basic parameters for the model:"
   ]
  },
  {
   "cell_type": "code",
   "execution_count": 2,
   "metadata": {},
   "outputs": [],
   "source": [
    "H = 400 #aquifer thickness [m]\n",
    "Q = 3093.12 #constant pumping rate [m^3/d]"
   ]
  },
  {
   "cell_type": "markdown",
   "metadata": {},
   "source": [
    "Load data:"
   ]
  },
  {
   "cell_type": "code",
   "execution_count": 3,
   "metadata": {},
   "outputs": [],
   "source": [
    "#Pumped well UE-25b#1\n",
    "data1 = np.loadtxt('data/double-porosity-pumpingwell.txt', skiprows = 1)\n",
    "t1 = data1[:, 0]\n",
    "h1 = data1[:, 1]\n",
    "\n",
    "#Observation well UE-25a#1\n",
    "data2 = np.loadtxt('data/double-porosity-110m.txt', skiprows = 1)\n",
    "t2 = data2[:, 0]\n",
    "h2 = data2[:, 1]\n",
    "r = 110 #distance from obs to pumped well"
   ]
  },
  {
   "cell_type": "markdown",
   "metadata": {},
   "source": [
    "Create conceptual model:"
   ]
  },
  {
   "cell_type": "code",
   "execution_count": 4,
   "metadata": {},
   "outputs": [],
   "source": [
    "km = 0.1 / H #hydraulic conductivity of matrix calculated by K&dR\n",
    "Sm = 3.85e-4 #specific storage of matrix calculated by"
   ]
  },
  {
   "cell_type": "code",
   "execution_count": 5,
   "metadata": {},
   "outputs": [
    {
     "name": "stdout",
     "output_type": "stream",
     "text": [
      "self.neq  1\n",
      "solution complete\n"
     ]
    }
   ],
   "source": [
    "ml = ModelMaq(kaq=[km, 1], z=[0, -400, -401, -801], c=5, Saq=[Sm, 1e-3],\\\n",
    "              Sll=0, topboundary='conf', tmin=1e-5, tmax=3)\n",
    "w = Well(ml, xw=0, yw=0, rw=0.11, rc=0, tsandQ=[0, 3093.12], layers=1)\n",
    "ml.solve()"
   ]
  },
  {
   "cell_type": "markdown",
   "metadata": {},
   "source": [
    "Calibrate with two datasets simultaneously:"
   ]
  },
  {
   "cell_type": "code",
   "execution_count": 6,
   "metadata": {},
   "outputs": [
    {
     "name": "stdout",
     "output_type": "stream",
     "text": [
      "...............................................................................................................................................................................................................\n",
      "Fit succeeded.\n",
      "[[Fit Statistics]]\n",
      "    # fitting method   = leastsq\n",
      "    # function evals   = 204\n",
      "    # data points      = 138\n",
      "    # variables        = 4\n",
      "    chi-square         = 5.47351448\n",
      "    reduced chi-square = 0.04084712\n",
      "    Akaike info crit   = -437.371923\n",
      "    Bayesian info crit = -425.662908\n",
      "[[Variables]]\n",
      "    kaq1:  0.87697420 +/- 0.00699008 (0.80%) (init = 10)\n",
      "    Saq1:  5.0872e-06 +/- 5.0669e-07 (9.96%) (init = 0.0001)\n",
      "    c1:    13.0062814 +/- 1.59753939 (12.28%) (init = 10)\n",
      "    rc:    0.10560388 +/- 0.00320828 (3.04%) (init = 0)\n",
      "[[Correlations]] (unreported correlations are < 0.100)\n",
      "    C(kaq1, c1)   =  0.858\n",
      "    C(kaq1, Saq1) = -0.731\n",
      "    C(Saq1, c1)   = -0.546\n",
      "    C(Saq1, rc)   = -0.401\n",
      "    C(kaq1, rc)   =  0.101\n"
     ]
    },
    {
     "data": {
      "text/html": [
       "<div>\n",
       "<style scoped>\n",
       "    .dataframe tbody tr th:only-of-type {\n",
       "        vertical-align: middle;\n",
       "    }\n",
       "\n",
       "    .dataframe tbody tr th {\n",
       "        vertical-align: top;\n",
       "    }\n",
       "\n",
       "    .dataframe thead th {\n",
       "        text-align: right;\n",
       "    }\n",
       "</style>\n",
       "<table border=\"1\" class=\"dataframe\">\n",
       "  <thead>\n",
       "    <tr style=\"text-align: right;\">\n",
       "      <th></th>\n",
       "      <th>optimal</th>\n",
       "      <th>std</th>\n",
       "      <th>perc_std</th>\n",
       "      <th>pmin</th>\n",
       "      <th>pmax</th>\n",
       "      <th>initial</th>\n",
       "      <th>parray</th>\n",
       "    </tr>\n",
       "  </thead>\n",
       "  <tbody>\n",
       "    <tr>\n",
       "      <td>kaq1</td>\n",
       "      <td>0.876974</td>\n",
       "      <td>6.990084e-03</td>\n",
       "      <td>0.797068</td>\n",
       "      <td>-inf</td>\n",
       "      <td>inf</td>\n",
       "      <td>10</td>\n",
       "      <td>[0.8769742034500458]</td>\n",
       "    </tr>\n",
       "    <tr>\n",
       "      <td>Saq1</td>\n",
       "      <td>5.08718e-06</td>\n",
       "      <td>5.066946e-07</td>\n",
       "      <td>9.96022</td>\n",
       "      <td>0.0</td>\n",
       "      <td>inf</td>\n",
       "      <td>0.0001</td>\n",
       "      <td>[5.0871806069885395e-06]</td>\n",
       "    </tr>\n",
       "    <tr>\n",
       "      <td>c1</td>\n",
       "      <td>13.0063</td>\n",
       "      <td>1.597539e+00</td>\n",
       "      <td>12.2828</td>\n",
       "      <td>-inf</td>\n",
       "      <td>inf</td>\n",
       "      <td>10</td>\n",
       "      <td>[13.006281425119226]</td>\n",
       "    </tr>\n",
       "    <tr>\n",
       "      <td>rc</td>\n",
       "      <td>0.105604</td>\n",
       "      <td>3.208283e-03</td>\n",
       "      <td>3.03803</td>\n",
       "      <td>-inf</td>\n",
       "      <td>inf</td>\n",
       "      <td>0</td>\n",
       "      <td>[0.10560388038543249]</td>\n",
       "    </tr>\n",
       "  </tbody>\n",
       "</table>\n",
       "</div>"
      ],
      "text/plain": [
       "          optimal           std  perc_std  pmin  pmax initial  \\\n",
       "kaq1     0.876974  6.990084e-03  0.797068  -inf   inf      10   \n",
       "Saq1  5.08718e-06  5.066946e-07   9.96022   0.0   inf  0.0001   \n",
       "c1        13.0063  1.597539e+00   12.2828  -inf   inf      10   \n",
       "rc       0.105604  3.208283e-03   3.03803  -inf   inf       0   \n",
       "\n",
       "                        parray  \n",
       "kaq1      [0.8769742034500458]  \n",
       "Saq1  [5.0871806069885395e-06]  \n",
       "c1        [13.006281425119226]  \n",
       "rc       [0.10560388038543249]  "
      ]
     },
     "metadata": {},
     "output_type": "display_data"
    },
    {
     "name": "stdout",
     "output_type": "stream",
     "text": [
      "RMSE: 0.199156090620443\n"
     ]
    }
   ],
   "source": [
    "ca = Calibrate(ml)\n",
    "ca.set_parameter(name='kaq1', initial=10)\n",
    "ca.set_parameter(name='Saq1', initial=1e-4, pmin=0)\n",
    "ca.set_parameter(name='c1', initial=10)\n",
    "ca.set_parameter_by_reference(name='rc', parameter=w.rc, initial=0)\n",
    "ca.series(name='UE-25b#1', x=0, y=0, t=t1, h=h1, layer=1)\n",
    "ca.series(name='UE-25a#1', x=110, y=0, t=t2, h=h2, layer=1)\n",
    "ca.fit(report=True)\n",
    "display(ca.parameters)\n",
    "print('RMSE:', ca.rmse())"
   ]
  },
  {
   "cell_type": "code",
   "execution_count": 7,
   "metadata": {
    "scrolled": false
   },
   "outputs": [
    {
     "name": "stderr",
     "output_type": "stream",
     "text": [
      "The PostScript backend does not support transparency; partially transparent artists will be rendered opaque.\n",
      "The PostScript backend does not support transparency; partially transparent artists will be rendered opaque.\n"
     ]
    },
    {
     "data": {
      "image/png": "[encoded data removed]",
      "text/plain": [
       "<Figure size 576x360 with 1 Axes>"
      ]
     },
     "metadata": {
      "needs_background": "light"
     },
     "output_type": "display_data"
    }
   ],
   "source": [
    "hm1 = ml.head(0, 0, t1)\n",
    "hm2 = ml.head(110, 0, t2)\n",
    "plt.figure(figsize=(8, 5))\n",
    "plt.semilogx(t1, h1, '.', label='obs UE-25b#1')\n",
    "plt.semilogx(t1, hm1[-1], label='TTim UE-25b#1')\n",
    "plt.semilogx(t2, h2, '.', label='obs UE-25a#1')\n",
    "plt.semilogx(t2, hm2[-1], label='TTim UE-25a#1')\n",
    "plt.xlabel('time(d)')\n",
    "plt.ylabel('head(m)')\n",
    "plt.legend()\n",
    "plt.savefig('C:/Users/DELL/Python Notebook/MT BE/Fig/neveda_1.eps');"
   ]
  },
  {
   "cell_type": "markdown",
   "metadata": {},
   "source": [
    "Simulate parameters of both fracture and matrix:"
   ]
  },
  {
   "cell_type": "code",
   "execution_count": 8,
   "metadata": {},
   "outputs": [
    {
     "name": "stdout",
     "output_type": "stream",
     "text": [
      "self.neq  1\n",
      "solution complete\n"
     ]
    }
   ],
   "source": [
    "ml1 = ModelMaq(kaq=[1, 1], z=[0, -400, -401, -801], c=5, Saq=[1e-3, 1e-3],\\\n",
    "              Sll=0, topboundary='conf', tmin=1e-5, tmax=3)\n",
    "w1 = Well(ml1, xw=0, yw=0, rw=0.11, rc=0, tsandQ=[0, 3093.12], layers=1)\n",
    "ml1.solve()"
   ]
  },
  {
   "cell_type": "code",
   "execution_count": 9,
   "metadata": {},
   "outputs": [
    {
     "name": "stdout",
     "output_type": "stream",
     "text": [
      "...........................................................................................................................................................................................................................................................................................................................................................................................................................................\n",
      "Fit succeeded.\n",
      "[[Fit Statistics]]\n",
      "    # fitting method   = leastsq\n",
      "    # function evals   = 424\n",
      "    # data points      = 138\n",
      "    # variables        = 6\n",
      "    chi-square         = 3.50593034\n",
      "    reduced chi-square = 0.02656008\n",
      "    Akaike info crit   = -494.846092\n",
      "    Bayesian info crit = -477.282570\n",
      "[[Variables]]\n",
      "    kaq0:  7.2084e-07 +/- 2.6714e-04 (37058.99%) (init = 1)\n",
      "    Saq0:  1.4416e-04 +/- 1.4738e-05 (10.22%) (init = 0.0001)\n",
      "    kaq1:  0.90900946 +/- 0.00603635 (0.66%) (init = 1)\n",
      "    Saq1:  3.3885e-06 +/- 3.0026e-07 (8.86%) (init = 0.0001)\n",
      "    c1:    15.5698007 +/- 1.43992968 (9.25%) (init = 100)\n",
      "    rc:    0.10856639 +/- 0.00253333 (2.33%) (init = 0)\n",
      "[[Correlations]] (unreported correlations are < 0.100)\n",
      "    C(kaq1, Saq1) = -0.742\n",
      "    C(kaq1, c1)   =  0.721\n",
      "    C(Saq0, kaq1) = -0.661\n",
      "    C(Saq0, Saq1) =  0.532\n",
      "    C(Saq1, rc)   = -0.408\n",
      "    C(Saq1, c1)   = -0.403\n",
      "    C(Saq0, c1)   = -0.264\n",
      "    C(kaq0, c1)   = -0.167\n",
      "    C(kaq0, Saq0) = -0.165\n",
      "    C(kaq1, rc)   =  0.116\n"
     ]
    },
    {
     "data": {
      "text/html": [
       "<div>\n",
       "<style scoped>\n",
       "    .dataframe tbody tr th:only-of-type {\n",
       "        vertical-align: middle;\n",
       "    }\n",
       "\n",
       "    .dataframe tbody tr th {\n",
       "        vertical-align: top;\n",
       "    }\n",
       "\n",
       "    .dataframe thead th {\n",
       "        text-align: right;\n",
       "    }\n",
       "</style>\n",
       "<table border=\"1\" class=\"dataframe\">\n",
       "  <thead>\n",
       "    <tr style=\"text-align: right;\">\n",
       "      <th></th>\n",
       "      <th>optimal</th>\n",
       "      <th>std</th>\n",
       "      <th>perc_std</th>\n",
       "      <th>pmin</th>\n",
       "      <th>pmax</th>\n",
       "      <th>initial</th>\n",
       "      <th>parray</th>\n",
       "    </tr>\n",
       "  </thead>\n",
       "  <tbody>\n",
       "    <tr>\n",
       "      <td>kaq0</td>\n",
       "      <td>7.20841e-07</td>\n",
       "      <td>2.671362e-04</td>\n",
       "      <td>37059</td>\n",
       "      <td>0</td>\n",
       "      <td>inf</td>\n",
       "      <td>1</td>\n",
       "      <td>[7.208405168324106e-07]</td>\n",
       "    </tr>\n",
       "    <tr>\n",
       "      <td>Saq0</td>\n",
       "      <td>0.000144162</td>\n",
       "      <td>1.473768e-05</td>\n",
       "      <td>10.223</td>\n",
       "      <td>0</td>\n",
       "      <td>inf</td>\n",
       "      <td>0.0001</td>\n",
       "      <td>[0.00014416209370748945]</td>\n",
       "    </tr>\n",
       "    <tr>\n",
       "      <td>kaq1</td>\n",
       "      <td>0.909009</td>\n",
       "      <td>6.036350e-03</td>\n",
       "      <td>0.664058</td>\n",
       "      <td>0</td>\n",
       "      <td>inf</td>\n",
       "      <td>1</td>\n",
       "      <td>[0.9090094568168918]</td>\n",
       "    </tr>\n",
       "    <tr>\n",
       "      <td>Saq1</td>\n",
       "      <td>3.38847e-06</td>\n",
       "      <td>3.002560e-07</td>\n",
       "      <td>8.8611</td>\n",
       "      <td>0</td>\n",
       "      <td>inf</td>\n",
       "      <td>0.0001</td>\n",
       "      <td>[3.388472165299916e-06]</td>\n",
       "    </tr>\n",
       "    <tr>\n",
       "      <td>c1</td>\n",
       "      <td>15.5698</td>\n",
       "      <td>1.439930e+00</td>\n",
       "      <td>9.24822</td>\n",
       "      <td>0</td>\n",
       "      <td>inf</td>\n",
       "      <td>100</td>\n",
       "      <td>[15.569800695761781]</td>\n",
       "    </tr>\n",
       "    <tr>\n",
       "      <td>rc</td>\n",
       "      <td>0.108566</td>\n",
       "      <td>2.533330e-03</td>\n",
       "      <td>2.33344</td>\n",
       "      <td>0</td>\n",
       "      <td>inf</td>\n",
       "      <td>0</td>\n",
       "      <td>[0.10856639204347074]</td>\n",
       "    </tr>\n",
       "  </tbody>\n",
       "</table>\n",
       "</div>"
      ],
      "text/plain": [
       "          optimal           std  perc_std pmin  pmax initial  \\\n",
       "kaq0  7.20841e-07  2.671362e-04     37059    0   inf       1   \n",
       "Saq0  0.000144162  1.473768e-05    10.223    0   inf  0.0001   \n",
       "kaq1     0.909009  6.036350e-03  0.664058    0   inf       1   \n",
       "Saq1  3.38847e-06  3.002560e-07    8.8611    0   inf  0.0001   \n",
       "c1        15.5698  1.439930e+00   9.24822    0   inf     100   \n",
       "rc       0.108566  2.533330e-03   2.33344    0   inf       0   \n",
       "\n",
       "                        parray  \n",
       "kaq0   [7.208405168324106e-07]  \n",
       "Saq0  [0.00014416209370748945]  \n",
       "kaq1      [0.9090094568168918]  \n",
       "Saq1   [3.388472165299916e-06]  \n",
       "c1        [15.569800695761781]  \n",
       "rc       [0.10856639204347074]  "
      ]
     },
     "metadata": {},
     "output_type": "display_data"
    },
    {
     "name": "stdout",
     "output_type": "stream",
     "text": [
      "RMSE: 0.1593903771061828\n"
     ]
    }
   ],
   "source": [
    "ca1 = Calibrate(ml1)\n",
    "ca1.set_parameter(name='kaq0', initial=1, pmin=0)\n",
    "ca1.set_parameter(name='Saq0', initial=1e-4, pmin=0)\n",
    "ca1.set_parameter(name='kaq1', initial=1, pmin=0)\n",
    "ca1.set_parameter(name='Saq1', initial=1e-4, pmin=0)\n",
    "ca1.set_parameter(name='c1', initial=100, pmin=0)\n",
    "ca1.set_parameter_by_reference(name='rc', parameter=w1.rc, initial=0, pmin=0)\n",
    "ca1.series(name='UE-25b#1', x=0, y=0, t=t1, h=h1, layer=1)\n",
    "ca1.series(name='UE-25a#1', x=110, y=0, t=t2, h=h2, layer=1)\n",
    "ca1.fit(report=True)\n",
    "display(ca1.parameters)\n",
    "print('RMSE:', ca1.rmse())"
   ]
  },
  {
   "cell_type": "code",
   "execution_count": 10,
   "metadata": {},
   "outputs": [
    {
     "name": "stderr",
     "output_type": "stream",
     "text": [
      "The PostScript backend does not support transparency; partially transparent artists will be rendered opaque.\n",
      "The PostScript backend does not support transparency; partially transparent artists will be rendered opaque.\n"
     ]
    },
    {
     "data": {
      "image/png": "[encoded data removed]",
      "text/plain": [
       "<Figure size 576x360 with 1 Axes>"
      ]
     },
     "metadata": {
      "needs_background": "light"
     },
     "output_type": "display_data"
    }
   ],
   "source": [
    "ht1 = ml1.head(0, 0, t1)\n",
    "ht2 = ml1.head(110, 0, t2)\n",
    "plt.figure(figsize=(8, 5))\n",
    "plt.semilogx(t1, h1, '.', label = 'obs UE-25b#1')\n",
    "plt.semilogx(t1, ht1[-1], label = 'TTim UE-25b#1')\n",
    "plt.semilogx(t2, h2, '.', label = 'obs UE-25a#1')\n",
    "plt.semilogx(t2, ht2[-1], label = 'TTim UE-25a#1')\n",
    "plt.xlabel('time(d)')\n",
    "plt.ylabel('head(m)')\n",
    "plt.legend()\n",
    "plt.savefig('C:/Users/DELL/Python Notebook/MT BE/Fig/neveda_2.eps');"
   ]
  },
  {
   "cell_type": "markdown",
   "metadata": {},
   "source": [
    "### Summary of values simulate by different methods:"
   ]
  },
  {
   "cell_type": "code",
   "execution_count": 11,
   "metadata": {},
   "outputs": [
    {
     "data": {
      "text/html": [
       "<div>\n",
       "<style scoped>\n",
       "    .dataframe tbody tr th:only-of-type {\n",
       "        vertical-align: middle;\n",
       "    }\n",
       "\n",
       "    .dataframe tbody tr th {\n",
       "        vertical-align: top;\n",
       "    }\n",
       "\n",
       "    .dataframe thead th {\n",
       "        text-align: right;\n",
       "    }\n",
       "</style>\n",
       "<table border=\"1\" class=\"dataframe\">\n",
       "  <thead>\n",
       "    <tr style=\"text-align: right;\">\n",
       "      <th></th>\n",
       "      <th>km [m/d]</th>\n",
       "      <th>Sm [1/m]</th>\n",
       "      <th>kf [m/d]</th>\n",
       "      <th>Sf [1/m]</th>\n",
       "      <th>c</th>\n",
       "      <th>rc</th>\n",
       "      <th>RMSE</th>\n",
       "    </tr>\n",
       "  </thead>\n",
       "  <tbody>\n",
       "    <tr>\n",
       "      <td>K&amp;dR</td>\n",
       "      <td>0.8325</td>\n",
       "      <td>0.000375</td>\n",
       "      <td>0.8325</td>\n",
       "      <td>4e-06</td>\n",
       "      <td>-</td>\n",
       "      <td>-</td>\n",
       "      <td>-</td>\n",
       "    </tr>\n",
       "    <tr>\n",
       "      <td>Moench</td>\n",
       "      <td>0.1728</td>\n",
       "      <td>0.0003</td>\n",
       "      <td>0.864</td>\n",
       "      <td>1.5e-06</td>\n",
       "      <td>-</td>\n",
       "      <td>-</td>\n",
       "      <td>-</td>\n",
       "    </tr>\n",
       "    <tr>\n",
       "      <td>AQTESOLV</td>\n",
       "      <td>0.149</td>\n",
       "      <td>0.0005512</td>\n",
       "      <td>0.937</td>\n",
       "      <td>5.533e-06</td>\n",
       "      <td>-</td>\n",
       "      <td>0.11</td>\n",
       "      <td>0.031736</td>\n",
       "    </tr>\n",
       "    <tr>\n",
       "      <td>MLU</td>\n",
       "      <td>0.00025</td>\n",
       "      <td>0.000385</td>\n",
       "      <td>0.874</td>\n",
       "      <td>8.053e-06</td>\n",
       "      <td>12.38</td>\n",
       "      <td>0.1</td>\n",
       "      <td>0.434638</td>\n",
       "    </tr>\n",
       "    <tr>\n",
       "      <td>TTim1</td>\n",
       "      <td>0.00025</td>\n",
       "      <td>0.000385</td>\n",
       "      <td>0.876974</td>\n",
       "      <td>5.08718e-06</td>\n",
       "      <td>13.0063</td>\n",
       "      <td>0.105604</td>\n",
       "      <td>0.199156</td>\n",
       "    </tr>\n",
       "    <tr>\n",
       "      <td>TTim2</td>\n",
       "      <td>7.20841e-07</td>\n",
       "      <td>0.000144162</td>\n",
       "      <td>0.909009</td>\n",
       "      <td>3.38847e-06</td>\n",
       "      <td>15.5698</td>\n",
       "      <td>0.108566</td>\n",
       "      <td>0.15939</td>\n",
       "    </tr>\n",
       "  </tbody>\n",
       "</table>\n",
       "</div>"
      ],
      "text/plain": [
       "             km [m/d]     Sm [1/m]  kf [m/d]     Sf [1/m]        c        rc  \\\n",
       "K&dR           0.8325     0.000375    0.8325        4e-06        -         -   \n",
       "Moench         0.1728       0.0003     0.864      1.5e-06        -         -   \n",
       "AQTESOLV        0.149    0.0005512     0.937    5.533e-06        -      0.11   \n",
       "MLU           0.00025     0.000385     0.874    8.053e-06    12.38       0.1   \n",
       "TTim1         0.00025     0.000385  0.876974  5.08718e-06  13.0063  0.105604   \n",
       "TTim2     7.20841e-07  0.000144162  0.909009  3.38847e-06  15.5698  0.108566   \n",
       "\n",
       "              RMSE  \n",
       "K&dR             -  \n",
       "Moench           -  \n",
       "AQTESOLV  0.031736  \n",
       "MLU       0.434638  \n",
       "TTim1     0.199156  \n",
       "TTim2      0.15939  "
      ]
     },
     "execution_count": 11,
     "metadata": {},
     "output_type": "execute_result"
    }
   ],
   "source": [
    "t = pd.DataFrame(columns=['km [m/d]', 'Sm [1/m]', 'kf [m/d]', 'Sf [1/m]', 'c', 'rc'], \\\n",
    "                index=['K&dR', 'Moench', 'AQTESOLV', 'MLU', 'TTim1', 'TTim2'])\n",
    "t.loc['TTim2'] = ca1.parameters['optimal'].values\n",
    "t.loc['K&dR'] = [0.8325, 3.750e-4, 0.8325, 4.000e-6, '-', '-']\n",
    "t.loc['Moench'] = [0.1728, 3.000e-4, 0.864, 1.500e-6, '-', '-']\n",
    "t.loc['AQTESOLV'] = [0.149, 5.512e-4, 0.937, 5.533e-6, '-', 0.11]\n",
    "t.loc['MLU'] = [0.00025, 3.850e-04, 0.874, 8.053e-6, 12.380, 0.1]\n",
    "t.iloc[4, 0:2] = [km, Sm]\n",
    "t.iloc[4, 2:6] = ca.parameters['optimal'].values\n",
    "t['RMSE'] = ['-', '-', 0.031736, 0.434638, ca.rmse(), ca1.rmse()]\n",
    "t"
   ]
  },
  {
   "cell_type": "code",
   "execution_count": null,
   "metadata": {},
   "outputs": [],
   "source": []
  }
 ],
 "metadata": {
  "kernelspec": {
   "display_name": "Python 3",
   "language": "python",
   "name": "python3"
  },
  "language_info": {
   "codemirror_mode": {
    "name": "ipython",
    "version": 3
   },
   "file_extension": ".py",
   "mimetype": "text/x-python",
   "name": "python",
   "nbconvert_exporter": "python",
   "pygments_lexer": "ipython3",
   "version": "3.7.4"
  }
 },
 "nbformat": 4,
 "nbformat_minor": 2
}
