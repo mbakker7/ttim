{
 "cells": [
  {
   "cell_type": "markdown",
   "metadata": {},
   "source": [
    "# 2. Confined Aquifer Test - Grindley\n",
    "**This test is taken from AQTESOLV examples.**"
   ]
  },
  {
   "cell_type": "markdown",
   "metadata": {},
   "source": [
    "## Introduction and Conceptual Model"
   ]
  },
  {
   "cell_type": "markdown",
   "metadata": {},
   "source": [
    "In this example, we reproduce the work of Yang (2020) to use the pumping test data to demonstrate how TTim can be used to model and analyze pumping tests in a single layer, confined setting. Furthermore, we compare the performance of TTim with other transient well hydraulics software AQTESOLV (Duffield, 2007) and MLU (Carlson and Randall, 2012).\n",
    "\n",
    "This example is a pumping test conducted in 1953 in Grindley, Illinois, US. It was reported by Walton (1962). The aquifer is an 18 ft thickness sand and gravel layer under confined conditions. The pumping well fully penetrates the formation, and pumping was conducted for 8 hours at a rate of 220 gallons per minute. The effect of pumping was observed at observation well 1, located 824 ft away from the well.\n",
    "\n",
    "The time-drawdown data for the observation well was obtained from AQTESOLV documentation (Duffield, 2007), while data from the pumping well was obtained from the original paper from Walton (1962). Following AQTESOLV documentation (Duffield, 2007), we have assumed that both well and observation well radii are 0.5 ft.\n",
    "\n",
    "A simplified cross-section of the model area can be seen below:"
   ]
  },
  {
   "cell_type": "code",
   "execution_count": 27,
   "metadata": {
    "jupyter": {
     "source_hidden": true
    },
    "tags": []
   },
   "outputs": [
    {
     "data": {
      "image/png": "[encoded data removed]",
      "text/plain": [
       "<Figure size 1008x648 with 1 Axes>"
      ]
     },
     "metadata": {
      "needs_background": "light"
     },
     "output_type": "display_data"
    }
   ],
   "source": [
    "import matplotlib.pyplot as plt\n",
    "import numpy as np\n",
    "\n",
    "##Now printing the conceptual model figure:\n",
    "\n",
    "fig = plt.figure(figsize=(14, 9))\n",
    "ax = fig.add_subplot(1,1,1)\n",
    "#sky\n",
    "sky = plt.Rectangle((-200,0), width = 1400, height = 3, fc = 'b', zorder=0, alpha=0.1)\n",
    "ax.add_patch(sky)\n",
    "\n",
    "#Aquifer:\n",
    "ground = plt.Rectangle((-200,-20), width = 1400, height = 18, fc = np.array([209,179,127])/255, zorder=0, alpha=0.9)\n",
    "ax.add_patch(ground)\n",
    "\n",
    "#Confining bed:\n",
    "confining_unit = plt.Rectangle((-200,-2), width = 1400, height = 2, fc = np.array([100,100,100])/255, zorder=0, alpha=0.7)\n",
    "ax.add_patch(confining_unit)\n",
    "well = plt.Rectangle((-8,-20), width = 16, height = 20, fc = np.array([200,200,200])/255, zorder=1)\n",
    "ax.add_patch(well)\n",
    "\n",
    "#Wellhead\n",
    "wellhead = plt.Rectangle((-10,0),width = 20, height = 1.5, fc = np.array([200,200,200])/255, zorder=2, ec='k')\n",
    "ax.add_patch(wellhead)\n",
    "\n",
    "#Screen for the well:\n",
    "screen = plt.Rectangle((-8,-20), width = 16, height = 18, fc = np.array([200,200,200])/255, alpha=1, zorder = 2, ec = \"k\", ls = '--')\n",
    "screen.set_linewidth(2)\n",
    "ax.add_patch(screen)\n",
    "pumping_arrow = plt.Arrow(x = 10,y = 0.75, dx = 16, dy = 0, color = \"#00035b\")\n",
    "ax.add_patch(pumping_arrow)\n",
    "ax.text(x = 29, y = 0.75, s = r'$ Q = 220 \\frac{gal}{min}$', fontsize = 'large' )\n",
    "#Piezometers\n",
    "piez1 = plt.Rectangle((820,-20), width = 8, height = 20,fc = np.array([200,200,200])/255, zorder=1)\n",
    "screen_piez_1 = plt.Rectangle((820,-20), width = 8, height = 18, fc = np.array([200,200,200])/255, alpha=1, zorder = 2, ec = \"k\", ls = '--')\n",
    "screen_piez_1.set_linewidth(2)\n",
    "\n",
    "ax.add_patch(piez1)\n",
    "\n",
    "ax.add_patch(screen_piez_1)\n",
    "\n",
    "#last line\n",
    "line = plt.Line2D(xdata= [-200,1200], ydata = [0,0], color = \"k\")\n",
    "ax.add_line(line)\n",
    "ax.text(x = 780, y = 0.75, s = 'Obs Well 1', fontsize = 'large' )\n",
    "\n",
    "ax.set_xlim([-200,1050])\n",
    "ax.set_ylim([-20,3])\n",
    "ax.set_xlabel('Distance [ft]')\n",
    "ax.set_ylabel('Relative height [ft]')\n",
    "ax.set_title('Conceptual Model - Grindley Example');"
   ]
  },
  {
   "cell_type": "markdown",
   "metadata": {},
   "source": [
    "## Step 1. Load required libraries"
   ]
  },
  {
   "cell_type": "code",
   "execution_count": 2,
   "metadata": {},
   "outputs": [],
   "source": [
    "import numpy as np\n",
    "import matplotlib.pyplot as plt\n",
    "import pandas as pd\n",
    "from ttim import *"
   ]
  },
  {
   "cell_type": "markdown",
   "metadata": {},
   "source": [
    "## Step 2. Set basic parameters\n",
    "\n",
    "- We will work with time in days and length in meters from this step onwards\n",
    "- The parameters below have already been converted to m and days."
   ]
  },
  {
   "cell_type": "code",
   "execution_count": 3,
   "metadata": {},
   "outputs": [],
   "source": [
    "b = -5.4846 #aquifer thickness in m (Converted from 18 ft)\n",
    "Q = 1199.218 #constant discharge in m^3/d (Converted from 220 gallons/minute)\n",
    "r = 251.1552 #distance between observation well to test well in m (Converted from 824 ft)\n",
    "rw = 0.1524 #screen radius of test well in m (Converted from 0.5 ft)"
   ]
  },
  {
   "cell_type": "markdown",
   "metadata": {},
   "source": [
    "## Step 3. Load data of observation and pumping well\n",
    "\n",
    "The preferred method of loading data into TTim is to use numpy arrays.\n",
    "\n",
    "The data is in a text file where the first column is the time data in ***days*** and the second column is the drawdown in ***meters***\n",
    "\n",
    "The observation well is referred to as ***Well 1*** and the pumping well as ***Well 3***.\n",
    "\n",
    "For each piezometer, we will load the data as a numpy array and split time and drawdown into two different 1d arrays."
   ]
  },
  {
   "cell_type": "code",
   "execution_count": 4,
   "metadata": {},
   "outputs": [],
   "source": [
    "# Loading Observation well (Well 1)\n",
    "data1 = np.loadtxt('data/gridley_well_1.txt')\n",
    "t1 = data1[:, 0]\n",
    "h1 = data1[:, 1]\n",
    "\n",
    "# Loading Pumping Well data (Well 3)\n",
    "data2 = np.loadtxt('data/gridley_well_3.txt')\n",
    "t2 = data2[:, 0]\n",
    "h2 = data2[:, 1]"
   ]
  },
  {
   "cell_type": "markdown",
   "metadata": {},
   "source": [
    "<a id='step_4'></a>\n",
    "## Step 4. Creating a TTim conceptual model\n",
    "\n",
    "In this example, we are using the ModelMaq model to conceptualize our aquifer. ModelMaq defines the aquifer system as a stacked vertical sequence of aquifers and leaky layers (aquifer-leaky layer, aquifer-leaky layer etc). A thorough explanation of the ModelMaq and TTim one-layer modelling conceptualization is given in the notebook: [Confined 1 - Oude Korendijk](confined1_oude_korendijk)"
   ]
  },
  {
   "cell_type": "code",
   "execution_count": 5,
   "metadata": {},
   "outputs": [
    {
     "name": "stdout",
     "output_type": "stream",
     "text": [
      "self.neq  1\n",
      "solution complete\n"
     ]
    }
   ],
   "source": [
    "ml = ModelMaq(kaq=10, z=[0, b], Saq=0.001, tmin=0.001, tmax=1, topboundary='conf')\n",
    "w = Well(ml, xw=0, yw=0, rw=rw, tsandQ=[(0, Q)], layers=0)\n",
    "ml.solve()"
   ]
  },
  {
   "cell_type": "markdown",
   "metadata": {},
   "source": [
    "## Step 5. Calibration"
   ]
  },
  {
   "cell_type": "markdown",
   "metadata": {},
   "source": [
    "The calibration workflow has been described in detail in the notebook: [Confined 1 - Oude Korendijk](confined1_oude_korendijk)"
   ]
  },
  {
   "cell_type": "markdown",
   "metadata": {},
   "source": [
    "<a id='step_5_1'></a>\n",
    "### Step 5.1. Calibration Using the Observation Well"
   ]
  },
  {
   "cell_type": "markdown",
   "metadata": {},
   "source": [
    "We begin the calibration using the data from observation well (well 1) as our data set."
   ]
  },
  {
   "cell_type": "code",
   "execution_count": 6,
   "metadata": {},
   "outputs": [
    {
     "name": "stdout",
     "output_type": "stream",
     "text": [
      ".................................\n",
      "Fit succeeded.\n",
      "[[Fit Statistics]]\n",
      "    # fitting method   = leastsq\n",
      "    # function evals   = 30\n",
      "    # data points      = 22\n",
      "    # variables        = 2\n",
      "    chi-square         = 0.01702155\n",
      "    reduced chi-square = 8.5108e-04\n",
      "    Akaike info crit   = -153.614991\n",
      "    Bayesian info crit = -151.432906\n",
      "[[Variables]]\n",
      "    kaq0:  22.4341009 +/- 0.22268844 (0.99%) (init = 10)\n",
      "    Saq0:  3.8207e-06 +/- 7.4239e-08 (1.94%) (init = 0.0001)\n",
      "[[Correlations]] (unreported correlations are < 0.100)\n",
      "    C(kaq0, Saq0) = -0.883\n"
     ]
    }
   ],
   "source": [
    "#unknown parameters: kaq, Saq\n",
    "ca_0 = Calibrate(ml) # Create the Calibrate object, calling the model to the object\n",
    "ca_0.set_parameter(name='kaq0', initial=10) # Setting the parameters for calibration\n",
    "ca_0.set_parameter(name='Saq0', initial=1e-4)\n",
    "ca_0.series(name='obs1', x=r, y=0, t=t1, h=h1, layer=0) # Setting the observation data\n",
    "ca_0.fit(report=True) # Fitting the model. We can hide the message below setting report = False"
   ]
  },
  {
   "cell_type": "markdown",
   "metadata": {},
   "source": [
    "The results from calibration are stored in the ```.parameters``` attribute of the calibration object.\n",
    "We can also call the ```.rmse``` method to check the fitting error (RMSE)"
   ]
  },
  {
   "cell_type": "code",
   "execution_count": 7,
   "metadata": {},
   "outputs": [
    {
     "data": {
      "text/html": [
       "<div>\n",
       "<style scoped>\n",
       "    .dataframe tbody tr th:only-of-type {\n",
       "        vertical-align: middle;\n",
       "    }\n",
       "\n",
       "    .dataframe tbody tr th {\n",
       "        vertical-align: top;\n",
       "    }\n",
       "\n",
       "    .dataframe thead th {\n",
       "        text-align: right;\n",
       "    }\n",
       "</style>\n",
       "<table border=\"1\" class=\"dataframe\">\n",
       "  <thead>\n",
       "    <tr style=\"text-align: right;\">\n",
       "      <th></th>\n",
       "      <th>optimal</th>\n",
       "      <th>std</th>\n",
       "      <th>perc_std</th>\n",
       "      <th>pmin</th>\n",
       "      <th>pmax</th>\n",
       "      <th>initial</th>\n",
       "      <th>parray</th>\n",
       "    </tr>\n",
       "  </thead>\n",
       "  <tbody>\n",
       "    <tr>\n",
       "      <th>kaq0</th>\n",
       "      <td>22.434101</td>\n",
       "      <td>2.226884e-01</td>\n",
       "      <td>0.992634</td>\n",
       "      <td>-inf</td>\n",
       "      <td>inf</td>\n",
       "      <td>10</td>\n",
       "      <td>[22.43410090833257]</td>\n",
       "    </tr>\n",
       "    <tr>\n",
       "      <th>Saq0</th>\n",
       "      <td>0.000004</td>\n",
       "      <td>7.423864e-08</td>\n",
       "      <td>1.943042</td>\n",
       "      <td>-inf</td>\n",
       "      <td>inf</td>\n",
       "      <td>0.0001</td>\n",
       "      <td>[3.820743808455507e-06]</td>\n",
       "    </tr>\n",
       "  </tbody>\n",
       "</table>\n",
       "</div>"
      ],
      "text/plain": [
       "        optimal           std  perc_std  pmin  pmax initial  \\\n",
       "kaq0  22.434101  2.226884e-01  0.992634  -inf   inf      10   \n",
       "Saq0   0.000004  7.423864e-08  1.943042  -inf   inf  0.0001   \n",
       "\n",
       "                       parray  \n",
       "kaq0      [22.43410090833257]  \n",
       "Saq0  [3.820743808455507e-06]  "
      ]
     },
     "metadata": {},
     "output_type": "display_data"
    },
    {
     "name": "stdout",
     "output_type": "stream",
     "text": [
      "rmse: 0.027815582524986077\n"
     ]
    }
   ],
   "source": [
    "display(ca_0.parameters)\n",
    "print('rmse:', ca_0.rmse())"
   ]
  },
  {
   "cell_type": "markdown",
   "metadata": {},
   "source": [
    "Now, we plot the model with our observation data:\n",
    "\n",
    "* First, we have to compute the model calculated heads at the observation location. For this, we use the ```.head```method in the model object (```ml```). This method takes the following arguments\n",
    "    * the positions ```x``` and ```y``` of the piezometric well (or any other point of interest). In our case, our well is located at position ```x= r1``` and ```y = 0```.\n",
    "    * the time intervals, defined by the numpy array ```t```, for the computation of the heads. In our case, this is defined by the variable ```t1```.\n",
    "\n",
    "    * Another optional input is ```layers```, which can be a list, integer or an array defining the model layers. When we do not assign anything, the head is computed for all layers.\n",
    "\n",
    "The output is a numpy array with dimensions ```(nl,nt)```, where ```nl``` is the number of layers and ```nt``` is the number of time intervals.\n",
    "\n",
    "* Now, we can compare both observations and predictions in a plot:"
   ]
  },
  {
   "cell_type": "code",
   "execution_count": 8,
   "metadata": {},
   "outputs": [
    {
     "data": {
      "image/png": "[encoded data removed]",
      "text/plain": [
       "<Figure size 720x504 with 1 Axes>"
      ]
     },
     "metadata": {
      "needs_background": "light"
     },
     "output_type": "display_data"
    }
   ],
   "source": [
    "hm_0 = ml.head(x = r, y = 0, t = t1) # Compute heads at observation well location\n",
    "plt.figure(figsize = (10, 7))\n",
    "plt.semilogx(t1, hm_0[0], label = 'ttim results') # Plotting TTim model Results\n",
    "plt.semilogx(t1, h1, '.', label = 'obs well 1') # Plotting Observed points\n",
    "plt.xlabel('time [d]')\n",
    "plt.ylabel('drawdown [m]')\n",
    "plt.suptitle('Model Prediction vs Observations - Calibrated Model 1')\n",
    "plt.legend();"
   ]
  },
  {
   "cell_type": "markdown",
   "metadata": {},
   "source": [
    "Now let's check how it performs with the Pumping Well data:\n"
   ]
  },
  {
   "cell_type": "code",
   "execution_count": 9,
   "metadata": {},
   "outputs": [
    {
     "data": {
      "image/png": "[encoded data removed]",
      "text/plain": [
       "<Figure size 576x360 with 1 Axes>"
      ]
     },
     "metadata": {
      "needs_background": "light"
     },
     "output_type": "display_data"
    }
   ],
   "source": [
    "hm_0_2 = ml.head(x = 0, y = 0, t = t2) # Compute heads at observation well location\n",
    "plt.figure(figsize = (8, 5))\n",
    "plt.semilogx(t2, hm_0_2[0], label = 'ttim results') # Plotting TTim model Results\n",
    "plt.semilogx(t2, h2, '.', label = 'well 3') # Plotting Observed points\n",
    "plt.xlabel('time [d]')\n",
    "plt.ylabel('drawdown [m]')\n",
    "plt.suptitle('Model Prediction vs Observations - Calibrated Model 1, Results in the Pumping Well')\n",
    "plt.legend();"
   ]
  },
  {
   "cell_type": "markdown",
   "metadata": {},
   "source": [
    "As we can see, although the model presented an initial good fit, when we challenged it with an outside sample, it performed poorly."
   ]
  },
  {
   "cell_type": "markdown",
   "metadata": {},
   "source": [
    "### Step 5.2. Calibration using the Pumping Well data"
   ]
  },
  {
   "cell_type": "markdown",
   "metadata": {},
   "source": [
    "We proceed to calibrate using only the data from the pumping well (Well 3).\n",
    "The initial inputs can be checked in [***step 5.1***](#step_5_1)"
   ]
  },
  {
   "cell_type": "code",
   "execution_count": 10,
   "metadata": {},
   "outputs": [
    {
     "name": "stdout",
     "output_type": "stream",
     "text": [
      "............................\n",
      "Fit succeeded.\n",
      "[[Fit Statistics]]\n",
      "    # fitting method   = leastsq\n",
      "    # function evals   = 25\n",
      "    # data points      = 14\n",
      "    # variables        = 2\n",
      "    chi-square         = 0.04383777\n",
      "    reduced chi-square = 0.00365315\n",
      "    Akaike info crit   = -76.7284371\n",
      "    Bayesian info crit = -75.4503225\n",
      "[[Variables]]\n",
      "    kaq0:  27.9003982 +/- 0.73116950 (2.62%) (init = 10)\n",
      "    Saq0:  1.7009e-04 +/- 5.8200e-05 (34.22%) (init = 0.0001)\n",
      "[[Correlations]] (unreported correlations are < 0.100)\n",
      "    C(kaq0, Saq0) = -0.997\n"
     ]
    }
   ],
   "source": [
    "#unknown parameters: kaq, Saq\n",
    "ca_1 = Calibrate(ml)\n",
    "ca_1.set_parameter(name='kaq0', initial=10)\n",
    "ca_1.set_parameter(name='Saq0', initial=1e-4)\n",
    "ca_1.series(name='well3', x=0, y=0, t=t2, h=h2, layer=0)\n",
    "ca_1.fit(report=True)"
   ]
  },
  {
   "cell_type": "code",
   "execution_count": 11,
   "metadata": {},
   "outputs": [
    {
     "name": "stdout",
     "output_type": "stream",
     "text": [
      "rmse: 0.05595774266644375\n"
     ]
    }
   ],
   "source": [
    "ca_1.parameters\n",
    "print('rmse:', ca_1.rmse())"
   ]
  },
  {
   "cell_type": "code",
   "execution_count": 12,
   "metadata": {},
   "outputs": [
    {
     "data": {
      "image/png": "[encoded data removed]",
      "text/plain": [
       "<Figure size 720x504 with 1 Axes>"
      ]
     },
     "metadata": {
      "needs_background": "light"
     },
     "output_type": "display_data"
    }
   ],
   "source": [
    "hm_1 = ml.head(0, 0, t2)\n",
    "plt.figure(figsize = (10, 7))\n",
    "plt.semilogx(t2, hm_1[0], label = 'ttim results')\n",
    "plt.semilogx(t2, h2, '.', label = 'well 3 observations')\n",
    "plt.xlabel('time [d]')\n",
    "plt.ylabel('drawdown [m]')\n",
    "plt.suptitle('Model Prediction vs Observations - Calibration 2')\n",
    "plt.legend();"
   ]
  },
  {
   "cell_type": "markdown",
   "metadata": {},
   "source": [
    "### Step 5.3. Model Calibration with both datasets"
   ]
  },
  {
   "cell_type": "markdown",
   "metadata": {},
   "source": [
    "We now will proceed to calibrate the model using both datasets at the same time. We begin by creating a new model so we can compare the different results later:"
   ]
  },
  {
   "cell_type": "code",
   "execution_count": 13,
   "metadata": {},
   "outputs": [
    {
     "name": "stdout",
     "output_type": "stream",
     "text": [
      "self.neq  1\n",
      "solution complete\n"
     ]
    }
   ],
   "source": [
    "ml_1 = ModelMaq(kaq=10, z=[0, b], Saq=0.001, tmin=0.001, tmax=1, topboundary='conf')\n",
    "w_1 = Well(ml_1, xw=0, yw=0, rw=rw, tsandQ=[(0, Q)], layers=0)\n",
    "ml_1.solve()"
   ]
  },
  {
   "cell_type": "markdown",
   "metadata": {},
   "source": [
    "We now create a new ```Calibrate``` object. The difference from the previous calibration objects is that now we add a second observation series to the object:"
   ]
  },
  {
   "cell_type": "code",
   "execution_count": 14,
   "metadata": {},
   "outputs": [
    {
     "name": "stdout",
     "output_type": "stream",
     "text": [
      "...........................\n",
      "Fit succeeded.\n",
      "[[Fit Statistics]]\n",
      "    # fitting method   = leastsq\n",
      "    # function evals   = 24\n",
      "    # data points      = 36\n",
      "    # variables        = 2\n",
      "    chi-square         = 2.65994255\n",
      "    reduced chi-square = 0.07823360\n",
      "    Akaike info crit   = -89.7877189\n",
      "    Bayesian info crit = -86.6206810\n",
      "[[Variables]]\n",
      "    kaq0:  38.0492449 +/- 0.52461563 (1.38%) (init = 10)\n",
      "    Saq0:  1.2468e-06 +/- 2.0176e-07 (16.18%) (init = 0.0001)\n",
      "[[Correlations]] (unreported correlations are < 0.100)\n",
      "    C(kaq0, Saq0) = -0.769\n"
     ]
    }
   ],
   "source": [
    "ca_2 = Calibrate(ml_1)\n",
    "ca_2.set_parameter(name='kaq0', initial=10)\n",
    "ca_2.set_parameter(name='Saq0', initial=1e-4, pmin=0)\n",
    "ca_2.series(name='obs1', x=r, y=0, t=t1, h=h1, layer=0) # Adding observation Well 1\n",
    "ca_2.series(name='well3', x=0, y=0, t=t2, h=h2, layer=0)# Adding Pumping Well (Well 3)\n",
    "ca_2.fit(report=True)"
   ]
  },
  {
   "cell_type": "code",
   "execution_count": 15,
   "metadata": {},
   "outputs": [
    {
     "data": {
      "text/html": [
       "<div>\n",
       "<style scoped>\n",
       "    .dataframe tbody tr th:only-of-type {\n",
       "        vertical-align: middle;\n",
       "    }\n",
       "\n",
       "    .dataframe tbody tr th {\n",
       "        vertical-align: top;\n",
       "    }\n",
       "\n",
       "    .dataframe thead th {\n",
       "        text-align: right;\n",
       "    }\n",
       "</style>\n",
       "<table border=\"1\" class=\"dataframe\">\n",
       "  <thead>\n",
       "    <tr style=\"text-align: right;\">\n",
       "      <th></th>\n",
       "      <th>optimal</th>\n",
       "      <th>std</th>\n",
       "      <th>perc_std</th>\n",
       "      <th>pmin</th>\n",
       "      <th>pmax</th>\n",
       "      <th>initial</th>\n",
       "      <th>parray</th>\n",
       "    </tr>\n",
       "  </thead>\n",
       "  <tbody>\n",
       "    <tr>\n",
       "      <th>kaq0</th>\n",
       "      <td>38.049245</td>\n",
       "      <td>5.246156e-01</td>\n",
       "      <td>1.378781</td>\n",
       "      <td>-inf</td>\n",
       "      <td>inf</td>\n",
       "      <td>10</td>\n",
       "      <td>[38.04924492630655]</td>\n",
       "    </tr>\n",
       "    <tr>\n",
       "      <th>Saq0</th>\n",
       "      <td>0.000001</td>\n",
       "      <td>2.017587e-07</td>\n",
       "      <td>16.182197</td>\n",
       "      <td>0.0</td>\n",
       "      <td>inf</td>\n",
       "      <td>0.0001</td>\n",
       "      <td>[1.2467942267502252e-06]</td>\n",
       "    </tr>\n",
       "  </tbody>\n",
       "</table>\n",
       "</div>"
      ],
      "text/plain": [
       "        optimal           std   perc_std  pmin  pmax initial  \\\n",
       "kaq0  38.049245  5.246156e-01   1.378781  -inf   inf      10   \n",
       "Saq0   0.000001  2.017587e-07  16.182197   0.0   inf  0.0001   \n",
       "\n",
       "                        parray  \n",
       "kaq0       [38.04924492630655]  \n",
       "Saq0  [1.2467942267502252e-06]  "
      ]
     },
     "metadata": {},
     "output_type": "display_data"
    },
    {
     "name": "stdout",
     "output_type": "stream",
     "text": [
      "rmse: 0.2718221718025616\n"
     ]
    }
   ],
   "source": [
    "display(ca_2.parameters)\n",
    "print('rmse:', ca_2.rmse())"
   ]
  },
  {
   "cell_type": "markdown",
   "metadata": {},
   "source": [
    "The parameters are quite different from the first two models. We can also see that the errors have increased significantly. Let's plot the model results with the observations and check why we have large errors:"
   ]
  },
  {
   "cell_type": "code",
   "execution_count": 16,
   "metadata": {},
   "outputs": [
    {
     "data": {
      "image/png": "[encoded data removed]",
      "text/plain": [
       "<Figure size 720x504 with 1 Axes>"
      ]
     },
     "metadata": {
      "needs_background": "light"
     },
     "output_type": "display_data"
    }
   ],
   "source": [
    "hm1_2 = ml.head(r, 0, t1)\n",
    "hm2_2 = ml.head(0, 0, t2)\n",
    "plt.figure(figsize = (10, 7))\n",
    "plt.semilogx(t1, hm1_2[0], label = 'ttim model results - obs 1')\n",
    "plt.semilogx(t1, h1, '.', label = 'obs1')\n",
    "plt.semilogx(t2, hm2_2[0], label = 'ttim model results - well 3')\n",
    "plt.semilogx(t2, h2, '.', label = 'well3')\n",
    "plt.xlabel('time [d]')\n",
    "plt.ylabel('drawdown [m]')\n",
    "plt.suptitle('Model Prediction vs Observations - Calibration 3')\n",
    "plt.legend();"
   ]
  },
  {
   "cell_type": "markdown",
   "metadata": {},
   "source": [
    "As seen in the Figure above, TTim could not adjust both curves simultaneously and ended up fitting only Well 3.\n",
    "\n",
    "Fortunately, in TTim, we can improve this fit by simulating skin resistance and wellbore storage."
   ]
  },
  {
   "cell_type": "markdown",
   "metadata": {},
   "source": [
    "### Step 5.4. Model Calibration with skin resistance and wellbore storage"
   ]
  },
  {
   "cell_type": "markdown",
   "metadata": {},
   "source": [
    "For this, we create a new model and add two extra parameters to the ```Well``` object:\n",
    "\n",
    "* The radius of the caisson ```rc```, which we use to simulate wellbore storage. In this case, we use a value in meters (float). The function of the radius of the caisson to account for wellbore storage is explained in the previous notebook: [Confined 1 - Oude Korendijk](confined1_oude_korendijk);\n",
    "* The skin resistance ```res```, a float value unit of time (in our case days). The effect of the skin resistance is explained in [Confined 1 - Oude Korendijk](confined1_oude_korendijk)."
   ]
  },
  {
   "cell_type": "code",
   "execution_count": 17,
   "metadata": {
    "scrolled": true
   },
   "outputs": [
    {
     "name": "stdout",
     "output_type": "stream",
     "text": [
      "self.neq  1\n",
      "solution complete\n"
     ]
    }
   ],
   "source": [
    "ml_2 = ModelMaq(kaq=10, z=[0, b], Saq=0.001, tmin=0.001, tmax=1, topboundary='conf')\n",
    "w_2 = Well(ml_2, xw=0, yw=0, rw=rw, rc=0.2, res=0.2, tsandQ=[(0, Q)], layers=0)\n",
    "ml_2.solve()"
   ]
  },
  {
   "cell_type": "markdown",
   "metadata": {},
   "source": [
    "Here we use the method ```.set_parameter_by_reference``` to calibrate the ```rc``` and ```res``` parameters in our well.\n",
    "\n",
    "```.set_parameter_by_reference``` takes the following arguments:\n",
    "* ```name```: a string of the parameter name\n",
    "* ```parameter```: numpy-array with the parameter to be optimized. It should be specified as a reference, for example, in our case: ```w1.rc[0:]``` referencing to the parameter ```rc``` in object ```w1```.\n",
    "* ```initial```: float with the initial guess for the parameter value.\n",
    "* ```pmin``` and ```pmax```: floats with the minimum and maximum values allowed. If not specified, these will be ```-np.inf``` and ```np.inf```."
   ]
  },
  {
   "cell_type": "code",
   "execution_count": 18,
   "metadata": {
    "scrolled": true
   },
   "outputs": [
    {
     "name": "stdout",
     "output_type": "stream",
     "text": [
      "..........................................................................................................................................................................\n",
      "Fit succeeded.\n",
      "[[Fit Statistics]]\n",
      "    # fitting method   = leastsq\n",
      "    # function evals   = 167\n",
      "    # data points      = 36\n",
      "    # variables        = 4\n",
      "    chi-square         = 1.29523845\n",
      "    reduced chi-square = 0.04047620\n",
      "    Akaike info crit   = -111.693669\n",
      "    Bayesian info crit = -105.359593\n",
      "[[Variables]]\n",
      "    kaq0:  38.2954013 +/- 0.45405886 (1.19%) (init = 10)\n",
      "    Saq0:  8.9464e-07 +/- 1.2110e-07 (13.54%) (init = 0.0001)\n",
      "    res:   1.8158e-05 +/- 0.04780765 (263282.83%) (init = 0.2)\n",
      "    rc:    0.42232000 +/- 0.24974950 (59.14%) (init = 0.2)\n",
      "[[Correlations]] (unreported correlations are < 0.100)\n",
      "    C(res, rc)    = -0.994\n",
      "    C(kaq0, Saq0) = -0.756\n",
      "    C(kaq0, res)  =  0.485\n",
      "    C(kaq0, rc)   = -0.484\n",
      "    C(Saq0, res)  = -0.257\n",
      "    C(Saq0, rc)   =  0.227\n"
     ]
    }
   ],
   "source": [
    "ca_3 = Calibrate(ml_2)\n",
    "ca_3.set_parameter(name = 'kaq0', initial = 10)\n",
    "ca_3.set_parameter(name = 'Saq0', initial = 1e-4, pmin=0)\n",
    "ca_3.set_parameter_by_reference(name='res', parameter=w_2.res, initial =0.2, pmin = 0) # Here we add pmin = 0 to avoid unrealistic values\n",
    "ca_3.set_parameter_by_reference(name='rc', parameter=w_2.rc, initial = 0.2)\n",
    "ca_3.series(name='obs1', x=r, y=0, t=t1, h=h1, layer=0)\n",
    "ca_3.series(name='obs3', x=0, y=0, t=t2, h=h2, layer=0)\n",
    "ca_3.fit(report=True)"
   ]
  },
  {
   "cell_type": "markdown",
   "metadata": {},
   "source": [
    "<a id='adjusted_pars_ca_3'></a>"
   ]
  },
  {
   "cell_type": "code",
   "execution_count": 19,
   "metadata": {
    "scrolled": true
   },
   "outputs": [
    {
     "data": {
      "text/html": [
       "<div>\n",
       "<style scoped>\n",
       "    .dataframe tbody tr th:only-of-type {\n",
       "        vertical-align: middle;\n",
       "    }\n",
       "\n",
       "    .dataframe tbody tr th {\n",
       "        vertical-align: top;\n",
       "    }\n",
       "\n",
       "    .dataframe thead th {\n",
       "        text-align: right;\n",
       "    }\n",
       "</style>\n",
       "<table border=\"1\" class=\"dataframe\">\n",
       "  <thead>\n",
       "    <tr style=\"text-align: right;\">\n",
       "      <th></th>\n",
       "      <th>optimal</th>\n",
       "      <th>std</th>\n",
       "      <th>perc_std</th>\n",
       "      <th>pmin</th>\n",
       "      <th>pmax</th>\n",
       "      <th>initial</th>\n",
       "      <th>parray</th>\n",
       "    </tr>\n",
       "  </thead>\n",
       "  <tbody>\n",
       "    <tr>\n",
       "      <th>kaq0</th>\n",
       "      <td>38.295401</td>\n",
       "      <td>4.540589e-01</td>\n",
       "      <td>1.185675</td>\n",
       "      <td>-inf</td>\n",
       "      <td>inf</td>\n",
       "      <td>10</td>\n",
       "      <td>[38.29540128058108]</td>\n",
       "    </tr>\n",
       "    <tr>\n",
       "      <th>Saq0</th>\n",
       "      <td>0.000001</td>\n",
       "      <td>1.210977e-07</td>\n",
       "      <td>13.535842</td>\n",
       "      <td>0.0</td>\n",
       "      <td>inf</td>\n",
       "      <td>0.0001</td>\n",
       "      <td>[8.946445679836046e-07]</td>\n",
       "    </tr>\n",
       "    <tr>\n",
       "      <th>res</th>\n",
       "      <td>0.000018</td>\n",
       "      <td>4.780765e-02</td>\n",
       "      <td>263282.826519</td>\n",
       "      <td>0.0</td>\n",
       "      <td>inf</td>\n",
       "      <td>0.2</td>\n",
       "      <td>[1.8158287891090197e-05]</td>\n",
       "    </tr>\n",
       "    <tr>\n",
       "      <th>rc</th>\n",
       "      <td>0.42232</td>\n",
       "      <td>2.497495e-01</td>\n",
       "      <td>59.137501</td>\n",
       "      <td>-inf</td>\n",
       "      <td>inf</td>\n",
       "      <td>0.2</td>\n",
       "      <td>[0.42232000151667526]</td>\n",
       "    </tr>\n",
       "  </tbody>\n",
       "</table>\n",
       "</div>"
      ],
      "text/plain": [
       "        optimal           std       perc_std  pmin  pmax initial  \\\n",
       "kaq0  38.295401  4.540589e-01       1.185675  -inf   inf      10   \n",
       "Saq0   0.000001  1.210977e-07      13.535842   0.0   inf  0.0001   \n",
       "res    0.000018  4.780765e-02  263282.826519   0.0   inf     0.2   \n",
       "rc      0.42232  2.497495e-01      59.137501  -inf   inf     0.2   \n",
       "\n",
       "                        parray  \n",
       "kaq0       [38.29540128058108]  \n",
       "Saq0   [8.946445679836046e-07]  \n",
       "res   [1.8158287891090197e-05]  \n",
       "rc       [0.42232000151667526]  "
      ]
     },
     "metadata": {},
     "output_type": "display_data"
    },
    {
     "name": "stdout",
     "output_type": "stream",
     "text": [
      "rmse: 0.18968090519925107\n"
     ]
    }
   ],
   "source": [
    "display(ca_3.parameters)\n",
    "print('rmse:', ca_3.rmse())"
   ]
  },
  {
   "cell_type": "code",
   "execution_count": 20,
   "metadata": {},
   "outputs": [
    {
     "data": {
      "image/png": "[encoded data removed]",
      "text/plain": [
       "<Figure size 720x504 with 1 Axes>"
      ]
     },
     "metadata": {
      "needs_background": "light"
     },
     "output_type": "display_data"
    }
   ],
   "source": [
    "hm1_3 = ml_2.head(r, 0, t1)\n",
    "hm2_3 = ml_2.head(0, 0, t2)\n",
    "plt.figure(figsize = (10, 7))\n",
    "plt.semilogx(t1, hm1_3[0], label = 'ttim model results - obs 1')\n",
    "plt.semilogx(t1, h1, '.', label = 'obs1')\n",
    "plt.semilogx(t2, hm2_3[0], label = 'ttim model results - well 3')\n",
    "plt.semilogx(t2, h2, '.', label = 'well3')\n",
    "plt.xlabel('time [d]')\n",
    "plt.ylabel('drawdown [m]')\n",
    "plt.suptitle('Model Prediction vs Observations - Calibration 4')\n",
    "plt.legend();"
   ]
  },
  {
   "cell_type": "markdown",
   "metadata": {},
   "source": [
    "Here, we see in the picture that we have significantly improved both models by adding the resistance and the wellbore storage. We can make a critique of our current model that the adjusted resistance value is too low and with a very high standard deviation ([adjusted parameters](#adjusted_pars_ca_3)). Let's now disregard the skin resistance and check our model performance."
   ]
  },
  {
   "cell_type": "markdown",
   "metadata": {},
   "source": [
    "## Step 5.5. Model Calibration with wellbore storage"
   ]
  },
  {
   "cell_type": "markdown",
   "metadata": {},
   "source": [
    "We start by creating a model and adding a well with no resistance:"
   ]
  },
  {
   "cell_type": "code",
   "execution_count": 21,
   "metadata": {},
   "outputs": [
    {
     "name": "stdout",
     "output_type": "stream",
     "text": [
      "self.neq  1\n",
      "solution complete\n"
     ]
    }
   ],
   "source": [
    "ml_3 = ModelMaq(kaq=10, z=[0, b], Saq=0.001, tmin=0.001, tmax=1, topboundary='conf')\n",
    "w_3 = Well(ml_3, xw=0, yw=0, rw=rw, rc=0.2, res=0, tsandQ=[(0, Q)], layers=0)\n",
    "ml_3.solve()"
   ]
  },
  {
   "cell_type": "markdown",
   "metadata": {},
   "source": [
    "Now we calibrate without changing the resistance parameter"
   ]
  },
  {
   "cell_type": "code",
   "execution_count": 22,
   "metadata": {},
   "outputs": [
    {
     "name": "stdout",
     "output_type": "stream",
     "text": [
      "......................................\n",
      "Fit succeeded.\n",
      "[[Fit Statistics]]\n",
      "    # fitting method   = leastsq\n",
      "    # function evals   = 35\n",
      "    # data points      = 36\n",
      "    # variables        = 3\n",
      "    chi-square         = 1.29522313\n",
      "    reduced chi-square = 0.03924919\n",
      "    Akaike info crit   = -113.694094\n",
      "    Bayesian info crit = -108.943538\n",
      "[[Variables]]\n",
      "    kaq0:  38.2996368 +/- 0.39116038 (1.02%) (init = 10)\n",
      "    Saq0:  8.9398e-07 +/- 1.1517e-07 (12.88%) (init = 0.0001)\n",
      "    rc:    0.42216722 +/- 0.02779097 (6.58%) (init = 0.2)\n",
      "[[Correlations]] (unreported correlations are < 0.100)\n",
      "    C(kaq0, Saq0) = -0.747\n",
      "    C(Saq0, rc)   = -0.267\n"
     ]
    }
   ],
   "source": [
    "ca_4 = Calibrate(ml_3)\n",
    "ca_4.set_parameter(name = 'kaq0', initial = 10)\n",
    "ca_4.set_parameter(name = 'Saq0', initial = 1e-4, pmin=0)\n",
    "ca_4.set_parameter_by_reference(name='rc', parameter=w_3.rc, initial = 0.2)\n",
    "ca_4.series(name='obs1', x=r, y=0, t=t1, h=h1, layer=0)\n",
    "ca_4.series(name='obs3', x=0, y=0, t=t2, h=h2, layer=0)\n",
    "ca_4.fit(report=True)"
   ]
  },
  {
   "cell_type": "code",
   "execution_count": 23,
   "metadata": {},
   "outputs": [
    {
     "data": {
      "text/html": [
       "<div>\n",
       "<style scoped>\n",
       "    .dataframe tbody tr th:only-of-type {\n",
       "        vertical-align: middle;\n",
       "    }\n",
       "\n",
       "    .dataframe tbody tr th {\n",
       "        vertical-align: top;\n",
       "    }\n",
       "\n",
       "    .dataframe thead th {\n",
       "        text-align: right;\n",
       "    }\n",
       "</style>\n",
       "<table border=\"1\" class=\"dataframe\">\n",
       "  <thead>\n",
       "    <tr style=\"text-align: right;\">\n",
       "      <th></th>\n",
       "      <th>optimal</th>\n",
       "      <th>std</th>\n",
       "      <th>perc_std</th>\n",
       "      <th>pmin</th>\n",
       "      <th>pmax</th>\n",
       "      <th>initial</th>\n",
       "      <th>parray</th>\n",
       "    </tr>\n",
       "  </thead>\n",
       "  <tbody>\n",
       "    <tr>\n",
       "      <th>kaq0</th>\n",
       "      <td>38.299637</td>\n",
       "      <td>3.911604e-01</td>\n",
       "      <td>1.021316</td>\n",
       "      <td>-inf</td>\n",
       "      <td>inf</td>\n",
       "      <td>10</td>\n",
       "      <td>[38.29963675843964]</td>\n",
       "    </tr>\n",
       "    <tr>\n",
       "      <th>Saq0</th>\n",
       "      <td>0.000001</td>\n",
       "      <td>1.151668e-07</td>\n",
       "      <td>12.882509</td>\n",
       "      <td>0.0</td>\n",
       "      <td>inf</td>\n",
       "      <td>0.0001</td>\n",
       "      <td>[8.939776934280275e-07]</td>\n",
       "    </tr>\n",
       "    <tr>\n",
       "      <th>rc</th>\n",
       "      <td>0.422167</td>\n",
       "      <td>2.779097e-02</td>\n",
       "      <td>6.582929</td>\n",
       "      <td>-inf</td>\n",
       "      <td>inf</td>\n",
       "      <td>0.2</td>\n",
       "      <td>[0.4221672163450589]</td>\n",
       "    </tr>\n",
       "  </tbody>\n",
       "</table>\n",
       "</div>"
      ],
      "text/plain": [
       "        optimal           std   perc_std  pmin  pmax initial  \\\n",
       "kaq0  38.299637  3.911604e-01   1.021316  -inf   inf      10   \n",
       "Saq0   0.000001  1.151668e-07  12.882509   0.0   inf  0.0001   \n",
       "rc     0.422167  2.779097e-02   6.582929  -inf   inf     0.2   \n",
       "\n",
       "                       parray  \n",
       "kaq0      [38.29963675843964]  \n",
       "Saq0  [8.939776934280275e-07]  \n",
       "rc       [0.4221672163450589]  "
      ]
     },
     "metadata": {},
     "output_type": "display_data"
    },
    {
     "name": "stdout",
     "output_type": "stream",
     "text": [
      "rmse: 0.1896797836517614\n"
     ]
    }
   ],
   "source": [
    "display(ca_4.parameters)\n",
    "print('rmse:', ca_4.rmse())"
   ]
  },
  {
   "cell_type": "markdown",
   "metadata": {},
   "source": [
    "Here we can see that we got very similar results from the previous models. The standard deviations are also in a reasonable range. As pointed out by Yang (2020), without skin resistance, we have a lower AIC (-113 versus -111). Thus, the skin resistance does not add information to the model, and the current model is preferred."
   ]
  },
  {
   "cell_type": "markdown",
   "metadata": {},
   "source": [
    "## Step 6. Comparison of Results"
   ]
  },
  {
   "cell_type": "markdown",
   "metadata": {},
   "source": [
    "### Step 6.1. Error comparison and model selection"
   ]
  },
  {
   "cell_type": "markdown",
   "metadata": {},
   "source": [
    "Some of the fit statistics are stored in the ```fitresult``` attribute of the calibration object. This object is a lmfit ```MinimizerResult``` object. ```lmfit``` is the python library doing the calibration for TTim behind the scenes. We accessed below the AIC and BIC values of this object.\n",
    "\n",
    "Check the lmfit documentation (Newville et al. 2014) to learn more about this object and lmfit."
   ]
  },
  {
   "cell_type": "code",
   "execution_count": 24,
   "metadata": {},
   "outputs": [
    {
     "data": {
      "text/html": [
       "<style  type=\"text/css\" >\n",
       "</style><table id=\"T_4d181_\" ><caption>Fit statistics for the tested models</caption><thead>    <tr>        <th class=\"blank level0\" ></th>        <th class=\"col_heading level0 col0\" >RMSE</th>        <th class=\"col_heading level0 col1\" >AIC</th>        <th class=\"col_heading level0 col2\" >BIC</th>        <th class=\"col_heading level0 col3\" >Calibration scheme</th>    </tr></thead><tbody>\n",
       "                <tr>\n",
       "                        <th id=\"T_4d181_level0_row0\" class=\"row_heading level0 row0\" >Model 1</th>\n",
       "                        <td id=\"T_4d181_row0_col0\" class=\"data row0 col0\" >0.027816</td>\n",
       "                        <td id=\"T_4d181_row0_col1\" class=\"data row0 col1\" >-153.614991</td>\n",
       "                        <td id=\"T_4d181_row0_col2\" class=\"data row0 col2\" >-151.432906</td>\n",
       "                        <td id=\"T_4d181_row0_col3\" class=\"data row0 col3\" >Obs 1</td>\n",
       "            </tr>\n",
       "            <tr>\n",
       "                        <th id=\"T_4d181_level0_row1\" class=\"row_heading level0 row1\" >Model 2</th>\n",
       "                        <td id=\"T_4d181_row1_col0\" class=\"data row1 col0\" >0.055958</td>\n",
       "                        <td id=\"T_4d181_row1_col1\" class=\"data row1 col1\" >-76.728437</td>\n",
       "                        <td id=\"T_4d181_row1_col2\" class=\"data row1 col2\" >-75.450322</td>\n",
       "                        <td id=\"T_4d181_row1_col3\" class=\"data row1 col3\" >Well 3</td>\n",
       "            </tr>\n",
       "            <tr>\n",
       "                        <th id=\"T_4d181_level0_row2\" class=\"row_heading level0 row2\" >Model 3</th>\n",
       "                        <td id=\"T_4d181_row2_col0\" class=\"data row2 col0\" >0.271822</td>\n",
       "                        <td id=\"T_4d181_row2_col1\" class=\"data row2 col1\" >-89.787719</td>\n",
       "                        <td id=\"T_4d181_row2_col2\" class=\"data row2 col2\" >-86.620681</td>\n",
       "                        <td id=\"T_4d181_row2_col3\" class=\"data row2 col3\" >Obs 1 + Well 3</td>\n",
       "            </tr>\n",
       "            <tr>\n",
       "                        <th id=\"T_4d181_level0_row3\" class=\"row_heading level0 row3\" >Model 4</th>\n",
       "                        <td id=\"T_4d181_row3_col0\" class=\"data row3 col0\" >0.189681</td>\n",
       "                        <td id=\"T_4d181_row3_col1\" class=\"data row3 col1\" >-111.693669</td>\n",
       "                        <td id=\"T_4d181_row3_col2\" class=\"data row3 col2\" >-105.359593</td>\n",
       "                        <td id=\"T_4d181_row3_col3\" class=\"data row3 col3\" >Obs 1 + Well 3, res + rc</td>\n",
       "            </tr>\n",
       "            <tr>\n",
       "                        <th id=\"T_4d181_level0_row4\" class=\"row_heading level0 row4\" >Model 5</th>\n",
       "                        <td id=\"T_4d181_row4_col0\" class=\"data row4 col0\" >0.189680</td>\n",
       "                        <td id=\"T_4d181_row4_col1\" class=\"data row4 col1\" >-113.694094</td>\n",
       "                        <td id=\"T_4d181_row4_col2\" class=\"data row4 col2\" >-108.943538</td>\n",
       "                        <td id=\"T_4d181_row4_col3\" class=\"data row4 col3\" >Obs 1 + Well 3, rc</td>\n",
       "            </tr>\n",
       "    </tbody></table>"
      ],
      "text/plain": [
       "<pandas.io.formats.style.Styler at 0x231cd86a6d0>"
      ]
     },
     "execution_count": 24,
     "metadata": {},
     "output_type": "execute_result"
    }
   ],
   "source": [
    "t = pd.DataFrame(columns = ['RMSE', 'AIC', 'BIC','Calibration scheme'], index = ['Model 1', 'Model 2', 'Model 3', 'Model 4', 'Model 5'])\n",
    "\n",
    "t['RMSE'] = [ca_0.rmse(), ca_1.rmse(), ca_2.rmse(), ca_3.rmse(), ca_4.rmse()]\n",
    "\n",
    "t['AIC'] = [ca_0.fitresult.aic, ca_1.fitresult.aic, ca_2.fitresult.aic, ca_3.fitresult.aic, ca_4.fitresult.aic]\n",
    "\n",
    "t['BIC'] = [ca_0.fitresult.bic, ca_1.fitresult.bic, ca_2.fitresult.bic, ca_3.fitresult.bic, ca_4.fitresult.bic]\n",
    "\n",
    "t['Calibration scheme'] = [\"Obs 1\", \"Well 3\",\"Obs 1 + Well 3\", \"Obs 1 + Well 3, res + rc\", \"Obs 1 + Well 3, rc\"]\n",
    "t.style.set_caption(\"Fit statistics for the tested models\")"
   ]
  },
  {
   "cell_type": "markdown",
   "metadata": {},
   "source": [
    "The first model had overall better statistics with lower RMSE and AIC, BIC. However, it does not fit with the data in the pumping well. Therefore if we were to update the statistics with the residuals from the pumping well, this result would be worse.\n",
    "Comparing the models estimated with both drawdowns, the last model performed best. It has a larger RMSE than the one-well models, however less bias as it fits well both datasets. Another highlight is the lower AIC and BIC values."
   ]
  },
  {
   "cell_type": "markdown",
   "metadata": {},
   "source": [
    "### Step 6.2. Comparison of TTim model performance with values simulated by AQTESOLV and MLU"
   ]
  },
  {
   "cell_type": "markdown",
   "metadata": {},
   "source": [
    "The results simulated by different methods with two datasets simultaneously are presented below. Furthermore, Yang (2020) compared TTim results with the results obtained from the software AQTESOLV (Duffield, 2007) and MLU (Carlson & Randall, 2012). In both software, the model was calibrated with both the pumping well and observation well data."
   ]
  },
  {
   "cell_type": "code",
   "execution_count": 25,
   "metadata": {},
   "outputs": [
    {
     "data": {
      "text/html": [
       "<div>\n",
       "<style scoped>\n",
       "    .dataframe tbody tr th:only-of-type {\n",
       "        vertical-align: middle;\n",
       "    }\n",
       "\n",
       "    .dataframe tbody tr th {\n",
       "        vertical-align: top;\n",
       "    }\n",
       "\n",
       "    .dataframe thead th {\n",
       "        text-align: right;\n",
       "    }\n",
       "</style>\n",
       "<table border=\"1\" class=\"dataframe\">\n",
       "  <thead>\n",
       "    <tr style=\"text-align: right;\">\n",
       "      <th></th>\n",
       "      <th>k [m/d]</th>\n",
       "      <th>Ss [1/m]</th>\n",
       "      <th>rc</th>\n",
       "      <th>RMSE</th>\n",
       "    </tr>\n",
       "  </thead>\n",
       "  <tbody>\n",
       "    <tr>\n",
       "      <th>MLU</th>\n",
       "      <td>38.094</td>\n",
       "      <td>0.000001</td>\n",
       "      <td>-</td>\n",
       "      <td>0.26</td>\n",
       "    </tr>\n",
       "    <tr>\n",
       "      <th>AQTESOLV</th>\n",
       "      <td>37.803</td>\n",
       "      <td>0.000001</td>\n",
       "      <td>-</td>\n",
       "      <td>0.27</td>\n",
       "    </tr>\n",
       "    <tr>\n",
       "      <th>ttim</th>\n",
       "      <td>38.049245</td>\n",
       "      <td>0.000001</td>\n",
       "      <td>-</td>\n",
       "      <td>0.27</td>\n",
       "    </tr>\n",
       "    <tr>\n",
       "      <th>ttim-rc</th>\n",
       "      <td>38.299637</td>\n",
       "      <td>0.000001</td>\n",
       "      <td>0.422167</td>\n",
       "      <td>0.19</td>\n",
       "    </tr>\n",
       "  </tbody>\n",
       "</table>\n",
       "</div>"
      ],
      "text/plain": [
       "            k [m/d]  Ss [1/m]        rc  RMSE\n",
       "MLU          38.094  0.000001         -  0.26\n",
       "AQTESOLV     37.803  0.000001         -  0.27\n",
       "ttim      38.049245  0.000001         -  0.27\n",
       "ttim-rc   38.299637  0.000001  0.422167  0.19"
      ]
     },
     "execution_count": 25,
     "metadata": {},
     "output_type": "execute_result"
    }
   ],
   "source": [
    "t = pd.DataFrame(columns=['k [m/d]', 'Ss [1/m]', 'rc'], \\\n",
    "                index=['MLU', 'AQTESOLV', 'ttim', 'ttim-rc'])\n",
    "t.loc['MLU'] = [38.094, 1.193E-06, '-']\n",
    "t.loc['AQTESOLV'] = [37.803, 1.356E-06, '-']\n",
    "t.loc['ttim'] = np.append(ca_2.parameters['optimal'].values, '-')\n",
    "t.loc['ttim-rc'] = ca_4.parameters['optimal'].values \n",
    "t['RMSE'] = [0.259, 0.270, ca_2.rmse(), ca_4.rmse()]\n",
    "t.round(2)"
   ]
  },
  {
   "cell_type": "markdown",
   "metadata": {},
   "source": [
    "We see good agreement between model results in both hydraulic conductivity and specific storage values. TTim was able to calculate a better fit with wellbore storage added."
   ]
  },
  {
   "cell_type": "code",
   "execution_count": 35,
   "metadata": {},
   "outputs": [
    {
     "data": {
      "image/png": "[encoded data removed]",
      "text/plain": [
       "<Figure size 720x504 with 1 Axes>"
      ]
     },
     "metadata": {
      "needs_background": "light"
     },
     "output_type": "display_data"
    }
   ],
   "source": [
    "# Preparing the DataFrame:\n",
    "t1 = pd.DataFrame(columns=['kaq - opt', 'kaq - 95%'], index = ['MLU','AQTESOLV','TTim','TTim - rc']) \n",
    "simulation = ['MLU','AQTESOLV','TTim','TTim - rc']\n",
    "t1.loc['MLU'] = [38.094, 2.622*1e-2*38.094]\n",
    "t1.loc['AQTESOLV'] = [37.803, 2.745*1e-2*37.803]\n",
    "t1.loc['TTim'] = [ca_2.parameters.loc['kaq0','optimal'],2*ca_2.parameters.loc['kaq0','std']]\n",
    "t1.loc['TTim - rc'] = [ca_4.parameters.loc['kaq0','optimal'],2*ca_4.parameters.loc['kaq0','std']]\n",
    "\n",
    "# Plotting\n",
    "\n",
    "plt.figure(figsize = (10,7))\n",
    "\n",
    "plt.errorbar(x = t1.index, y = t1['kaq - opt'], yerr = [t1['kaq - 95%'], t1['kaq - 95%']],\n",
    "    marker='o', linestyle='', markersize=12)\n",
    "#plt.legend()\n",
    "plt.suptitle(\"Error bar plot of calibrated hydraulic conductivities\")\n",
    "plt.ylabel('K [m/d]')\n",
    "plt.ylim([36,40])\n",
    "plt.xlabel('Model');"
   ]
  },
  {
   "cell_type": "markdown",
   "metadata": {},
   "source": [
    "Error bar plot shows that TTim has similar confidence intervals to the other models. The model with wellbore storage has a slightly smaller error range."
   ]
  },
  {
   "cell_type": "markdown",
   "metadata": {},
   "source": [
    "## References"
   ]
  },
  {
   "cell_type": "markdown",
   "metadata": {},
   "source": [
    "* Carlson F, Randall J (2012) MLU: a Windows application for the analysis of aquifer tests and the design of well fields in layered systems. Ground Water 50(4):504–510\n",
    "* Duffield, G.M., 2007. AQTESOLV for Windows Version 4.5 User's Guide, HydroSOLVE, Inc., Reston, VA.\n",
    "* Newville, M.,Stensitzki, T., Allen, D.B., Ingargiola, A. (2014) LMFIT: Non Linear Least-Squares Minimization and Curve Fitting for Python.https://dx.doi.org/10.5281/zenodo.11813. https://lmfit.github.io/lmfit-py/intro.html (last access: August,2021).\n",
    "* Walton, W.C., 1962. Selected analytical methods for well and aquifer evaluation. Illinois.department of Registration & Education.bulletin 49.\n",
    "* Yang, Xinzhu (2020) Application and comparison of different methodsfor aquifer test analysis using TTim. Master Thesis, Delft University of Technology (TUDelft), Delft, The Netherlands."
   ]
  },
  {
   "cell_type": "markdown",
   "metadata": {},
   "source": [
    "#### Next Notebook: [Confined 3 - Sioux](confined3_sioux.ipynb)"
   ]
  }
 ],
 "metadata": {
  "kernelspec": {
   "display_name": "Python 3 (ipykernel)",
   "language": "python",
   "name": "python3"
  },
  "language_info": {
   "codemirror_mode": {
    "name": "ipython",
    "version": 3
   },
   "file_extension": ".py",
   "mimetype": "text/x-python",
   "name": "python",
   "nbconvert_exporter": "python",
   "pygments_lexer": "ipython3",
   "version": "3.8.12"
  }
 },
 "nbformat": 4,
 "nbformat_minor": 4
}
