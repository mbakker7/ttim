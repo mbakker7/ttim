{
 "cells": [
  {
   "cell_type": "markdown",
   "metadata": {},
   "source": [
    "# Confined Aquifer Test\n",
    "**This test is taken from examples presented in MLU tutorial.**"
   ]
  },
  {
   "cell_type": "code",
   "execution_count": 1,
   "metadata": {},
   "outputs": [],
   "source": [
    "%matplotlib inline\n",
    "import numpy as np\n",
    "import matplotlib.pyplot as plt\n",
    "import pandas as pd\n",
    "from ttim import *"
   ]
  },
  {
   "cell_type": "markdown",
   "metadata": {},
   "source": [
    "The test is condected at a fully confined two-aquifer system. Both the pumping well and the observation piezometer are screened at the second aquifer."
   ]
  },
  {
   "cell_type": "markdown",
   "metadata": {},
   "source": [
    "Set basic parameters:"
   ]
  },
  {
   "cell_type": "code",
   "execution_count": 2,
   "metadata": {},
   "outputs": [],
   "source": [
    "Q = 82.08 #constant discharge in m^3/d\n",
    "zt0 = -46 #top boundary of upper aquifer in m\n",
    "zb0 = -49 #bottom boundary of upper aquifer in m\n",
    "zt1 = -52 #top boundary of lower aquifer in m\n",
    "zb1 = -55 #bottom boundary of lower aquifer in m\n",
    "rw = 0.05 #well radius in m"
   ]
  },
  {
   "cell_type": "markdown",
   "metadata": {},
   "source": [
    "Load data of two observation wells:"
   ]
  },
  {
   "cell_type": "code",
   "execution_count": 3,
   "metadata": {},
   "outputs": [],
   "source": [
    "data1 = np.loadtxt('data/schroth_obs1.txt', skiprows = 1)\n",
    "t1 = data1[:, 0]\n",
    "h1 = data1[:, 1]\n",
    "r1 = 0 \n",
    "data2 = np.loadtxt('data/schroth_obs2.txt', skiprows = 1)\n",
    "t2 = data2[:, 0]\n",
    "h2 = data2[:, 1]\n",
    "r2 = 46 #distance between observation well2 and pumping well"
   ]
  },
  {
   "cell_type": "markdown",
   "metadata": {},
   "source": [
    "Create single layer model (overlying aquifer and aquitard are excluded):"
   ]
  },
  {
   "cell_type": "code",
   "execution_count": 4,
   "metadata": {},
   "outputs": [
    {
     "name": "stdout",
     "output_type": "stream",
     "text": [
      "self.neq  1\n",
      "solution complete\n"
     ]
    }
   ],
   "source": [
    "ml_0 = ModelMaq(z=[zt1, zb1], kaq=10, Saq=1e-4, tmin=1e-4, tmax=1)\n",
    "w_0 = Well(ml_0, xw=0, yw=0, rw=rw, tsandQ = [(0, Q), (1e+08, 0)])\n",
    "ml_0.solve()"
   ]
  },
  {
   "cell_type": "code",
   "execution_count": 5,
   "metadata": {},
   "outputs": [
    {
     "name": "stdout",
     "output_type": "stream",
     "text": [
      "................................................................................................................\n",
      "Fit succeeded.\n",
      "[[Fit Statistics]]\n",
      "    # fitting method   = leastsq\n",
      "    # function evals   = 109\n",
      "    # data points      = 40\n",
      "    # variables        = 2\n",
      "    chi-square         = 111.249432\n",
      "    reduced chi-square = 2.92761662\n",
      "    Akaike info crit   = 44.9158143\n",
      "    Bayesian info crit = 48.2935732\n",
      "[[Variables]]\n",
      "    kaq0:  1.03194176 +/- 0.10473587 (10.15%) (init = 10)\n",
      "    Saq0:  0.04015834 +/- 0.02030818 (50.57%) (init = 0.0001)\n",
      "[[Correlations]] (unreported correlations are < 0.100)\n",
      "    C(kaq0, Saq0) = -0.931\n"
     ]
    }
   ],
   "source": [
    "ca_0 = Calibrate(ml_0)\n",
    "ca_0.set_parameter(name='kaq0', initial=10)\n",
    "ca_0.set_parameter(name='Saq0', initial=1e-4)\n",
    "ca_0.series(name='obs1', x=r1, y=0, t=t1, h=h1, layer=0)\n",
    "ca_0.series(name='obs2', x=r2, y=0, t=t2, h=h2, layer=0)\n",
    "ca_0.fit(report=True)"
   ]
  },
  {
   "cell_type": "code",
   "execution_count": 6,
   "metadata": {},
   "outputs": [
    {
     "data": {
      "text/html": [
       "<div>\n",
       "<style scoped>\n",
       "    .dataframe tbody tr th:only-of-type {\n",
       "        vertical-align: middle;\n",
       "    }\n",
       "\n",
       "    .dataframe tbody tr th {\n",
       "        vertical-align: top;\n",
       "    }\n",
       "\n",
       "    .dataframe thead th {\n",
       "        text-align: right;\n",
       "    }\n",
       "</style>\n",
       "<table border=\"1\" class=\"dataframe\">\n",
       "  <thead>\n",
       "    <tr style=\"text-align: right;\">\n",
       "      <th></th>\n",
       "      <th>optimal</th>\n",
       "      <th>std</th>\n",
       "      <th>perc_std</th>\n",
       "      <th>pmin</th>\n",
       "      <th>pmax</th>\n",
       "      <th>initial</th>\n",
       "      <th>parray</th>\n",
       "    </tr>\n",
       "  </thead>\n",
       "  <tbody>\n",
       "    <tr>\n",
       "      <td>kaq0</td>\n",
       "      <td>1.03194</td>\n",
       "      <td>0.104736</td>\n",
       "      <td>10.1494</td>\n",
       "      <td>-inf</td>\n",
       "      <td>inf</td>\n",
       "      <td>10</td>\n",
       "      <td>[1.031941763294424]</td>\n",
       "    </tr>\n",
       "    <tr>\n",
       "      <td>Saq0</td>\n",
       "      <td>0.0401583</td>\n",
       "      <td>0.020308</td>\n",
       "      <td>50.5702</td>\n",
       "      <td>-inf</td>\n",
       "      <td>inf</td>\n",
       "      <td>0.0001</td>\n",
       "      <td>[0.04015834492968417]</td>\n",
       "    </tr>\n",
       "  </tbody>\n",
       "</table>\n",
       "</div>"
      ],
      "text/plain": [
       "        optimal       std perc_std  pmin  pmax initial                 parray\n",
       "kaq0    1.03194  0.104736  10.1494  -inf   inf      10    [1.031941763294424]\n",
       "Saq0  0.0401583  0.020308  50.5702  -inf   inf  0.0001  [0.04015834492968417]"
      ]
     },
     "metadata": {},
     "output_type": "display_data"
    },
    {
     "name": "stdout",
     "output_type": "stream",
     "text": [
      "RMSE: 1.6677037475808145\n"
     ]
    }
   ],
   "source": [
    "display(ca_0.parameters)\n",
    "print('RMSE:', ca_0.rmse())"
   ]
  },
  {
   "cell_type": "code",
   "execution_count": 7,
   "metadata": {},
   "outputs": [
    {
     "name": "stderr",
     "output_type": "stream",
     "text": [
      "The PostScript backend does not support transparency; partially transparent artists will be rendered opaque.\n",
      "The PostScript backend does not support transparency; partially transparent artists will be rendered opaque.\n"
     ]
    },
    {
     "data": {
      "image/png": "[encoded data removed]",
      "text/plain": [
       "<Figure size 576x360 with 1 Axes>"
      ]
     },
     "metadata": {
      "needs_background": "light"
     },
     "output_type": "display_data"
    }
   ],
   "source": [
    "hm1_0 = ml_0.head(r1, 0, t1)\n",
    "hm2_0 = ml_0.head(r2, 0, t2)\n",
    "plt.figure(figsize = (8, 5))\n",
    "plt.semilogx(t1, h1, '.', label='obs1')\n",
    "plt.semilogx(t2, h2, '.', label='obs2')\n",
    "plt.semilogx(t1, hm1_0[-1], label='ttim1')\n",
    "plt.semilogx(t2, hm2_0[-1], label='ttim2')\n",
    "plt.xlabel('time(d)')\n",
    "plt.ylabel('head(m)')\n",
    "plt.legend()\n",
    "plt.savefig('C:/Users/DELL/Python Notebook/MT BE/Fig/schroth_one1.eps');"
   ]
  },
  {
   "cell_type": "markdown",
   "metadata": {},
   "source": [
    "To improve model's performance, rc & res are adding:"
   ]
  },
  {
   "cell_type": "code",
   "execution_count": 8,
   "metadata": {
    "scrolled": true
   },
   "outputs": [
    {
     "name": "stdout",
     "output_type": "stream",
     "text": [
      "self.neq  1\n",
      "solution complete\n"
     ]
    }
   ],
   "source": [
    "ml_1 = ModelMaq(z=[zt1, zb1], kaq=10, Saq=1e-4, tmin=1e-4, tmax=1)\n",
    "w_1 = Well(ml_1, xw=0, yw=0, rw=rw, rc=0, res=5, tsandQ = [(0, Q), (1e+08, 0)])\n",
    "ml_1.solve()"
   ]
  },
  {
   "cell_type": "code",
   "execution_count": 9,
   "metadata": {},
   "outputs": [
    {
     "name": "stdout",
     "output_type": "stream",
     "text": [
      ".....................................................................................................................................................................................................................................................................................................................................................................................................................\n",
      "Fit succeeded.\n",
      "[[Fit Statistics]]\n",
      "    # fitting method   = leastsq\n",
      "    # function evals   = 402\n",
      "    # data points      = 40\n",
      "    # variables        = 4\n",
      "    chi-square         = 13.6490004\n",
      "    reduced chi-square = 0.37913890\n",
      "    Akaike info crit   = -35.0085267\n",
      "    Bayesian info crit = -28.2530089\n",
      "[[Variables]]\n",
      "    kaq0:  1.95212728 +/- 0.05269125 (2.70%) (init = 10)\n",
      "    Saq0:  1.1462e-04 +/- 3.3116e-05 (28.89%) (init = 0.0001)\n",
      "    rc:    0.00272166 +/- 0.02445717 (898.61%) (init = 0.2)\n",
      "    res:   35.9712200 +/- 648.602536 (1803.12%) (init = 3)\n",
      "[[Correlations]] (unreported correlations are < 0.100)\n",
      "    C(rc, res)    = -1.000\n",
      "    C(kaq0, Saq0) = -0.864\n",
      "    C(Saq0, rc)   = -0.105\n",
      "    C(Saq0, res)  =  0.104\n"
     ]
    }
   ],
   "source": [
    "ca_1 = Calibrate(ml_1)\n",
    "ca_1.set_parameter(name='kaq0', initial=10)\n",
    "ca_1.set_parameter(name='Saq0', initial=1e-4)\n",
    "ca_1.set_parameter_by_reference(name='rc', parameter=w_1.rc[:], initial=0.2)\n",
    "ca_1.set_parameter_by_reference(name='res', parameter=w_1.res[:], initial=3)\n",
    "ca_1.series(name='obs1', x=r1, y=0, t=t1, h=h1, layer=0)\n",
    "ca_1.series(name='obs2', x=r2, y=0, t=t2, h=h2, layer=0)\n",
    "ca_1.fit(report=True)"
   ]
  },
  {
   "cell_type": "code",
   "execution_count": 10,
   "metadata": {},
   "outputs": [
    {
     "data": {
      "text/html": [
       "<div>\n",
       "<style scoped>\n",
       "    .dataframe tbody tr th:only-of-type {\n",
       "        vertical-align: middle;\n",
       "    }\n",
       "\n",
       "    .dataframe tbody tr th {\n",
       "        vertical-align: top;\n",
       "    }\n",
       "\n",
       "    .dataframe thead th {\n",
       "        text-align: right;\n",
       "    }\n",
       "</style>\n",
       "<table border=\"1\" class=\"dataframe\">\n",
       "  <thead>\n",
       "    <tr style=\"text-align: right;\">\n",
       "      <th></th>\n",
       "      <th>optimal</th>\n",
       "      <th>std</th>\n",
       "      <th>perc_std</th>\n",
       "      <th>pmin</th>\n",
       "      <th>pmax</th>\n",
       "      <th>initial</th>\n",
       "      <th>parray</th>\n",
       "    </tr>\n",
       "  </thead>\n",
       "  <tbody>\n",
       "    <tr>\n",
       "      <td>kaq0</td>\n",
       "      <td>1.95213</td>\n",
       "      <td>0.052691</td>\n",
       "      <td>2.69917</td>\n",
       "      <td>-inf</td>\n",
       "      <td>inf</td>\n",
       "      <td>10</td>\n",
       "      <td>[1.9521272762456596]</td>\n",
       "    </tr>\n",
       "    <tr>\n",
       "      <td>Saq0</td>\n",
       "      <td>0.000114615</td>\n",
       "      <td>0.000033</td>\n",
       "      <td>28.8936</td>\n",
       "      <td>-inf</td>\n",
       "      <td>inf</td>\n",
       "      <td>0.0001</td>\n",
       "      <td>[0.00011461547019049991]</td>\n",
       "    </tr>\n",
       "    <tr>\n",
       "      <td>rc</td>\n",
       "      <td>0.00272166</td>\n",
       "      <td>0.024457</td>\n",
       "      <td>898.614</td>\n",
       "      <td>-inf</td>\n",
       "      <td>inf</td>\n",
       "      <td>0.2</td>\n",
       "      <td>[0.0027216554033511415]</td>\n",
       "    </tr>\n",
       "    <tr>\n",
       "      <td>res</td>\n",
       "      <td>35.9712</td>\n",
       "      <td>648.602536</td>\n",
       "      <td>1803.12</td>\n",
       "      <td>-inf</td>\n",
       "      <td>inf</td>\n",
       "      <td>3</td>\n",
       "      <td>[35.97121995862126]</td>\n",
       "    </tr>\n",
       "  </tbody>\n",
       "</table>\n",
       "</div>"
      ],
      "text/plain": [
       "          optimal         std perc_std  pmin  pmax initial  \\\n",
       "kaq0      1.95213    0.052691  2.69917  -inf   inf      10   \n",
       "Saq0  0.000114615    0.000033  28.8936  -inf   inf  0.0001   \n",
       "rc     0.00272166    0.024457  898.614  -inf   inf     0.2   \n",
       "res       35.9712  648.602536  1803.12  -inf   inf       3   \n",
       "\n",
       "                        parray  \n",
       "kaq0      [1.9521272762456596]  \n",
       "Saq0  [0.00011461547019049991]  \n",
       "rc     [0.0027216554033511415]  \n",
       "res        [35.97121995862126]  "
      ]
     },
     "metadata": {},
     "output_type": "display_data"
    },
    {
     "name": "stdout",
     "output_type": "stream",
     "text": [
      "RMSE: 0.5841446816200618\n"
     ]
    }
   ],
   "source": [
    "display(ca_1.parameters)\n",
    "print('RMSE:', ca_1.rmse())"
   ]
  },
  {
   "cell_type": "code",
   "execution_count": 11,
   "metadata": {},
   "outputs": [
    {
     "name": "stderr",
     "output_type": "stream",
     "text": [
      "The PostScript backend does not support transparency; partially transparent artists will be rendered opaque.\n",
      "The PostScript backend does not support transparency; partially transparent artists will be rendered opaque.\n"
     ]
    },
    {
     "data": {
      "image/png": "[encoded data removed]",
      "text/plain": [
       "<Figure size 576x360 with 1 Axes>"
      ]
     },
     "metadata": {
      "needs_background": "light"
     },
     "output_type": "display_data"
    }
   ],
   "source": [
    "hm1_1 = ml_1.head(r1, 0, t1)\n",
    "hm2_1 = ml_1.head(r2, 0, t2)\n",
    "plt.figure(figsize = (8, 5))\n",
    "plt.semilogx(t1, h1, '.', label='obs1')\n",
    "plt.semilogx(t2, h2, '.', label='obs2')\n",
    "plt.semilogx(t1, hm1_1[-1], label='ttim1')\n",
    "plt.semilogx(t2, hm2_1[-1], label='ttim2')\n",
    "plt.xlabel('time(d)')\n",
    "plt.ylabel('head(m)')\n",
    "plt.legend()\n",
    "plt.savefig('C:/Users/DELL/Python Notebook/MT BE/Fig/schroth_one2.eps');"
   ]
  },
  {
   "cell_type": "markdown",
   "metadata": {},
   "source": [
    "Create three-layer conceptual model:"
   ]
  },
  {
   "cell_type": "code",
   "execution_count": 12,
   "metadata": {},
   "outputs": [
    {
     "name": "stdout",
     "output_type": "stream",
     "text": [
      "self.neq  1\n",
      "solution complete\n"
     ]
    }
   ],
   "source": [
    "ml_2 = ModelMaq(kaq=[17.28, 2], z=[zt0, zb0, zt1, zb1], c=200, Saq=[1.2e-4, 1e-5],\\\n",
    "                 Sll=3e-5, topboundary='conf', tmin=1e-4, tmax=0.5)\n",
    "w_2 = Well(ml_2, xw=0, yw=0, rw=rw, tsandQ = [(0, Q), (1e+08, 0)], layers=1)\n",
    "ml_2.solve()"
   ]
  },
  {
   "cell_type": "code",
   "execution_count": 13,
   "metadata": {},
   "outputs": [
    {
     "name": "stdout",
     "output_type": "stream",
     "text": [
      ".......................................................................................................................................................................................................................................................................................................................................................\n",
      "Fit succeeded.\n",
      "[[Fit Statistics]]\n",
      "    # fitting method   = leastsq\n",
      "    # function evals   = 340\n",
      "    # data points      = 40\n",
      "    # variables        = 6\n",
      "    chi-square         = 20.7597828\n",
      "    reduced chi-square = 0.61058185\n",
      "    Akaike info crit   = -14.2344744\n",
      "    Bayesian info crit = -4.10119767\n",
      "[[Variables]]\n",
      "    kaq0:  7121.54738 +/- 4391140.16 (61659.92%) (init = 20)\n",
      "    kaq1:  0.05228819 +/- 0.24082470 (460.57%) (init = 1)\n",
      "    Saq0:  1.71840155 +/- 3299.14117 (191988.95%) (init = 0.0001)\n",
      "    Saq1:  3.47007395 +/- 0.00372657 (0.11%) (init = 1e-05)\n",
      "    Sll:   0.08926901 +/- 51.2204008 (57377.58%) (init = 0.0001)\n",
      "    c1:    6.5485e-04 +/- 0.00365259 (557.77%) (init = 100)\n",
      "[[Correlations]] (unreported correlations are < 0.100)\n",
      "    C(kaq1, Sll)  = -1.000\n",
      "    C(kaq1, c1)   =  0.999\n",
      "    C(Sll, c1)    = -0.999\n",
      "    C(kaq0, c1)   =  0.704\n",
      "    C(kaq0, kaq1) =  0.681\n",
      "    C(kaq0, Sll)  = -0.673\n",
      "    C(kaq0, Saq0) = -0.628\n",
      "    C(Saq0, c1)   = -0.590\n",
      "    C(kaq1, Saq0) = -0.583\n",
      "    C(Saq0, Sll)  =  0.579\n",
      "    C(kaq0, Saq1) = -0.189\n"
     ]
    }
   ],
   "source": [
    "ca_2 = Calibrate(ml_2)\n",
    "ca_2.set_parameter(name= 'kaq0', initial=20, pmin=0)\n",
    "ca_2.set_parameter(name='kaq1', initial=1, pmin=0)\n",
    "ca_2.set_parameter(name='Saq0', initial=1e-4, pmin=0)\n",
    "ca_2.set_parameter(name='Saq1', initial=1e-5, pmin=0)\n",
    "ca_2.set_parameter_by_reference(name='Sll', parameter=ml_2.aq.Sll[:],\\\n",
    "                                initial=1e-4, pmin=0)\n",
    "ca_2.set_parameter(name='c1', initial=100, pmin=0)\n",
    "ca_2.series(name='obs1', x=r1, y=0, t=t1, h=h1, layer=1)\n",
    "ca_2.series(name='obs2', x=r2, y=0, t=t2, h=h2, layer=1)\n",
    "ca_2.fit(report=True)"
   ]
  },
  {
   "cell_type": "code",
   "execution_count": 14,
   "metadata": {},
   "outputs": [
    {
     "data": {
      "text/html": [
       "<div>\n",
       "<style scoped>\n",
       "    .dataframe tbody tr th:only-of-type {\n",
       "        vertical-align: middle;\n",
       "    }\n",
       "\n",
       "    .dataframe tbody tr th {\n",
       "        vertical-align: top;\n",
       "    }\n",
       "\n",
       "    .dataframe thead th {\n",
       "        text-align: right;\n",
       "    }\n",
       "</style>\n",
       "<table border=\"1\" class=\"dataframe\">\n",
       "  <thead>\n",
       "    <tr style=\"text-align: right;\">\n",
       "      <th></th>\n",
       "      <th>optimal</th>\n",
       "      <th>std</th>\n",
       "      <th>perc_std</th>\n",
       "      <th>pmin</th>\n",
       "      <th>pmax</th>\n",
       "      <th>initial</th>\n",
       "      <th>parray</th>\n",
       "    </tr>\n",
       "  </thead>\n",
       "  <tbody>\n",
       "    <tr>\n",
       "      <td>kaq0</td>\n",
       "      <td>7121.55</td>\n",
       "      <td>4.391140e+06</td>\n",
       "      <td>61659.9</td>\n",
       "      <td>0</td>\n",
       "      <td>inf</td>\n",
       "      <td>20</td>\n",
       "      <td>[7121.547379372198]</td>\n",
       "    </tr>\n",
       "    <tr>\n",
       "      <td>kaq1</td>\n",
       "      <td>0.0522882</td>\n",
       "      <td>2.408247e-01</td>\n",
       "      <td>460.572</td>\n",
       "      <td>0</td>\n",
       "      <td>inf</td>\n",
       "      <td>1</td>\n",
       "      <td>[0.052288192295638636]</td>\n",
       "    </tr>\n",
       "    <tr>\n",
       "      <td>Saq0</td>\n",
       "      <td>1.7184</td>\n",
       "      <td>3.299141e+03</td>\n",
       "      <td>191989</td>\n",
       "      <td>0</td>\n",
       "      <td>inf</td>\n",
       "      <td>0.0001</td>\n",
       "      <td>[1.718401550088255]</td>\n",
       "    </tr>\n",
       "    <tr>\n",
       "      <td>Saq1</td>\n",
       "      <td>3.47007</td>\n",
       "      <td>3.726568e-03</td>\n",
       "      <td>0.107392</td>\n",
       "      <td>0</td>\n",
       "      <td>inf</td>\n",
       "      <td>1e-05</td>\n",
       "      <td>[3.470073949617663]</td>\n",
       "    </tr>\n",
       "    <tr>\n",
       "      <td>Sll</td>\n",
       "      <td>0.089269</td>\n",
       "      <td>5.122040e+01</td>\n",
       "      <td>57377.6</td>\n",
       "      <td>0</td>\n",
       "      <td>inf</td>\n",
       "      <td>0.0001</td>\n",
       "      <td>[0.0892690109689882, 0.0892690109689882]</td>\n",
       "    </tr>\n",
       "    <tr>\n",
       "      <td>c1</td>\n",
       "      <td>0.000654851</td>\n",
       "      <td>3.652587e-03</td>\n",
       "      <td>557.774</td>\n",
       "      <td>0</td>\n",
       "      <td>inf</td>\n",
       "      <td>100</td>\n",
       "      <td>[0.0006548508260826313]</td>\n",
       "    </tr>\n",
       "  </tbody>\n",
       "</table>\n",
       "</div>"
      ],
      "text/plain": [
       "          optimal           std  perc_std pmin  pmax initial  \\\n",
       "kaq0      7121.55  4.391140e+06   61659.9    0   inf      20   \n",
       "kaq1    0.0522882  2.408247e-01   460.572    0   inf       1   \n",
       "Saq0       1.7184  3.299141e+03    191989    0   inf  0.0001   \n",
       "Saq1      3.47007  3.726568e-03  0.107392    0   inf   1e-05   \n",
       "Sll      0.089269  5.122040e+01   57377.6    0   inf  0.0001   \n",
       "c1    0.000654851  3.652587e-03   557.774    0   inf     100   \n",
       "\n",
       "                                        parray  \n",
       "kaq0                       [7121.547379372198]  \n",
       "kaq1                    [0.052288192295638636]  \n",
       "Saq0                       [1.718401550088255]  \n",
       "Saq1                       [3.470073949617663]  \n",
       "Sll   [0.0892690109689882, 0.0892690109689882]  \n",
       "c1                     [0.0006548508260826313]  "
      ]
     },
     "metadata": {},
     "output_type": "display_data"
    },
    {
     "name": "stdout",
     "output_type": "stream",
     "text": [
      "RMSE: 0.720412776980667\n"
     ]
    }
   ],
   "source": [
    "display(ca_2.parameters)\n",
    "print('RMSE:',ca_2.rmse())"
   ]
  },
  {
   "cell_type": "code",
   "execution_count": 15,
   "metadata": {},
   "outputs": [
    {
     "name": "stderr",
     "output_type": "stream",
     "text": [
      "The PostScript backend does not support transparency; partially transparent artists will be rendered opaque.\n",
      "The PostScript backend does not support transparency; partially transparent artists will be rendered opaque.\n"
     ]
    },
    {
     "data": {
      "image/png": "[encoded data removed]",
      "text/plain": [
       "<Figure size 576x360 with 1 Axes>"
      ]
     },
     "metadata": {
      "needs_background": "light"
     },
     "output_type": "display_data"
    }
   ],
   "source": [
    "hm1_2 = ml_2.head(r1, 0, t1)\n",
    "hm2_2 = ml_2.head(r2, 0, t2)\n",
    "plt.figure(figsize = (8, 5))\n",
    "plt.semilogx(t1, h1, '.', label='obs1')\n",
    "plt.semilogx(t2, h2, '.', label='obs2')\n",
    "plt.semilogx(t1, hm1_2[-1], label='ttim1')\n",
    "plt.semilogx(t2, hm2_2[-1], label='ttim2')\n",
    "plt.xlabel('time(d)')\n",
    "plt.ylabel('head(m)')\n",
    "plt.legend()\n",
    "plt.savefig('C:/Users/DELL/Python Notebook/MT BE/Fig/schroth_three1.eps');"
   ]
  },
  {
   "cell_type": "markdown",
   "metadata": {},
   "source": [
    "Try adding res & rc:"
   ]
  },
  {
   "cell_type": "code",
   "execution_count": 16,
   "metadata": {},
   "outputs": [
    {
     "name": "stdout",
     "output_type": "stream",
     "text": [
      "self.neq  1\n",
      "solution complete\n"
     ]
    }
   ],
   "source": [
    "ml_3 = ModelMaq(kaq=[19, 2], z=[zt0, zb0, zt1, zb1], c=200, Saq=[4e-4, 1e-5],\\\n",
    "                 Sll=1e-4, topboundary='conf', tmin=1e-4, tmax=0.5)\n",
    "w_3 = Well(ml_3, xw=0, yw=0, rw=rw, rc=None, res=0, tsandQ = [(0, Q), (1e+08, 0)], \\\n",
    "           layers=1)\n",
    "ml_3.solve()"
   ]
  },
  {
   "cell_type": "code",
   "execution_count": 17,
   "metadata": {
    "scrolled": true
   },
   "outputs": [
    {
     "name": "stdout",
     "output_type": "stream",
     "text": [
      "............................................................................................................................................................................................................................................................................................\n",
      "Fit succeeded.\n",
      "[[Fit Statistics]]\n",
      "    # fitting method   = leastsq\n",
      "    # function evals   = 281\n",
      "    # data points      = 40\n",
      "    # variables        = 8\n",
      "    chi-square         = 1.31482276\n",
      "    reduced chi-square = 0.04108821\n",
      "    Akaike info crit   = -120.607103\n",
      "    Bayesian info crit = -107.096068\n",
      "[[Variables]]\n",
      "    kaq0:  5.35396479 +/- 9.58019344 (178.94%) (init = 20)\n",
      "    kaq1:  1.24301176 +/- 9.18218767 (738.70%) (init = 1)\n",
      "    Saq0:  4.3148e-05 +/- 4.7634e-04 (1103.96%) (init = 0.0001)\n",
      "    Saq1:  3.3501e-06 +/- 4.1173e-04 (12290.20%) (init = 1e-05)\n",
      "    Sll:   2.0607e-06 +/- 1.4925e-04 (7242.43%) (init = 0.0001)\n",
      "    c1:    0.68271013 +/- 39.8053513 (5830.49%) (init = 100)\n",
      "    res:   9.4847e-06 +/- 0.02700515 (284722.84%) (init = 0)\n",
      "    rc:    0.05542009 +/- 0.00690208 (12.45%) (init = 0.2)\n",
      "[[Correlations]] (unreported correlations are < 0.100)\n",
      "    C(kaq1, c1)   =  1.000\n",
      "    C(kaq0, kaq1) = -0.997\n",
      "    C(kaq0, c1)   = -0.997\n",
      "    C(kaq1, Saq1) = -0.988\n",
      "    C(Saq1, c1)   = -0.988\n",
      "    C(kaq0, Saq1) =  0.984\n",
      "    C(Saq0, Saq1) = -0.952\n",
      "    C(kaq0, Saq0) = -0.910\n",
      "    C(kaq1, Saq0) =  0.909\n",
      "    C(Saq0, c1)   =  0.909\n",
      "    C(res, rc)    = -0.873\n",
      "    C(Saq1, rc)   = -0.761\n",
      "    C(Saq0, rc)   =  0.740\n",
      "    C(c1, rc)     =  0.738\n",
      "    C(kaq1, rc)   =  0.738\n",
      "    C(kaq0, rc)   = -0.718\n",
      "    C(Saq0, Sll)  = -0.484\n",
      "    C(Saq1, res)  =  0.367\n",
      "    C(c1, res)    = -0.355\n",
      "    C(kaq1, res)  = -0.355\n",
      "    C(Saq0, res)  = -0.339\n",
      "    C(kaq0, res)  =  0.333\n",
      "    C(Sll, rc)    = -0.209\n",
      "    C(Saq1, Sll)  =  0.194\n"
     ]
    }
   ],
   "source": [
    "ca_3 = Calibrate(ml_3)\n",
    "ca_3.set_parameter(name= 'kaq0', initial=20, pmin=0)\n",
    "ca_3.set_parameter(name='kaq1', initial=1, pmin=0)\n",
    "ca_3.set_parameter(name='Saq0', initial=1e-4, pmin=0)\n",
    "ca_3.set_parameter(name='Saq1', initial=1e-5, pmin=0)\n",
    "ca_3.set_parameter_by_reference(name='Sll', parameter=ml_3.aq.Sll[:],\\\n",
    "                                initial=1e-4, pmin=0)\n",
    "ca_3.set_parameter(name='c1', initial=100, pmin=0)\n",
    "ca_3.set_parameter_by_reference(name='res', parameter=w_3.res[:], initial=0, pmin=0)\n",
    "ca_3.set_parameter_by_reference(name='rc', parameter=w_3.rc[:], initial=0.2, pmin=0)\n",
    "ca_3.series(name='obs1', x=r1, y=0, t=t1, h=h1, layer=1)\n",
    "ca_3.series(name='obs2', x=r2, y=0, t=t2, h=h2, layer=1)\n",
    "ca_3.fit(report=True)"
   ]
  },
  {
   "cell_type": "code",
   "execution_count": 18,
   "metadata": {
    "scrolled": true
   },
   "outputs": [
    {
     "data": {
      "text/html": [
       "<div>\n",
       "<style scoped>\n",
       "    .dataframe tbody tr th:only-of-type {\n",
       "        vertical-align: middle;\n",
       "    }\n",
       "\n",
       "    .dataframe tbody tr th {\n",
       "        vertical-align: top;\n",
       "    }\n",
       "\n",
       "    .dataframe thead th {\n",
       "        text-align: right;\n",
       "    }\n",
       "</style>\n",
       "<table border=\"1\" class=\"dataframe\">\n",
       "  <thead>\n",
       "    <tr style=\"text-align: right;\">\n",
       "      <th></th>\n",
       "      <th>optimal</th>\n",
       "      <th>std</th>\n",
       "      <th>perc_std</th>\n",
       "      <th>pmin</th>\n",
       "      <th>pmax</th>\n",
       "      <th>initial</th>\n",
       "      <th>parray</th>\n",
       "    </tr>\n",
       "  </thead>\n",
       "  <tbody>\n",
       "    <tr>\n",
       "      <td>kaq0</td>\n",
       "      <td>5.35396</td>\n",
       "      <td>9.580193</td>\n",
       "      <td>178.936</td>\n",
       "      <td>0</td>\n",
       "      <td>inf</td>\n",
       "      <td>20</td>\n",
       "      <td>[5.353964789384363]</td>\n",
       "    </tr>\n",
       "    <tr>\n",
       "      <td>kaq1</td>\n",
       "      <td>1.24301</td>\n",
       "      <td>9.182188</td>\n",
       "      <td>738.705</td>\n",
       "      <td>0</td>\n",
       "      <td>inf</td>\n",
       "      <td>1</td>\n",
       "      <td>[1.2430117621749774]</td>\n",
       "    </tr>\n",
       "    <tr>\n",
       "      <td>Saq0</td>\n",
       "      <td>4.31484e-05</td>\n",
       "      <td>0.000476</td>\n",
       "      <td>1103.96</td>\n",
       "      <td>0</td>\n",
       "      <td>inf</td>\n",
       "      <td>0.0001</td>\n",
       "      <td>[4.314844196295908e-05]</td>\n",
       "    </tr>\n",
       "    <tr>\n",
       "      <td>Saq1</td>\n",
       "      <td>3.35008e-06</td>\n",
       "      <td>0.000412</td>\n",
       "      <td>12290.2</td>\n",
       "      <td>0</td>\n",
       "      <td>inf</td>\n",
       "      <td>1e-05</td>\n",
       "      <td>[3.3500846787770655e-06]</td>\n",
       "    </tr>\n",
       "    <tr>\n",
       "      <td>Sll</td>\n",
       "      <td>2.06071e-06</td>\n",
       "      <td>0.000149</td>\n",
       "      <td>7242.43</td>\n",
       "      <td>0</td>\n",
       "      <td>inf</td>\n",
       "      <td>0.0001</td>\n",
       "      <td>[2.0607078541345913e-06, 2.0607078541345913e-06]</td>\n",
       "    </tr>\n",
       "    <tr>\n",
       "      <td>c1</td>\n",
       "      <td>0.68271</td>\n",
       "      <td>39.805351</td>\n",
       "      <td>5830.49</td>\n",
       "      <td>0</td>\n",
       "      <td>inf</td>\n",
       "      <td>100</td>\n",
       "      <td>[0.6827101318045474]</td>\n",
       "    </tr>\n",
       "    <tr>\n",
       "      <td>res</td>\n",
       "      <td>9.48472e-06</td>\n",
       "      <td>0.027005</td>\n",
       "      <td>284723</td>\n",
       "      <td>0</td>\n",
       "      <td>inf</td>\n",
       "      <td>0</td>\n",
       "      <td>[9.484716873453536e-06]</td>\n",
       "    </tr>\n",
       "    <tr>\n",
       "      <td>rc</td>\n",
       "      <td>0.0554201</td>\n",
       "      <td>0.006902</td>\n",
       "      <td>12.4541</td>\n",
       "      <td>0</td>\n",
       "      <td>inf</td>\n",
       "      <td>0.2</td>\n",
       "      <td>[0.0554200877661315]</td>\n",
       "    </tr>\n",
       "  </tbody>\n",
       "</table>\n",
       "</div>"
      ],
      "text/plain": [
       "          optimal        std perc_std pmin  pmax initial  \\\n",
       "kaq0      5.35396   9.580193  178.936    0   inf      20   \n",
       "kaq1      1.24301   9.182188  738.705    0   inf       1   \n",
       "Saq0  4.31484e-05   0.000476  1103.96    0   inf  0.0001   \n",
       "Saq1  3.35008e-06   0.000412  12290.2    0   inf   1e-05   \n",
       "Sll   2.06071e-06   0.000149  7242.43    0   inf  0.0001   \n",
       "c1        0.68271  39.805351  5830.49    0   inf     100   \n",
       "res   9.48472e-06   0.027005   284723    0   inf       0   \n",
       "rc      0.0554201   0.006902  12.4541    0   inf     0.2   \n",
       "\n",
       "                                                parray  \n",
       "kaq0                               [5.353964789384363]  \n",
       "kaq1                              [1.2430117621749774]  \n",
       "Saq0                           [4.314844196295908e-05]  \n",
       "Saq1                          [3.3500846787770655e-06]  \n",
       "Sll   [2.0607078541345913e-06, 2.0607078541345913e-06]  \n",
       "c1                                [0.6827101318045474]  \n",
       "res                            [9.484716873453536e-06]  \n",
       "rc                                [0.0554200877661315]  "
      ]
     },
     "metadata": {},
     "output_type": "display_data"
    },
    {
     "name": "stdout",
     "output_type": "stream",
     "text": [
      "RMSE: 0.18130242391611345\n"
     ]
    }
   ],
   "source": [
    "display(ca_3.parameters)\n",
    "print('RMSE:', ca_3.rmse())"
   ]
  },
  {
   "cell_type": "code",
   "execution_count": 19,
   "metadata": {},
   "outputs": [
    {
     "name": "stderr",
     "output_type": "stream",
     "text": [
      "The PostScript backend does not support transparency; partially transparent artists will be rendered opaque.\n",
      "The PostScript backend does not support transparency; partially transparent artists will be rendered opaque.\n"
     ]
    },
    {
     "data": {
      "image/png": "[encoded data removed]",
      "text/plain": [
       "<Figure size 576x360 with 1 Axes>"
      ]
     },
     "metadata": {
      "needs_background": "light"
     },
     "output_type": "display_data"
    }
   ],
   "source": [
    "hm1_3 = ml_3.head(r1, 0, t1)\n",
    "hm2_3 = ml_3.head(r2, 0, t2)\n",
    "plt.figure(figsize = (8, 5))\n",
    "plt.semilogx(t1, h1, '.', label='obs1')\n",
    "plt.semilogx(t2, h2, '.', label='obs2')\n",
    "plt.semilogx(t1, hm1_3[-1], label='ttim1')\n",
    "plt.semilogx(t2, hm2_3[-1], label='ttim2')\n",
    "plt.xlabel('time(d)')\n",
    "plt.ylabel('head(m)')\n",
    "plt.legend()\n",
    "plt.savefig('C:/Users/DELL/Python Notebook/MT BE/Fig/schroth_three2.eps');"
   ]
  },
  {
   "cell_type": "markdown",
   "metadata": {},
   "source": [
    "Calibrate with fitted characters for upper aquifer:"
   ]
  },
  {
   "cell_type": "code",
   "execution_count": 25,
   "metadata": {},
   "outputs": [
    {
     "name": "stdout",
     "output_type": "stream",
     "text": [
      "self.neq  1\n",
      "solution complete\n"
     ]
    }
   ],
   "source": [
    "ml_4 = ModelMaq(kaq=[17.28, 2], z=[zt0, zb0, zt1, zb1], c=200, Saq=[1.2e-4, 1e-5],\\\n",
    "                 Sll=3e-5, topboundary='conf', tmin=1e-4, tmax=0.5)\n",
    "w_4 = Well(ml_4, xw=0, yw=0, rw=rw, rc=None, res=0, tsandQ = [(0, Q), (1e+08, 0)], \\\n",
    "           layers=1)\n",
    "ml_4.solve()"
   ]
  },
  {
   "cell_type": "markdown",
   "metadata": {},
   "source": [
    "The optimized value of res is very close to the minimum limitation, thus res has little effect on the performance of the model. res is removed in this calibration."
   ]
  },
  {
   "cell_type": "code",
   "execution_count": 26,
   "metadata": {},
   "outputs": [
    {
     "name": "stdout",
     "output_type": "stream",
     "text": [
      ".......................................................................\n",
      "Fit succeeded.\n",
      "[[Fit Statistics]]\n",
      "    # fitting method   = leastsq\n",
      "    # function evals   = 68\n",
      "    # data points      = 40\n",
      "    # variables        = 4\n",
      "    chi-square         = 0.56419255\n",
      "    reduced chi-square = 0.01567202\n",
      "    Akaike info crit   = -162.449565\n",
      "    Bayesian info crit = -155.694048\n",
      "[[Variables]]\n",
      "    kaq1:  1.93432822 +/- 0.01232555 (0.64%) (init = 1)\n",
      "    Saq1:  1.3177e-05 +/- 2.3128e-06 (17.55%) (init = 1e-05)\n",
      "    c1:    239.777472 +/- 20.5042386 (8.55%) (init = 100)\n",
      "    rc:    0.05268634 +/- 4.0803e-04 (0.77%) (init = 0.2)\n",
      "[[Correlations]] (unreported correlations are < 0.100)\n",
      "    C(kaq1, c1)   =  0.839\n",
      "    C(Saq1, rc)   = -0.582\n",
      "    C(kaq1, Saq1) = -0.503\n",
      "    C(Saq1, c1)   = -0.214\n",
      "    C(c1, rc)     = -0.111\n"
     ]
    }
   ],
   "source": [
    "ca_4 = Calibrate(ml_4)\n",
    "ca_4.set_parameter(name='kaq1', initial=1, pmin=0)\n",
    "ca_4.set_parameter(name='Saq1', initial=1e-5, pmin=0)\n",
    "ca_4.set_parameter(name='c1', initial=100, pmin=0)\n",
    "ca_4.set_parameter_by_reference(name='rc', parameter=w_4.rc[:], initial=0.2, pmin=0)\n",
    "ca_4.series(name='obs1', x=r1, y=0, t=t1, h=h1, layer=1)\n",
    "ca_4.series(name='obs2', x=r2, y=0, t=t2, h=h2, layer=1)\n",
    "ca_4.fit(report=True)"
   ]
  },
  {
   "cell_type": "code",
   "execution_count": 27,
   "metadata": {},
   "outputs": [
    {
     "data": {
      "text/html": [
       "<div>\n",
       "<style scoped>\n",
       "    .dataframe tbody tr th:only-of-type {\n",
       "        vertical-align: middle;\n",
       "    }\n",
       "\n",
       "    .dataframe tbody tr th {\n",
       "        vertical-align: top;\n",
       "    }\n",
       "\n",
       "    .dataframe thead th {\n",
       "        text-align: right;\n",
       "    }\n",
       "</style>\n",
       "<table border=\"1\" class=\"dataframe\">\n",
       "  <thead>\n",
       "    <tr style=\"text-align: right;\">\n",
       "      <th></th>\n",
       "      <th>optimal</th>\n",
       "      <th>std</th>\n",
       "      <th>perc_std</th>\n",
       "      <th>pmin</th>\n",
       "      <th>pmax</th>\n",
       "      <th>initial</th>\n",
       "      <th>parray</th>\n",
       "    </tr>\n",
       "  </thead>\n",
       "  <tbody>\n",
       "    <tr>\n",
       "      <td>kaq1</td>\n",
       "      <td>1.93433</td>\n",
       "      <td>0.012326</td>\n",
       "      <td>0.637201</td>\n",
       "      <td>0</td>\n",
       "      <td>inf</td>\n",
       "      <td>1</td>\n",
       "      <td>[1.9343282166578555]</td>\n",
       "    </tr>\n",
       "    <tr>\n",
       "      <td>Saq1</td>\n",
       "      <td>1.31765e-05</td>\n",
       "      <td>0.000002</td>\n",
       "      <td>17.5525</td>\n",
       "      <td>0</td>\n",
       "      <td>inf</td>\n",
       "      <td>1e-05</td>\n",
       "      <td>[1.3176530509806383e-05]</td>\n",
       "    </tr>\n",
       "    <tr>\n",
       "      <td>c1</td>\n",
       "      <td>239.777</td>\n",
       "      <td>20.504239</td>\n",
       "      <td>8.55136</td>\n",
       "      <td>0</td>\n",
       "      <td>inf</td>\n",
       "      <td>100</td>\n",
       "      <td>[239.7774720841064]</td>\n",
       "    </tr>\n",
       "    <tr>\n",
       "      <td>rc</td>\n",
       "      <td>0.0526863</td>\n",
       "      <td>0.000408</td>\n",
       "      <td>0.774453</td>\n",
       "      <td>0</td>\n",
       "      <td>inf</td>\n",
       "      <td>0.2</td>\n",
       "      <td>[0.05268634438990305]</td>\n",
       "    </tr>\n",
       "  </tbody>\n",
       "</table>\n",
       "</div>"
      ],
      "text/plain": [
       "          optimal        std  perc_std pmin  pmax initial  \\\n",
       "kaq1      1.93433   0.012326  0.637201    0   inf       1   \n",
       "Saq1  1.31765e-05   0.000002   17.5525    0   inf   1e-05   \n",
       "c1        239.777  20.504239   8.55136    0   inf     100   \n",
       "rc      0.0526863   0.000408  0.774453    0   inf     0.2   \n",
       "\n",
       "                        parray  \n",
       "kaq1      [1.9343282166578555]  \n",
       "Saq1  [1.3176530509806383e-05]  \n",
       "c1         [239.7774720841064]  \n",
       "rc       [0.05268634438990305]  "
      ]
     },
     "metadata": {},
     "output_type": "display_data"
    },
    {
     "name": "stdout",
     "output_type": "stream",
     "text": [
      "RMSE: 0.11876368880039383\n"
     ]
    }
   ],
   "source": [
    "display(ca_4.parameters)\n",
    "print('RMSE:', ca_4.rmse())"
   ]
  },
  {
   "cell_type": "code",
   "execution_count": 28,
   "metadata": {},
   "outputs": [
    {
     "name": "stderr",
     "output_type": "stream",
     "text": [
      "The PostScript backend does not support transparency; partially transparent artists will be rendered opaque.\n",
      "The PostScript backend does not support transparency; partially transparent artists will be rendered opaque.\n"
     ]
    },
    {
     "data": {
      "image/png": "[encoded data removed]",
      "text/plain": [
       "<Figure size 576x360 with 1 Axes>"
      ]
     },
     "metadata": {
      "needs_background": "light"
     },
     "output_type": "display_data"
    }
   ],
   "source": [
    "hm1_4 = ml_4.head(r1, 0, t1)\n",
    "hm2_4 = ml_4.head(r2, 0, t2)\n",
    "plt.figure(figsize = (8, 5))\n",
    "plt.semilogx(t1, h1, '.', label='obs1')\n",
    "plt.semilogx(t2, h2, '.', label='obs2')\n",
    "plt.semilogx(t1, hm1_4[-1], label='ttim1')\n",
    "plt.semilogx(t2, hm2_4[-1], label='ttim2')\n",
    "plt.xlabel('time(d)')\n",
    "plt.ylabel('head(m)')\n",
    "plt.legend()\n",
    "plt.savefig('C:/Users/DELL/Python Notebook/MT BE/Fig/schroth_three3.eps');"
   ]
  },
  {
   "cell_type": "markdown",
   "metadata": {},
   "source": [
    "## Summary of values simulated by MLU"
   ]
  },
  {
   "cell_type": "markdown",
   "metadata": {},
   "source": [
    "Results of calibrations done with three-layer model of ttim are presented below."
   ]
  },
  {
   "cell_type": "code",
   "execution_count": 35,
   "metadata": {},
   "outputs": [
    {
     "data": {
      "text/html": [
       "<div>\n",
       "<style scoped>\n",
       "    .dataframe tbody tr th:only-of-type {\n",
       "        vertical-align: middle;\n",
       "    }\n",
       "\n",
       "    .dataframe tbody tr th {\n",
       "        vertical-align: top;\n",
       "    }\n",
       "\n",
       "    .dataframe thead th {\n",
       "        text-align: right;\n",
       "    }\n",
       "</style>\n",
       "<table border=\"1\" class=\"dataframe\">\n",
       "  <thead>\n",
       "    <tr style=\"text-align: right;\">\n",
       "      <th></th>\n",
       "      <th>k0[m/d]</th>\n",
       "      <th>k1[m/d]</th>\n",
       "      <th>Ss0[1/m]</th>\n",
       "      <th>Ss1[1/m]</th>\n",
       "      <th>Sll[1/m]</th>\n",
       "      <th>c[d]</th>\n",
       "      <th>res</th>\n",
       "      <th>rc</th>\n",
       "      <th>RMSE</th>\n",
       "    </tr>\n",
       "  </thead>\n",
       "  <tbody>\n",
       "    <tr>\n",
       "      <td>MLU</td>\n",
       "      <td>17.424</td>\n",
       "      <td>6.027e-05</td>\n",
       "      <td>1.747</td>\n",
       "      <td>6.473e-06</td>\n",
       "      <td>3.997e-05</td>\n",
       "      <td>216</td>\n",
       "      <td>NaN</td>\n",
       "      <td>NaN</td>\n",
       "      <td>0.023452</td>\n",
       "    </tr>\n",
       "    <tr>\n",
       "      <td>MLU-fixed k1</td>\n",
       "      <td>0.000202</td>\n",
       "      <td>0.000911</td>\n",
       "      <td>3.456</td>\n",
       "      <td>6.214e-05</td>\n",
       "      <td>7.286e-05</td>\n",
       "      <td>453.5</td>\n",
       "      <td>NaN</td>\n",
       "      <td>NaN</td>\n",
       "      <td>0.162596</td>\n",
       "    </tr>\n",
       "    <tr>\n",
       "      <td>ttim</td>\n",
       "      <td>7121.55</td>\n",
       "      <td>0.0522882</td>\n",
       "      <td>1.7184</td>\n",
       "      <td>3.47007</td>\n",
       "      <td>0.089269</td>\n",
       "      <td>0.000654851</td>\n",
       "      <td>NaN</td>\n",
       "      <td>NaN</td>\n",
       "      <td>0.720413</td>\n",
       "    </tr>\n",
       "    <tr>\n",
       "      <td>ttim-rc</td>\n",
       "      <td>5.35396</td>\n",
       "      <td>1.24301</td>\n",
       "      <td>4.31484e-05</td>\n",
       "      <td>3.35008e-06</td>\n",
       "      <td>2.06071e-06</td>\n",
       "      <td>0.68271</td>\n",
       "      <td>9.48472e-06</td>\n",
       "      <td>0.0554201</td>\n",
       "      <td>0.181302</td>\n",
       "    </tr>\n",
       "    <tr>\n",
       "      <td>ttim-fixed upper</td>\n",
       "      <td>17.28</td>\n",
       "      <td>1.93433</td>\n",
       "      <td>0.00012</td>\n",
       "      <td>1.31765e-05</td>\n",
       "      <td>3e-05</td>\n",
       "      <td>239.777</td>\n",
       "      <td>NaN</td>\n",
       "      <td>0.0526863</td>\n",
       "      <td>0.118764</td>\n",
       "    </tr>\n",
       "  </tbody>\n",
       "</table>\n",
       "</div>"
      ],
      "text/plain": [
       "                   k0[m/d]    k1[m/d]     Ss0[1/m]     Ss1[1/m]     Sll[1/m]  \\\n",
       "MLU                 17.424  6.027e-05        1.747    6.473e-06    3.997e-05   \n",
       "MLU-fixed k1      0.000202   0.000911        3.456    6.214e-05    7.286e-05   \n",
       "ttim               7121.55  0.0522882       1.7184      3.47007     0.089269   \n",
       "ttim-rc            5.35396    1.24301  4.31484e-05  3.35008e-06  2.06071e-06   \n",
       "ttim-fixed upper     17.28    1.93433      0.00012  1.31765e-05        3e-05   \n",
       "\n",
       "                         c[d]          res         rc      RMSE  \n",
       "MLU                       216          NaN        NaN  0.023452  \n",
       "MLU-fixed k1            453.5          NaN        NaN  0.162596  \n",
       "ttim              0.000654851          NaN        NaN  0.720413  \n",
       "ttim-rc               0.68271  9.48472e-06  0.0554201  0.181302  \n",
       "ttim-fixed upper      239.777          NaN  0.0526863  0.118764  "
      ]
     },
     "execution_count": 35,
     "metadata": {},
     "output_type": "execute_result"
    }
   ],
   "source": [
    "t = pd.DataFrame(columns=['k0[m/d]','k1[m/d]','Ss0[1/m]','Ss1[1/m]','Sll[1/m]','c[d]',\\\n",
    "                         'res', 'rc'], \\\n",
    "                index=['MLU', 'MLU-fixed k1','ttim','ttim-rc','ttim-fixed upper'])\n",
    "t.loc['ttim-rc'] = ca_3.parameters['optimal'].values\n",
    "t.iloc[2,0:6] = ca_2.parameters['optimal'].values\n",
    "t.iloc[4,5] = ca_4.parameters['optimal'].values[2]\n",
    "t.iloc[4,7] = ca_4.parameters['optimal'].values[3]\n",
    "t.iloc[4,0] = 17.28\n",
    "t.iloc[4,1] = ca_4.parameters['optimal'].values[0]\n",
    "t.iloc[4,2] = 1.2e-4\n",
    "t.iloc[4,3] = ca_4.parameters['optimal'].values[1]\n",
    "t.iloc[4,4] = 3e-5\n",
    "t.iloc[0, 0:6] = [17.424, 6.027e-05, 1.747, 6.473e-06, 3.997e-05, 216]\n",
    "t.iloc[1, 0:6] = [2.020e-04, 9.110e-04, 3.456, 6.214e-05, 7.286e-05, 453.5]\n",
    "t['RMSE'] = [0.023452, 0.162596, ca_2.rmse(), ca_3.rmse(), ca_4.rmse()]\n",
    "t"
   ]
  },
  {
   "cell_type": "code",
   "execution_count": null,
   "metadata": {},
   "outputs": [],
   "source": []
  }
 ],
 "metadata": {
  "kernelspec": {
   "display_name": "Python 3",
   "language": "python",
   "name": "python3"
  },
  "language_info": {
   "codemirror_mode": {
    "name": "ipython",
    "version": 3
   },
   "file_extension": ".py",
   "mimetype": "text/x-python",
   "name": "python",
   "nbconvert_exporter": "python",
   "pygments_lexer": "ipython3",
   "version": "3.7.4"
  }
 },
 "nbformat": 4,
 "nbformat_minor": 2
}
