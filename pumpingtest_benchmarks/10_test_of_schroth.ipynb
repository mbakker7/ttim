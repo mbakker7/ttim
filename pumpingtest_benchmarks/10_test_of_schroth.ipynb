{
 "cells": [
  {
   "cell_type": "markdown",
   "metadata": {},
   "source": [
    "# Confined Aquifer Test\n",
    "**This test is taken from examples presented in MLU tutorial.**"
   ]
  },
  {
   "cell_type": "code",
   "execution_count": 1,
   "metadata": {},
   "outputs": [],
   "source": [
    "%matplotlib inline\n",
    "import numpy as np\n",
    "import matplotlib.pyplot as plt\n",
    "import pandas as pd\n",
    "from ttim import *"
   ]
  },
  {
   "cell_type": "markdown",
   "metadata": {},
   "source": [
    "The test is condected at a fully confined two-aquifer system. Both the pumping well and the observation piezometer are screened at the second aquifer."
   ]
  },
  {
   "cell_type": "markdown",
   "metadata": {},
   "source": [
    "Set basic parameters:"
   ]
  },
  {
   "cell_type": "code",
   "execution_count": 2,
   "metadata": {},
   "outputs": [],
   "source": [
    "Q = 82.08 #constant discharge in m^3/d\n",
    "zt0 = -46 #top boundary of upper aquifer in m\n",
    "zb0 = -49 #bottom boundary of upper aquifer in m\n",
    "zt1 = -52 #top boundary of lower aquifer in m\n",
    "zb1 = -55 #bottom boundary of lower aquifer in m\n",
    "rw = 0.05 #well radius in m"
   ]
  },
  {
   "cell_type": "markdown",
   "metadata": {},
   "source": [
    "Load data of two observation wells:"
   ]
  },
  {
   "cell_type": "code",
   "execution_count": 3,
   "metadata": {},
   "outputs": [],
   "source": [
    "data1 = np.loadtxt('data/schroth_obs1.txt', skiprows = 1)\n",
    "t1 = data1[:, 0]\n",
    "h1 = data1[:, 1]\n",
    "r1 = 0 \n",
    "data2 = np.loadtxt('data/schroth_obs2.txt', skiprows = 1)\n",
    "t2 = data2[:, 0]\n",
    "h2 = data2[:, 1]\n",
    "r2 = 46 #distance between observation well2 and pumping well"
   ]
  },
  {
   "cell_type": "code",
   "execution_count": 4,
   "metadata": {},
   "outputs": [
    {
     "ename": "NameError",
     "evalue": "name 'w' is not defined",
     "output_type": "error",
     "traceback": [
      "\u001b[1;31m---------------------------------------------------------------------------\u001b[0m",
      "\u001b[1;31mNameError\u001b[0m                                 Traceback (most recent call last)",
      "\u001b[1;32m<ipython-input-4-b6a07199b4ac>\u001b[0m in \u001b[0;36m<module>\u001b[1;34m\u001b[0m\n\u001b[1;32m----> 1\u001b[1;33m \u001b[0mw\u001b[0m\u001b[1;33m.\u001b[0m\u001b[0mrc\u001b[0m\u001b[1;33m[\u001b[0m\u001b[1;33m:\u001b[0m\u001b[1;33m]\u001b[0m\u001b[1;33m\u001b[0m\u001b[1;33m\u001b[0m\u001b[0m\n\u001b[0m\u001b[0;32m      2\u001b[0m \u001b[0mmodel\u001b[0m\u001b[1;33m.\u001b[0m\u001b[0maq\u001b[0m\u001b[1;33m.\u001b[0m\u001b[0mkaq\u001b[0m\u001b[1;33m[\u001b[0m\u001b[1;33m:\u001b[0m\u001b[1;33m]\u001b[0m\u001b[1;33m\u001b[0m\u001b[1;33m\u001b[0m\u001b[0m\n\u001b[0;32m      3\u001b[0m \u001b[0mprint\u001b[0m\u001b[1;33m(\u001b[0m\u001b[0mmodel\u001b[0m\u001b[1;33m.\u001b[0m\u001b[0maq\u001b[0m\u001b[1;33m.\u001b[0m\u001b[0mSll\u001b[0m\u001b[1;33m[\u001b[0m\u001b[1;36m0\u001b[0m\u001b[1;33m]\u001b[0m\u001b[1;33m)\u001b[0m\u001b[1;33m\u001b[0m\u001b[1;33m\u001b[0m\u001b[0m\n",
      "\u001b[1;31mNameError\u001b[0m: name 'w' is not defined"
     ]
    }
   ],
   "source": [
    "w.rc[:]\n",
    "model.aq.kaq[:]\n",
    "print(model.aq.Sll[0])"
   ]
  },
  {
   "cell_type": "markdown",
   "metadata": {},
   "source": [
    "Create single layer model (overlying aquifer and aquitard are excluded):"
   ]
  },
  {
   "cell_type": "code",
   "execution_count": null,
   "metadata": {},
   "outputs": [],
   "source": [
    "ml_0 = ModelMaq(z=[zt1, zb1], kaq=10, Saq=1e-4, tmin=1e-4, tmax=1)\n",
    "w_0 = Well(ml_0, xw=0, yw=0, rw=rw, tsandQ = [(0, Q), (1e+08, 0)])\n",
    "ml_0.solve()"
   ]
  },
  {
   "cell_type": "code",
   "execution_count": null,
   "metadata": {},
   "outputs": [],
   "source": [
    "ca_0 = Calibrate(ml_0)\n",
    "ca_0.set_parameter(name='kaq0', initial=10)\n",
    "ca_0.set_parameter(name='Saq0', initial=1e-4)\n",
    "ca_0.series(name='obs1', x=r1, y=0, t=t1, h=h1, layer=0)\n",
    "ca_0.series(name='obs2', x=r2, y=0, t=t2, h=h2, layer=0)\n",
    "ca_0.fit(report=True)"
   ]
  },
  {
   "cell_type": "code",
   "execution_count": null,
   "metadata": {},
   "outputs": [],
   "source": [
    "display(ca_0.parameters)\n",
    "print('RMSE:', ca_0.rmse())"
   ]
  },
  {
   "cell_type": "code",
   "execution_count": null,
   "metadata": {},
   "outputs": [],
   "source": [
    "hm1_0 = ml_0.head(r1, 0, t1)\n",
    "hm2_0 = ml_0.head(r2, 0, t2)\n",
    "plt.figure(figsize = (8, 5))\n",
    "plt.semilogx(t1, h1, '.', label='obs1')\n",
    "plt.semilogx(t2, h2, '.', label='obs2')\n",
    "plt.semilogx(t1, hm1_0[-1], label='ttim1')\n",
    "plt.semilogx(t2, hm2_0[-1], label='ttim2')\n",
    "plt.xlabel('time(d)')\n",
    "plt.ylabel('drawdown(m)')\n",
    "plt.legend();"
   ]
  },
  {
   "cell_type": "markdown",
   "metadata": {},
   "source": [
    "To improve model's performance, rc & res are adding:"
   ]
  },
  {
   "cell_type": "code",
   "execution_count": null,
   "metadata": {},
   "outputs": [],
   "source": [
    "ml_1 = ModelMaq(z=[zt1, zb1], kaq=10, Saq=1e-4, tmin=1e-4, tmax=1)\n",
    "w_1 = Well(ml_1, xw=0, yw=0, rw=rw, rc=0, res=5, tsandQ = [(0, Q), (1e+08, 0)])\n",
    "ml_1.solve()"
   ]
  },
  {
   "cell_type": "code",
   "execution_count": null,
   "metadata": {},
   "outputs": [],
   "source": [
    "ca_1 = Calibrate(ml_1)\n",
    "ca_1.set_parameter(name='kaq0', initial=10)\n",
    "ca_1.set_parameter(name='Saq0', initial=1e-4)\n",
    "ca_1.set_parameter_by_reference(name='rc', parameter=w_1.rc[:], initial=0.2)\n",
    "ca_1.set_parameter_by_reference(name='res', parameter=w_1.res[:], initial=3)\n",
    "ca_1.series(name='obs1', x=r1, y=0, t=t1, h=h1, layer=0)\n",
    "ca_1.series(name='obs2', x=r2, y=0, t=t2, h=h2, layer=0)\n",
    "ca_1.fit(report=True)"
   ]
  },
  {
   "cell_type": "code",
   "execution_count": null,
   "metadata": {},
   "outputs": [],
   "source": [
    "display(ca_1.parameters)\n",
    "print('RMSE:', ca_1.rmse())"
   ]
  },
  {
   "cell_type": "code",
   "execution_count": null,
   "metadata": {},
   "outputs": [],
   "source": [
    "hm1_1 = ml_1.head(r1, 0, t1)\n",
    "hm2_1 = ml_1.head(r2, 0, t2)\n",
    "plt.figure(figsize = (8, 5))\n",
    "plt.semilogx(t1, h1, '.', label='obs1')\n",
    "plt.semilogx(t2, h2, '.', label='obs2')\n",
    "plt.semilogx(t1, hm1_1[-1], label='ttim1')\n",
    "plt.semilogx(t2, hm2_1[-1], label='ttim2')\n",
    "plt.xlabel('time(d)')\n",
    "plt.ylabel('drawdown(m)')\n",
    "plt.legend();"
   ]
  },
  {
   "cell_type": "markdown",
   "metadata": {},
   "source": [
    "Create three-layer conceptual model:"
   ]
  },
  {
   "cell_type": "code",
   "execution_count": null,
   "metadata": {},
   "outputs": [],
   "source": [
    "ml_2 = ModelMaq(kaq=[17.28, 2], z=[zt0, zb0, zt1, zb1], c=200, Saq=[1.2e-4, 1e-5],\\\n",
    "                 Sll=3e-5, topboundary='conf', tmin=1e-4, tmax=0.5)\n",
    "w_2 = Well(ml_2, xw=0, yw=0, rw=rw, tsandQ = [(0, Q), (1e+08, 0)], layers=1)\n",
    "ml_2.solve()"
   ]
  },
  {
   "cell_type": "code",
   "execution_count": null,
   "metadata": {},
   "outputs": [],
   "source": [
    "ca_2 = Calibrate(ml_2)\n",
    "ca_2.set_parameter(name= 'kaq0', initial=20, pmin=0)\n",
    "ca_2.set_parameter(name='kaq1', initial=1, pmin=0)\n",
    "ca_2.set_parameter(name='Saq0', initial=1e-4, pmin=0)\n",
    "ca_2.set_parameter(name='Saq1', initial=1e-5, pmin=0)\n",
    "ca_2.set_parameter_by_reference(name='Sll', parameter=ml_2.aq.Sll[:],\\\n",
    "                                initial=1e-4, pmin=0)\n",
    "ca_2.set_parameter(name='c1', initial=100, pmin=0)\n",
    "ca_2.series(name='obs1', x=r1, y=0, t=t1, h=h1, layer=1)\n",
    "ca_2.series(name='obs2', x=r2, y=0, t=t2, h=h2, layer=1)\n",
    "ca_2.fit(report=True)"
   ]
  },
  {
   "cell_type": "code",
   "execution_count": null,
   "metadata": {},
   "outputs": [],
   "source": [
    "display(ca_2.parameters)\n",
    "print('RMSE:',ca_2.rmse())"
   ]
  },
  {
   "cell_type": "code",
   "execution_count": null,
   "metadata": {},
   "outputs": [],
   "source": [
    "hm1_2 = ml_2.head(r1, 0, t1)\n",
    "hm2_2 = ml_2.head(r2, 0, t2)\n",
    "plt.figure(figsize = (8, 5))\n",
    "plt.semilogx(t1, h1, '.', label='obs1')\n",
    "plt.semilogx(t2, h2, '.', label='obs2')\n",
    "plt.semilogx(t1, hm1_2[-1], label='ttim1')\n",
    "plt.semilogx(t2, hm2_2[-1], label='ttim2')\n",
    "plt.xlabel('time(d)')\n",
    "plt.ylabel('drawdown(m)')\n",
    "plt.legend();"
   ]
  },
  {
   "cell_type": "markdown",
   "metadata": {},
   "source": [
    "Try adding res & rc:"
   ]
  },
  {
   "cell_type": "code",
   "execution_count": null,
   "metadata": {},
   "outputs": [],
   "source": [
    "ml_3 = ModelMaq(kaq=[19, 2], z=[zt0, zb0, zt1, zb1], c=200, Saq=[4e-4, 1e-5],\\\n",
    "                 Sll=1e-4, topboundary='conf', tmin=1e-4, tmax=0.5)\n",
    "w_3 = Well(ml_3, xw=0, yw=0, rw=rw, rc=None, res=5, tsandQ = [(0, Q), (1e+08, 0)], \\\n",
    "           layers=1)\n",
    "ml_3.solve()"
   ]
  },
  {
   "cell_type": "code",
   "execution_count": null,
   "metadata": {
    "scrolled": true
   },
   "outputs": [],
   "source": [
    "ca_3 = Calibrate(ml_3)\n",
    "ca_3.set_parameter(name= 'kaq0', initial=20, pmin=0)\n",
    "ca_3.set_parameter(name='kaq1', initial=1, pmin=0)\n",
    "ca_3.set_parameter(name='Saq0', initial=1e-4, pmin=0)\n",
    "ca_3.set_parameter(name='Saq1', initial=1e-5, pmin=0)\n",
    "ca_3.set_parameter_by_reference(name='Sll', parameter=ml_3.aq.Sll[:],\\\n",
    "                                initial=1e-4, pmin=0)\n",
    "ca_3.set_parameter(name='c1', initial=100, pmin=0)\n",
    "ca_3.set_parameter_by_reference(name='res', parameter=w_3.res[:], initial=5, pmin=0)\n",
    "ca_3.set_parameter_by_reference(name='rc', parameter=w_3.rc[:], initial=0.2, pmin=0)\n",
    "ca_3.series(name='obs1', x=r1, y=0, t=t1, h=h1, layer=1)\n",
    "ca_3.series(name='obs2', x=r2, y=0, t=t2, h=h2, layer=1)\n",
    "ca_3.fit(report=True)"
   ]
  },
  {
   "cell_type": "code",
   "execution_count": null,
   "metadata": {
    "scrolled": true
   },
   "outputs": [],
   "source": [
    "display(ca_3.parameters)\n",
    "print('RMSE:', ca_3.rmse())"
   ]
  },
  {
   "cell_type": "code",
   "execution_count": null,
   "metadata": {},
   "outputs": [],
   "source": [
    "hm1_3 = ml_3.head(r1, 0, t1)\n",
    "hm2_3 = ml_3.head(r2, 0, t2)\n",
    "plt.figure(figsize = (8, 5))\n",
    "plt.semilogx(t1, h1, '.', label='obs1')\n",
    "plt.semilogx(t2, h2, '.', label='obs2')\n",
    "plt.semilogx(t1, hm1_3[-1], label='ttim1')\n",
    "plt.semilogx(t2, hm2_3[-1], label='ttim2')\n",
    "plt.xlabel('time(d)')\n",
    "plt.ylabel('drawdown(m)')\n",
    "plt.legend();"
   ]
  },
  {
   "cell_type": "markdown",
   "metadata": {},
   "source": [
    "Calibrate with fitted characters for upper aquifer:"
   ]
  },
  {
   "cell_type": "code",
   "execution_count": null,
   "metadata": {},
   "outputs": [],
   "source": [
    "ml_4 = ModelMaq(kaq=[17.28, 2], z=[zt0, zb0, zt1, zb1], c=200, Saq=[1.2e-4, 1e-5],\\\n",
    "                 Sll=3e-5, topboundary='conf', tmin=1e-4, tmax=0.5)\n",
    "w_4 = Well(ml_4, xw=0, yw=0, rw=rw, rc=None, res=5, tsandQ = [(0, Q), (1e+08, 0)], \\\n",
    "           layers=1)\n",
    "ml_4.solve()"
   ]
  },
  {
   "cell_type": "code",
   "execution_count": null,
   "metadata": {},
   "outputs": [],
   "source": [
    "ca_4 = Calibrate(ml_4)\n",
    "ca_4.set_parameter(name='kaq1', initial=1, pmin=0)\n",
    "ca_4.set_parameter(name='Saq1', initial=1e-5, pmin=0)\n",
    "ca_4.set_parameter(name='c1', initial=100, pmin=0)\n",
    "ca_4.set_parameter_by_reference(name='res', parameter=w_4.res[:], initial=5, pmin=0)\n",
    "ca_4.set_parameter_by_reference(name='rc', parameter=w_4.rc[:], initial=0.2, pmin=0)\n",
    "ca_4.series(name='obs1', x=r1, y=0, t=t1, h=h1, layer=1)\n",
    "ca_4.series(name='obs2', x=r2, y=0, t=t2, h=h2, layer=1)\n",
    "ca_4.fit(report=True)"
   ]
  },
  {
   "cell_type": "code",
   "execution_count": null,
   "metadata": {},
   "outputs": [],
   "source": [
    "display(ca_4.parameters)\n",
    "print('RMSE:', ca_4.rmse())"
   ]
  },
  {
   "cell_type": "code",
   "execution_count": null,
   "metadata": {},
   "outputs": [],
   "source": [
    "hm1_4 = ml_4.head(r1, 0, t1)\n",
    "hm2_4 = ml_4.head(r2, 0, t2)\n",
    "plt.figure(figsize = (8, 5))\n",
    "plt.semilogx(t1, h1, '.', label='obs1')\n",
    "plt.semilogx(t2, h2, '.', label='obs2')\n",
    "plt.semilogx(t1, hm1_4[-1], label='ttim1')\n",
    "plt.semilogx(t2, hm2_4[-1], label='ttim2')\n",
    "plt.xlabel('time(d)')\n",
    "plt.ylabel('drawdown(m)')\n",
    "plt.legend();"
   ]
  },
  {
   "cell_type": "markdown",
   "metadata": {},
   "source": [
    "## Summary of values simulated by MLU"
   ]
  },
  {
   "cell_type": "markdown",
   "metadata": {},
   "source": [
    "Results of calibrations done with three-layer model of ttim are presented below."
   ]
  },
  {
   "cell_type": "code",
   "execution_count": null,
   "metadata": {},
   "outputs": [],
   "source": [
    "t = pd.DataFrame(columns=['k0[m/d]','k1[m/d]','Ss0[1/m]','Ss1[1/m]','Sll[1/m]','c[d]',\\\n",
    "                         'res','rc'], \\\n",
    "                index=['MLU', 'MLU-fixed k1','ttim','ttim-res&rc','ttim-fixed upper'])\n",
    "t.loc['ttim-res&rc'] = ca_3.parameters['optimal'].values\n",
    "t.iloc[2,0:6] = ca_2.parameters['optimal'].values\n",
    "t.iloc[4,5:8] = ca_4.parameters['optimal'].values[2:5]\n",
    "t.iloc[4,0] = 17.28\n",
    "t.iloc[4,1] = ca_4.parameters['optimal'].values[0]\n",
    "t.iloc[4,2] = 1.2e-4\n",
    "t.iloc[4,3] = ca_4.parameters['optimal'].values[1]\n",
    "t.iloc[4,4] = 3e-5\n",
    "t.iloc[0, 0:6] = [17.424, 6.027e-05, 1.747, 6.473e-06, 3.997e-05, 216]\n",
    "t.iloc[1, 0:6] = [2.020e-04, 9.110e-04, 3.456, 6.214e-05, 7.286e-05, 453.5]\n",
    "t['RMSE'] = [0.023452, 0.162596, ca_2.rmse(), ca_3.rmse(), ca_4.rmse()]\n",
    "t"
   ]
  },
  {
   "cell_type": "code",
   "execution_count": null,
   "metadata": {},
   "outputs": [],
   "source": []
  }
 ],
 "metadata": {
  "kernelspec": {
   "display_name": "Python 3",
   "language": "python",
   "name": "python3"
  },
  "language_info": {
   "codemirror_mode": {
    "name": "ipython",
    "version": 3
   },
   "file_extension": ".py",
   "mimetype": "text/x-python",
   "name": "python",
   "nbconvert_exporter": "python",
   "pygments_lexer": "ipython3",
   "version": "3.7.4"
  }
 },
 "nbformat": 4,
 "nbformat_minor": 2
}
