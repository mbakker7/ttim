{
 "cells": [
  {
   "cell_type": "markdown",
   "metadata": {},
   "source": [
    "# Confined Aquifer Test\n",
    "**Extracted from Book K&dR**"
   ]
  },
  {
   "cell_type": "code",
   "execution_count": 1,
   "metadata": {},
   "outputs": [],
   "source": [
    "%matplotlib inline\n",
    "import numpy as np\n",
    "import matplotlib.pyplot as plt\n",
    "from ttim import *"
   ]
  },
  {
   "cell_type": "markdown",
   "metadata": {},
   "source": [
    "Set basic parameters for the model:"
   ]
  },
  {
   "cell_type": "code",
   "execution_count": 2,
   "metadata": {},
   "outputs": [],
   "source": [
    "H = 7 #aquifer thickness\n",
    "wt = -18 #top boundary of aquifer\n",
    "wb = wt - H #bottom boundary of aquifer\n",
    "Q = 788 #constant discharge"
   ]
  },
  {
   "cell_type": "markdown",
   "metadata": {},
   "source": [
    "Create conceptual model:"
   ]
  },
  {
   "cell_type": "code",
   "execution_count": 3,
   "metadata": {},
   "outputs": [],
   "source": [
    "#unkonwn parameters: kaq, Saq\n",
    "ml = ModelMaq(kaq=60, z=[wt, wb], Saq=1e-4, tmin=1e-5, tmax=1)\n",
    "w = Well(ml, xw=0, yw=0, rw=0.1, rc=0.2, tsandQ=[(0, Q)], layers=0)\n",
    "ml.solve(silent='True')"
   ]
  },
  {
   "cell_type": "markdown",
   "metadata": {},
   "source": [
    "Load data of two observation wells:"
   ]
  },
  {
   "cell_type": "code",
   "execution_count": 4,
   "metadata": {},
   "outputs": [],
   "source": [
    "#time and drawdown of pizometer 30m away from pumping well\n",
    "data1 = np.loadtxt('data/piezometer_h30.txt', skiprows = 1)\n",
    "t1 = data1[:, 0] / 60 / 24 #convert min to days\n",
    "h1 = data1[:, 1]\n",
    "d1 = 30\n",
    "#time and drawdown of piezometer 90m away from pumping well\n",
    "data2 = np.loadtxt('data/piezometer_h90.txt', skiprows = 1)\n",
    "t2 = data2[:, 0] / 60 / 24 #convert min to days\n",
    "h2 = data2[:, 1]\n",
    "d2 = 90"
   ]
  },
  {
   "cell_type": "markdown",
   "metadata": {},
   "source": [
    "Calibrate model with two datasets simultaneously:"
   ]
  },
  {
   "cell_type": "code",
   "execution_count": 5,
   "metadata": {
    "scrolled": false
   },
   "outputs": [
    {
     "name": "stdout",
     "output_type": "stream",
     "text": [
      "....................................................................\n",
      "Fit succeeded.\n",
      "[[Fit Statistics]]\n",
      "    # fitting method   = leastsq\n",
      "    # function evals   = 65\n",
      "    # data points      = 69\n",
      "    # variables        = 3\n",
      "    chi-square         = 0.17295405\n",
      "    reduced chi-square = 0.00262052\n",
      "    Akaike info crit   = -407.229672\n",
      "    Bayesian info crit = -400.527353\n",
      "[[Variables]]\n",
      "    kaq0:  66.0942055 +/- 1.69346678 (2.56%) (init = 10)\n",
      "    Saq0:  2.5397e-05 +/- 2.4382e-06 (9.60%) (init = 0.0001)\n",
      "    rc:    0.01000063 +/- 0.00318834 (31.88%) (init = 0.5)\n",
      "[[Correlations]] (unreported correlations are < 0.100)\n",
      "    C(kaq0, Saq0) = -0.857\n",
      "    C(kaq0, rc)   =  0.174\n",
      "    C(Saq0, rc)   = -0.124\n"
     ]
    },
    {
     "data": {
      "text/html": [
       "<div>\n",
       "<style scoped>\n",
       "    .dataframe tbody tr th:only-of-type {\n",
       "        vertical-align: middle;\n",
       "    }\n",
       "\n",
       "    .dataframe tbody tr th {\n",
       "        vertical-align: top;\n",
       "    }\n",
       "\n",
       "    .dataframe thead th {\n",
       "        text-align: right;\n",
       "    }\n",
       "</style>\n",
       "<table border=\"1\" class=\"dataframe\">\n",
       "  <thead>\n",
       "    <tr style=\"text-align: right;\">\n",
       "      <th></th>\n",
       "      <th>optimal</th>\n",
       "      <th>std</th>\n",
       "      <th>perc_std</th>\n",
       "      <th>pmin</th>\n",
       "      <th>pmax</th>\n",
       "      <th>initial</th>\n",
       "      <th>parray</th>\n",
       "    </tr>\n",
       "  </thead>\n",
       "  <tbody>\n",
       "    <tr>\n",
       "      <td>kaq0</td>\n",
       "      <td>66.0942</td>\n",
       "      <td>1.693467</td>\n",
       "      <td>2.5622</td>\n",
       "      <td>-inf</td>\n",
       "      <td>inf</td>\n",
       "      <td>10</td>\n",
       "      <td>[66.09420548098683]</td>\n",
       "    </tr>\n",
       "    <tr>\n",
       "      <td>Saq0</td>\n",
       "      <td>2.53974e-05</td>\n",
       "      <td>0.000002</td>\n",
       "      <td>9.60001</td>\n",
       "      <td>-inf</td>\n",
       "      <td>inf</td>\n",
       "      <td>0.0001</td>\n",
       "      <td>[2.5397425346160583e-05]</td>\n",
       "    </tr>\n",
       "    <tr>\n",
       "      <td>rc</td>\n",
       "      <td>0.0100006</td>\n",
       "      <td>0.003188</td>\n",
       "      <td>31.8814</td>\n",
       "      <td>0.01</td>\n",
       "      <td>inf</td>\n",
       "      <td>0.5</td>\n",
       "      <td>[0.010000634011849474]</td>\n",
       "    </tr>\n",
       "  </tbody>\n",
       "</table>\n",
       "</div>"
      ],
      "text/plain": [
       "          optimal       std perc_std  pmin  pmax initial  \\\n",
       "kaq0      66.0942  1.693467   2.5622  -inf   inf      10   \n",
       "Saq0  2.53974e-05  0.000002  9.60001  -inf   inf  0.0001   \n",
       "rc      0.0100006  0.003188  31.8814  0.01   inf     0.5   \n",
       "\n",
       "                        parray  \n",
       "kaq0       [66.09420548098683]  \n",
       "Saq0  [2.5397425346160583e-05]  \n",
       "rc      [0.010000634011849474]  "
      ]
     },
     "metadata": {},
     "output_type": "display_data"
    }
   ],
   "source": [
    "ca = Calibrate(ml)\n",
    "ca.set_parameter(name='kaq0', initial=10)\n",
    "ca.set_parameter(name='Saq0', initial=1e-4)\n",
    "ca.set_parameter_by_reference(name='rc', parameter=w.rc[:], initial=0.5, pmin=0.01)\n",
    "ca.series(name='obs1', x=d1, y=0, t=t1, h=h1, layer=0)\n",
    "ca.series(name='obs2', x=d2, y=0, t=t2, h=h2, layer=0)\n",
    "ca.fit(report=True)\n",
    "display(ca.parameters)"
   ]
  },
  {
   "cell_type": "code",
   "execution_count": 6,
   "metadata": {},
   "outputs": [
    {
     "name": "stdout",
     "output_type": "stream",
     "text": [
      "rmse: 0.05006576107067656\n"
     ]
    },
    {
     "data": {
      "image/png": "[encoded data removed]",
      "text/plain": [
       "<Figure size 576x360 with 1 Axes>"
      ]
     },
     "metadata": {
      "needs_background": "light"
     },
     "output_type": "display_data"
    }
   ],
   "source": [
    "print('rmse:', ca.rmse())\n",
    "hm1 = ml.head(d1, 0, t1)\n",
    "hm2 = ml.head(d2, 0 ,t2)\n",
    "plt.figure(figsize = (8, 5))\n",
    "plt.semilogx(t1, h1, '.', label='obs at 30m')\n",
    "plt.semilogx(t1, hm1[0], label='ttim at 30 m')\n",
    "plt.semilogx(t2, h2, '.', label='obs at 90m')\n",
    "plt.semilogx(t2, hm2[0], label = 'ttim at 90m')\n",
    "plt.xlabel('time(d)')\n",
    "plt.ylabel('drawdown(m)')\n",
    "plt.title('ttim analysis for Oude Korendijk')\n",
    "plt.legend();"
   ]
  },
  {
   "cell_type": "markdown",
   "metadata": {},
   "source": [
    "#### Theis's method"
   ]
  },
  {
   "cell_type": "code",
   "execution_count": 7,
   "metadata": {},
   "outputs": [],
   "source": [
    "from scipy import integrate\n",
    "from lmfit import Parameters, minimize, fit_report"
   ]
  },
  {
   "cell_type": "markdown",
   "metadata": {},
   "source": [
    "Create Headfunction of Theis's method:"
   ]
  },
  {
   "cell_type": "code",
   "execution_count": 8,
   "metadata": {},
   "outputs": [],
   "source": [
    "def F(x):\n",
    "    return np.exp(-x)/x\n",
    "\n",
    "def Headfunc(r, t0, t, Q, k, H, S):\n",
    "    T = k * H\n",
    "    a = len(t)\n",
    "    h = [None] * a\n",
    "    for i in range(len(t)):\n",
    "        u = r ** 2 * S / (4 * T * (t[i] - t0))\n",
    "        E, err = integrate.quad(F, u, np.inf)\n",
    "        h[i] = - Q * E / (4 * np.pi * T)\n",
    "    return h"
   ]
  },
  {
   "cell_type": "markdown",
   "metadata": {},
   "source": [
    "Define calibrate function:"
   ]
  },
  {
   "cell_type": "code",
   "execution_count": 9,
   "metadata": {},
   "outputs": [],
   "source": [
    "def lmT(p, dat1 = None, dat2 = None, result = 0):\n",
    "    t1 = dat1[:, 0] / 60 / 24\n",
    "    t2 = dat2[:, 0] / 60 / 24\n",
    "    h1 = dat1[:, 1]\n",
    "    h2 = dat2[:, 1]\n",
    "    vals = p.valuesdict()\n",
    "    kaq = vals['kaq']\n",
    "    Saq = vals['Saq']\n",
    "    d1 = vals['d1']\n",
    "    d2 = vals['d2']\n",
    "    \n",
    "    hm1 = Headfunc(d1, 0, t1, 788, kaq, 7, Saq)\n",
    "    hm2 = Headfunc(d2, 0, t2, 788, kaq, 7, Saq)\n",
    "    \n",
    "    resid1 = h1 - hm1\n",
    "    resid2 = h2 - hm2\n",
    "    if result == 0:\n",
    "        return np.concatenate((resid1, resid2))\n",
    "    else:\n",
    "        return hm1, hm2"
   ]
  },
  {
   "cell_type": "code",
   "execution_count": 10,
   "metadata": {},
   "outputs": [],
   "source": [
    "PH = Parameters()\n",
    "PH.add('kaq', value = 100)\n",
    "PH.add('Saq', value = 1e-4)\n",
    "PH.add('d1', value = 30)\n",
    "PH.add('d2', value = 90)\n",
    "PH['d1'].vary = False\n",
    "PH['d2'].vary = False"
   ]
  },
  {
   "cell_type": "markdown",
   "metadata": {},
   "source": [
    "Calibrate with two datasets simultneously:"
   ]
  },
  {
   "cell_type": "code",
   "execution_count": 11,
   "metadata": {},
   "outputs": [
    {
     "name": "stdout",
     "output_type": "stream",
     "text": [
      "[[Fit Statistics]]\n",
      "    # fitting method   = leastsq\n",
      "    # function evals   = 17\n",
      "    # data points      = 69\n",
      "    # variables        = 2\n",
      "    chi-square         = 0.17291621\n",
      "    reduced chi-square = 0.00258084\n",
      "    Akaike info crit   = -409.244768\n",
      "    Bayesian info crit = -404.776555\n",
      "[[Variables]]\n",
      "    kaq:  66.0881654 +/- 1.63797049 (2.48%) (init = 100)\n",
      "    Saq:  1.7788e-04 +/- 1.6700e-05 (9.39%) (init = 0.0001)\n",
      "    d1:   30 (fixed)\n",
      "    d2:   90 (fixed)\n",
      "[[Correlations]] (unreported correlations are < 0.100)\n",
      "    C(kaq, Saq) = -0.855\n"
     ]
    }
   ],
   "source": [
    "resultH = minimize(lmT, PH, kws = {'dat1':data1, 'dat2':data2}, epsfcn=1e-8, xtol=1e-5)\n",
    "print(fit_report(resultH))"
   ]
  },
  {
   "cell_type": "code",
   "execution_count": 12,
   "metadata": {},
   "outputs": [
    {
     "name": "stdout",
     "output_type": "stream",
     "text": [
      "rmse: 0.006026550071888317\n"
     ]
    }
   ],
   "source": [
    "hH1, hH2 = lmT(resultH.params, dat1 = data1, dat2 = data2, result = 1)\n",
    "ht = np.append(h1, h2)\n",
    "htH = np.append(hH1, hH2)\n",
    "r = [0] * len(ht) \n",
    "x = 0\n",
    "for i in range(len(r)):\n",
    "    r[i] = (ht[i] - htH[i]) ** 2\n",
    "    x += r[i]\n",
    "rmse = np.sqrt(x) / len(ht)\n",
    "print('rmse:', rmse)"
   ]
  },
  {
   "cell_type": "code",
   "execution_count": 13,
   "metadata": {},
   "outputs": [
    {
     "data": {
      "image/png": "[encoded data removed]",
      "text/plain": [
       "<Figure size 576x360 with 1 Axes>"
      ]
     },
     "metadata": {
      "needs_background": "light"
     },
     "output_type": "display_data"
    }
   ],
   "source": [
    "hH1, hH2 = lmT(resultH.params, dat1=data1, dat2=data2, result=1)\n",
    "plt.figure(figsize=(8, 5))\n",
    "plt.semilogx(t1, hH1, label='Theis at 30m')\n",
    "plt.semilogx(t1, h1, '.', label='obs at 30m')\n",
    "plt.semilogx(t2, hH2, label='Theis at 90m')\n",
    "plt.semilogx(t2, h2, '.', label='obs at 90m')\n",
    "plt.xlabel('time(d)')\n",
    "plt.ylabel('drawdown(m)')\n",
    "plt.legend();"
   ]
  },
  {
   "cell_type": "markdown",
   "metadata": {},
   "source": [
    "#### Thiem's method"
   ]
  },
  {
   "cell_type": "markdown",
   "metadata": {},
   "source": [
    "Calculate hydraulic conductivity with Thiem's method:"
   ]
  },
  {
   "cell_type": "code",
   "execution_count": 14,
   "metadata": {},
   "outputs": [
    {
     "name": "stdout",
     "output_type": "stream",
     "text": [
      "52.8520660573295\n"
     ]
    }
   ],
   "source": [
    "s2 = h2[-1]\n",
    "s1 = h1[-1]\n",
    "\n",
    "T = 788 * 2.30 * np.log10(d2 / d1) / (2 * np.pi * (s2 - s1))\n",
    "k = T / 7\n",
    "print(k)"
   ]
  },
  {
   "cell_type": "code",
   "execution_count": null,
   "metadata": {},
   "outputs": [],
   "source": []
  }
 ],
 "metadata": {
  "kernelspec": {
   "display_name": "Python 3",
   "language": "python",
   "name": "python3"
  },
  "language_info": {
   "codemirror_mode": {
    "name": "ipython",
    "version": 3
   },
   "file_extension": ".py",
   "mimetype": "text/x-python",
   "name": "python",
   "nbconvert_exporter": "python",
   "pygments_lexer": "ipython3",
   "version": "3.7.4"
  }
 },
 "nbformat": 4,
 "nbformat_minor": 2
}
