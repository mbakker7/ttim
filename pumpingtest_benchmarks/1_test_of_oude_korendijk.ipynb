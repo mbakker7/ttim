{
 "cells": [
  {
   "cell_type": "markdown",
   "metadata": {},
   "source": [
    "# Confined Aquifer Test\n",
    "**This example is taken from Kruseman and de Ridder (1970)**"
   ]
  },
  {
   "cell_type": "code",
   "execution_count": 1,
   "metadata": {},
   "outputs": [],
   "source": [
    "%matplotlib inline\n",
    "import numpy as np\n",
    "import matplotlib.pyplot as plt\n",
    "from ttim import *\n",
    "import pandas as pd"
   ]
  },
  {
   "cell_type": "markdown",
   "metadata": {},
   "source": [
    "Set basic parameters for the model:"
   ]
  },
  {
   "cell_type": "code",
   "execution_count": 2,
   "metadata": {},
   "outputs": [],
   "source": [
    "H = 7 #aquifer thickness\n",
    "zt = -18 #top boundary of aquifer\n",
    "zb = zt - H #bottom boundary of aquifer\n",
    "Q = 788 #constant discharge"
   ]
  },
  {
   "cell_type": "markdown",
   "metadata": {},
   "source": [
    "Create conceptual model:"
   ]
  },
  {
   "cell_type": "code",
   "execution_count": 3,
   "metadata": {},
   "outputs": [],
   "source": [
    "#unkonwn parameters: kaq, Saq\n",
    "ml = ModelMaq(kaq=60, z=[zt, zb], Saq=1e-4, tmin=1e-5, tmax=1)\n",
    "w = Well(ml, xw=0, yw=0, rw=0.2, tsandQ=[(0, Q)], layers=0)\n",
    "ml.solve(silent='True')"
   ]
  },
  {
   "cell_type": "markdown",
   "metadata": {},
   "source": [
    "Load data of two observation wells:"
   ]
  },
  {
   "cell_type": "code",
   "execution_count": 4,
   "metadata": {},
   "outputs": [],
   "source": [
    "#time and drawdown of piezometer 30m away from pumping well\n",
    "data1 = np.loadtxt('data/piezometer_h30.txt', skiprows = 1)\n",
    "t1 = data1[:, 0] / 60 / 24 #convert min to days\n",
    "h1 = data1[:, 1]\n",
    "r1 = 30\n",
    "#time and drawdown of piezometer 90m away from pumping well\n",
    "data2 = np.loadtxt('data/piezometer_h90.txt', skiprows = 1)\n",
    "t2 = data2[:, 0] / 60 / 24 #convert min to days\n",
    "h2 = data2[:, 1]\n",
    "r2 = 90"
   ]
  },
  {
   "cell_type": "markdown",
   "metadata": {},
   "source": [
    "Calibrate using only the data from observation well 1:"
   ]
  },
  {
   "cell_type": "code",
   "execution_count": 5,
   "metadata": {},
   "outputs": [
    {
     "name": "stdout",
     "output_type": "stream",
     "text": [
      "...................................\n",
      "Fit succeeded.\n",
      "[[Fit Statistics]]\n",
      "    # fitting method   = leastsq\n",
      "    # function evals   = 32\n",
      "    # data points      = 34\n",
      "    # variables        = 2\n",
      "    chi-square         = 0.03408048\n",
      "    reduced chi-square = 0.00106502\n",
      "    Akaike info crit   = -230.783293\n",
      "    Bayesian info crit = -227.730572\n",
      "[[Variables]]\n",
      "    kaq0:  68.6394693 +/- 1.43827759 (2.10%) (init = 10)\n",
      "    Saq0:  1.6071e-05 +/- 1.5823e-06 (9.85%) (init = 0.0001)\n",
      "[[Correlations]] (unreported correlations are < 0.100)\n",
      "    C(kaq0, Saq0) = -0.891\n"
     ]
    },
    {
     "data": {
      "text/html": [
       "<div>\n",
       "<style scoped>\n",
       "    .dataframe tbody tr th:only-of-type {\n",
       "        vertical-align: middle;\n",
       "    }\n",
       "\n",
       "    .dataframe tbody tr th {\n",
       "        vertical-align: top;\n",
       "    }\n",
       "\n",
       "    .dataframe thead th {\n",
       "        text-align: right;\n",
       "    }\n",
       "</style>\n",
       "<table border=\"1\" class=\"dataframe\">\n",
       "  <thead>\n",
       "    <tr style=\"text-align: right;\">\n",
       "      <th></th>\n",
       "      <th>optimal</th>\n",
       "      <th>std</th>\n",
       "      <th>perc_std</th>\n",
       "      <th>pmin</th>\n",
       "      <th>pmax</th>\n",
       "      <th>initial</th>\n",
       "      <th>parray</th>\n",
       "    </tr>\n",
       "  </thead>\n",
       "  <tbody>\n",
       "    <tr>\n",
       "      <td>kaq0</td>\n",
       "      <td>68.6395</td>\n",
       "      <td>1.438278</td>\n",
       "      <td>2.09541</td>\n",
       "      <td>-inf</td>\n",
       "      <td>inf</td>\n",
       "      <td>10</td>\n",
       "      <td>[68.63946928731693]</td>\n",
       "    </tr>\n",
       "    <tr>\n",
       "      <td>Saq0</td>\n",
       "      <td>1.60712e-05</td>\n",
       "      <td>0.000002</td>\n",
       "      <td>9.8453</td>\n",
       "      <td>-inf</td>\n",
       "      <td>inf</td>\n",
       "      <td>0.0001</td>\n",
       "      <td>[1.607118069739686e-05]</td>\n",
       "    </tr>\n",
       "  </tbody>\n",
       "</table>\n",
       "</div>"
      ],
      "text/plain": [
       "          optimal       std perc_std  pmin  pmax initial  \\\n",
       "kaq0      68.6395  1.438278  2.09541  -inf   inf      10   \n",
       "Saq0  1.60712e-05  0.000002   9.8453  -inf   inf  0.0001   \n",
       "\n",
       "                       parray  \n",
       "kaq0      [68.63946928731693]  \n",
       "Saq0  [1.607118069739686e-05]  "
      ]
     },
     "metadata": {},
     "output_type": "display_data"
    }
   ],
   "source": [
    "ca1 = Calibrate(ml)\n",
    "ca1.set_parameter(name='kaq0', initial=10)\n",
    "ca1.set_parameter(name='Saq0', initial=1e-4)\n",
    "ca1.series(name='obs1', x=r1, y=0, t=t1, h=h1, layer=0)\n",
    "ca1.fit(report=True)\n",
    "display(ca1.parameters)"
   ]
  },
  {
   "cell_type": "code",
   "execution_count": 6,
   "metadata": {},
   "outputs": [
    {
     "name": "stdout",
     "output_type": "stream",
     "text": [
      "rmse: 0.03166018156153158\n"
     ]
    },
    {
     "data": {
      "image/png": "[encoded data removed]",
      "text/plain": [
       "<Figure size 576x360 with 1 Axes>"
      ]
     },
     "metadata": {
      "needs_background": "light"
     },
     "output_type": "display_data"
    }
   ],
   "source": [
    "print('rmse:', ca1.rmse())\n",
    "hm1 = ml.head(r1, 0, t1)\n",
    "plt.figure(figsize=(8, 5))\n",
    "plt.semilogx(t1, h1, '.', label='obs at 30 m')\n",
    "plt.semilogx(t1, hm1[0], label='ttim at 30 m')\n",
    "plt.xlabel('time(d)')\n",
    "plt.ylabel('drawdown(m)')\n",
    "plt.title('ttim analysis for Oude Korendijk')\n",
    "plt.legend();"
   ]
  },
  {
   "cell_type": "markdown",
   "metadata": {},
   "source": [
    "Calibrate using only the data from observation well 2:"
   ]
  },
  {
   "cell_type": "code",
   "execution_count": 7,
   "metadata": {},
   "outputs": [
    {
     "name": "stdout",
     "output_type": "stream",
     "text": [
      "...............................\n",
      "Fit succeeded.\n",
      "[[Fit Statistics]]\n",
      "    # fitting method   = leastsq\n",
      "    # function evals   = 28\n",
      "    # data points      = 35\n",
      "    # variables        = 2\n",
      "    chi-square         = 0.01806492\n",
      "    reduced chi-square = 5.4742e-04\n",
      "    Akaike info crit   = -260.919609\n",
      "    Bayesian info crit = -257.808913\n",
      "[[Variables]]\n",
      "    kaq0:  71.5830705 +/- 1.57403261 (2.20%) (init = 10)\n",
      "    Saq0:  2.9106e-05 +/- 1.9378e-06 (6.66%) (init = 0.0001)\n",
      "[[Correlations]] (unreported correlations are < 0.100)\n",
      "    C(kaq0, Saq0) = -0.847\n"
     ]
    },
    {
     "data": {
      "text/html": [
       "<div>\n",
       "<style scoped>\n",
       "    .dataframe tbody tr th:only-of-type {\n",
       "        vertical-align: middle;\n",
       "    }\n",
       "\n",
       "    .dataframe tbody tr th {\n",
       "        vertical-align: top;\n",
       "    }\n",
       "\n",
       "    .dataframe thead th {\n",
       "        text-align: right;\n",
       "    }\n",
       "</style>\n",
       "<table border=\"1\" class=\"dataframe\">\n",
       "  <thead>\n",
       "    <tr style=\"text-align: right;\">\n",
       "      <th></th>\n",
       "      <th>optimal</th>\n",
       "      <th>std</th>\n",
       "      <th>perc_std</th>\n",
       "      <th>pmin</th>\n",
       "      <th>pmax</th>\n",
       "      <th>initial</th>\n",
       "      <th>parray</th>\n",
       "    </tr>\n",
       "  </thead>\n",
       "  <tbody>\n",
       "    <tr>\n",
       "      <td>kaq0</td>\n",
       "      <td>71.5831</td>\n",
       "      <td>1.574033</td>\n",
       "      <td>2.19889</td>\n",
       "      <td>-inf</td>\n",
       "      <td>inf</td>\n",
       "      <td>10</td>\n",
       "      <td>[71.58307046727971]</td>\n",
       "    </tr>\n",
       "    <tr>\n",
       "      <td>Saq0</td>\n",
       "      <td>2.91065e-05</td>\n",
       "      <td>0.000002</td>\n",
       "      <td>6.65777</td>\n",
       "      <td>-inf</td>\n",
       "      <td>inf</td>\n",
       "      <td>0.0001</td>\n",
       "      <td>[2.9106495014403527e-05]</td>\n",
       "    </tr>\n",
       "  </tbody>\n",
       "</table>\n",
       "</div>"
      ],
      "text/plain": [
       "          optimal       std perc_std  pmin  pmax initial  \\\n",
       "kaq0      71.5831  1.574033  2.19889  -inf   inf      10   \n",
       "Saq0  2.91065e-05  0.000002  6.65777  -inf   inf  0.0001   \n",
       "\n",
       "                        parray  \n",
       "kaq0       [71.58307046727971]  \n",
       "Saq0  [2.9106495014403527e-05]  "
      ]
     },
     "metadata": {},
     "output_type": "display_data"
    }
   ],
   "source": [
    "ca2 = Calibrate(ml)\n",
    "ca2.set_parameter(name='kaq0', initial=10)\n",
    "ca2.set_parameter(name='Saq0', initial=1e-4)\n",
    "ca2.series(name='obs2', x=r2, y=0, t=t2, h=h2, layer=0)\n",
    "ca2.fit(report=True)\n",
    "display(ca2.parameters)"
   ]
  },
  {
   "cell_type": "code",
   "execution_count": 8,
   "metadata": {},
   "outputs": [
    {
     "name": "stdout",
     "output_type": "stream",
     "text": [
      "rmse: 0.022718724245662295\n"
     ]
    },
    {
     "data": {
      "image/png": "[encoded data removed]",
      "text/plain": [
       "<Figure size 576x360 with 1 Axes>"
      ]
     },
     "metadata": {
      "needs_background": "light"
     },
     "output_type": "display_data"
    }
   ],
   "source": [
    "print('rmse:', ca2.rmse())\n",
    "hm2 = ml.head(r2, 0, t2)\n",
    "plt.figure(figsize=(8, 5))\n",
    "plt.semilogx(t2, h2, '.', label='obs at 90 m')\n",
    "plt.semilogx(t2, hm2[0], label='ttim at 90 m')\n",
    "plt.xlabel('time(d)')\n",
    "plt.ylabel('drawdown(m)')\n",
    "plt.title('ttim analysis for Oude Korendijk')\n",
    "plt.legend();"
   ]
  },
  {
   "cell_type": "markdown",
   "metadata": {},
   "source": [
    "Calibrate model with two datasets simultaneously:"
   ]
  },
  {
   "cell_type": "code",
   "execution_count": 9,
   "metadata": {},
   "outputs": [
    {
     "name": "stdout",
     "output_type": "stream",
     "text": [
      "...............................\n",
      "Fit succeeded.\n",
      "[[Fit Statistics]]\n",
      "    # fitting method   = leastsq\n",
      "    # function evals   = 28\n",
      "    # data points      = 69\n",
      "    # variables        = 2\n",
      "    chi-square         = 0.17291362\n",
      "    reduced chi-square = 0.00258080\n",
      "    Akaike info crit   = -409.245804\n",
      "    Bayesian info crit = -404.777591\n",
      "[[Variables]]\n",
      "    kaq0:  66.0884336 +/- 1.65496581 (2.50%) (init = 10)\n",
      "    Saq0:  2.5410e-05 +/- 2.4017e-06 (9.45%) (init = 0.0001)\n",
      "[[Correlations]] (unreported correlations are < 0.100)\n",
      "    C(kaq0, Saq0) = -0.855\n"
     ]
    },
    {
     "data": {
      "text/html": [
       "<div>\n",
       "<style scoped>\n",
       "    .dataframe tbody tr th:only-of-type {\n",
       "        vertical-align: middle;\n",
       "    }\n",
       "\n",
       "    .dataframe tbody tr th {\n",
       "        vertical-align: top;\n",
       "    }\n",
       "\n",
       "    .dataframe thead th {\n",
       "        text-align: right;\n",
       "    }\n",
       "</style>\n",
       "<table border=\"1\" class=\"dataframe\">\n",
       "  <thead>\n",
       "    <tr style=\"text-align: right;\">\n",
       "      <th></th>\n",
       "      <th>optimal</th>\n",
       "      <th>std</th>\n",
       "      <th>perc_std</th>\n",
       "      <th>pmin</th>\n",
       "      <th>pmax</th>\n",
       "      <th>initial</th>\n",
       "      <th>parray</th>\n",
       "    </tr>\n",
       "  </thead>\n",
       "  <tbody>\n",
       "    <tr>\n",
       "      <td>kaq0</td>\n",
       "      <td>66.0884</td>\n",
       "      <td>1.654966</td>\n",
       "      <td>2.50417</td>\n",
       "      <td>-inf</td>\n",
       "      <td>inf</td>\n",
       "      <td>10</td>\n",
       "      <td>[66.0884335879812]</td>\n",
       "    </tr>\n",
       "    <tr>\n",
       "      <td>Saq0</td>\n",
       "      <td>2.54102e-05</td>\n",
       "      <td>0.000002</td>\n",
       "      <td>9.45178</td>\n",
       "      <td>-inf</td>\n",
       "      <td>inf</td>\n",
       "      <td>0.0001</td>\n",
       "      <td>[2.5410188529330492e-05]</td>\n",
       "    </tr>\n",
       "  </tbody>\n",
       "</table>\n",
       "</div>"
      ],
      "text/plain": [
       "          optimal       std perc_std  pmin  pmax initial  \\\n",
       "kaq0      66.0884  1.654966  2.50417  -inf   inf      10   \n",
       "Saq0  2.54102e-05  0.000002  9.45178  -inf   inf  0.0001   \n",
       "\n",
       "                        parray  \n",
       "kaq0        [66.0884335879812]  \n",
       "Saq0  [2.5410188529330492e-05]  "
      ]
     },
     "metadata": {},
     "output_type": "display_data"
    }
   ],
   "source": [
    "ca = Calibrate(ml)\n",
    "ca.set_parameter(name='kaq0', initial=10)\n",
    "ca.set_parameter(name='Saq0', initial=1e-4)\n",
    "ca.series(name='obs1', x=r1, y=0, t=t1, h=h1, layer=0)\n",
    "ca.series(name='obs2', x=r2, y=0, t=t2, h=h2, layer=0)\n",
    "ca.fit(report=True)\n",
    "display(ca.parameters)"
   ]
  },
  {
   "cell_type": "code",
   "execution_count": 10,
   "metadata": {},
   "outputs": [
    {
     "name": "stdout",
     "output_type": "stream",
     "text": [
      "rmse: 0.05005990899693861\n"
     ]
    },
    {
     "data": {
      "image/png": "[encoded data removed]",
      "text/plain": [
       "<Figure size 576x360 with 1 Axes>"
      ]
     },
     "metadata": {
      "needs_background": "light"
     },
     "output_type": "display_data"
    }
   ],
   "source": [
    "print('rmse:', ca.rmse())\n",
    "hs1 = ml.head(r1, 0, t1)\n",
    "hs2 = ml.head(r2, 0 ,t2)\n",
    "plt.figure(figsize = (8, 5))\n",
    "plt.semilogx(t1, h1, '.', label='obs at 30m')\n",
    "plt.semilogx(t1, hs1[0], label='ttim at 30 m')\n",
    "plt.semilogx(t2, h2, '.', label='obs at 90m')\n",
    "plt.semilogx(t2, hs2[0], label = 'ttim at 90m')\n",
    "plt.xlabel('time(d)')\n",
    "plt.ylabel('drawdown(m)')\n",
    "plt.title('ttim analysis for Oude Korendijk')\n",
    "plt.legend();"
   ]
  },
  {
   "cell_type": "markdown",
   "metadata": {},
   "source": [
    "Investigate whether adding well bore storage improves the fit:"
   ]
  },
  {
   "cell_type": "markdown",
   "metadata": {},
   "source": [
    "Create conceptual model:"
   ]
  },
  {
   "cell_type": "code",
   "execution_count": 11,
   "metadata": {},
   "outputs": [],
   "source": [
    "#unknown parameters: kaq, Saq and rc\n",
    "ml1 = ModelMaq(kaq=60, z=[zt, zb], Saq=1e-4, tmin=1e-5, tmax=1)\n",
    "w1 = Well(ml1, xw=0, yw=0, rw=0.2, rc=0.2, tsandQ=[(0, Q)], layers=0)\n",
    "ml1.solve(silent='True')"
   ]
  },
  {
   "cell_type": "markdown",
   "metadata": {},
   "source": [
    "Calibrate using only the data from observation well 1:"
   ]
  },
  {
   "cell_type": "code",
   "execution_count": 12,
   "metadata": {},
   "outputs": [
    {
     "name": "stdout",
     "output_type": "stream",
     "text": [
      "..............................................................................................................................\n",
      "Fit succeeded.\n",
      "[[Fit Statistics]]\n",
      "    # fitting method   = leastsq\n",
      "    # function evals   = 123\n",
      "    # data points      = 34\n",
      "    # variables        = 3\n",
      "    chi-square         = 0.00793373\n",
      "    reduced chi-square = 2.5593e-04\n",
      "    Akaike info crit   = -278.341728\n",
      "    Bayesian info crit = -273.762646\n",
      "[[Variables]]\n",
      "    kaq0:  80.8711512 +/- 1.71386696 (2.12%) (init = 10)\n",
      "    Saq0:  5.4851e-06 +/- 7.9030e-07 (14.41%) (init = 0.0001)\n",
      "    rc:    0.30300286 +/- 0.01743120 (5.75%) (init = 0.2)\n",
      "[[Correlations]] (unreported correlations are < 0.100)\n",
      "    C(kaq0, Saq0) = -0.975\n",
      "    C(Saq0, rc)   = -0.870\n",
      "    C(kaq0, rc)   =  0.829\n"
     ]
    },
    {
     "data": {
      "text/html": [
       "<div>\n",
       "<style scoped>\n",
       "    .dataframe tbody tr th:only-of-type {\n",
       "        vertical-align: middle;\n",
       "    }\n",
       "\n",
       "    .dataframe tbody tr th {\n",
       "        vertical-align: top;\n",
       "    }\n",
       "\n",
       "    .dataframe thead th {\n",
       "        text-align: right;\n",
       "    }\n",
       "</style>\n",
       "<table border=\"1\" class=\"dataframe\">\n",
       "  <thead>\n",
       "    <tr style=\"text-align: right;\">\n",
       "      <th></th>\n",
       "      <th>optimal</th>\n",
       "      <th>std</th>\n",
       "      <th>perc_std</th>\n",
       "      <th>pmin</th>\n",
       "      <th>pmax</th>\n",
       "      <th>initial</th>\n",
       "      <th>parray</th>\n",
       "    </tr>\n",
       "  </thead>\n",
       "  <tbody>\n",
       "    <tr>\n",
       "      <td>kaq0</td>\n",
       "      <td>80.8712</td>\n",
       "      <td>1.713867e+00</td>\n",
       "      <td>2.11926</td>\n",
       "      <td>-inf</td>\n",
       "      <td>inf</td>\n",
       "      <td>10</td>\n",
       "      <td>[80.87115115684033]</td>\n",
       "    </tr>\n",
       "    <tr>\n",
       "      <td>Saq0</td>\n",
       "      <td>5.48506e-06</td>\n",
       "      <td>7.903050e-07</td>\n",
       "      <td>14.4083</td>\n",
       "      <td>-inf</td>\n",
       "      <td>inf</td>\n",
       "      <td>0.0001</td>\n",
       "      <td>[5.485055599340013e-06]</td>\n",
       "    </tr>\n",
       "    <tr>\n",
       "      <td>rc</td>\n",
       "      <td>0.303003</td>\n",
       "      <td>1.743120e-02</td>\n",
       "      <td>5.75282</td>\n",
       "      <td>0.01</td>\n",
       "      <td>inf</td>\n",
       "      <td>0.2</td>\n",
       "      <td>[0.30300285668761484]</td>\n",
       "    </tr>\n",
       "  </tbody>\n",
       "</table>\n",
       "</div>"
      ],
      "text/plain": [
       "          optimal           std perc_std  pmin  pmax initial  \\\n",
       "kaq0      80.8712  1.713867e+00  2.11926  -inf   inf      10   \n",
       "Saq0  5.48506e-06  7.903050e-07  14.4083  -inf   inf  0.0001   \n",
       "rc       0.303003  1.743120e-02  5.75282  0.01   inf     0.2   \n",
       "\n",
       "                       parray  \n",
       "kaq0      [80.87115115684033]  \n",
       "Saq0  [5.485055599340013e-06]  \n",
       "rc      [0.30300285668761484]  "
      ]
     },
     "metadata": {},
     "output_type": "display_data"
    }
   ],
   "source": [
    "ca3 = Calibrate(ml1)\n",
    "ca3.set_parameter(name='kaq0', initial=10)\n",
    "ca3.set_parameter(name='Saq0', initial=1e-4)\n",
    "ca3.set_parameter_by_reference(name='rc', parameter=w1.rc[0:], initial=0.2, pmin=0.01)\n",
    "ca3.series(name='obs1', x=r1, y=0, t=t1, h=h1, layer=0)\n",
    "ca3.fit(report=True)\n",
    "display(ca3.parameters)"
   ]
  },
  {
   "cell_type": "code",
   "execution_count": 13,
   "metadata": {},
   "outputs": [
    {
     "name": "stdout",
     "output_type": "stream",
     "text": [
      "rmse: 0.015275638126121028\n"
     ]
    },
    {
     "data": {
      "image/png": "[encoded data removed]",
      "text/plain": [
       "<Figure size 576x360 with 1 Axes>"
      ]
     },
     "metadata": {
      "needs_background": "light"
     },
     "output_type": "display_data"
    }
   ],
   "source": [
    "print('rmse:', ca3.rmse())\n",
    "hm3 = ml1.head(r1, 0, t1)\n",
    "plt.figure(figsize=(8, 5))\n",
    "plt.semilogx(t1, h1, '.', label='obs at 30 m')\n",
    "plt.semilogx(t1, hm3[0], label='ttim at 30 m')\n",
    "plt.xlabel('time(d)')\n",
    "plt.ylabel('drawdown(m)')\n",
    "plt.title('ttim analysis for Oude Korendijk')\n",
    "plt.legend();"
   ]
  },
  {
   "cell_type": "markdown",
   "metadata": {},
   "source": [
    "Calibrate using only the data from observation well 2:"
   ]
  },
  {
   "cell_type": "code",
   "execution_count": 14,
   "metadata": {},
   "outputs": [
    {
     "name": "stdout",
     "output_type": "stream",
     "text": [
      "...................................................................................................\n",
      "Fit succeeded.\n",
      "[[Fit Statistics]]\n",
      "    # fitting method   = leastsq\n",
      "    # function evals   = 96\n",
      "    # data points      = 35\n",
      "    # variables        = 3\n",
      "    chi-square         = 0.00135387\n",
      "    reduced chi-square = 4.2308e-05\n",
      "    Akaike info crit   = -349.604764\n",
      "    Bayesian info crit = -344.938720\n",
      "[[Variables]]\n",
      "    kaq0:  88.4253341 +/- 1.46366354 (1.66%) (init = 10)\n",
      "    Saq0:  1.1271e-05 +/- 9.2075e-07 (8.17%) (init = 0.0001)\n",
      "    rc:    0.67776972 +/- 0.02992366 (4.42%) (init = 0.2)\n",
      "[[Correlations]] (unreported correlations are < 0.100)\n",
      "    C(kaq0, Saq0) = -0.981\n",
      "    C(Saq0, rc)   = -0.940\n",
      "    C(kaq0, rc)   =  0.912\n"
     ]
    },
    {
     "data": {
      "text/html": [
       "<div>\n",
       "<style scoped>\n",
       "    .dataframe tbody tr th:only-of-type {\n",
       "        vertical-align: middle;\n",
       "    }\n",
       "\n",
       "    .dataframe tbody tr th {\n",
       "        vertical-align: top;\n",
       "    }\n",
       "\n",
       "    .dataframe thead th {\n",
       "        text-align: right;\n",
       "    }\n",
       "</style>\n",
       "<table border=\"1\" class=\"dataframe\">\n",
       "  <thead>\n",
       "    <tr style=\"text-align: right;\">\n",
       "      <th></th>\n",
       "      <th>optimal</th>\n",
       "      <th>std</th>\n",
       "      <th>perc_std</th>\n",
       "      <th>pmin</th>\n",
       "      <th>pmax</th>\n",
       "      <th>initial</th>\n",
       "      <th>parray</th>\n",
       "    </tr>\n",
       "  </thead>\n",
       "  <tbody>\n",
       "    <tr>\n",
       "      <td>kaq0</td>\n",
       "      <td>88.4253</td>\n",
       "      <td>1.463664e+00</td>\n",
       "      <td>1.65525</td>\n",
       "      <td>-inf</td>\n",
       "      <td>inf</td>\n",
       "      <td>10</td>\n",
       "      <td>[88.42533414084704]</td>\n",
       "    </tr>\n",
       "    <tr>\n",
       "      <td>Saq0</td>\n",
       "      <td>1.12708e-05</td>\n",
       "      <td>9.207533e-07</td>\n",
       "      <td>8.16939</td>\n",
       "      <td>-inf</td>\n",
       "      <td>inf</td>\n",
       "      <td>0.0001</td>\n",
       "      <td>[1.1270766843523035e-05]</td>\n",
       "    </tr>\n",
       "    <tr>\n",
       "      <td>rc</td>\n",
       "      <td>0.67777</td>\n",
       "      <td>2.992366e-02</td>\n",
       "      <td>4.41502</td>\n",
       "      <td>0.01</td>\n",
       "      <td>inf</td>\n",
       "      <td>0.2</td>\n",
       "      <td>[0.6777697177678981]</td>\n",
       "    </tr>\n",
       "  </tbody>\n",
       "</table>\n",
       "</div>"
      ],
      "text/plain": [
       "          optimal           std perc_std  pmin  pmax initial  \\\n",
       "kaq0      88.4253  1.463664e+00  1.65525  -inf   inf      10   \n",
       "Saq0  1.12708e-05  9.207533e-07  8.16939  -inf   inf  0.0001   \n",
       "rc        0.67777  2.992366e-02  4.41502  0.01   inf     0.2   \n",
       "\n",
       "                        parray  \n",
       "kaq0       [88.42533414084704]  \n",
       "Saq0  [1.1270766843523035e-05]  \n",
       "rc        [0.6777697177678981]  "
      ]
     },
     "metadata": {},
     "output_type": "display_data"
    }
   ],
   "source": [
    "ca4 = Calibrate(ml1)\n",
    "ca4.set_parameter(name='kaq0', initial=10)\n",
    "ca4.set_parameter(name='Saq0', initial=1e-4)\n",
    "ca4.set_parameter_by_reference(name='rc', parameter=w1.rc[0:], initial=0.2, pmin=0.01)\n",
    "ca4.series(name='obs2', x=r2, y=0, t=t2, h=h2, layer=0)\n",
    "ca4.fit(report=True)\n",
    "display(ca4.parameters)"
   ]
  },
  {
   "cell_type": "code",
   "execution_count": 15,
   "metadata": {},
   "outputs": [
    {
     "name": "stdout",
     "output_type": "stream",
     "text": [
      "rmse: 0.006219485714670683\n"
     ]
    },
    {
     "data": {
      "image/png": "[encoded data removed]",
      "text/plain": [
       "<Figure size 576x360 with 1 Axes>"
      ]
     },
     "metadata": {
      "needs_background": "light"
     },
     "output_type": "display_data"
    }
   ],
   "source": [
    "print('rmse:', ca4.rmse())\n",
    "hm4 = ml1.head(r2, 0, t2)\n",
    "plt.figure(figsize=(8, 5))\n",
    "plt.semilogx(t2, h2, '.', label='obs at 90 m')\n",
    "plt.semilogx(t2, hm4[0], label='ttim at 90 m')\n",
    "plt.xlabel('time(d)')\n",
    "plt.ylabel('drawdown(m)')\n",
    "plt.title('ttim analysis for Oude Korendijk')\n",
    "plt.legend();"
   ]
  },
  {
   "cell_type": "markdown",
   "metadata": {},
   "source": [
    "Calibrate model with two datasets simultaneously:"
   ]
  },
  {
   "cell_type": "code",
   "execution_count": 16,
   "metadata": {},
   "outputs": [
    {
     "name": "stdout",
     "output_type": "stream",
     "text": [
      ".....................................................................\n",
      "Fit succeeded.\n",
      "[[Fit Statistics]]\n",
      "    # fitting method   = leastsq\n",
      "    # function evals   = 66\n",
      "    # data points      = 69\n",
      "    # variables        = 3\n",
      "    chi-square         = 0.17294914\n",
      "    reduced chi-square = 0.00262044\n",
      "    Akaike info crit   = -407.231630\n",
      "    Bayesian info crit = -400.529311\n",
      "[[Variables]]\n",
      "    kaq0:  66.0820095 +/- 1.71591047 (2.60%) (init = 10)\n",
      "    Saq0:  2.5413e-05 +/- 2.4540e-06 (9.66%) (init = 0.0001)\n",
      "    rc:    0.01002663 +/- 0.23362725 (2330.07%) (init = 0.2)\n",
      "[[Correlations]] (unreported correlations are < 0.100)\n",
      "    C(kaq0, Saq0) = -0.859\n",
      "    C(kaq0, rc)   =  0.236\n",
      "    C(Saq0, rc)   = -0.165\n"
     ]
    },
    {
     "data": {
      "text/html": [
       "<div>\n",
       "<style scoped>\n",
       "    .dataframe tbody tr th:only-of-type {\n",
       "        vertical-align: middle;\n",
       "    }\n",
       "\n",
       "    .dataframe tbody tr th {\n",
       "        vertical-align: top;\n",
       "    }\n",
       "\n",
       "    .dataframe thead th {\n",
       "        text-align: right;\n",
       "    }\n",
       "</style>\n",
       "<table border=\"1\" class=\"dataframe\">\n",
       "  <thead>\n",
       "    <tr style=\"text-align: right;\">\n",
       "      <th></th>\n",
       "      <th>optimal</th>\n",
       "      <th>std</th>\n",
       "      <th>perc_std</th>\n",
       "      <th>pmin</th>\n",
       "      <th>pmax</th>\n",
       "      <th>initial</th>\n",
       "      <th>parray</th>\n",
       "    </tr>\n",
       "  </thead>\n",
       "  <tbody>\n",
       "    <tr>\n",
       "      <td>kaq0</td>\n",
       "      <td>66.082</td>\n",
       "      <td>1.715910</td>\n",
       "      <td>2.59664</td>\n",
       "      <td>-inf</td>\n",
       "      <td>inf</td>\n",
       "      <td>10</td>\n",
       "      <td>[66.08200945032905]</td>\n",
       "    </tr>\n",
       "    <tr>\n",
       "      <td>Saq0</td>\n",
       "      <td>2.54132e-05</td>\n",
       "      <td>0.000002</td>\n",
       "      <td>9.65654</td>\n",
       "      <td>-inf</td>\n",
       "      <td>inf</td>\n",
       "      <td>0.0001</td>\n",
       "      <td>[2.541322353896833e-05]</td>\n",
       "    </tr>\n",
       "    <tr>\n",
       "      <td>rc</td>\n",
       "      <td>0.0100266</td>\n",
       "      <td>0.233627</td>\n",
       "      <td>2330.07</td>\n",
       "      <td>0.01</td>\n",
       "      <td>inf</td>\n",
       "      <td>0.2</td>\n",
       "      <td>[0.010026632267619018]</td>\n",
       "    </tr>\n",
       "  </tbody>\n",
       "</table>\n",
       "</div>"
      ],
      "text/plain": [
       "          optimal       std perc_std  pmin  pmax initial  \\\n",
       "kaq0       66.082  1.715910  2.59664  -inf   inf      10   \n",
       "Saq0  2.54132e-05  0.000002  9.65654  -inf   inf  0.0001   \n",
       "rc      0.0100266  0.233627  2330.07  0.01   inf     0.2   \n",
       "\n",
       "                       parray  \n",
       "kaq0      [66.08200945032905]  \n",
       "Saq0  [2.541322353896833e-05]  \n",
       "rc     [0.010026632267619018]  "
      ]
     },
     "metadata": {},
     "output_type": "display_data"
    }
   ],
   "source": [
    "ca0 = Calibrate(ml1)\n",
    "ca0.set_parameter(name='kaq0', initial=10)\n",
    "ca0.set_parameter(name='Saq0', initial=1e-4)\n",
    "ca0.set_parameter_by_reference(name='rc', parameter=w1.rc[0:], initial=0.2, pmin=0.01)\n",
    "ca0.series(name='obs1', x=r1, y=0, t=t1, h=h1, layer=0)\n",
    "ca0.series(name='obs2', x=r2, y=0, t=t2, h=h2, layer=0)\n",
    "ca0.fit(report=True)\n",
    "display(ca0.parameters)"
   ]
  },
  {
   "cell_type": "code",
   "execution_count": 17,
   "metadata": {},
   "outputs": [
    {
     "name": "stdout",
     "output_type": "stream",
     "text": [
      "rmse: 0.05006505082044996\n"
     ]
    },
    {
     "data": {
      "image/png": "[encoded data removed]",
      "text/plain": [
       "<Figure size 576x360 with 1 Axes>"
      ]
     },
     "metadata": {
      "needs_background": "light"
     },
     "output_type": "display_data"
    }
   ],
   "source": [
    "print('rmse:', ca0.rmse())\n",
    "hs1 = ml1.head(r1, 0, t1)\n",
    "hs2 = ml1.head(r2, 0 ,t2)\n",
    "plt.figure(figsize = (8, 5))\n",
    "plt.semilogx(t1, h1, '.', label='obs at 30m')\n",
    "plt.semilogx(t1, hs1[0], label='ttim at 30 m')\n",
    "plt.semilogx(t2, h2, '.', label='obs at 90m')\n",
    "plt.semilogx(t2, hs2[0], label = 'ttim at 90m')\n",
    "plt.xlabel('time(d)')\n",
    "plt.ylabel('drawdown(m)')\n",
    "plt.title('ttim analysis for Oude Korendijk')\n",
    "plt.legend();"
   ]
  },
  {
   "cell_type": "markdown",
   "metadata": {},
   "source": [
    "## Summary of values presented in Kruseman and de Ridder (1970)"
   ]
  },
  {
   "cell_type": "markdown",
   "metadata": {},
   "source": [
    "Compare effect of rc:"
   ]
  },
  {
   "cell_type": "code",
   "execution_count": 18,
   "metadata": {},
   "outputs": [
    {
     "name": "stdout",
     "output_type": "stream",
     "text": [
      "RMSE of two conceptual models:\n"
     ]
    },
    {
     "data": {
      "text/html": [
       "<div>\n",
       "<style scoped>\n",
       "    .dataframe tbody tr th:only-of-type {\n",
       "        vertical-align: middle;\n",
       "    }\n",
       "\n",
       "    .dataframe tbody tr th {\n",
       "        vertical-align: top;\n",
       "    }\n",
       "\n",
       "    .dataframe thead th {\n",
       "        text-align: right;\n",
       "    }\n",
       "</style>\n",
       "<table border=\"1\" class=\"dataframe\">\n",
       "  <thead>\n",
       "    <tr style=\"text-align: right;\">\n",
       "      <th></th>\n",
       "      <th>obs 30 m</th>\n",
       "      <th>obs 90 m</th>\n",
       "      <th>obs simultaneously</th>\n",
       "    </tr>\n",
       "  </thead>\n",
       "  <tbody>\n",
       "    <tr>\n",
       "      <td>without rc</td>\n",
       "      <td>0.0316602</td>\n",
       "      <td>0.0227187</td>\n",
       "      <td>0.0500599</td>\n",
       "    </tr>\n",
       "    <tr>\n",
       "      <td>with rc</td>\n",
       "      <td>0.0152756</td>\n",
       "      <td>0.00621949</td>\n",
       "      <td>0.0500651</td>\n",
       "    </tr>\n",
       "  </tbody>\n",
       "</table>\n",
       "</div>"
      ],
      "text/plain": [
       "             obs 30 m    obs 90 m obs simultaneously\n",
       "without rc  0.0316602   0.0227187          0.0500599\n",
       "with rc     0.0152756  0.00621949          0.0500651"
      ]
     },
     "execution_count": 18,
     "metadata": {},
     "output_type": "execute_result"
    }
   ],
   "source": [
    "t0 = pd.DataFrame(columns=['obs 30 m', 'obs 90 m', 'obs simultaneously'], index=['without rc', 'with rc'])\n",
    "t0.loc['without rc', 'obs 30 m'] = ca1.rmse()\n",
    "t0.loc['without rc', 'obs 90 m'] = ca2.rmse()\n",
    "t0.loc['without rc', 'obs simultaneously'] = ca.rmse()\n",
    "t0.loc['with rc', 'obs 30 m'] = ca3.rmse()\n",
    "t0.loc['with rc', 'obs 90 m'] = ca4.rmse()\n",
    "t0.loc['with rc', 'obs simultaneously'] = ca0.rmse()\n",
    "print('RMSE of two conceptual models:')\n",
    "t0"
   ]
  },
  {
   "cell_type": "markdown",
   "metadata": {},
   "source": [
    "Adding wellbore storage improve the performance when use drawdown data of two observation wells respectively. However, when calibrate model with two datasets simultaneously, rc approaches minimum value. Adding rc does not improve the performance much."
   ]
  },
  {
   "cell_type": "markdown",
   "metadata": {},
   "source": [
    "Compare ttim to results of K&dR, AQTEOLV and MLU:"
   ]
  },
  {
   "cell_type": "code",
   "execution_count": 19,
   "metadata": {
    "scrolled": true
   },
   "outputs": [
    {
     "data": {
      "text/html": [
       "<div>\n",
       "<style scoped>\n",
       "    .dataframe tbody tr th:only-of-type {\n",
       "        vertical-align: middle;\n",
       "    }\n",
       "\n",
       "    .dataframe tbody tr th {\n",
       "        vertical-align: top;\n",
       "    }\n",
       "\n",
       "    .dataframe thead th {\n",
       "        text-align: right;\n",
       "    }\n",
       "</style>\n",
       "<table border=\"1\" class=\"dataframe\">\n",
       "  <thead>\n",
       "    <tr style=\"text-align: right;\">\n",
       "      <th></th>\n",
       "      <th>k [m/d]</th>\n",
       "      <th>Ss [1/m]</th>\n",
       "      <th>RMSE</th>\n",
       "    </tr>\n",
       "  </thead>\n",
       "  <tbody>\n",
       "    <tr>\n",
       "      <td>K&amp;dR</td>\n",
       "      <td>55.7143</td>\n",
       "      <td>0.00017</td>\n",
       "      <td>-</td>\n",
       "    </tr>\n",
       "    <tr>\n",
       "      <td>ttim</td>\n",
       "      <td>66.0884</td>\n",
       "      <td>2.54102e-05</td>\n",
       "      <td>0.0500599</td>\n",
       "    </tr>\n",
       "    <tr>\n",
       "      <td>AQTESOLV</td>\n",
       "      <td>66.086</td>\n",
       "      <td>2.541e-05</td>\n",
       "      <td>0.05006</td>\n",
       "    </tr>\n",
       "    <tr>\n",
       "      <td>MLU</td>\n",
       "      <td>66.85</td>\n",
       "      <td>2.4e-05</td>\n",
       "      <td>0.05083</td>\n",
       "    </tr>\n",
       "  </tbody>\n",
       "</table>\n",
       "</div>"
      ],
      "text/plain": [
       "          k [m/d]     Ss [1/m]       RMSE\n",
       "K&dR      55.7143      0.00017          -\n",
       "ttim      66.0884  2.54102e-05  0.0500599\n",
       "AQTESOLV   66.086    2.541e-05    0.05006\n",
       "MLU         66.85      2.4e-05    0.05083"
      ]
     },
     "execution_count": 19,
     "metadata": {},
     "output_type": "execute_result"
    }
   ],
   "source": [
    "t = pd.DataFrame(columns=['k [m/d]', 'Ss [1/m]', 'RMSE'], \\\n",
    "                 index=['K&dR', 'ttim', 'AQTESOLV', 'MLU'])\n",
    "t.loc['ttim'] = np.append(ca.parameters['optimal'].values, ca.rmse())\n",
    "t.loc['AQTESOLV'] = [66.086, 2.541e-05, 0.05006]\n",
    "t.loc['MLU'] = [66.850, 2.400e-05, 0.05083]\n",
    "t.loc['K&dR'] = [55.71429, 1.7E-4, '-']\n",
    "t"
   ]
  },
  {
   "cell_type": "code",
   "execution_count": null,
   "metadata": {},
   "outputs": [],
   "source": []
  }
 ],
 "metadata": {
  "kernelspec": {
   "display_name": "Python 3",
   "language": "python",
   "name": "python3"
  },
  "language_info": {
   "codemirror_mode": {
    "name": "ipython",
    "version": 3
   },
   "file_extension": ".py",
   "mimetype": "text/x-python",
   "name": "python",
   "nbconvert_exporter": "python",
   "pygments_lexer": "ipython3",
   "version": "3.7.4"
  }
 },
 "nbformat": 4,
 "nbformat_minor": 2
}
