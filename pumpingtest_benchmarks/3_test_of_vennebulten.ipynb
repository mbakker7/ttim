{
 "cells": [
  {
   "cell_type": "markdown",
   "metadata": {},
   "source": [
    "# Unconfined Aquifer Test\n",
    "**This example is taken from Kruseman and de Ridder (1970).**"
   ]
  },
  {
   "cell_type": "code",
   "execution_count": 1,
   "metadata": {},
   "outputs": [],
   "source": [
    "%matplotlib inline\n",
    "import numpy as np\n",
    "import matplotlib.pyplot as plt\n",
    "from ttim import *\n",
    "import pandas as pd"
   ]
  },
  {
   "cell_type": "markdown",
   "metadata": {},
   "source": [
    "Set basic parameters for the model:"
   ]
  },
  {
   "cell_type": "code",
   "execution_count": 2,
   "metadata": {},
   "outputs": [],
   "source": [
    "b = -21 #aquifer thickness in m\n",
    "r = 90 #distance from observation wells to pumping well in m\n",
    "Q = 873 #constant discharge in m^3/d"
   ]
  },
  {
   "cell_type": "markdown",
   "metadata": {},
   "source": [
    "Load data of two piezometers:"
   ]
  },
  {
   "cell_type": "code",
   "execution_count": 3,
   "metadata": {},
   "outputs": [],
   "source": [
    "data1 = np.loadtxt('data/venne_shallow.txt', skiprows=1)\n",
    "ts = data1[:, 0] / 60 / 24 #convert min to days\n",
    "hs = data1[:, 1]\n",
    "\n",
    "data2 = np.loadtxt('data/venne_deep.txt', skiprows=1)\n",
    "td = data2[:, 0] / 60 / 24 #convert min to days\n",
    "hd = data2[:, 1]"
   ]
  },
  {
   "cell_type": "markdown",
   "metadata": {},
   "source": [
    "Create conceptual one-layer model:"
   ]
  },
  {
   "cell_type": "code",
   "execution_count": 4,
   "metadata": {},
   "outputs": [
    {
     "name": "stdout",
     "output_type": "stream",
     "text": [
      "self.neq  1\n",
      "solution complete\n"
     ]
    }
   ],
   "source": [
    "ml_1 = Model3D(kaq=10, z=[0, b], Saq=1e-4, tmin=1e-4, tmax=1.1)\n",
    "w_1 = Well(ml_1, xw=0, yw=0, rw=0.1, tsandQ=[(0, Q)])\n",
    "ml_1.solve()"
   ]
  },
  {
   "cell_type": "markdown",
   "metadata": {},
   "source": [
    "Calibrate with data of two piezometers respectively:"
   ]
  },
  {
   "cell_type": "code",
   "execution_count": 5,
   "metadata": {},
   "outputs": [
    {
     "name": "stdout",
     "output_type": "stream",
     "text": [
      ".............................................\n",
      "Fit succeeded.\n",
      "[[Fit Statistics]]\n",
      "    # fitting method   = leastsq\n",
      "    # function evals   = 42\n",
      "    # data points      = 19\n",
      "    # variables        = 2\n",
      "    chi-square         = 2.3691e-04\n",
      "    reduced chi-square = 1.3936e-05\n",
      "    Akaike info crit   = -210.553192\n",
      "    Bayesian info crit = -208.664314\n",
      "[[Variables]]\n",
      "    kaq0:  136.469285 +/- 5.82623528 (4.27%) (init = 10)\n",
      "    Saq0:  0.01672407 +/- 0.00131400 (7.86%) (init = 0.0001)\n",
      "[[Correlations]] (unreported correlations are < 0.100)\n",
      "    C(kaq0, Saq0) = -0.809\n"
     ]
    }
   ],
   "source": [
    "#calibrate with data of shallow piezometer\n",
    "#unknown parameters: kaq, Saq\n",
    "ca_1 = Calibrate(ml_1)\n",
    "ca_1.set_parameter(name='kaq0', initial=10)\n",
    "ca_1.set_parameter(name='Saq0', initial=1e-4)\n",
    "ca_1.series(name='obs', x=r, y=0, t=ts, h=hs, layer=0)\n",
    "ca_1.fit()"
   ]
  },
  {
   "cell_type": "code",
   "execution_count": 6,
   "metadata": {},
   "outputs": [
    {
     "data": {
      "text/html": [
       "<div>\n",
       "<style scoped>\n",
       "    .dataframe tbody tr th:only-of-type {\n",
       "        vertical-align: middle;\n",
       "    }\n",
       "\n",
       "    .dataframe tbody tr th {\n",
       "        vertical-align: top;\n",
       "    }\n",
       "\n",
       "    .dataframe thead th {\n",
       "        text-align: right;\n",
       "    }\n",
       "</style>\n",
       "<table border=\"1\" class=\"dataframe\">\n",
       "  <thead>\n",
       "    <tr style=\"text-align: right;\">\n",
       "      <th></th>\n",
       "      <th>optimal</th>\n",
       "      <th>std</th>\n",
       "      <th>perc_std</th>\n",
       "      <th>pmin</th>\n",
       "      <th>pmax</th>\n",
       "      <th>initial</th>\n",
       "      <th>parray</th>\n",
       "    </tr>\n",
       "  </thead>\n",
       "  <tbody>\n",
       "    <tr>\n",
       "      <td>kaq0</td>\n",
       "      <td>136.469</td>\n",
       "      <td>5.826235</td>\n",
       "      <td>4.26926</td>\n",
       "      <td>-inf</td>\n",
       "      <td>inf</td>\n",
       "      <td>10</td>\n",
       "      <td>[136.46928505810396]</td>\n",
       "    </tr>\n",
       "    <tr>\n",
       "      <td>Saq0</td>\n",
       "      <td>0.0167241</td>\n",
       "      <td>0.001314</td>\n",
       "      <td>7.85692</td>\n",
       "      <td>-inf</td>\n",
       "      <td>inf</td>\n",
       "      <td>0.0001</td>\n",
       "      <td>[0.01672406931266408]</td>\n",
       "    </tr>\n",
       "  </tbody>\n",
       "</table>\n",
       "</div>"
      ],
      "text/plain": [
       "        optimal       std perc_std  pmin  pmax initial                 parray\n",
       "kaq0    136.469  5.826235  4.26926  -inf   inf      10   [136.46928505810396]\n",
       "Saq0  0.0167241  0.001314  7.85692  -inf   inf  0.0001  [0.01672406931266408]"
      ]
     },
     "metadata": {},
     "output_type": "display_data"
    },
    {
     "name": "stdout",
     "output_type": "stream",
     "text": [
      "RMSE: 0.003531132513897005\n"
     ]
    }
   ],
   "source": [
    "display(ca_1.parameters)\n",
    "print('RMSE:', ca_1.rmse())"
   ]
  },
  {
   "cell_type": "code",
   "execution_count": 7,
   "metadata": {},
   "outputs": [
    {
     "data": {
      "image/png": "[encoded data removed]",
      "text/plain": [
       "<Figure size 576x360 with 1 Axes>"
      ]
     },
     "metadata": {
      "needs_background": "light"
     },
     "output_type": "display_data"
    }
   ],
   "source": [
    "hs_1 = ml_1.head(r, 0, ts)\n",
    "hd_1 = ml_1.head(r, 0, td)\n",
    "plt.figure(figsize=(8, 5))\n",
    "plt.semilogx(ts, hs, '.', label='shallow obs')\n",
    "plt.semilogx(ts, hs_1[0], label='shallow ttim')\n",
    "plt.semilogx(td, hd, '.', label='deep obs')\n",
    "plt.semilogx(td, hd_1[0], label='deep ttim')\n",
    "plt.xlabel('time(d)')\n",
    "plt.ylabel('drawdown(m)')\n",
    "plt.title('ttim analysis of shallow piezometer')\n",
    "plt.legend();"
   ]
  },
  {
   "cell_type": "code",
   "execution_count": 8,
   "metadata": {},
   "outputs": [
    {
     "name": "stdout",
     "output_type": "stream",
     "text": [
      "..................................\n",
      "Fit succeeded.\n",
      "[[Fit Statistics]]\n",
      "    # fitting method   = leastsq\n",
      "    # function evals   = 31\n",
      "    # data points      = 29\n",
      "    # variables        = 2\n",
      "    chi-square         = 0.00294675\n",
      "    reduced chi-square = 1.0914e-04\n",
      "    Akaike info crit   = -262.636144\n",
      "    Bayesian info crit = -259.901553\n",
      "[[Variables]]\n",
      "    kaq0:  116.576664 +/- 4.33980927 (3.72%) (init = 10)\n",
      "    Saq0:  3.4576e-04 +/- 5.1114e-05 (14.78%) (init = 0.0001)\n",
      "[[Correlations]] (unreported correlations are < 0.100)\n",
      "    C(kaq0, Saq0) = -0.873\n"
     ]
    }
   ],
   "source": [
    "#Calibrate with deep piezometer\n",
    "#unknown parameters: kay, Saq\n",
    "ca_2 = Calibrate(ml_1)\n",
    "ca_2.set_parameter(name='kaq0', initial=10)\n",
    "ca_2.set_parameter(name='Saq0', initial=1e-4)\n",
    "ca_2.series(name='obs', x=r, y=0, t=td, h=hd, layer=0)\n",
    "ca_2.fit()"
   ]
  },
  {
   "cell_type": "code",
   "execution_count": 9,
   "metadata": {},
   "outputs": [
    {
     "data": {
      "text/html": [
       "<div>\n",
       "<style scoped>\n",
       "    .dataframe tbody tr th:only-of-type {\n",
       "        vertical-align: middle;\n",
       "    }\n",
       "\n",
       "    .dataframe tbody tr th {\n",
       "        vertical-align: top;\n",
       "    }\n",
       "\n",
       "    .dataframe thead th {\n",
       "        text-align: right;\n",
       "    }\n",
       "</style>\n",
       "<table border=\"1\" class=\"dataframe\">\n",
       "  <thead>\n",
       "    <tr style=\"text-align: right;\">\n",
       "      <th></th>\n",
       "      <th>optimal</th>\n",
       "      <th>std</th>\n",
       "      <th>perc_std</th>\n",
       "      <th>pmin</th>\n",
       "      <th>pmax</th>\n",
       "      <th>initial</th>\n",
       "      <th>parray</th>\n",
       "    </tr>\n",
       "  </thead>\n",
       "  <tbody>\n",
       "    <tr>\n",
       "      <td>kaq0</td>\n",
       "      <td>116.577</td>\n",
       "      <td>4.339809</td>\n",
       "      <td>3.72271</td>\n",
       "      <td>-inf</td>\n",
       "      <td>inf</td>\n",
       "      <td>10</td>\n",
       "      <td>[116.57666407791346]</td>\n",
       "    </tr>\n",
       "    <tr>\n",
       "      <td>Saq0</td>\n",
       "      <td>0.000345761</td>\n",
       "      <td>0.000051</td>\n",
       "      <td>14.783</td>\n",
       "      <td>-inf</td>\n",
       "      <td>inf</td>\n",
       "      <td>0.0001</td>\n",
       "      <td>[0.00034576112845901126]</td>\n",
       "    </tr>\n",
       "  </tbody>\n",
       "</table>\n",
       "</div>"
      ],
      "text/plain": [
       "          optimal       std perc_std  pmin  pmax initial  \\\n",
       "kaq0      116.577  4.339809  3.72271  -inf   inf      10   \n",
       "Saq0  0.000345761  0.000051   14.783  -inf   inf  0.0001   \n",
       "\n",
       "                        parray  \n",
       "kaq0      [116.57666407791346]  \n",
       "Saq0  [0.00034576112845901126]  "
      ]
     },
     "metadata": {},
     "output_type": "display_data"
    },
    {
     "name": "stdout",
     "output_type": "stream",
     "text": [
      "RMSE: 0.010080273329140315\n"
     ]
    }
   ],
   "source": [
    "display(ca_2.parameters)\n",
    "print('RMSE:', ca_2.rmse())"
   ]
  },
  {
   "cell_type": "code",
   "execution_count": 10,
   "metadata": {},
   "outputs": [
    {
     "data": {
      "image/png": "[encoded data removed]",
      "text/plain": [
       "<Figure size 576x360 with 1 Axes>"
      ]
     },
     "metadata": {
      "needs_background": "light"
     },
     "output_type": "display_data"
    }
   ],
   "source": [
    "hd_2 = ml_1.head(r, 0, td)\n",
    "hs_2 = ml_1.head(r, 0, ts)\n",
    "plt.figure(figsize=(8, 5))\n",
    "plt.semilogx(td, hd, '.', label='deep obs')\n",
    "plt.semilogx(td, hd_2[0], label='deep ttim')\n",
    "plt.semilogx(ts, hs, '.', label='shallow obs')\n",
    "plt.semilogx(ts, hs_2[0], label='shallow ttim')\n",
    "plt.xlabel('time(d)')\n",
    "plt.ylabel('drawdown(m)')\n",
    "plt.title('ttim analysis of deep piezometer')\n",
    "plt.legend();"
   ]
  },
  {
   "cell_type": "markdown",
   "metadata": {},
   "source": [
    "Create conceptual model with n-layers:"
   ]
  },
  {
   "cell_type": "code",
   "execution_count": 11,
   "metadata": {},
   "outputs": [],
   "source": [
    "nlay = 21 #number of layers\n",
    "zlayers = np.linspace(0, b, nlay + 1) #elevation of each layer\n",
    "Saq = 1e-4 * np.ones(nlay)\n",
    "Saq[0] = 0.1"
   ]
  },
  {
   "cell_type": "code",
   "execution_count": 12,
   "metadata": {},
   "outputs": [
    {
     "name": "stdout",
     "output_type": "stream",
     "text": [
      "self.neq  21\n",
      "solution complete\n"
     ]
    }
   ],
   "source": [
    "ml_2 = Model3D(kaq=10, z=zlayers, Saq=Saq, kzoverkh=0.1, phreatictop=True, \\\n",
    "              tmin=1e-4, tmax=1.1)\n",
    "w_2 = Well(ml_2, xw=0, yw=0, rw=0.1, tsandQ=[(0, Q)], layers=range(nlay))\n",
    "ml_2.solve()"
   ]
  },
  {
   "cell_type": "markdown",
   "metadata": {},
   "source": [
    "Calibrate with two piezometers simultaneously:"
   ]
  },
  {
   "cell_type": "markdown",
   "metadata": {},
   "source": [
    "aquifers with same kaq and Saq  \n",
    "unknown parameters: kaq, Saq, kzoverkh"
   ]
  },
  {
   "cell_type": "code",
   "execution_count": 13,
   "metadata": {},
   "outputs": [
    {
     "name": "stdout",
     "output_type": "stream",
     "text": [
      "............................................................\n",
      "Fit succeeded.\n",
      "[[Fit Statistics]]\n",
      "    # fitting method   = leastsq\n",
      "    # function evals   = 57\n",
      "    # data points      = 48\n",
      "    # variables        = 4\n",
      "    chi-square         = 0.00474318\n",
      "    reduced chi-square = 1.0780e-04\n",
      "    Akaike info crit   = -434.667919\n",
      "    Bayesian info crit = -427.183115\n",
      "[[Variables]]\n",
      "    kaq0_20:   31.5792604 +/- 0.75573096 (2.39%) (init = 10)\n",
      "    Saq0:      0.05541542 +/- 0.00380254 (6.86%) (init = 0.2)\n",
      "    Saq1_20:   3.4725e-05 +/- 2.4525e-06 (7.06%) (init = 0.0001)\n",
      "    kzoverkh:  0.01001515 +/- 1.1683e-04 (1.17%) (init = 0.1)\n",
      "[[Correlations]] (unreported correlations are < 0.100)\n",
      "    C(kaq0_20, kzoverkh) = -0.517\n",
      "    C(kaq0_20, Saq0)     = -0.326\n",
      "    C(kaq0_20, Saq1_20)  = -0.279\n",
      "    C(Saq0, kzoverkh)    = -0.126\n",
      "    C(Saq1_20, kzoverkh) =  0.123\n"
     ]
    }
   ],
   "source": [
    "ca_3 = Calibrate(ml_2)\n",
    "ca_3.set_parameter(name='kaq0_20', initial=10)\n",
    "ca_3.set_parameter(name='Saq0', initial=0.2)\n",
    "ca_3.set_parameter(name='Saq1_20', initial=1e-4)\n",
    "ca_3.set_parameter_by_reference(name='kzoverkh', parameter=ml_2.aq.kzoverkh[:], \\\n",
    "                               initial=0.1, pmin=0.01)\n",
    "ca_3.series(name='obs1', x=r, y=0, layer=1,t=ts, h=hs)\n",
    "ca_3.series(name='obs2', x=r, y=0, layer=15, t=td, h=hd)\n",
    "ca_3.fit(report=True)"
   ]
  },
  {
   "cell_type": "code",
   "execution_count": 14,
   "metadata": {},
   "outputs": [
    {
     "data": {
      "text/html": [
       "<div>\n",
       "<style scoped>\n",
       "    .dataframe tbody tr th:only-of-type {\n",
       "        vertical-align: middle;\n",
       "    }\n",
       "\n",
       "    .dataframe tbody tr th {\n",
       "        vertical-align: top;\n",
       "    }\n",
       "\n",
       "    .dataframe thead th {\n",
       "        text-align: right;\n",
       "    }\n",
       "</style>\n",
       "<table border=\"1\" class=\"dataframe\">\n",
       "  <thead>\n",
       "    <tr style=\"text-align: right;\">\n",
       "      <th></th>\n",
       "      <th>optimal</th>\n",
       "      <th>std</th>\n",
       "      <th>perc_std</th>\n",
       "      <th>pmin</th>\n",
       "      <th>pmax</th>\n",
       "      <th>initial</th>\n",
       "      <th>parray</th>\n",
       "    </tr>\n",
       "  </thead>\n",
       "  <tbody>\n",
       "    <tr>\n",
       "      <td>kaq0_20</td>\n",
       "      <td>31.5793</td>\n",
       "      <td>0.755731</td>\n",
       "      <td>2.39312</td>\n",
       "      <td>-inf</td>\n",
       "      <td>inf</td>\n",
       "      <td>10</td>\n",
       "      <td>[31.579260407774143, 31.579260407774143, 31.57...</td>\n",
       "    </tr>\n",
       "    <tr>\n",
       "      <td>Saq0</td>\n",
       "      <td>0.0554154</td>\n",
       "      <td>0.003803</td>\n",
       "      <td>6.86188</td>\n",
       "      <td>-inf</td>\n",
       "      <td>inf</td>\n",
       "      <td>0.2</td>\n",
       "      <td>[0.05541542451273692]</td>\n",
       "    </tr>\n",
       "    <tr>\n",
       "      <td>Saq1_20</td>\n",
       "      <td>3.47254e-05</td>\n",
       "      <td>0.000002</td>\n",
       "      <td>7.06255</td>\n",
       "      <td>-inf</td>\n",
       "      <td>inf</td>\n",
       "      <td>0.0001</td>\n",
       "      <td>[3.47254241180992e-05, 3.47254241180992e-05, 3...</td>\n",
       "    </tr>\n",
       "    <tr>\n",
       "      <td>kzoverkh</td>\n",
       "      <td>0.0100151</td>\n",
       "      <td>0.000117</td>\n",
       "      <td>1.16658</td>\n",
       "      <td>0.01</td>\n",
       "      <td>inf</td>\n",
       "      <td>0.1</td>\n",
       "      <td>[0.01001514532231007, 0.01001514532231007, 0.0...</td>\n",
       "    </tr>\n",
       "  </tbody>\n",
       "</table>\n",
       "</div>"
      ],
      "text/plain": [
       "              optimal       std perc_std  pmin  pmax initial  \\\n",
       "kaq0_20       31.5793  0.755731  2.39312  -inf   inf      10   \n",
       "Saq0        0.0554154  0.003803  6.86188  -inf   inf     0.2   \n",
       "Saq1_20   3.47254e-05  0.000002  7.06255  -inf   inf  0.0001   \n",
       "kzoverkh    0.0100151  0.000117  1.16658  0.01   inf     0.1   \n",
       "\n",
       "                                                     parray  \n",
       "kaq0_20   [31.579260407774143, 31.579260407774143, 31.57...  \n",
       "Saq0                                  [0.05541542451273692]  \n",
       "Saq1_20   [3.47254241180992e-05, 3.47254241180992e-05, 3...  \n",
       "kzoverkh  [0.01001514532231007, 0.01001514532231007, 0.0...  "
      ]
     },
     "metadata": {},
     "output_type": "display_data"
    },
    {
     "name": "stdout",
     "output_type": "stream",
     "text": [
      "RMSE: 0.009940637191248936\n"
     ]
    }
   ],
   "source": [
    "display(ca_3.parameters)\n",
    "print('RMSE:', ca_3.rmse())"
   ]
  },
  {
   "cell_type": "code",
   "execution_count": 15,
   "metadata": {
    "scrolled": true
   },
   "outputs": [
    {
     "data": {
      "image/png": "[encoded data removed]",
      "text/plain": [
       "<Figure size 576x360 with 1 Axes>"
      ]
     },
     "metadata": {
      "needs_background": "light"
     },
     "output_type": "display_data"
    }
   ],
   "source": [
    "hs_3 = ml_2.head(x=r, y=0, t=ts, layers=1)\n",
    "hd_3 = ml_2.head(x=r, y=0, t=td, layers=15)\n",
    "plt.figure(figsize = (8, 5))\n",
    "plt.semilogx(ts, hs, '.', label='shallow obs')\n",
    "plt.semilogx(td, hd, '.', label='deep obs')\n",
    "plt.semilogx(ts, hs_3[0], label='shallow ttim')\n",
    "plt.semilogx(td, hd_3[0], label='deep ttim')\n",
    "plt.xlabel('time(d)')\n",
    "plt.ylabel('drawdown(m)')\n",
    "plt.legend();"
   ]
  },
  {
   "cell_type": "markdown",
   "metadata": {},
   "source": [
    "aquifer with stratified Saq  \n",
    "unknown parameters: kaq, Saq, kzoverkh"
   ]
  },
  {
   "cell_type": "code",
   "execution_count": 16,
   "metadata": {},
   "outputs": [
    {
     "name": "stdout",
     "output_type": "stream",
     "text": [
      "self.neq  21\n",
      "solution complete\n"
     ]
    }
   ],
   "source": [
    "ml_3 = Model3D(kaq=10, z=zlayers, Saq=Saq, kzoverkh=0.1, phreatictop=True, \\\n",
    "              tmin=1e-4, tmax=1.1)\n",
    "w_3 = Well(ml_3, xw=0, yw=0, rw=0.1, tsandQ=[(0, Q)], layers=range(nlay))\n",
    "ml_3.solve()"
   ]
  },
  {
   "cell_type": "code",
   "execution_count": 17,
   "metadata": {},
   "outputs": [
    {
     "name": "stdout",
     "output_type": "stream",
     "text": [
      ".............................................................................................................\n",
      "Fit succeeded.\n",
      "[[Fit Statistics]]\n",
      "    # fitting method   = leastsq\n",
      "    # function evals   = 106\n",
      "    # data points      = 48\n",
      "    # variables        = 5\n",
      "    chi-square         = 5.6239e-04\n",
      "    reduced chi-square = 1.3079e-05\n",
      "    Akaike info crit   = -535.016761\n",
      "    Bayesian info crit = -525.660756\n",
      "[[Variables]]\n",
      "    kaq0_20:   74.9208569 +/- 2.27496608 (3.04%) (init = 50)\n",
      "    Saq0:      0.02057828 +/- 0.00155901 (7.58%) (init = 0.1)\n",
      "    Saq1_7:    4.5145e-04 +/- 5.8381e-05 (12.93%) (init = 0.0001)\n",
      "    Saq7_20:   2.3115e-05 +/- 1.1161e-06 (4.83%) (init = 0.0001)\n",
      "    kzoverkh:  3.7487e-04 +/- 7.8565e-05 (20.96%) (init = 0.1)\n",
      "[[Correlations]] (unreported correlations are < 0.100)\n",
      "    C(kaq0_20, kzoverkh) = -0.965\n",
      "    C(kaq0_20, Saq7_20)  = -0.755\n",
      "    C(Saq1_7, kzoverkh)  = -0.736\n",
      "    C(Saq7_20, kzoverkh) =  0.709\n",
      "    C(kaq0_20, Saq1_7)   =  0.629\n",
      "    C(kaq0_20, Saq0)     = -0.609\n",
      "    C(Saq0, kzoverkh)    =  0.597\n",
      "    C(Saq0, Saq1_7)      = -0.596\n",
      "    C(Saq1_7, Saq7_20)   = -0.556\n",
      "    C(Saq0, Saq7_20)     =  0.486\n"
     ]
    }
   ],
   "source": [
    "ca_4 = Calibrate(ml_3)\n",
    "ca_4.set_parameter(name='kaq0_20', initial=50)\n",
    "ca_4.set_parameter(name='Saq0', initial=0.1)\n",
    "ca_4.set_parameter(name='Saq1_7', initial=1e-4, pmin=0)\n",
    "ca_4.set_parameter(name='Saq7_20', initial=1e-4, pmin=0)\n",
    "ca_4.set_parameter_by_reference(name='kzoverkh', parameter=ml_3.aq.kzoverkh[:], \\\n",
    "                               initial=0.1, pmin=0)\n",
    "ca_4.series(name='obs1', x=r, y=0, layer=1,t=ts, h=hs)\n",
    "ca_4.series(name='obs2', x=r, y=0, layer=15, t=td, h=hd)\n",
    "ca_4.fit(report=True)"
   ]
  },
  {
   "cell_type": "code",
   "execution_count": 18,
   "metadata": {},
   "outputs": [
    {
     "data": {
      "text/html": [
       "<div>\n",
       "<style scoped>\n",
       "    .dataframe tbody tr th:only-of-type {\n",
       "        vertical-align: middle;\n",
       "    }\n",
       "\n",
       "    .dataframe tbody tr th {\n",
       "        vertical-align: top;\n",
       "    }\n",
       "\n",
       "    .dataframe thead th {\n",
       "        text-align: right;\n",
       "    }\n",
       "</style>\n",
       "<table border=\"1\" class=\"dataframe\">\n",
       "  <thead>\n",
       "    <tr style=\"text-align: right;\">\n",
       "      <th></th>\n",
       "      <th>optimal</th>\n",
       "      <th>std</th>\n",
       "      <th>perc_std</th>\n",
       "      <th>pmin</th>\n",
       "      <th>pmax</th>\n",
       "      <th>initial</th>\n",
       "      <th>parray</th>\n",
       "    </tr>\n",
       "  </thead>\n",
       "  <tbody>\n",
       "    <tr>\n",
       "      <td>kaq0_20</td>\n",
       "      <td>74.9209</td>\n",
       "      <td>2.274966</td>\n",
       "      <td>3.03649</td>\n",
       "      <td>-inf</td>\n",
       "      <td>inf</td>\n",
       "      <td>50</td>\n",
       "      <td>[74.92085686643718, 74.92085686643718, 74.9208...</td>\n",
       "    </tr>\n",
       "    <tr>\n",
       "      <td>Saq0</td>\n",
       "      <td>0.0205783</td>\n",
       "      <td>0.001559</td>\n",
       "      <td>7.576</td>\n",
       "      <td>-inf</td>\n",
       "      <td>inf</td>\n",
       "      <td>0.1</td>\n",
       "      <td>[0.02057828028722851]</td>\n",
       "    </tr>\n",
       "    <tr>\n",
       "      <td>Saq1_7</td>\n",
       "      <td>0.000451452</td>\n",
       "      <td>0.000058</td>\n",
       "      <td>12.9319</td>\n",
       "      <td>0.0</td>\n",
       "      <td>inf</td>\n",
       "      <td>0.0001</td>\n",
       "      <td>[0.0004514519384575255, 0.0004514519384575255,...</td>\n",
       "    </tr>\n",
       "    <tr>\n",
       "      <td>Saq7_20</td>\n",
       "      <td>2.31146e-05</td>\n",
       "      <td>0.000001</td>\n",
       "      <td>4.82869</td>\n",
       "      <td>0.0</td>\n",
       "      <td>inf</td>\n",
       "      <td>0.0001</td>\n",
       "      <td>[2.3114632324849893e-05, 2.3114632324849893e-0...</td>\n",
       "    </tr>\n",
       "    <tr>\n",
       "      <td>kzoverkh</td>\n",
       "      <td>0.000374873</td>\n",
       "      <td>0.000079</td>\n",
       "      <td>20.9576</td>\n",
       "      <td>0.0</td>\n",
       "      <td>inf</td>\n",
       "      <td>0.1</td>\n",
       "      <td>[0.00037487333092922626, 0.0003748733309292262...</td>\n",
       "    </tr>\n",
       "  </tbody>\n",
       "</table>\n",
       "</div>"
      ],
      "text/plain": [
       "              optimal       std perc_std  pmin  pmax initial  \\\n",
       "kaq0_20       74.9209  2.274966  3.03649  -inf   inf      50   \n",
       "Saq0        0.0205783  0.001559    7.576  -inf   inf     0.1   \n",
       "Saq1_7    0.000451452  0.000058  12.9319   0.0   inf  0.0001   \n",
       "Saq7_20   2.31146e-05  0.000001  4.82869   0.0   inf  0.0001   \n",
       "kzoverkh  0.000374873  0.000079  20.9576   0.0   inf     0.1   \n",
       "\n",
       "                                                     parray  \n",
       "kaq0_20   [74.92085686643718, 74.92085686643718, 74.9208...  \n",
       "Saq0                                  [0.02057828028722851]  \n",
       "Saq1_7    [0.0004514519384575255, 0.0004514519384575255,...  \n",
       "Saq7_20   [2.3114632324849893e-05, 2.3114632324849893e-0...  \n",
       "kzoverkh  [0.00037487333092922626, 0.0003748733309292262...  "
      ]
     },
     "metadata": {},
     "output_type": "display_data"
    },
    {
     "name": "stdout",
     "output_type": "stream",
     "text": [
      "RMSE: 0.003422931514726531\n"
     ]
    }
   ],
   "source": [
    "display(ca_4.parameters)\n",
    "print('RMSE:', ca_4.rmse())"
   ]
  },
  {
   "cell_type": "code",
   "execution_count": 19,
   "metadata": {},
   "outputs": [
    {
     "data": {
      "image/png": "[encoded data removed]",
      "text/plain": [
       "<Figure size 576x360 with 1 Axes>"
      ]
     },
     "metadata": {
      "needs_background": "light"
     },
     "output_type": "display_data"
    }
   ],
   "source": [
    "hs_4 = ml_3.head(x=r, y=0, t=ts, layers=1)\n",
    "hd_4 = ml_3.head(x=r, y=0, t=td, layers=15)\n",
    "plt.figure(figsize = (8, 5))\n",
    "plt.semilogx(ts, hs, '.', label='shallow obs')\n",
    "plt.semilogx(td, hd, '.', label='deep obs')\n",
    "plt.semilogx(ts, hs_4[0], label='shallow ttim')\n",
    "plt.semilogx(td, hd_4[0], label='deep ttim')\n",
    "plt.xlabel('time(d)')\n",
    "plt.ylabel('drawdown(m)')\n",
    "plt.legend();"
   ]
  },
  {
   "cell_type": "markdown",
   "metadata": {},
   "source": [
    "## Summary of values presented in Kruseman and de Ridder (1970)"
   ]
  },
  {
   "cell_type": "markdown",
   "metadata": {},
   "source": [
    "K&dR applies graphical analysis. Only the drawdown data of deep piezometer is used to estimate unknown parameters.AQTESOLV simulates this pumping test in the same way. The table shown below sumarrizes results of different methods applied to data of deep piezometer only."
   ]
  },
  {
   "cell_type": "code",
   "execution_count": 20,
   "metadata": {},
   "outputs": [
    {
     "data": {
      "text/html": [
       "<div>\n",
       "<style scoped>\n",
       "    .dataframe tbody tr th:only-of-type {\n",
       "        vertical-align: middle;\n",
       "    }\n",
       "\n",
       "    .dataframe tbody tr th {\n",
       "        vertical-align: top;\n",
       "    }\n",
       "\n",
       "    .dataframe thead th {\n",
       "        text-align: right;\n",
       "    }\n",
       "</style>\n",
       "<table border=\"1\" class=\"dataframe\">\n",
       "  <thead>\n",
       "    <tr style=\"text-align: right;\">\n",
       "      <th></th>\n",
       "      <th>k [m/d]</th>\n",
       "      <th>Ss [1/m]</th>\n",
       "      <th>Sy [-]</th>\n",
       "      <th>kz/kh</th>\n",
       "      <th>RMSE</th>\n",
       "    </tr>\n",
       "  </thead>\n",
       "  <tbody>\n",
       "    <tr>\n",
       "      <td>K&amp;dR</td>\n",
       "      <td>73</td>\n",
       "      <td>2.476e-05</td>\n",
       "      <td>0.005</td>\n",
       "      <td>0.000548</td>\n",
       "      <td>-</td>\n",
       "    </tr>\n",
       "    <tr>\n",
       "      <td>AQTESOLV</td>\n",
       "      <td>63.805</td>\n",
       "      <td>2.663e-05</td>\n",
       "      <td>0.011</td>\n",
       "      <td>0.00069</td>\n",
       "      <td>0.003041</td>\n",
       "    </tr>\n",
       "    <tr>\n",
       "      <td>MLU</td>\n",
       "      <td>74.657</td>\n",
       "      <td>2.767e-05</td>\n",
       "      <td>0.005</td>\n",
       "      <td>0.000737</td>\n",
       "      <td>0.003216</td>\n",
       "    </tr>\n",
       "    <tr>\n",
       "      <td>ttim</td>\n",
       "      <td>116.577</td>\n",
       "      <td>0.000345761</td>\n",
       "      <td>NaN</td>\n",
       "      <td>NaN</td>\n",
       "      <td>0.0100803</td>\n",
       "    </tr>\n",
       "  </tbody>\n",
       "</table>\n",
       "</div>"
      ],
      "text/plain": [
       "          k [m/d]     Ss [1/m] Sy [-]     kz/kh       RMSE\n",
       "K&dR           73    2.476e-05  0.005  0.000548          -\n",
       "AQTESOLV   63.805    2.663e-05  0.011   0.00069   0.003041\n",
       "MLU        74.657    2.767e-05  0.005  0.000737   0.003216\n",
       "ttim      116.577  0.000345761    NaN       NaN  0.0100803"
      ]
     },
     "execution_count": 20,
     "metadata": {},
     "output_type": "execute_result"
    }
   ],
   "source": [
    "t1 = pd.DataFrame(columns=['k [m/d]', 'Ss [1/m]', 'Sy [-]', 'kz/kh'], \\\n",
    "                 index=['K&dR', 'AQTESOLV', 'MLU', 'ttim'])\n",
    "t1.loc['K&dR'] = [73, 2.476e-05, 0.005, 0.000548]\n",
    "t1.loc['AQTESOLV'] = [63.805, 2.663e-05, 0.011, 0.000690]\n",
    "t1.loc['MLU'] = [74.657, 2.767e-05, 0.005, 0.000737]\n",
    "t1.iloc[3, 0:2] = ca_2.parameters['optimal'].values \n",
    "t1['RMSE'] = ['-', 0.003041, 0.003216, ca_2.rmse()]\n",
    "t1"
   ]
  },
  {
   "cell_type": "markdown",
   "metadata": {},
   "source": [
    "To optimize the conceptual model to be more realistic, multilayer model is applied. Table shown below sumarrizes results of MLU and ttim simulated with both piezometers."
   ]
  },
  {
   "cell_type": "code",
   "execution_count": 21,
   "metadata": {},
   "outputs": [
    {
     "data": {
      "text/html": [
       "<div>\n",
       "<style scoped>\n",
       "    .dataframe tbody tr th:only-of-type {\n",
       "        vertical-align: middle;\n",
       "    }\n",
       "\n",
       "    .dataframe tbody tr th {\n",
       "        vertical-align: top;\n",
       "    }\n",
       "\n",
       "    .dataframe thead th {\n",
       "        text-align: right;\n",
       "    }\n",
       "</style>\n",
       "<table border=\"1\" class=\"dataframe\">\n",
       "  <thead>\n",
       "    <tr style=\"text-align: right;\">\n",
       "      <th></th>\n",
       "      <th>k [m/d]</th>\n",
       "      <th>Sy [-]</th>\n",
       "      <th>Ss [1/m]</th>\n",
       "      <th>kzoverkh</th>\n",
       "      <th>RMSE</th>\n",
       "    </tr>\n",
       "  </thead>\n",
       "  <tbody>\n",
       "    <tr>\n",
       "      <td>MLU</td>\n",
       "      <td>62.657</td>\n",
       "      <td>0.0012</td>\n",
       "      <td>2.79e-05</td>\n",
       "      <td>0.002595</td>\n",
       "      <td>0.013540</td>\n",
       "    </tr>\n",
       "    <tr>\n",
       "      <td>ttim-multilayer</td>\n",
       "      <td>31.5793</td>\n",
       "      <td>0.0554154</td>\n",
       "      <td>3.47254e-05</td>\n",
       "      <td>0.0100151</td>\n",
       "      <td>0.009941</td>\n",
       "    </tr>\n",
       "    <tr>\n",
       "      <td>ttim-stratified Ss</td>\n",
       "      <td>74.9209</td>\n",
       "      <td>0.0205783</td>\n",
       "      <td>2.31146e-05</td>\n",
       "      <td>0.000374873</td>\n",
       "      <td>0.003423</td>\n",
       "    </tr>\n",
       "  </tbody>\n",
       "</table>\n",
       "</div>"
      ],
      "text/plain": [
       "                    k [m/d]     Sy [-]     Ss [1/m]     kzoverkh      RMSE\n",
       "MLU                  62.657     0.0012     2.79e-05     0.002595  0.013540\n",
       "ttim-multilayer     31.5793  0.0554154  3.47254e-05    0.0100151  0.009941\n",
       "ttim-stratified Ss  74.9209  0.0205783  2.31146e-05  0.000374873  0.003423"
      ]
     },
     "execution_count": 21,
     "metadata": {},
     "output_type": "execute_result"
    }
   ],
   "source": [
    "t2 = pd.DataFrame(columns=['k [m/d]', 'Sy [-]', 'Ss [1/m]','kzoverkh'], \\\n",
    "                 index=['MLU', 'ttim-multilayer', 'ttim-stratified Ss'])\n",
    "t2.loc['MLU'] = [62.657, 0.0012, 2.790e-05, 0.002595]\n",
    "t2.loc['ttim-multilayer'] = ca_3.parameters['optimal'].values\n",
    "t2.iloc[2, 0:2] = ca_4.parameters['optimal'].values[0:2]\n",
    "t2.iloc[2, 2:4] = ca_4.parameters['optimal'].values[3:5]\n",
    "t2['RMSE'] = [0.013540, ca_3.rmse(), ca_4.rmse()]\n",
    "t2"
   ]
  },
  {
   "cell_type": "code",
   "execution_count": null,
   "metadata": {},
   "outputs": [],
   "source": []
  }
 ],
 "metadata": {
  "kernelspec": {
   "display_name": "Python 3",
   "language": "python",
   "name": "python3"
  },
  "language_info": {
   "codemirror_mode": {
    "name": "ipython",
    "version": 3
   },
   "file_extension": ".py",
   "mimetype": "text/x-python",
   "name": "python",
   "nbconvert_exporter": "python",
   "pygments_lexer": "ipython3",
   "version": "3.7.4"
  }
 },
 "nbformat": 4,
 "nbformat_minor": 2
}
