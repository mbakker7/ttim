{
 "cells": [
  {
   "cell_type": "markdown",
   "metadata": {},
   "source": [
    "# Confined Aquifer Test\n",
    "**This test is taken from AQTESOLV examples.**"
   ]
  },
  {
   "cell_type": "code",
   "execution_count": 1,
   "metadata": {},
   "outputs": [],
   "source": [
    "%matplotlib inline\n",
    "import numpy as np\n",
    "import matplotlib.pyplot as plt\n",
    "import pandas as pd\n",
    "from ttim import *"
   ]
  },
  {
   "cell_type": "markdown",
   "metadata": {},
   "source": [
    "Set basic parameters:"
   ]
  },
  {
   "cell_type": "code",
   "execution_count": 2,
   "metadata": {},
   "outputs": [],
   "source": [
    "Q = 6605.754 #constant discharge in m^3/d\n",
    "b = -15.24 #aquifer thickness in m\n",
    "rw = 0.1524 #well radius in m"
   ]
  },
  {
   "cell_type": "markdown",
   "metadata": {},
   "source": [
    "Load data of three observation wells:"
   ]
  },
  {
   "cell_type": "code",
   "execution_count": 3,
   "metadata": {},
   "outputs": [],
   "source": [
    "data1 = np.loadtxt('data/sioux100.txt')\n",
    "t1 = data1[:, 0]\n",
    "h1 = data1[:, 1]\n",
    "r1 = 30.48 #distance between obs1 to pumping well\n",
    "\n",
    "data2 = np.loadtxt('data/sioux200.txt')\n",
    "t2 = data2[:, 0]\n",
    "h2 = data2[:, 1]\n",
    "r2 = 60.96 #distance between obs2 to pumping well\n",
    "\n",
    "data3 = np.loadtxt('data/sioux400.txt')\n",
    "t3 = data3[:, 0]\n",
    "h3 = data3[:, 1]\n",
    "r3 = 121.92 #distance between obs3 to pumping well"
   ]
  },
  {
   "cell_type": "markdown",
   "metadata": {},
   "source": [
    "Create conceptual model:"
   ]
  },
  {
   "cell_type": "code",
   "execution_count": 4,
   "metadata": {},
   "outputs": [
    {
     "name": "stdout",
     "output_type": "stream",
     "text": [
      "self.neq  1\n",
      "solution complete\n"
     ]
    }
   ],
   "source": [
    "ml_0 = ModelMaq(kaq=10, z=[0, b], Saq=0.001, tmin=0.001, tmax=10, topboundary='conf')\n",
    "w_0 = Well(ml_0, xw=0, yw=0, rw=rw, tsandQ=[(0, Q)], layers = 0)\n",
    "ml_0.solve()"
   ]
  },
  {
   "cell_type": "markdown",
   "metadata": {},
   "source": [
    "Calibrate with three datasets simultaneously:"
   ]
  },
  {
   "cell_type": "code",
   "execution_count": 5,
   "metadata": {},
   "outputs": [
    {
     "name": "stdout",
     "output_type": "stream",
     "text": [
      "........................................\n",
      "Fit succeeded.\n",
      "[[Fit Statistics]]\n",
      "    # fitting method   = leastsq\n",
      "    # function evals   = 37\n",
      "    # data points      = 77\n",
      "    # variables        = 2\n",
      "    chi-square         = 0.00121634\n",
      "    reduced chi-square = 1.6218e-05\n",
      "    Akaike info crit   = -847.289957\n",
      "    Bayesian info crit = -842.602346\n",
      "[[Variables]]\n",
      "    kaq0:  282.795193 +/- 1.13788959 (0.40%) (init = 10)\n",
      "    Saq0:  0.00420855 +/- 3.3461e-05 (0.80%) (init = 0.0001)\n",
      "[[Correlations]] (unreported correlations are < 0.100)\n",
      "    C(kaq0, Saq0) = -0.811\n"
     ]
    }
   ],
   "source": [
    "#unknown parameters: k, Saq\n",
    "ca_0 = Calibrate(ml_0)\n",
    "ca_0.set_parameter(name='kaq0', initial=10)\n",
    "ca_0.set_parameter(name='Saq0', initial=1e-4)\n",
    "ca_0.series(name='obs1', x=r1, y=0, t=t1, h=h1, layer=0)\n",
    "ca_0.series(name='obs2', x=r2, y=0, t=t2, h=h2, layer=0)\n",
    "ca_0.series(name='obs3', x=r3, y=0, t=t3, h=h3, layer=0)\n",
    "ca_0.fit(report=True)"
   ]
  },
  {
   "cell_type": "code",
   "execution_count": 6,
   "metadata": {},
   "outputs": [
    {
     "data": {
      "text/html": [
       "<div>\n",
       "<style scoped>\n",
       "    .dataframe tbody tr th:only-of-type {\n",
       "        vertical-align: middle;\n",
       "    }\n",
       "\n",
       "    .dataframe tbody tr th {\n",
       "        vertical-align: top;\n",
       "    }\n",
       "\n",
       "    .dataframe thead th {\n",
       "        text-align: right;\n",
       "    }\n",
       "</style>\n",
       "<table border=\"1\" class=\"dataframe\">\n",
       "  <thead>\n",
       "    <tr style=\"text-align: right;\">\n",
       "      <th></th>\n",
       "      <th>optimal</th>\n",
       "      <th>std</th>\n",
       "      <th>perc_std</th>\n",
       "      <th>pmin</th>\n",
       "      <th>pmax</th>\n",
       "      <th>initial</th>\n",
       "      <th>parray</th>\n",
       "    </tr>\n",
       "  </thead>\n",
       "  <tbody>\n",
       "    <tr>\n",
       "      <td>kaq0</td>\n",
       "      <td>282.795</td>\n",
       "      <td>1.137890</td>\n",
       "      <td>0.402372</td>\n",
       "      <td>-inf</td>\n",
       "      <td>inf</td>\n",
       "      <td>10</td>\n",
       "      <td>[282.7951928965306]</td>\n",
       "    </tr>\n",
       "    <tr>\n",
       "      <td>Saq0</td>\n",
       "      <td>0.00420855</td>\n",
       "      <td>0.000033</td>\n",
       "      <td>0.795071</td>\n",
       "      <td>-inf</td>\n",
       "      <td>inf</td>\n",
       "      <td>0.0001</td>\n",
       "      <td>[0.004208548777783135]</td>\n",
       "    </tr>\n",
       "  </tbody>\n",
       "</table>\n",
       "</div>"
      ],
      "text/plain": [
       "         optimal       std  perc_std  pmin  pmax initial  \\\n",
       "kaq0     282.795  1.137890  0.402372  -inf   inf      10   \n",
       "Saq0  0.00420855  0.000033  0.795071  -inf   inf  0.0001   \n",
       "\n",
       "                      parray  \n",
       "kaq0     [282.7951928965306]  \n",
       "Saq0  [0.004208548777783135]  "
      ]
     },
     "metadata": {},
     "output_type": "display_data"
    },
    {
     "name": "stdout",
     "output_type": "stream",
     "text": [
      "RMSE: 0.003974497855253861\n"
     ]
    }
   ],
   "source": [
    "display(ca_0.parameters)\n",
    "print('RMSE:', ca_0.rmse())"
   ]
  },
  {
   "cell_type": "code",
   "execution_count": 7,
   "metadata": {},
   "outputs": [
    {
     "name": "stderr",
     "output_type": "stream",
     "text": [
      "The PostScript backend does not support transparency; partially transparent artists will be rendered opaque.\n",
      "The PostScript backend does not support transparency; partially transparent artists will be rendered opaque.\n"
     ]
    },
    {
     "data": {
      "image/png": "[encoded data removed]",
      "text/plain": [
       "<Figure size 576x360 with 1 Axes>"
      ]
     },
     "metadata": {
      "needs_background": "light"
     },
     "output_type": "display_data"
    }
   ],
   "source": [
    "hm1_0 = ml_0.head(r1, 0, t1)\n",
    "hm2_0 = ml_0.head(r2, 0, t2)\n",
    "hm3_0 = ml_0.head(r3, 0, t3)\n",
    "plt.figure(figsize = (8, 5))\n",
    "plt.semilogx(t1, h1, '.', label='obs1')\n",
    "plt.semilogx(t1, hm1_0[0], label='ttim1')\n",
    "plt.semilogx(t2, h2, '.', label='obs2')\n",
    "plt.semilogx(t2, hm2_0[0], label='ttim2')\n",
    "plt.semilogx(t3, h3, '.', label='obs3')\n",
    "plt.semilogx(t3, hm3_0[0], label='ttim3')\n",
    "plt.xlabel('time(d)')\n",
    "plt.ylabel('head(m)')\n",
    "plt.legend()\n",
    "plt.savefig('C:/Users/DELL/Python Notebook/MT BE/Fig/siouxsfit1.eps')\n",
    "plt.show();"
   ]
  },
  {
   "cell_type": "markdown",
   "metadata": {},
   "source": [
    "Try adding res and rc:"
   ]
  },
  {
   "cell_type": "code",
   "execution_count": 8,
   "metadata": {},
   "outputs": [
    {
     "name": "stdout",
     "output_type": "stream",
     "text": [
      "self.neq  1\n",
      "solution complete\n"
     ]
    }
   ],
   "source": [
    "ml_1 = ModelMaq(kaq=10, z=[0, b], Saq=0.001, tmin=0.001, tmax=10, topboundary='conf')\n",
    "w_1 = Well(ml_1, xw=0, yw=0, rw=rw, rc=0, res=0, tsandQ=[(0, Q)], layers=0)\n",
    "ml_1.solve()"
   ]
  },
  {
   "cell_type": "markdown",
   "metadata": {},
   "source": [
    "Calibrate with three datasets simultaneously:"
   ]
  },
  {
   "cell_type": "markdown",
   "metadata": {},
   "source": [
    "When adding both res and rc into calibration, the optimized res value is bout 1.2e-12, which is close to the minimum limitation. Thus, adding res has nearly no effect on improving conceptual model's performance. res is removed from the calibration."
   ]
  },
  {
   "cell_type": "code",
   "execution_count": 9,
   "metadata": {},
   "outputs": [
    {
     "name": "stdout",
     "output_type": "stream",
     "text": [
      ".........................................................\n",
      "Fit succeeded.\n",
      "[[Fit Statistics]]\n",
      "    # fitting method   = leastsq\n",
      "    # function evals   = 54\n",
      "    # data points      = 77\n",
      "    # variables        = 3\n",
      "    chi-square         = 0.00116245\n",
      "    reduced chi-square = 1.5709e-05\n",
      "    Akaike info crit   = -848.779350\n",
      "    Bayesian info crit = -841.747934\n",
      "[[Variables]]\n",
      "    kaq0:  283.922753 +/- 1.28518297 (0.45%) (init = 10)\n",
      "    Saq0:  0.00415476 +/- 4.3874e-05 (1.06%) (init = 0.0001)\n",
      "    rc:    0.79000886 +/- 0.21255267 (26.91%) (init = 0)\n",
      "[[Correlations]] (unreported correlations are < 0.100)\n",
      "    C(kaq0, Saq0) = -0.852\n",
      "    C(Saq0, rc)   = -0.669\n",
      "    C(kaq0, rc)   =  0.487\n"
     ]
    }
   ],
   "source": [
    "#unknown parameters: k, Saq, res, rc\n",
    "ca_1 = Calibrate(ml_1)\n",
    "ca_1.set_parameter(name='kaq0', initial=10)\n",
    "ca_1.set_parameter(name='Saq0', initial=1e-4)\n",
    "#ca_1.set_parameter_by_reference(name='res', parameter=w_1.res, initial=0, pmin = 0)\n",
    "ca_1.set_parameter_by_reference(name='rc', parameter=w_1.rc, initial=0)\n",
    "ca_1.series(name='obs1', x=r1, y=0, t=t1, h=h1, layer=0)\n",
    "ca_1.series(name='obs2', x=r2, y=0, t=t2, h=h2, layer=0)\n",
    "ca_1.series(name='obs3', x=r3, y=0, t=t3, h=h3, layer=0)\n",
    "ca_1.fit(report=True)"
   ]
  },
  {
   "cell_type": "code",
   "execution_count": 10,
   "metadata": {},
   "outputs": [
    {
     "data": {
      "text/html": [
       "<div>\n",
       "<style scoped>\n",
       "    .dataframe tbody tr th:only-of-type {\n",
       "        vertical-align: middle;\n",
       "    }\n",
       "\n",
       "    .dataframe tbody tr th {\n",
       "        vertical-align: top;\n",
       "    }\n",
       "\n",
       "    .dataframe thead th {\n",
       "        text-align: right;\n",
       "    }\n",
       "</style>\n",
       "<table border=\"1\" class=\"dataframe\">\n",
       "  <thead>\n",
       "    <tr style=\"text-align: right;\">\n",
       "      <th></th>\n",
       "      <th>optimal</th>\n",
       "      <th>std</th>\n",
       "      <th>perc_std</th>\n",
       "      <th>pmin</th>\n",
       "      <th>pmax</th>\n",
       "      <th>initial</th>\n",
       "      <th>parray</th>\n",
       "    </tr>\n",
       "  </thead>\n",
       "  <tbody>\n",
       "    <tr>\n",
       "      <td>kaq0</td>\n",
       "      <td>283.923</td>\n",
       "      <td>1.285183</td>\n",
       "      <td>0.452652</td>\n",
       "      <td>-inf</td>\n",
       "      <td>inf</td>\n",
       "      <td>10</td>\n",
       "      <td>[283.92275254894827]</td>\n",
       "    </tr>\n",
       "    <tr>\n",
       "      <td>Saq0</td>\n",
       "      <td>0.00415476</td>\n",
       "      <td>0.000044</td>\n",
       "      <td>1.056</td>\n",
       "      <td>-inf</td>\n",
       "      <td>inf</td>\n",
       "      <td>0.0001</td>\n",
       "      <td>[0.004154762618152215]</td>\n",
       "    </tr>\n",
       "    <tr>\n",
       "      <td>rc</td>\n",
       "      <td>0.790009</td>\n",
       "      <td>0.212553</td>\n",
       "      <td>26.9051</td>\n",
       "      <td>-inf</td>\n",
       "      <td>inf</td>\n",
       "      <td>0</td>\n",
       "      <td>[0.7900088595416288]</td>\n",
       "    </tr>\n",
       "  </tbody>\n",
       "</table>\n",
       "</div>"
      ],
      "text/plain": [
       "         optimal       std  perc_std  pmin  pmax initial  \\\n",
       "kaq0     283.923  1.285183  0.452652  -inf   inf      10   \n",
       "Saq0  0.00415476  0.000044     1.056  -inf   inf  0.0001   \n",
       "rc      0.790009  0.212553   26.9051  -inf   inf       0   \n",
       "\n",
       "                      parray  \n",
       "kaq0    [283.92275254894827]  \n",
       "Saq0  [0.004154762618152215]  \n",
       "rc      [0.7900088595416288]  "
      ]
     },
     "metadata": {},
     "output_type": "display_data"
    },
    {
     "name": "stdout",
     "output_type": "stream",
     "text": [
      "RMSE: 0.0038854547009272195\n"
     ]
    }
   ],
   "source": [
    "display(ca_1.parameters)\n",
    "print('RMSE:', ca_1.rmse())"
   ]
  },
  {
   "cell_type": "code",
   "execution_count": 11,
   "metadata": {
    "scrolled": false
   },
   "outputs": [
    {
     "name": "stderr",
     "output_type": "stream",
     "text": [
      "The PostScript backend does not support transparency; partially transparent artists will be rendered opaque.\n",
      "The PostScript backend does not support transparency; partially transparent artists will be rendered opaque.\n"
     ]
    },
    {
     "data": {
      "image/png": "[encoded data removed]",
      "text/plain": [
       "<Figure size 576x360 with 1 Axes>"
      ]
     },
     "metadata": {
      "needs_background": "light"
     },
     "output_type": "display_data"
    }
   ],
   "source": [
    "hm1_1 = ml_1.head(r1, 0, t1)\n",
    "hm2_1 = ml_1.head(r2, 0, t2)\n",
    "hm3_1 = ml_1.head(r3, 0, t3)\n",
    "plt.figure(figsize = (8, 5))\n",
    "plt.semilogx(t1, h1, '.', label='obs1')\n",
    "plt.semilogx(t1, hm1_1[0], label='ttim1')\n",
    "plt.semilogx(t2, h2, '.', label='obs2')\n",
    "plt.semilogx(t2, hm2_1[0], label='ttim2')\n",
    "plt.semilogx(t3, h3, '.', label='obs3')\n",
    "plt.semilogx(t3, hm3_1[0], label='ttim3')\n",
    "plt.xlabel('time(d)')\n",
    "plt.ylabel('head(m)')\n",
    "plt.legend()\n",
    "plt.savefig('C:/Users/DELL/Python Notebook/MT BE/Fig/siouxfit2.eps')\n",
    "plt.show();"
   ]
  },
  {
   "cell_type": "markdown",
   "metadata": {},
   "source": [
    "## Summary of values simulated by AQTESOLV"
   ]
  },
  {
   "cell_type": "code",
   "execution_count": 12,
   "metadata": {},
   "outputs": [
    {
     "data": {
      "text/html": [
       "<div>\n",
       "<style scoped>\n",
       "    .dataframe tbody tr th:only-of-type {\n",
       "        vertical-align: middle;\n",
       "    }\n",
       "\n",
       "    .dataframe tbody tr th {\n",
       "        vertical-align: top;\n",
       "    }\n",
       "\n",
       "    .dataframe thead th {\n",
       "        text-align: right;\n",
       "    }\n",
       "</style>\n",
       "<table border=\"1\" class=\"dataframe\">\n",
       "  <thead>\n",
       "    <tr style=\"text-align: right;\">\n",
       "      <th></th>\n",
       "      <th>k [m/d]</th>\n",
       "      <th>Ss [1/m]</th>\n",
       "      <th>rc</th>\n",
       "      <th>RMSE</th>\n",
       "    </tr>\n",
       "  </thead>\n",
       "  <tbody>\n",
       "    <tr>\n",
       "      <td>AQTESOLV</td>\n",
       "      <td>282.659</td>\n",
       "      <td>0.004211</td>\n",
       "      <td>-</td>\n",
       "      <td>0.003925</td>\n",
       "    </tr>\n",
       "    <tr>\n",
       "      <td>MLU</td>\n",
       "      <td>282.684</td>\n",
       "      <td>0.004209</td>\n",
       "      <td>-</td>\n",
       "      <td>0.003897</td>\n",
       "    </tr>\n",
       "    <tr>\n",
       "      <td>ttim</td>\n",
       "      <td>282.795</td>\n",
       "      <td>0.00420855</td>\n",
       "      <td>-</td>\n",
       "      <td>0.003974</td>\n",
       "    </tr>\n",
       "    <tr>\n",
       "      <td>ttim-rc</td>\n",
       "      <td>283.923</td>\n",
       "      <td>0.00415476</td>\n",
       "      <td>0.790009</td>\n",
       "      <td>0.003885</td>\n",
       "    </tr>\n",
       "  </tbody>\n",
       "</table>\n",
       "</div>"
      ],
      "text/plain": [
       "          k [m/d]    Ss [1/m]        rc      RMSE\n",
       "AQTESOLV  282.659    0.004211         -  0.003925\n",
       "MLU       282.684    0.004209         -  0.003897\n",
       "ttim      282.795  0.00420855         -  0.003974\n",
       "ttim-rc   283.923  0.00415476  0.790009  0.003885"
      ]
     },
     "execution_count": 12,
     "metadata": {},
     "output_type": "execute_result"
    }
   ],
   "source": [
    "t = pd.DataFrame(columns=['k [m/d]', 'Ss [1/m]', 'rc'], \\\n",
    "                index=['AQTESOLV', 'MLU', 'ttim', 'ttim-rc'])\n",
    "t.loc['AQTESOLV'] = [282.659, 4.211E-03, '-']\n",
    "t.loc['ttim'] = np.append(ca_0.parameters['optimal'].values, '-')\n",
    "t.loc['ttim-rc'] = ca_1.parameters['optimal'].values\n",
    "t.loc['MLU'] = [282.684, 4.209e-03, '-']\n",
    "t['RMSE'] = [0.003925, 0.003897, ca_0.rmse(), ca_1.rmse()]\n",
    "t"
   ]
  },
  {
   "cell_type": "code",
   "execution_count": null,
   "metadata": {},
   "outputs": [],
   "source": []
  }
 ],
 "metadata": {
  "kernelspec": {
   "display_name": "Python 3",
   "language": "python",
   "name": "python3"
  },
  "language_info": {
   "codemirror_mode": {
    "name": "ipython",
    "version": 3
   },
   "file_extension": ".py",
   "mimetype": "text/x-python",
   "name": "python",
   "nbconvert_exporter": "python",
   "pygments_lexer": "ipython3",
   "version": "3.7.4"
  }
 },
 "nbformat": 4,
 "nbformat_minor": 2
}
