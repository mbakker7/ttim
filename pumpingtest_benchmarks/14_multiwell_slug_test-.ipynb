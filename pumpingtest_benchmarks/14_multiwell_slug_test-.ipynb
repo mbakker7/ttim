{
 "cells": [
  {
   "cell_type": "markdown",
   "metadata": {},
   "source": [
    "## Slug Test for Confined Aquifer\n",
    "**This test is taken from examples of AQTESOLV.**"
   ]
  },
  {
   "cell_type": "code",
   "execution_count": 1,
   "metadata": {},
   "outputs": [],
   "source": [
    "%matplotlib inline\n",
    "from ttim import *\n",
    "import numpy as np\n",
    "import matplotlib.pyplot as plt\n",
    "import pandas as pd"
   ]
  },
  {
   "cell_type": "markdown",
   "metadata": {},
   "source": [
    "Set background parameters:"
   ]
  },
  {
   "cell_type": "code",
   "execution_count": 2,
   "metadata": {},
   "outputs": [],
   "source": [
    "H0 = 2.798 #initial displacement in m\n",
    "b = -6.1 #aquifer thickness\n",
    "rw1 = 0.102 #well radius of Ln-2 Well\n",
    "rw2 = 0.071 #well radius of observation Ln-3 Well\n",
    "rc1 = 0.051 #casing radius of Ln-2 Well\n",
    "rc2 = 0.025 #casing radius of Ln-3 Well\n",
    "r = 6.45 #distance from observation well to test well"
   ]
  },
  {
   "cell_type": "markdown",
   "metadata": {},
   "source": [
    "Slug:"
   ]
  },
  {
   "cell_type": "code",
   "execution_count": 3,
   "metadata": {},
   "outputs": [
    {
     "name": "stdout",
     "output_type": "stream",
     "text": [
      "Slug: 0.02286 m^3\n"
     ]
    }
   ],
   "source": [
    "Q = np.pi * rc1 ** 2 * H0\n",
    "print('Slug:', round(Q, 5), 'm^3')"
   ]
  },
  {
   "cell_type": "markdown",
   "metadata": {},
   "source": [
    "Load data:"
   ]
  },
  {
   "cell_type": "code",
   "execution_count": 4,
   "metadata": {},
   "outputs": [],
   "source": [
    "data1 = np.loadtxt('data/ln-2.txt')\n",
    "t1 = data1[:, 0] / 60 / 60 / 24 #convert time from seconds to days\n",
    "h1 = data1[:, 1]\n",
    "data2 = np.loadtxt('data/ln-3.txt')\n",
    "t2 = data2[:, 0] / 60 / 60 / 24\n",
    "h2 = data2[:, 1]"
   ]
  },
  {
   "cell_type": "markdown",
   "metadata": {},
   "source": [
    "Create single layer conceptual model:"
   ]
  },
  {
   "cell_type": "code",
   "execution_count": 28,
   "metadata": {},
   "outputs": [
    {
     "name": "stdout",
     "output_type": "stream",
     "text": [
      "self.neq  1\n",
      "solution complete\n"
     ]
    }
   ],
   "source": [
    "ml_0 = ModelMaq(kaq=10, z=[0, b], Saq=1e-4,  \\\n",
    "           tmin=1e-5, tmax=0.01)\n",
    "w_0 = Well(ml_0, xw=0, yw=0, rw=rw1, rc=rc1, tsandQ=[(0, -Q)], layers=0, wbstype='slug')\n",
    "ml_0.solve()"
   ]
  },
  {
   "cell_type": "markdown",
   "metadata": {},
   "source": [
    "Calibrate with two datasets simultaneously:"
   ]
  },
  {
   "cell_type": "code",
   "execution_count": 29,
   "metadata": {},
   "outputs": [
    {
     "name": "stdout",
     "output_type": "stream",
     "text": [
      ".....................................\n",
      "Fit succeeded.\n",
      "[[Fit Statistics]]\n",
      "    # fitting method   = leastsq\n",
      "    # function evals   = 34\n",
      "    # data points      = 162\n",
      "    # variables        = 2\n",
      "    chi-square         = 0.01697472\n",
      "    reduced chi-square = 1.0609e-04\n",
      "    Akaike info crit   = -1480.50745\n",
      "    Bayesian info crit = -1474.33226\n",
      "[[Variables]]\n",
      "    kaq0:  1.16610844 +/- 0.00292541 (0.25%) (init = 10)\n",
      "    Saq0:  9.3821e-06 +/- 1.1585e-07 (1.23%) (init = 0.0001)\n",
      "[[Correlations]] (unreported correlations are < 0.100)\n",
      "    C(kaq0, Saq0) = -0.502\n"
     ]
    }
   ],
   "source": [
    "#unknown parameters: kaq, Saq\n",
    "ca_0 = Calibrate(ml_0)\n",
    "ca_0.set_parameter(name='kaq0', initial=10)\n",
    "ca_0.set_parameter(name='Saq0', initial=1e-4)\n",
    "ca_0.series(name='obs1', x=0, y=0, layer=0, t=t1, h=h1)\n",
    "ca_0.series(name='obs2', x=r, y=0, layer=0, t=t2, h=h2)\n",
    "ca_0.fit(report=True)"
   ]
  },
  {
   "cell_type": "code",
   "execution_count": 30,
   "metadata": {},
   "outputs": [
    {
     "data": {
      "text/html": [
       "<div>\n",
       "<style scoped>\n",
       "    .dataframe tbody tr th:only-of-type {\n",
       "        vertical-align: middle;\n",
       "    }\n",
       "\n",
       "    .dataframe tbody tr th {\n",
       "        vertical-align: top;\n",
       "    }\n",
       "\n",
       "    .dataframe thead th {\n",
       "        text-align: right;\n",
       "    }\n",
       "</style>\n",
       "<table border=\"1\" class=\"dataframe\">\n",
       "  <thead>\n",
       "    <tr style=\"text-align: right;\">\n",
       "      <th></th>\n",
       "      <th>optimal</th>\n",
       "      <th>std</th>\n",
       "      <th>perc_std</th>\n",
       "      <th>pmin</th>\n",
       "      <th>pmax</th>\n",
       "      <th>initial</th>\n",
       "      <th>parray</th>\n",
       "    </tr>\n",
       "  </thead>\n",
       "  <tbody>\n",
       "    <tr>\n",
       "      <td>kaq0</td>\n",
       "      <td>1.16611</td>\n",
       "      <td>2.925411e-03</td>\n",
       "      <td>0.25087</td>\n",
       "      <td>-inf</td>\n",
       "      <td>inf</td>\n",
       "      <td>10</td>\n",
       "      <td>[1.166108439006008]</td>\n",
       "    </tr>\n",
       "    <tr>\n",
       "      <td>Saq0</td>\n",
       "      <td>9.38211e-06</td>\n",
       "      <td>1.158516e-07</td>\n",
       "      <td>1.23481</td>\n",
       "      <td>-inf</td>\n",
       "      <td>inf</td>\n",
       "      <td>0.0001</td>\n",
       "      <td>[9.382108899818189e-06]</td>\n",
       "    </tr>\n",
       "  </tbody>\n",
       "</table>\n",
       "</div>"
      ],
      "text/plain": [
       "          optimal           std perc_std  pmin  pmax initial  \\\n",
       "kaq0      1.16611  2.925411e-03  0.25087  -inf   inf      10   \n",
       "Saq0  9.38211e-06  1.158516e-07  1.23481  -inf   inf  0.0001   \n",
       "\n",
       "                       parray  \n",
       "kaq0      [1.166108439006008]  \n",
       "Saq0  [9.382108899818189e-06]  "
      ]
     },
     "metadata": {},
     "output_type": "display_data"
    },
    {
     "name": "stdout",
     "output_type": "stream",
     "text": [
      "RMSE: 0.01023631976154498\n"
     ]
    }
   ],
   "source": [
    "display(ca_0.parameters)\n",
    "print('RMSE:', ca_0.rmse())"
   ]
  },
  {
   "cell_type": "code",
   "execution_count": 24,
   "metadata": {},
   "outputs": [
    {
     "data": {
      "image/png": "[encoded data removed]",
      "text/plain": [
       "<Figure size 576x360 with 1 Axes>"
      ]
     },
     "metadata": {
      "needs_background": "light"
     },
     "output_type": "display_data"
    }
   ],
   "source": [
    "hm1_0 = ml_0.head(0, 0, t1, layers=0)\n",
    "hm2_0 = ml_0.head(r, 0, t2, layers=0)\n",
    "plt.figure(figsize=(8, 5))\n",
    "plt.semilogx(t1, h1, '.', label='obs ln-2')\n",
    "plt.semilogx(t1, hm1_0[0], label='ttim ln-2')\n",
    "plt.semilogx(t2, h2, '.', label='obs ln-3')\n",
    "plt.semilogx(t2, hm2_0[0], label='ttim ln-3')\n",
    "plt.xlabel('time(d)')\n",
    "plt.ylabel('displacement(m)')\n",
    "plt.legend();"
   ]
  },
  {
   "cell_type": "markdown",
   "metadata": {},
   "source": [
    "Try multilayer conceptual model:"
   ]
  },
  {
   "cell_type": "code",
   "execution_count": 31,
   "metadata": {},
   "outputs": [],
   "source": [
    "#Determine elevations of each layer.\n",
    "#Thickness of each layer is set to be 0.5 m.\n",
    "z = np.arange(0, b, -0.5)\n",
    "zlay = np.append(z, b)\n",
    "nlay = len(zlay) - 1\n",
    "Saq_2 = 1e-4 * np.ones(nlay)\n",
    "n = np.arange(0, 13,1)"
   ]
  },
  {
   "cell_type": "code",
   "execution_count": 35,
   "metadata": {},
   "outputs": [
    {
     "name": "stdout",
     "output_type": "stream",
     "text": [
      "self.neq  13\n",
      "solution complete\n"
     ]
    }
   ],
   "source": [
    "ml_1 = Model3D(kaq=10, z=zlay, Saq=Saq_2, kzoverkh=1, tmin=1e-5, tmax=0.01, \\\n",
    "              phreatictop=True)\n",
    "w_1 = Well(ml_1, xw=0, yw=0, rw=rw1, tsandQ=[(0, -Q)], layers=n, rc=rc1, \\\n",
    "          wbstype='slug')\n",
    "ml_1.solve()"
   ]
  },
  {
   "cell_type": "markdown",
   "metadata": {},
   "source": [
    "Calibrate with two datasets simultaneously:"
   ]
  },
  {
   "cell_type": "code",
   "execution_count": 36,
   "metadata": {},
   "outputs": [
    {
     "name": "stdout",
     "output_type": "stream",
     "text": [
      "...................................\n",
      "Fit succeeded.\n",
      "[[Fit Statistics]]\n",
      "    # fitting method   = leastsq\n",
      "    # function evals   = 32\n",
      "    # data points      = 2106\n",
      "    # variables        = 2\n",
      "    chi-square         = 0.21986254\n",
      "    reduced chi-square = 1.0450e-04\n",
      "    Akaike info crit   = -19302.3305\n",
      "    Bayesian info crit = -19291.0254\n",
      "[[Variables]]\n",
      "    kaq0_12:  1.16570162 +/- 8.1176e-04 (0.07%) (init = 10)\n",
      "    Saq0_12:  8.6904e-06 +/- 2.9609e-08 (0.34%) (init = 0.0001)\n",
      "[[Correlations]] (unreported correlations are < 0.100)\n",
      "    C(kaq0_12, Saq0_12) = -0.503\n"
     ]
    }
   ],
   "source": [
    "ca_1 = Calibrate(ml_1)\n",
    "ca_1.set_parameter(name='kaq0_12', initial=10)\n",
    "ca_1.set_parameter(name='Saq0_12', initial=1e-4, pmin=0)\n",
    "ca_1.series(name='obs1', x=0, y=0, layer=n, t=t1, h=h1)\n",
    "ca_1.series(name='obs2', x=r, y=0, layer=n, t=t2, h=h2)\n",
    "ca_1.fit(report=True)"
   ]
  },
  {
   "cell_type": "code",
   "execution_count": 37,
   "metadata": {},
   "outputs": [
    {
     "data": {
      "text/html": [
       "<div>\n",
       "<style scoped>\n",
       "    .dataframe tbody tr th:only-of-type {\n",
       "        vertical-align: middle;\n",
       "    }\n",
       "\n",
       "    .dataframe tbody tr th {\n",
       "        vertical-align: top;\n",
       "    }\n",
       "\n",
       "    .dataframe thead th {\n",
       "        text-align: right;\n",
       "    }\n",
       "</style>\n",
       "<table border=\"1\" class=\"dataframe\">\n",
       "  <thead>\n",
       "    <tr style=\"text-align: right;\">\n",
       "      <th></th>\n",
       "      <th>optimal</th>\n",
       "      <th>std</th>\n",
       "      <th>perc_std</th>\n",
       "      <th>pmin</th>\n",
       "      <th>pmax</th>\n",
       "      <th>initial</th>\n",
       "      <th>parray</th>\n",
       "    </tr>\n",
       "  </thead>\n",
       "  <tbody>\n",
       "    <tr>\n",
       "      <td>kaq0_12</td>\n",
       "      <td>1.1657</td>\n",
       "      <td>8.117623e-04</td>\n",
       "      <td>0.0696372</td>\n",
       "      <td>-inf</td>\n",
       "      <td>inf</td>\n",
       "      <td>10</td>\n",
       "      <td>[1.1657016194139789, 1.1657016194139789, 1.165...</td>\n",
       "    </tr>\n",
       "    <tr>\n",
       "      <td>Saq0_12</td>\n",
       "      <td>8.69035e-06</td>\n",
       "      <td>2.960946e-08</td>\n",
       "      <td>0.340716</td>\n",
       "      <td>0.0</td>\n",
       "      <td>inf</td>\n",
       "      <td>0.0001</td>\n",
       "      <td>[8.69035475870028e-06, 8.69035475870028e-06, 8...</td>\n",
       "    </tr>\n",
       "  </tbody>\n",
       "</table>\n",
       "</div>"
      ],
      "text/plain": [
       "             optimal           std   perc_std  pmin  pmax initial  \\\n",
       "kaq0_12       1.1657  8.117623e-04  0.0696372  -inf   inf      10   \n",
       "Saq0_12  8.69035e-06  2.960946e-08   0.340716   0.0   inf  0.0001   \n",
       "\n",
       "                                                    parray  \n",
       "kaq0_12  [1.1657016194139789, 1.1657016194139789, 1.165...  \n",
       "Saq0_12  [8.69035475870028e-06, 8.69035475870028e-06, 8...  "
      ]
     },
     "metadata": {},
     "output_type": "display_data"
    },
    {
     "name": "stdout",
     "output_type": "stream",
     "text": [
      "RMSE: 0.010217542096555829\n"
     ]
    }
   ],
   "source": [
    "display(ca_1.parameters)\n",
    "print('RMSE:', ca_1.rmse())"
   ]
  },
  {
   "cell_type": "code",
   "execution_count": 38,
   "metadata": {},
   "outputs": [
    {
     "data": {
      "image/png": "[encoded data removed]",
      "text/plain": [
       "<Figure size 576x360 with 1 Axes>"
      ]
     },
     "metadata": {
      "needs_background": "light"
     },
     "output_type": "display_data"
    }
   ],
   "source": [
    "hm1_1 = ml_1.head(0, 0, t1, layers=n)\n",
    "hm2_1 = ml_1.head(r, 0, t2, layers=n)\n",
    "plt.figure(figsize=(8, 5))\n",
    "plt.semilogx(t1, h1, '.', label='obs ln-2')\n",
    "plt.semilogx(t1, hm1_1[0], label='ttim ln-2')\n",
    "plt.semilogx(t2, h2, '.', label='obs ln-3')\n",
    "plt.semilogx(t2, hm2_1[0], label='ttim ln-3')\n",
    "plt.xlabel('time(d)')\n",
    "plt.ylabel('displacement(m)')\n",
    "plt.legend();"
   ]
  },
  {
   "cell_type": "markdown",
   "metadata": {},
   "source": [
    "Try adding well screen resistance:"
   ]
  },
  {
   "cell_type": "code",
   "execution_count": 40,
   "metadata": {},
   "outputs": [
    {
     "name": "stdout",
     "output_type": "stream",
     "text": [
      "self.neq  13\n",
      "solution complete\n"
     ]
    }
   ],
   "source": [
    "ml_2 = Model3D(kaq=10, z=zlay, Saq=Saq_2, kzoverkh=1, tmin=1e-5, tmax=0.01, \\\n",
    "              phreatictop=True)\n",
    "w_2 = Well(ml_2, xw=0, yw=0, rw=rw1, tsandQ=[(0, -Q)], layers=n, rc=rc1, \\\n",
    "          wbstype='slug', res=0.1)\n",
    "ml_2.solve()"
   ]
  },
  {
   "cell_type": "markdown",
   "metadata": {},
   "source": [
    "Calibrate with two datasets simultaneously:"
   ]
  },
  {
   "cell_type": "code",
   "execution_count": 42,
   "metadata": {},
   "outputs": [
    {
     "name": "stdout",
     "output_type": "stream",
     "text": [
      ".........................................\n",
      "Fit succeeded.\n",
      "[[Fit Statistics]]\n",
      "    # fitting method   = leastsq\n",
      "    # function evals   = 38\n",
      "    # data points      = 2106\n",
      "    # variables        = 3\n",
      "    chi-square         = 0.21889145\n",
      "    reduced chi-square = 1.0409e-04\n",
      "    Akaike info crit   = -19309.6529\n",
      "    Bayesian info crit = -19292.6953\n",
      "[[Variables]]\n",
      "    kaq0_12:  1.16544493 +/- 8.0971e-04 (0.07%) (init = 10)\n",
      "    Saq0_12:  8.6803e-06 +/- 3.0028e-08 (0.35%) (init = 0.0001)\n",
      "    res:      2.6640e-04 +/- 1.0461e-04 (39.27%) (init = 0)\n",
      "[[Correlations]] (unreported correlations are < 0.100)\n",
      "    C(kaq0_12, Saq0_12) = -0.452\n",
      "    C(Saq0_12, res)     = -0.182\n",
      "    C(kaq0_12, res)     = -0.135\n"
     ]
    }
   ],
   "source": [
    "ca_2 = Calibrate(ml_2)\n",
    "ca_2.set_parameter(name='kaq0_12', initial=10)\n",
    "ca_2.set_parameter(name='Saq0_12', initial=1e-4, pmin=0)\n",
    "ca_2.set_parameter_by_reference(name='res', parameter=w_2.res, initial=0)\n",
    "ca_2.series(name='obs1', x=0, y=0, layer=n, t=t1, h=h1)\n",
    "ca_2.series(name='obs2', x=r, y=0, layer=n, t=t2, h=h2)\n",
    "ca_2.fit(report=True)"
   ]
  },
  {
   "cell_type": "code",
   "execution_count": 43,
   "metadata": {},
   "outputs": [
    {
     "data": {
      "text/html": [
       "<div>\n",
       "<style scoped>\n",
       "    .dataframe tbody tr th:only-of-type {\n",
       "        vertical-align: middle;\n",
       "    }\n",
       "\n",
       "    .dataframe tbody tr th {\n",
       "        vertical-align: top;\n",
       "    }\n",
       "\n",
       "    .dataframe thead th {\n",
       "        text-align: right;\n",
       "    }\n",
       "</style>\n",
       "<table border=\"1\" class=\"dataframe\">\n",
       "  <thead>\n",
       "    <tr style=\"text-align: right;\">\n",
       "      <th></th>\n",
       "      <th>optimal</th>\n",
       "      <th>std</th>\n",
       "      <th>perc_std</th>\n",
       "      <th>pmin</th>\n",
       "      <th>pmax</th>\n",
       "      <th>initial</th>\n",
       "      <th>parray</th>\n",
       "    </tr>\n",
       "  </thead>\n",
       "  <tbody>\n",
       "    <tr>\n",
       "      <td>kaq0_12</td>\n",
       "      <td>1.16544</td>\n",
       "      <td>8.097086e-04</td>\n",
       "      <td>0.0694764</td>\n",
       "      <td>-inf</td>\n",
       "      <td>inf</td>\n",
       "      <td>10</td>\n",
       "      <td>[1.1654449332817878, 1.1654449332817878, 1.165...</td>\n",
       "    </tr>\n",
       "    <tr>\n",
       "      <td>Saq0_12</td>\n",
       "      <td>8.68032e-06</td>\n",
       "      <td>3.002794e-08</td>\n",
       "      <td>0.345931</td>\n",
       "      <td>0.0</td>\n",
       "      <td>inf</td>\n",
       "      <td>0.0001</td>\n",
       "      <td>[8.680316966991342e-06, 8.680316966991342e-06,...</td>\n",
       "    </tr>\n",
       "    <tr>\n",
       "      <td>res</td>\n",
       "      <td>0.000266395</td>\n",
       "      <td>1.046115e-04</td>\n",
       "      <td>39.2693</td>\n",
       "      <td>-inf</td>\n",
       "      <td>inf</td>\n",
       "      <td>0</td>\n",
       "      <td>[0.00026639522680986657]</td>\n",
       "    </tr>\n",
       "  </tbody>\n",
       "</table>\n",
       "</div>"
      ],
      "text/plain": [
       "             optimal           std   perc_std  pmin  pmax initial  \\\n",
       "kaq0_12      1.16544  8.097086e-04  0.0694764  -inf   inf      10   \n",
       "Saq0_12  8.68032e-06  3.002794e-08   0.345931   0.0   inf  0.0001   \n",
       "res      0.000266395  1.046115e-04    39.2693  -inf   inf       0   \n",
       "\n",
       "                                                    parray  \n",
       "kaq0_12  [1.1654449332817878, 1.1654449332817878, 1.165...  \n",
       "Saq0_12  [8.680316966991342e-06, 8.680316966991342e-06,...  \n",
       "res                               [0.00026639522680986657]  "
      ]
     },
     "metadata": {},
     "output_type": "display_data"
    },
    {
     "name": "stdout",
     "output_type": "stream",
     "text": [
      "RMSE: 0.010194952731159241\n"
     ]
    }
   ],
   "source": [
    "display(ca_2.parameters)\n",
    "print('RMSE:', ca_2.rmse())"
   ]
  },
  {
   "cell_type": "code",
   "execution_count": 44,
   "metadata": {},
   "outputs": [
    {
     "data": {
      "image/png": "[encoded data removed]",
      "text/plain": [
       "<Figure size 576x360 with 1 Axes>"
      ]
     },
     "metadata": {
      "needs_background": "light"
     },
     "output_type": "display_data"
    }
   ],
   "source": [
    "hm1_2 = ml_2.head(0, 0, t1, layers=n)\n",
    "hm2_2 = ml_2.head(r, 0, t2, layers=n)\n",
    "plt.figure(figsize=(8, 5))\n",
    "plt.semilogx(t1, h1, '.', label='obs ln-2')\n",
    "plt.semilogx(t1, hm1_2[0], label='ttim ln-2')\n",
    "plt.semilogx(t2, h2, '.', label='obs ln-3')\n",
    "plt.semilogx(t2, hm2_2[0], label='ttim ln-3')\n",
    "plt.xlabel('time(d)')\n",
    "plt.ylabel('displacement(m)')\n",
    "plt.legend();"
   ]
  },
  {
   "cell_type": "markdown",
   "metadata": {},
   "source": [
    "Adding well screen resistance does not improve the performance obviously."
   ]
  },
  {
   "cell_type": "markdown",
   "metadata": {},
   "source": [
    "## Summary of values presented by AQTESOLV & MLU"
   ]
  },
  {
   "cell_type": "code",
   "execution_count": 52,
   "metadata": {},
   "outputs": [
    {
     "data": {
      "text/html": [
       "<div>\n",
       "<style scoped>\n",
       "    .dataframe tbody tr th:only-of-type {\n",
       "        vertical-align: middle;\n",
       "    }\n",
       "\n",
       "    .dataframe tbody tr th {\n",
       "        vertical-align: top;\n",
       "    }\n",
       "\n",
       "    .dataframe thead th {\n",
       "        text-align: right;\n",
       "    }\n",
       "</style>\n",
       "<table border=\"1\" class=\"dataframe\">\n",
       "  <thead>\n",
       "    <tr style=\"text-align: right;\">\n",
       "      <th></th>\n",
       "      <th>k [m/d]</th>\n",
       "      <th>Ss [1/m]</th>\n",
       "      <th>RMSE</th>\n",
       "    </tr>\n",
       "  </thead>\n",
       "  <tbody>\n",
       "    <tr>\n",
       "      <td>MLU</td>\n",
       "      <td>1.311</td>\n",
       "      <td>8.197e-06</td>\n",
       "      <td>0.010373</td>\n",
       "    </tr>\n",
       "    <tr>\n",
       "      <td>AQTESOLV</td>\n",
       "      <td>1.166</td>\n",
       "      <td>9.368e-06</td>\n",
       "      <td>0.009151</td>\n",
       "    </tr>\n",
       "    <tr>\n",
       "      <td>ttim-single</td>\n",
       "      <td>1.16611</td>\n",
       "      <td>9.38211e-06</td>\n",
       "      <td>0.010236</td>\n",
       "    </tr>\n",
       "    <tr>\n",
       "      <td>ttim-multi</td>\n",
       "      <td>1.1657</td>\n",
       "      <td>8.69035e-06</td>\n",
       "      <td>0.276223</td>\n",
       "    </tr>\n",
       "  </tbody>\n",
       "</table>\n",
       "</div>"
      ],
      "text/plain": [
       "             k [m/d]     Ss [1/m]      RMSE\n",
       "MLU            1.311    8.197e-06  0.010373\n",
       "AQTESOLV       1.166    9.368e-06  0.009151\n",
       "ttim-single  1.16611  9.38211e-06  0.010236\n",
       "ttim-multi    1.1657  8.69035e-06  0.276223"
      ]
     },
     "execution_count": 52,
     "metadata": {},
     "output_type": "execute_result"
    }
   ],
   "source": [
    "t = pd.DataFrame(columns=['k [m/d]', 'Ss [1/m]'], \\\n",
    "                          index=['MLU', 'AQTESOLV', 'ttim-single', 'ttim-multi'])\n",
    "t.loc['AQTESOLV'] = [1.166, 9.368E-06]\n",
    "t.loc['MLU'] = [1.311, 8.197E-06]\n",
    "t.loc['ttim-single'] = ca_0.parameters['optimal'].values\n",
    "t.loc['ttim-multi'] = ca_1.parameters['optimal'].values\n",
    "t['RMSE'] = [0.010373, 0.009151, ca_0.rmse(), ca_1.rmse()]\n",
    "t"
   ]
  },
  {
   "cell_type": "code",
   "execution_count": null,
   "metadata": {},
   "outputs": [],
   "source": []
  }
 ],
 "metadata": {
  "kernelspec": {
   "display_name": "Python 3",
   "language": "python",
   "name": "python3"
  },
  "language_info": {
   "codemirror_mode": {
    "name": "ipython",
    "version": 3
   },
   "file_extension": ".py",
   "mimetype": "text/x-python",
   "name": "python",
   "nbconvert_exporter": "python",
   "pygments_lexer": "ipython3",
   "version": "3.7.4"
  }
 },
 "nbformat": 4,
 "nbformat_minor": 2
}
