{
 "cells": [
  {
   "cell_type": "markdown",
   "id": "e94ddbf2",
   "metadata": {},
   "source": [
    "# TTim Benchmarks"
   ]
  },
  {
   "cell_type": "markdown",
   "id": "dcd52e70",
   "metadata": {},
   "source": [
    "In this series of benchmark problems we will demonstrate through Jupyter Notebooks the features and capabilities of TTim to simulate and analyze transient groundwater hydraulic problems such as pumping tests and slug tests.\n",
    "\n"
   ]
  },
  {
   "cell_type": "markdown",
   "id": "7960279f",
   "metadata": {},
   "source": [
    "## Confined Pumping Tests\n",
    "\n",
    "1. [Oude Korendijk](confined1_oude_korendijk.ipynb) - One layer confined pumping test with two observation wells"
   ]
  }
 ],
 "metadata": {
  "kernelspec": {
   "display_name": "Python 3 (ipykernel)",
   "language": "python",
   "name": "python3"
  },
  "language_info": {
   "codemirror_mode": {
    "name": "ipython",
    "version": 3
   },
   "file_extension": ".py",
   "mimetype": "text/x-python",
   "name": "python",
   "nbconvert_exporter": "python",
   "pygments_lexer": "ipython3",
   "version": "3.8.5"
  }
 },
 "nbformat": 4,
 "nbformat_minor": 5
}
