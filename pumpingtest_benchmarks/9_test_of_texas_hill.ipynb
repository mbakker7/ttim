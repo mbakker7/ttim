{
 "cells": [
  {
   "cell_type": "markdown",
   "metadata": {},
   "source": [
    "# Leaky Aquifer Test\n",
    "**This example is taken from AQTESOLV examples.**"
   ]
  },
  {
   "cell_type": "code",
   "execution_count": 1,
   "metadata": {},
   "outputs": [],
   "source": [
    "%matplotlib inline\n",
    "import numpy as np\n",
    "import matplotlib.pyplot as plt\n",
    "import pandas as pd\n",
    "from ttim import *"
   ]
  },
  {
   "cell_type": "markdown",
   "metadata": {},
   "source": [
    "Set basic parameters:"
   ]
  },
  {
   "cell_type": "code",
   "execution_count": 2,
   "metadata": {},
   "outputs": [],
   "source": [
    "Q = 24464.06 #constant discharge in m^3/d\n",
    "b1 = 6.096 #overlying aquitard thickness in m\n",
    "b2 = 15.24 #aquifer thickness in m\n",
    "zt = -b1 #top boundary of aquifer\n",
    "zb = -b1 - b2 #bottom boundary of aquifer\n",
    "rw = 0.1524 #well radius in m"
   ]
  },
  {
   "cell_type": "markdown",
   "metadata": {},
   "source": [
    "Load dataset of observation wells:"
   ]
  },
  {
   "cell_type": "code",
   "execution_count": 3,
   "metadata": {},
   "outputs": [],
   "source": [
    "data1 = np.loadtxt('data/texas40.txt')\n",
    "t1 = data1[:, 0]\n",
    "h1 = data1[:, 1]\n",
    "r1 = 12.191 #distance between obs1 to pumping well in m\n",
    "\n",
    "data2 = np.loadtxt('data/texas80.txt')\n",
    "t2 = data2[:, 0]\n",
    "h2 = data2[:, 1]\n",
    "r2 = 24.383 #distance between obs2 to pumping well in m\n",
    "\n",
    "data3 = np.loadtxt('data/texas160.txt')\n",
    "t3 = data3[:, 0]\n",
    "h3 = data3[:, 1]\n",
    "r3 = 48.766 #distance between obs3 to pumping well in m"
   ]
  },
  {
   "cell_type": "markdown",
   "metadata": {},
   "source": [
    "Create conceptual model:"
   ]
  },
  {
   "cell_type": "code",
   "execution_count": 4,
   "metadata": {},
   "outputs": [
    {
     "name": "stdout",
     "output_type": "stream",
     "text": [
      "self.neq  1\n",
      "solution complete\n"
     ]
    }
   ],
   "source": [
    "ml_0 = ModelMaq(kaq=10, z=[0, zt, zb], Saq=0.001, Sll=0, c=10, tmin=0.001, \\\n",
    "                tmax=1, topboundary='semi')\n",
    "w_0 = Well(ml_0, xw=0, yw=0, rw=rw, tsandQ=[(0, Q)], layers=0)\n",
    "ml_0.solve()"
   ]
  },
  {
   "cell_type": "markdown",
   "metadata": {},
   "source": [
    "Calibrate with three datasets simultaneously："
   ]
  },
  {
   "cell_type": "code",
   "execution_count": 5,
   "metadata": {},
   "outputs": [
    {
     "name": "stdout",
     "output_type": "stream",
     "text": [
      "...............................................................................................................................\n",
      "Fit succeeded.\n",
      "[[Fit Statistics]]\n",
      "    # fitting method   = leastsq\n",
      "    # function evals   = 124\n",
      "    # data points      = 78\n",
      "    # variables        = 4\n",
      "    chi-square         = 0.28305607\n",
      "    reduced chi-square = 0.00382508\n",
      "    Akaike info crit   = -430.267891\n",
      "    Bayesian info crit = -420.841055\n",
      "[[Variables]]\n",
      "    kaq0:  224.580728 +/- 2.48429386 (1.11%) (init = 10)\n",
      "    Saq0:  2.1316e-04 +/- 7.0488e-05 (33.07%) (init = 0.0001)\n",
      "    Sll0:  1.7482e-06 +/- 5.3118e-04 (30383.82%) (init = 0.0001)\n",
      "    c0:    43.8231417 +/- 3.15115666 (7.19%) (init = 100)\n",
      "[[Correlations]] (unreported correlations are < 0.100)\n",
      "    C(Saq0, Sll0) = -0.994\n",
      "    C(kaq0, c0)   =  0.890\n"
     ]
    }
   ],
   "source": [
    "#unknown parameters: kaq, Saq, c, Sll\n",
    "ca_0 = Calibrate(ml_0)\n",
    "ca_0.set_parameter(name='kaq0', initial=10)\n",
    "ca_0.set_parameter(name='Saq0', initial=1e-4)\n",
    "ca_0.set_parameter_by_reference(name='Sll0', parameter=ml_0.aq.Sll, \\\n",
    "                                initial=1e-4, pmin=0)\n",
    "ca_0.set_parameter(name='c0', initial=100)\n",
    "ca_0.series(name='OW1', x=r1, y=0, t=t1, h=h1, layer=0)\n",
    "ca_0.series(name='OW2', x=r2, y=0, t=t2, h=h2, layer=0)\n",
    "ca_0.series(name='OW3', x=r3, y=0, t=t3, h=h3, layer=0)\n",
    "ca_0.fit(report=True)"
   ]
  },
  {
   "cell_type": "code",
   "execution_count": 6,
   "metadata": {},
   "outputs": [
    {
     "data": {
      "text/html": [
       "<div>\n",
       "<style scoped>\n",
       "    .dataframe tbody tr th:only-of-type {\n",
       "        vertical-align: middle;\n",
       "    }\n",
       "\n",
       "    .dataframe tbody tr th {\n",
       "        vertical-align: top;\n",
       "    }\n",
       "\n",
       "    .dataframe thead th {\n",
       "        text-align: right;\n",
       "    }\n",
       "</style>\n",
       "<table border=\"1\" class=\"dataframe\">\n",
       "  <thead>\n",
       "    <tr style=\"text-align: right;\">\n",
       "      <th></th>\n",
       "      <th>optimal</th>\n",
       "      <th>std</th>\n",
       "      <th>perc_std</th>\n",
       "      <th>pmin</th>\n",
       "      <th>pmax</th>\n",
       "      <th>initial</th>\n",
       "      <th>parray</th>\n",
       "    </tr>\n",
       "  </thead>\n",
       "  <tbody>\n",
       "    <tr>\n",
       "      <td>kaq0</td>\n",
       "      <td>224.581</td>\n",
       "      <td>2.484294</td>\n",
       "      <td>1.10619</td>\n",
       "      <td>-inf</td>\n",
       "      <td>inf</td>\n",
       "      <td>10</td>\n",
       "      <td>[224.58072771909585]</td>\n",
       "    </tr>\n",
       "    <tr>\n",
       "      <td>Saq0</td>\n",
       "      <td>0.000213159</td>\n",
       "      <td>0.000070</td>\n",
       "      <td>33.0681</td>\n",
       "      <td>-inf</td>\n",
       "      <td>inf</td>\n",
       "      <td>0.0001</td>\n",
       "      <td>[0.00021315894214556682]</td>\n",
       "    </tr>\n",
       "    <tr>\n",
       "      <td>Sll0</td>\n",
       "      <td>1.74823e-06</td>\n",
       "      <td>0.000531</td>\n",
       "      <td>30383.8</td>\n",
       "      <td>0.0</td>\n",
       "      <td>inf</td>\n",
       "      <td>0.0001</td>\n",
       "      <td>[1.7482336305274515e-06]</td>\n",
       "    </tr>\n",
       "    <tr>\n",
       "      <td>c0</td>\n",
       "      <td>43.8231</td>\n",
       "      <td>3.151157</td>\n",
       "      <td>7.19062</td>\n",
       "      <td>-inf</td>\n",
       "      <td>inf</td>\n",
       "      <td>100</td>\n",
       "      <td>[43.823141666697225]</td>\n",
       "    </tr>\n",
       "  </tbody>\n",
       "</table>\n",
       "</div>"
      ],
      "text/plain": [
       "          optimal       std perc_std  pmin  pmax initial  \\\n",
       "kaq0      224.581  2.484294  1.10619  -inf   inf      10   \n",
       "Saq0  0.000213159  0.000070  33.0681  -inf   inf  0.0001   \n",
       "Sll0  1.74823e-06  0.000531  30383.8   0.0   inf  0.0001   \n",
       "c0        43.8231  3.151157  7.19062  -inf   inf     100   \n",
       "\n",
       "                        parray  \n",
       "kaq0      [224.58072771909585]  \n",
       "Saq0  [0.00021315894214556682]  \n",
       "Sll0  [1.7482336305274515e-06]  \n",
       "c0        [43.823141666697225]  "
      ]
     },
     "metadata": {},
     "output_type": "display_data"
    },
    {
     "name": "stdout",
     "output_type": "stream",
     "text": [
      "RMSE: 0.06024055063827496\n"
     ]
    }
   ],
   "source": [
    "display(ca_0.parameters)\n",
    "print('RMSE:', ca_0.rmse())"
   ]
  },
  {
   "cell_type": "code",
   "execution_count": 7,
   "metadata": {},
   "outputs": [
    {
     "data": {
      "image/png": "[encoded data removed]",
      "text/plain": [
       "<Figure size 576x360 with 1 Axes>"
      ]
     },
     "metadata": {
      "needs_background": "light"
     },
     "output_type": "display_data"
    }
   ],
   "source": [
    "hm1_0 = ml_0.head(r1, 0, t1)\n",
    "hm2_0 = ml_0.head(r2, 0, t2)\n",
    "hm3_0 = ml_0.head(r3, 0, t3)\n",
    "plt.figure(figsize = (8, 5))\n",
    "plt.semilogx(t1, h1, '.', label = 'OW1')\n",
    "plt.semilogx(t1, hm1_0[0], label = 'ttim OW1')\n",
    "plt.semilogx(t2, h2, '.', label = 'OW2')\n",
    "plt.semilogx(t2, hm2_0[0], label = 'ttim OW2')\n",
    "plt.semilogx(t3, h3, '.', label = 'OW3')\n",
    "plt.semilogx(t3, hm3_0[0], label = 'ttim OW3')\n",
    "plt.xlabel('time(d)')\n",
    "plt.ylabel('head(m)')\n",
    "plt.legend();"
   ]
  },
  {
   "cell_type": "markdown",
   "metadata": {},
   "source": [
    "Since the value of Sll is very close to the minimum limit (zero), Sll is set to 0 and removed from the calibration of the following model."
   ]
  },
  {
   "cell_type": "code",
   "execution_count": 8,
   "metadata": {},
   "outputs": [
    {
     "name": "stdout",
     "output_type": "stream",
     "text": [
      "self.neq  1\n",
      "solution complete\n"
     ]
    }
   ],
   "source": [
    "ml_1 = ModelMaq(kaq=10, z=[0, zt, zb], Saq=0.001, Sll=0, c=10, tmin=0.001, \\\n",
    "                tmax=1, topboundary='semi')\n",
    "w_1 = Well(ml_1, xw=0, yw=0, rw=rw, tsandQ=[(0, Q)], layers=0)\n",
    "ml_1.solve()"
   ]
  },
  {
   "cell_type": "code",
   "execution_count": 9,
   "metadata": {},
   "outputs": [
    {
     "name": "stdout",
     "output_type": "stream",
     "text": [
      "............................................\n",
      "Fit succeeded.\n",
      "[[Fit Statistics]]\n",
      "    # fitting method   = leastsq\n",
      "    # function evals   = 41\n",
      "    # data points      = 78\n",
      "    # variables        = 3\n",
      "    chi-square         = 0.28305319\n",
      "    reduced chi-square = 0.00377404\n",
      "    Akaike info crit   = -432.268684\n",
      "    Bayesian info crit = -425.198558\n",
      "[[Variables]]\n",
      "    kaq0:  224.635209 +/- 2.46690651 (1.10%) (init = 10)\n",
      "    Saq0:  2.1325e-04 +/- 7.5821e-06 (3.56%) (init = 0.0001)\n",
      "    c0:    43.8842130 +/- 3.13582327 (7.15%) (init = 100)\n",
      "[[Correlations]] (unreported correlations are < 0.100)\n",
      "    C(kaq0, c0)   =  0.890\n",
      "    C(kaq0, Saq0) = -0.815\n",
      "    C(Saq0, c0)   = -0.595\n"
     ]
    }
   ],
   "source": [
    "#unknown parameters: kaq, Saq, c\n",
    "ca_1 = Calibrate(ml_1)\n",
    "ca_1.set_parameter(name='kaq0', initial=10)\n",
    "ca_1.set_parameter(name='Saq0', initial=1e-4)\n",
    "ca_1.set_parameter(name='c0', initial=100)\n",
    "ca_1.series(name='OW1', x=r1, y=0, t=t1, h=h1, layer=0)\n",
    "ca_1.series(name='OW2', x=r2, y=0, t=t2, h=h2, layer=0)\n",
    "ca_1.series(name='OW3', x=r3, y=0, t=t3, h=h3, layer=0)\n",
    "ca_1.fit(report=True)"
   ]
  },
  {
   "cell_type": "code",
   "execution_count": 10,
   "metadata": {},
   "outputs": [
    {
     "data": {
      "text/html": [
       "<div>\n",
       "<style scoped>\n",
       "    .dataframe tbody tr th:only-of-type {\n",
       "        vertical-align: middle;\n",
       "    }\n",
       "\n",
       "    .dataframe tbody tr th {\n",
       "        vertical-align: top;\n",
       "    }\n",
       "\n",
       "    .dataframe thead th {\n",
       "        text-align: right;\n",
       "    }\n",
       "</style>\n",
       "<table border=\"1\" class=\"dataframe\">\n",
       "  <thead>\n",
       "    <tr style=\"text-align: right;\">\n",
       "      <th></th>\n",
       "      <th>optimal</th>\n",
       "      <th>std</th>\n",
       "      <th>perc_std</th>\n",
       "      <th>pmin</th>\n",
       "      <th>pmax</th>\n",
       "      <th>initial</th>\n",
       "      <th>parray</th>\n",
       "    </tr>\n",
       "  </thead>\n",
       "  <tbody>\n",
       "    <tr>\n",
       "      <td>kaq0</td>\n",
       "      <td>224.635</td>\n",
       "      <td>2.466907</td>\n",
       "      <td>1.09818</td>\n",
       "      <td>-inf</td>\n",
       "      <td>inf</td>\n",
       "      <td>10</td>\n",
       "      <td>[224.63520868741116]</td>\n",
       "    </tr>\n",
       "    <tr>\n",
       "      <td>Saq0</td>\n",
       "      <td>0.000213248</td>\n",
       "      <td>0.000008</td>\n",
       "      <td>3.55556</td>\n",
       "      <td>-inf</td>\n",
       "      <td>inf</td>\n",
       "      <td>0.0001</td>\n",
       "      <td>[0.0002132479209285246]</td>\n",
       "    </tr>\n",
       "    <tr>\n",
       "      <td>c0</td>\n",
       "      <td>43.8842</td>\n",
       "      <td>3.135823</td>\n",
       "      <td>7.14568</td>\n",
       "      <td>-inf</td>\n",
       "      <td>inf</td>\n",
       "      <td>100</td>\n",
       "      <td>[43.884212958982246]</td>\n",
       "    </tr>\n",
       "  </tbody>\n",
       "</table>\n",
       "</div>"
      ],
      "text/plain": [
       "          optimal       std perc_std  pmin  pmax initial  \\\n",
       "kaq0      224.635  2.466907  1.09818  -inf   inf      10   \n",
       "Saq0  0.000213248  0.000008  3.55556  -inf   inf  0.0001   \n",
       "c0        43.8842  3.135823  7.14568  -inf   inf     100   \n",
       "\n",
       "                       parray  \n",
       "kaq0     [224.63520868741116]  \n",
       "Saq0  [0.0002132479209285246]  \n",
       "c0       [43.884212958982246]  "
      ]
     },
     "metadata": {},
     "output_type": "display_data"
    },
    {
     "name": "stdout",
     "output_type": "stream",
     "text": [
      "RMSE: 0.06024024415946245\n"
     ]
    }
   ],
   "source": [
    "display(ca_1.parameters)\n",
    "print('RMSE:', ca_1.rmse())"
   ]
  },
  {
   "cell_type": "code",
   "execution_count": 11,
   "metadata": {},
   "outputs": [
    {
     "data": {
      "image/png": "[encoded data removed]",
      "text/plain": [
       "<Figure size 576x360 with 1 Axes>"
      ]
     },
     "metadata": {
      "needs_background": "light"
     },
     "output_type": "display_data"
    }
   ],
   "source": [
    "hm1_1 = ml_1.head(r1, 0, t1)\n",
    "hm2_1 = ml_1.head(r2, 0, t2)\n",
    "hm3_1 = ml_1.head(r3, 0, t3)\n",
    "plt.figure(figsize = (8, 5))\n",
    "plt.semilogx(t1, h1, '.', label = 'OW1')\n",
    "plt.semilogx(t1, hm1_1[0], label = 'ttim OW1')\n",
    "plt.semilogx(t2, h2, '.', label = 'OW2')\n",
    "plt.semilogx(t2, hm2_1[0], label = 'ttim OW2')\n",
    "plt.semilogx(t3, h3, '.', label = 'OW3')\n",
    "plt.semilogx(t3, hm3_1[0], label = 'ttim OW3')\n",
    "plt.xlabel('time(d)')\n",
    "plt.ylabel('head(m)')\n",
    "plt.legend();"
   ]
  },
  {
   "cell_type": "markdown",
   "metadata": {},
   "source": [
    "Model with fixed Sll has similar performance with the former model. The second model has an AIC value of -432.269, which is two units lower than that of the former model (-430.268). Thus, Sll should set to zero (default value) and keep removed from the calibration."
   ]
  },
  {
   "cell_type": "markdown",
   "metadata": {},
   "source": [
    "Try adding res & rc:"
   ]
  },
  {
   "cell_type": "code",
   "execution_count": 12,
   "metadata": {},
   "outputs": [
    {
     "name": "stdout",
     "output_type": "stream",
     "text": [
      "self.neq  1\n",
      "solution complete\n"
     ]
    }
   ],
   "source": [
    "ml_2 = ModelMaq(kaq=10, z=[0, zt, zb], Sll=0, Saq=0.001, c=10, tmin=0.001, \\\n",
    "                tmax=1, topboundary='semi')\n",
    "w_2 = Well(ml_2, xw=0, yw=0, rw=rw, res=0, rc=None, tsandQ=[(0, Q)], layers=0)\n",
    "ml_2.solve()"
   ]
  },
  {
   "cell_type": "markdown",
   "metadata": {},
   "source": [
    "Calibrate with three datasets simultaneously:"
   ]
  },
  {
   "cell_type": "markdown",
   "metadata": {},
   "source": [
    "When adding both res and rc into calibration and set the minimum limits as zero, the optimized res value is about 2.8e-08, which means adding res in the conceptual model has little effect on improving the performance. Thus, res is removed from the calibration."
   ]
  },
  {
   "cell_type": "code",
   "execution_count": 13,
   "metadata": {},
   "outputs": [
    {
     "name": "stdout",
     "output_type": "stream",
     "text": [
      "........................................................\n",
      "Fit succeeded.\n",
      "[[Fit Statistics]]\n",
      "    # fitting method   = leastsq\n",
      "    # function evals   = 53\n",
      "    # data points      = 78\n",
      "    # variables        = 4\n",
      "    chi-square         = 0.22837262\n",
      "    reduced chi-square = 0.00308612\n",
      "    Akaike info crit   = -447.011870\n",
      "    Bayesian info crit = -437.585035\n",
      "[[Variables]]\n",
      "    kaq0:  227.477290 +/- 2.38398138 (1.05%) (init = 10)\n",
      "    Saq0:  1.9189e-04 +/- 7.9503e-06 (4.14%) (init = 0.0001)\n",
      "    c0:    45.1694641 +/- 2.92677590 (6.48%) (init = 10)\n",
      "    rc:    0.58831979 +/- 0.06177175 (10.50%) (init = 0)\n",
      "[[Correlations]] (unreported correlations are < 0.100)\n",
      "    C(kaq0, c0)   =  0.885\n",
      "    C(kaq0, Saq0) = -0.799\n",
      "    C(Saq0, rc)   = -0.619\n",
      "    C(Saq0, c0)   = -0.552\n",
      "    C(kaq0, rc)   =  0.321\n",
      "    C(c0, rc)     =  0.143\n"
     ]
    }
   ],
   "source": [
    "#unknown parameters: kaq, Saq, c, rc\n",
    "ca_2 = Calibrate(ml_2)\n",
    "ca_2.set_parameter(name='kaq0', initial=10)\n",
    "ca_2.set_parameter(name='Saq0', initial=1e-4)\n",
    "ca_2.set_parameter(name='c0', initial=10)\n",
    "ca_2.set_parameter_by_reference(name='rc', parameter=w_2.rc, initial=0)\n",
    "ca_2.series(name='OW1', x=r1, y=0, t=t1, h=h1, layer=0)\n",
    "ca_2.series(name='OW2', x=r2, y=0, t=t2, h=h2, layer=0)\n",
    "ca_2.series(name='OW3', x=r3, y=0, t=t3, h=h3, layer=0)\n",
    "ca_2.fit(report=True)"
   ]
  },
  {
   "cell_type": "code",
   "execution_count": 14,
   "metadata": {},
   "outputs": [
    {
     "data": {
      "text/html": [
       "<div>\n",
       "<style scoped>\n",
       "    .dataframe tbody tr th:only-of-type {\n",
       "        vertical-align: middle;\n",
       "    }\n",
       "\n",
       "    .dataframe tbody tr th {\n",
       "        vertical-align: top;\n",
       "    }\n",
       "\n",
       "    .dataframe thead th {\n",
       "        text-align: right;\n",
       "    }\n",
       "</style>\n",
       "<table border=\"1\" class=\"dataframe\">\n",
       "  <thead>\n",
       "    <tr style=\"text-align: right;\">\n",
       "      <th></th>\n",
       "      <th>optimal</th>\n",
       "      <th>std</th>\n",
       "      <th>perc_std</th>\n",
       "      <th>pmin</th>\n",
       "      <th>pmax</th>\n",
       "      <th>initial</th>\n",
       "      <th>parray</th>\n",
       "    </tr>\n",
       "  </thead>\n",
       "  <tbody>\n",
       "    <tr>\n",
       "      <td>kaq0</td>\n",
       "      <td>227.477</td>\n",
       "      <td>2.383981</td>\n",
       "      <td>1.04801</td>\n",
       "      <td>-inf</td>\n",
       "      <td>inf</td>\n",
       "      <td>10</td>\n",
       "      <td>[227.4772896898763]</td>\n",
       "    </tr>\n",
       "    <tr>\n",
       "      <td>Saq0</td>\n",
       "      <td>0.000191893</td>\n",
       "      <td>0.000008</td>\n",
       "      <td>4.14307</td>\n",
       "      <td>-inf</td>\n",
       "      <td>inf</td>\n",
       "      <td>0.0001</td>\n",
       "      <td>[0.00019189341127877495]</td>\n",
       "    </tr>\n",
       "    <tr>\n",
       "      <td>c0</td>\n",
       "      <td>45.1695</td>\n",
       "      <td>2.926776</td>\n",
       "      <td>6.47955</td>\n",
       "      <td>-inf</td>\n",
       "      <td>inf</td>\n",
       "      <td>10</td>\n",
       "      <td>[45.16946409782755]</td>\n",
       "    </tr>\n",
       "    <tr>\n",
       "      <td>rc</td>\n",
       "      <td>0.58832</td>\n",
       "      <td>0.061772</td>\n",
       "      <td>10.4997</td>\n",
       "      <td>-inf</td>\n",
       "      <td>inf</td>\n",
       "      <td>0</td>\n",
       "      <td>[0.5883197891848962]</td>\n",
       "    </tr>\n",
       "  </tbody>\n",
       "</table>\n",
       "</div>"
      ],
      "text/plain": [
       "          optimal       std perc_std  pmin  pmax initial  \\\n",
       "kaq0      227.477  2.383981  1.04801  -inf   inf      10   \n",
       "Saq0  0.000191893  0.000008  4.14307  -inf   inf  0.0001   \n",
       "c0        45.1695  2.926776  6.47955  -inf   inf      10   \n",
       "rc        0.58832  0.061772  10.4997  -inf   inf       0   \n",
       "\n",
       "                        parray  \n",
       "kaq0       [227.4772896898763]  \n",
       "Saq0  [0.00019189341127877495]  \n",
       "c0         [45.16946409782755]  \n",
       "rc        [0.5883197891848962]  "
      ]
     },
     "metadata": {},
     "output_type": "display_data"
    },
    {
     "name": "stdout",
     "output_type": "stream",
     "text": [
      "RMSE: 0.05410964893943807\n"
     ]
    }
   ],
   "source": [
    "display(ca_2.parameters)\n",
    "print('RMSE:', ca_2.rmse())"
   ]
  },
  {
   "cell_type": "code",
   "execution_count": 15,
   "metadata": {},
   "outputs": [
    {
     "data": {
      "image/png": "[encoded data removed]",
      "text/plain": [
       "<Figure size 576x360 with 1 Axes>"
      ]
     },
     "metadata": {
      "needs_background": "light"
     },
     "output_type": "display_data"
    }
   ],
   "source": [
    "hm1_2 = ml_2.head(r1, 0, t1)\n",
    "hm2_2 = ml_2.head(r2, 0, t2)\n",
    "hm3_2 = ml_2.head(r3, 0, t3)\n",
    "plt.figure(figsize = (8, 5))\n",
    "plt.semilogx(t1, h1, '.', label='OW1')\n",
    "plt.semilogx(t1, hm1_2[0], label='ttim OW1')\n",
    "plt.semilogx(t2, h2, '.', label='OW2')\n",
    "plt.semilogx(t2, hm2_2[0], label='ttim OW2')\n",
    "plt.semilogx(t3, h3, '.', label='OW3')\n",
    "plt.semilogx(t3, hm3_2[0], label='ttim OW3')\n",
    "plt.xlabel('time(d)')\n",
    "plt.ylabel('head(m)')\n",
    "plt.legend();"
   ]
  },
  {
   "cell_type": "markdown",
   "metadata": {},
   "source": [
    "## Summary of values simulated by AQTESOLV"
   ]
  },
  {
   "cell_type": "code",
   "execution_count": 16,
   "metadata": {},
   "outputs": [
    {
     "data": {
      "text/html": [
       "<div>\n",
       "<style scoped>\n",
       "    .dataframe tbody tr th:only-of-type {\n",
       "        vertical-align: middle;\n",
       "    }\n",
       "\n",
       "    .dataframe tbody tr th {\n",
       "        vertical-align: top;\n",
       "    }\n",
       "\n",
       "    .dataframe thead th {\n",
       "        text-align: right;\n",
       "    }\n",
       "</style>\n",
       "<table border=\"1\" class=\"dataframe\">\n",
       "  <thead>\n",
       "    <tr style=\"text-align: right;\">\n",
       "      <th></th>\n",
       "      <th>k [m/d]</th>\n",
       "      <th>Ss [1/m]</th>\n",
       "      <th>c [d]</th>\n",
       "      <th>rc</th>\n",
       "      <th>RMSE</th>\n",
       "    </tr>\n",
       "  </thead>\n",
       "  <tbody>\n",
       "    <tr>\n",
       "      <td>AQTESOLV</td>\n",
       "      <td>224.726</td>\n",
       "      <td>0.0002125</td>\n",
       "      <td>43.964</td>\n",
       "      <td>-</td>\n",
       "      <td>0.059627</td>\n",
       "    </tr>\n",
       "    <tr>\n",
       "      <td>ttim</td>\n",
       "      <td>224.635</td>\n",
       "      <td>0.000213248</td>\n",
       "      <td>43.8842</td>\n",
       "      <td>-</td>\n",
       "      <td>0.060240</td>\n",
       "    </tr>\n",
       "    <tr>\n",
       "      <td>ttim-rc</td>\n",
       "      <td>227.477</td>\n",
       "      <td>0.000191893</td>\n",
       "      <td>45.1695</td>\n",
       "      <td>0.58832</td>\n",
       "      <td>0.054110</td>\n",
       "    </tr>\n",
       "  </tbody>\n",
       "</table>\n",
       "</div>"
      ],
      "text/plain": [
       "          k [m/d]     Ss [1/m]    c [d]       rc      RMSE\n",
       "AQTESOLV  224.726    0.0002125   43.964        -  0.059627\n",
       "ttim      224.635  0.000213248  43.8842        -  0.060240\n",
       "ttim-rc   227.477  0.000191893  45.1695  0.58832  0.054110"
      ]
     },
     "execution_count": 16,
     "metadata": {},
     "output_type": "execute_result"
    }
   ],
   "source": [
    "t = pd.DataFrame(columns=['k [m/d]', 'Ss [1/m]', 'c [d]', 'rc'], \\\n",
    "                index=['AQTESOLV', 'ttim', 'ttim-rc'])\n",
    "t.loc['AQTESOLV'] = [224.726, 2.125e-4, 43.964, '-']\n",
    "t.loc['ttim'] = np.append(ca_1.parameters['optimal'].values, '-')\n",
    "t.loc['ttim-rc'] = ca_2.parameters['optimal'].values\n",
    "t['RMSE'] = [0.059627, ca_1.rmse(), ca_2.rmse()]\n",
    "t"
   ]
  },
  {
   "cell_type": "code",
   "execution_count": null,
   "metadata": {},
   "outputs": [],
   "source": []
  }
 ],
 "metadata": {
  "kernelspec": {
   "display_name": "Python 3",
   "language": "python",
   "name": "python3"
  },
  "language_info": {
   "codemirror_mode": {
    "name": "ipython",
    "version": 3
   },
   "file_extension": ".py",
   "mimetype": "text/x-python",
   "name": "python",
   "nbconvert_exporter": "python",
   "pygments_lexer": "ipython3",
   "version": "3.7.4"
  }
 },
 "nbformat": 4,
 "nbformat_minor": 2
}
