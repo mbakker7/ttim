{
 "cells": [
  {
   "cell_type": "markdown",
   "metadata": {},
   "source": [
    "# 2. Leaky Aquifer Recovery Test - Hardixveld Example\n",
    "**This test is taken from MLU examples.**"
   ]
  },
  {
   "cell_type": "markdown",
   "metadata": {
    "tags": []
   },
   "source": [
    "## Introduction and Conceptual Model\n",
    "\n",
    "This test was taken in Hardinxveld-Giessendam, Netherlands, in 1981 to quantify the head-loss at each pumping well by clogging and to assess the transmissivity variation in the area.\n",
    "\n",
    "The hydrogeological conceptualization can be described as the following:\n",
    "* The first ten meters depth is an aquitard\n",
    "* Followed by the first aquifer from 10 to 37 m depth, this is also the test aquifer.\n",
    "* A new aquitard is present from 37 m depth to 68 m depth\n",
    "* A final aquifer is from 68 to 88 m depth.\n",
    "* Below 88 m depth the formations are considered an aquiclude\n",
    "\n",
    "Five pumping wells are screened in the first aquifer. The drawdown of one of them is available in the MLU documentation (Carlson & Randall, 2012).\n",
    "The provided pumping well was operated for 20 minutes at 1848 m3/d. Drawdown was recorded for a total of 50 minutes during and after pumping. The radius of the pumped well is 0.155 m.\n",
    "\n",
    "In this notebook, we reproduce the work of Xinzhu (2020) and demonstrate the use of TTim to fit a recovery test and quantify the skin resistance in the well and the hydraulic parameters of the aquifer.\n",
    "\n",
    "The following figure summarises the hydrogeological conceptual model."
   ]
  },
  {
   "cell_type": "code",
   "execution_count": 1,
   "metadata": {
    "jupyter": {
     "source_hidden": true
    },
    "tags": []
   },
   "outputs": [
    {
     "data": {
      "image/png": "[encoded data removed]",
      "text/plain": [
       "<Figure size 1008x648 with 1 Axes>"
      ]
     },
     "metadata": {
      "needs_background": "light"
     },
     "output_type": "display_data"
    }
   ],
   "source": [
    "import matplotlib.pyplot as plt\n",
    "import numpy as np\n",
    "\n",
    "##Now printing the conceptual model figure:\n",
    "\n",
    "fig = plt.figure(figsize=(14, 9))\n",
    "ax = fig.add_subplot(1,1,1)\n",
    "#sky\n",
    "sky = plt.Rectangle((-20,0), width = 50, height = 20, fc = 'b', zorder=0, alpha=0.1)\n",
    "ax.add_patch(sky)\n",
    "\n",
    "#Aquifer:\n",
    "ground = plt.Rectangle((-20,-37), width = 50, height = 27, fc = np.array([209,179,127])/255, zorder=0, alpha=0.9)\n",
    "ax.add_patch(ground)\n",
    "\n",
    "#Aquifer 2:\n",
    "ground2 = plt.Rectangle((-20,-88), width = 50, height = 20, fc = np.array([209,179,127])/255, zorder=0, alpha=0.9)\n",
    "ax.add_patch(ground2)\n",
    "\n",
    "#Confining bed:\n",
    "confining_unit = plt.Rectangle((-20,-10), width = 50, height = 10, fc = np.array([100,100,100])/255, zorder=0, alpha=0.7)\n",
    "ax.add_patch(confining_unit)\n",
    "\n",
    "confining_unit2 = plt.Rectangle((-20,-68), width = 50, height = 31, fc = np.array([100,100,100])/255, zorder=0, alpha=0.7)\n",
    "ax.add_patch(confining_unit2)\n",
    "\n",
    "well = plt.Rectangle((-1.5,-37), width = 3, height = 37, fc = np.array([200,200,200])/255, zorder=1)\n",
    "ax.add_patch(well)\n",
    "\n",
    "#Wellhead\n",
    "wellhead = plt.Rectangle((-2,0),width = 4, height = 10, fc = np.array([200,200,200])/255, zorder=2, ec='k')\n",
    "ax.add_patch(wellhead)\n",
    "\n",
    "#Screen for the well:\n",
    "screen = plt.Rectangle((-1.5,-37), width = 3, height = 27, fc = np.array([200,200,200])/255, alpha=1, zorder = 2, ec = \"k\", ls = '--')\n",
    "screen.set_linewidth(2)\n",
    "ax.add_patch(screen)\n",
    "pumping_arrow = plt.Arrow(x = 2,y = 7, dx = 5, dy = 0, color = \"#00035b\")\n",
    "ax.add_patch(pumping_arrow)\n",
    "ax.text(x = 7, y = 7, s = r'$ Q = 1848 \\frac{m^3}{d}$', fontsize = 'large' )\n",
    "\n",
    "#last line\n",
    "line = plt.Line2D(xdata= [-200,1200], ydata = [0,0], color = \"k\")\n",
    "ax.add_line(line)\n",
    "\n",
    "\n",
    "ax.set_xlim([-20,30])\n",
    "ax.set_ylim([-88,20])\n",
    "ax.set_xlabel('Distance [m]')\n",
    "ax.set_ylabel('Relative height [m]')\n",
    "ax.set_title('Conceptual Model - Hardixveld Example');"
   ]
  },
  {
   "cell_type": "markdown",
   "metadata": {},
   "source": [
    "## Step 1. Import required libraries"
   ]
  },
  {
   "cell_type": "code",
   "execution_count": 2,
   "metadata": {},
   "outputs": [],
   "source": [
    "import numpy as np\n",
    "import matplotlib.pyplot as plt\n",
    "from ttim import *\n",
    "import pandas as pd"
   ]
  },
  {
   "cell_type": "markdown",
   "metadata": {},
   "source": [
    "## Step 2. Set basic parameters for the model"
   ]
  },
  {
   "cell_type": "code",
   "execution_count": 3,
   "metadata": {},
   "outputs": [],
   "source": [
    "H = 27 #aquifer thickness [m]\n",
    "zt = -10 #upper boundary of aquifer\n",
    "zb = zt - H #lower boundary of the aquifer\n",
    "rw = 0.155 #well screen radius [m]\n",
    "Q = 1848 #constant discharge rate [m^3/d]\n",
    "t0 =  0.013889 #time stop pumping [d]"
   ]
  },
  {
   "cell_type": "markdown",
   "metadata": {},
   "source": [
    "## Step 3. Load data for the recovery test"
   ]
  },
  {
   "cell_type": "markdown",
   "metadata": {},
   "source": [
    "Data is saved in a text file where the first column is the time data in days and in the second is the drawdown in m"
   ]
  },
  {
   "cell_type": "code",
   "execution_count": 4,
   "metadata": {},
   "outputs": [],
   "source": [
    "data = np.loadtxt('data/recovery.txt', skiprows=1)\n",
    "t = data[:, 0]\n",
    "h = data[:, 1]"
   ]
  },
  {
   "cell_type": "markdown",
   "metadata": {},
   "source": [
    "## Step 4. Create the first conceptual model\n",
    "\n",
    "Here we create a two aquifer leaky model in ModelMaq, so we have to define the top of the first aquitard layer, followed by the tops and bottoms of the aquifer layers. Here we ignore storage (```Sll```) of the aquitard layers.\n",
    "\n",
    "The well is defined with skin resistance (```res```) and the pumping schedule with the start and shutdown of the pump.\n",
    "\n",
    "More details on model construction and theory can be seen in:\n",
    "\n",
    "- [Confined 1 - Oude Korendijk](confined1_oude_korendijk)\n",
    "- [Confined 4 - Schroth](confined4_schroth.ipynb)\n",
    "- [Leaky 1 - Dalem](leaky1_dalem.ipynb)"
   ]
  },
  {
   "cell_type": "code",
   "execution_count": 5,
   "metadata": {},
   "outputs": [
    {
     "name": "stdout",
     "output_type": "stream",
     "text": [
      "self.neq  1\n",
      "solution complete\n"
     ]
    }
   ],
   "source": [
    "ml1 = ModelMaq(kaq=[50, 40], z=[0, zt, zb, -68, -88], c=[1000, 1000], Saq=[1e-4, 5e-5],\\\n",
    "              topboundary='semi', tmin=1e-4, tmax=0.04)\n",
    "w1 = Well(ml1, xw=0, yw=0, rw=rw, res=1, tsandQ=[(0, Q), (t0, 0)], layers=0)\n",
    "ml1.solve()"
   ]
  },
  {
   "cell_type": "markdown",
   "metadata": {},
   "source": [
    "## Step 5. Calibration"
   ]
  },
  {
   "cell_type": "markdown",
   "metadata": {},
   "source": [
    "The parameters to be calibrated are the hydraulic conductivity and specific storage of the first layer, and the skin resistance of the well. The parameters of the aquitards and the second aquifer are kept fixed.\n",
    "\n",
    "More details on the calibration procedure and theory can be seen in:\n",
    "\n",
    "- [Confined 1 - Oude Korendijk](confined1_oude_korendijk)"
   ]
  },
  {
   "cell_type": "code",
   "execution_count": 6,
   "metadata": {},
   "outputs": [
    {
     "name": "stdout",
     "output_type": "stream",
     "text": [
      "..............................................................................................................................................................................................................................................................................................................................................\n",
      "Fit succeeded.\n",
      "[[Fit Statistics]]\n",
      "    # fitting method   = leastsq\n",
      "    # function evals   = 331\n",
      "    # data points      = 35\n",
      "    # variables        = 3\n",
      "    chi-square         = 0.00106334\n",
      "    reduced chi-square = 3.3229e-05\n",
      "    Akaike info crit   = -358.059006\n",
      "    Bayesian info crit = -353.392962\n",
      "[[Variables]]\n",
      "    kaq0:  44.5287657 +/- 0.66007100 (1.48%) (init = 50)\n",
      "    Saq0:  6.3907e-06 +/- 9.5299e-07 (14.91%) (init = 0.0001)\n",
      "    res:   0.01620452 +/- 5.7491e-04 (3.55%) (init = 1)\n",
      "[[Correlations]] (unreported correlations are < 0.100)\n",
      "    C(kaq0, res)  =  0.977\n",
      "    C(Saq0, res)  =  0.950\n",
      "    C(kaq0, Saq0) =  0.864\n"
     ]
    }
   ],
   "source": [
    "ca1 = Calibrate(ml1)\n",
    "ca1.set_parameter(name='kaq0', initial=50, pmin=0)\n",
    "ca1.set_parameter(name='Saq0', initial=1e-4, pmin=0)\n",
    "ca1.set_parameter_by_reference(name='res', parameter=w1.res[:], initial=1, pmin=0)\n",
    "ca1.seriesinwell(name='obs', element=w1, t=t, h=h)\n",
    "ca1.fit()"
   ]
  },
  {
   "cell_type": "code",
   "execution_count": 7,
   "metadata": {},
   "outputs": [
    {
     "data": {
      "text/html": [
       "<div>\n",
       "<style scoped>\n",
       "    .dataframe tbody tr th:only-of-type {\n",
       "        vertical-align: middle;\n",
       "    }\n",
       "\n",
       "    .dataframe tbody tr th {\n",
       "        vertical-align: top;\n",
       "    }\n",
       "\n",
       "    .dataframe thead th {\n",
       "        text-align: right;\n",
       "    }\n",
       "</style>\n",
       "<table border=\"1\" class=\"dataframe\">\n",
       "  <thead>\n",
       "    <tr style=\"text-align: right;\">\n",
       "      <th></th>\n",
       "      <th>optimal</th>\n",
       "      <th>std</th>\n",
       "      <th>perc_std</th>\n",
       "      <th>pmin</th>\n",
       "      <th>pmax</th>\n",
       "      <th>initial</th>\n",
       "      <th>parray</th>\n",
       "    </tr>\n",
       "  </thead>\n",
       "  <tbody>\n",
       "    <tr>\n",
       "      <th>kaq0</th>\n",
       "      <td>44.528766</td>\n",
       "      <td>6.600710e-01</td>\n",
       "      <td>1.482347</td>\n",
       "      <td>0</td>\n",
       "      <td>inf</td>\n",
       "      <td>50</td>\n",
       "      <td>[44.52876567003543]</td>\n",
       "    </tr>\n",
       "    <tr>\n",
       "      <th>Saq0</th>\n",
       "      <td>0.000006</td>\n",
       "      <td>9.529879e-07</td>\n",
       "      <td>14.912182</td>\n",
       "      <td>0</td>\n",
       "      <td>inf</td>\n",
       "      <td>0.0001</td>\n",
       "      <td>[6.3906674174774025e-06]</td>\n",
       "    </tr>\n",
       "    <tr>\n",
       "      <th>res</th>\n",
       "      <td>0.016205</td>\n",
       "      <td>5.749070e-04</td>\n",
       "      <td>3.547818</td>\n",
       "      <td>0</td>\n",
       "      <td>inf</td>\n",
       "      <td>1</td>\n",
       "      <td>[0.016204524089252326]</td>\n",
       "    </tr>\n",
       "  </tbody>\n",
       "</table>\n",
       "</div>"
      ],
      "text/plain": [
       "        optimal           std   perc_std pmin  pmax initial  \\\n",
       "kaq0  44.528766  6.600710e-01   1.482347    0   inf      50   \n",
       "Saq0   0.000006  9.529879e-07  14.912182    0   inf  0.0001   \n",
       "res    0.016205  5.749070e-04   3.547818    0   inf       1   \n",
       "\n",
       "                        parray  \n",
       "kaq0       [44.52876567003543]  \n",
       "Saq0  [6.3906674174774025e-06]  \n",
       "res     [0.016204524089252326]  "
      ]
     },
     "metadata": {},
     "output_type": "display_data"
    },
    {
     "name": "stdout",
     "output_type": "stream",
     "text": [
      "RMSE: 0.005511916215804842\n"
     ]
    }
   ],
   "source": [
    "display(ca1.parameters)\n",
    "print('RMSE:', ca1.rmse())"
   ]
  },
  {
   "cell_type": "code",
   "execution_count": 8,
   "metadata": {},
   "outputs": [
    {
     "data": {
      "image/png": "[encoded data removed]",
      "text/plain": [
       "<Figure size 576x360 with 1 Axes>"
      ]
     },
     "metadata": {
      "needs_background": "light"
     },
     "output_type": "display_data"
    }
   ],
   "source": [
    "hm1 = w1.headinside(t)\n",
    "plt.figure(figsize=(8, 5))\n",
    "plt.loglog(t, -h, '.', label='obs - pumping well')\n",
    "plt.loglog(t, -hm1[0], label='ttim results')\n",
    "plt.xlabel('time [d]')\n",
    "plt.ylabel('head [m]')\n",
    "plt.legend()\n",
    "plt.title(\"Model Results - Model 1\");"
   ]
  },
  {
   "cell_type": "markdown",
   "metadata": {},
   "source": [
    "Overall a good fit has been observed. We will test the results with wellbore storage"
   ]
  },
  {
   "cell_type": "markdown",
   "metadata": {},
   "source": [
    "## Step 6. Alternative model with wellbore storage"
   ]
  },
  {
   "cell_type": "markdown",
   "metadata": {},
   "source": [
    "Additionally to the parameters in the previous model, we add the ```rc``` parameter in the well. It is the radius of the caisson of the well, and TTim uses it to calculate the water storage in the well"
   ]
  },
  {
   "cell_type": "code",
   "execution_count": 9,
   "metadata": {},
   "outputs": [
    {
     "name": "stdout",
     "output_type": "stream",
     "text": [
      "self.neq  1\n",
      "solution complete\n"
     ]
    }
   ],
   "source": [
    "ml2 = ModelMaq(kaq=[50, 40], z=[0, zt, zb, -68, -88], c=[1000, 1000], Saq=[1e-4, 5e-5],\\\n",
    "              topboundary='semi', tmin=1e-4, tmax=0.04)\n",
    "w2 = Well(ml2, xw=0, yw=0, rw=rw, rc=0.155, res=1, tsandQ=[(0, Q), (t0, 0)], layers=0)\n",
    "ml2.solve()"
   ]
  },
  {
   "cell_type": "markdown",
   "metadata": {},
   "source": [
    "## Step 7. Calibrate the alternative model"
   ]
  },
  {
   "cell_type": "markdown",
   "metadata": {},
   "source": [
    "Additionally, we also calibrate the rc parameter in the well:"
   ]
  },
  {
   "cell_type": "code",
   "execution_count": 10,
   "metadata": {},
   "outputs": [
    {
     "name": "stdout",
     "output_type": "stream",
     "text": [
      "................................................................................................................................................................................................................................................................................................................................................................................................................................................................................................................................................................................................\n",
      "Fit succeeded.\n",
      "[[Fit Statistics]]\n",
      "    # fitting method   = leastsq\n",
      "    # function evals   = 573\n",
      "    # data points      = 35\n",
      "    # variables        = 4\n",
      "    chi-square         = 0.00106334\n",
      "    reduced chi-square = 3.4301e-05\n",
      "    Akaike info crit   = -356.058972\n",
      "    Bayesian info crit = -349.837580\n",
      "[[Variables]]\n",
      "    kaq0:  44.5322775 +/- 0.99969014 (2.24%) (init = 50)\n",
      "    Saq0:  6.3928e-06 +/- 1.0629e-06 (16.63%) (init = 0.0001)\n",
      "    rc:    0.00458531 +/- 0.45478829 (9918.37%) (init = 0.1)\n",
      "    res:   0.01620699 +/- 7.8457e-04 (4.84%) (init = 1)\n",
      "[[Correlations]] (unreported correlations are < 0.100)\n",
      "    C(kaq0, res)  =  0.982\n",
      "    C(Saq0, res)  =  0.902\n",
      "    C(kaq0, Saq0) =  0.806\n",
      "    C(kaq0, rc)   =  0.743\n",
      "    C(rc, res)    =  0.664\n",
      "    C(Saq0, rc)   =  0.359\n"
     ]
    }
   ],
   "source": [
    "ca2 = Calibrate(ml2)\n",
    "ca2.set_parameter(name='kaq0', initial=50, pmin=0)\n",
    "ca2.set_parameter(name='Saq0', initial=1e-4, pmin=0)\n",
    "ca2.set_parameter_by_reference(name='rc', parameter=w2.rc[:], initial=0.1, pmin=0)\n",
    "ca2.set_parameter_by_reference(name='res', parameter=w2.res[:], initial=1, pmin=0)\n",
    "ca2.seriesinwell(name='obs', element=w2, t=t, h=h)\n",
    "ca2.fit()"
   ]
  },
  {
   "cell_type": "code",
   "execution_count": 11,
   "metadata": {},
   "outputs": [
    {
     "data": {
      "text/html": [
       "<div>\n",
       "<style scoped>\n",
       "    .dataframe tbody tr th:only-of-type {\n",
       "        vertical-align: middle;\n",
       "    }\n",
       "\n",
       "    .dataframe tbody tr th {\n",
       "        vertical-align: top;\n",
       "    }\n",
       "\n",
       "    .dataframe thead th {\n",
       "        text-align: right;\n",
       "    }\n",
       "</style>\n",
       "<table border=\"1\" class=\"dataframe\">\n",
       "  <thead>\n",
       "    <tr style=\"text-align: right;\">\n",
       "      <th></th>\n",
       "      <th>optimal</th>\n",
       "      <th>std</th>\n",
       "      <th>perc_std</th>\n",
       "      <th>pmin</th>\n",
       "      <th>pmax</th>\n",
       "      <th>initial</th>\n",
       "      <th>parray</th>\n",
       "    </tr>\n",
       "  </thead>\n",
       "  <tbody>\n",
       "    <tr>\n",
       "      <th>kaq0</th>\n",
       "      <td>44.532277</td>\n",
       "      <td>0.999690</td>\n",
       "      <td>2.244866</td>\n",
       "      <td>0</td>\n",
       "      <td>inf</td>\n",
       "      <td>50</td>\n",
       "      <td>[44.5322774989901]</td>\n",
       "    </tr>\n",
       "    <tr>\n",
       "      <th>Saq0</th>\n",
       "      <td>0.000006</td>\n",
       "      <td>0.000001</td>\n",
       "      <td>16.625756</td>\n",
       "      <td>0</td>\n",
       "      <td>inf</td>\n",
       "      <td>0.0001</td>\n",
       "      <td>[6.392843512337265e-06]</td>\n",
       "    </tr>\n",
       "    <tr>\n",
       "      <th>rc</th>\n",
       "      <td>0.004585</td>\n",
       "      <td>0.454788</td>\n",
       "      <td>9918.367332</td>\n",
       "      <td>0</td>\n",
       "      <td>inf</td>\n",
       "      <td>0.1</td>\n",
       "      <td>[0.0045853140190308395]</td>\n",
       "    </tr>\n",
       "    <tr>\n",
       "      <th>res</th>\n",
       "      <td>0.016207</td>\n",
       "      <td>0.000785</td>\n",
       "      <td>4.840922</td>\n",
       "      <td>0</td>\n",
       "      <td>inf</td>\n",
       "      <td>1</td>\n",
       "      <td>[0.016206990038743596]</td>\n",
       "    </tr>\n",
       "  </tbody>\n",
       "</table>\n",
       "</div>"
      ],
      "text/plain": [
       "        optimal       std     perc_std pmin  pmax initial  \\\n",
       "kaq0  44.532277  0.999690     2.244866    0   inf      50   \n",
       "Saq0   0.000006  0.000001    16.625756    0   inf  0.0001   \n",
       "rc     0.004585  0.454788  9918.367332    0   inf     0.1   \n",
       "res    0.016207  0.000785     4.840922    0   inf       1   \n",
       "\n",
       "                       parray  \n",
       "kaq0       [44.5322774989901]  \n",
       "Saq0  [6.392843512337265e-06]  \n",
       "rc    [0.0045853140190308395]  \n",
       "res    [0.016206990038743596]  "
      ]
     },
     "metadata": {},
     "output_type": "display_data"
    },
    {
     "name": "stdout",
     "output_type": "stream",
     "text": [
      "RMSE: 0.005511918881910666\n"
     ]
    }
   ],
   "source": [
    "display(ca2.parameters)\n",
    "print('RMSE:', ca2.rmse())"
   ]
  },
  {
   "cell_type": "code",
   "execution_count": 12,
   "metadata": {},
   "outputs": [
    {
     "data": {
      "image/png": "[encoded data removed]",
      "text/plain": [
       "<Figure size 576x360 with 1 Axes>"
      ]
     },
     "metadata": {
      "needs_background": "light"
     },
     "output_type": "display_data"
    }
   ],
   "source": [
    "hm2 = w2.headinside(t)\n",
    "plt.figure(figsize=(8, 5))\n",
    "plt.loglog(t, -h, '.', label='obs - pumping well')\n",
    "plt.loglog(t, -hm2[0], label='ttim model results')\n",
    "plt.xlabel('time [d]')\n",
    "plt.ylabel('head [m]')\n",
    "plt.legend()\n",
    "plt.title(\"Model Results - Model 2\");"
   ]
  },
  {
   "cell_type": "markdown",
   "metadata": {},
   "source": [
    "Simulation with rc has slightly worse performance. The Akaike and Bayes criteria are somewhat worse than with the previous model."
   ]
  },
  {
   "cell_type": "markdown",
   "metadata": {},
   "source": [
    "## Step 8. Testing single layer model"
   ]
  },
  {
   "cell_type": "markdown",
   "metadata": {},
   "source": [
    "In this final model, we will test the assumption that we can ignore the underlying aquifer. Thus, we only worry about the upper aquifer, where water is pumped.\n",
    "\n",
    "Therefore the last model is a single layer semi-confined aquifer that only includes the top aquitard and the first aquifer. In the well, we are not considering the ```rc``` parameter."
   ]
  },
  {
   "cell_type": "code",
   "execution_count": 13,
   "metadata": {},
   "outputs": [
    {
     "name": "stdout",
     "output_type": "stream",
     "text": [
      "self.neq  1\n",
      "solution complete\n"
     ]
    }
   ],
   "source": [
    "ml0 = ModelMaq(kaq=50, z=[0, zt, zb], c=1000, Saq=1e-4, topboundary='semi', \\\n",
    "              tmin=1e-4, tmax=0.04)\n",
    "w0 = Well(ml0, xw=0, yw=0, rw=rw, res=1, tsandQ=[(0, Q), (t0, 0)], layers=0)\n",
    "ml0.solve()"
   ]
  },
  {
   "cell_type": "markdown",
   "metadata": {},
   "source": [
    "### Step 8.1. Calibration\n",
    "\n",
    "In the calibration we repeat the procedure for model 1."
   ]
  },
  {
   "cell_type": "code",
   "execution_count": 14,
   "metadata": {},
   "outputs": [
    {
     "name": "stdout",
     "output_type": "stream",
     "text": [
      "......................................................................................................................................................................................................................................................................................................................\n",
      "Fit succeeded.\n",
      "[[Fit Statistics]]\n",
      "    # fitting method   = leastsq\n",
      "    # function evals   = 307\n",
      "    # data points      = 35\n",
      "    # variables        = 3\n",
      "    chi-square         = 0.00106438\n",
      "    reduced chi-square = 3.3262e-05\n",
      "    Akaike info crit   = -358.024761\n",
      "    Bayesian info crit = -353.358717\n",
      "[[Variables]]\n",
      "    kaq0:  44.5516140 +/- 0.65533645 (1.47%) (init = 50)\n",
      "    Saq0:  3.2314e-06 +/- 4.9282e-07 (15.25%) (init = 0.0001)\n",
      "    res:   0.01502951 +/- 5.9465e-04 (3.96%) (init = 1)\n",
      "[[Correlations]] (unreported correlations are < 0.100)\n",
      "    C(kaq0, res)  =  0.977\n",
      "    C(Saq0, res)  =  0.948\n",
      "    C(kaq0, Saq0) =  0.861\n"
     ]
    }
   ],
   "source": [
    "ca0 = Calibrate(ml0)\n",
    "ca0.set_parameter(name='kaq0', initial=50, pmin=0)\n",
    "ca0.set_parameter(name='Saq0', initial=1e-4, pmin=0)\n",
    "ca0.set_parameter_by_reference(name='res', parameter=w0.res[:], initial=1)\n",
    "ca0.seriesinwell(name='obs', element=w0, t=t, h=h)\n",
    "ca0.fit()"
   ]
  },
  {
   "cell_type": "code",
   "execution_count": 15,
   "metadata": {},
   "outputs": [
    {
     "data": {
      "text/html": [
       "<div>\n",
       "<style scoped>\n",
       "    .dataframe tbody tr th:only-of-type {\n",
       "        vertical-align: middle;\n",
       "    }\n",
       "\n",
       "    .dataframe tbody tr th {\n",
       "        vertical-align: top;\n",
       "    }\n",
       "\n",
       "    .dataframe thead th {\n",
       "        text-align: right;\n",
       "    }\n",
       "</style>\n",
       "<table border=\"1\" class=\"dataframe\">\n",
       "  <thead>\n",
       "    <tr style=\"text-align: right;\">\n",
       "      <th></th>\n",
       "      <th>optimal</th>\n",
       "      <th>std</th>\n",
       "      <th>perc_std</th>\n",
       "      <th>pmin</th>\n",
       "      <th>pmax</th>\n",
       "      <th>initial</th>\n",
       "      <th>parray</th>\n",
       "    </tr>\n",
       "  </thead>\n",
       "  <tbody>\n",
       "    <tr>\n",
       "      <th>kaq0</th>\n",
       "      <td>44.551614</td>\n",
       "      <td>6.553365e-01</td>\n",
       "      <td>1.47096</td>\n",
       "      <td>0</td>\n",
       "      <td>inf</td>\n",
       "      <td>50</td>\n",
       "      <td>[44.55161399621271]</td>\n",
       "    </tr>\n",
       "    <tr>\n",
       "      <th>Saq0</th>\n",
       "      <td>0.000003</td>\n",
       "      <td>4.928237e-07</td>\n",
       "      <td>15.251308</td>\n",
       "      <td>0</td>\n",
       "      <td>inf</td>\n",
       "      <td>0.0001</td>\n",
       "      <td>[3.231353431054629e-06]</td>\n",
       "    </tr>\n",
       "    <tr>\n",
       "      <th>res</th>\n",
       "      <td>0.01503</td>\n",
       "      <td>5.946511e-04</td>\n",
       "      <td>3.956557</td>\n",
       "      <td>-inf</td>\n",
       "      <td>inf</td>\n",
       "      <td>1</td>\n",
       "      <td>[0.015029508743142891]</td>\n",
       "    </tr>\n",
       "  </tbody>\n",
       "</table>\n",
       "</div>"
      ],
      "text/plain": [
       "        optimal           std   perc_std pmin  pmax initial  \\\n",
       "kaq0  44.551614  6.553365e-01    1.47096    0   inf      50   \n",
       "Saq0   0.000003  4.928237e-07  15.251308    0   inf  0.0001   \n",
       "res     0.01503  5.946511e-04   3.956557 -inf   inf       1   \n",
       "\n",
       "                       parray  \n",
       "kaq0      [44.55161399621271]  \n",
       "Saq0  [3.231353431054629e-06]  \n",
       "res    [0.015029508743142891]  "
      ]
     },
     "metadata": {},
     "output_type": "display_data"
    },
    {
     "name": "stdout",
     "output_type": "stream",
     "text": [
      "RMSE: 0.005514613406867893\n"
     ]
    }
   ],
   "source": [
    "display(ca0.parameters)\n",
    "print('RMSE:', ca0.rmse())"
   ]
  },
  {
   "cell_type": "code",
   "execution_count": 16,
   "metadata": {},
   "outputs": [
    {
     "data": {
      "text/plain": [
       "Text(0.5, 1.0, 'Model Results - Model 3')"
      ]
     },
     "execution_count": 16,
     "metadata": {},
     "output_type": "execute_result"
    },
    {
     "data": {
      "image/png": "[encoded data removed]",
      "text/plain": [
       "<Figure size 576x360 with 1 Axes>"
      ]
     },
     "metadata": {
      "needs_background": "light"
     },
     "output_type": "display_data"
    }
   ],
   "source": [
    "hm = w0.headinside(t)\n",
    "plt.figure(figsize=(8, 5))\n",
    "plt.loglog(t, -h, '.', label='obs - pumping well')\n",
    "plt.loglog(t, -hm[0], label='ttim model results')\n",
    "plt.xlabel('time [d]')\n",
    "plt.ylabel('drawdown [m]')\n",
    "plt.legend()\n",
    "plt.title(\"Model Results - Model 3\")"
   ]
  },
  {
   "cell_type": "markdown",
   "metadata": {},
   "source": [
    "## Step 9. Consider Log-curve-fitting"
   ]
  },
  {
   "cell_type": "markdown",
   "metadata": {},
   "source": [
    "The example reported in the MLU documentation (Carslon & Randall, 2012) uses curve-fitting of log-drawdowns, besides linear curve-fitting. The use of log-curve-fitting can help the fitting when observed errors are not independent of the observations. We will apply log-curve-fitting in TTim to reproduce the methodology from MLU.\n",
    "\n",
    "For the new calibration, we use the ```fitm``` script, which has an implementation of the log-curve fitting. The original objective function is ```h_observed - h_predicted```, while for the log curve fitting, the objective function has been changed to ```log(abs(h_observed-h_predicted))```."
   ]
  },
  {
   "cell_type": "code",
   "execution_count": 17,
   "metadata": {},
   "outputs": [],
   "source": [
    "from fitm import Calibrate"
   ]
  },
  {
   "cell_type": "code",
   "execution_count": 18,
   "metadata": {},
   "outputs": [
    {
     "name": "stdout",
     "output_type": "stream",
     "text": [
      "self.neq  1\n",
      "solution complete\n"
     ]
    }
   ],
   "source": [
    "ml3 = ModelMaq(kaq=[50, 40], z=[0, zt, zb, -68, -88], c=[1000, 1000], Saq=[1e-4, 5e-5],\\\n",
    "              topboundary='semi', tmin=1e-4, tmax=0.04)\n",
    "w3 = Well(ml3, xw=0, yw=0, rw=rw, res=1, tsandQ=[(0, Q), (t0, 0)], layers=0)\n",
    "ml3.solve()"
   ]
  },
  {
   "cell_type": "code",
   "execution_count": 19,
   "metadata": {},
   "outputs": [
    {
     "name": "stdout",
     "output_type": "stream",
     "text": [
      "...............................................\n",
      "Fit succeeded.\n",
      "[[Fit Statistics]]\n",
      "    # fitting method   = leastsq\n",
      "    # function evals   = 44\n",
      "    # data points      = 35\n",
      "    # variables        = 3\n",
      "    chi-square         = 423.133174\n",
      "    reduced chi-square = 13.2229117\n",
      "    Akaike info crit   = 93.2318615\n",
      "    Bayesian info crit = 97.8979057\n",
      "[[Variables]]\n",
      "    kaq0:  46.5775700 +/- 5.25395341 (11.28%) (init = 50)\n",
      "    Saq0:  6.7883e-05 +/- 7.5775e-04 (1116.27%) (init = 0.0001)\n",
      "    res:   0.00723010 +/- 0.02440774 (337.58%) (init = 1)\n",
      "[[Correlations]] (unreported correlations are < 0.100)\n",
      "    C(kaq0, Saq0) =  0.936\n",
      "    C(Saq0, res)  =  0.842\n",
      "    C(kaq0, res)  =  0.799\n"
     ]
    }
   ],
   "source": [
    "ca3 = Calibrate(ml3)\n",
    "ca3.set_parameter(name='kaq0', initial=50, pmin=0)\n",
    "ca3.set_parameter(name='Saq0', initial=1e-4, pmin=0)\n",
    "ca3.set_parameter_by_reference(name='res', parameter=w3.res[:], initial=1, pmin=0)\n",
    "ca3.seriesinwell(name='obs', element=w3, t=t, h=h)\n",
    "ca3.fit()"
   ]
  },
  {
   "cell_type": "code",
   "execution_count": 20,
   "metadata": {},
   "outputs": [
    {
     "data": {
      "text/html": [
       "<div>\n",
       "<style scoped>\n",
       "    .dataframe tbody tr th:only-of-type {\n",
       "        vertical-align: middle;\n",
       "    }\n",
       "\n",
       "    .dataframe tbody tr th {\n",
       "        vertical-align: top;\n",
       "    }\n",
       "\n",
       "    .dataframe thead th {\n",
       "        text-align: right;\n",
       "    }\n",
       "</style>\n",
       "<table border=\"1\" class=\"dataframe\">\n",
       "  <thead>\n",
       "    <tr style=\"text-align: right;\">\n",
       "      <th></th>\n",
       "      <th>optimal</th>\n",
       "      <th>std</th>\n",
       "      <th>perc_std</th>\n",
       "      <th>pmin</th>\n",
       "      <th>pmax</th>\n",
       "      <th>initial</th>\n",
       "      <th>parray</th>\n",
       "    </tr>\n",
       "  </thead>\n",
       "  <tbody>\n",
       "    <tr>\n",
       "      <th>kaq0</th>\n",
       "      <td>46.57757</td>\n",
       "      <td>5.253953</td>\n",
       "      <td>11.280008</td>\n",
       "      <td>0</td>\n",
       "      <td>inf</td>\n",
       "      <td>50</td>\n",
       "      <td>[46.57756996233315]</td>\n",
       "    </tr>\n",
       "    <tr>\n",
       "      <th>Saq0</th>\n",
       "      <td>0.000068</td>\n",
       "      <td>0.000758</td>\n",
       "      <td>1116.265628</td>\n",
       "      <td>0</td>\n",
       "      <td>inf</td>\n",
       "      <td>0.0001</td>\n",
       "      <td>[6.788282070635532e-05]</td>\n",
       "    </tr>\n",
       "    <tr>\n",
       "      <th>res</th>\n",
       "      <td>0.00723</td>\n",
       "      <td>0.024408</td>\n",
       "      <td>337.584942</td>\n",
       "      <td>0</td>\n",
       "      <td>inf</td>\n",
       "      <td>1</td>\n",
       "      <td>[0.00723010336653207]</td>\n",
       "    </tr>\n",
       "  </tbody>\n",
       "</table>\n",
       "</div>"
      ],
      "text/plain": [
       "       optimal       std     perc_std pmin  pmax initial  \\\n",
       "kaq0  46.57757  5.253953    11.280008    0   inf      50   \n",
       "Saq0  0.000068  0.000758  1116.265628    0   inf  0.0001   \n",
       "res    0.00723  0.024408   337.584942    0   inf       1   \n",
       "\n",
       "                       parray  \n",
       "kaq0      [46.57756996233315]  \n",
       "Saq0  [6.788282070635532e-05]  \n",
       "res     [0.00723010336653207]  "
      ]
     },
     "metadata": {},
     "output_type": "display_data"
    },
    {
     "name": "stdout",
     "output_type": "stream",
     "text": [
      "RMSE: 3.4769986006316445\n"
     ]
    }
   ],
   "source": [
    "display(ca3.parameters)\n",
    "print('RMSE:', ca3.rmse())"
   ]
  },
  {
   "cell_type": "code",
   "execution_count": 21,
   "metadata": {},
   "outputs": [
    {
     "data": {
      "image/png": "[encoded data removed]",
      "text/plain": [
       "<Figure size 576x360 with 1 Axes>"
      ]
     },
     "metadata": {
      "needs_background": "light"
     },
     "output_type": "display_data"
    }
   ],
   "source": [
    "hm3 = w3.headinside(t)\n",
    "plt.figure(figsize=(8, 5))\n",
    "plt.loglog(t, -h, '.', label='obs')\n",
    "plt.loglog(t, -hm3[0], label='ttim')\n",
    "plt.xlabel('time(d)')\n",
    "plt.ylabel('head(m)')\n",
    "plt.legend();"
   ]
  },
  {
   "cell_type": "markdown",
   "metadata": {},
   "source": [
    "According to RMSE and the Akaike criteria, the log curve fitting solution performs worse than linear curve fitting. The results reported in the following table are from models calibrated by linear curve fitting solution."
   ]
  },
  {
   "cell_type": "markdown",
   "metadata": {},
   "source": [
    "## Step 10. Analysis and summary of values modeled by different methods"
   ]
  },
  {
   "cell_type": "code",
   "execution_count": 22,
   "metadata": {},
   "outputs": [
    {
     "data": {
      "text/html": [
       "<div>\n",
       "<style scoped>\n",
       "    .dataframe tbody tr th:only-of-type {\n",
       "        vertical-align: middle;\n",
       "    }\n",
       "\n",
       "    .dataframe tbody tr th {\n",
       "        vertical-align: top;\n",
       "    }\n",
       "\n",
       "    .dataframe thead th {\n",
       "        text-align: right;\n",
       "    }\n",
       "</style>\n",
       "<table border=\"1\" class=\"dataframe\">\n",
       "  <thead>\n",
       "    <tr style=\"text-align: right;\">\n",
       "      <th></th>\n",
       "      <th>k [m/d]</th>\n",
       "      <th>Ss [1/m]</th>\n",
       "      <th>res</th>\n",
       "      <th>RMSE [m]</th>\n",
       "    </tr>\n",
       "  </thead>\n",
       "  <tbody>\n",
       "    <tr>\n",
       "      <th>MLU-log</th>\n",
       "      <td>51.53</td>\n",
       "      <td>0.000816</td>\n",
       "      <td>0.022</td>\n",
       "      <td>0.007560</td>\n",
       "    </tr>\n",
       "    <tr>\n",
       "      <th>TTim-single layer</th>\n",
       "      <td>44.551614</td>\n",
       "      <td>0.000003</td>\n",
       "      <td>0.01503</td>\n",
       "      <td>0.005515</td>\n",
       "    </tr>\n",
       "    <tr>\n",
       "      <th>TTim-two layers</th>\n",
       "      <td>44.528766</td>\n",
       "      <td>0.000006</td>\n",
       "      <td>0.016205</td>\n",
       "      <td>0.005512</td>\n",
       "    </tr>\n",
       "  </tbody>\n",
       "</table>\n",
       "</div>"
      ],
      "text/plain": [
       "                     k [m/d]  Ss [1/m]       res  RMSE [m]\n",
       "MLU-log                51.53  0.000816     0.022  0.007560\n",
       "TTim-single layer  44.551614  0.000003   0.01503  0.005515\n",
       "TTim-two layers    44.528766  0.000006  0.016205  0.005512"
      ]
     },
     "execution_count": 22,
     "metadata": {},
     "output_type": "execute_result"
    }
   ],
   "source": [
    "ta = pd.DataFrame(columns=['k [m/d]', 'Ss [1/m]', 'res'], \\\n",
    "                 index=['MLU-log', 'TTim-single layer', 'TTim-two layers'])\n",
    "ta.loc['TTim-single layer'] = ca0.parameters['optimal'].values\n",
    "ta.loc['TTim-two layers'] = ca1.parameters['optimal'].values\n",
    "ta.loc['MLU-log'] = [51.530, 8.16E-04, 0.022]\n",
    "ta['RMSE [m]'] = [0.00756, ca0.rmse(), ca1.rmse()]\n",
    "ta"
   ]
  },
  {
   "cell_type": "markdown",
   "metadata": {},
   "source": [
    "Both TTim models agree with each other with similar parameters. MLU adjusted parameters are higher than the ones in TTim."
   ]
  },
  {
   "cell_type": "code",
   "execution_count": 23,
   "metadata": {},
   "outputs": [
    {
     "data": {
      "image/png": "[encoded data removed]",
      "text/plain": [
       "<Figure size 720x504 with 1 Axes>"
      ]
     },
     "metadata": {
      "needs_background": "light"
     },
     "output_type": "display_data"
    }
   ],
   "source": [
    "# Preparing the DataFrame:\n",
    "t1 = pd.DataFrame(columns=['kaq - opt', 'kaq - 95%'], index = ['MLU','TTim - single layer','TTim - two layers']) \n",
    "\n",
    "t1.loc['MLU'] = [51.53, 4*1e-2*51.53]\n",
    "t1.loc['TTim - single layer'] = [ca0.parameters.loc['kaq0','optimal'],2*ca0.parameters.loc['kaq0','std']]\n",
    "t1.loc['TTim - two layers'] = [ca1.parameters.loc['kaq0','optimal'],2*ca1.parameters.loc['kaq0','std']]\n",
    "\n",
    "# Plotting\n",
    "\n",
    "plt.figure(figsize = (10,7))\n",
    "\n",
    "plt.errorbar(x = t1.index, y = t1['kaq - opt'], yerr = [t1['kaq - 95%'], t1['kaq - 95%']],\n",
    "    marker='o', linestyle='', markersize=12)\n",
    "#plt.legend()\n",
    "plt.suptitle(\"Error bar plot of calibrated hydraulic conductivities\")\n",
    "plt.ylabel('K [m/d]')\n",
    "#plt.ylim([36,40])\n",
    "plt.xlabel('Model');"
   ]
  },
  {
   "cell_type": "markdown",
   "metadata": {},
   "source": [
    "Comparing the adjusted error bars for hydraulic conductivities for our models, we see that the TTim models do not overlap the MLU range."
   ]
  },
  {
   "cell_type": "markdown",
   "metadata": {},
   "source": [
    "## References\n",
    "\n",
    "* Carlson F, Randall J (2012) MLU: a Windows application for the analysis of aquifer tests and the design of well fields in layered systems. Ground Water 50(4):504–510\n",
    "* Duffield, G.M., 2007. AQTESOLV for Windows Version 4.5 User's Guide, HydroSOLVE, Inc., Reston, VA.\n",
    "* Newville, M.,Stensitzki, T., Allen, D.B., Ingargiola, A. (2014) LMFIT: Non Linear Least-Squares Minimization and Curve Fitting for Python.https://dx.doi.org/10.5281/zenodo.11813. https://lmfit.github.io/lmfit-py/intro.html (last access: August,2021).\n",
    "* Yang, Xinzhu (2020) Application and comparison of different methodsfor aquifer test analysis using TTim. Master Thesis, Delft University of Technology (TUDelft), Delft, The Netherlands."
   ]
  },
  {
   "cell_type": "markdown",
   "metadata": {},
   "source": [
    "#### Next Notebook: [Leaky 3 - Texas Hill](leaky3_texashill.ipynb)"
   ]
  }
 ],
 "metadata": {
  "kernelspec": {
   "display_name": "Python 3 (ipykernel)",
   "language": "python",
   "name": "python3"
  },
  "language_info": {
   "codemirror_mode": {
    "name": "ipython",
    "version": 3
   },
   "file_extension": ".py",
   "mimetype": "text/x-python",
   "name": "python",
   "nbconvert_exporter": "python",
   "pygments_lexer": "ipython3",
   "version": "3.8.12"
  }
 },
 "nbformat": 4,
 "nbformat_minor": 4
}
