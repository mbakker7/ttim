{
 "cells": [
  {
   "cell_type": "markdown",
   "metadata": {},
   "source": [
    "# 2. Leaky Aquifer Recovery Test - Hardixveld Example\n",
    "**This test is taken from MLU examples.**"
   ]
  },
  {
   "cell_type": "markdown",
   "metadata": {},
   "source": [
    "## Introduction and Conceptual Model\n",
    "\n",
    "This test was taken in Hardinxveld-Giessendam, Netherlands, in 1981 to quantify the head-loss at each pumping well by clogging and to assess the transmissivity variation in the area.\n",
    "\n",
    "The hydrogeological conceptualization can be described as the following:\n",
    "* The first ten meters depth is an aquitard\n",
    "* Followed by the first aquifer from 10 to 37 m depth, this is also the test aquifer.\n",
    "* A new aquitard is present from 37 m depth to 68 m depth\n",
    "* A final aquifer is from 68 to 88 m depth.\n",
    "* Below 88 m depth the formations are considered an aquiclude\n",
    "\n",
    "Five pumping wells are screened in the first aquifer. Drawdown of one them is available in the MLU documentation (Carlson & Randall, 2012).\n",
    "The pumping well with information was pumped for 20 minutes at 1848 m3/d. Drawdown was recorded for a total of 50 minutes during and after pumping. The radius of the pumped well is 0.155 m.\n",
    "\n",
    "In this notebook, we reproduce the work of Xinzhu (2020) and demonstrate the use of TTim to fit a recovery test and quantify the skin resistance in the well as well as the hydraulic parameters of the aquifer.\n",
    "\n",
    "The following figure summarises the hydrogeological conceptual model."
   ]
  },
  {
   "cell_type": "code",
   "execution_count": 49,
   "metadata": {},
   "outputs": [
    {
     "data": {
      "image/png": "[encoded data removed]",
      "text/plain": [
       "<Figure size 1008x648 with 1 Axes>"
      ]
     },
     "metadata": {
      "needs_background": "light"
     },
     "output_type": "display_data"
    }
   ],
   "source": [
    "import matplotlib.pyplot as plt\n",
    "import numpy as np\n",
    "\n",
    "##Now printing the conceptual model figure:\n",
    "\n",
    "fig = plt.figure(figsize=(14, 9))\n",
    "ax = fig.add_subplot(1,1,1)\n",
    "#sky\n",
    "sky = plt.Rectangle((-20,0), width = 50, height = 20, fc = 'b', zorder=0, alpha=0.1)\n",
    "ax.add_patch(sky)\n",
    "\n",
    "#Aquifer:\n",
    "ground = plt.Rectangle((-20,-37), width = 50, height = 27, fc = np.array([209,179,127])/255, zorder=0, alpha=0.9)\n",
    "ax.add_patch(ground)\n",
    "\n",
    "#Aquifer 2:\n",
    "ground2 = plt.Rectangle((-20,-88), width = 50, height = 20, fc = np.array([209,179,127])/255, zorder=0, alpha=0.9)\n",
    "ax.add_patch(ground2)\n",
    "\n",
    "#Confining bed:\n",
    "confining_unit = plt.Rectangle((-20,-10), width = 50, height = 10, fc = np.array([100,100,100])/255, zorder=0, alpha=0.7)\n",
    "ax.add_patch(confining_unit)\n",
    "\n",
    "confining_unit2 = plt.Rectangle((-20,-68), width = 50, height = 31, fc = np.array([100,100,100])/255, zorder=0, alpha=0.7)\n",
    "ax.add_patch(confining_unit2)\n",
    "\n",
    "well = plt.Rectangle((-1.5,-37), width = 3, height = 37, fc = np.array([200,200,200])/255, zorder=1)\n",
    "ax.add_patch(well)\n",
    "\n",
    "#Wellhead\n",
    "wellhead = plt.Rectangle((-2,0),width = 4, height = 10, fc = np.array([200,200,200])/255, zorder=2, ec='k')\n",
    "ax.add_patch(wellhead)\n",
    "\n",
    "#Screen for the well:\n",
    "screen = plt.Rectangle((-1.5,-37), width = 3, height = 27, fc = np.array([200,200,200])/255, alpha=1, zorder = 2, ec = \"k\", ls = '--')\n",
    "screen.set_linewidth(2)\n",
    "ax.add_patch(screen)\n",
    "pumping_arrow = plt.Arrow(x = 2,y = 7, dx = 5, dy = 0, color = \"#00035b\")\n",
    "ax.add_patch(pumping_arrow)\n",
    "ax.text(x = 7, y = 7, s = r'$ Q = 1848 \\frac{m^3}{d}$', fontsize = 'large' )\n",
    "\n",
    "#last line\n",
    "line = plt.Line2D(xdata= [-200,1200], ydata = [0,0], color = \"k\")\n",
    "ax.add_line(line)\n",
    "\n",
    "\n",
    "ax.set_xlim([-20,30])\n",
    "ax.set_ylim([-88,20])\n",
    "ax.set_xlabel('Distance [m]')\n",
    "ax.set_ylabel('Relative height [m]')\n",
    "ax.set_title('Conceptual Model - Hardixveld Example');"
   ]
  },
  {
   "cell_type": "markdown",
   "metadata": {},
   "source": [
    "## Step 1. Import required libraries"
   ]
  },
  {
   "cell_type": "code",
   "execution_count": 29,
   "metadata": {},
   "outputs": [],
   "source": [
    "import numpy as np\n",
    "import matplotlib.pyplot as plt\n",
    "from ttim import *\n",
    "import pandas as pd"
   ]
  },
  {
   "cell_type": "markdown",
   "metadata": {},
   "source": [
    "## Step 2. Set basic parameters for the model"
   ]
  },
  {
   "cell_type": "code",
   "execution_count": 30,
   "metadata": {},
   "outputs": [],
   "source": [
    "H = 27 #aquifer thickness [m]\n",
    "zt = -10 #upper boundary of aquifer\n",
    "zb = zt - H\n",
    "rw = 0.155 #well screen radius [m]\n",
    "Q = 1848 #constant discharge rate [m^3/d]\n",
    "t0 =  0.013889 #time stop pumping [d]"
   ]
  },
  {
   "cell_type": "markdown",
   "metadata": {},
   "source": [
    "## Step 3. Load data for the recovery test"
   ]
  },
  {
   "cell_type": "markdown",
   "metadata": {},
   "source": [
    "Data is saved in a text file where the first column is the time data in days and in the second is the drawdown in m"
   ]
  },
  {
   "cell_type": "code",
   "execution_count": 31,
   "metadata": {},
   "outputs": [],
   "source": [
    "data = np.loadtxt('data/recovery.txt', skiprows=1)\n",
    "t = data[:, 0]\n",
    "h = data[:, 1]"
   ]
  },
  {
   "cell_type": "markdown",
   "metadata": {},
   "source": [
    "## Step 4. Create the first conceptual model\n",
    "\n",
    "Here we create a two aquifer leaky model in ModelMaq, so we have to define the top of the first aquitard layer, followed by the tops and bottoms of the aquifer layers. Here we ignore storage (```Sll```) of the aquitard layers.\n",
    "\n",
    "The well is defined with skin resistance (```res```) and the pumping schedule with the start and shutdown of the pump.\n",
    "\n",
    "More details on model construction and theory can be seen in:\n",
    "\n",
    "- [Confined 1 - Oude Korendijk](confined1_oude_korendijk)\n",
    "- [Confined 4 - Schroth](confined4_schroth.ipynb)\n",
    "- [Leaky 1 - Dalem](leaky1_dalem.ipynb)"
   ]
  },
  {
   "cell_type": "code",
   "execution_count": 32,
   "metadata": {},
   "outputs": [
    {
     "name": "stdout",
     "output_type": "stream",
     "text": [
      "self.neq  1\n",
      "solution complete\n"
     ]
    }
   ],
   "source": [
    "ml1 = ModelMaq(kaq=[50, 40], z=[0, zt, zb, -68, -88], c=[1000, 1000], Saq=[1e-4, 5e-5],\\\n",
    "              topboundary='semi', tmin=1e-4, tmax=0.04)\n",
    "w1 = Well(ml1, xw=0, yw=0, rw=rw, res=1, tsandQ=[(0, Q), (t0, 0)], layers=0)\n",
    "ml1.solve()"
   ]
  },
  {
   "cell_type": "markdown",
   "metadata": {},
   "source": [
    "## Step 5. Calibration"
   ]
  },
  {
   "cell_type": "markdown",
   "metadata": {},
   "source": [
    "The parameters to be calibrated are the hydraulic conductivity and specific storage of the first layer and the skin resistance of the well. The parameters of the aquitards and the second aquifer are kept fixed.\n",
    "\n",
    "More details on the calibration procedure and theory can be seen in:\n",
    "\n",
    "- [Confined 1 - Oude Korendijk](confined1_oude_korendijk)"
   ]
  },
  {
   "cell_type": "code",
   "execution_count": 33,
   "metadata": {},
   "outputs": [
    {
     "name": "stdout",
     "output_type": "stream",
     "text": [
      "...................................................................................................................................................................................................................................................................................................................................................................................................................................................\n",
      "Fit succeeded.\n",
      "[[Fit Statistics]]\n",
      "    # fitting method   = leastsq\n",
      "    # function evals   = 432\n",
      "    # data points      = 35\n",
      "    # variables        = 3\n",
      "    chi-square         = 0.00106335\n",
      "    reduced chi-square = 3.3230e-05\n",
      "    Akaike info crit   = -358.058740\n",
      "    Bayesian info crit = -353.392696\n",
      "[[Variables]]\n",
      "    kaq0:  44.5279520 +/- 0.65955309 (1.48%) (init = 50)\n",
      "    Saq0:  6.3899e-06 +/- 9.5239e-07 (14.90%) (init = 0.0001)\n",
      "    res:   0.01620388 +/- 5.7450e-04 (3.55%) (init = 1)\n",
      "[[Correlations]] (unreported correlations are < 0.100)\n",
      "    C(kaq0, res)  =  0.977\n",
      "    C(Saq0, res)  =  0.950\n",
      "    C(kaq0, Saq0) =  0.864\n"
     ]
    }
   ],
   "source": [
    "ca1 = Calibrate(ml1)\n",
    "ca1.set_parameter(name='kaq0', initial=50, pmin=0)\n",
    "ca1.set_parameter(name='Saq0', initial=1e-4, pmin=0)\n",
    "ca1.set_parameter_by_reference(name='res', parameter=w1.res[:], initial=1, pmin=0)\n",
    "ca1.seriesinwell(name='obs', element=w1, t=t, h=h)\n",
    "ca1.fit()"
   ]
  },
  {
   "cell_type": "code",
   "execution_count": 34,
   "metadata": {},
   "outputs": [
    {
     "data": {
      "text/html": [
       "<div>\n",
       "<style scoped>\n",
       "    .dataframe tbody tr th:only-of-type {\n",
       "        vertical-align: middle;\n",
       "    }\n",
       "\n",
       "    .dataframe tbody tr th {\n",
       "        vertical-align: top;\n",
       "    }\n",
       "\n",
       "    .dataframe thead th {\n",
       "        text-align: right;\n",
       "    }\n",
       "</style>\n",
       "<table border=\"1\" class=\"dataframe\">\n",
       "  <thead>\n",
       "    <tr style=\"text-align: right;\">\n",
       "      <th></th>\n",
       "      <th>optimal</th>\n",
       "      <th>std</th>\n",
       "      <th>perc_std</th>\n",
       "      <th>pmin</th>\n",
       "      <th>pmax</th>\n",
       "      <th>initial</th>\n",
       "      <th>parray</th>\n",
       "    </tr>\n",
       "  </thead>\n",
       "  <tbody>\n",
       "    <tr>\n",
       "      <th>kaq0</th>\n",
       "      <td>44.527952</td>\n",
       "      <td>6.595531e-01</td>\n",
       "      <td>1.481211</td>\n",
       "      <td>0</td>\n",
       "      <td>inf</td>\n",
       "      <td>50</td>\n",
       "      <td>[44.52795198484663]</td>\n",
       "    </tr>\n",
       "    <tr>\n",
       "      <th>Saq0</th>\n",
       "      <td>0.000006</td>\n",
       "      <td>9.523893e-07</td>\n",
       "      <td>14.904571</td>\n",
       "      <td>0</td>\n",
       "      <td>inf</td>\n",
       "      <td>0.0001</td>\n",
       "      <td>[6.389913975723971e-06]</td>\n",
       "    </tr>\n",
       "    <tr>\n",
       "      <th>res</th>\n",
       "      <td>0.016204</td>\n",
       "      <td>5.744991e-04</td>\n",
       "      <td>3.545443</td>\n",
       "      <td>0</td>\n",
       "      <td>inf</td>\n",
       "      <td>1</td>\n",
       "      <td>[0.0162038755831051]</td>\n",
       "    </tr>\n",
       "  </tbody>\n",
       "</table>\n",
       "</div>"
      ],
      "text/plain": [
       "        optimal           std   perc_std pmin  pmax initial  \\\n",
       "kaq0  44.527952  6.595531e-01   1.481211    0   inf      50   \n",
       "Saq0   0.000006  9.523893e-07  14.904571    0   inf  0.0001   \n",
       "res    0.016204  5.744991e-04   3.545443    0   inf       1   \n",
       "\n",
       "                       parray  \n",
       "kaq0      [44.52795198484663]  \n",
       "Saq0  [6.389913975723971e-06]  \n",
       "res      [0.0162038755831051]  "
      ]
     },
     "metadata": {},
     "output_type": "display_data"
    },
    {
     "name": "stdout",
     "output_type": "stream",
     "text": [
      "RMSE: 0.005511937200185353\n"
     ]
    }
   ],
   "source": [
    "display(ca1.parameters)\n",
    "print('RMSE:', ca1.rmse())"
   ]
  },
  {
   "cell_type": "code",
   "execution_count": 35,
   "metadata": {},
   "outputs": [
    {
     "data": {
      "image/png": "[encoded data removed]",
      "text/plain": [
       "<Figure size 576x360 with 1 Axes>"
      ]
     },
     "metadata": {
      "needs_background": "light"
     },
     "output_type": "display_data"
    }
   ],
   "source": [
    "hm1 = w1.headinside(t)\n",
    "plt.figure(figsize=(8, 5))\n",
    "plt.loglog(t, -h, '.', label='obs - pumping well')\n",
    "plt.loglog(t, -hm1[0], label='ttim results')\n",
    "plt.xlabel('time [d]')\n",
    "plt.ylabel('head [m]')\n",
    "plt.legend()\n",
    "plt.title(\"Model Results - Model 1\");"
   ]
  },
  {
   "cell_type": "markdown",
   "metadata": {},
   "source": [
    "Overall a good fit has been observed. We will test the results with wellbore storage"
   ]
  },
  {
   "cell_type": "markdown",
   "metadata": {},
   "source": [
    "## Step 6. Alternative model with wellbore storage"
   ]
  },
  {
   "cell_type": "markdown",
   "metadata": {},
   "source": [
    "Additonaly to the parameters in the previous model we add the ```rc``` parameter in the well. This is radius of the caisson of the well and TTim uses it to calculate the water storage in the well."
   ]
  },
  {
   "cell_type": "code",
   "execution_count": 36,
   "metadata": {},
   "outputs": [
    {
     "name": "stdout",
     "output_type": "stream",
     "text": [
      "self.neq  1\n",
      "solution complete\n"
     ]
    }
   ],
   "source": [
    "ml2 = ModelMaq(kaq=[50, 40], z=[0, zt, zb, -68, -88], c=[1000, 1000], Saq=[1e-4, 5e-5],\\\n",
    "              topboundary='semi', tmin=1e-4, tmax=0.04)\n",
    "w2 = Well(ml2, xw=0, yw=0, rw=rw, rc=0.155, res=1, tsandQ=[(0, Q), (t0, 0)], layers=0)\n",
    "ml2.solve()"
   ]
  },
  {
   "cell_type": "markdown",
   "metadata": {},
   "source": [
    "## Step 7. Calibrate the alternative model"
   ]
  },
  {
   "cell_type": "markdown",
   "metadata": {},
   "source": [
    "Addionately, we also calibrate the rc parameter in the well:"
   ]
  },
  {
   "cell_type": "code",
   "execution_count": 37,
   "metadata": {},
   "outputs": [
    {
     "name": "stdout",
     "output_type": "stream",
     "text": [
      ".........................................................................................................................................................................................................................................................................................................................................................................................................................................................................................................................................................................................................................................................................................................................................................................\n",
      "Fit succeeded.\n",
      "[[Fit Statistics]]\n",
      "    # fitting method   = leastsq\n",
      "    # function evals   = 742\n",
      "    # data points      = 35\n",
      "    # variables        = 4\n",
      "    chi-square         = 0.00106335\n",
      "    reduced chi-square = 3.4302e-05\n",
      "    Akaike info crit   = -356.058810\n",
      "    Bayesian info crit = -349.837418\n",
      "[[Variables]]\n",
      "    kaq0:  44.5307205 +/- 1.55161713 (3.48%) (init = 50)\n",
      "    Saq0:  6.3931e-06 +/- 1.5653e-06 (24.48%) (init = 0.0001)\n",
      "    rc:    0.00532170 +/- 0.53514149 (10055.84%) (init = 0.1)\n",
      "    res:   0.01620618 +/- 0.00125386 (7.74%) (init = 1)\n",
      "[[Correlations]] (unreported correlations are < 0.100)\n",
      "    C(kaq0, res)  =  0.994\n",
      "    C(Saq0, res)  =  0.966\n",
      "    C(kaq0, Saq0) =  0.932\n",
      "    C(kaq0, rc)   =  0.907\n",
      "    C(rc, res)    =  0.882\n",
      "    C(Saq0, rc)   =  0.773\n"
     ]
    }
   ],
   "source": [
    "ca2 = Calibrate(ml2)\n",
    "ca2.set_parameter(name='kaq0', initial=50, pmin=0)\n",
    "ca2.set_parameter(name='Saq0', initial=1e-4, pmin=0)\n",
    "ca2.set_parameter_by_reference(name='rc', parameter=w2.rc[:], initial=0.1, pmin=0)\n",
    "ca2.set_parameter_by_reference(name='res', parameter=w2.res[:], initial=1, pmin=0)\n",
    "ca2.seriesinwell(name='obs', element=w2, t=t, h=h)\n",
    "ca2.fit()"
   ]
  },
  {
   "cell_type": "code",
   "execution_count": 38,
   "metadata": {},
   "outputs": [
    {
     "data": {
      "text/html": [
       "<div>\n",
       "<style scoped>\n",
       "    .dataframe tbody tr th:only-of-type {\n",
       "        vertical-align: middle;\n",
       "    }\n",
       "\n",
       "    .dataframe tbody tr th {\n",
       "        vertical-align: top;\n",
       "    }\n",
       "\n",
       "    .dataframe thead th {\n",
       "        text-align: right;\n",
       "    }\n",
       "</style>\n",
       "<table border=\"1\" class=\"dataframe\">\n",
       "  <thead>\n",
       "    <tr style=\"text-align: right;\">\n",
       "      <th></th>\n",
       "      <th>optimal</th>\n",
       "      <th>std</th>\n",
       "      <th>perc_std</th>\n",
       "      <th>pmin</th>\n",
       "      <th>pmax</th>\n",
       "      <th>initial</th>\n",
       "      <th>parray</th>\n",
       "    </tr>\n",
       "  </thead>\n",
       "  <tbody>\n",
       "    <tr>\n",
       "      <th>kaq0</th>\n",
       "      <td>44.53072</td>\n",
       "      <td>1.551617</td>\n",
       "      <td>3.484375</td>\n",
       "      <td>0</td>\n",
       "      <td>inf</td>\n",
       "      <td>50</td>\n",
       "      <td>[44.530720463900884]</td>\n",
       "    </tr>\n",
       "    <tr>\n",
       "      <th>Saq0</th>\n",
       "      <td>0.000006</td>\n",
       "      <td>0.000002</td>\n",
       "      <td>24.483384</td>\n",
       "      <td>0</td>\n",
       "      <td>inf</td>\n",
       "      <td>0.0001</td>\n",
       "      <td>[6.393145378202902e-06]</td>\n",
       "    </tr>\n",
       "    <tr>\n",
       "      <th>rc</th>\n",
       "      <td>0.005322</td>\n",
       "      <td>0.535141</td>\n",
       "      <td>10055.844242</td>\n",
       "      <td>0</td>\n",
       "      <td>inf</td>\n",
       "      <td>0.1</td>\n",
       "      <td>[0.005321696245706331]</td>\n",
       "    </tr>\n",
       "    <tr>\n",
       "      <th>res</th>\n",
       "      <td>0.016206</td>\n",
       "      <td>0.001254</td>\n",
       "      <td>7.73692</td>\n",
       "      <td>0</td>\n",
       "      <td>inf</td>\n",
       "      <td>1</td>\n",
       "      <td>[0.01620618209894875]</td>\n",
       "    </tr>\n",
       "  </tbody>\n",
       "</table>\n",
       "</div>"
      ],
      "text/plain": [
       "       optimal       std      perc_std pmin  pmax initial  \\\n",
       "kaq0  44.53072  1.551617      3.484375    0   inf      50   \n",
       "Saq0  0.000006  0.000002     24.483384    0   inf  0.0001   \n",
       "rc    0.005322  0.535141  10055.844242    0   inf     0.1   \n",
       "res   0.016206  0.001254       7.73692    0   inf       1   \n",
       "\n",
       "                       parray  \n",
       "kaq0     [44.530720463900884]  \n",
       "Saq0  [6.393145378202902e-06]  \n",
       "rc     [0.005321696245706331]  \n",
       "res     [0.01620618209894875]  "
      ]
     },
     "metadata": {},
     "output_type": "display_data"
    },
    {
     "name": "stdout",
     "output_type": "stream",
     "text": [
      "RMSE: 0.005511931629287328\n"
     ]
    }
   ],
   "source": [
    "display(ca2.parameters)\n",
    "print('RMSE:', ca2.rmse())"
   ]
  },
  {
   "cell_type": "code",
   "execution_count": 39,
   "metadata": {},
   "outputs": [
    {
     "data": {
      "image/png": "[encoded data removed]",
      "text/plain": [
       "<Figure size 576x360 with 1 Axes>"
      ]
     },
     "metadata": {
      "needs_background": "light"
     },
     "output_type": "display_data"
    }
   ],
   "source": [
    "hm2 = w2.headinside(t)\n",
    "plt.figure(figsize=(8, 5))\n",
    "plt.loglog(t, -h, '.', label='obs - pumping well')\n",
    "plt.loglog(t, -hm2[0], label='ttim model results')\n",
    "plt.xlabel('time [d]')\n",
    "plt.ylabel('head [m]')\n",
    "plt.legend()\n",
    "plt.title(\"Model Results - Model 2\");"
   ]
  },
  {
   "cell_type": "markdown",
   "metadata": {},
   "source": [
    "Simulation with rc has a slightly worse performance. The Akaike and Bayes criterion are slightly worse than with the previous model."
   ]
  },
  {
   "cell_type": "markdown",
   "metadata": {},
   "source": [
    "## Step 8. Testing single layer model"
   ]
  },
  {
   "cell_type": "markdown",
   "metadata": {},
   "source": [
    "In this final model, we will test the assumption that we can ignore the underlying aquifer and only worry about the top aquifer, where water is pumped\n",
    "\n",
    "Therefore the last model is a single layer semi-confined aquifer that only includes the top aquitard and the first aquifer. In the well we are not considering the ```rc``` parameter."
   ]
  },
  {
   "cell_type": "code",
   "execution_count": 40,
   "metadata": {},
   "outputs": [
    {
     "name": "stdout",
     "output_type": "stream",
     "text": [
      "self.neq  1\n",
      "solution complete\n"
     ]
    }
   ],
   "source": [
    "ml0 = ModelMaq(kaq=50, z=[0, zt, zb], c=1000, Saq=1e-4, topboundary='semi', \\\n",
    "              tmin=1e-4, tmax=0.04)\n",
    "w0 = Well(ml0, xw=0, yw=0, rw=rw, res=1, tsandQ=[(0, Q), (t0, 0)], layers=0)\n",
    "ml0.solve()"
   ]
  },
  {
   "cell_type": "markdown",
   "metadata": {},
   "source": [
    "### Step 8.1. Calibration\n",
    "\n",
    "In the calibration we repeat the procedure for model 1."
   ]
  },
  {
   "cell_type": "code",
   "execution_count": 41,
   "metadata": {},
   "outputs": [
    {
     "name": "stdout",
     "output_type": "stream",
     "text": [
      "...................................................................................................................................................................................................................................................................................................................\n",
      "Fit succeeded.\n",
      "[[Fit Statistics]]\n",
      "    # fitting method   = leastsq\n",
      "    # function evals   = 304\n",
      "    # data points      = 35\n",
      "    # variables        = 3\n",
      "    chi-square         = 0.00106438\n",
      "    reduced chi-square = 3.3262e-05\n",
      "    Akaike info crit   = -358.024776\n",
      "    Bayesian info crit = -353.358732\n",
      "[[Variables]]\n",
      "    kaq0:  44.5496992 +/- 0.65519929 (1.47%) (init = 50)\n",
      "    Saq0:  3.2297e-06 +/- 4.9229e-07 (15.24%) (init = 0.0001)\n",
      "    res:   0.01502757 +/- 5.9448e-04 (3.96%) (init = 1)\n",
      "[[Correlations]] (unreported correlations are < 0.100)\n",
      "    C(kaq0, res)  =  0.977\n",
      "    C(Saq0, res)  =  0.948\n",
      "    C(kaq0, Saq0) =  0.861\n"
     ]
    }
   ],
   "source": [
    "ca0 = Calibrate(ml0)\n",
    "ca0.set_parameter(name='kaq0', initial=50, pmin=0)\n",
    "ca0.set_parameter(name='Saq0', initial=1e-4, pmin=0)\n",
    "ca0.set_parameter_by_reference(name='res', parameter=w0.res[:], initial=1)\n",
    "ca0.seriesinwell(name='obs', element=w0, t=t, h=h)\n",
    "ca0.fit()"
   ]
  },
  {
   "cell_type": "code",
   "execution_count": 42,
   "metadata": {},
   "outputs": [
    {
     "data": {
      "text/html": [
       "<div>\n",
       "<style scoped>\n",
       "    .dataframe tbody tr th:only-of-type {\n",
       "        vertical-align: middle;\n",
       "    }\n",
       "\n",
       "    .dataframe tbody tr th {\n",
       "        vertical-align: top;\n",
       "    }\n",
       "\n",
       "    .dataframe thead th {\n",
       "        text-align: right;\n",
       "    }\n",
       "</style>\n",
       "<table border=\"1\" class=\"dataframe\">\n",
       "  <thead>\n",
       "    <tr style=\"text-align: right;\">\n",
       "      <th></th>\n",
       "      <th>optimal</th>\n",
       "      <th>std</th>\n",
       "      <th>perc_std</th>\n",
       "      <th>pmin</th>\n",
       "      <th>pmax</th>\n",
       "      <th>initial</th>\n",
       "      <th>parray</th>\n",
       "    </tr>\n",
       "  </thead>\n",
       "  <tbody>\n",
       "    <tr>\n",
       "      <th>kaq0</th>\n",
       "      <td>44.549699</td>\n",
       "      <td>6.551993e-01</td>\n",
       "      <td>1.470715</td>\n",
       "      <td>0</td>\n",
       "      <td>inf</td>\n",
       "      <td>50</td>\n",
       "      <td>[44.54969917765417]</td>\n",
       "    </tr>\n",
       "    <tr>\n",
       "      <th>Saq0</th>\n",
       "      <td>0.000003</td>\n",
       "      <td>4.922906e-07</td>\n",
       "      <td>15.242596</td>\n",
       "      <td>0</td>\n",
       "      <td>inf</td>\n",
       "      <td>0.0001</td>\n",
       "      <td>[3.2297034167072525e-06]</td>\n",
       "    </tr>\n",
       "    <tr>\n",
       "      <th>res</th>\n",
       "      <td>0.015028</td>\n",
       "      <td>5.944775e-04</td>\n",
       "      <td>3.955913</td>\n",
       "      <td>-inf</td>\n",
       "      <td>inf</td>\n",
       "      <td>1</td>\n",
       "      <td>[0.015027566109836731]</td>\n",
       "    </tr>\n",
       "  </tbody>\n",
       "</table>\n",
       "</div>"
      ],
      "text/plain": [
       "        optimal           std   perc_std pmin  pmax initial  \\\n",
       "kaq0  44.549699  6.551993e-01   1.470715    0   inf      50   \n",
       "Saq0   0.000003  4.922906e-07  15.242596    0   inf  0.0001   \n",
       "res    0.015028  5.944775e-04   3.955913 -inf   inf       1   \n",
       "\n",
       "                        parray  \n",
       "kaq0       [44.54969917765417]  \n",
       "Saq0  [3.2297034167072525e-06]  \n",
       "res     [0.015027566109836731]  "
      ]
     },
     "metadata": {},
     "output_type": "display_data"
    },
    {
     "name": "stdout",
     "output_type": "stream",
     "text": [
      "RMSE: 0.005514612206384408\n"
     ]
    }
   ],
   "source": [
    "display(ca0.parameters)\n",
    "print('RMSE:', ca0.rmse())"
   ]
  },
  {
   "cell_type": "code",
   "execution_count": 43,
   "metadata": {},
   "outputs": [
    {
     "data": {
      "text/plain": [
       "Text(0.5, 1.0, 'Model Results - Model 3')"
      ]
     },
     "execution_count": 43,
     "metadata": {},
     "output_type": "execute_result"
    },
    {
     "data": {
      "image/png": "[encoded data removed]",
      "text/plain": [
       "<Figure size 576x360 with 1 Axes>"
      ]
     },
     "metadata": {
      "needs_background": "light"
     },
     "output_type": "display_data"
    }
   ],
   "source": [
    "hm = w0.headinside(t)\n",
    "plt.figure(figsize=(8, 5))\n",
    "plt.loglog(t, -h, '.', label='obs - pumping well')\n",
    "plt.loglog(t, -hm[0], label='ttim model results')\n",
    "plt.xlabel('time [d]')\n",
    "plt.ylabel('drawdown [m]')\n",
    "plt.legend()\n",
    "plt.title(\"Model Results - Model 3\")"
   ]
  },
  {
   "cell_type": "markdown",
   "metadata": {},
   "source": [
    "## Step 9. Consider Log-curve-fitting"
   ]
  },
  {
   "cell_type": "markdown",
   "metadata": {},
   "source": [
    "The example reported in the MLU documentation (Carslon & Randall, 2012) uses curve-fitting of log-drawdowns, besides linead curve-fitting. The use of log-curve-fitting can help the fitting when observed error are not independent of the observations. We will apply log-curve-fitting in TTim to reproduce the methodology from MLU."
   ]
  },
  {
   "cell_type": "markdown",
   "metadata": {},
   "source": [
    "For the new calibration we use ```fitlm```, which has a different Calibrate object with the log-objective function. The original objective function is ```h_observed - h_predicted```, while for log drawdown curve fitting solution, the objective function has been changed to ```log10(-h_observed) - log10(-h_predicted)```."
   ]
  },
  {
   "cell_type": "code",
   "execution_count": 44,
   "metadata": {},
   "outputs": [],
   "source": [
    "from fitm import Calibrate"
   ]
  },
  {
   "cell_type": "code",
   "execution_count": 45,
   "metadata": {},
   "outputs": [
    {
     "name": "stdout",
     "output_type": "stream",
     "text": [
      "self.neq  1\n",
      "solution complete\n"
     ]
    }
   ],
   "source": [
    "ml3 = ModelMaq(kaq=[50, 40], z=[0, zt, zb, -68, -88], c=[1000, 1000], Saq=[1e-4, 5e-5],\\\n",
    "              topboundary='semi', tmin=1e-4, tmax=0.04)\n",
    "w3 = Well(ml3, xw=0, yw=0, rw=rw, res=1, tsandQ=[(0, Q), (t0, 0)], layers=0)\n",
    "ml3.solve()"
   ]
  },
  {
   "cell_type": "code",
   "execution_count": 46,
   "metadata": {},
   "outputs": [
    {
     "name": "stdout",
     "output_type": "stream",
     "text": [
      "."
     ]
    },
    {
     "ename": "ValueError",
     "evalue": "NaN values detected in your input data or the output of your objective/model function - fitting algorithms cannot handle this! Please read https://lmfit.github.io/lmfit-py/faq.html#i-get-errors-from-nan-in-my-fit-what-can-i-do for more information.",
     "output_type": "error",
     "traceback": [
      "\u001b[1;31m---------------------------------------------------------------------------\u001b[0m",
      "\u001b[1;31mValueError\u001b[0m                                Traceback (most recent call last)",
      "\u001b[1;32m~\\AppData\\Local\\Temp/ipykernel_5496/3733411872.py\u001b[0m in \u001b[0;36m<module>\u001b[1;34m\u001b[0m\n\u001b[0;32m      4\u001b[0m \u001b[0mca3\u001b[0m\u001b[1;33m.\u001b[0m\u001b[0mset_parameter_by_reference\u001b[0m\u001b[1;33m(\u001b[0m\u001b[0mname\u001b[0m\u001b[1;33m=\u001b[0m\u001b[1;34m'res'\u001b[0m\u001b[1;33m,\u001b[0m \u001b[0mparameter\u001b[0m\u001b[1;33m=\u001b[0m\u001b[0mw3\u001b[0m\u001b[1;33m.\u001b[0m\u001b[0mres\u001b[0m\u001b[1;33m[\u001b[0m\u001b[1;33m:\u001b[0m\u001b[1;33m]\u001b[0m\u001b[1;33m,\u001b[0m \u001b[0minitial\u001b[0m\u001b[1;33m=\u001b[0m\u001b[1;36m1\u001b[0m\u001b[1;33m,\u001b[0m\u001b[0mpmin\u001b[0m\u001b[1;33m=\u001b[0m\u001b[1;36m0\u001b[0m\u001b[1;33m)\u001b[0m\u001b[1;33m\u001b[0m\u001b[1;33m\u001b[0m\u001b[0m\n\u001b[0;32m      5\u001b[0m \u001b[0mca3\u001b[0m\u001b[1;33m.\u001b[0m\u001b[0mseriesinwell\u001b[0m\u001b[1;33m(\u001b[0m\u001b[0mname\u001b[0m\u001b[1;33m=\u001b[0m\u001b[1;34m'obs'\u001b[0m\u001b[1;33m,\u001b[0m \u001b[0melement\u001b[0m\u001b[1;33m=\u001b[0m\u001b[0mw3\u001b[0m\u001b[1;33m,\u001b[0m\u001b[0mt\u001b[0m\u001b[1;33m=\u001b[0m\u001b[0mt\u001b[0m\u001b[1;33m,\u001b[0m \u001b[0mh\u001b[0m\u001b[1;33m=\u001b[0m\u001b[0mh\u001b[0m\u001b[1;33m)\u001b[0m\u001b[1;33m\u001b[0m\u001b[1;33m\u001b[0m\u001b[0m\n\u001b[1;32m----> 6\u001b[1;33m \u001b[0mca3\u001b[0m\u001b[1;33m.\u001b[0m\u001b[0mfit\u001b[0m\u001b[1;33m(\u001b[0m\u001b[0mreport\u001b[0m\u001b[1;33m=\u001b[0m\u001b[1;32mTrue\u001b[0m\u001b[1;33m)\u001b[0m\u001b[1;33m\u001b[0m\u001b[1;33m\u001b[0m\u001b[0m\n\u001b[0m",
      "\u001b[1;32mC:\\ttim\\pumpingtest_benchmarks\\fitm.py\u001b[0m in \u001b[0;36mfit\u001b[1;34m(self, report, printdot)\u001b[0m\n\u001b[0;32m    245\u001b[0m     \u001b[1;32mdef\u001b[0m \u001b[0mfit\u001b[0m\u001b[1;33m(\u001b[0m\u001b[0mself\u001b[0m\u001b[1;33m,\u001b[0m \u001b[0mreport\u001b[0m\u001b[1;33m=\u001b[0m\u001b[1;32mTrue\u001b[0m\u001b[1;33m,\u001b[0m \u001b[0mprintdot\u001b[0m\u001b[1;33m=\u001b[0m\u001b[1;32mTrue\u001b[0m\u001b[1;33m)\u001b[0m\u001b[1;33m:\u001b[0m\u001b[1;33m\u001b[0m\u001b[1;33m\u001b[0m\u001b[0m\n\u001b[0;32m    246\u001b[0m         \u001b[1;31m# current default fitting routine\u001b[0m\u001b[1;33m\u001b[0m\u001b[1;33m\u001b[0m\u001b[1;33m\u001b[0m\u001b[0m\n\u001b[1;32m--> 247\u001b[1;33m         \u001b[1;32mreturn\u001b[0m \u001b[0mself\u001b[0m\u001b[1;33m.\u001b[0m\u001b[0mfit_lmfit\u001b[0m\u001b[1;33m(\u001b[0m\u001b[0mreport\u001b[0m\u001b[1;33m,\u001b[0m \u001b[0mprintdot\u001b[0m\u001b[1;33m)\u001b[0m\u001b[1;33m\u001b[0m\u001b[1;33m\u001b[0m\u001b[0m\n\u001b[0m\u001b[0;32m    248\u001b[0m \u001b[1;33m\u001b[0m\u001b[0m\n\u001b[0;32m    249\u001b[0m     \u001b[1;32mdef\u001b[0m \u001b[0mrmse\u001b[0m\u001b[1;33m(\u001b[0m\u001b[0mself\u001b[0m\u001b[1;33m)\u001b[0m\u001b[1;33m:\u001b[0m\u001b[1;33m\u001b[0m\u001b[1;33m\u001b[0m\u001b[0m\n",
      "\u001b[1;32mC:\\ttim\\pumpingtest_benchmarks\\fitm.py\u001b[0m in \u001b[0;36mfit_lmfit\u001b[1;34m(self, report, printdot)\u001b[0m\n\u001b[0;32m    224\u001b[0m                                  max=p['pmax'])\n\u001b[0;32m    225\u001b[0m         \u001b[0mfit_kws\u001b[0m \u001b[1;33m=\u001b[0m \u001b[1;33m{\u001b[0m\u001b[1;34m\"epsfcn\"\u001b[0m\u001b[1;33m:\u001b[0m \u001b[1;36m1e-4\u001b[0m\u001b[1;33m}\u001b[0m\u001b[1;33m\u001b[0m\u001b[1;33m\u001b[0m\u001b[0m\n\u001b[1;32m--> 226\u001b[1;33m         self.fitresult = lmfit.minimize(self.residuals_lmfit, self.lmfitparams, \n\u001b[0m\u001b[0;32m    227\u001b[0m                                         \u001b[0mmethod\u001b[0m\u001b[1;33m=\u001b[0m\u001b[1;34m\"leastsq\"\u001b[0m\u001b[1;33m,\u001b[0m\u001b[1;33m\u001b[0m\u001b[1;33m\u001b[0m\u001b[0m\n\u001b[0;32m    228\u001b[0m                                         kws={\"printdot\":printdot}, **fit_kws)\n",
      "\u001b[1;32m~\\Miniconda3\\envs\\ttim\\lib\\site-packages\\lmfit\\minimizer.py\u001b[0m in \u001b[0;36mminimize\u001b[1;34m(fcn, params, method, args, kws, iter_cb, scale_covar, nan_policy, reduce_fcn, calc_covar, max_nfev, **fit_kws)\u001b[0m\n\u001b[0;32m   2592\u001b[0m                        \u001b[0mnan_policy\u001b[0m\u001b[1;33m=\u001b[0m\u001b[0mnan_policy\u001b[0m\u001b[1;33m,\u001b[0m \u001b[0mreduce_fcn\u001b[0m\u001b[1;33m=\u001b[0m\u001b[0mreduce_fcn\u001b[0m\u001b[1;33m,\u001b[0m\u001b[1;33m\u001b[0m\u001b[1;33m\u001b[0m\u001b[0m\n\u001b[0;32m   2593\u001b[0m                        calc_covar=calc_covar, max_nfev=max_nfev, **fit_kws)\n\u001b[1;32m-> 2594\u001b[1;33m     \u001b[1;32mreturn\u001b[0m \u001b[0mfitter\u001b[0m\u001b[1;33m.\u001b[0m\u001b[0mminimize\u001b[0m\u001b[1;33m(\u001b[0m\u001b[0mmethod\u001b[0m\u001b[1;33m=\u001b[0m\u001b[0mmethod\u001b[0m\u001b[1;33m)\u001b[0m\u001b[1;33m\u001b[0m\u001b[1;33m\u001b[0m\u001b[0m\n\u001b[0m",
      "\u001b[1;32m~\\Miniconda3\\envs\\ttim\\lib\\site-packages\\lmfit\\minimizer.py\u001b[0m in \u001b[0;36mminimize\u001b[1;34m(self, method, params, **kws)\u001b[0m\n\u001b[0;32m   2361\u001b[0m                         val.lower().startswith(user_method)):\n\u001b[0;32m   2362\u001b[0m                     \u001b[0mkwargs\u001b[0m\u001b[1;33m[\u001b[0m\u001b[1;34m'method'\u001b[0m\u001b[1;33m]\u001b[0m \u001b[1;33m=\u001b[0m \u001b[0mval\u001b[0m\u001b[1;33m\u001b[0m\u001b[1;33m\u001b[0m\u001b[0m\n\u001b[1;32m-> 2363\u001b[1;33m         \u001b[1;32mreturn\u001b[0m \u001b[0mfunction\u001b[0m\u001b[1;33m(\u001b[0m\u001b[1;33m**\u001b[0m\u001b[0mkwargs\u001b[0m\u001b[1;33m)\u001b[0m\u001b[1;33m\u001b[0m\u001b[1;33m\u001b[0m\u001b[0m\n\u001b[0m\u001b[0;32m   2364\u001b[0m \u001b[1;33m\u001b[0m\u001b[0m\n\u001b[0;32m   2365\u001b[0m \u001b[1;33m\u001b[0m\u001b[0m\n",
      "\u001b[1;32m~\\Miniconda3\\envs\\ttim\\lib\\site-packages\\lmfit\\minimizer.py\u001b[0m in \u001b[0;36mleastsq\u001b[1;34m(self, params, max_nfev, **kws)\u001b[0m\n\u001b[0;32m   1698\u001b[0m         \u001b[0mresult\u001b[0m\u001b[1;33m.\u001b[0m\u001b[0mcall_kws\u001b[0m \u001b[1;33m=\u001b[0m \u001b[0mlskws\u001b[0m\u001b[1;33m\u001b[0m\u001b[1;33m\u001b[0m\u001b[0m\n\u001b[0;32m   1699\u001b[0m         \u001b[1;32mtry\u001b[0m\u001b[1;33m:\u001b[0m\u001b[1;33m\u001b[0m\u001b[1;33m\u001b[0m\u001b[0m\n\u001b[1;32m-> 1700\u001b[1;33m             \u001b[0mlsout\u001b[0m \u001b[1;33m=\u001b[0m \u001b[0mscipy_leastsq\u001b[0m\u001b[1;33m(\u001b[0m\u001b[0mself\u001b[0m\u001b[1;33m.\u001b[0m\u001b[0m__residual\u001b[0m\u001b[1;33m,\u001b[0m \u001b[0mvariables\u001b[0m\u001b[1;33m,\u001b[0m \u001b[1;33m**\u001b[0m\u001b[0mlskws\u001b[0m\u001b[1;33m)\u001b[0m\u001b[1;33m\u001b[0m\u001b[1;33m\u001b[0m\u001b[0m\n\u001b[0m\u001b[0;32m   1701\u001b[0m         \u001b[1;32mexcept\u001b[0m \u001b[0mAbortFitException\u001b[0m\u001b[1;33m:\u001b[0m\u001b[1;33m\u001b[0m\u001b[1;33m\u001b[0m\u001b[0m\n\u001b[0;32m   1702\u001b[0m             \u001b[1;32mpass\u001b[0m\u001b[1;33m\u001b[0m\u001b[1;33m\u001b[0m\u001b[0m\n",
      "\u001b[1;32m~\\Miniconda3\\envs\\ttim\\lib\\site-packages\\scipy\\optimize\\minpack.py\u001b[0m in \u001b[0;36mleastsq\u001b[1;34m(func, x0, args, Dfun, full_output, col_deriv, ftol, xtol, gtol, maxfev, epsfcn, factor, diag)\u001b[0m\n\u001b[0;32m    408\u001b[0m     \u001b[1;32mif\u001b[0m \u001b[1;32mnot\u001b[0m \u001b[0misinstance\u001b[0m\u001b[1;33m(\u001b[0m\u001b[0margs\u001b[0m\u001b[1;33m,\u001b[0m \u001b[0mtuple\u001b[0m\u001b[1;33m)\u001b[0m\u001b[1;33m:\u001b[0m\u001b[1;33m\u001b[0m\u001b[1;33m\u001b[0m\u001b[0m\n\u001b[0;32m    409\u001b[0m         \u001b[0margs\u001b[0m \u001b[1;33m=\u001b[0m \u001b[1;33m(\u001b[0m\u001b[0margs\u001b[0m\u001b[1;33m,\u001b[0m\u001b[1;33m)\u001b[0m\u001b[1;33m\u001b[0m\u001b[1;33m\u001b[0m\u001b[0m\n\u001b[1;32m--> 410\u001b[1;33m     \u001b[0mshape\u001b[0m\u001b[1;33m,\u001b[0m \u001b[0mdtype\u001b[0m \u001b[1;33m=\u001b[0m \u001b[0m_check_func\u001b[0m\u001b[1;33m(\u001b[0m\u001b[1;34m'leastsq'\u001b[0m\u001b[1;33m,\u001b[0m \u001b[1;34m'func'\u001b[0m\u001b[1;33m,\u001b[0m \u001b[0mfunc\u001b[0m\u001b[1;33m,\u001b[0m \u001b[0mx0\u001b[0m\u001b[1;33m,\u001b[0m \u001b[0margs\u001b[0m\u001b[1;33m,\u001b[0m \u001b[0mn\u001b[0m\u001b[1;33m)\u001b[0m\u001b[1;33m\u001b[0m\u001b[1;33m\u001b[0m\u001b[0m\n\u001b[0m\u001b[0;32m    411\u001b[0m     \u001b[0mm\u001b[0m \u001b[1;33m=\u001b[0m \u001b[0mshape\u001b[0m\u001b[1;33m[\u001b[0m\u001b[1;36m0\u001b[0m\u001b[1;33m]\u001b[0m\u001b[1;33m\u001b[0m\u001b[1;33m\u001b[0m\u001b[0m\n\u001b[0;32m    412\u001b[0m \u001b[1;33m\u001b[0m\u001b[0m\n",
      "\u001b[1;32m~\\Miniconda3\\envs\\ttim\\lib\\site-packages\\scipy\\optimize\\minpack.py\u001b[0m in \u001b[0;36m_check_func\u001b[1;34m(checker, argname, thefunc, x0, args, numinputs, output_shape)\u001b[0m\n\u001b[0;32m     22\u001b[0m def _check_func(checker, argname, thefunc, x0, args, numinputs,\n\u001b[0;32m     23\u001b[0m                 output_shape=None):\n\u001b[1;32m---> 24\u001b[1;33m     \u001b[0mres\u001b[0m \u001b[1;33m=\u001b[0m \u001b[0matleast_1d\u001b[0m\u001b[1;33m(\u001b[0m\u001b[0mthefunc\u001b[0m\u001b[1;33m(\u001b[0m\u001b[1;33m*\u001b[0m\u001b[1;33m(\u001b[0m\u001b[1;33m(\u001b[0m\u001b[0mx0\u001b[0m\u001b[1;33m[\u001b[0m\u001b[1;33m:\u001b[0m\u001b[0mnuminputs\u001b[0m\u001b[1;33m]\u001b[0m\u001b[1;33m,\u001b[0m\u001b[1;33m)\u001b[0m \u001b[1;33m+\u001b[0m \u001b[0margs\u001b[0m\u001b[1;33m)\u001b[0m\u001b[1;33m)\u001b[0m\u001b[1;33m)\u001b[0m\u001b[1;33m\u001b[0m\u001b[1;33m\u001b[0m\u001b[0m\n\u001b[0m\u001b[0;32m     25\u001b[0m     \u001b[1;32mif\u001b[0m \u001b[1;33m(\u001b[0m\u001b[0moutput_shape\u001b[0m \u001b[1;32mis\u001b[0m \u001b[1;32mnot\u001b[0m \u001b[1;32mNone\u001b[0m\u001b[1;33m)\u001b[0m \u001b[1;32mand\u001b[0m \u001b[1;33m(\u001b[0m\u001b[0mshape\u001b[0m\u001b[1;33m(\u001b[0m\u001b[0mres\u001b[0m\u001b[1;33m)\u001b[0m \u001b[1;33m!=\u001b[0m \u001b[0moutput_shape\u001b[0m\u001b[1;33m)\u001b[0m\u001b[1;33m:\u001b[0m\u001b[1;33m\u001b[0m\u001b[1;33m\u001b[0m\u001b[0m\n\u001b[0;32m     26\u001b[0m         \u001b[1;32mif\u001b[0m \u001b[1;33m(\u001b[0m\u001b[0moutput_shape\u001b[0m\u001b[1;33m[\u001b[0m\u001b[1;36m0\u001b[0m\u001b[1;33m]\u001b[0m \u001b[1;33m!=\u001b[0m \u001b[1;36m1\u001b[0m\u001b[1;33m)\u001b[0m\u001b[1;33m:\u001b[0m\u001b[1;33m\u001b[0m\u001b[1;33m\u001b[0m\u001b[0m\n",
      "\u001b[1;32m~\\Miniconda3\\envs\\ttim\\lib\\site-packages\\lmfit\\minimizer.py\u001b[0m in \u001b[0;36m__residual\u001b[1;34m(self, fvars, apply_bounds_transformation)\u001b[0m\n\u001b[0;32m    602\u001b[0m             \u001b[1;32mraise\u001b[0m \u001b[0mAbortFitException\u001b[0m\u001b[1;33m(\u001b[0m\u001b[1;34m\"fit aborted by user.\"\u001b[0m\u001b[1;33m)\u001b[0m\u001b[1;33m\u001b[0m\u001b[1;33m\u001b[0m\u001b[0m\n\u001b[0;32m    603\u001b[0m         \u001b[1;32melse\u001b[0m\u001b[1;33m:\u001b[0m\u001b[1;33m\u001b[0m\u001b[1;33m\u001b[0m\u001b[0m\n\u001b[1;32m--> 604\u001b[1;33m             return _nan_policy(np.asarray(out).ravel(),\n\u001b[0m\u001b[0;32m    605\u001b[0m                                nan_policy=self.nan_policy)\n\u001b[0;32m    606\u001b[0m \u001b[1;33m\u001b[0m\u001b[0m\n",
      "\u001b[1;32m~\\Miniconda3\\envs\\ttim\\lib\\site-packages\\lmfit\\minimizer.py\u001b[0m in \u001b[0;36m_nan_policy\u001b[1;34m(arr, nan_policy, handle_inf)\u001b[0m\n\u001b[0;32m   2445\u001b[0m                    \u001b[1;34m'handle this! Please read https://lmfit.github.io/lmfit-py/faq.html#i-get-errors-from-nan-in-my-fit-what-can-i-do '\u001b[0m\u001b[1;33m\u001b[0m\u001b[1;33m\u001b[0m\u001b[0m\n\u001b[0;32m   2446\u001b[0m                    'for more information.')\n\u001b[1;32m-> 2447\u001b[1;33m             \u001b[1;32mraise\u001b[0m \u001b[0mValueError\u001b[0m\u001b[1;33m(\u001b[0m\u001b[0mmsg\u001b[0m\u001b[1;33m)\u001b[0m\u001b[1;33m\u001b[0m\u001b[1;33m\u001b[0m\u001b[0m\n\u001b[0m\u001b[0;32m   2448\u001b[0m     \u001b[1;32mreturn\u001b[0m \u001b[0marr\u001b[0m\u001b[1;33m\u001b[0m\u001b[1;33m\u001b[0m\u001b[0m\n\u001b[0;32m   2449\u001b[0m \u001b[1;33m\u001b[0m\u001b[0m\n",
      "\u001b[1;31mValueError\u001b[0m: NaN values detected in your input data or the output of your objective/model function - fitting algorithms cannot handle this! Please read https://lmfit.github.io/lmfit-py/faq.html#i-get-errors-from-nan-in-my-fit-what-can-i-do for more information."
     ]
    }
   ],
   "source": [
    "ca3 = Calibrate(ml3)\n",
    "ca3.set_parameter(name='kaq0', initial=50, pmin=0)\n",
    "ca3.set_parameter(name='Saq0', initial=1e-4,pmin=0)\n",
    "ca3.set_parameter_by_reference(name='res', parameter=w3.res[:], initial=1,pmin=0)\n",
    "ca3.seriesinwell(name='obs', element=w3,t=t, h=h)\n",
    "ca3.fit(report=True)"
   ]
  },
  {
   "cell_type": "code",
   "execution_count": null,
   "metadata": {},
   "outputs": [],
   "source": [
    "display(ca3.parameters)\n",
    "print('RMSE:', ca3.rmse())"
   ]
  },
  {
   "cell_type": "code",
   "execution_count": null,
   "metadata": {},
   "outputs": [],
   "source": [
    "hm3 = w3.headinside(t)\n",
    "plt.figure(figsize=(8, 5))\n",
    "plt.loglog(t, -h, '.', label='obs')\n",
    "plt.loglog(t, -hm3[0], label='ttim')\n",
    "plt.xlabel('time(d)')\n",
    "plt.ylabel('head(m)')\n",
    "plt.legend();"
   ]
  },
  {
   "cell_type": "markdown",
   "metadata": {},
   "source": [
    "According to rmse and the Akaike criteria, log curve fitting solution performs worse than linear curve fitting. The results reported in following table are from models calibrated by linear curve fitting solution."
   ]
  },
  {
   "cell_type": "markdown",
   "metadata": {},
   "source": [
    "## Step 10. Analysis and summary of values modeled by different methods"
   ]
  },
  {
   "cell_type": "code",
   "execution_count": 47,
   "metadata": {},
   "outputs": [
    {
     "data": {
      "text/html": [
       "<div>\n",
       "<style scoped>\n",
       "    .dataframe tbody tr th:only-of-type {\n",
       "        vertical-align: middle;\n",
       "    }\n",
       "\n",
       "    .dataframe tbody tr th {\n",
       "        vertical-align: top;\n",
       "    }\n",
       "\n",
       "    .dataframe thead th {\n",
       "        text-align: right;\n",
       "    }\n",
       "</style>\n",
       "<table border=\"1\" class=\"dataframe\">\n",
       "  <thead>\n",
       "    <tr style=\"text-align: right;\">\n",
       "      <th></th>\n",
       "      <th>k [m/d]</th>\n",
       "      <th>Ss [1/m]</th>\n",
       "      <th>res</th>\n",
       "      <th>RMSE [m]</th>\n",
       "    </tr>\n",
       "  </thead>\n",
       "  <tbody>\n",
       "    <tr>\n",
       "      <th>MLU-log</th>\n",
       "      <td>51.53</td>\n",
       "      <td>0.000816</td>\n",
       "      <td>0.022</td>\n",
       "      <td>0.007560</td>\n",
       "    </tr>\n",
       "    <tr>\n",
       "      <th>TTim-single layer</th>\n",
       "      <td>44.549699</td>\n",
       "      <td>0.000003</td>\n",
       "      <td>0.015028</td>\n",
       "      <td>0.005515</td>\n",
       "    </tr>\n",
       "    <tr>\n",
       "      <th>TTim-two layers</th>\n",
       "      <td>44.527952</td>\n",
       "      <td>0.000006</td>\n",
       "      <td>0.016204</td>\n",
       "      <td>0.005512</td>\n",
       "    </tr>\n",
       "  </tbody>\n",
       "</table>\n",
       "</div>"
      ],
      "text/plain": [
       "                     k [m/d]  Ss [1/m]       res  RMSE [m]\n",
       "MLU-log                51.53  0.000816     0.022  0.007560\n",
       "TTim-single layer  44.549699  0.000003  0.015028  0.005515\n",
       "TTim-two layers    44.527952  0.000006  0.016204  0.005512"
      ]
     },
     "execution_count": 47,
     "metadata": {},
     "output_type": "execute_result"
    }
   ],
   "source": [
    "ta = pd.DataFrame(columns=['k [m/d]', 'Ss [1/m]', 'res'], \\\n",
    "                 index=['MLU-log', 'TTim-single layer', 'TTim-two layers'])\n",
    "ta.loc['TTim-single layer'] = ca0.parameters['optimal'].values\n",
    "ta.loc['TTim-two layers'] = ca1.parameters['optimal'].values\n",
    "ta.loc['MLU-log'] = [51.530, 8.16E-04, 0.022]\n",
    "ta['RMSE [m]'] = [0.00756, ca0.rmse(), ca1.rmse()]\n",
    "ta"
   ]
  },
  {
   "cell_type": "markdown",
   "metadata": {},
   "source": [
    "Both TTim models agree with each other with similar parameters. MLU adjusted parameters are higher than the ones in TTim."
   ]
  },
  {
   "cell_type": "code",
   "execution_count": 48,
   "metadata": {},
   "outputs": [
    {
     "data": {
      "image/png": "[encoded data removed]",
      "text/plain": [
       "<Figure size 720x504 with 1 Axes>"
      ]
     },
     "metadata": {
      "needs_background": "light"
     },
     "output_type": "display_data"
    }
   ],
   "source": [
    "# Preparing the DataFrame:\n",
    "t1 = pd.DataFrame(columns=['kaq - opt', 'kaq - 95%'], index = ['MLU','TTim - single layer','TTim - two layers']) \n",
    "\n",
    "t1.loc['MLU'] = [51.53, 4*1e-2*51.53]\n",
    "t1.loc['TTim - single layer'] = [ca0.parameters.loc['kaq0','optimal'],2*ca0.parameters.loc['kaq0','std']]\n",
    "t1.loc['TTim - two layers'] = [ca1.parameters.loc['kaq0','optimal'],2*ca1.parameters.loc['kaq0','std']]\n",
    "\n",
    "# Plotting\n",
    "\n",
    "plt.figure(figsize = (10,7))\n",
    "\n",
    "plt.errorbar(x = t1.index, y = t1['kaq - opt'], yerr = [t1['kaq - 95%'], t1['kaq - 95%']],\n",
    "    marker='o', linestyle='', markersize=12)\n",
    "#plt.legend()\n",
    "plt.suptitle(\"Error bar plot of calibrated hydraulic conductivities\")\n",
    "plt.ylabel('K [m/d]')\n",
    "#plt.ylim([36,40])\n",
    "plt.xlabel('Model');"
   ]
  },
  {
   "cell_type": "markdown",
   "metadata": {},
   "source": [
    "Comparing the adjusted errorbars for hydraulic conductivities for our models, we see that the TTim models do not overlap the MLU range."
   ]
  },
  {
   "cell_type": "markdown",
   "metadata": {},
   "source": [
    "## References\n",
    "\n",
    "* Carlson F, Randall J (2012) MLU: a Windows application for the analysis of aquifer tests and the design of well fields in layered systems. Ground Water 50(4):504–510\n",
    "* Duffield, G.M., 2007. AQTESOLV for Windows Version 4.5 User's Guide, HydroSOLVE, Inc., Reston, VA.\n",
    "* Newville, M.,Stensitzki, T., Allen, D.B., Ingargiola, A. (2014) LMFIT: Non Linear Least-Squares Minimization and Curve Fitting for Python.https://dx.doi.org/10.5281/zenodo.11813. https://lmfit.github.io/lmfit-py/intro.html (last access: August,2021).\n",
    "* Yang, Xinzhu (2020) Application and comparison of different methodsfor aquifer test analysis using TTim. Master Thesis, Delft University of Technology (TUDelft), Delft, The Netherlands."
   ]
  },
  {
   "cell_type": "markdown",
   "metadata": {},
   "source": [
    "#### Next Notebook: [Leaky 3 - Texas Hill](leaky3_texashill.ipynb)"
   ]
  }
 ],
 "metadata": {
  "kernelspec": {
   "display_name": "Python 3 (ipykernel)",
   "language": "python",
   "name": "python3"
  },
  "language_info": {
   "codemirror_mode": {
    "name": "ipython",
    "version": 3
   },
   "file_extension": ".py",
   "mimetype": "text/x-python",
   "name": "python",
   "nbconvert_exporter": "python",
   "pygments_lexer": "ipython3",
   "version": "3.8.5"
  }
 },
 "nbformat": 4,
 "nbformat_minor": 2
}
