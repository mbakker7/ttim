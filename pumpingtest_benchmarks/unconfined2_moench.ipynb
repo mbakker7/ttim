{
 "cells": [
  {
   "cell_type": "markdown",
   "metadata": {},
   "source": [
    "# 2.Test for an anisotropic water-table aquifer - Moench Example\n",
    "**This test is taken from examples presented in MLU tutorial.**"
   ]
  },
  {
   "cell_type": "markdown",
   "metadata": {
    "tags": []
   },
   "source": [
    "## Introduction and Conceptual Model\n",
    "\n",
    "This test is based on a synthetic example reported by Barlow and Moench (1999), utilizing an analytical solution developed by Moench and Allen (1997) for the transient flow of partially-penetrating wells in unconfined aquifers. The data reported has been used in MLU (Carlson and Randall, 2012) to check the model performance.\n",
    "\n",
    "We will reproduce the work of Yang (2020) to explore the performance of anisotropic water table aquifer modelling with TTim and compare the results with the published values and the MLU solution.\n",
    "\n",
    "The conceptual model of the test is of an aquifer, partially saturated with water (10 m water table). A pumping well is screened from 5 to 10 m depth. The well and the well-casing radius is 0.1 m. Drawdown is recorded at the pumping well and four piezometers located at two different distances and two different depths. Two piezometers, PS1 and PS2, are located at one-meter depth below the water table and 3.16 and 31.6 m distance, respectively. Another two (PD1 and PD2) piezometers are at 7.5 m depth below the water table and the same distances,  directly below the previous piezometers. The figure below shows the location of the well and the piezometers\n",
    "\n",
    "Pumping starts at time t = 0 at a constant rate of 172.8 m3/d. Drawdown is recorded until t = 3 days."
   ]
  },
  {
   "cell_type": "code",
   "execution_count": 107,
   "metadata": {
    "jupyter": {
     "source_hidden": true
    },
    "tags": []
   },
   "outputs": [
    {
     "data": {
      "image/png": "[encoded data removed]",
      "text/plain": [
       "<Figure size 1008x648 with 1 Axes>"
      ]
     },
     "metadata": {
      "needs_background": "light"
     },
     "output_type": "display_data"
    }
   ],
   "source": [
    "import matplotlib.pyplot as plt\n",
    "import numpy as np\n",
    "\n",
    "##Now printing the conceptual model figure:\n",
    "\n",
    "fig = plt.figure(figsize=(14, 9))\n",
    "ax = fig.add_subplot(1,1,1)\n",
    "#sky\n",
    "sky = plt.Rectangle((-20,2), width = 70, height = 5, fc = 'b', zorder=0, alpha=0.1)\n",
    "ax.add_patch(sky)\n",
    "\n",
    "#Aquifer:\n",
    "ground = plt.Rectangle((-20,-10), width = 70, height = 12, fc = np.array([209,179,127])/255, zorder=0, alpha=0.9)\n",
    "ax.add_patch(ground)\n",
    "\n",
    "\n",
    "\n",
    "well = plt.Rectangle((-0.5,-10), width = 1, height = 12, fc = np.array([200,200,200])/255, zorder=1)\n",
    "ax.add_patch(well)\n",
    "\n",
    "#Wellhead\n",
    "wellhead = plt.Rectangle((-0.75,2),width = 1.5, height = 1.5, fc = np.array([200,200,200])/255, zorder=2, ec='k')\n",
    "ax.add_patch(wellhead)\n",
    "\n",
    "#Screen for the well:\n",
    "screen = plt.Rectangle((-0.5,-10), width = 1, height = 5, fc = np.array([200,200,200])/255, alpha=1, zorder = 2, ec = \"k\", ls = '--')\n",
    "screen.set_linewidth(2)\n",
    "ax.add_patch(screen)\n",
    "pumping_arrow = plt.Arrow(x = 1.1,y = 3, dx = 3, dy = 0, color = \"#00035b\")\n",
    "ax.add_patch(pumping_arrow)\n",
    "ax.text(x = 4.2, y = 3, s = r'$ Q = 172.8 \\frac{m^3}{d}$', fontsize = 'large' )\n",
    "\n",
    "#Piezometers\n",
    "piez1 =plt.Rectangle((31.4,-10), width = 0.5, height = 12, fc = np.array([200,200,200])/255, zorder=1)\n",
    "screen_piez_1 = plt.Rectangle((31.4,-8), width = 0.5, height = 1, fc = np.array([200,200,200])/255, alpha=1, zorder = 2, ec = \"k\", ls = '--')\n",
    "screen_piez_1.set_linewidth(2)\n",
    "screen_piez_2 = plt.Rectangle((31.4,-1.5), width = 0.5, height = 1, fc = np.array([200,200,200])/255, alpha=1, zorder = 2, ec = \"k\", ls = '--')\n",
    "screen_piez_2.set_linewidth(2)\n",
    "\n",
    "ax.add_patch(piez1)\n",
    "ax.add_patch(screen_piez_1)\n",
    "ax.add_patch(screen_piez_2)\n",
    "\n",
    "piez2 =plt.Rectangle((2.75,-10), width = 0.5, height = 12, fc = np.array([200,200,200])/255, zorder=1)\n",
    "screen_piez_3 = plt.Rectangle((2.75,-8), width = 0.5, height = 1, fc = np.array([200,200,200])/255, alpha=1, zorder = 2, ec = \"k\", ls = '--')\n",
    "screen_piez_3.set_linewidth(2)\n",
    "screen_piez_4 = plt.Rectangle((2.75,-1.5), width = 0.5, height = 1, fc = np.array([200,200,200])/255, alpha=1, zorder = 2, ec = \"k\", ls = '--')\n",
    "screen_piez_4.set_linewidth(2)\n",
    "\n",
    "ax.add_patch(piez2)\n",
    "ax.add_patch(screen_piez_3)\n",
    "ax.add_patch(screen_piez_4)\n",
    "\n",
    "#last line\n",
    "line = plt.Line2D(xdata= [-200,1200], ydata = [2,2], color = \"k\")\n",
    "ax.add_line(line)\n",
    "\n",
    "#Water table\n",
    "line2 = plt.Line2D(xdata = [-200,1200], ydata = [0,0], color = 'b')\n",
    "ax.add_line(line2)\n",
    "\n",
    "ax.text(-9,0.5, s = 'Water Table', fontsize = 'large', color = 'b',bbox = {'fc' : 'w'})\n",
    "ax.text(4.5, -1, s = 'PS1', bbox = {'fc' : 'w'})\n",
    "ax.text(34, -1, s = 'PS2', bbox = {'fc' : 'w'})\n",
    "ax.text(4.5, -7.5, s = 'PD1', bbox = {'fc' : 'w'})\n",
    "ax.text(34, -7.5, s = 'PD2', bbox = {'fc' : 'w'})\n",
    "\n",
    "ax.set_xlim([-10,50])\n",
    "ax.set_ylim([-10,4])\n",
    "ax.set_xlabel('Distance [m]')\n",
    "ax.set_ylabel('Relative height [m]')\n",
    "ax.set_title('Conceptual Model - Vennebulten Example');"
   ]
  },
  {
   "cell_type": "markdown",
   "metadata": {},
   "source": [
    "## Step 1. Import required libraries"
   ]
  },
  {
   "cell_type": "code",
   "execution_count": 2,
   "metadata": {},
   "outputs": [],
   "source": [
    "import numpy as np\n",
    "import matplotlib.pyplot as plt\n",
    "from ttim import *\n",
    "import pandas as pd"
   ]
  },
  {
   "cell_type": "markdown",
   "metadata": {},
   "source": [
    "## Step 2. Set basic parameters"
   ]
  },
  {
   "cell_type": "code",
   "execution_count": 6,
   "metadata": {},
   "outputs": [],
   "source": [
    "b = 10 #aquifer thickness in m\n",
    "Q = 172.8 #constant discharge rate in m^3/d\n",
    "rw = 0.1 #well radius in m\n",
    "rc = 0.1 #casing radius in m\n",
    "r1 = 3.16 # distance of closer wells in m \n",
    "r2 = 31.6 # distance of wells more far away in m"
   ]
  },
  {
   "cell_type": "markdown",
   "metadata": {},
   "source": [
    "## Step 3. Load datasets of observation wells\n",
    "\n",
    "The dataset for each well consists of a column with the time data in seconds and drawdown in meters. We are loading it and converting it to days and meters."
   ]
  },
  {
   "cell_type": "code",
   "execution_count": 5,
   "metadata": {},
   "outputs": [],
   "source": [
    "\n",
    "data0 = np.loadtxt('data/moench_pumped.txt', skiprows=1)\n",
    "t0 = data0[:, 0] / 60 / 60 / 24 #convert time from seconds to days\n",
    "h0 = -data0[:, 1] #converting drawdown to heads\n",
    "data1 = np.loadtxt('data/moench_ps1.txt', skiprows=1)\n",
    "t1 = data1[:, 0] / 60 / 60 / 24 #convert time from seconds to days\n",
    "h1 = -data1[:, 1]\n",
    "data2 = np.loadtxt('data/moench_pd1.txt', skiprows=1)\n",
    "t2 = data2[:, 0] / 60 / 60 / 24 #convert time from seconds to days\n",
    "h2 = -data2[:, 1]\n",
    "data3 = np.loadtxt('data/moench_ps2.txt', skiprows=1)\n",
    "t3 = data3[:, 0] / 60 / 60 / 24 #convert time from seconds to days\n",
    "h3 = -data3[:, 1]\n",
    "data4 = np.loadtxt('data/moench_pd2.txt', skiprows=1)\n",
    "t4 = data4[:, 0] / 60 / 60 / 24 #convert time from seconds to days\n",
    "h4 = -data4[:, 1]"
   ]
  },
  {
   "cell_type": "markdown",
   "metadata": {},
   "source": [
    "## Step 4. Creating a TTim model\n",
    "\n",
    "We will create an initial model divided in the same way as in the MLU documentation. A first layer with 0.1 m thick and phreatic storage, followed by a 2 m thick layer where the shallow piezometers are located, a 3 m layer and finally, a 5 m layer where the pump is placed and the last piezometers are screened. Additionally, we will set the model parameters with the given ones in Barlow and Moench (1999) and compare the results with the heads given in the paper."
   ]
  },
  {
   "cell_type": "code",
   "execution_count": 67,
   "metadata": {},
   "outputs": [],
   "source": [
    "#Set kaq, Saq, Sy and kzoverkh as given in Moench (1997)\n",
    "kaq = 1e-4 * 60 * 60 * 24 #convert from m/s to m/d\n",
    "Sy = 0.2\n",
    "Saq = 2e-5\n",
    "zh = 0.5 #kzoverkh"
   ]
  },
  {
   "cell_type": "code",
   "execution_count": 7,
   "metadata": {},
   "outputs": [
    {
     "name": "stdout",
     "output_type": "stream",
     "text": [
      "self.neq  1\n",
      "solution complete\n"
     ]
    }
   ],
   "source": [
    "ml1 = Model3D(kaq=kaq, z=[0, -0.1, -2.1, -5.1, -10.1], Saq=[Sy, Saq, Saq, Saq], \\\n",
    "              kzoverkh=zh, tmin=1e-5, tmax=3)\n",
    "w1 = Well(ml1, xw=0, yw=0, rw=rw, rc=rc, tsandQ=[(0, Q)], layers=3)\n",
    "ml1.solve()"
   ]
  },
  {
   "cell_type": "markdown",
   "metadata": {},
   "source": [
    "## Step 5. Check the TTim model with values obtained by Moench"
   ]
  },
  {
   "cell_type": "code",
   "execution_count": 97,
   "metadata": {},
   "outputs": [
    {
     "data": {
      "image/png": "[encoded data removed]",
      "text/plain": [
       "<Figure size 576x360 with 1 Axes>"
      ]
     },
     "metadata": {
      "needs_background": "light"
     },
     "output_type": "display_data"
    }
   ],
   "source": [
    "hm1 = ml1.head(r1, 0, t1, layers=1)[0]\n",
    "hm2 = ml1.head(r1, 0, t2, layers=3)[0]\n",
    "hm3 = ml1.head(r2, 0, t3, layers=1)[0]\n",
    "hm4 = ml1.head(r2, 0, t4, layers=3)[0]\n",
    "hm0 = ml1.head(0, 0, t0, layers=3)[0]\n",
    "plt.figure(figsize=(8, 5))\n",
    "plt.semilogx(t0, h0, '.', label='pumped')\n",
    "plt.semilogx(t0, hm0, label='ttim pumped')\n",
    "plt.semilogx(t1, h1, '.', label='PS1')\n",
    "plt.semilogx(t1, hm1, label='ttim PS1')\n",
    "plt.semilogx(t2, h2, '.', label='PD1')\n",
    "plt.semilogx(t2, hm2, label='ttim PD1')\n",
    "plt.semilogx(t3, h3, '.', label='PS2')\n",
    "plt.semilogx(t3, hm3, label='ttim PS2')\n",
    "plt.semilogx(t4, h4, '.', label='PD2')\n",
    "plt.semilogx(t4, hm4, label='ttim PD2')\n",
    "plt.xlabel('time [d]')\n",
    "plt.ylabel('head [m]')\n",
    "plt.title('Model Results - Simulation 1')\n",
    "plt.legend();"
   ]
  },
  {
   "cell_type": "markdown",
   "metadata": {},
   "source": [
    "Visually, TTim's solution is in good agreement with the model, but we can see that the simulated values in the pumping well and PD1 are a little below the values obtained in the analytical solution."
   ]
  },
  {
   "cell_type": "markdown",
   "metadata": {},
   "source": [
    "### Step 5.1. Calculate RMSE of TTim model"
   ]
  },
  {
   "cell_type": "code",
   "execution_count": 21,
   "metadata": {},
   "outputs": [
    {
     "name": "stdout",
     "output_type": "stream",
     "text": [
      "RMSE: 0.06131800013713286\n"
     ]
    }
   ],
   "source": [
    "rmse = np.sqrt(np.sum(np.sum((h1-hm1)**2)+np.sum((h2-hm2)**2)+np.sum((h3-hm3)**2)+np.sum((h4-hm4)**2)+np.sum((h0-hm0)**2))/\\\n",
    "    (len(h1)+len(h2)+len(h3)+len(h4)+len(h0)))\n",
    "\n",
    "print('RMSE:', rmse)"
   ]
  },
  {
   "cell_type": "markdown",
   "metadata": {},
   "source": [
    "The model has obtained a very close result with a good approximation to the analytical solution."
   ]
  },
  {
   "cell_type": "markdown",
   "metadata": {},
   "source": [
    "## Step 6. Model Calibration\n",
    "\n",
    "Now, instead of using the given values, we will try to find them through the TTim optimization framework. One can learn more about the calibration procedure and how to set the parameters in the following notebook: [Unconfined Test - Vennebulten](unconfined1_vennebulten.ipynb)"
   ]
  },
  {
   "cell_type": "code",
   "execution_count": 9,
   "metadata": {},
   "outputs": [
    {
     "name": "stdout",
     "output_type": "stream",
     "text": [
      "self.neq  1\n",
      "solution complete\n"
     ]
    }
   ],
   "source": [
    "ml2 = Model3D(kaq=1, z=[0, -0.1, -2.1, -5.1, -10.1], Saq=[0.1, 1e-4, 1e-4, 1e-4], \\\n",
    "              kzoverkh=1, tmin=1e-5, tmax=3)\n",
    "w2 = Well(ml2, xw=0, yw=0, rw=rw, rc=rc, tsandQ=[(0, Q)], layers=3)\n",
    "ml2.solve()"
   ]
  },
  {
   "cell_type": "code",
   "execution_count": 10,
   "metadata": {},
   "outputs": [
    {
     "name": "stdout",
     "output_type": "stream",
     "text": [
      "........................................................\n",
      "Fit succeeded.\n",
      "[[Fit Statistics]]\n",
      "    # fitting method   = leastsq\n",
      "    # function evals   = 53\n",
      "    # data points      = 70\n",
      "    # variables        = 4\n",
      "    chi-square         = 0.00754835\n",
      "    reduced chi-square = 1.1437e-04\n",
      "    Akaike info crit   = -631.444530\n",
      "    Bayesian info crit = -622.450549\n",
      "[[Variables]]\n",
      "    kaq0_3:    9.06760904 +/- 0.02235349 (0.25%) (init = 1)\n",
      "    Saq0:      0.17289377 +/- 0.00437414 (2.53%) (init = 0.2)\n",
      "    Saq1_3:    3.8719e-05 +/- 3.5511e-06 (9.17%) (init = 0.0001)\n",
      "    kzoverkh:  0.53506142 +/- 0.01014332 (1.90%) (init = 0.1)\n",
      "[[Correlations]] (unreported correlations are < 0.100)\n",
      "    C(kaq0_3, kzoverkh) = -0.832\n",
      "    C(kaq0_3, Saq0)     = -0.533\n",
      "    C(Saq0, kzoverkh)   =  0.339\n",
      "    C(Saq1_3, kzoverkh) = -0.127\n"
     ]
    }
   ],
   "source": [
    "ca2 = Calibrate(ml2)\n",
    "ca2.set_parameter(name='kaq0_3', initial=1)\n",
    "ca2.set_parameter(name='Saq0', initial=0.2)\n",
    "ca2.set_parameter(name='Saq1_3', initial=1e-4, pmin=0)\n",
    "ca2.set_parameter_by_reference(name='kzoverkh', parameter=ml2.aq.kzoverkh, \\\n",
    "                               initial=0.1, pmin=0)\n",
    "ca2.series(name='pumped', x=0, y=0, t=t0, h=h0, layer=3)\n",
    "ca2.series(name='PS1', x=r1, y=0, t=t1, h=h1, layer=1)\n",
    "ca2.series(name='PD1', x=r1, y=0, t=t2, h=h2, layer=3)\n",
    "ca2.series(name='PS2', x=r2, y=0, t=t3, h=h3, layer=1)\n",
    "ca2.series(name='PD2', x=r2, y=0, t=t4, h=h4, layer=3)\n",
    "ca2.fit()"
   ]
  },
  {
   "cell_type": "code",
   "execution_count": 12,
   "metadata": {
    "scrolled": true
   },
   "outputs": [
    {
     "data": {
      "text/html": [
       "<div>\n",
       "<style scoped>\n",
       "    .dataframe tbody tr th:only-of-type {\n",
       "        vertical-align: middle;\n",
       "    }\n",
       "\n",
       "    .dataframe tbody tr th {\n",
       "        vertical-align: top;\n",
       "    }\n",
       "\n",
       "    .dataframe thead th {\n",
       "        text-align: right;\n",
       "    }\n",
       "</style>\n",
       "<table border=\"1\" class=\"dataframe\">\n",
       "  <thead>\n",
       "    <tr style=\"text-align: right;\">\n",
       "      <th></th>\n",
       "      <th>optimal</th>\n",
       "      <th>std</th>\n",
       "      <th>perc_std</th>\n",
       "      <th>pmin</th>\n",
       "      <th>pmax</th>\n",
       "      <th>initial</th>\n",
       "      <th>parray</th>\n",
       "    </tr>\n",
       "  </thead>\n",
       "  <tbody>\n",
       "    <tr>\n",
       "      <th>kaq0_3</th>\n",
       "      <td>9.067609</td>\n",
       "      <td>0.022353</td>\n",
       "      <td>0.24652</td>\n",
       "      <td>-inf</td>\n",
       "      <td>inf</td>\n",
       "      <td>1</td>\n",
       "      <td>[9.067609039438935, 9.067609039438935, 9.06760...</td>\n",
       "    </tr>\n",
       "    <tr>\n",
       "      <th>Saq0</th>\n",
       "      <td>0.172894</td>\n",
       "      <td>0.004374</td>\n",
       "      <td>2.529956</td>\n",
       "      <td>-inf</td>\n",
       "      <td>inf</td>\n",
       "      <td>0.2</td>\n",
       "      <td>[0.1728937656090673]</td>\n",
       "    </tr>\n",
       "    <tr>\n",
       "      <th>Saq1_3</th>\n",
       "      <td>0.000039</td>\n",
       "      <td>0.000004</td>\n",
       "      <td>9.171577</td>\n",
       "      <td>0.0</td>\n",
       "      <td>inf</td>\n",
       "      <td>0.0001</td>\n",
       "      <td>[3.871884950035209e-05, 3.871884950035209e-05,...</td>\n",
       "    </tr>\n",
       "    <tr>\n",
       "      <th>kzoverkh</th>\n",
       "      <td>0.535061</td>\n",
       "      <td>0.010143</td>\n",
       "      <td>1.89573</td>\n",
       "      <td>0.0</td>\n",
       "      <td>inf</td>\n",
       "      <td>0.1</td>\n",
       "      <td>[0.5350614164837846, 0.5350614164837846, 0.535...</td>\n",
       "    </tr>\n",
       "  </tbody>\n",
       "</table>\n",
       "</div>"
      ],
      "text/plain": [
       "           optimal       std  perc_std  pmin  pmax initial  \\\n",
       "kaq0_3    9.067609  0.022353   0.24652  -inf   inf       1   \n",
       "Saq0      0.172894  0.004374  2.529956  -inf   inf     0.2   \n",
       "Saq1_3    0.000039  0.000004  9.171577   0.0   inf  0.0001   \n",
       "kzoverkh  0.535061  0.010143   1.89573   0.0   inf     0.1   \n",
       "\n",
       "                                                     parray  \n",
       "kaq0_3    [9.067609039438935, 9.067609039438935, 9.06760...  \n",
       "Saq0                                   [0.1728937656090673]  \n",
       "Saq1_3    [3.871884950035209e-05, 3.871884950035209e-05,...  \n",
       "kzoverkh  [0.5350614164837846, 0.5350614164837846, 0.535...  "
      ]
     },
     "metadata": {},
     "output_type": "display_data"
    },
    {
     "name": "stdout",
     "output_type": "stream",
     "text": [
      "RMSE: 0.010384292764449882\n"
     ]
    }
   ],
   "source": [
    "display(ca2.parameters)\n",
    "print('RMSE:', ca2.rmse())"
   ]
  },
  {
   "cell_type": "markdown",
   "metadata": {},
   "source": [
    "The values are close to the values in Moench."
   ]
  },
  {
   "cell_type": "code",
   "execution_count": 95,
   "metadata": {},
   "outputs": [
    {
     "data": {
      "image/png": "[encoded data removed]",
      "text/plain": [
       "<Figure size 576x360 with 1 Axes>"
      ]
     },
     "metadata": {
      "needs_background": "light"
     },
     "output_type": "display_data"
    }
   ],
   "source": [
    "hm0_2 = ml2.head(0, 0, t0, layers=3)[0]\n",
    "hm1_2 = ml2.head(r1, 0, t1, layers=1)[0]\n",
    "hm2_2 = ml2.head(r1, 0, t2, layers=3)[0]\n",
    "hm3_2 = ml2.head(r2, 0, t3, layers=1)[0]\n",
    "hm4_2 = ml2.head(r2, 0, t4, layers=3)[0]\n",
    "plt.figure(figsize=(8, 5))\n",
    "plt.semilogx(t0, h0, '.', label='pumped')\n",
    "plt.semilogx(t0, hm0_2, label='ttim pumped')\n",
    "plt.semilogx(t1, h1, '.', label='PS1')\n",
    "plt.semilogx(t1, hm1_2, label='ttim PS1')\n",
    "plt.semilogx(t2, h2, '.', label='PD1')\n",
    "plt.semilogx(t2, hm2_2, label='ttim PD1')\n",
    "plt.semilogx(t3, h3, ',', label='PS2')\n",
    "plt.semilogx(t3, hm3_2, label='ttim PS2')\n",
    "plt.semilogx(t4, h4, '.', label='PD2')\n",
    "plt.semilogx(t4, hm4_2, label='ttim PD2')\n",
    "plt.xlabel('time [d]')\n",
    "plt.ylabel('head [m]')\n",
    "plt.title('Model Results - Calibration 1')\n",
    "plt.legend();"
   ]
  },
  {
   "cell_type": "markdown",
   "metadata": {},
   "source": [
    "## Step 7. Creating and calibrating a model with more layers"
   ]
  },
  {
   "cell_type": "markdown",
   "metadata": {},
   "source": [
    "The calibration resulted in a lower error than the simulated model, which could mean that we could improve the conceptualization of the model in TTim. In this next step, we will increase the number of layers to better account for the vertical flow component. We will create an 18-layers model with 0.5 m thick layers, except at the layers in the piezometers where a 1 m thickness has been established to make sure the piezometers lie at the centre of the layer:\n"
   ]
  },
  {
   "cell_type": "code",
   "execution_count": 76,
   "metadata": {},
   "outputs": [
    {
     "name": "stdout",
     "output_type": "stream",
     "text": [
      "[  0.   -0.5  -1.5  -2.   -2.5  -3.   -3.5  -4.   -4.5  -5.   -5.5  -6.\n",
      "  -6.5  -7.   -8.   -8.5  -9.   -9.5 -10. ]\n",
      "2e-05\n"
     ]
    }
   ],
   "source": [
    "## Model Configuration:\n",
    "\n",
    "nlay = 18\n",
    "zlayers = (np.concatenate((np.array([0,-0.5,-1.5]),np.linspace(-2,-7,11),np.array([-8,-8.5,-9,-9.5,-10])))) #elevation of each layer\n",
    "Saq_n = 1e-4 * np.ones(nlay)\n",
    "Saq_n[0] = 0.1 # Setting the first storage as specific yield\n",
    "print(zlayers)\n",
    "print(Saq)"
   ]
  },
  {
   "cell_type": "code",
   "execution_count": 77,
   "metadata": {},
   "outputs": [
    {
     "name": "stdout",
     "output_type": "stream",
     "text": [
      "self.neq  9\n",
      "solution complete\n"
     ]
    }
   ],
   "source": [
    "ml3 = Model3D(kaq=1, z=zlayers, Saq=Saq_n, \\\n",
    "              kzoverkh=1, tmin=1e-5, tmax=3)\n",
    "w3 = Well(ml3, xw=0, yw=0, rw=rw, rc=rc, tsandQ=[(0, Q)], layers=range(9,18))\n",
    "ml3.solve()"
   ]
  },
  {
   "cell_type": "code",
   "execution_count": 62,
   "metadata": {},
   "outputs": [
    {
     "name": "stdout",
     "output_type": "stream",
     "text": [
      "........................................................\n",
      "Fit succeeded.\n",
      "[[Fit Statistics]]\n",
      "    # fitting method   = leastsq\n",
      "    # function evals   = 53\n",
      "    # data points      = 70\n",
      "    # variables        = 4\n",
      "    chi-square         = 0.01006002\n",
      "    reduced chi-square = 1.5242e-04\n",
      "    Akaike info crit   = -611.337680\n",
      "    Bayesian info crit = -602.343699\n",
      "[[Variables]]\n",
      "    kaq0_19:   9.27856112 +/- 0.02838741 (0.31%) (init = 1)\n",
      "    Saq0:      0.16370678 +/- 0.00485176 (2.96%) (init = 0.2)\n",
      "    Saq1_19:   3.7295e-05 +/- 4.0414e-06 (10.84%) (init = 0.0001)\n",
      "    kzoverkh:  0.41925556 +/- 0.00937066 (2.24%) (init = 0.1)\n",
      "[[Correlations]] (unreported correlations are < 0.100)\n",
      "    C(kaq0_19, kzoverkh) = -0.856\n",
      "    C(kaq0_19, Saq0)     = -0.539\n",
      "    C(Saq0, kzoverkh)    =  0.363\n",
      "    C(Saq1_19, kzoverkh) = -0.139\n"
     ]
    }
   ],
   "source": [
    "ca3 = Calibrate(ml3)\n",
    "ca3.set_parameter(name='kaq0_19', initial=1, pmin=0)\n",
    "ca3.set_parameter(name='Saq0', initial=0.2, pmin=0)\n",
    "ca3.set_parameter(name='Saq1_19', initial=1e-4, pmin=0)\n",
    "ca3.set_parameter_by_reference(name='kzoverkh', parameter=ml3.aq.kzoverkh, \\\n",
    "                               initial=0.1, pmin=0)\n",
    "ca3.series(name='pumped', x=0, y=0, t=t0, h=h0, layer=15)\n",
    "ca3.series(name='PS1', x=r1, y=0, t=t1, h=h1, layer=1)\n",
    "ca3.series(name='PD1', x=r1, y=0, t=t2, h=h2, layer=13)\n",
    "ca3.series(name='PS2', x=r2, y=0, t=t3, h=h3, layer=1)\n",
    "ca3.series(name='PD2', x=r2, y=0, t=t4, h=h4, layer=13)\n",
    "ca3.fit()"
   ]
  },
  {
   "cell_type": "code",
   "execution_count": 63,
   "metadata": {},
   "outputs": [
    {
     "data": {
      "text/html": [
       "<div>\n",
       "<style scoped>\n",
       "    .dataframe tbody tr th:only-of-type {\n",
       "        vertical-align: middle;\n",
       "    }\n",
       "\n",
       "    .dataframe tbody tr th {\n",
       "        vertical-align: top;\n",
       "    }\n",
       "\n",
       "    .dataframe thead th {\n",
       "        text-align: right;\n",
       "    }\n",
       "</style>\n",
       "<table border=\"1\" class=\"dataframe\">\n",
       "  <thead>\n",
       "    <tr style=\"text-align: right;\">\n",
       "      <th></th>\n",
       "      <th>optimal</th>\n",
       "      <th>std</th>\n",
       "      <th>perc_std</th>\n",
       "      <th>pmin</th>\n",
       "      <th>pmax</th>\n",
       "      <th>initial</th>\n",
       "      <th>parray</th>\n",
       "    </tr>\n",
       "  </thead>\n",
       "  <tbody>\n",
       "    <tr>\n",
       "      <th>kaq0_19</th>\n",
       "      <td>9.278561</td>\n",
       "      <td>0.028387</td>\n",
       "      <td>0.305946</td>\n",
       "      <td>0</td>\n",
       "      <td>inf</td>\n",
       "      <td>1</td>\n",
       "      <td>[9.27856112341672, 9.27856112341672, 9.2785611...</td>\n",
       "    </tr>\n",
       "    <tr>\n",
       "      <th>Saq0</th>\n",
       "      <td>0.163707</td>\n",
       "      <td>0.004852</td>\n",
       "      <td>2.96369</td>\n",
       "      <td>0</td>\n",
       "      <td>inf</td>\n",
       "      <td>0.2</td>\n",
       "      <td>[0.16370677960067948]</td>\n",
       "    </tr>\n",
       "    <tr>\n",
       "      <th>Saq1_19</th>\n",
       "      <td>0.000037</td>\n",
       "      <td>0.000004</td>\n",
       "      <td>10.83639</td>\n",
       "      <td>0</td>\n",
       "      <td>inf</td>\n",
       "      <td>0.0001</td>\n",
       "      <td>[3.729472631608388e-05, 3.729472631608388e-05,...</td>\n",
       "    </tr>\n",
       "    <tr>\n",
       "      <th>kzoverkh</th>\n",
       "      <td>0.419256</td>\n",
       "      <td>0.009371</td>\n",
       "      <td>2.23507</td>\n",
       "      <td>0</td>\n",
       "      <td>inf</td>\n",
       "      <td>0.1</td>\n",
       "      <td>[0.4192555597977987, 0.4192555597977987, 0.419...</td>\n",
       "    </tr>\n",
       "  </tbody>\n",
       "</table>\n",
       "</div>"
      ],
      "text/plain": [
       "           optimal       std  perc_std pmin  pmax initial  \\\n",
       "kaq0_19   9.278561  0.028387  0.305946    0   inf       1   \n",
       "Saq0      0.163707  0.004852   2.96369    0   inf     0.2   \n",
       "Saq1_19   0.000037  0.000004  10.83639    0   inf  0.0001   \n",
       "kzoverkh  0.419256  0.009371   2.23507    0   inf     0.1   \n",
       "\n",
       "                                                     parray  \n",
       "kaq0_19   [9.27856112341672, 9.27856112341672, 9.2785611...  \n",
       "Saq0                                  [0.16370677960067948]  \n",
       "Saq1_19   [3.729472631608388e-05, 3.729472631608388e-05,...  \n",
       "kzoverkh  [0.4192555597977987, 0.4192555597977987, 0.419...  "
      ]
     },
     "metadata": {},
     "output_type": "display_data"
    },
    {
     "name": "stdout",
     "output_type": "stream",
     "text": [
      "RMSE: 0.011988102564604903\n"
     ]
    }
   ],
   "source": [
    "display(ca3.parameters)\n",
    "print('RMSE:', ca3.rmse())"
   ]
  },
  {
   "cell_type": "code",
   "execution_count": 64,
   "metadata": {},
   "outputs": [
    {
     "data": {
      "image/png": "[encoded data removed]",
      "text/plain": [
       "<Figure size 576x360 with 1 Axes>"
      ]
     },
     "metadata": {
      "needs_background": "light"
     },
     "output_type": "display_data"
    }
   ],
   "source": [
    "hm0_3 = ml3.head(0, 0, t0, layers=15)[0]\n",
    "hm1_3 = ml3.head(r1, 0, t1, layers=1)[0]\n",
    "hm2_3 = ml3.head(r1, 0, t2, layers=13)[0]\n",
    "hm3_3 = ml3.head(r2, 0, t3, layers=1)[0]\n",
    "hm4_3 = ml3.head(r2, 0, t4, layers=13)[0]\n",
    "plt.figure(figsize=(8, 5))\n",
    "plt.semilogx(t0, h0, '.', label='pumped')\n",
    "plt.semilogx(t0, hm0_3, label='ttim pumped')\n",
    "plt.semilogx(t1, h1, '.', label='PS1')\n",
    "plt.semilogx(t1, hm1_3, label='ttim PS1')\n",
    "plt.semilogx(t2, h2, '.', label='PD1')\n",
    "plt.semilogx(t2, hm2_3, label='ttim PD1')\n",
    "plt.semilogx(t3, h3, ',', label='PS2')\n",
    "plt.semilogx(t3, hm3_3, label='ttim PS2')\n",
    "plt.semilogx(t4, h4, '.', label='PD2')\n",
    "plt.semilogx(t4, hm4_3, label='ttim PD2');"
   ]
  },
  {
   "cell_type": "markdown",
   "metadata": {},
   "source": [
    "Increasing the number of layers has not improved the model calibration performance. Let's see how the model behaves with the same parameters from the analytical solution:"
   ]
  },
  {
   "cell_type": "markdown",
   "metadata": {},
   "source": [
    "### Step 7.1. Simulating multi-layered model with Moench's parameters"
   ]
  },
  {
   "cell_type": "code",
   "execution_count": 78,
   "metadata": {},
   "outputs": [
    {
     "name": "stdout",
     "output_type": "stream",
     "text": [
      "self.neq  9\n",
      "solution complete\n"
     ]
    }
   ],
   "source": [
    "ml4 = Model3D(kaq=kaq, z=zlayers, Saq=[Sy]+list(np.repeat(Saq, nlay-1)), \\\n",
    "              kzoverkh=zh, tmin=1e-5, tmax=3)\n",
    "w4 = Well(ml4, xw=0, yw=0, rw=rw, rc=rc, tsandQ=[(0, Q)], layers=range(9,18))\n",
    "ml4.solve()"
   ]
  },
  {
   "cell_type": "code",
   "execution_count": 82,
   "metadata": {},
   "outputs": [
    {
     "data": {
      "image/png": "[encoded data removed]",
      "text/plain": [
       "<Figure size 720x504 with 1 Axes>"
      ]
     },
     "metadata": {
      "needs_background": "light"
     },
     "output_type": "display_data"
    }
   ],
   "source": [
    "hm0_4 = ml4.head(0, 0, t0, layers=16)[0]\n",
    "hm1_4 = ml4.head(r1, 0, t1, layers=1)[0]\n",
    "hm2_4 = ml4.head(r1, 0, t2, layers=13)[0]\n",
    "hm3_4 = ml4.head(r2, 0, t3, layers=1)[0]\n",
    "hm4_4 = ml4.head(r2, 0, t4, layers=13)[0]\n",
    "plt.figure(figsize=(10, 7))\n",
    "plt.semilogx(t0, h0, '.', label='pumped')\n",
    "plt.semilogx(t0, hm0_4, label='ttim pumped')\n",
    "plt.semilogx(t1, h1, '.', label='PS1')\n",
    "plt.semilogx(t1, hm1_4, label='ttim PS1')\n",
    "plt.semilogx(t2, h2, '.', label='PD1')\n",
    "plt.semilogx(t2, hm2_4, label='ttim PD1')\n",
    "plt.semilogx(t3, h3, ',', label='PS2')\n",
    "plt.semilogx(t3, hm3_4, label='ttim PS2')\n",
    "plt.semilogx(t4, h4, '.', label='PD2')\n",
    "plt.semilogx(t4, hm4_4, label='ttim PD2');"
   ]
  },
  {
   "cell_type": "markdown",
   "metadata": {},
   "source": [
    "#### Step 7.1.1. Checking RMSE performance improvement"
   ]
  },
  {
   "cell_type": "code",
   "execution_count": 84,
   "metadata": {},
   "outputs": [
    {
     "name": "stdout",
     "output_type": "stream",
     "text": [
      "RMSE: 0.013118512559922016\n"
     ]
    }
   ],
   "source": [
    "rmse_n = np.sqrt(np.sum(np.sum((h1-hm1_4)**2)+np.sum((h2-hm2_4)**2)+np.sum((h3-hm3_4)**2)+np.sum((h4-hm4_4)**2)+np.sum((h0-hm0_4)**2))/\\\n",
    "    (len(h1)+len(h2)+len(h3)+len(h4)+len(h0)))\n",
    "\n",
    "print('RMSE:', rmse_n)"
   ]
  },
  {
   "cell_type": "markdown",
   "metadata": {},
   "source": [
    "## Step 8. Summary of and analysis of calibrated values and model errors"
   ]
  },
  {
   "cell_type": "code",
   "execution_count": 92,
   "metadata": {},
   "outputs": [
    {
     "data": {
      "text/html": [
       "<div>\n",
       "<style scoped>\n",
       "    .dataframe tbody tr th:only-of-type {\n",
       "        vertical-align: middle;\n",
       "    }\n",
       "\n",
       "    .dataframe tbody tr th {\n",
       "        vertical-align: top;\n",
       "    }\n",
       "\n",
       "    .dataframe thead th {\n",
       "        text-align: right;\n",
       "    }\n",
       "</style>\n",
       "<table border=\"1\" class=\"dataframe\">\n",
       "  <thead>\n",
       "    <tr style=\"text-align: right;\">\n",
       "      <th></th>\n",
       "      <th>Moench</th>\n",
       "      <th>Moench - more layers</th>\n",
       "      <th>TTim</th>\n",
       "      <th>TTim - more layers</th>\n",
       "    </tr>\n",
       "  </thead>\n",
       "  <tbody>\n",
       "    <tr>\n",
       "      <th>k[m/d]</th>\n",
       "      <td>8.640000</td>\n",
       "      <td>8.640000</td>\n",
       "      <td>9.067609</td>\n",
       "      <td>9.278561</td>\n",
       "    </tr>\n",
       "    <tr>\n",
       "      <th>Sy[-]</th>\n",
       "      <td>0.200000</td>\n",
       "      <td>0.200000</td>\n",
       "      <td>0.172894</td>\n",
       "      <td>0.163707</td>\n",
       "    </tr>\n",
       "    <tr>\n",
       "      <th>Ss[1/m]</th>\n",
       "      <td>0.000020</td>\n",
       "      <td>0.000020</td>\n",
       "      <td>0.000039</td>\n",
       "      <td>0.000037</td>\n",
       "    </tr>\n",
       "    <tr>\n",
       "      <th>kz/kh</th>\n",
       "      <td>0.500000</td>\n",
       "      <td>0.500000</td>\n",
       "      <td>0.535061</td>\n",
       "      <td>0.419256</td>\n",
       "    </tr>\n",
       "    <tr>\n",
       "      <th>RMSE</th>\n",
       "      <td>0.061318</td>\n",
       "      <td>0.013119</td>\n",
       "      <td>0.010384</td>\n",
       "      <td>0.011988</td>\n",
       "    </tr>\n",
       "  </tbody>\n",
       "</table>\n",
       "</div>"
      ],
      "text/plain": [
       "           Moench  Moench - more layers      TTim TTim - more layers\n",
       "k[m/d]   8.640000              8.640000  9.067609           9.278561\n",
       "Sy[-]    0.200000              0.200000  0.172894           0.163707\n",
       "Ss[1/m]  0.000020              0.000020  0.000039           0.000037\n",
       "kz/kh    0.500000              0.500000  0.535061           0.419256\n",
       "RMSE     0.061318              0.013119  0.010384           0.011988"
      ]
     },
     "execution_count": 92,
     "metadata": {},
     "output_type": "execute_result"
    }
   ],
   "source": [
    "ta = pd.DataFrame(columns=['Moench','Moench - more layers' ,'TTim', 'TTim - more layers'],\\\n",
    "                 index=['k[m/d]', 'Sy[-]', 'Ss[1/m]', 'kz/kh'])\n",
    "ta.loc[:, 'TTim - more layers'] = ca3.parameters['optimal'].values\n",
    "ta.loc[:, 'TTim'] = ca2.parameters['optimal'].values\n",
    "ta.loc[:, 'Moench'] = [kaq, Sy, Saq, zh]\n",
    "ta.loc[:, 'Moench - more layers'] = [kaq,Sy, Saq, zh]\n",
    "ta.loc['RMSE'] = [rmse,rmse_n, ca2.rmse(), ca3.rmse()]\n",
    "ta"
   ]
  },
  {
   "cell_type": "markdown",
   "metadata": {},
   "source": [
    "The table above shows the TTim model results, with the first two columns showing the model simulated using Moench's parameters (Barlow and Moench, 1999). The first column is the original Model 1, and the second is the last model (Model 4) with more layers. Columns 3 and 4 show the results for the calibration with Conceptual Models 1 and 4.\n",
    "\n",
    "Overall, the model accuracy improved when we added more layers, so the added complexity resulted in added accuracy. However, when we look at the calibrated data, we see that it did not improve calibration performance, and both the simple model and the more complex one had similar performance."
   ]
  },
  {
   "cell_type": "markdown",
   "metadata": {},
   "source": [
    "## References\n",
    "\n",
    "* Barlow, P.M., Moench, A.F., 1999. WTAQ, a computer program for calculating drawdowns and estimating hydraulic properties for confined and water-table aquifers. 99-4225, US Dept. of the Interior, US Geological Survey\n",
    "* Carlson F, Randall J (2012) MLU: a Windows application for the analysis of aquifer tests and the design of well fields in layered systems. Ground Water 50(4):504–510\n",
    "* Duffield, G.M., 2007. AQTESOLV for Windows Version 4.5 User's Guide, HydroSOLVE, Inc., Reston, VA.\n",
    "* Kruseman, G.P., De Ridder, N.A., Verweij, J.M., 1970. Analysis and evaluationof pumping test data. volume 11. International institute for land reclamation and improvement The Netherlands.\n",
    "* Moench, Allen, F., 1997. Flow to a well of finite diameter in a homogeneous, anisotropic water table aquifer. Water Resources Research 34, 2431–2432.\n",
    "* Yang, Xinzhu (2020) Application and comparison of different methodsfor aquifer test analysis using TTim. Master Thesis, Delft University of Technology (TUDelft), Delft, The Netherlands."
   ]
  },
  {
   "cell_type": "markdown",
   "metadata": {},
   "source": [
    "#### Next Notebook: [Slug 1 - Pratt County](slug1_pratt_county.ipynb)"
   ]
  }
 ],
 "metadata": {
  "kernelspec": {
   "display_name": "Python 3 (ipykernel)",
   "language": "python",
   "name": "python3"
  },
  "language_info": {
   "codemirror_mode": {
    "name": "ipython",
    "version": 3
   },
   "file_extension": ".py",
   "mimetype": "text/x-python",
   "name": "python",
   "nbconvert_exporter": "python",
   "pygments_lexer": "ipython3",
   "version": "3.8.12"
  }
 },
 "nbformat": 4,
 "nbformat_minor": 4
}
