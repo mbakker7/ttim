{
 "cells": [
  {
   "cell_type": "markdown",
   "metadata": {},
   "source": [
    "# Confined Aquifer Test\n",
    "**This test is taken from AQTESOLV examples.**"
   ]
  },
  {
   "cell_type": "code",
   "execution_count": 1,
   "metadata": {},
   "outputs": [],
   "source": [
    "%matplotlib inline\n",
    "import numpy as np\n",
    "import matplotlib.pyplot as plt\n",
    "import pandas as pd\n",
    "from ttim import *"
   ]
  },
  {
   "cell_type": "markdown",
   "metadata": {},
   "source": [
    "Set basic parameters:"
   ]
  },
  {
   "cell_type": "code",
   "execution_count": 2,
   "metadata": {},
   "outputs": [],
   "source": [
    "b = -5.4846 #aquifer thickness in m\n",
    "Q = 1199.218 #constant discharge in m^3/d\n",
    "r = 251.1552 #distance between observation well to test well in m\n",
    "rw = 0.1524 #screen radius of test well in m"
   ]
  },
  {
   "cell_type": "markdown",
   "metadata": {},
   "source": [
    "Load dataset:"
   ]
  },
  {
   "cell_type": "code",
   "execution_count": 3,
   "metadata": {},
   "outputs": [],
   "source": [
    "data1 = np.loadtxt('data/gridley_well_1.txt')\n",
    "t1 = data1[:, 0]\n",
    "h1 = data1[:, 1]\n",
    "data2 = np.loadtxt('data/gridley_well_3.txt')\n",
    "t2 = data2[:, 0]\n",
    "h2 = data2[:, 1]"
   ]
  },
  {
   "cell_type": "markdown",
   "metadata": {},
   "source": [
    "Create conceptual model:"
   ]
  },
  {
   "cell_type": "code",
   "execution_count": 4,
   "metadata": {},
   "outputs": [
    {
     "name": "stdout",
     "output_type": "stream",
     "text": [
      "self.neq  1\n",
      "solution complete\n"
     ]
    }
   ],
   "source": [
    "ml = ModelMaq(kaq=10, z=[0, b], Saq=0.001, tmin=0.001, tmax=1, topboundary='conf')\n",
    "w = Well(ml, xw=0, yw=0, rw=rw, tsandQ=[(0, Q)], layers=0)\n",
    "ml.solve()"
   ]
  },
  {
   "cell_type": "markdown",
   "metadata": {},
   "source": [
    "Calibrate with two datasets simultaneously:"
   ]
  },
  {
   "cell_type": "code",
   "execution_count": 5,
   "metadata": {},
   "outputs": [
    {
     "name": "stdout",
     "output_type": "stream",
     "text": [
      "..................................\n",
      "Fit succeeded.\n",
      "[[Fit Statistics]]\n",
      "    # fitting method   = leastsq\n",
      "    # function evals   = 31\n",
      "    # data points      = 22\n",
      "    # variables        = 2\n",
      "    chi-square         = 0.01702153\n",
      "    reduced chi-square = 8.5108e-04\n",
      "    Akaike info crit   = -153.615012\n",
      "    Bayesian info crit = -151.432927\n",
      "[[Variables]]\n",
      "    kaq0:  22.4340745 +/- 0.22268844 (0.99%) (init = 10)\n",
      "    Saq0:  3.8208e-06 +/- 7.4239e-08 (1.94%) (init = 0.0001)\n",
      "[[Correlations]] (unreported correlations are < 0.100)\n",
      "    C(kaq0, Saq0) = -0.883\n"
     ]
    }
   ],
   "source": [
    "#unknown parameters: kaq, Saq\n",
    "ca_0 = Calibrate(ml)\n",
    "ca_0.set_parameter(name='kaq0', initial=10)\n",
    "ca_0.set_parameter(name='Saq0', initial=1e-4)\n",
    "ca_0.series(name='obs1', x=r, y=0, t=t1, h=h1, layer=0)\n",
    "ca_0.fit(report=True)"
   ]
  },
  {
   "cell_type": "code",
   "execution_count": 6,
   "metadata": {},
   "outputs": [
    {
     "data": {
      "text/html": [
       "<div>\n",
       "<style scoped>\n",
       "    .dataframe tbody tr th:only-of-type {\n",
       "        vertical-align: middle;\n",
       "    }\n",
       "\n",
       "    .dataframe tbody tr th {\n",
       "        vertical-align: top;\n",
       "    }\n",
       "\n",
       "    .dataframe thead th {\n",
       "        text-align: right;\n",
       "    }\n",
       "</style>\n",
       "<table border=\"1\" class=\"dataframe\">\n",
       "  <thead>\n",
       "    <tr style=\"text-align: right;\">\n",
       "      <th></th>\n",
       "      <th>optimal</th>\n",
       "      <th>std</th>\n",
       "      <th>perc_std</th>\n",
       "      <th>pmin</th>\n",
       "      <th>pmax</th>\n",
       "      <th>initial</th>\n",
       "      <th>parray</th>\n",
       "    </tr>\n",
       "  </thead>\n",
       "  <tbody>\n",
       "    <tr>\n",
       "      <td>kaq0</td>\n",
       "      <td>22.4341</td>\n",
       "      <td>2.226884e-01</td>\n",
       "      <td>0.992635</td>\n",
       "      <td>-inf</td>\n",
       "      <td>inf</td>\n",
       "      <td>10</td>\n",
       "      <td>[22.43407446037401]</td>\n",
       "    </tr>\n",
       "    <tr>\n",
       "      <td>Saq0</td>\n",
       "      <td>3.82077e-06</td>\n",
       "      <td>7.423947e-08</td>\n",
       "      <td>1.94305</td>\n",
       "      <td>-inf</td>\n",
       "      <td>inf</td>\n",
       "      <td>0.0001</td>\n",
       "      <td>[3.8207731812808345e-06]</td>\n",
       "    </tr>\n",
       "  </tbody>\n",
       "</table>\n",
       "</div>"
      ],
      "text/plain": [
       "          optimal           std  perc_std  pmin  pmax initial  \\\n",
       "kaq0      22.4341  2.226884e-01  0.992635  -inf   inf      10   \n",
       "Saq0  3.82077e-06  7.423947e-08   1.94305  -inf   inf  0.0001   \n",
       "\n",
       "                        parray  \n",
       "kaq0       [22.43407446037401]  \n",
       "Saq0  [3.8207731812808345e-06]  "
      ]
     },
     "metadata": {},
     "output_type": "display_data"
    },
    {
     "name": "stdout",
     "output_type": "stream",
     "text": [
      "rmse: 0.02781556960189975\n"
     ]
    }
   ],
   "source": [
    "display(ca_0.parameters)\n",
    "print('rmse:', ca_0.rmse())"
   ]
  },
  {
   "cell_type": "code",
   "execution_count": 7,
   "metadata": {},
   "outputs": [
    {
     "data": {
      "image/png": "[encoded data removed]",
      "text/plain": [
       "<Figure size 576x360 with 1 Axes>"
      ]
     },
     "metadata": {
      "needs_background": "light"
     },
     "output_type": "display_data"
    }
   ],
   "source": [
    "hm_0 = ml.head(r, 0, t1)\n",
    "plt.figure(figsize = (8, 5))\n",
    "plt.semilogx(t1, hm_0[0], label = 'ttim')\n",
    "plt.semilogx(t1, h1, '.', label = 'obs1')\n",
    "plt.xlabel('time(d)')\n",
    "plt.ylabel('drawdown(m)')\n",
    "plt.legend();"
   ]
  },
  {
   "cell_type": "code",
   "execution_count": 8,
   "metadata": {},
   "outputs": [
    {
     "name": "stdout",
     "output_type": "stream",
     "text": [
      "..............................\n",
      "Fit succeeded.\n",
      "[[Fit Statistics]]\n",
      "    # fitting method   = leastsq\n",
      "    # function evals   = 27\n",
      "    # data points      = 14\n",
      "    # variables        = 2\n",
      "    chi-square         = 0.04383792\n",
      "    reduced chi-square = 0.00365316\n",
      "    Akaike info crit   = -76.7283879\n",
      "    Bayesian info crit = -75.4502733\n",
      "[[Variables]]\n",
      "    kaq0:  27.9004460 +/- 0.73222849 (2.62%) (init = 10)\n",
      "    Saq0:  1.7009e-04 +/- 5.8287e-05 (34.27%) (init = 0.0001)\n",
      "[[Correlations]] (unreported correlations are < 0.100)\n",
      "    C(kaq0, Saq0) = -0.997\n"
     ]
    }
   ],
   "source": [
    "#unknown parameters: kaq, Saq\n",
    "ca_1 = Calibrate(ml)\n",
    "ca_1.set_parameter(name='kaq0', initial=10)\n",
    "ca_1.set_parameter(name='Saq0', initial=1e-4)\n",
    "ca_1.series(name='obs2', x=0, y=0, t=t2, h=h2, layer=0)\n",
    "ca_1.fit(report=True)"
   ]
  },
  {
   "cell_type": "code",
   "execution_count": 9,
   "metadata": {},
   "outputs": [
    {
     "data": {
      "text/html": [
       "<div>\n",
       "<style scoped>\n",
       "    .dataframe tbody tr th:only-of-type {\n",
       "        vertical-align: middle;\n",
       "    }\n",
       "\n",
       "    .dataframe tbody tr th {\n",
       "        vertical-align: top;\n",
       "    }\n",
       "\n",
       "    .dataframe thead th {\n",
       "        text-align: right;\n",
       "    }\n",
       "</style>\n",
       "<table border=\"1\" class=\"dataframe\">\n",
       "  <thead>\n",
       "    <tr style=\"text-align: right;\">\n",
       "      <th></th>\n",
       "      <th>optimal</th>\n",
       "      <th>std</th>\n",
       "      <th>perc_std</th>\n",
       "      <th>pmin</th>\n",
       "      <th>pmax</th>\n",
       "      <th>initial</th>\n",
       "      <th>parray</th>\n",
       "    </tr>\n",
       "  </thead>\n",
       "  <tbody>\n",
       "    <tr>\n",
       "      <td>kaq0</td>\n",
       "      <td>27.9004</td>\n",
       "      <td>0.732228</td>\n",
       "      <td>2.62443</td>\n",
       "      <td>-inf</td>\n",
       "      <td>inf</td>\n",
       "      <td>10</td>\n",
       "      <td>[27.90044604680429]</td>\n",
       "    </tr>\n",
       "    <tr>\n",
       "      <td>Saq0</td>\n",
       "      <td>0.000170088</td>\n",
       "      <td>0.000058</td>\n",
       "      <td>34.2689</td>\n",
       "      <td>-inf</td>\n",
       "      <td>inf</td>\n",
       "      <td>0.0001</td>\n",
       "      <td>[0.00017008779752072242]</td>\n",
       "    </tr>\n",
       "  </tbody>\n",
       "</table>\n",
       "</div>"
      ],
      "text/plain": [
       "          optimal       std perc_std  pmin  pmax initial  \\\n",
       "kaq0      27.9004  0.732228  2.62443  -inf   inf      10   \n",
       "Saq0  0.000170088  0.000058  34.2689  -inf   inf  0.0001   \n",
       "\n",
       "                        parray  \n",
       "kaq0       [27.90044604680429]  \n",
       "Saq0  [0.00017008779752072242]  "
      ]
     },
     "metadata": {},
     "output_type": "display_data"
    },
    {
     "name": "stdout",
     "output_type": "stream",
     "text": [
      "rmse: 0.05595784100028279\n"
     ]
    }
   ],
   "source": [
    "display(ca_1.parameters)\n",
    "print('rmse:', ca_1.rmse())"
   ]
  },
  {
   "cell_type": "code",
   "execution_count": 10,
   "metadata": {},
   "outputs": [
    {
     "data": {
      "image/png": "[encoded data removed]",
      "text/plain": [
       "<Figure size 576x360 with 1 Axes>"
      ]
     },
     "metadata": {
      "needs_background": "light"
     },
     "output_type": "display_data"
    }
   ],
   "source": [
    "hm_1 = ml.head(0, 0, t2)\n",
    "plt.figure(figsize = (8, 5))\n",
    "plt.semilogx(t2, hm_1[0], label = 'ttim')\n",
    "plt.semilogx(t2, h2, '.', label = 'obs2')\n",
    "plt.xlabel('time(d)')\n",
    "plt.ylabel('drawdown(m)')\n",
    "plt.legend();"
   ]
  },
  {
   "cell_type": "markdown",
   "metadata": {},
   "source": [
    "Calibrate with two datasets simultaneously:"
   ]
  },
  {
   "cell_type": "code",
   "execution_count": 11,
   "metadata": {},
   "outputs": [
    {
     "name": "stdout",
     "output_type": "stream",
     "text": [
      "self.neq  1\n",
      "solution complete\n"
     ]
    }
   ],
   "source": [
    "ml_1 = ModelMaq(kaq=10, z=[0, b], Saq=0.001, tmin=0.001, tmax=1, topboundary='conf')\n",
    "w_1 = Well(ml_1, xw=0, yw=0, rw=rw, tsandQ=[(0, Q)], layers=0)\n",
    "ml_1.solve()"
   ]
  },
  {
   "cell_type": "code",
   "execution_count": 12,
   "metadata": {},
   "outputs": [
    {
     "name": "stdout",
     "output_type": "stream",
     "text": [
      "..........................\n",
      "Fit succeeded.\n",
      "[[Fit Statistics]]\n",
      "    # fitting method   = leastsq\n",
      "    # function evals   = 23\n",
      "    # data points      = 36\n",
      "    # variables        = 2\n",
      "    chi-square         = 2.65994309\n",
      "    reduced chi-square = 0.07823362\n",
      "    Akaike info crit   = -89.7877116\n",
      "    Bayesian info crit = -86.6206737\n",
      "[[Variables]]\n",
      "    kaq0:  38.0492587 +/- 0.52461607 (1.38%) (init = 10)\n",
      "    Saq0:  1.2468e-06 +/- 2.0176e-07 (16.18%) (init = 0.0001)\n",
      "[[Correlations]] (unreported correlations are < 0.100)\n",
      "    C(kaq0, Saq0) = -0.769\n"
     ]
    }
   ],
   "source": [
    "ca_2 = Calibrate(ml_1)\n",
    "ca_2.set_parameter(name='kaq0', initial=10)\n",
    "ca_2.set_parameter(name='Saq0', initial=1e-4, pmin=0)\n",
    "ca_2.series(name='obs1', x=r, y=0, t=t1, h=h1, layer=0)\n",
    "ca_2.series(name='obs2', x=0, y=0, t=t2, h=h2, layer=0)\n",
    "ca_2.fit(report=True)"
   ]
  },
  {
   "cell_type": "code",
   "execution_count": 13,
   "metadata": {},
   "outputs": [
    {
     "data": {
      "text/html": [
       "<div>\n",
       "<style scoped>\n",
       "    .dataframe tbody tr th:only-of-type {\n",
       "        vertical-align: middle;\n",
       "    }\n",
       "\n",
       "    .dataframe tbody tr th {\n",
       "        vertical-align: top;\n",
       "    }\n",
       "\n",
       "    .dataframe thead th {\n",
       "        text-align: right;\n",
       "    }\n",
       "</style>\n",
       "<table border=\"1\" class=\"dataframe\">\n",
       "  <thead>\n",
       "    <tr style=\"text-align: right;\">\n",
       "      <th></th>\n",
       "      <th>optimal</th>\n",
       "      <th>std</th>\n",
       "      <th>perc_std</th>\n",
       "      <th>pmin</th>\n",
       "      <th>pmax</th>\n",
       "      <th>initial</th>\n",
       "      <th>parray</th>\n",
       "    </tr>\n",
       "  </thead>\n",
       "  <tbody>\n",
       "    <tr>\n",
       "      <td>kaq0</td>\n",
       "      <td>38.0493</td>\n",
       "      <td>5.246161e-01</td>\n",
       "      <td>1.37878</td>\n",
       "      <td>-inf</td>\n",
       "      <td>inf</td>\n",
       "      <td>10</td>\n",
       "      <td>[38.049258732018906]</td>\n",
       "    </tr>\n",
       "    <tr>\n",
       "      <td>Saq0</td>\n",
       "      <td>1.24679e-06</td>\n",
       "      <td>2.017582e-07</td>\n",
       "      <td>16.1823</td>\n",
       "      <td>0.0</td>\n",
       "      <td>inf</td>\n",
       "      <td>0.0001</td>\n",
       "      <td>[1.2467860428522215e-06]</td>\n",
       "    </tr>\n",
       "  </tbody>\n",
       "</table>\n",
       "</div>"
      ],
      "text/plain": [
       "          optimal           std perc_std  pmin  pmax initial  \\\n",
       "kaq0      38.0493  5.246161e-01  1.37878  -inf   inf      10   \n",
       "Saq0  1.24679e-06  2.017582e-07  16.1823   0.0   inf  0.0001   \n",
       "\n",
       "                        parray  \n",
       "kaq0      [38.049258732018906]  \n",
       "Saq0  [1.2467860428522215e-06]  "
      ]
     },
     "metadata": {},
     "output_type": "display_data"
    },
    {
     "name": "stdout",
     "output_type": "stream",
     "text": [
      "rmse: 0.27182219922005885\n"
     ]
    }
   ],
   "source": [
    "display(ca_2.parameters)\n",
    "print('rmse:', ca_2.rmse())"
   ]
  },
  {
   "cell_type": "code",
   "execution_count": 14,
   "metadata": {},
   "outputs": [
    {
     "data": {
      "image/png": "[encoded data removed]",
      "text/plain": [
       "<Figure size 576x360 with 1 Axes>"
      ]
     },
     "metadata": {
      "needs_background": "light"
     },
     "output_type": "display_data"
    }
   ],
   "source": [
    "hm1_2 = ml.head(r, 0, t1)\n",
    "hm2_2 = ml.head(0, 0, t2)\n",
    "plt.figure(figsize = (8, 5))\n",
    "plt.semilogx(t1, hm1_2[0], label = 'ttim1')\n",
    "plt.semilogx(t1, h1, '.', label = 'obs1')\n",
    "plt.semilogx(t2, hm2_2[0], label = 'ttim3')\n",
    "plt.semilogx(t2, h2, '.', label = 'obs3')\n",
    "plt.xlabel('time(d)')\n",
    "plt.ylabel('drawdown(m)')\n",
    "plt.legend();"
   ]
  },
  {
   "cell_type": "markdown",
   "metadata": {},
   "source": [
    "Ty adding well skin resistance and wellbore storage:"
   ]
  },
  {
   "cell_type": "code",
   "execution_count": 15,
   "metadata": {},
   "outputs": [
    {
     "name": "stdout",
     "output_type": "stream",
     "text": [
      "self.neq  1\n",
      "solution complete\n"
     ]
    }
   ],
   "source": [
    "ml_2 = ModelMaq(kaq=10, z=[0, b], Saq=0.001, tmin=0.001, tmax=1, topboundary='conf')\n",
    "w_2 = Well(ml_2, xw=0, yw=0, rw=rw, rc=0.2, res=0.2, tsandQ=[(0, Q)], layers=0)\n",
    "ml_2.solve()"
   ]
  },
  {
   "cell_type": "markdown",
   "metadata": {},
   "source": [
    "If adding wellbore sotrage to the parameters to be optimized, the fit gives extremely large values of each parameter which is imposiible. However, when remove rc from well function, the fit cannot be completed with uncertainties. Thus, the rc value is determined as 0.2 by trial-and-error procedure."
   ]
  },
  {
   "cell_type": "code",
   "execution_count": 16,
   "metadata": {},
   "outputs": [
    {
     "name": "stdout",
     "output_type": "stream",
     "text": [
      "..........................................\n",
      "Fit succeeded.\n",
      "[[Fit Statistics]]\n",
      "    # fitting method   = leastsq\n",
      "    # function evals   = 39\n",
      "    # data points      = 36\n",
      "    # variables        = 3\n",
      "    chi-square         = 1.32970403\n",
      "    reduced chi-square = 0.04029406\n",
      "    Akaike info crit   = -112.748252\n",
      "    Bayesian info crit = -107.997695\n",
      "[[Variables]]\n",
      "    kaq0:  38.4235138 +/- 0.39672514 (1.03%) (init = 10)\n",
      "    Saq0:  8.9513e-07 +/- 1.1638e-07 (13.00%) (init = 0.0001)\n",
      "    res:   0.12326394 +/- 0.02036696 (16.52%) (init = 0.2)\n",
      "[[Correlations]] (unreported correlations are < 0.100)\n",
      "    C(kaq0, Saq0) = -0.761\n",
      "    C(Saq0, res)  = -0.246\n"
     ]
    }
   ],
   "source": [
    "ca_3 = Calibrate(ml_2)\n",
    "ca_3.set_parameter(name = 'kaq0', initial = 10)\n",
    "ca_3.set_parameter(name = 'Saq0', initial = 1e-4, pmin=0)\n",
    "ca_3.set_parameter_by_reference(name='res', parameter=w_2.res, initial =0.2)\n",
    "ca_3.series(name='obs1', x=r, y=0, t=t1, h=h1, layer=0)\n",
    "ca_3.series(name='obs3', x=0, y=0, t=t2, h=h2, layer=0)\n",
    "ca_3.fit(report=True)"
   ]
  },
  {
   "cell_type": "code",
   "execution_count": 17,
   "metadata": {},
   "outputs": [
    {
     "data": {
      "text/html": [
       "<div>\n",
       "<style scoped>\n",
       "    .dataframe tbody tr th:only-of-type {\n",
       "        vertical-align: middle;\n",
       "    }\n",
       "\n",
       "    .dataframe tbody tr th {\n",
       "        vertical-align: top;\n",
       "    }\n",
       "\n",
       "    .dataframe thead th {\n",
       "        text-align: right;\n",
       "    }\n",
       "</style>\n",
       "<table border=\"1\" class=\"dataframe\">\n",
       "  <thead>\n",
       "    <tr style=\"text-align: right;\">\n",
       "      <th></th>\n",
       "      <th>optimal</th>\n",
       "      <th>std</th>\n",
       "      <th>perc_std</th>\n",
       "      <th>pmin</th>\n",
       "      <th>pmax</th>\n",
       "      <th>initial</th>\n",
       "      <th>parray</th>\n",
       "    </tr>\n",
       "  </thead>\n",
       "  <tbody>\n",
       "    <tr>\n",
       "      <td>kaq0</td>\n",
       "      <td>38.4235</td>\n",
       "      <td>3.967251e-01</td>\n",
       "      <td>1.03251</td>\n",
       "      <td>-inf</td>\n",
       "      <td>inf</td>\n",
       "      <td>10</td>\n",
       "      <td>[38.423513816802576]</td>\n",
       "    </tr>\n",
       "    <tr>\n",
       "      <td>Saq0</td>\n",
       "      <td>8.95129e-07</td>\n",
       "      <td>1.163837e-07</td>\n",
       "      <td>13.0019</td>\n",
       "      <td>0.0</td>\n",
       "      <td>inf</td>\n",
       "      <td>0.0001</td>\n",
       "      <td>[8.951294596659665e-07]</td>\n",
       "    </tr>\n",
       "    <tr>\n",
       "      <td>res</td>\n",
       "      <td>0.123264</td>\n",
       "      <td>2.036696e-02</td>\n",
       "      <td>16.523</td>\n",
       "      <td>-inf</td>\n",
       "      <td>inf</td>\n",
       "      <td>0.2</td>\n",
       "      <td>[0.1232639435087151]</td>\n",
       "    </tr>\n",
       "  </tbody>\n",
       "</table>\n",
       "</div>"
      ],
      "text/plain": [
       "          optimal           std perc_std  pmin  pmax initial  \\\n",
       "kaq0      38.4235  3.967251e-01  1.03251  -inf   inf      10   \n",
       "Saq0  8.95129e-07  1.163837e-07  13.0019   0.0   inf  0.0001   \n",
       "res      0.123264  2.036696e-02   16.523  -inf   inf     0.2   \n",
       "\n",
       "                       parray  \n",
       "kaq0     [38.423513816802576]  \n",
       "Saq0  [8.951294596659665e-07]  \n",
       "res      [0.1232639435087151]  "
      ]
     },
     "metadata": {},
     "output_type": "display_data"
    },
    {
     "name": "stdout",
     "output_type": "stream",
     "text": [
      "rmse: 0.19218798899587736\n"
     ]
    }
   ],
   "source": [
    "display(ca_3.parameters)\n",
    "print('rmse:', ca_3.rmse())"
   ]
  },
  {
   "cell_type": "code",
   "execution_count": 18,
   "metadata": {},
   "outputs": [
    {
     "data": {
      "image/png": "[encoded data removed]",
      "text/plain": [
       "<Figure size 576x360 with 1 Axes>"
      ]
     },
     "metadata": {
      "needs_background": "light"
     },
     "output_type": "display_data"
    }
   ],
   "source": [
    "hw1 = ml_2.head(r, 0, t1)\n",
    "hw2 = ml_2.head(0, 0, t2)\n",
    "plt.figure(figsize = (8, 5))\n",
    "plt.semilogx(t1, hw1[0], label = 'ttim1')\n",
    "plt.semilogx(t1, h1, '.', label = 'obs1')\n",
    "plt.semilogx(t2, hw2[0], label = 'ttim3')\n",
    "plt.semilogx(t2, h2, '.', label = 'obs3')\n",
    "plt.xlabel('time(d)')\n",
    "plt.ylabel('drawdown(m)')\n",
    "plt.legend();"
   ]
  },
  {
   "cell_type": "markdown",
   "metadata": {},
   "source": [
    "## Summary of values simulated by AQTESOLV and MLU"
   ]
  },
  {
   "cell_type": "markdown",
   "metadata": {},
   "source": [
    "The results simulated by different methods with two datasets simultaneously are presented below. In the example of AQTESOLV, result simulated with only observation well is presented. The comparision of results when only observation well is included can be found in the report related to this test."
   ]
  },
  {
   "cell_type": "code",
   "execution_count": 19,
   "metadata": {},
   "outputs": [
    {
     "data": {
      "text/html": [
       "<div>\n",
       "<style scoped>\n",
       "    .dataframe tbody tr th:only-of-type {\n",
       "        vertical-align: middle;\n",
       "    }\n",
       "\n",
       "    .dataframe tbody tr th {\n",
       "        vertical-align: top;\n",
       "    }\n",
       "\n",
       "    .dataframe thead th {\n",
       "        text-align: right;\n",
       "    }\n",
       "</style>\n",
       "<table border=\"1\" class=\"dataframe\">\n",
       "  <thead>\n",
       "    <tr style=\"text-align: right;\">\n",
       "      <th></th>\n",
       "      <th>k [m/d]</th>\n",
       "      <th>Ss [1/m]</th>\n",
       "      <th>res</th>\n",
       "      <th>rc</th>\n",
       "      <th>RMSE</th>\n",
       "    </tr>\n",
       "  </thead>\n",
       "  <tbody>\n",
       "    <tr>\n",
       "      <td>MLU</td>\n",
       "      <td>38.094</td>\n",
       "      <td>1.193e-06</td>\n",
       "      <td>-</td>\n",
       "      <td>-</td>\n",
       "      <td>0.259</td>\n",
       "    </tr>\n",
       "    <tr>\n",
       "      <td>AQTESOLV</td>\n",
       "      <td>37.803</td>\n",
       "      <td>1.356e-06</td>\n",
       "      <td>-</td>\n",
       "      <td>-</td>\n",
       "      <td>0.270</td>\n",
       "    </tr>\n",
       "    <tr>\n",
       "      <td>ttim</td>\n",
       "      <td>38.0493</td>\n",
       "      <td>1.24679e-06</td>\n",
       "      <td>-</td>\n",
       "      <td>-</td>\n",
       "      <td>0.272</td>\n",
       "    </tr>\n",
       "    <tr>\n",
       "      <td>ttim-res&amp;rc</td>\n",
       "      <td>38.4235</td>\n",
       "      <td>8.95129e-07</td>\n",
       "      <td>0.123264</td>\n",
       "      <td>0.2</td>\n",
       "      <td>0.192</td>\n",
       "    </tr>\n",
       "  </tbody>\n",
       "</table>\n",
       "</div>"
      ],
      "text/plain": [
       "             k [m/d]     Ss [1/m]       res   rc   RMSE\n",
       "MLU           38.094    1.193e-06         -    -  0.259\n",
       "AQTESOLV      37.803    1.356e-06         -    -  0.270\n",
       "ttim         38.0493  1.24679e-06         -    -  0.272\n",
       "ttim-res&rc  38.4235  8.95129e-07  0.123264  0.2  0.192"
      ]
     },
     "execution_count": 19,
     "metadata": {},
     "output_type": "execute_result"
    }
   ],
   "source": [
    "t = pd.DataFrame(columns=['k [m/d]', 'Ss [1/m]', 'res'], \\\n",
    "                index=['MLU', 'AQTESOLV', 'ttim', 'ttim-res&rc'])\n",
    "t.loc['MLU'] = [38.094, 1.193E-06, '-']\n",
    "t.loc['AQTESOLV'] = [37.803, 1.356E-06, '-']\n",
    "t.loc['ttim'] = np.append(ca_2.parameters['optimal'].values, '-')\n",
    "t.loc['ttim-res&rc'] = ca_3.parameters['optimal'].values \n",
    "t['rc'] = ['-', '-', '-', 0.2]\n",
    "t['RMSE'] = [0.259, 0.270, 0.272, 0.192]\n",
    "t"
   ]
  },
  {
   "cell_type": "code",
   "execution_count": null,
   "metadata": {},
   "outputs": [],
   "source": []
  }
 ],
 "metadata": {
  "kernelspec": {
   "display_name": "Python 3",
   "language": "python",
   "name": "python3"
  },
  "language_info": {
   "codemirror_mode": {
    "name": "ipython",
    "version": 3
   },
   "file_extension": ".py",
   "mimetype": "text/x-python",
   "name": "python",
   "nbconvert_exporter": "python",
   "pygments_lexer": "ipython3",
   "version": "3.7.4"
  }
 },
 "nbformat": 4,
 "nbformat_minor": 2
}
