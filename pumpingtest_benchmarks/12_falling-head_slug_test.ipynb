{
 "cells": [
  {
   "cell_type": "markdown",
   "metadata": {},
   "source": [
    "## Slug Test \n",
    "**This test is taken from examples of AQTESOLV.**"
   ]
  },
  {
   "cell_type": "code",
   "execution_count": 1,
   "metadata": {},
   "outputs": [],
   "source": [
    "%matplotlib inline\n",
    "from ttim import *\n",
    "import numpy as np\n",
    "import matplotlib.pyplot as plt\n",
    "import pandas as pd"
   ]
  },
  {
   "cell_type": "markdown",
   "metadata": {},
   "source": [
    "Set background parameters:"
   ]
  },
  {
   "cell_type": "code",
   "execution_count": 2,
   "metadata": {},
   "outputs": [],
   "source": [
    "rw = 0.127 # well radius\n",
    "rc = 0.0508 # well casing radius\n",
    "L = 4.20624 # screen length\n",
    "b = -9.9274 # aquifer thickness\n",
    "zt = -0.1433 # depth to top of the screen\n",
    "H0 = 0.4511 # initial displacement in the well\n",
    "zb = zt - L # bottom of the screen"
   ]
  },
  {
   "cell_type": "markdown",
   "metadata": {},
   "source": [
    "Slug:"
   ]
  },
  {
   "cell_type": "code",
   "execution_count": 3,
   "metadata": {},
   "outputs": [
    {
     "name": "stdout",
     "output_type": "stream",
     "text": [
      "Slug: 0.00366 m^3\n"
     ]
    }
   ],
   "source": [
    "Q = np.pi * rc ** 2 * H0\n",
    "print('Slug:', round(Q, 5), 'm^3')"
   ]
  },
  {
   "cell_type": "markdown",
   "metadata": {},
   "source": [
    "Load data:"
   ]
  },
  {
   "cell_type": "code",
   "execution_count": 19,
   "metadata": {},
   "outputs": [],
   "source": [
    "data = np.loadtxt('data/falling_head.txt', skiprows = 2)\n",
    "t = data[:, 0] / 60 / 60 / 24 #convert time from seconds to days\n",
    "h = (10 - data[:, 1]) * 0.3048 #convert drawdown from ft to meters"
   ]
  },
  {
   "cell_type": "markdown",
   "metadata": {},
   "source": [
    "Create single layer conceptual model:"
   ]
  },
  {
   "cell_type": "code",
   "execution_count": 21,
   "metadata": {},
   "outputs": [
    {
     "name": "stdout",
     "output_type": "stream",
     "text": [
      "self.neq  1\n",
      "solution complete\n"
     ]
    }
   ],
   "source": [
    "ml_0 = Model3D(kaq=10, z=[0, zt, zb, b], Saq=1e-4, tmin=1e-5, tmax=0.01)\n",
    "w_0 = Well(ml_0, xw=0, yw=0, rw=rw, rc=rc, tsandQ=[(0, -Q)], layers=1, wbstype='slug')\n",
    "ml_0.solve()"
   ]
  },
  {
   "cell_type": "code",
   "execution_count": 22,
   "metadata": {},
   "outputs": [
    {
     "name": "stdout",
     "output_type": "stream",
     "text": [
      "....................................................................................................................................\n",
      "Fit succeeded.\n",
      "[[Fit Statistics]]\n",
      "    # fitting method   = leastsq\n",
      "    # function evals   = 129\n",
      "    # data points      = 27\n",
      "    # variables        = 2\n",
      "    chi-square         = 0.00905722\n",
      "    reduced chi-square = 3.6229e-04\n",
      "    Akaike info crit   = -212.000800\n",
      "    Bayesian info crit = -209.409126\n",
      "[[Variables]]\n",
      "    kaq0_2:  1.33523687 +/- 0.05906434 (4.42%) (init = 10)\n",
      "    Saq0_2:  2.1466e-10 +/- 2.5021e-10 (116.56%) (init = 0.0001)\n",
      "[[Correlations]] (unreported correlations are < 0.100)\n",
      "    C(kaq0_2, Saq0_2) = -0.698\n"
     ]
    }
   ],
   "source": [
    "ca_0 = Calibrate(ml_0)\n",
    "ca_0.set_parameter(name='kaq0_2', initial=10)\n",
    "ca_0.set_parameter(name='Saq0_2', initial=1e-4)\n",
    "ca_0.series(name='obs', x=0, y=0, t=t, h=h, layer=1)\n",
    "ca_0.fit(report=True)"
   ]
  },
  {
   "cell_type": "code",
   "execution_count": 23,
   "metadata": {},
   "outputs": [
    {
     "data": {
      "text/html": [
       "<div>\n",
       "<style scoped>\n",
       "    .dataframe tbody tr th:only-of-type {\n",
       "        vertical-align: middle;\n",
       "    }\n",
       "\n",
       "    .dataframe tbody tr th {\n",
       "        vertical-align: top;\n",
       "    }\n",
       "\n",
       "    .dataframe thead th {\n",
       "        text-align: right;\n",
       "    }\n",
       "</style>\n",
       "<table border=\"1\" class=\"dataframe\">\n",
       "  <thead>\n",
       "    <tr style=\"text-align: right;\">\n",
       "      <th></th>\n",
       "      <th>optimal</th>\n",
       "      <th>std</th>\n",
       "      <th>perc_std</th>\n",
       "      <th>pmin</th>\n",
       "      <th>pmax</th>\n",
       "      <th>initial</th>\n",
       "      <th>parray</th>\n",
       "    </tr>\n",
       "  </thead>\n",
       "  <tbody>\n",
       "    <tr>\n",
       "      <td>kaq0_2</td>\n",
       "      <td>1.33524</td>\n",
       "      <td>5.906434e-02</td>\n",
       "      <td>4.42351</td>\n",
       "      <td>-inf</td>\n",
       "      <td>inf</td>\n",
       "      <td>10</td>\n",
       "      <td>[1.3352368684147649, 1.3352368684147649, 1.335...</td>\n",
       "    </tr>\n",
       "    <tr>\n",
       "      <td>Saq0_2</td>\n",
       "      <td>2.14664e-10</td>\n",
       "      <td>2.502106e-10</td>\n",
       "      <td>116.559</td>\n",
       "      <td>-inf</td>\n",
       "      <td>inf</td>\n",
       "      <td>0.0001</td>\n",
       "      <td>[2.1466448974593843e-10, 2.1466448974593843e-1...</td>\n",
       "    </tr>\n",
       "  </tbody>\n",
       "</table>\n",
       "</div>"
      ],
      "text/plain": [
       "            optimal           std perc_std  pmin  pmax initial  \\\n",
       "kaq0_2      1.33524  5.906434e-02  4.42351  -inf   inf      10   \n",
       "Saq0_2  2.14664e-10  2.502106e-10  116.559  -inf   inf  0.0001   \n",
       "\n",
       "                                                   parray  \n",
       "kaq0_2  [1.3352368684147649, 1.3352368684147649, 1.335...  \n",
       "Saq0_2  [2.1466448974593843e-10, 2.1466448974593843e-1...  "
      ]
     },
     "metadata": {},
     "output_type": "display_data"
    },
    {
     "name": "stdout",
     "output_type": "stream",
     "text": [
      "RMSE: 0.018315367486363435\n"
     ]
    }
   ],
   "source": [
    "display(ca_0.parameters)\n",
    "print('RMSE:', ca_0.rmse())"
   ]
  },
  {
   "cell_type": "code",
   "execution_count": 24,
   "metadata": {},
   "outputs": [
    {
     "name": "stderr",
     "output_type": "stream",
     "text": [
      "The PostScript backend does not support transparency; partially transparent artists will be rendered opaque.\n",
      "The PostScript backend does not support transparency; partially transparent artists will be rendered opaque.\n"
     ]
    },
    {
     "data": {
      "image/png": "[encoded data removed]",
      "text/plain": [
       "<Figure size 576x360 with 1 Axes>"
      ]
     },
     "metadata": {
      "needs_background": "light"
     },
     "output_type": "display_data"
    }
   ],
   "source": [
    "hm_0 = ml_0.head(0, 0, t, layers=1)\n",
    "plt.figure(figsize = (8, 5))\n",
    "plt.semilogx(t, h/H0, '.', label='obs')\n",
    "plt.semilogx(t, hm_0[0]/H0, label='ttim')\n",
    "plt.xlabel('time(d)')\n",
    "plt.ylabel('h/H0')\n",
    "plt.legend();"
   ]
  },
  {
   "cell_type": "markdown",
   "metadata": {},
   "source": [
    "Try multilayer conceptual model:"
   ]
  },
  {
   "cell_type": "code",
   "execution_count": 25,
   "metadata": {},
   "outputs": [],
   "source": [
    "#Determine elevation of each layer. \n",
    "#Thickness of each layer is set to be 0.5 m.\n",
    "z0 = np.arange(zt, zb, -0.5)\n",
    "z1 = np.arange(zb, b, -0.5)\n",
    "zlay = np.append(z0, z1)\n",
    "zlay = np.append(zlay, b)\n",
    "zlay = np.insert(zlay, 0, 0)\n",
    "nlay = len(zlay) - 1 #number of layers\n",
    "Saq_1 = 1e-4 * np.ones(nlay)\n",
    "Saq_1[0] = 0.1"
   ]
  },
  {
   "cell_type": "code",
   "execution_count": 29,
   "metadata": {},
   "outputs": [
    {
     "name": "stdout",
     "output_type": "stream",
     "text": [
      "self.neq  8\n",
      "solution complete\n"
     ]
    }
   ],
   "source": [
    "ml_1 = Model3D(kaq=10, z=zlay, Saq=Saq_1, kzoverkh=1, \\\n",
    "             tmin=1e-5, tmax=0.01, phreatictop=True)\n",
    "w_1 = Well(ml_1, xw=0, yw=0, rw=rw, tsandQ=[(0, -Q)], layers=[1,2,3,4,5,6,7,8], rc=rc, \\\n",
    "           wbstype='slug')\n",
    "ml_1.solve()"
   ]
  },
  {
   "cell_type": "code",
   "execution_count": 30,
   "metadata": {},
   "outputs": [
    {
     "name": "stdout",
     "output_type": "stream",
     "text": [
      ".........................................\n",
      "Fit succeeded.\n",
      "[[Fit Statistics]]\n",
      "    # fitting method   = leastsq\n",
      "    # function evals   = 38\n",
      "    # data points      = 216\n",
      "    # variables        = 2\n",
      "    chi-square         = 0.00868193\n",
      "    reduced chi-square = 4.0570e-05\n",
      "    Akaike info crit   = -2182.30650\n",
      "    Bayesian info crit = -2175.55594\n",
      "[[Variables]]\n",
      "    kaq0_21:  0.49532050 +/- 0.00771220 (1.56%) (init = 10)\n",
      "    Saq0_21:  4.0620e-04 +/- 3.5550e-05 (8.75%) (init = 0.0001)\n",
      "[[Correlations]] (unreported correlations are < 0.100)\n",
      "    C(kaq0_21, Saq0_21) = -0.959\n"
     ]
    }
   ],
   "source": [
    "ca_1 = Calibrate(ml_1)\n",
    "ca_1.set_parameter(name='kaq0_21', initial=10, pmin=0)\n",
    "ca_1.set_parameter(name='Saq0_21', initial=1e-4, pmin=0)\n",
    "ca_1.series(name='obs', x=0, y=0, layer=[1,2,3,4,5,6,7,8], t=t, h=h)\n",
    "ca_1.fit(report = True)"
   ]
  },
  {
   "cell_type": "code",
   "execution_count": 31,
   "metadata": {},
   "outputs": [
    {
     "data": {
      "text/html": [
       "<div>\n",
       "<style scoped>\n",
       "    .dataframe tbody tr th:only-of-type {\n",
       "        vertical-align: middle;\n",
       "    }\n",
       "\n",
       "    .dataframe tbody tr th {\n",
       "        vertical-align: top;\n",
       "    }\n",
       "\n",
       "    .dataframe thead th {\n",
       "        text-align: right;\n",
       "    }\n",
       "</style>\n",
       "<table border=\"1\" class=\"dataframe\">\n",
       "  <thead>\n",
       "    <tr style=\"text-align: right;\">\n",
       "      <th></th>\n",
       "      <th>optimal</th>\n",
       "      <th>std</th>\n",
       "      <th>perc_std</th>\n",
       "      <th>pmin</th>\n",
       "      <th>pmax</th>\n",
       "      <th>initial</th>\n",
       "      <th>parray</th>\n",
       "    </tr>\n",
       "  </thead>\n",
       "  <tbody>\n",
       "    <tr>\n",
       "      <td>kaq0_21</td>\n",
       "      <td>0.495321</td>\n",
       "      <td>0.007712</td>\n",
       "      <td>1.55701</td>\n",
       "      <td>0</td>\n",
       "      <td>inf</td>\n",
       "      <td>10</td>\n",
       "      <td>[0.4953205000476846, 0.4953205000476846, 0.495...</td>\n",
       "    </tr>\n",
       "    <tr>\n",
       "      <td>Saq0_21</td>\n",
       "      <td>0.000406197</td>\n",
       "      <td>0.000036</td>\n",
       "      <td>8.7519</td>\n",
       "      <td>0</td>\n",
       "      <td>inf</td>\n",
       "      <td>0.0001</td>\n",
       "      <td>[0.0004061971689826027, 0.0004061971689826027,...</td>\n",
       "    </tr>\n",
       "  </tbody>\n",
       "</table>\n",
       "</div>"
      ],
      "text/plain": [
       "             optimal       std perc_std pmin  pmax initial  \\\n",
       "kaq0_21     0.495321  0.007712  1.55701    0   inf      10   \n",
       "Saq0_21  0.000406197  0.000036   8.7519    0   inf  0.0001   \n",
       "\n",
       "                                                    parray  \n",
       "kaq0_21  [0.4953205000476846, 0.4953205000476846, 0.495...  \n",
       "Saq0_21  [0.0004061971689826027, 0.0004061971689826027,...  "
      ]
     },
     "metadata": {},
     "output_type": "display_data"
    },
    {
     "name": "stdout",
     "output_type": "stream",
     "text": [
      "RMSE: 0.006339884853175206\n"
     ]
    }
   ],
   "source": [
    "display(ca_1.parameters)\n",
    "print('RMSE:', ca_1.rmse())"
   ]
  },
  {
   "cell_type": "code",
   "execution_count": 34,
   "metadata": {},
   "outputs": [
    {
     "name": "stderr",
     "output_type": "stream",
     "text": [
      "The PostScript backend does not support transparency; partially transparent artists will be rendered opaque.\n",
      "The PostScript backend does not support transparency; partially transparent artists will be rendered opaque.\n"
     ]
    },
    {
     "data": {
      "image/png": "[encoded data removed]",
      "text/plain": [
       "<Figure size 576x360 with 1 Axes>"
      ]
     },
     "metadata": {
      "needs_background": "light"
     },
     "output_type": "display_data"
    }
   ],
   "source": [
    "hm_1 = ml_1.head(0, 0, t, layers=8)\n",
    "plt.figure(figsize = (8, 5))\n",
    "plt.semilogx(t, h/H0, '.', label='obs')\n",
    "plt.semilogx(t, hm_1[0]/H0, label='ttim')\n",
    "plt.xlabel('time(d)')\n",
    "plt.ylabel('h/H0')\n",
    "plt.legend();"
   ]
  },
  {
   "cell_type": "markdown",
   "metadata": {},
   "source": [
    "Try adding well screen resistance:"
   ]
  },
  {
   "cell_type": "code",
   "execution_count": 35,
   "metadata": {},
   "outputs": [
    {
     "name": "stdout",
     "output_type": "stream",
     "text": [
      "self.neq  8\n",
      "solution complete\n"
     ]
    }
   ],
   "source": [
    "ml_2 = Model3D(kaq=10, z=zlay, Saq=Saq_1, kzoverkh=1, \\\n",
    "             tmin=1e-5, tmax=0.01, phreatictop=True)\n",
    "w_2 = Well(ml_2, xw=0, yw=0, rw=rw, tsandQ=[(0, -Q)], layers=[1,2,3,4,5,6,7,8], \\\n",
    "           rc=rc, res=0.1, wbstype='slug')\n",
    "ml_2.solve()"
   ]
  },
  {
   "cell_type": "code",
   "execution_count": 36,
   "metadata": {
    "scrolled": true
   },
   "outputs": [
    {
     "name": "stdout",
     "output_type": "stream",
     "text": [
      "............................................\n",
      "Fit succeeded.\n",
      "[[Fit Statistics]]\n",
      "    # fitting method   = leastsq\n",
      "    # function evals   = 41\n",
      "    # data points      = 216\n",
      "    # variables        = 3\n",
      "    chi-square         = 0.00858106\n",
      "    reduced chi-square = 4.0287e-05\n",
      "    Akaike info crit   = -2182.83089\n",
      "    Bayesian info crit = -2172.70506\n",
      "[[Variables]]\n",
      "    kaq0_21:  0.50749746 +/- 0.01052392 (2.07%) (init = 10)\n",
      "    Saq0_21:  3.4727e-04 +/- 4.4651e-05 (12.86%) (init = 0.0001)\n",
      "    res:      0.00233497 +/- 0.00143443 (61.43%) (init = 0)\n",
      "[[Correlations]] (unreported correlations are < 0.100)\n",
      "    C(kaq0_21, Saq0_21) = -0.977\n",
      "    C(Saq0_21, res)     = -0.715\n",
      "    C(kaq0_21, res)     =  0.674\n"
     ]
    }
   ],
   "source": [
    "ca_2 = Calibrate(ml_2)\n",
    "ca_2.set_parameter(name='kaq0_21', initial=10, pmin=0)\n",
    "ca_2.set_parameter(name='Saq0_21', initial=1e-4, pmin=0)\n",
    "ca_2.set_parameter_by_reference(name='res', parameter=w_2.res, initial=0, pmin=0)\n",
    "ca_2.series(name='obs', x=0, y=0, layer=[1,2,3,4,5,6,7,8], t=t, h=h)\n",
    "ca_2.fit(report = True)"
   ]
  },
  {
   "cell_type": "code",
   "execution_count": 37,
   "metadata": {},
   "outputs": [
    {
     "data": {
      "text/html": [
       "<div>\n",
       "<style scoped>\n",
       "    .dataframe tbody tr th:only-of-type {\n",
       "        vertical-align: middle;\n",
       "    }\n",
       "\n",
       "    .dataframe tbody tr th {\n",
       "        vertical-align: top;\n",
       "    }\n",
       "\n",
       "    .dataframe thead th {\n",
       "        text-align: right;\n",
       "    }\n",
       "</style>\n",
       "<table border=\"1\" class=\"dataframe\">\n",
       "  <thead>\n",
       "    <tr style=\"text-align: right;\">\n",
       "      <th></th>\n",
       "      <th>optimal</th>\n",
       "      <th>std</th>\n",
       "      <th>perc_std</th>\n",
       "      <th>pmin</th>\n",
       "      <th>pmax</th>\n",
       "      <th>initial</th>\n",
       "      <th>parray</th>\n",
       "    </tr>\n",
       "  </thead>\n",
       "  <tbody>\n",
       "    <tr>\n",
       "      <td>kaq0_21</td>\n",
       "      <td>0.507497</td>\n",
       "      <td>0.010524</td>\n",
       "      <td>2.07369</td>\n",
       "      <td>0</td>\n",
       "      <td>inf</td>\n",
       "      <td>10</td>\n",
       "      <td>[0.50749745967107, 0.50749745967107, 0.5074974...</td>\n",
       "    </tr>\n",
       "    <tr>\n",
       "      <td>Saq0_21</td>\n",
       "      <td>0.000347266</td>\n",
       "      <td>0.000045</td>\n",
       "      <td>12.8578</td>\n",
       "      <td>0</td>\n",
       "      <td>inf</td>\n",
       "      <td>0.0001</td>\n",
       "      <td>[0.0003472655198073493, 0.0003472655198073493,...</td>\n",
       "    </tr>\n",
       "    <tr>\n",
       "      <td>res</td>\n",
       "      <td>0.00233497</td>\n",
       "      <td>0.001434</td>\n",
       "      <td>61.4326</td>\n",
       "      <td>0</td>\n",
       "      <td>inf</td>\n",
       "      <td>0</td>\n",
       "      <td>[0.0023349682160858087]</td>\n",
       "    </tr>\n",
       "  </tbody>\n",
       "</table>\n",
       "</div>"
      ],
      "text/plain": [
       "             optimal       std perc_std pmin  pmax initial  \\\n",
       "kaq0_21     0.507497  0.010524  2.07369    0   inf      10   \n",
       "Saq0_21  0.000347266  0.000045  12.8578    0   inf  0.0001   \n",
       "res       0.00233497  0.001434  61.4326    0   inf       0   \n",
       "\n",
       "                                                    parray  \n",
       "kaq0_21  [0.50749745967107, 0.50749745967107, 0.5074974...  \n",
       "Saq0_21  [0.0003472655198073493, 0.0003472655198073493,...  \n",
       "res                                [0.0023349682160858087]  "
      ]
     },
     "metadata": {},
     "output_type": "display_data"
    },
    {
     "name": "stdout",
     "output_type": "stream",
     "text": [
      "RMSE: 0.006302945725154117\n"
     ]
    }
   ],
   "source": [
    "display(ca_2.parameters)\n",
    "print('RMSE:', ca_2.rmse())"
   ]
  },
  {
   "cell_type": "code",
   "execution_count": 38,
   "metadata": {},
   "outputs": [
    {
     "data": {
      "image/png": "[encoded data removed]",
      "text/plain": [
       "<Figure size 576x360 with 1 Axes>"
      ]
     },
     "metadata": {
      "needs_background": "light"
     },
     "output_type": "display_data"
    }
   ],
   "source": [
    "hm_2 = ml_2.head(0, 0, t, layers=8)\n",
    "plt.figure(figsize = (8, 5))\n",
    "plt.semilogx(t, h/H0, '.', label='obs')\n",
    "plt.semilogx(t, hm_2[0]/H0, label='ttim')\n",
    "plt.xlabel('time(d)')\n",
    "plt.ylabel('h/H0')\n",
    "plt.legend();"
   ]
  },
  {
   "cell_type": "markdown",
   "metadata": {},
   "source": [
    "Optimized res is very close to the minimum limitation for res. Thus, resistance of well skin has little effect on model performance. "
   ]
  },
  {
   "cell_type": "markdown",
   "metadata": {},
   "source": [
    "## Summary of values presented in AQTESOLV:"
   ]
  },
  {
   "cell_type": "code",
   "execution_count": 39,
   "metadata": {},
   "outputs": [
    {
     "data": {
      "text/html": [
       "<div>\n",
       "<style scoped>\n",
       "    .dataframe tbody tr th:only-of-type {\n",
       "        vertical-align: middle;\n",
       "    }\n",
       "\n",
       "    .dataframe tbody tr th {\n",
       "        vertical-align: top;\n",
       "    }\n",
       "\n",
       "    .dataframe thead th {\n",
       "        text-align: right;\n",
       "    }\n",
       "</style>\n",
       "<table border=\"1\" class=\"dataframe\">\n",
       "  <thead>\n",
       "    <tr style=\"text-align: right;\">\n",
       "      <th></th>\n",
       "      <th>k [m/d]</th>\n",
       "      <th>Ss [1/m]</th>\n",
       "      <th>RMSE</th>\n",
       "    </tr>\n",
       "  </thead>\n",
       "  <tbody>\n",
       "    <tr>\n",
       "      <td>AQTESOLV</td>\n",
       "      <td>2.616</td>\n",
       "      <td>7.894e-05</td>\n",
       "      <td>0.001197</td>\n",
       "    </tr>\n",
       "    <tr>\n",
       "      <td>ttim-single</td>\n",
       "      <td>1.33524</td>\n",
       "      <td>2.14664e-10</td>\n",
       "      <td>0.018315</td>\n",
       "    </tr>\n",
       "    <tr>\n",
       "      <td>ttim-multi</td>\n",
       "      <td>0.495321</td>\n",
       "      <td>0.000406197</td>\n",
       "      <td>0.006340</td>\n",
       "    </tr>\n",
       "  </tbody>\n",
       "</table>\n",
       "</div>"
      ],
      "text/plain": [
       "              k [m/d]     Ss [1/m]      RMSE\n",
       "AQTESOLV        2.616    7.894e-05  0.001197\n",
       "ttim-single   1.33524  2.14664e-10  0.018315\n",
       "ttim-multi   0.495321  0.000406197  0.006340"
      ]
     },
     "execution_count": 39,
     "metadata": {},
     "output_type": "execute_result"
    }
   ],
   "source": [
    "t = pd.DataFrame(columns=['k [m/d]', 'Ss [1/m]'], \\\n",
    "                index=['AQTESOLV', 'ttim-single', 'ttim-multi'])\n",
    "t.loc['AQTESOLV'] = [2.616, 7.894E-5]\n",
    "t.loc['ttim-single'] = ca_0.parameters['optimal'].values\n",
    "t.loc['ttim-multi'] = ca_1.parameters['optimal'].values\n",
    "t['RMSE'] = [0.001197, round(ca_0.rmse(), 6), round(ca_1.rmse(), 6)]\n",
    "t"
   ]
  },
  {
   "cell_type": "code",
   "execution_count": null,
   "metadata": {},
   "outputs": [],
   "source": []
  }
 ],
 "metadata": {
  "kernelspec": {
   "display_name": "Python 3",
   "language": "python",
   "name": "python3"
  },
  "language_info": {
   "codemirror_mode": {
    "name": "ipython",
    "version": 3
   },
   "file_extension": ".py",
   "mimetype": "text/x-python",
   "name": "python",
   "nbconvert_exporter": "python",
   "pygments_lexer": "ipython3",
   "version": "3.7.4"
  }
 },
 "nbformat": 4,
 "nbformat_minor": 2
}
