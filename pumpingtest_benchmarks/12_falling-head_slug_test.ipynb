{
 "cells": [
  {
   "cell_type": "markdown",
   "metadata": {},
   "source": [
    "## Slug Test for Unconfined Aquifer\n",
    "**This test is taken from examples of AQTESOLV.**"
   ]
  },
  {
   "cell_type": "code",
   "execution_count": 1,
   "metadata": {},
   "outputs": [],
   "source": [
    "%matplotlib inline\n",
    "from ttim import *\n",
    "import numpy as np\n",
    "import matplotlib.pyplot as plt\n",
    "import pandas as pd"
   ]
  },
  {
   "cell_type": "markdown",
   "metadata": {},
   "source": [
    "Set background parameters:"
   ]
  },
  {
   "cell_type": "code",
   "execution_count": 2,
   "metadata": {},
   "outputs": [],
   "source": [
    "rw = 0.127 # well radius\n",
    "rc = 0.0508 # well casing radius\n",
    "L = 4.20624 # screen length\n",
    "b = -9.9274 # aquifer thickness\n",
    "zt = -0.1433 # depth to top of the screen\n",
    "H0 = 0.4511 # initial displacement in the well\n",
    "zb = zt - L # bottom of the screen"
   ]
  },
  {
   "cell_type": "markdown",
   "metadata": {},
   "source": [
    "Slug:"
   ]
  },
  {
   "cell_type": "code",
   "execution_count": 3,
   "metadata": {},
   "outputs": [
    {
     "name": "stdout",
     "output_type": "stream",
     "text": [
      "Slug: 0.00366 m^3\n"
     ]
    }
   ],
   "source": [
    "Q = np.pi * rc ** 2 * H0\n",
    "print('Slug:', round(Q, 5), 'm^3')"
   ]
  },
  {
   "cell_type": "markdown",
   "metadata": {},
   "source": [
    "Load data:"
   ]
  },
  {
   "cell_type": "code",
   "execution_count": 4,
   "metadata": {},
   "outputs": [],
   "source": [
    "data = np.loadtxt('data/falling_head.txt', skiprows = 2)\n",
    "t = data[:, 0] / 60 / 60 / 24 #convert time from seconds to days\n",
    "h = (10 - data[:, 1]) * 0.3048 #convert drawdown from ft to meters"
   ]
  },
  {
   "cell_type": "code",
   "execution_count": 5,
   "metadata": {},
   "outputs": [
    {
     "name": "stdout",
     "output_type": "stream",
     "text": [
      "2.3148148148148147e-05 0.0037731481481481483\n"
     ]
    }
   ],
   "source": [
    "print(t.min(), t.max())"
   ]
  },
  {
   "cell_type": "markdown",
   "metadata": {},
   "source": [
    "Create single layer conceptual model:"
   ]
  },
  {
   "cell_type": "code",
   "execution_count": 6,
   "metadata": {},
   "outputs": [
    {
     "name": "stdout",
     "output_type": "stream",
     "text": [
      "self.neq  1\n",
      "solution complete\n"
     ]
    }
   ],
   "source": [
    "ml_0 = ModelMaq(kaq=10, z=[0, b], Saq=1e-4, tmin=1e-5, tmax=0.01)\n",
    "w_0 = Well(ml_0, xw=0, yw=0, rw=rw, rc=rc, tsandQ=[(0, -Q)], layers=0, wbstype='slug')\n",
    "ml_0.solve()"
   ]
  },
  {
   "cell_type": "code",
   "execution_count": 7,
   "metadata": {},
   "outputs": [
    {
     "name": "stdout",
     "output_type": "stream",
     "text": [
      ".............................................................................................................................................................................................................................................................................................................................................................................................................................................................................................................................................................................................................................\n",
      "Fit succeeded.\n",
      "[[Fit Statistics]]\n",
      "    # fitting method   = leastsq\n",
      "    # function evals   = 602\n",
      "    # data points      = 27\n",
      "    # variables        = 2\n",
      "    chi-square         = 0.00118484\n",
      "    reduced chi-square = 4.7394e-05\n",
      "    Akaike info crit   = -266.917594\n",
      "    Bayesian info crit = -264.325920\n",
      "[[Variables]]\n",
      "    kaq0:  0.26163369 +/- 0.01726105 (6.60%) (init = 10)\n",
      "    Saq0:  8.0116e-05 +/- 2.8706e-05 (35.83%) (init = 0.0001)\n",
      "[[Correlations]] (unreported correlations are < 0.100)\n",
      "    C(kaq0, Saq0) = -0.979\n"
     ]
    }
   ],
   "source": [
    "#unknown parameters: kaq, Saq\n",
    "ca_0 = Calibrate(ml_0)\n",
    "ca_0.set_parameter(name='kaq0', initial=10, pmin=0)\n",
    "ca_0.set_parameter(name='Saq0', initial=1e-4)\n",
    "ca_0.series(name='obs', x=0, y=0, t=t, h=h, layer=0)\n",
    "ca_0.fit(report=True)"
   ]
  },
  {
   "cell_type": "code",
   "execution_count": 8,
   "metadata": {},
   "outputs": [
    {
     "data": {
      "text/html": [
       "<div>\n",
       "<style scoped>\n",
       "    .dataframe tbody tr th:only-of-type {\n",
       "        vertical-align: middle;\n",
       "    }\n",
       "\n",
       "    .dataframe tbody tr th {\n",
       "        vertical-align: top;\n",
       "    }\n",
       "\n",
       "    .dataframe thead th {\n",
       "        text-align: right;\n",
       "    }\n",
       "</style>\n",
       "<table border=\"1\" class=\"dataframe\">\n",
       "  <thead>\n",
       "    <tr style=\"text-align: right;\">\n",
       "      <th></th>\n",
       "      <th>optimal</th>\n",
       "      <th>std</th>\n",
       "      <th>perc_std</th>\n",
       "      <th>pmin</th>\n",
       "      <th>pmax</th>\n",
       "      <th>initial</th>\n",
       "      <th>parray</th>\n",
       "    </tr>\n",
       "  </thead>\n",
       "  <tbody>\n",
       "    <tr>\n",
       "      <td>kaq0</td>\n",
       "      <td>0.261634</td>\n",
       "      <td>0.017261</td>\n",
       "      <td>6.59741</td>\n",
       "      <td>0</td>\n",
       "      <td>inf</td>\n",
       "      <td>10</td>\n",
       "      <td>[0.26163369124253677]</td>\n",
       "    </tr>\n",
       "    <tr>\n",
       "      <td>Saq0</td>\n",
       "      <td>8.01158e-05</td>\n",
       "      <td>0.000029</td>\n",
       "      <td>35.8312</td>\n",
       "      <td>-inf</td>\n",
       "      <td>inf</td>\n",
       "      <td>0.0001</td>\n",
       "      <td>[8.011583184166792e-05]</td>\n",
       "    </tr>\n",
       "  </tbody>\n",
       "</table>\n",
       "</div>"
      ],
      "text/plain": [
       "          optimal       std perc_std pmin  pmax initial  \\\n",
       "kaq0     0.261634  0.017261  6.59741    0   inf      10   \n",
       "Saq0  8.01158e-05  0.000029  35.8312 -inf   inf  0.0001   \n",
       "\n",
       "                       parray  \n",
       "kaq0    [0.26163369124253677]  \n",
       "Saq0  [8.011583184166792e-05]  "
      ]
     },
     "metadata": {},
     "output_type": "display_data"
    },
    {
     "name": "stdout",
     "output_type": "stream",
     "text": [
      "RMSE: 0.006624419841400156\n"
     ]
    }
   ],
   "source": [
    "display(ca_0.parameters)\n",
    "print('RMSE:', ca_0.rmse())"
   ]
  },
  {
   "cell_type": "code",
   "execution_count": 9,
   "metadata": {},
   "outputs": [
    {
     "data": {
      "image/png": "[encoded data removed]",
      "text/plain": [
       "<Figure size 576x360 with 1 Axes>"
      ]
     },
     "metadata": {
      "needs_background": "light"
     },
     "output_type": "display_data"
    }
   ],
   "source": [
    "hm_0 = ml_0.head(0, 0, t, layers=0)\n",
    "plt.figure(figsize = (8, 5))\n",
    "plt.semilogx(t, h, '.', label='obs')\n",
    "plt.semilogx(t, hm_0[0], label='ttim')\n",
    "plt.xlabel('time(d)')\n",
    "plt.ylabel('drawdown(m)')\n",
    "plt.legend();"
   ]
  },
  {
   "cell_type": "markdown",
   "metadata": {},
   "source": [
    "Try multilayer conceptual model:"
   ]
  },
  {
   "cell_type": "code",
   "execution_count": 10,
   "metadata": {},
   "outputs": [],
   "source": [
    "#Determine elevation of each layer. \n",
    "#Thickness of each layer is set to be 0.5 m.\n",
    "z0 = np.arange(zt, zb, -0.5)\n",
    "z1 = np.arange(zb, b, -0.5)\n",
    "zlay = np.append(z0, z1)\n",
    "zlay = np.append(zlay, b)\n",
    "zlay = np.insert(zlay, 0, 0)\n",
    "nlay = len(zlay) - 1 #number of layers\n",
    "Saq_1 = 1e-4 * np.ones(nlay)\n",
    "Saq_1[0] = 0.1"
   ]
  },
  {
   "cell_type": "code",
   "execution_count": 11,
   "metadata": {},
   "outputs": [
    {
     "name": "stdout",
     "output_type": "stream",
     "text": [
      "self.neq  1\n",
      "solution complete\n"
     ]
    }
   ],
   "source": [
    "ml_1 = Model3D(kaq=10, z=zlay, Saq=Saq_1, kzoverkh=1, \\\n",
    "             tmin=1e-5, tmax=0.01, phreatictop=True)\n",
    "w_1 = Well(ml_1, xw=0, yw=0, rw=rw, tsandQ=[(0, -Q)], layers=1, rc=rc, wbstype='slug')\n",
    "ml_1.solve()"
   ]
  },
  {
   "cell_type": "code",
   "execution_count": 12,
   "metadata": {},
   "outputs": [
    {
     "name": "stdout",
     "output_type": "stream",
     "text": [
      "......................................\n",
      "Fit succeeded.\n",
      "[[Fit Statistics]]\n",
      "    # fitting method   = leastsq\n",
      "    # function evals   = 35\n",
      "    # data points      = 27\n",
      "    # variables        = 2\n",
      "    chi-square         = 9.3197e-04\n",
      "    reduced chi-square = 3.7279e-05\n",
      "    Akaike info crit   = -273.399289\n",
      "    Bayesian info crit = -270.807615\n",
      "[[Variables]]\n",
      "    kaq0_21:  2.08635448 +/- 0.05248548 (2.52%) (init = 10)\n",
      "    Saq0_21:  0.01482294 +/- 0.00225647 (15.22%) (init = 0.0001)\n",
      "[[Correlations]] (unreported correlations are < 0.100)\n",
      "    C(kaq0_21, Saq0_21) = -0.888\n"
     ]
    }
   ],
   "source": [
    "ca_1 = Calibrate(ml_1)\n",
    "ca_1.set_parameter(name='kaq0_21', initial=10, pmin=0)\n",
    "ca_1.set_parameter(name='Saq0_21', initial=1e-4, pmin=0)\n",
    "ca_1.series(name='obs', x=0, y=0, layer=1, t=t, h=h)\n",
    "ca_1.fit(report = True)"
   ]
  },
  {
   "cell_type": "code",
   "execution_count": 13,
   "metadata": {},
   "outputs": [
    {
     "data": {
      "text/html": [
       "<div>\n",
       "<style scoped>\n",
       "    .dataframe tbody tr th:only-of-type {\n",
       "        vertical-align: middle;\n",
       "    }\n",
       "\n",
       "    .dataframe tbody tr th {\n",
       "        vertical-align: top;\n",
       "    }\n",
       "\n",
       "    .dataframe thead th {\n",
       "        text-align: right;\n",
       "    }\n",
       "</style>\n",
       "<table border=\"1\" class=\"dataframe\">\n",
       "  <thead>\n",
       "    <tr style=\"text-align: right;\">\n",
       "      <th></th>\n",
       "      <th>optimal</th>\n",
       "      <th>std</th>\n",
       "      <th>perc_std</th>\n",
       "      <th>pmin</th>\n",
       "      <th>pmax</th>\n",
       "      <th>initial</th>\n",
       "      <th>parray</th>\n",
       "    </tr>\n",
       "  </thead>\n",
       "  <tbody>\n",
       "    <tr>\n",
       "      <td>kaq0_21</td>\n",
       "      <td>2.08635</td>\n",
       "      <td>0.052485</td>\n",
       "      <td>2.51565</td>\n",
       "      <td>0</td>\n",
       "      <td>inf</td>\n",
       "      <td>10</td>\n",
       "      <td>[2.086354478423537, 2.086354478423537, 2.08635...</td>\n",
       "    </tr>\n",
       "    <tr>\n",
       "      <td>Saq0_21</td>\n",
       "      <td>0.0148229</td>\n",
       "      <td>0.002256</td>\n",
       "      <td>15.2228</td>\n",
       "      <td>0</td>\n",
       "      <td>inf</td>\n",
       "      <td>0.0001</td>\n",
       "      <td>[0.014822937705603945, 0.014822937705603945, 0...</td>\n",
       "    </tr>\n",
       "  </tbody>\n",
       "</table>\n",
       "</div>"
      ],
      "text/plain": [
       "           optimal       std perc_std pmin  pmax initial  \\\n",
       "kaq0_21    2.08635  0.052485  2.51565    0   inf      10   \n",
       "Saq0_21  0.0148229  0.002256  15.2228    0   inf  0.0001   \n",
       "\n",
       "                                                    parray  \n",
       "kaq0_21  [2.086354478423537, 2.086354478423537, 2.08635...  \n",
       "Saq0_21  [0.014822937705603945, 0.014822937705603945, 0...  "
      ]
     },
     "metadata": {},
     "output_type": "display_data"
    },
    {
     "name": "stdout",
     "output_type": "stream",
     "text": [
      "RMSE: 0.005875148929828214\n"
     ]
    }
   ],
   "source": [
    "display(ca_1.parameters)\n",
    "print('RMSE:', ca_1.rmse())"
   ]
  },
  {
   "cell_type": "code",
   "execution_count": 14,
   "metadata": {},
   "outputs": [
    {
     "data": {
      "image/png": "[encoded data removed]",
      "text/plain": [
       "<Figure size 576x360 with 1 Axes>"
      ]
     },
     "metadata": {
      "needs_background": "light"
     },
     "output_type": "display_data"
    }
   ],
   "source": [
    "hm_1 = ml_1.head(0, 0, t, layers=1)\n",
    "plt.figure(figsize = (8, 5))\n",
    "plt.semilogx(t, h, '.', label='obs')\n",
    "plt.semilogx(t, hm_1[0], label='ttim')\n",
    "plt.xlabel('time(d)')\n",
    "plt.ylabel('drawdown(m)')\n",
    "plt.legend();"
   ]
  },
  {
   "cell_type": "markdown",
   "metadata": {},
   "source": [
    "Try adding well screen resistance:"
   ]
  },
  {
   "cell_type": "code",
   "execution_count": 15,
   "metadata": {},
   "outputs": [
    {
     "name": "stdout",
     "output_type": "stream",
     "text": [
      "self.neq  1\n",
      "solution complete\n"
     ]
    }
   ],
   "source": [
    "ml_2 = Model3D(kaq=10, z=zlay, Saq=Saq_1, kzoverkh=1, \\\n",
    "             tmin=1e-5, tmax=0.01, phreatictop=True)\n",
    "w_2 = Well(ml_2, xw=0, yw=0, rw=rw, tsandQ=[(0, -Q)], layers=1, \\\n",
    "           rc=rc, res=0.1, wbstype='slug')\n",
    "ml_2.solve()"
   ]
  },
  {
   "cell_type": "code",
   "execution_count": 16,
   "metadata": {
    "scrolled": true
   },
   "outputs": [
    {
     "name": "stdout",
     "output_type": "stream",
     "text": [
      ".........................................\n",
      "Fit succeeded.\n",
      "[[Fit Statistics]]\n",
      "    # fitting method   = leastsq\n",
      "    # function evals   = 38\n",
      "    # data points      = 27\n",
      "    # variables        = 3\n",
      "    chi-square         = 8.2005e-04\n",
      "    reduced chi-square = 3.4169e-05\n",
      "    Akaike info crit   = -274.853444\n",
      "    Bayesian info crit = -270.965933\n",
      "[[Variables]]\n",
      "    kaq0_21:  2.01415986 +/- 0.05689915 (2.82%) (init = 10)\n",
      "    Saq0_21:  0.01917323 +/- 0.00326924 (17.05%) (init = 0.0001)\n",
      "    res:     -8.4044e-04 +/- 4.3487e-04 (51.74%) (init = 0)\n",
      "[[Correlations]] (unreported correlations are < 0.100)\n",
      "    C(kaq0_21, Saq0_21) = -0.915\n",
      "    C(Saq0_21, res)     = -0.685\n",
      "    C(kaq0_21, res)     =  0.589\n"
     ]
    }
   ],
   "source": [
    "ca_2 = Calibrate(ml_2)\n",
    "ca_2.set_parameter(name='kaq0_21', initial=10, pmin=0)\n",
    "ca_2.set_parameter(name='Saq0_21', initial=1e-4, pmin=0)\n",
    "ca_2.set_parameter_by_reference(name='res', parameter=w_2.res, initial=0)\n",
    "ca_2.series(name='obs', x=0, y=0, layer=1, t=t, h=h)\n",
    "ca_2.fit(report = True)"
   ]
  },
  {
   "cell_type": "code",
   "execution_count": 17,
   "metadata": {},
   "outputs": [
    {
     "data": {
      "text/html": [
       "<div>\n",
       "<style scoped>\n",
       "    .dataframe tbody tr th:only-of-type {\n",
       "        vertical-align: middle;\n",
       "    }\n",
       "\n",
       "    .dataframe tbody tr th {\n",
       "        vertical-align: top;\n",
       "    }\n",
       "\n",
       "    .dataframe thead th {\n",
       "        text-align: right;\n",
       "    }\n",
       "</style>\n",
       "<table border=\"1\" class=\"dataframe\">\n",
       "  <thead>\n",
       "    <tr style=\"text-align: right;\">\n",
       "      <th></th>\n",
       "      <th>optimal</th>\n",
       "      <th>std</th>\n",
       "      <th>perc_std</th>\n",
       "      <th>pmin</th>\n",
       "      <th>pmax</th>\n",
       "      <th>initial</th>\n",
       "      <th>parray</th>\n",
       "    </tr>\n",
       "  </thead>\n",
       "  <tbody>\n",
       "    <tr>\n",
       "      <td>kaq0_21</td>\n",
       "      <td>2.01416</td>\n",
       "      <td>0.056899</td>\n",
       "      <td>2.82496</td>\n",
       "      <td>0</td>\n",
       "      <td>inf</td>\n",
       "      <td>10</td>\n",
       "      <td>[2.0141598605177466, 2.0141598605177466, 2.014...</td>\n",
       "    </tr>\n",
       "    <tr>\n",
       "      <td>Saq0_21</td>\n",
       "      <td>0.0191732</td>\n",
       "      <td>0.003269</td>\n",
       "      <td>17.051</td>\n",
       "      <td>0</td>\n",
       "      <td>inf</td>\n",
       "      <td>0.0001</td>\n",
       "      <td>[0.01917322856789272, 0.01917322856789272, 0.0...</td>\n",
       "    </tr>\n",
       "    <tr>\n",
       "      <td>res</td>\n",
       "      <td>-0.000840439</td>\n",
       "      <td>0.000435</td>\n",
       "      <td>51.7433</td>\n",
       "      <td>-inf</td>\n",
       "      <td>inf</td>\n",
       "      <td>0</td>\n",
       "      <td>[-0.0008404389845247199]</td>\n",
       "    </tr>\n",
       "  </tbody>\n",
       "</table>\n",
       "</div>"
      ],
      "text/plain": [
       "             optimal       std perc_std pmin  pmax initial  \\\n",
       "kaq0_21      2.01416  0.056899  2.82496    0   inf      10   \n",
       "Saq0_21    0.0191732  0.003269   17.051    0   inf  0.0001   \n",
       "res     -0.000840439  0.000435  51.7433 -inf   inf       0   \n",
       "\n",
       "                                                    parray  \n",
       "kaq0_21  [2.0141598605177466, 2.0141598605177466, 2.014...  \n",
       "Saq0_21  [0.01917322856789272, 0.01917322856789272, 0.0...  \n",
       "res                               [-0.0008404389845247199]  "
      ]
     },
     "metadata": {},
     "output_type": "display_data"
    },
    {
     "name": "stdout",
     "output_type": "stream",
     "text": [
      "RMSE: 0.005511107377123856\n"
     ]
    }
   ],
   "source": [
    "display(ca_2.parameters)\n",
    "print('RMSE:', ca_2.rmse())"
   ]
  },
  {
   "cell_type": "code",
   "execution_count": 18,
   "metadata": {},
   "outputs": [
    {
     "data": {
      "image/png": "[encoded data removed]",
      "text/plain": [
       "<Figure size 576x360 with 1 Axes>"
      ]
     },
     "metadata": {
      "needs_background": "light"
     },
     "output_type": "display_data"
    }
   ],
   "source": [
    "hm_2 = ml_2.head(0, 0, t, layers=1)\n",
    "plt.figure(figsize = (8, 5))\n",
    "plt.semilogx(t, h, '.', label='obs')\n",
    "plt.semilogx(t, hm_2[0], label='ttim')\n",
    "plt.xlabel('time(d)')\n",
    "plt.ylabel('drawdown(m)')\n",
    "plt.legend();"
   ]
  },
  {
   "cell_type": "markdown",
   "metadata": {},
   "source": [
    "According to the rmse shown in table above, adding res does not improve the performance."
   ]
  },
  {
   "cell_type": "markdown",
   "metadata": {},
   "source": [
    "## Summary of values presented in AQTESOLV:"
   ]
  },
  {
   "cell_type": "code",
   "execution_count": 19,
   "metadata": {},
   "outputs": [
    {
     "data": {
      "text/html": [
       "<div>\n",
       "<style scoped>\n",
       "    .dataframe tbody tr th:only-of-type {\n",
       "        vertical-align: middle;\n",
       "    }\n",
       "\n",
       "    .dataframe tbody tr th {\n",
       "        vertical-align: top;\n",
       "    }\n",
       "\n",
       "    .dataframe thead th {\n",
       "        text-align: right;\n",
       "    }\n",
       "</style>\n",
       "<table border=\"1\" class=\"dataframe\">\n",
       "  <thead>\n",
       "    <tr style=\"text-align: right;\">\n",
       "      <th></th>\n",
       "      <th>k [m/d]</th>\n",
       "      <th>Ss [1/m]</th>\n",
       "      <th>RMSE</th>\n",
       "    </tr>\n",
       "  </thead>\n",
       "  <tbody>\n",
       "    <tr>\n",
       "      <td>AQTESOLV</td>\n",
       "      <td>2.616</td>\n",
       "      <td>7.894e-05</td>\n",
       "      <td>0.001197</td>\n",
       "    </tr>\n",
       "    <tr>\n",
       "      <td>ttim-single</td>\n",
       "      <td>0.261634</td>\n",
       "      <td>8.01158e-05</td>\n",
       "      <td>0.006624</td>\n",
       "    </tr>\n",
       "    <tr>\n",
       "      <td>ttim-multi</td>\n",
       "      <td>2.08635</td>\n",
       "      <td>0.0148229</td>\n",
       "      <td>0.005875</td>\n",
       "    </tr>\n",
       "  </tbody>\n",
       "</table>\n",
       "</div>"
      ],
      "text/plain": [
       "              k [m/d]     Ss [1/m]      RMSE\n",
       "AQTESOLV        2.616    7.894e-05  0.001197\n",
       "ttim-single  0.261634  8.01158e-05  0.006624\n",
       "ttim-multi    2.08635    0.0148229  0.005875"
      ]
     },
     "execution_count": 19,
     "metadata": {},
     "output_type": "execute_result"
    }
   ],
   "source": [
    "t = pd.DataFrame(columns=['k [m/d]', 'Ss [1/m]'], \\\n",
    "                index=['AQTESOLV', 'ttim-single', 'ttim-multi'])\n",
    "t.loc['AQTESOLV'] = [2.616, 7.894E-5]\n",
    "t.loc['ttim-single'] = ca_0.parameters['optimal'].values\n",
    "t.loc['ttim-multi'] = ca_1.parameters['optimal'].values\n",
    "t['RMSE'] = [0.001197, round(ca_0.rmse(), 6), round(ca_1.rmse(), 6)]\n",
    "t"
   ]
  },
  {
   "cell_type": "code",
   "execution_count": null,
   "metadata": {},
   "outputs": [],
   "source": []
  }
 ],
 "metadata": {
  "kernelspec": {
   "display_name": "Python 3",
   "language": "python",
   "name": "python3"
  },
  "language_info": {
   "codemirror_mode": {
    "name": "ipython",
    "version": 3
   },
   "file_extension": ".py",
   "mimetype": "text/x-python",
   "name": "python",
   "nbconvert_exporter": "python",
   "pygments_lexer": "ipython3",
   "version": "3.7.4"
  }
 },
 "nbformat": 4,
 "nbformat_minor": 2
}
