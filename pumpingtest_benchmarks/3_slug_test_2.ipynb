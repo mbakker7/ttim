{
 "cells": [
  {
   "cell_type": "markdown",
   "metadata": {},
   "source": [
    "## Slug Test for Unconfined Aquifer\n",
    "**This test is taken from examples of AQTESOLV.**"
   ]
  },
  {
   "cell_type": "code",
   "execution_count": 1,
   "metadata": {},
   "outputs": [],
   "source": [
    "%matplotlib inline\n",
    "from ttim import *\n",
    "import numpy as np\n",
    "import matplotlib.pyplot as plt\n",
    "import pandas as pd"
   ]
  },
  {
   "cell_type": "markdown",
   "metadata": {},
   "source": [
    "Set background parameters:"
   ]
  },
  {
   "cell_type": "code",
   "execution_count": 2,
   "metadata": {},
   "outputs": [],
   "source": [
    "rw = 0.127 # well radius\n",
    "rc = 0.0508 # well casing radius\n",
    "L = 4.20624 # screen length\n",
    "b = -9.9274 # aquifer thickness\n",
    "zt = -0.1433 # depth to top of the screen\n",
    "H0 = 0.4511 # initial displacement in the well\n",
    "zb = zt - L # bottom of the screen"
   ]
  },
  {
   "cell_type": "markdown",
   "metadata": {},
   "source": [
    "Slug:"
   ]
  },
  {
   "cell_type": "code",
   "execution_count": 3,
   "metadata": {},
   "outputs": [
    {
     "name": "stdout",
     "output_type": "stream",
     "text": [
      "Slug: 0.00366 m^3\n"
     ]
    }
   ],
   "source": [
    "Q = np.pi * rc ** 2 * H0\n",
    "print('Slug:', round(Q, 5), 'm^3')"
   ]
  },
  {
   "cell_type": "markdown",
   "metadata": {},
   "source": [
    "Load data:"
   ]
  },
  {
   "cell_type": "code",
   "execution_count": 4,
   "metadata": {},
   "outputs": [],
   "source": [
    "data = np.loadtxt('data/falling_head.txt', skiprows = 2)\n",
    "t = data[:, 0] / 60 / 60 / 24 #convert time from seconds to days\n",
    "h = (10 - data[:, 1]) * 0.3048 #convert drawdown from ft to meters"
   ]
  },
  {
   "cell_type": "markdown",
   "metadata": {},
   "source": [
    "Creat conceptual model:"
   ]
  },
  {
   "cell_type": "code",
   "execution_count": 5,
   "metadata": {},
   "outputs": [
    {
     "name": "stdout",
     "output_type": "stream",
     "text": [
      "self.neq  1\n",
      "solution complete\n"
     ]
    }
   ],
   "source": [
    "ml = Model3D(kaq=10, z=[0, zt, zb, b], Saq=1e-4, kzoverkh=1, \\\n",
    "             tmin=1e-5, tmax=0.01, phreatictop=True)\n",
    "w = Well(ml, xw=0, yw=0, rw=rw, tsandQ=[(0, -Q)], layers=1, wbstype='slug')\n",
    "ml.solve()"
   ]
  },
  {
   "cell_type": "code",
   "execution_count": 6,
   "metadata": {},
   "outputs": [
    {
     "name": "stdout",
     "output_type": "stream",
     "text": [
      ".............................................................................................................\n",
      "Fit succeeded.\n",
      "[[Fit Statistics]]\n",
      "    # fitting method   = leastsq\n",
      "    # function evals   = 106\n",
      "    # data points      = 27\n",
      "    # variables        = 2\n",
      "    chi-square         = 0.34052586\n",
      "    reduced chi-square = 0.01362103\n",
      "    Akaike info crit   = -114.073729\n",
      "    Bayesian info crit = -111.482055\n",
      "[[Variables]]\n",
      "    kaq0_2:  0.16250273 +/- 0.03421034 (21.05%) (init = 50)\n",
      "    Saq0_2:  0.17476449 +/- 0.03661437 (20.95%) (init = 0.0001)\n",
      "[[Correlations]] (unreported correlations are < 0.100)\n",
      "    C(kaq0_2, Saq0_2) =  1.000\n"
     ]
    }
   ],
   "source": [
    "ca = Calibrate(ml)\n",
    "ca.set_parameter(name='kaq0_2', initial=50, pmin=0)\n",
    "ca.set_parameter(name='Saq0_2', initial=1e-4, pmin=0)\n",
    "#ca.set_parameter_by_reference(name='rc', parameter=w.rc, initial=0.05)\n",
    "#ca.set_parameter_by_reference(name='res', parameter=w.res, initial=0.1)\n",
    "ca.series(name='obs', x=0, y=0, layer=1, t=t, h=h)\n",
    "ca.fit(report = True)"
   ]
  },
  {
   "cell_type": "code",
   "execution_count": 7,
   "metadata": {},
   "outputs": [
    {
     "data": {
      "text/html": [
       "<div>\n",
       "<style scoped>\n",
       "    .dataframe tbody tr th:only-of-type {\n",
       "        vertical-align: middle;\n",
       "    }\n",
       "\n",
       "    .dataframe tbody tr th {\n",
       "        vertical-align: top;\n",
       "    }\n",
       "\n",
       "    .dataframe thead th {\n",
       "        text-align: right;\n",
       "    }\n",
       "</style>\n",
       "<table border=\"1\" class=\"dataframe\">\n",
       "  <thead>\n",
       "    <tr style=\"text-align: right;\">\n",
       "      <th></th>\n",
       "      <th>optimal</th>\n",
       "      <th>std</th>\n",
       "      <th>perc_std</th>\n",
       "      <th>pmin</th>\n",
       "      <th>pmax</th>\n",
       "      <th>initial</th>\n",
       "      <th>parray</th>\n",
       "    </tr>\n",
       "  </thead>\n",
       "  <tbody>\n",
       "    <tr>\n",
       "      <td>kaq0_2</td>\n",
       "      <td>0.162503</td>\n",
       "      <td>0.034210</td>\n",
       "      <td>21.0522</td>\n",
       "      <td>0</td>\n",
       "      <td>inf</td>\n",
       "      <td>50</td>\n",
       "      <td>[0.16250273313214247, 0.16250273313214247, 0.1...</td>\n",
       "    </tr>\n",
       "    <tr>\n",
       "      <td>Saq0_2</td>\n",
       "      <td>0.174764</td>\n",
       "      <td>0.036614</td>\n",
       "      <td>20.9507</td>\n",
       "      <td>0</td>\n",
       "      <td>inf</td>\n",
       "      <td>0.0001</td>\n",
       "      <td>[0.17476448700526315, 0.17476448700526315, 0.1...</td>\n",
       "    </tr>\n",
       "  </tbody>\n",
       "</table>\n",
       "</div>"
      ],
      "text/plain": [
       "         optimal       std perc_std pmin  pmax initial  \\\n",
       "kaq0_2  0.162503  0.034210  21.0522    0   inf      50   \n",
       "Saq0_2  0.174764  0.036614  20.9507    0   inf  0.0001   \n",
       "\n",
       "                                                   parray  \n",
       "kaq0_2  [0.16250273313214247, 0.16250273313214247, 0.1...  \n",
       "Saq0_2  [0.17476448700526315, 0.17476448700526315, 0.1...  "
      ]
     },
     "metadata": {},
     "output_type": "display_data"
    },
    {
     "name": "stdout",
     "output_type": "stream",
     "text": [
      "RMSE: 0.11230346830391386\n"
     ]
    }
   ],
   "source": [
    "display(ca.parameters)\n",
    "print('RMSE:', ca.rmse())"
   ]
  },
  {
   "cell_type": "code",
   "execution_count": 8,
   "metadata": {},
   "outputs": [
    {
     "data": {
      "image/png": "[encoded data removed]",
      "text/plain": [
       "<Figure size 576x360 with 1 Axes>"
      ]
     },
     "metadata": {
      "needs_background": "light"
     },
     "output_type": "display_data"
    }
   ],
   "source": [
    "hm = ml.head(0, 0, t, layers = 1)\n",
    "plt.figure(figsize = (8, 5))\n",
    "plt.semilogx(t, h, '.', label = 'obs')\n",
    "plt.semilogx(t, hm[0], label = 'ttim')\n",
    "plt.xlabel('time(d)')\n",
    "plt.ylabel('drawdown(m)')\n",
    "plt.legend();"
   ]
  },
  {
   "cell_type": "markdown",
   "metadata": {},
   "source": [
    "Try adding wellbore storage:"
   ]
  },
  {
   "cell_type": "code",
   "execution_count": 9,
   "metadata": {},
   "outputs": [
    {
     "name": "stdout",
     "output_type": "stream",
     "text": [
      "self.neq  1\n",
      "solution complete\n"
     ]
    }
   ],
   "source": [
    "ml_0 = Model3D(kaq=10, z=[0, zt, zb, b], Saq=1e-4, kzoverkh=1, \\\n",
    "             tmin=1e-5, tmax=0.01, phreatictop=True)\n",
    "w_0 = Well(ml_0, xw=0, yw=0, rw=rw, rc=0.1, tsandQ=[(0, -Q)], layers=1, wbstype='slug')\n",
    "ml_0.solve()"
   ]
  },
  {
   "cell_type": "code",
   "execution_count": 10,
   "metadata": {},
   "outputs": [
    {
     "name": "stdout",
     "output_type": "stream",
     "text": [
      ".........................................................\n",
      "Fit succeeded.\n",
      "[[Fit Statistics]]\n",
      "    # fitting method   = leastsq\n",
      "    # function evals   = 54\n",
      "    # data points      = 27\n",
      "    # variables        = 3\n",
      "    chi-square         = 0.00101518\n",
      "    reduced chi-square = 4.2299e-05\n",
      "    Akaike info crit   = -269.090253\n",
      "    Bayesian info crit = -265.202743\n",
      "[[Variables]]\n",
      "    kaq0_2:  0.55169973 +/- 0.03585030 (6.50%) (init = 50)\n",
      "    Saq0_2:  2.3073e-04 +/- 1.0763e-04 (46.65%) (init = 0.0001)\n",
      "    rc:      0.05108665 +/- 3.2338e-04 (0.63%) (init = 0.5)\n",
      "[[Correlations]] (unreported correlations are < 0.100)\n",
      "    C(kaq0_2, Saq0_2) = -0.980\n",
      "    C(Saq0_2, rc)     = -0.830\n",
      "    C(kaq0_2, rc)     =  0.779\n"
     ]
    }
   ],
   "source": [
    "ca_0 = Calibrate(ml_0)\n",
    "ca_0.set_parameter(name='kaq0_2', initial=50, pmin=0)\n",
    "ca_0.set_parameter(name='Saq0_2', initial=1e-4, pmin=0)\n",
    "ca_0.set_parameter_by_reference(name='rc', parameter=w_0.rc, initial=0.5)\n",
    "#ca_0.set_parameter_by_reference(name='res', parameter=w_0.res, initial=0.1)\n",
    "ca_0.series(name='obs', x=0, y=0, layer=1, t=t, h=h)\n",
    "ca_0.fit(report = True)"
   ]
  },
  {
   "cell_type": "code",
   "execution_count": 11,
   "metadata": {},
   "outputs": [
    {
     "data": {
      "text/html": [
       "<div>\n",
       "<style scoped>\n",
       "    .dataframe tbody tr th:only-of-type {\n",
       "        vertical-align: middle;\n",
       "    }\n",
       "\n",
       "    .dataframe tbody tr th {\n",
       "        vertical-align: top;\n",
       "    }\n",
       "\n",
       "    .dataframe thead th {\n",
       "        text-align: right;\n",
       "    }\n",
       "</style>\n",
       "<table border=\"1\" class=\"dataframe\">\n",
       "  <thead>\n",
       "    <tr style=\"text-align: right;\">\n",
       "      <th></th>\n",
       "      <th>optimal</th>\n",
       "      <th>std</th>\n",
       "      <th>perc_std</th>\n",
       "      <th>pmin</th>\n",
       "      <th>pmax</th>\n",
       "      <th>initial</th>\n",
       "      <th>parray</th>\n",
       "    </tr>\n",
       "  </thead>\n",
       "  <tbody>\n",
       "    <tr>\n",
       "      <td>kaq0_2</td>\n",
       "      <td>0.5517</td>\n",
       "      <td>0.035850</td>\n",
       "      <td>6.49815</td>\n",
       "      <td>0</td>\n",
       "      <td>inf</td>\n",
       "      <td>50</td>\n",
       "      <td>[0.5516997257771601, 0.5516997257771601, 0.551...</td>\n",
       "    </tr>\n",
       "    <tr>\n",
       "      <td>Saq0_2</td>\n",
       "      <td>0.000230733</td>\n",
       "      <td>0.000108</td>\n",
       "      <td>46.6486</td>\n",
       "      <td>0</td>\n",
       "      <td>inf</td>\n",
       "      <td>0.0001</td>\n",
       "      <td>[0.00023073323964761805, 0.0002307332396476180...</td>\n",
       "    </tr>\n",
       "    <tr>\n",
       "      <td>rc</td>\n",
       "      <td>0.0510866</td>\n",
       "      <td>0.000323</td>\n",
       "      <td>0.632998</td>\n",
       "      <td>-inf</td>\n",
       "      <td>inf</td>\n",
       "      <td>0.5</td>\n",
       "      <td>[0.051086649153707316]</td>\n",
       "    </tr>\n",
       "  </tbody>\n",
       "</table>\n",
       "</div>"
      ],
      "text/plain": [
       "            optimal       std  perc_std pmin  pmax initial  \\\n",
       "kaq0_2       0.5517  0.035850   6.49815    0   inf      50   \n",
       "Saq0_2  0.000230733  0.000108   46.6486    0   inf  0.0001   \n",
       "rc        0.0510866  0.000323  0.632998 -inf   inf     0.5   \n",
       "\n",
       "                                                   parray  \n",
       "kaq0_2  [0.5516997257771601, 0.5516997257771601, 0.551...  \n",
       "Saq0_2  [0.00023073323964761805, 0.0002307332396476180...  \n",
       "rc                                 [0.051086649153707316]  "
      ]
     },
     "metadata": {},
     "output_type": "display_data"
    },
    {
     "name": "stdout",
     "output_type": "stream",
     "text": [
      "RMSE: 0.0061318182911490405\n"
     ]
    }
   ],
   "source": [
    "display(ca_0.parameters)\n",
    "print('RMSE:', ca_0.rmse())"
   ]
  },
  {
   "cell_type": "code",
   "execution_count": 12,
   "metadata": {},
   "outputs": [
    {
     "data": {
      "image/png": "[encoded data removed]",
      "text/plain": [
       "<Figure size 576x360 with 1 Axes>"
      ]
     },
     "metadata": {
      "needs_background": "light"
     },
     "output_type": "display_data"
    }
   ],
   "source": [
    "hm_0 = ml_0.head(0, 0, t, layers = 1)\n",
    "plt.figure(figsize = (8, 5))\n",
    "plt.semilogx(t, h, '.', label = 'obs')\n",
    "plt.semilogx(t, hm_0[0], label = 'ttim')\n",
    "plt.xlabel('time(d)')\n",
    "plt.ylabel('drawdown(m)')\n",
    "plt.legend();"
   ]
  },
  {
   "cell_type": "markdown",
   "metadata": {},
   "source": [
    "Add both wellbore storage and well resistance of screen: "
   ]
  },
  {
   "cell_type": "code",
   "execution_count": 13,
   "metadata": {},
   "outputs": [
    {
     "name": "stdout",
     "output_type": "stream",
     "text": [
      "self.neq  1\n",
      "solution complete\n"
     ]
    }
   ],
   "source": [
    "ml_2 = Model3D(kaq=10, z=[0, zt, zb, b], Saq=1e-4, kzoverkh=1, \\\n",
    "             tmin=1e-5, tmax=0.01, phreatictop=True)\n",
    "w_2 = Well(ml_2, xw=0, yw=0, rw=rw, rc=0.1, res=0.1, \\\n",
    "           tsandQ=[(0, -Q)], layers=1, wbstype='slug')\n",
    "ml_2.solve()"
   ]
  },
  {
   "cell_type": "code",
   "execution_count": 14,
   "metadata": {},
   "outputs": [
    {
     "name": "stdout",
     "output_type": "stream",
     "text": [
      "...........................................................................................................................................................................................................................................................................................................................................................\n",
      "Fit succeeded.\n",
      "[[Fit Statistics]]\n",
      "    # fitting method   = leastsq\n",
      "    # function evals   = 344\n",
      "    # data points      = 27\n",
      "    # variables        = 4\n",
      "    chi-square         = 6.5965e-04\n",
      "    reduced chi-square = 2.8680e-05\n",
      "    Akaike info crit   = -278.730355\n",
      "    Bayesian info crit = -273.547007\n",
      "[[Variables]]\n",
      "    kaq0_2:  0.71559407 +/- 0.08981006 (12.55%) (init = 50)\n",
      "    Saq0_2:  5.5370e-06 +/- 1.5022e-05 (271.29%) (init = 0.0001)\n",
      "    rc:      0.06270278 +/- 0.00924438 (14.74%) (init = 0.5)\n",
      "    res:    -0.18723304 +/- 0.13996325 (74.75%) (init = 0.1)\n",
      "[[Correlations]] (unreported correlations are < 0.100)\n",
      "    C(rc, res)        = -1.000\n",
      "    C(kaq0_2, Saq0_2) = -0.995\n",
      "    C(Saq0_2, res)    =  0.988\n",
      "    C(Saq0_2, rc)     = -0.987\n",
      "    C(kaq0_2, res)    = -0.972\n",
      "    C(kaq0_2, rc)     =  0.972\n"
     ]
    }
   ],
   "source": [
    "ca_2 = Calibrate(ml_2)\n",
    "ca_2.set_parameter(name='kaq0_2', initial=50, pmin=0)\n",
    "ca_2.set_parameter(name='Saq0_2', initial=1e-4, pmin=0)\n",
    "ca_2.set_parameter_by_reference(name='rc', parameter=w_2.rc, initial=0.5)\n",
    "ca_2.set_parameter_by_reference(name='res', parameter=w_2.res, initial=0.1)\n",
    "ca_2.series(name='obs', x=0, y=0, layer=1, t=t, h=h)\n",
    "ca_2.fit(report = True)"
   ]
  },
  {
   "cell_type": "code",
   "execution_count": 15,
   "metadata": {},
   "outputs": [
    {
     "data": {
      "text/html": [
       "<div>\n",
       "<style scoped>\n",
       "    .dataframe tbody tr th:only-of-type {\n",
       "        vertical-align: middle;\n",
       "    }\n",
       "\n",
       "    .dataframe tbody tr th {\n",
       "        vertical-align: top;\n",
       "    }\n",
       "\n",
       "    .dataframe thead th {\n",
       "        text-align: right;\n",
       "    }\n",
       "</style>\n",
       "<table border=\"1\" class=\"dataframe\">\n",
       "  <thead>\n",
       "    <tr style=\"text-align: right;\">\n",
       "      <th></th>\n",
       "      <th>optimal</th>\n",
       "      <th>std</th>\n",
       "      <th>perc_std</th>\n",
       "      <th>pmin</th>\n",
       "      <th>pmax</th>\n",
       "      <th>initial</th>\n",
       "      <th>parray</th>\n",
       "    </tr>\n",
       "  </thead>\n",
       "  <tbody>\n",
       "    <tr>\n",
       "      <td>kaq0_2</td>\n",
       "      <td>0.715594</td>\n",
       "      <td>0.089810</td>\n",
       "      <td>12.5504</td>\n",
       "      <td>0</td>\n",
       "      <td>inf</td>\n",
       "      <td>50</td>\n",
       "      <td>[0.7155940671091383, 0.7155940671091383, 0.715...</td>\n",
       "    </tr>\n",
       "    <tr>\n",
       "      <td>Saq0_2</td>\n",
       "      <td>5.53699e-06</td>\n",
       "      <td>0.000015</td>\n",
       "      <td>271.294</td>\n",
       "      <td>0</td>\n",
       "      <td>inf</td>\n",
       "      <td>0.0001</td>\n",
       "      <td>[5.536986301457603e-06, 5.536986301457603e-06,...</td>\n",
       "    </tr>\n",
       "    <tr>\n",
       "      <td>rc</td>\n",
       "      <td>0.0627028</td>\n",
       "      <td>0.009244</td>\n",
       "      <td>14.7432</td>\n",
       "      <td>-inf</td>\n",
       "      <td>inf</td>\n",
       "      <td>0.5</td>\n",
       "      <td>[0.0627027841012748]</td>\n",
       "    </tr>\n",
       "    <tr>\n",
       "      <td>res</td>\n",
       "      <td>-0.187233</td>\n",
       "      <td>0.139963</td>\n",
       "      <td>74.7535</td>\n",
       "      <td>-inf</td>\n",
       "      <td>inf</td>\n",
       "      <td>0.1</td>\n",
       "      <td>[-0.1872330436595833]</td>\n",
       "    </tr>\n",
       "  </tbody>\n",
       "</table>\n",
       "</div>"
      ],
      "text/plain": [
       "            optimal       std perc_std pmin  pmax initial  \\\n",
       "kaq0_2     0.715594  0.089810  12.5504    0   inf      50   \n",
       "Saq0_2  5.53699e-06  0.000015  271.294    0   inf  0.0001   \n",
       "rc        0.0627028  0.009244  14.7432 -inf   inf     0.5   \n",
       "res       -0.187233  0.139963  74.7535 -inf   inf     0.1   \n",
       "\n",
       "                                                   parray  \n",
       "kaq0_2  [0.7155940671091383, 0.7155940671091383, 0.715...  \n",
       "Saq0_2  [5.536986301457603e-06, 5.536986301457603e-06,...  \n",
       "rc                                   [0.0627027841012748]  \n",
       "res                                 [-0.1872330436595833]  "
      ]
     },
     "metadata": {},
     "output_type": "display_data"
    },
    {
     "name": "stdout",
     "output_type": "stream",
     "text": [
      "RMSE: 0.004942809484746552\n"
     ]
    }
   ],
   "source": [
    "display(ca_2.parameters)\n",
    "print('RMSE:', ca_2.rmse())"
   ]
  },
  {
   "cell_type": "code",
   "execution_count": 16,
   "metadata": {},
   "outputs": [
    {
     "data": {
      "image/png": "[encoded data removed]",
      "text/plain": [
       "<Figure size 576x360 with 1 Axes>"
      ]
     },
     "metadata": {
      "needs_background": "light"
     },
     "output_type": "display_data"
    }
   ],
   "source": [
    "hm_2 = ml_2.head(0, 0, t, layers = 1)\n",
    "plt.figure(figsize = (8, 5))\n",
    "plt.semilogx(t, h, '.', label = 'obs')\n",
    "plt.semilogx(t, hm_2[0], label = 'ttim')\n",
    "plt.xlabel('time(d)')\n",
    "plt.ylabel('drawdown(m)')\n",
    "plt.legend();"
   ]
  },
  {
   "cell_type": "markdown",
   "metadata": {},
   "source": [
    "Conceptual model with multilyaer:"
   ]
  },
  {
   "cell_type": "code",
   "execution_count": 17,
   "metadata": {},
   "outputs": [],
   "source": [
    "#Calculate elevations of each layer. Thickness of each layer is set to be 0.5 m.\n",
    "z0 = np.arange(zt, zb, -0.5)\n",
    "z1 = np.arange(zb, b, -0.5)\n",
    "zlay = np.append(z0, z1)\n",
    "zlay = np.append(zlay, b)\n",
    "zlay = np.insert(zlay, 0, 0)\n",
    "nlay = len(zlay) - 1 #number of layers\n",
    "Saq_1 = 1e-4 * np.ones(nlay)\n",
    "Saq_1[0] = 0.1"
   ]
  },
  {
   "cell_type": "code",
   "execution_count": 18,
   "metadata": {},
   "outputs": [
    {
     "name": "stdout",
     "output_type": "stream",
     "text": [
      "self.neq  1\n",
      "solution complete\n"
     ]
    }
   ],
   "source": [
    "ml_3 = Model3D(kaq=10, z=zlay, Saq=Saq_1, kzoverkh=1, \\\n",
    "             tmin=1e-5, tmax=0.01, phreatictop=True)\n",
    "w_3 = Well(ml_3, xw=0, yw=0, rw=rw, tsandQ=[(0, -Q)], layers=1, rc=0.1, wbstype='slug')\n",
    "ml_3.solve()"
   ]
  },
  {
   "cell_type": "code",
   "execution_count": 19,
   "metadata": {},
   "outputs": [
    {
     "name": "stdout",
     "output_type": "stream",
     "text": [
      ".............................................................................\n",
      "Fit succeeded.\n",
      "[[Fit Statistics]]\n",
      "    # fitting method   = leastsq\n",
      "    # function evals   = 74\n",
      "    # data points      = 27\n",
      "    # variables        = 4\n",
      "    chi-square         = 7.1509e-04\n",
      "    reduced chi-square = 3.1091e-05\n",
      "    Akaike info crit   = -276.551388\n",
      "    Bayesian info crit = -271.368041\n",
      "[[Variables]]\n",
      "    kaq0_21:  2.18047790 +/- 0.36108938 (16.56%) (init = 10)\n",
      "    Saq0_21:  0.00883447 +/- 0.01361276 (154.09%) (init = 0.0001)\n",
      "    rc:       0.05338648 +/- 0.00406649 (7.62%) (init = 0.1)\n",
      "    res:     -0.00495299 +/- 0.00700775 (141.49%) (init = 0.1)\n",
      "[[Correlations]] (unreported correlations are < 0.100)\n",
      "    C(rc, res)          = -0.998\n",
      "    C(kaq0_21, Saq0_21) = -0.997\n",
      "    C(Saq0_21, rc)      = -0.983\n",
      "    C(Saq0_21, res)     =  0.975\n",
      "    C(kaq0_21, rc)      =  0.971\n",
      "    C(kaq0_21, res)     = -0.961\n"
     ]
    }
   ],
   "source": [
    "ca_3 = Calibrate(ml_3)\n",
    "ca_3.set_parameter(name='kaq0_21', initial=10, pmin=0)\n",
    "ca_3.set_parameter(name='Saq0_21', initial=1e-4, pmin=0)\n",
    "ca_3.set_parameter_by_reference(name='rc', parameter=w_3.rc, initial=0.1)\n",
    "ca_3.set_parameter_by_reference(name='res', parameter=w_3.res, initial=0.1)\n",
    "ca_3.series(name='obs', x=0, y=0, layer=1, t=t, h=h)\n",
    "ca_3.fit(report = True)"
   ]
  },
  {
   "cell_type": "code",
   "execution_count": 20,
   "metadata": {},
   "outputs": [
    {
     "data": {
      "text/html": [
       "<div>\n",
       "<style scoped>\n",
       "    .dataframe tbody tr th:only-of-type {\n",
       "        vertical-align: middle;\n",
       "    }\n",
       "\n",
       "    .dataframe tbody tr th {\n",
       "        vertical-align: top;\n",
       "    }\n",
       "\n",
       "    .dataframe thead th {\n",
       "        text-align: right;\n",
       "    }\n",
       "</style>\n",
       "<table border=\"1\" class=\"dataframe\">\n",
       "  <thead>\n",
       "    <tr style=\"text-align: right;\">\n",
       "      <th></th>\n",
       "      <th>optimal</th>\n",
       "      <th>std</th>\n",
       "      <th>perc_std</th>\n",
       "      <th>pmin</th>\n",
       "      <th>pmax</th>\n",
       "      <th>initial</th>\n",
       "      <th>parray</th>\n",
       "    </tr>\n",
       "  </thead>\n",
       "  <tbody>\n",
       "    <tr>\n",
       "      <td>kaq0_21</td>\n",
       "      <td>2.18048</td>\n",
       "      <td>0.361089</td>\n",
       "      <td>16.5601</td>\n",
       "      <td>0</td>\n",
       "      <td>inf</td>\n",
       "      <td>10</td>\n",
       "      <td>[2.1804778970342498, 2.1804778970342498, 2.180...</td>\n",
       "    </tr>\n",
       "    <tr>\n",
       "      <td>Saq0_21</td>\n",
       "      <td>0.00883447</td>\n",
       "      <td>0.013613</td>\n",
       "      <td>154.087</td>\n",
       "      <td>0</td>\n",
       "      <td>inf</td>\n",
       "      <td>0.0001</td>\n",
       "      <td>[0.00883447297940898, 0.00883447297940898, 0.0...</td>\n",
       "    </tr>\n",
       "    <tr>\n",
       "      <td>rc</td>\n",
       "      <td>0.0533865</td>\n",
       "      <td>0.004066</td>\n",
       "      <td>7.61709</td>\n",
       "      <td>-inf</td>\n",
       "      <td>inf</td>\n",
       "      <td>0.1</td>\n",
       "      <td>[0.05338648055835486]</td>\n",
       "    </tr>\n",
       "    <tr>\n",
       "      <td>res</td>\n",
       "      <td>-0.00495299</td>\n",
       "      <td>0.007008</td>\n",
       "      <td>141.485</td>\n",
       "      <td>-inf</td>\n",
       "      <td>inf</td>\n",
       "      <td>0.1</td>\n",
       "      <td>[-0.004952985721054632]</td>\n",
       "    </tr>\n",
       "  </tbody>\n",
       "</table>\n",
       "</div>"
      ],
      "text/plain": [
       "            optimal       std perc_std pmin  pmax initial  \\\n",
       "kaq0_21     2.18048  0.361089  16.5601    0   inf      10   \n",
       "Saq0_21  0.00883447  0.013613  154.087    0   inf  0.0001   \n",
       "rc        0.0533865  0.004066  7.61709 -inf   inf     0.1   \n",
       "res     -0.00495299  0.007008  141.485 -inf   inf     0.1   \n",
       "\n",
       "                                                    parray  \n",
       "kaq0_21  [2.1804778970342498, 2.1804778970342498, 2.180...  \n",
       "Saq0_21  [0.00883447297940898, 0.00883447297940898, 0.0...  \n",
       "rc                                   [0.05338648055835486]  \n",
       "res                                [-0.004952985721054632]  "
      ]
     },
     "metadata": {},
     "output_type": "display_data"
    },
    {
     "name": "stdout",
     "output_type": "stream",
     "text": [
      "RMSE: 0.005146336604742368\n"
     ]
    }
   ],
   "source": [
    "display(ca_3.parameters)\n",
    "print('RMSE:', ca_3.rmse())"
   ]
  },
  {
   "cell_type": "code",
   "execution_count": 21,
   "metadata": {},
   "outputs": [
    {
     "data": {
      "image/png": "[encoded data removed]",
      "text/plain": [
       "<Figure size 576x360 with 1 Axes>"
      ]
     },
     "metadata": {
      "needs_background": "light"
     },
     "output_type": "display_data"
    }
   ],
   "source": [
    "hm_3 = ml_3.head(0, 0, t, layers=1)\n",
    "plt.figure(figsize=(8, 5))\n",
    "plt.semilogx(t, h, '.', label = 'obs')\n",
    "plt.semilogx(t, hm_3[0], label = 'ttim')\n",
    "plt.xlabel('time(d)')\n",
    "plt.ylabel('drawdown(m)')\n",
    "plt.legend(loc = 'best');"
   ]
  },
  {
   "cell_type": "markdown",
   "metadata": {},
   "source": [
    "## Summary of values presented in AQTESOLV:"
   ]
  },
  {
   "cell_type": "code",
   "execution_count": 25,
   "metadata": {},
   "outputs": [
    {
     "data": {
      "text/html": [
       "<div>\n",
       "<style scoped>\n",
       "    .dataframe tbody tr th:only-of-type {\n",
       "        vertical-align: middle;\n",
       "    }\n",
       "\n",
       "    .dataframe tbody tr th {\n",
       "        vertical-align: top;\n",
       "    }\n",
       "\n",
       "    .dataframe thead th {\n",
       "        text-align: right;\n",
       "    }\n",
       "</style>\n",
       "<table border=\"1\" class=\"dataframe\">\n",
       "  <thead>\n",
       "    <tr style=\"text-align: right;\">\n",
       "      <th></th>\n",
       "      <th>k [m/d]</th>\n",
       "      <th>Ss [1/m]</th>\n",
       "      <th>rc</th>\n",
       "      <th>res</th>\n",
       "      <th>RMSE</th>\n",
       "    </tr>\n",
       "  </thead>\n",
       "  <tbody>\n",
       "    <tr>\n",
       "      <td>AQTESOLV</td>\n",
       "      <td>2.616</td>\n",
       "      <td>7.894e-05</td>\n",
       "      <td>-</td>\n",
       "      <td>-</td>\n",
       "      <td>0.001197</td>\n",
       "    </tr>\n",
       "    <tr>\n",
       "      <td>ttim three-layer</td>\n",
       "      <td>0.715594</td>\n",
       "      <td>5.53699e-06</td>\n",
       "      <td>0.0627028</td>\n",
       "      <td>-0.187233</td>\n",
       "      <td>0.004943</td>\n",
       "    </tr>\n",
       "    <tr>\n",
       "      <td>ttim multilayer</td>\n",
       "      <td>2.18048</td>\n",
       "      <td>0.00883447</td>\n",
       "      <td>0.0533865</td>\n",
       "      <td>-0.00495299</td>\n",
       "      <td>0.000000</td>\n",
       "    </tr>\n",
       "  </tbody>\n",
       "</table>\n",
       "</div>"
      ],
      "text/plain": [
       "                   k [m/d]     Ss [1/m]         rc         res      RMSE\n",
       "AQTESOLV             2.616    7.894e-05          -           -  0.001197\n",
       "ttim three-layer  0.715594  5.53699e-06  0.0627028   -0.187233  0.004943\n",
       "ttim multilayer    2.18048   0.00883447  0.0533865 -0.00495299  0.000000"
      ]
     },
     "execution_count": 25,
     "metadata": {},
     "output_type": "execute_result"
    }
   ],
   "source": [
    "t = pd.DataFrame(columns=['k [m/d]', 'Ss [1/m]', 'rc', 'res'], \\\n",
    "                index=['AQTESOLV', 'ttim three-layer', 'ttim multilayer'])\n",
    "a = [2.616, 7.894E-5, '-', '-']\n",
    "t.loc['AQTESOLV'] = a\n",
    "t.loc['ttim three-layer'] = ca_2.parameters['optimal'].values\n",
    "t.loc['ttim multilayer'] = ca_3.parameters['optimal'].values\n",
    "rmse = [0.001197, round(ca_2.rmse(), 6), round(ca_3.rmse())]\n",
    "t['RMSE'] = rmse\n",
    "t"
   ]
  },
  {
   "cell_type": "code",
   "execution_count": null,
   "metadata": {},
   "outputs": [],
   "source": []
  }
 ],
 "metadata": {
  "kernelspec": {
   "display_name": "Python 3",
   "language": "python",
   "name": "python3"
  },
  "language_info": {
   "codemirror_mode": {
    "name": "ipython",
    "version": 3
   },
   "file_extension": ".py",
   "mimetype": "text/x-python",
   "name": "python",
   "nbconvert_exporter": "python",
   "pygments_lexer": "ipython3",
   "version": "3.7.4"
  }
 },
 "nbformat": 4,
 "nbformat_minor": 2
}
