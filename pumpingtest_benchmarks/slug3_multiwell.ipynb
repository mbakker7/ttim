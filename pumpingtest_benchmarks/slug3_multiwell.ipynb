{
 "cells": [
  {
   "cell_type": "markdown",
   "metadata": {},
   "source": [
    "# 3. Slug Test for Confined Aquifer - Multi-well Example\n",
    "**This test is taken from examples of AQTESOLV.**"
   ]
  },
  {
   "cell_type": "markdown",
   "metadata": {},
   "source": [
    "## Introduction and Conceptual Model\n",
    "\n",
    "In this notebook, we reproduce the work of Yang (2020) to check the TTim performance in analysing slug-test. We later compare the solution in TTim with the KGS analytical model (Hyder et al. 1994) implemented in AQTESOLV (Duffield, 2007) and to the MLU model (Carlson & Randall, 2012).\n",
    "\n",
    "This Slug Test was reported in Butler (1998). A well (Ln-2) fully penetrates a sandy confined aquifer, with 6.1 m thickness. Additionally, an observation well (Ln-3) is placed 6.45 m away from the test well. The observation well is also fully penetrated.\n",
    "\n",
    "The slug displacement is 2.798 m. Head change has been recorded at the slug well and the observation well. The well and casing radii of the slug well are 0.102 and 0.051 m, respectively. For the observation well, they are 0.051 and 0.025 m, respectively.\n",
    "\n",
    "The conceptual model can be seen in the figure below.\n"
   ]
  },
  {
   "cell_type": "code",
   "execution_count": 31,
   "metadata": {
    "jupyter": {
     "source_hidden": true
    },
    "tags": []
   },
   "outputs": [
    {
     "data": {
      "image/png": "[encoded data removed]",
      "text/plain": [
       "<Figure size 1008x648 with 1 Axes>"
      ]
     },
     "metadata": {
      "needs_background": "light"
     },
     "output_type": "display_data"
    }
   ],
   "source": [
    "import matplotlib.pyplot as plt\n",
    "import numpy as np\n",
    "\n",
    "##Now printing the conceptual model figure:\n",
    "\n",
    "fig = plt.figure(figsize=(14, 9))\n",
    "ax = fig.add_subplot(1,1,1)\n",
    "#sky\n",
    "sky = plt.Rectangle((-5,1), width = 15, height = 3, fc = 'b', zorder=0, alpha=0.1)\n",
    "ax.add_patch(sky)\n",
    "\n",
    "#Aquifer:\n",
    "ground = plt.Rectangle((-5,-6.1), width = 15, height = 6.1, fc = np.array([209,179,127])/255, zorder=0, alpha=0.9)\n",
    "ax.add_patch(ground)\n",
    "\n",
    "well = plt.Rectangle((-0.5,-(6.1)), width = 1, height = (7.1), fc = np.array([200,200,200])/255, zorder=1)\n",
    "ax.add_patch(well)\n",
    "\n",
    "#Confining Unit\n",
    "conf = plt.Rectangle((-5,0), width = 15, height = 1, fc = np.array([100,100,100])/255, zorder=0, alpha=0.9)\n",
    "ax.add_patch(conf)\n",
    "\n",
    "#Wellhead\n",
    "wellhead = plt.Rectangle((-0.6,1),width = 1.2, height = 1.5, fc = np.array([200,200,200])/255, zorder=2, ec='k')\n",
    "ax.add_patch(wellhead)\n",
    "\n",
    "#Screen for the well:\n",
    "screen = plt.Rectangle((-0.5,-(6.1)), width = 1, height = 6.1, fc = np.array([200,200,200])/255, alpha=1, zorder = 2, ec = \"k\", ls = '--')\n",
    "screen.set_linewidth(2)\n",
    "ax.add_patch(screen)\n",
    "pumping_arrow = plt.Arrow(x = 1,y = 1.5, dx = 0, dy = 1, color = \"#00035b\")\n",
    "ax.add_patch(pumping_arrow)\n",
    "ax.text(x = 1.2, y = 1.5, s = r'$ D = 2.798 m $', fontsize = 'large' )\n",
    "\n",
    "#Piezometer\n",
    "piez = plt.Rectangle((6.20,-(6.1)), width = 0.5, height = (7.1), fc = np.array([200,200,200])/255, zorder=1)\n",
    "ax.add_patch(piez)\n",
    "screen_piez = plt.Rectangle((6.2,-(6.1)), width = 0.5, height = 6.1, fc = np.array([200,200,200])/255, alpha=1, zorder = 2, ec = \"k\", ls = '--')\n",
    "screen_piez.set_linewidth(2)\n",
    "ax.add_patch(screen_piez)\n",
    "\n",
    "#last line\n",
    "line = plt.Line2D(xdata= [-200,1200], ydata = [1,1], color = \"k\")\n",
    "ax.add_line(line)\n",
    "\n",
    "#Water table\n",
    "#wt = plt.Line2D(xdata= [-200,1200], ydata = [0,0], color = \"b\")\n",
    "#ax.add_line(wt)\n",
    "\n",
    "ax.text(0.6,-0.5, s = \"Ln-2\", fontsize = 'large')\n",
    "ax.text(6.9, -0.5, \"Ln-3\", fontsize = 'large')\n",
    "ax.set_xlim([-5,10])\n",
    "ax.set_ylim([-6.1,3])\n",
    "ax.set_xlabel('Distance [m]')\n",
    "ax.set_ylabel('Relative height [m]')\n",
    "ax.set_title('Conceptual Model - Multi-Well Example');"
   ]
  },
  {
   "cell_type": "markdown",
   "metadata": {},
   "source": [
    "## Step 1. Import required libraries"
   ]
  },
  {
   "cell_type": "code",
   "execution_count": 2,
   "metadata": {},
   "outputs": [],
   "source": [
    "from ttim import *\n",
    "import numpy as np\n",
    "import matplotlib.pyplot as plt\n",
    "import pandas as pd"
   ]
  },
  {
   "cell_type": "markdown",
   "metadata": {},
   "source": [
    "## Step 2. Set basic parameters"
   ]
  },
  {
   "cell_type": "code",
   "execution_count": 3,
   "metadata": {},
   "outputs": [],
   "source": [
    "H0 = 2.798 #initial displacement in m\n",
    "b = -6.1 #aquifer thickness\n",
    "rw1 = 0.102 #well radius of Ln-2 Well\n",
    "rw2 = 0.071 #well radius of observation Ln-3 Well\n",
    "rc1 = 0.051 #casing radius of Ln-2 Well\n",
    "rc2 = 0.025 #casing radius of Ln-3 Well\n",
    "r = 6.45 #distance from observation well to test well"
   ]
  },
  {
   "cell_type": "markdown",
   "metadata": {},
   "source": [
    "## Step 3. Converting slug displacement to volume"
   ]
  },
  {
   "cell_type": "code",
   "execution_count": 4,
   "metadata": {},
   "outputs": [
    {
     "name": "stdout",
     "output_type": "stream",
     "text": [
      "Slug: 0.02286 m^3\n"
     ]
    }
   ],
   "source": [
    "Q = np.pi * rc1 ** 2 * H0\n",
    "print('Slug:', round(Q, 5), 'm^3')"
   ]
  },
  {
   "cell_type": "markdown",
   "metadata": {},
   "source": [
    "## Step 4. Load data"
   ]
  },
  {
   "cell_type": "code",
   "execution_count": 5,
   "metadata": {},
   "outputs": [],
   "source": [
    "data1 = np.loadtxt('data/ln-2.txt')\n",
    "t1 = data1[:, 0] / 60 / 60 / 24 #convert time from seconds to days\n",
    "h1 = data1[:, 1]\n",
    "data2 = np.loadtxt('data/ln-3.txt')\n",
    "t2 = data2[:, 0] / 60 / 60 / 24\n",
    "h2 = data2[:, 1]"
   ]
  },
  {
   "cell_type": "markdown",
   "metadata": {},
   "source": [
    "## Step 5. Create First Model - single layer\n",
    "\n",
    "We begin with a single layer model built in ```ModelMaq```.\n",
    "Details on setting up the model can be seen in: [Confined 1 - Oude Korendijk](confined1_oude_korendijk.ipynb).\n",
    "\n",
    "The slug well is set accordingly. Details on setting up the ```Well``` object can be seen in: [Slug 1 - Pratt County](slug1_pratt_county.ipynb)."
   ]
  },
  {
   "cell_type": "code",
   "execution_count": 6,
   "metadata": {},
   "outputs": [
    {
     "name": "stdout",
     "output_type": "stream",
     "text": [
      "self.neq  1\n",
      "solution complete\n"
     ]
    }
   ],
   "source": [
    "ml_0 = ModelMaq(kaq=10, z=[0, b], Saq=1e-4,  \\\n",
    "           tmin=1e-5, tmax=0.01)\n",
    "w_0 = Well(ml_0, xw=0, yw=0, rw=rw1, rc=rc1, tsandQ=[(0, -Q)], layers=0, wbstype='slug')\n",
    "ml_0.solve()"
   ]
  },
  {
   "cell_type": "markdown",
   "metadata": {},
   "source": [
    "## Step 6. Model calibration both simultaneous wells\n",
    "\n",
    "\n",
    "The procedures for calibration can be seen in [Unconfined 1 - Vennebulten](unconfined1_vennebulten.ipynb)\n",
    "\n",
    "We calibrate hydraulic conductivity and specific storage, as in the KGS model (Hyder et al. 1994)."
   ]
  },
  {
   "cell_type": "code",
   "execution_count": 7,
   "metadata": {},
   "outputs": [
    {
     "name": "stdout",
     "output_type": "stream",
     "text": [
      "..................................\n",
      "Fit succeeded.\n",
      "[[Fit Statistics]]\n",
      "    # fitting method   = leastsq\n",
      "    # function evals   = 31\n",
      "    # data points      = 162\n",
      "    # variables        = 2\n",
      "    chi-square         = 0.01697480\n",
      "    reduced chi-square = 1.0609e-04\n",
      "    Akaike info crit   = -1480.50668\n",
      "    Bayesian info crit = -1474.33148\n",
      "[[Variables]]\n",
      "    kaq0:  1.16610444 +/- 0.00292522 (0.25%) (init = 10)\n",
      "    Saq0:  9.3825e-06 +/- 1.1585e-07 (1.23%) (init = 0.0001)\n",
      "[[Correlations]] (unreported correlations are < 0.100)\n",
      "    C(kaq0, Saq0) = -0.502\n"
     ]
    }
   ],
   "source": [
    "#unknown parameters: kaq, Saq\n",
    "ca_0 = Calibrate(ml_0)\n",
    "ca_0.set_parameter(name='kaq0', initial=10)\n",
    "ca_0.set_parameter(name='Saq0', initial=1e-4)\n",
    "ca_0.series(name='Ln-2', x=0, y=0, layer=0, t=t1, h=h1)\n",
    "ca_0.series(name='Ln-3', x=r, y=0, layer=0, t=t2, h=h2)\n",
    "ca_0.fit(report=True)"
   ]
  },
  {
   "cell_type": "code",
   "execution_count": 8,
   "metadata": {},
   "outputs": [
    {
     "data": {
      "text/html": [
       "<div>\n",
       "<style scoped>\n",
       "    .dataframe tbody tr th:only-of-type {\n",
       "        vertical-align: middle;\n",
       "    }\n",
       "\n",
       "    .dataframe tbody tr th {\n",
       "        vertical-align: top;\n",
       "    }\n",
       "\n",
       "    .dataframe thead th {\n",
       "        text-align: right;\n",
       "    }\n",
       "</style>\n",
       "<table border=\"1\" class=\"dataframe\">\n",
       "  <thead>\n",
       "    <tr style=\"text-align: right;\">\n",
       "      <th></th>\n",
       "      <th>optimal</th>\n",
       "      <th>std</th>\n",
       "      <th>perc_std</th>\n",
       "      <th>pmin</th>\n",
       "      <th>pmax</th>\n",
       "      <th>initial</th>\n",
       "      <th>parray</th>\n",
       "    </tr>\n",
       "  </thead>\n",
       "  <tbody>\n",
       "    <tr>\n",
       "      <th>kaq0</th>\n",
       "      <td>1.166104</td>\n",
       "      <td>2.925222e-03</td>\n",
       "      <td>0.250854</td>\n",
       "      <td>-inf</td>\n",
       "      <td>inf</td>\n",
       "      <td>10</td>\n",
       "      <td>[1.1661044427248006]</td>\n",
       "    </tr>\n",
       "    <tr>\n",
       "      <th>Saq0</th>\n",
       "      <td>0.000009</td>\n",
       "      <td>1.158528e-07</td>\n",
       "      <td>1.234776</td>\n",
       "      <td>-inf</td>\n",
       "      <td>inf</td>\n",
       "      <td>0.0001</td>\n",
       "      <td>[9.382497328657746e-06]</td>\n",
       "    </tr>\n",
       "  </tbody>\n",
       "</table>\n",
       "</div>"
      ],
      "text/plain": [
       "       optimal           std  perc_std  pmin  pmax initial  \\\n",
       "kaq0  1.166104  2.925222e-03  0.250854  -inf   inf      10   \n",
       "Saq0  0.000009  1.158528e-07  1.234776  -inf   inf  0.0001   \n",
       "\n",
       "                       parray  \n",
       "kaq0     [1.1661044427248006]  \n",
       "Saq0  [9.382497328657746e-06]  "
      ]
     },
     "metadata": {},
     "output_type": "display_data"
    },
    {
     "name": "stdout",
     "output_type": "stream",
     "text": [
      "RMSE: 0.010236344261778756\n"
     ]
    }
   ],
   "source": [
    "display(ca_0.parameters)\n",
    "print('RMSE:', ca_0.rmse())"
   ]
  },
  {
   "cell_type": "code",
   "execution_count": 9,
   "metadata": {},
   "outputs": [
    {
     "data": {
      "image/png": "[encoded data removed]",
      "text/plain": [
       "<Figure size 576x360 with 1 Axes>"
      ]
     },
     "metadata": {
      "needs_background": "light"
     },
     "output_type": "display_data"
    }
   ],
   "source": [
    "hm1_0 = ml_0.head(0, 0, t1, layers=0)\n",
    "hm2_0 = ml_0.head(r, 0, t2, layers=0)\n",
    "plt.figure(figsize=(8, 5))\n",
    "plt.semilogx(t1, h1/H0, '.', label='obs ln-2')\n",
    "plt.semilogx(t1, hm1_0[0]/H0, label='ttim ln-2')\n",
    "plt.semilogx(t2, h2/H0, '.', label='obs ln-3')\n",
    "plt.semilogx(t2, hm2_0[0]/H0, label='ttim ln-3')\n",
    "plt.xlabel('time [d]')\n",
    "plt.ylabel('Normalized Head: h/H0')\n",
    "plt.title('Model Results - Single layer model')\n",
    "plt.legend();"
   ]
  },
  {
   "cell_type": "markdown",
   "metadata": {},
   "source": [
    "In general, the single-layer model seems to be performing well, with a good visual fit between observations and the model."
   ]
  },
  {
   "cell_type": "markdown",
   "metadata": {},
   "source": [
    "## Step 8. Calibration with well skin resistance\n",
    "\n",
    "Now we test if the skin resistance of the well has an impact on model calibration. Therefore, we add the ```res``` parameter in the calibration settings. We use the one-layer model."
   ]
  },
  {
   "cell_type": "code",
   "execution_count": 11,
   "metadata": {},
   "outputs": [
    {
     "name": "stdout",
     "output_type": "stream",
     "text": [
      "...............................................\n",
      "Fit succeeded.\n",
      "[[Fit Statistics]]\n",
      "    # fitting method   = leastsq\n",
      "    # function evals   = 44\n",
      "    # data points      = 162\n",
      "    # variables        = 3\n",
      "    chi-square         = 0.01690836\n",
      "    reduced chi-square = 1.0634e-04\n",
      "    Akaike info crit   = -1479.14200\n",
      "    Bayesian info crit = -1469.87921\n",
      "[[Variables]]\n",
      "    kaq0:  1.16582458 +/- 0.00293794 (0.25%) (init = 10)\n",
      "    Saq0:  9.3662e-06 +/- 1.1743e-07 (1.25%) (init = 0.0001)\n",
      "    res:   2.8663e-04 +/- 3.6679e-04 (127.96%) (init = 0)\n",
      "[[Correlations]] (unreported correlations are < 0.100)\n",
      "    C(kaq0, Saq0) = -0.481\n",
      "    C(Saq0, res)  = -0.167\n"
     ]
    }
   ],
   "source": [
    "#unknown parameters: kaq, Saq, res\n",
    "ca_1 = Calibrate(ml_0)\n",
    "ca_1.set_parameter(name='kaq0', initial=10)\n",
    "ca_1.set_parameter(name='Saq0', initial=1e-4)\n",
    "ca_1.set_parameter_by_reference(name='res', parameter=w_0.res, initial=0)\n",
    "ca_1.series(name='Ln-2', x=0, y=0, layer=0, t=t1, h=h1)\n",
    "ca_1.series(name='Ln-3', x=r, y=0, layer=0, t=t2, h=h2)\n",
    "ca_1.fit(report=True)"
   ]
  },
  {
   "cell_type": "code",
   "execution_count": 12,
   "metadata": {},
   "outputs": [
    {
     "data": {
      "text/html": [
       "<div>\n",
       "<style scoped>\n",
       "    .dataframe tbody tr th:only-of-type {\n",
       "        vertical-align: middle;\n",
       "    }\n",
       "\n",
       "    .dataframe tbody tr th {\n",
       "        vertical-align: top;\n",
       "    }\n",
       "\n",
       "    .dataframe thead th {\n",
       "        text-align: right;\n",
       "    }\n",
       "</style>\n",
       "<table border=\"1\" class=\"dataframe\">\n",
       "  <thead>\n",
       "    <tr style=\"text-align: right;\">\n",
       "      <th></th>\n",
       "      <th>optimal</th>\n",
       "      <th>std</th>\n",
       "      <th>perc_std</th>\n",
       "      <th>pmin</th>\n",
       "      <th>pmax</th>\n",
       "      <th>initial</th>\n",
       "      <th>parray</th>\n",
       "    </tr>\n",
       "  </thead>\n",
       "  <tbody>\n",
       "    <tr>\n",
       "      <th>kaq0</th>\n",
       "      <td>1.165825</td>\n",
       "      <td>2.937938e-03</td>\n",
       "      <td>0.252005</td>\n",
       "      <td>-inf</td>\n",
       "      <td>inf</td>\n",
       "      <td>10</td>\n",
       "      <td>[1.1658245789227966]</td>\n",
       "    </tr>\n",
       "    <tr>\n",
       "      <th>Saq0</th>\n",
       "      <td>0.000009</td>\n",
       "      <td>1.174288e-07</td>\n",
       "      <td>1.253757</td>\n",
       "      <td>-inf</td>\n",
       "      <td>inf</td>\n",
       "      <td>0.0001</td>\n",
       "      <td>[9.366150382090039e-06]</td>\n",
       "    </tr>\n",
       "    <tr>\n",
       "      <th>res</th>\n",
       "      <td>0.000287</td>\n",
       "      <td>3.667864e-04</td>\n",
       "      <td>127.963679</td>\n",
       "      <td>-inf</td>\n",
       "      <td>inf</td>\n",
       "      <td>0</td>\n",
       "      <td>[0.0002866331887267549]</td>\n",
       "    </tr>\n",
       "  </tbody>\n",
       "</table>\n",
       "</div>"
      ],
      "text/plain": [
       "       optimal           std    perc_std  pmin  pmax initial  \\\n",
       "kaq0  1.165825  2.937938e-03    0.252005  -inf   inf      10   \n",
       "Saq0  0.000009  1.174288e-07    1.253757  -inf   inf  0.0001   \n",
       "res   0.000287  3.667864e-04  127.963679  -inf   inf       0   \n",
       "\n",
       "                       parray  \n",
       "kaq0     [1.1658245789227966]  \n",
       "Saq0  [9.366150382090039e-06]  \n",
       "res   [0.0002866331887267549]  "
      ]
     },
     "metadata": {},
     "output_type": "display_data"
    },
    {
     "name": "stdout",
     "output_type": "stream",
     "text": [
      "RMSE: 0.0102162918299993\n"
     ]
    }
   ],
   "source": [
    "display(ca_1.parameters)\n",
    "print('RMSE:', ca_1.rmse())"
   ]
  },
  {
   "cell_type": "code",
   "execution_count": 15,
   "metadata": {
    "scrolled": true
   },
   "outputs": [
    {
     "data": {
      "image/png": "[encoded data removed]",
      "text/plain": [
       "<Figure size 576x360 with 1 Axes>"
      ]
     },
     "metadata": {
      "needs_background": "light"
     },
     "output_type": "display_data"
    }
   ],
   "source": [
    "hm1_1 = ml_0.head(0, 0, t1, layers=0)\n",
    "hm2_1 = ml_0.head(r, 0, t2, layers=0)\n",
    "plt.figure(figsize=(8, 5))\n",
    "plt.semilogx(t1, h1/H0, '.', label='obs ln-2')\n",
    "plt.semilogx(t1, hm1_1[0]/H0, label='ttim ln-2')\n",
    "plt.semilogx(t2, h2/H0, '.', label='obs ln-3')\n",
    "plt.semilogx(t2, hm2_1[0]/H0, label='ttim ln-3')\n",
    "plt.xlabel('time [d]')\n",
    "plt.ylabel('Normalized Head: h/H0')\n",
    "plt.title('Model Results - Single layer model with res')\n",
    "plt.legend();"
   ]
  },
  {
   "cell_type": "markdown",
   "metadata": {},
   "source": [
    "Adding well screen resistance does not improve the performance significantly, while the AIC value increases. Thus, it is recommended to leave it out of the model."
   ]
  },
  {
   "cell_type": "markdown",
   "metadata": {},
   "source": [
    "## Step 9. Create Second Model - multi-layer model\n",
    "\n",
    "We will create a multi-layer model to investigate whether we can improve the model performance if we account for the vertical flow component. We carry this out by dividing the previous aquifer into 0.5 m thick layers."
   ]
  },
  {
   "cell_type": "code",
   "execution_count": 16,
   "metadata": {},
   "outputs": [],
   "source": [
    "#Determine elevations of each layer.\n",
    "#Thickness of each layer is set to be 0.5 m.\n",
    "z = np.arange(0, b, -0.5)\n",
    "zlay = np.append(z, b)\n",
    "nlay = len(zlay) - 1\n",
    "Saq_2 = 1e-4 * np.ones(nlay)\n",
    "n = np.arange(0, 13,1)"
   ]
  },
  {
   "cell_type": "markdown",
   "metadata": {},
   "source": [
    "Now we use the ```Model3D``` object to model multi-layer aquifer:\n",
    "\n",
    "Details on how to set it up can be seen in the notebook: [Unconfined - 1 - Vennebulten](unconfined1_vennebulten.ipynb)"
   ]
  },
  {
   "cell_type": "code",
   "execution_count": 17,
   "metadata": {},
   "outputs": [
    {
     "name": "stdout",
     "output_type": "stream",
     "text": [
      "self.neq  13\n",
      "solution complete\n"
     ]
    }
   ],
   "source": [
    "ml_2 = Model3D(kaq=10, z=zlay, Saq=Saq_2, kzoverkh=1, tmin=1e-5, tmax=0.01, \\\n",
    "              phreatictop=True)\n",
    "w_2 = Well(ml_2, xw=0, yw=0, rw=rw1, tsandQ=[(0, -Q)], layers=n, rc=rc1, \\\n",
    "          wbstype='slug')\n",
    "ml_2.solve()"
   ]
  },
  {
   "cell_type": "markdown",
   "metadata": {},
   "source": [
    "## Step 10. Calibration of multi-layer model"
   ]
  },
  {
   "cell_type": "code",
   "execution_count": 18,
   "metadata": {},
   "outputs": [
    {
     "name": "stdout",
     "output_type": "stream",
     "text": [
      "..............................\n",
      "Fit succeeded.\n",
      "[[Fit Statistics]]\n",
      "    # fitting method   = leastsq\n",
      "    # function evals   = 27\n",
      "    # data points      = 2106\n",
      "    # variables        = 2\n",
      "    chi-square         = 0.21987678\n",
      "    reduced chi-square = 1.0450e-04\n",
      "    Akaike info crit   = -19302.1941\n",
      "    Bayesian info crit = -19290.8890\n",
      "[[Variables]]\n",
      "    kaq0_12:  1.16563289 +/- 8.0515e-04 (0.07%) (init = 10)\n",
      "    Saq0_12:  8.7012e-06 +/- 2.9668e-08 (0.34%) (init = 0.0001)\n",
      "[[Correlations]] (unreported correlations are < 0.100)\n",
      "    C(kaq0_12, Saq0_12) = -0.493\n"
     ]
    }
   ],
   "source": [
    "ca_2 = Calibrate(ml_2)\n",
    "ca_2.set_parameter(name='kaq0_12', initial=10)\n",
    "ca_2.set_parameter(name='Saq0_12', initial=1e-4, pmin=0)\n",
    "ca_2.series(name='Ln-2', x=0, y=0, layer=n, t=t1, h=h1)\n",
    "ca_2.series(name='Ln-3', x=r, y=0, layer=n, t=t2, h=h2)\n",
    "ca_2.fit(report=True)"
   ]
  },
  {
   "cell_type": "code",
   "execution_count": 19,
   "metadata": {},
   "outputs": [
    {
     "data": {
      "text/html": [
       "<div>\n",
       "<style scoped>\n",
       "    .dataframe tbody tr th:only-of-type {\n",
       "        vertical-align: middle;\n",
       "    }\n",
       "\n",
       "    .dataframe tbody tr th {\n",
       "        vertical-align: top;\n",
       "    }\n",
       "\n",
       "    .dataframe thead th {\n",
       "        text-align: right;\n",
       "    }\n",
       "</style>\n",
       "<table border=\"1\" class=\"dataframe\">\n",
       "  <thead>\n",
       "    <tr style=\"text-align: right;\">\n",
       "      <th></th>\n",
       "      <th>optimal</th>\n",
       "      <th>std</th>\n",
       "      <th>perc_std</th>\n",
       "      <th>pmin</th>\n",
       "      <th>pmax</th>\n",
       "      <th>initial</th>\n",
       "      <th>parray</th>\n",
       "    </tr>\n",
       "  </thead>\n",
       "  <tbody>\n",
       "    <tr>\n",
       "      <th>kaq0_12</th>\n",
       "      <td>1.165633</td>\n",
       "      <td>8.051493e-04</td>\n",
       "      <td>0.069074</td>\n",
       "      <td>-inf</td>\n",
       "      <td>inf</td>\n",
       "      <td>10</td>\n",
       "      <td>[1.1656328886457015, 1.1656328886457015, 1.165...</td>\n",
       "    </tr>\n",
       "    <tr>\n",
       "      <th>Saq0_12</th>\n",
       "      <td>0.000009</td>\n",
       "      <td>2.966782e-08</td>\n",
       "      <td>0.340961</td>\n",
       "      <td>0.0</td>\n",
       "      <td>inf</td>\n",
       "      <td>0.0001</td>\n",
       "      <td>[8.701228288998664e-06, 8.701228288998664e-06,...</td>\n",
       "    </tr>\n",
       "  </tbody>\n",
       "</table>\n",
       "</div>"
      ],
      "text/plain": [
       "          optimal           std  perc_std  pmin  pmax initial  \\\n",
       "kaq0_12  1.165633  8.051493e-04  0.069074  -inf   inf      10   \n",
       "Saq0_12  0.000009  2.966782e-08  0.340961   0.0   inf  0.0001   \n",
       "\n",
       "                                                    parray  \n",
       "kaq0_12  [1.1656328886457015, 1.1656328886457015, 1.165...  \n",
       "Saq0_12  [8.701228288998664e-06, 8.701228288998664e-06,...  "
      ]
     },
     "metadata": {},
     "output_type": "display_data"
    },
    {
     "name": "stdout",
     "output_type": "stream",
     "text": [
      "RMSE: 0.010217872976627185\n"
     ]
    }
   ],
   "source": [
    "display(ca_2.parameters)\n",
    "print('RMSE:', ca_2.rmse())"
   ]
  },
  {
   "cell_type": "code",
   "execution_count": 20,
   "metadata": {},
   "outputs": [
    {
     "data": {
      "image/png": "[encoded data removed]",
      "text/plain": [
       "<Figure size 576x360 with 1 Axes>"
      ]
     },
     "metadata": {
      "needs_background": "light"
     },
     "output_type": "display_data"
    }
   ],
   "source": [
    "hm1_2 = ml_2.head(0, 0, t1, layers=n)\n",
    "hm2_2 = ml_2.head(r, 0, t2, layers=n)\n",
    "plt.figure(figsize=(8, 5))\n",
    "plt.semilogx(t1, h1/H0, '.', label='obs ln-2')\n",
    "plt.semilogx(t1, hm1_2[0]/H0, label='ttim ln-2')\n",
    "plt.semilogx(t2, h2/H0, '.', label='obs ln-3')\n",
    "plt.semilogx(t2, hm2_2[0]/H0, label='ttim ln-3')\n",
    "plt.xlabel('time [d]')\n",
    "plt.ylabel('Normalized Head: h/H0')\n",
    "plt.title('Model Results - Multi-layer model')\n",
    "plt.legend();"
   ]
  },
  {
   "cell_type": "markdown",
   "metadata": {},
   "source": [
    "The new model showed similar parameters and RMSE values compared to the previous single-layer model. However, the AIC value was much smaller."
   ]
  },
  {
   "cell_type": "markdown",
   "metadata": {},
   "source": [
    "## Step 11. Analysis and comparison of simulated values\n",
    "\n",
    "We now compare the values in TTim and also add the results of the modelling done in AQTESOLV and MLU by Yang (2020)."
   ]
  },
  {
   "cell_type": "code",
   "execution_count": 23,
   "metadata": {},
   "outputs": [
    {
     "data": {
      "text/html": [
       "<style  type=\"text/css\" >\n",
       "</style><table id=\"T_07f4f_\" ><caption>Comparison of parameter values and error under different models</caption><thead>    <tr>        <th class=\"blank level0\" ></th>        <th class=\"col_heading level0 col0\" >k [m/d]</th>        <th class=\"col_heading level0 col1\" >Ss [1/m]</th>        <th class=\"col_heading level0 col2\" >RMSE</th>    </tr></thead><tbody>\n",
       "                <tr>\n",
       "                        <th id=\"T_07f4f_level0_row0\" class=\"row_heading level0 row0\" >MLU</th>\n",
       "                        <td id=\"T_07f4f_row0_col0\" class=\"data row0 col0\" >1.311000</td>\n",
       "                        <td id=\"T_07f4f_row0_col1\" class=\"data row0 col1\" >0.000008</td>\n",
       "                        <td id=\"T_07f4f_row0_col2\" class=\"data row0 col2\" >0.010373</td>\n",
       "            </tr>\n",
       "            <tr>\n",
       "                        <th id=\"T_07f4f_level0_row1\" class=\"row_heading level0 row1\" >AQTESOLV</th>\n",
       "                        <td id=\"T_07f4f_row1_col0\" class=\"data row1 col0\" >1.166000</td>\n",
       "                        <td id=\"T_07f4f_row1_col1\" class=\"data row1 col1\" >0.000009</td>\n",
       "                        <td id=\"T_07f4f_row1_col2\" class=\"data row1 col2\" >0.009151</td>\n",
       "            </tr>\n",
       "            <tr>\n",
       "                        <th id=\"T_07f4f_level0_row2\" class=\"row_heading level0 row2\" >ttim-single</th>\n",
       "                        <td id=\"T_07f4f_row2_col0\" class=\"data row2 col0\" >1.166104</td>\n",
       "                        <td id=\"T_07f4f_row2_col1\" class=\"data row2 col1\" >0.000009</td>\n",
       "                        <td id=\"T_07f4f_row2_col2\" class=\"data row2 col2\" >0.010218</td>\n",
       "            </tr>\n",
       "            <tr>\n",
       "                        <th id=\"T_07f4f_level0_row3\" class=\"row_heading level0 row3\" >ttim-multi</th>\n",
       "                        <td id=\"T_07f4f_row3_col0\" class=\"data row3 col0\" >1.165633</td>\n",
       "                        <td id=\"T_07f4f_row3_col1\" class=\"data row3 col1\" >0.000009</td>\n",
       "                        <td id=\"T_07f4f_row3_col2\" class=\"data row3 col2\" >0.010218</td>\n",
       "            </tr>\n",
       "    </tbody></table>"
      ],
      "text/plain": [
       "<pandas.io.formats.style.Styler at 0x1ed8540fb80>"
      ]
     },
     "execution_count": 23,
     "metadata": {},
     "output_type": "execute_result"
    }
   ],
   "source": [
    "ta = pd.DataFrame(columns=['k [m/d]', 'Ss [1/m]'], \\\n",
    "                          index=['MLU', 'AQTESOLV', 'ttim-single', 'ttim-multi'])\n",
    "ta.loc['AQTESOLV'] = [1.166, 9.368E-06]\n",
    "ta.loc['MLU'] = [1.311, 8.197E-06]\n",
    "ta.loc['ttim-single'] = ca_0.parameters['optimal'].values\n",
    "ta.loc['ttim-multi'] = ca_2.parameters['optimal'].values\n",
    "ta['RMSE'] = [0.010373, 0.009151, ca_0.rmse(), ca_2.rmse()]\n",
    "ta.style.set_caption('Comparison of parameter values and error under different models')"
   ]
  },
  {
   "cell_type": "markdown",
   "metadata": {},
   "source": [
    "The parameters in every model closely match each other. The error was also very similar."
   ]
  },
  {
   "cell_type": "markdown",
   "metadata": {},
   "source": [
    "## References\n",
    "\n",
    "* Butler, J.J., Jr., 1998. The Design, Performance, and Analysis of Slug Tests, Lewis Publishers, Boca Raton, Florida, 252p.\n",
    "* Hyder, Z., Butler Jr, J.J., McElwee, C.D., Liu, W., 1994. Slug tests in partially penetrating wells. Water Resources Research 30, 2945–2957.\n",
    "* Duffield, G.M., 2007. AQTESOLV for Windows Version 4.5 User's Guide, HydroSOLVE, Inc., Reston, VA.\n",
    "* Yang, Xinzhu (2020) Application and comparison of different methodsfor aquifer test analysis using TTim. Master Thesis, Delft University of Technology (TUDelft), Delft, The Netherlands."
   ]
  },
  {
   "cell_type": "markdown",
   "metadata": {},
   "source": [
    "#### Next Notebook: [Slug Test 4 - Dawsonville](slug4_dawsonville.ipynb)"
   ]
  }
 ],
 "metadata": {
  "kernelspec": {
   "display_name": "Python 3 (ipykernel)",
   "language": "python",
   "name": "python3"
  },
  "language_info": {
   "codemirror_mode": {
    "name": "ipython",
    "version": 3
   },
   "file_extension": ".py",
   "mimetype": "text/x-python",
   "name": "python",
   "nbconvert_exporter": "python",
   "pygments_lexer": "ipython3",
   "version": "3.8.12"
  }
 },
 "nbformat": 4,
 "nbformat_minor": 4
}
