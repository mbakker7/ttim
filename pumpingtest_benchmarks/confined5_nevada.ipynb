{
 "cells": [
  {
   "cell_type": "markdown",
   "metadata": {},
   "source": [
    "# 5. Confined - Double Porosity Test, Nevada\n"
   ]
  },
  {
   "cell_type": "markdown",
   "metadata": {},
   "source": [
    "## Introduction and Conceptual Model"
   ]
  },
  {
   "cell_type": "markdown",
   "metadata": {},
   "source": [
    "This following benchmark example we demonstrate by reproducing Yang (2020) how we can apply TTim in fractured media. We further compare the values obtained in TTim with the ones simulated in AQTESOLV and MLU by Yang (2020)\n",
    "\n",
    "The example is taken from Kruseman and de Ridder (1990). It is based on a pumping test conducted in fractured tertiary vocanic aquifer in the vicinity of Yucca Mountains, Nevada, US. Although convetional Darcy's flow is not applied to fracture flow, in this case we can assume that fracturing is pervasive enough to flow occur as Darcy's flow at the aquifer scale. Flow to the well is considered to be from the fractures while, however the matrix, low permeability rocks exchange water with the fractures.\n",
    "\n",
    "The borehole of the well has 1219 m depth and penetrated a 400 m thick sequence of fractured volcanic rocks with water entry points. At every entry point, the head is more or less the same, so they have good hydraulic connection. The water table is about 470 m below depth, which indicates confined conditions.\n",
    "\n",
    "Drawdown data was sampled at the well, named ***UE-25b#1*** and at an observation well, named ***UE-25a#1***, 110 m away. Three pumping tests were conducted at the site and will be the object of our investigation\n"
   ]
  },
  {
   "cell_type": "code",
   "execution_count": 29,
   "metadata": {},
   "outputs": [
    {
     "data": {
      "image/png": "[encoded data removed]",
      "text/plain": [
       "<Figure size 1008x648 with 1 Axes>"
      ]
     },
     "metadata": {
      "needs_background": "light"
     },
     "output_type": "display_data"
    }
   ],
   "source": [
    "import matplotlib.pyplot as plt\n",
    "import numpy as np\n",
    "def conc_confined5():\n",
    "    ##Now printing the conceptual model figure:\n",
    "\n",
    "    fig = plt.figure(figsize=(14, 9))\n",
    "    ax = fig.add_subplot(1,1,1)\n",
    "    #sky\n",
    "    sky = plt.Rectangle((-20,0), width = 170, height = 150, fc = 'b', zorder=0, alpha=0.1)\n",
    "    ax.add_patch(sky)\n",
    "\n",
    "    #Aquifer:\n",
    "    ground = plt.Rectangle((-20,-1219), width = 170, height = 400, fc = np.array([209,179,127])/255, zorder=0, alpha=0.9, hatch = 'xx')\n",
    "    ax.add_patch(ground)\n",
    "\n",
    "    #Confining bed:\n",
    "    confining_unit = plt.Rectangle((-20,-1219+400), width = 170, height = 1219-400, fc = np.array([100,100,100])/255, zorder=0, alpha=0.7)\n",
    "    ax.add_patch(confining_unit)\n",
    "    well = plt.Rectangle((-2,-1219), width = 4, height = 1219, fc = np.array([200,200,200])/255, zorder=1)\n",
    "    ax.add_patch(well)\n",
    "\n",
    "    #Wellhead\n",
    "    wellhead = plt.Rectangle((-4,0),width = 8, height = 55, fc = np.array([200,200,200])/255, zorder=2, ec='k')\n",
    "    ax.add_patch(wellhead)\n",
    "\n",
    "    #Screen for the well:\n",
    "    screen = plt.Rectangle((-2,-1219), width = 4, height = 400, fc = np.array([200,200,200])/255, alpha=1, zorder = 2, ec = \"k\", ls = '--')\n",
    "    screen.set_linewidth(2)\n",
    "    ax.add_patch(screen)\n",
    "    pumping_arrow = plt.Arrow(x = 4,y = 25, dx = 24, dy = 0, color = \"#00035b\")\n",
    "    ax.add_patch(pumping_arrow)\n",
    "    ax.text(x = 29, y = 55, s = r'$ Q = 3093 \\frac{m^3}{d}$' )\n",
    "    #Piezometers\n",
    "    piez1 = plt.Rectangle((99,-1219), width = 2, height = 1219,fc = np.array([200,200,200])/255, zorder=1)\n",
    "    screen_piez_1 = plt.Rectangle((99,-1219), width = 2, height = 400, fc = np.array([200,200,200])/255, alpha=1, zorder = 2, ec = \"k\", ls = '--')\n",
    "    screen_piez_1.set_linewidth(2)\n",
    "\n",
    "    ax.add_patch(piez1)\n",
    "\n",
    "    ax.add_patch(screen_piez_1)\n",
    "\n",
    "    #last line\n",
    "    line = plt.Line2D(xdata= [-20,150], ydata = [0,0], color = \"k\")\n",
    "    ax.add_line(line)\n",
    "    ax.text(x = 100, y = 55, s = 'Obs Well 1' )\n",
    "\n",
    "    ax.set_xlim([-20,150])\n",
    "    ax.set_ylim([-1219,150])\n",
    "    ax.set_xlabel('Distance [m]')\n",
    "    ax.set_ylabel('Relative height [m]')\n",
    "    ax.set_title('Conceptual Model - Nevada Example')\n",
    "    plt.show()\n",
    "\n",
    "conc_confined5()"
   ]
  },
  {
   "cell_type": "markdown",
   "metadata": {},
   "source": [
    "## Step 1. Import the Required Libraries"
   ]
  },
  {
   "cell_type": "code",
   "execution_count": 30,
   "metadata": {},
   "outputs": [],
   "source": [
    "from ttim import *\n",
    "import numpy as np\n",
    "import matplotlib.pyplot as plt\n",
    "import pandas as pd"
   ]
  },
  {
   "cell_type": "markdown",
   "metadata": {},
   "source": [
    "## Step 2. Set the Basic Parameters for the Model"
   ]
  },
  {
   "cell_type": "code",
   "execution_count": 31,
   "metadata": {},
   "outputs": [],
   "source": [
    "H = 400 #aquifer thickness [m]\n",
    "Q = 3093.12 #constant pumping rate [m^3/d]"
   ]
  },
  {
   "cell_type": "markdown",
   "metadata": {},
   "source": [
    "## Step 3. Load Data\n",
    "\n",
    "Dataset is stored in a text-file for each well, where the first column is the time in days and the second is the drawdown in meters."
   ]
  },
  {
   "cell_type": "code",
   "execution_count": 32,
   "metadata": {},
   "outputs": [],
   "source": [
    "#Pumped well UE-25b#1\n",
    "data1 = np.loadtxt('data/double-porosity-pumpingwell.txt', skiprows = 1)\n",
    "t1 = data1[:, 0]\n",
    "h1 = data1[:, 1]\n",
    "\n",
    "#Observation well UE-25a#1\n",
    "data2 = np.loadtxt('data/double-porosity-110m.txt', skiprows = 1)\n",
    "t2 = data2[:, 0]\n",
    "h2 = data2[:, 1]\n",
    "r = 110 #distance from obs to pumped well"
   ]
  },
  {
   "cell_type": "markdown",
   "metadata": {},
   "source": [
    "## Step 4. Create conceptual model"
   ]
  },
  {
   "cell_type": "markdown",
   "metadata": {},
   "source": [
    "In order to conceptualize the model in TTim we have to make to approximate the fractured system to a conceptualized ModelMaq configuration. The conceptual TTim model will be represented by a first layer that represents the matrix of the aquifer, follow by a 1 m thick aquitard and the second layer that represents the fractures."
   ]
  },
  {
   "cell_type": "code",
   "execution_count": 33,
   "metadata": {},
   "outputs": [
    {
     "data": {
      "image/png": "[encoded data removed]",
      "text/plain": [
       "<Figure size 1008x648 with 1 Axes>"
      ]
     },
     "metadata": {
      "needs_background": "light"
     },
     "output_type": "display_data"
    }
   ],
   "source": [
    "def conc_mmaq_confined5():\n",
    "    ##Now printing the conceptual model figure:\n",
    "\n",
    "    fig = plt.figure(figsize=(14, 9))\n",
    "    ax = fig.add_subplot(1,1,1)\n",
    "    #sky\n",
    "    sky = plt.Rectangle((-20,0), width = 170, height = 150, fc = 'b', zorder=0, alpha=0.1)\n",
    "    ax.add_patch(sky)\n",
    "\n",
    "    #Aquifer:\n",
    "    ground_2 =  plt.Rectangle((-20,-1219+401), width = 170, height = 400, fc = np.array([209,179,127])/255, zorder=0, alpha=0.9, hatch = 'oo')\n",
    "    ax.add_patch(ground_2)\n",
    "    ground = plt.Rectangle((-20,-1219), width = 170, height = 400, fc = np.array([209,179,127])/255, zorder=0, alpha=0.9, hatch = 'xx')\n",
    "    ax.add_patch(ground)\n",
    "\n",
    "    #Confining bed:\n",
    "    confining_unit_1 = plt.Rectangle((-20,-1219+400), width = 170, height = 1, fc = np.array([100,100,100])/255, zorder=0, alpha=0.7)\n",
    "    ax.add_patch(confining_unit_1)\n",
    "    confining_unit = plt.Rectangle((-20,-1219+801), width = 170, height = 1219-801, fc = np.array([100,100,100])/255, zorder=0, alpha=0.7)\n",
    "    ax.add_patch(confining_unit)\n",
    "    well = plt.Rectangle((-2,-1219), width = 4, height = 1219, fc = np.array([200,200,200])/255, zorder=1)\n",
    "    ax.add_patch(well)\n",
    "\n",
    "    #Wellhead\n",
    "    wellhead = plt.Rectangle((-4,0),width = 8, height = 55, fc = np.array([200,200,200])/255, zorder=2, ec='k')\n",
    "    ax.add_patch(wellhead)\n",
    "\n",
    "    #Screen for the well:\n",
    "    screen = plt.Rectangle((-2,-1219), width = 4, height = 400, fc = np.array([200,200,200])/255, alpha=1, zorder = 2, ec = \"k\", ls = '--')\n",
    "    screen.set_linewidth(2)\n",
    "    ax.add_patch(screen)\n",
    "    pumping_arrow = plt.Arrow(x = 4,y = 25, dx = 22, dy = 0, color = \"#00035b\")\n",
    "    ax.add_patch(pumping_arrow)\n",
    "    ax.text(x = 29, y = 55, s = r'$ Q = 3093 \\frac{m^3}{d}$', fontsize = 'large' )\n",
    "    #Piezometers\n",
    "    piez1 = plt.Rectangle((99,-1219), width = 2, height = 1219,fc = np.array([200,200,200])/255, zorder=1)\n",
    "    screen_piez_1 = plt.Rectangle((99,-1219), width = 2, height = 400, fc = np.array([200,200,200])/255, alpha=1, zorder = 2, ec = \"k\", ls = '--')\n",
    "    screen_piez_1.set_linewidth(2)\n",
    "\n",
    "    ax.add_patch(piez1)\n",
    "\n",
    "    ax.add_patch(screen_piez_1)\n",
    "\n",
    "    #last line\n",
    "    line = plt.Line2D(xdata= [-20,150], ydata = [0,0], color = \"k\")\n",
    "    ax.add_line(line)\n",
    "    ax.text(x = 100, y = 55, s = 'Obs Well 1', fontsize = 'large' )\n",
    "\n",
    "    ax.set_xlim([-20,150])\n",
    "    ax.set_ylim([-1219,150])\n",
    "    ax.set_xlabel('Distance [m]')\n",
    "    ax.set_ylabel('Relative height [m]')\n",
    "    ax.set_title('Conceptual ModelMaq Model - Nevada Example')\n",
    "    plt.show()\n",
    "    \n",
    "conc_mmaq_confined5()"
   ]
  },
  {
   "cell_type": "markdown",
   "metadata": {},
   "source": [
    "First, for the TTim model, we will adopt the parameters for the first layer from the results obtained from Kruseman and de Ridder (1970):"
   ]
  },
  {
   "cell_type": "code",
   "execution_count": 34,
   "metadata": {},
   "outputs": [],
   "source": [
    "km = 0.1 / H #hydraulic conductivity of matrix calculated by K&dR\n",
    "Sm = 3.85e-4 #specific storage of matrix calculated by K&dR"
   ]
  },
  {
   "cell_type": "markdown",
   "metadata": {},
   "source": [
    "Now we can construct the two-layer model:\n",
    "Instructions on how to construct this model can be seen in notebook 4 (***REF with link***)."
   ]
  },
  {
   "cell_type": "code",
   "execution_count": 35,
   "metadata": {},
   "outputs": [
    {
     "name": "stdout",
     "output_type": "stream",
     "text": [
      "self.neq  1\n",
      "solution complete\n"
     ]
    }
   ],
   "source": [
    "ml = ModelMaq(kaq=[km, 1], z=[0, -400, -401, -801], c=5, Saq=[Sm, 1e-3],\\\n",
    "              Sll=0, topboundary='conf', tmin=1e-5, tmax=3)\n",
    "w = Well(ml, xw=0, yw=0, rw=0.11, rc=0, tsandQ=[0, 3093.12], layers=1)\n",
    "ml.solve()"
   ]
  },
  {
   "cell_type": "markdown",
   "metadata": {},
   "source": [
    "## Step 5. Calibrate the model using both Datasets"
   ]
  },
  {
   "cell_type": "markdown",
   "metadata": {},
   "source": [
    "In this calibration procedure we only calibrate the parameters of the fractured system and keep the matrix values fixed. We also calibrate the wellbore storage parameter ```rc``` that is the radius of the caisson considered for storage.\n",
    "Instructions on how to set this calibration proceedure in the notebook: [Confined 1 - Oude Korendijk](confined1_oude_korendijk)"
   ]
  },
  {
   "cell_type": "code",
   "execution_count": 36,
   "metadata": {},
   "outputs": [
    {
     "name": "stdout",
     "output_type": "stream",
     "text": [
      "..................................................................................................................................................................................................................\n",
      "Fit succeeded.\n",
      "[[Fit Statistics]]\n",
      "    # fitting method   = leastsq\n",
      "    # function evals   = 207\n",
      "    # data points      = 138\n",
      "    # variables        = 4\n",
      "    chi-square         = 5.47351295\n",
      "    reduced chi-square = 0.04084711\n",
      "    Akaike info crit   = -437.371961\n",
      "    Bayesian info crit = -425.662947\n",
      "[[Variables]]\n",
      "    kaq1:  0.87696491 +/- 0.00698993 (0.80%) (init = 10)\n",
      "    Saq1:  5.0877e-06 +/- 5.0676e-07 (9.96%) (init = 0.0001)\n",
      "    c1:    13.0040630 +/- 1.59728006 (12.28%) (init = 10)\n",
      "    rc:    0.10560365 +/- 0.00320831 (3.04%) (init = 0)\n",
      "[[Correlations]] (unreported correlations are < 0.100)\n",
      "    C(kaq1, c1)   =  0.858\n",
      "    C(kaq1, Saq1) = -0.731\n",
      "    C(Saq1, c1)   = -0.546\n",
      "    C(Saq1, rc)   = -0.401\n",
      "    C(kaq1, rc)   =  0.101\n"
     ]
    },
    {
     "data": {
      "text/html": [
       "<div>\n",
       "<style scoped>\n",
       "    .dataframe tbody tr th:only-of-type {\n",
       "        vertical-align: middle;\n",
       "    }\n",
       "\n",
       "    .dataframe tbody tr th {\n",
       "        vertical-align: top;\n",
       "    }\n",
       "\n",
       "    .dataframe thead th {\n",
       "        text-align: right;\n",
       "    }\n",
       "</style>\n",
       "<table border=\"1\" class=\"dataframe\">\n",
       "  <thead>\n",
       "    <tr style=\"text-align: right;\">\n",
       "      <th></th>\n",
       "      <th>optimal</th>\n",
       "      <th>std</th>\n",
       "      <th>perc_std</th>\n",
       "      <th>pmin</th>\n",
       "      <th>pmax</th>\n",
       "      <th>initial</th>\n",
       "      <th>parray</th>\n",
       "    </tr>\n",
       "  </thead>\n",
       "  <tbody>\n",
       "    <tr>\n",
       "      <th>kaq1</th>\n",
       "      <td>0.876965</td>\n",
       "      <td>6.989927e-03</td>\n",
       "      <td>0.797059</td>\n",
       "      <td>-inf</td>\n",
       "      <td>inf</td>\n",
       "      <td>10</td>\n",
       "      <td>[0.8769649128737359]</td>\n",
       "    </tr>\n",
       "    <tr>\n",
       "      <th>Saq1</th>\n",
       "      <td>0.000005</td>\n",
       "      <td>5.067582e-07</td>\n",
       "      <td>9.960487</td>\n",
       "      <td>0.0</td>\n",
       "      <td>inf</td>\n",
       "      <td>0.0001</td>\n",
       "      <td>[5.087684516125179e-06]</td>\n",
       "    </tr>\n",
       "    <tr>\n",
       "      <th>c1</th>\n",
       "      <td>13.004063</td>\n",
       "      <td>1.597280e+00</td>\n",
       "      <td>12.282931</td>\n",
       "      <td>-inf</td>\n",
       "      <td>inf</td>\n",
       "      <td>10</td>\n",
       "      <td>[13.00406295749886]</td>\n",
       "    </tr>\n",
       "    <tr>\n",
       "      <th>rc</th>\n",
       "      <td>0.105604</td>\n",
       "      <td>3.208309e-03</td>\n",
       "      <td>3.038067</td>\n",
       "      <td>-inf</td>\n",
       "      <td>inf</td>\n",
       "      <td>0</td>\n",
       "      <td>[0.10560365048939889]</td>\n",
       "    </tr>\n",
       "  </tbody>\n",
       "</table>\n",
       "</div>"
      ],
      "text/plain": [
       "        optimal           std   perc_std  pmin  pmax initial  \\\n",
       "kaq1   0.876965  6.989927e-03   0.797059  -inf   inf      10   \n",
       "Saq1   0.000005  5.067582e-07   9.960487   0.0   inf  0.0001   \n",
       "c1    13.004063  1.597280e+00  12.282931  -inf   inf      10   \n",
       "rc     0.105604  3.208309e-03   3.038067  -inf   inf       0   \n",
       "\n",
       "                       parray  \n",
       "kaq1     [0.8769649128737359]  \n",
       "Saq1  [5.087684516125179e-06]  \n",
       "c1        [13.00406295749886]  \n",
       "rc      [0.10560365048939889]  "
      ]
     },
     "metadata": {},
     "output_type": "display_data"
    },
    {
     "name": "stdout",
     "output_type": "stream",
     "text": [
      "RMSE: 0.19915606265633506\n"
     ]
    }
   ],
   "source": [
    "ca = Calibrate(ml)\n",
    "ca.set_parameter(name='kaq1', initial=10)\n",
    "ca.set_parameter(name='Saq1', initial=1e-4, pmin=0)\n",
    "ca.set_parameter(name='c1', initial=10)\n",
    "ca.set_parameter_by_reference(name='rc', parameter=w.rc, initial=0)\n",
    "ca.series(name='UE-25b#1', x=0, y=0, t=t1, h=h1, layer=1)\n",
    "ca.series(name='UE-25a#1', x=r, y=0, t=t2, h=h2, layer=1)\n",
    "ca.fit(report=True)\n",
    "display(ca.parameters)\n",
    "print('RMSE:', ca.rmse())"
   ]
  },
  {
   "cell_type": "markdown",
   "metadata": {},
   "source": [
    "Overall, a good fit has been obtained. Resoanable standard deviations of the estimates and a low value for AIC and BIC gives a good confidence on the adopted parameters. Now we can check how "
   ]
  },
  {
   "cell_type": "code",
   "execution_count": 37,
   "metadata": {
    "scrolled": false
   },
   "outputs": [
    {
     "data": {
      "image/png": "[encoded data removed]",
      "text/plain": [
       "<Figure size 576x360 with 1 Axes>"
      ]
     },
     "metadata": {
      "needs_background": "light"
     },
     "output_type": "display_data"
    }
   ],
   "source": [
    "hm1 = ml.head(0, 0, t1)\n",
    "hm2 = ml.head(110, 0, t2)\n",
    "plt.figure(figsize=(8, 5))\n",
    "plt.semilogx(t1, h1, '.', label='obs UE-25b#1')\n",
    "plt.semilogx(t1, hm1[-1], label='TTim UE-25b#1')\n",
    "plt.semilogx(t2, h2, '.', label='obs UE-25a#1')\n",
    "plt.semilogx(t2, hm2[-1], label='TTim UE-25a#1')\n",
    "plt.xlabel('time [d]')\n",
    "plt.ylabel('drawdown [m]')\n",
    "plt.suptitle('Model Results - Simulation 1')\n",
    "plt.legend()\n",
    "plt.show()\n"
   ]
  },
  {
   "cell_type": "markdown",
   "metadata": {},
   "source": [
    "## Step 7. Simulate parameters of both fracture and matrix\n",
    "\n",
    "Now we will repeat the procedures of step 5 and 6, but this time we will let TTim find the parameters for both the matrix and the fractures"
   ]
  },
  {
   "cell_type": "code",
   "execution_count": 38,
   "metadata": {},
   "outputs": [
    {
     "name": "stdout",
     "output_type": "stream",
     "text": [
      "self.neq  1\n",
      "solution complete\n"
     ]
    }
   ],
   "source": [
    "ml1 = ModelMaq(kaq=[1, 1], z=[0, -400, -401, -801], c=5, Saq=[1e-3, 1e-3],\\\n",
    "              Sll=0, topboundary='conf', tmin=1e-5, tmax=3)\n",
    "w1 = Well(ml1, xw=0, yw=0, rw=0.11, rc=0, tsandQ=[0, 3093.12], layers=1)\n",
    "ml1.solve()"
   ]
  },
  {
   "cell_type": "code",
   "execution_count": 39,
   "metadata": {},
   "outputs": [
    {
     "name": "stdout",
     "output_type": "stream",
     "text": [
      "..................................................................................................................................................................................................................................................................................................\n",
      "Fit succeeded.\n",
      "[[Fit Statistics]]\n",
      "    # fitting method   = leastsq\n",
      "    # function evals   = 287\n",
      "    # data points      = 138\n",
      "    # variables        = 6\n",
      "    chi-square         = 3.50595496\n",
      "    reduced chi-square = 0.02656026\n",
      "    Akaike info crit   = -494.845123\n",
      "    Bayesian info crit = -477.281601\n",
      "[[Variables]]\n",
      "    kaq0:  8.0543e-07 +/- 3.6087e-04 (44804.87%) (init = 1)\n",
      "    Saq0:  1.4223e-04 +/- 1.4418e-05 (10.14%) (init = 0.0001)\n",
      "    kaq1:  0.91078504 +/- 0.00599992 (0.66%) (init = 1)\n",
      "    Saq1:  3.3017e-06 +/- 2.9411e-07 (8.91%) (init = 0.0001)\n",
      "    c1:    16.0320487 +/- 1.47177146 (9.18%) (init = 100)\n",
      "    rc:    0.10928217 +/- 0.00250503 (2.29%) (init = 0)\n",
      "[[Correlations]] (unreported correlations are < 0.100)\n",
      "    C(kaq1, Saq1) = -0.735\n",
      "    C(kaq1, c1)   =  0.715\n",
      "    C(Saq0, kaq1) = -0.665\n",
      "    C(Saq0, Saq1) =  0.538\n",
      "    C(Saq1, rc)   = -0.415\n",
      "    C(Saq1, c1)   = -0.381\n",
      "    C(Saq0, c1)   = -0.268\n",
      "    C(kaq0, c1)   =  0.164\n",
      "    C(kaq1, rc)   =  0.115\n",
      "    C(Saq0, rc)   = -0.104\n"
     ]
    },
    {
     "data": {
      "text/html": [
       "<div>\n",
       "<style scoped>\n",
       "    .dataframe tbody tr th:only-of-type {\n",
       "        vertical-align: middle;\n",
       "    }\n",
       "\n",
       "    .dataframe tbody tr th {\n",
       "        vertical-align: top;\n",
       "    }\n",
       "\n",
       "    .dataframe thead th {\n",
       "        text-align: right;\n",
       "    }\n",
       "</style>\n",
       "<table border=\"1\" class=\"dataframe\">\n",
       "  <thead>\n",
       "    <tr style=\"text-align: right;\">\n",
       "      <th></th>\n",
       "      <th>optimal</th>\n",
       "      <th>std</th>\n",
       "      <th>perc_std</th>\n",
       "      <th>pmin</th>\n",
       "      <th>pmax</th>\n",
       "      <th>initial</th>\n",
       "      <th>parray</th>\n",
       "    </tr>\n",
       "  </thead>\n",
       "  <tbody>\n",
       "    <tr>\n",
       "      <th>kaq0</th>\n",
       "      <td>0.000001</td>\n",
       "      <td>3.608703e-04</td>\n",
       "      <td>44804.86936</td>\n",
       "      <td>0</td>\n",
       "      <td>inf</td>\n",
       "      <td>1</td>\n",
       "      <td>[8.054266007473387e-07]</td>\n",
       "    </tr>\n",
       "    <tr>\n",
       "      <th>Saq0</th>\n",
       "      <td>0.000142</td>\n",
       "      <td>1.441815e-05</td>\n",
       "      <td>10.136923</td>\n",
       "      <td>0</td>\n",
       "      <td>inf</td>\n",
       "      <td>0.0001</td>\n",
       "      <td>[0.00014223402560764598]</td>\n",
       "    </tr>\n",
       "    <tr>\n",
       "      <th>kaq1</th>\n",
       "      <td>0.910785</td>\n",
       "      <td>5.999916e-03</td>\n",
       "      <td>0.658763</td>\n",
       "      <td>0</td>\n",
       "      <td>inf</td>\n",
       "      <td>1</td>\n",
       "      <td>[0.910785044127427]</td>\n",
       "    </tr>\n",
       "    <tr>\n",
       "      <th>Saq1</th>\n",
       "      <td>0.000003</td>\n",
       "      <td>2.941073e-07</td>\n",
       "      <td>8.907849</td>\n",
       "      <td>0</td>\n",
       "      <td>inf</td>\n",
       "      <td>0.0001</td>\n",
       "      <td>[3.3016641605154717e-06]</td>\n",
       "    </tr>\n",
       "    <tr>\n",
       "      <th>c1</th>\n",
       "      <td>16.032049</td>\n",
       "      <td>1.471771e+00</td>\n",
       "      <td>9.180183</td>\n",
       "      <td>0</td>\n",
       "      <td>inf</td>\n",
       "      <td>100</td>\n",
       "      <td>[16.032048718189603]</td>\n",
       "    </tr>\n",
       "    <tr>\n",
       "      <th>rc</th>\n",
       "      <td>0.109282</td>\n",
       "      <td>2.505030e-03</td>\n",
       "      <td>2.292258</td>\n",
       "      <td>0</td>\n",
       "      <td>inf</td>\n",
       "      <td>0</td>\n",
       "      <td>[0.10928216754371145]</td>\n",
       "    </tr>\n",
       "  </tbody>\n",
       "</table>\n",
       "</div>"
      ],
      "text/plain": [
       "        optimal           std     perc_std pmin  pmax initial  \\\n",
       "kaq0   0.000001  3.608703e-04  44804.86936    0   inf       1   \n",
       "Saq0   0.000142  1.441815e-05    10.136923    0   inf  0.0001   \n",
       "kaq1   0.910785  5.999916e-03     0.658763    0   inf       1   \n",
       "Saq1   0.000003  2.941073e-07     8.907849    0   inf  0.0001   \n",
       "c1    16.032049  1.471771e+00     9.180183    0   inf     100   \n",
       "rc     0.109282  2.505030e-03     2.292258    0   inf       0   \n",
       "\n",
       "                        parray  \n",
       "kaq0   [8.054266007473387e-07]  \n",
       "Saq0  [0.00014223402560764598]  \n",
       "kaq1       [0.910785044127427]  \n",
       "Saq1  [3.3016641605154717e-06]  \n",
       "c1        [16.032048718189603]  \n",
       "rc       [0.10928216754371145]  "
      ]
     },
     "metadata": {},
     "output_type": "display_data"
    },
    {
     "name": "stdout",
     "output_type": "stream",
     "text": [
      "RMSE: 0.15939093669157972\n"
     ]
    }
   ],
   "source": [
    "ca1 = Calibrate(ml1)\n",
    "ca1.set_parameter(name='kaq0', initial=1, pmin=0)\n",
    "ca1.set_parameter(name='Saq0', initial=1e-4, pmin=0)\n",
    "ca1.set_parameter(name='kaq1', initial=1, pmin=0)\n",
    "ca1.set_parameter(name='Saq1', initial=1e-4, pmin=0)\n",
    "ca1.set_parameter(name='c1', initial=100, pmin=0)\n",
    "ca1.set_parameter_by_reference(name='rc', parameter=w1.rc, initial=0, pmin=0)\n",
    "ca1.series(name='UE-25b#1', x=0, y=0, t=t1, h=h1, layer=1)\n",
    "ca1.series(name='UE-25a#1', x=110, y=0, t=t2, h=h2, layer=1)\n",
    "ca1.fit(report=True)\n",
    "display(ca1.parameters)\n",
    "print('RMSE:', ca1.rmse())"
   ]
  },
  {
   "cell_type": "markdown",
   "metadata": {},
   "source": [
    "We see that the fit has slight improved, as the AIC and BIC values. However, from the table above one can see that we have a low confidence on the hydraulic conductivity of the matrix, nevertheless we can see it is a very low value."
   ]
  },
  {
   "cell_type": "code",
   "execution_count": 40,
   "metadata": {},
   "outputs": [
    {
     "data": {
      "image/png": "[encoded data removed]",
      "text/plain": [
       "<Figure size 576x360 with 1 Axes>"
      ]
     },
     "metadata": {
      "needs_background": "light"
     },
     "output_type": "display_data"
    }
   ],
   "source": [
    "ht1 = ml1.head(0, 0, t1)\n",
    "ht2 = ml1.head(110, 0, t2)\n",
    "plt.figure(figsize=(8, 5))\n",
    "plt.semilogx(t1, h1, '.', label = 'obs UE-25b#1')\n",
    "plt.semilogx(t1, ht1[-1], label = 'TTim UE-25b#1')\n",
    "plt.semilogx(t2, h2, '.', label = 'obs UE-25a#1')\n",
    "plt.semilogx(t2, ht2[-1], label = 'TTim UE-25a#1')\n",
    "plt.xlabel('time [d]')\n",
    "plt.ylabel('drawdown [m]')\n",
    "plt.suptitle('Model Results - Simulation 1')\n",
    "plt.legend()\n",
    "plt.show()\n"
   ]
  },
  {
   "cell_type": "markdown",
   "metadata": {},
   "source": [
    "Overall the curves follow the trends of the drawdown and the fit is good in general."
   ]
  },
  {
   "cell_type": "markdown",
   "metadata": {},
   "source": [
    "## Step 8. Analysis and Comparison of the Results under different methods"
   ]
  },
  {
   "cell_type": "markdown",
   "metadata": {},
   "source": [
    "The final important step is to compare the data obtained from this model with the data from other Aquifer Analysis software. Yang (2020) compared TTim results with the published results in Kruseman and de Ridder (1990), here abbreviated to K&dR, and with the results obtained from the software AQTESOLV (Duffield, 2007) and MLU (Carlson & Randall, 2012).\n",
    "\n",
    "Kruseman et al. (1970) solved the problem using a graphical method, where the Transmissivity is calculated as a one aquifer and the storativity is separated between matrix and fractures. The MLU (Carlson & Randall, 2012) solution used a similar approach to our TTim model, by simulating the matrix as a very-low transmissitivy aquifer on top of the fractured aquifer and separated by a zero-storage aquitard. Xinzhu (2020) solved the problem in AQTESOLV using a double-porosity analytical solution proposed by Moench (1984).\n",
    "\n"
   ]
  },
  {
   "cell_type": "code",
   "execution_count": 44,
   "metadata": {},
   "outputs": [
    {
     "data": {
      "text/html": [
       "<div>\n",
       "<style scoped>\n",
       "    .dataframe tbody tr th:only-of-type {\n",
       "        vertical-align: middle;\n",
       "    }\n",
       "\n",
       "    .dataframe tbody tr th {\n",
       "        vertical-align: top;\n",
       "    }\n",
       "\n",
       "    .dataframe thead th {\n",
       "        text-align: right;\n",
       "    }\n",
       "</style>\n",
       "<table border=\"1\" class=\"dataframe\">\n",
       "  <thead>\n",
       "    <tr style=\"text-align: right;\">\n",
       "      <th></th>\n",
       "      <th>km [m/d]</th>\n",
       "      <th>Sm [1/m]</th>\n",
       "      <th>kf [m/d]</th>\n",
       "      <th>Sf [1/m]</th>\n",
       "      <th>c</th>\n",
       "      <th>rc</th>\n",
       "      <th>RMSE</th>\n",
       "    </tr>\n",
       "  </thead>\n",
       "  <tbody>\n",
       "    <tr>\n",
       "      <th>K&amp;dR</th>\n",
       "      <td>0.8325</td>\n",
       "      <td>0.000375</td>\n",
       "      <td>0.8325</td>\n",
       "      <td>0.000004</td>\n",
       "      <td>-</td>\n",
       "      <td>-</td>\n",
       "      <td>-</td>\n",
       "    </tr>\n",
       "    <tr>\n",
       "      <th>AQTESOLV</th>\n",
       "      <td>0.149</td>\n",
       "      <td>0.000551</td>\n",
       "      <td>0.937</td>\n",
       "      <td>0.000006</td>\n",
       "      <td>-</td>\n",
       "      <td>0.11</td>\n",
       "      <td>0.031736</td>\n",
       "    </tr>\n",
       "    <tr>\n",
       "      <th>MLU</th>\n",
       "      <td>0.00025</td>\n",
       "      <td>0.000385</td>\n",
       "      <td>0.874</td>\n",
       "      <td>0.000008</td>\n",
       "      <td>12.38</td>\n",
       "      <td>0.1</td>\n",
       "      <td>0.434638</td>\n",
       "    </tr>\n",
       "    <tr>\n",
       "      <th>TTim1</th>\n",
       "      <td>0.00025</td>\n",
       "      <td>0.000385</td>\n",
       "      <td>0.876965</td>\n",
       "      <td>0.000005</td>\n",
       "      <td>13.004063</td>\n",
       "      <td>0.105604</td>\n",
       "      <td>0.199156</td>\n",
       "    </tr>\n",
       "    <tr>\n",
       "      <th>TTim2</th>\n",
       "      <td>0.000001</td>\n",
       "      <td>0.000142</td>\n",
       "      <td>0.910785</td>\n",
       "      <td>0.000003</td>\n",
       "      <td>16.032049</td>\n",
       "      <td>0.109282</td>\n",
       "      <td>0.159391</td>\n",
       "    </tr>\n",
       "  </tbody>\n",
       "</table>\n",
       "</div>"
      ],
      "text/plain": [
       "          km [m/d]  Sm [1/m]  kf [m/d]  Sf [1/m]          c        rc  \\\n",
       "K&dR        0.8325  0.000375    0.8325  0.000004          -         -   \n",
       "AQTESOLV     0.149  0.000551     0.937  0.000006          -      0.11   \n",
       "MLU        0.00025  0.000385     0.874  0.000008      12.38       0.1   \n",
       "TTim1      0.00025  0.000385  0.876965  0.000005  13.004063  0.105604   \n",
       "TTim2     0.000001  0.000142  0.910785  0.000003  16.032049  0.109282   \n",
       "\n",
       "              RMSE  \n",
       "K&dR             -  \n",
       "AQTESOLV  0.031736  \n",
       "MLU       0.434638  \n",
       "TTim1     0.199156  \n",
       "TTim2     0.159391  "
      ]
     },
     "execution_count": 44,
     "metadata": {},
     "output_type": "execute_result"
    }
   ],
   "source": [
    "t = pd.DataFrame(columns=['km [m/d]', 'Sm [1/m]', 'kf [m/d]', 'Sf [1/m]', 'c', 'rc'], \\\n",
    "                index=['K&dR', #'Moench',\n",
    "                       'AQTESOLV', 'MLU', 'TTim1', 'TTim2'])\n",
    "t.loc['TTim1'] = np.concatenate((np.array([0.00025, 3.850e-04]),ca.parameters['optimal'].values))\n",
    "t.loc['TTim2'] = ca1.parameters['optimal'].values\n",
    "t.loc['K&dR'] = [0.8325, 3.750e-4, 0.8325, 4.000e-6, '-', '-']\n",
    "#t.loc['Moench'] = [0.1728, 3.000e-4, 0.864, 1.500e-6, '-', '-'] # I don't know where these values for Moench come from\n",
    "t.loc['AQTESOLV'] = [0.149, 5.512e-4, 0.937, 5.533e-6, '-', 0.11]\n",
    "t.loc['MLU'] = [0.00025, 3.850e-04, 0.874, 8.053e-6, 12.380, 0.1]\n",
    "t['RMSE'] = ['-', 0.031736,\n",
    "             0.434638, ca.rmse(), ca1.rmse()]\n",
    "t"
   ]
  },
  {
   "cell_type": "markdown",
   "metadata": {},
   "source": [
    "Overall, TTim model 1 showed similar results than MLU, but with a slightly better fit, AQTESOLV obtained a better fit using Moench's analytical solution. This could indicates that the analytical model is a better representation of the reality there, eventhough the parameter values approached TTim model 2."
   ]
  },
  {
   "cell_type": "markdown",
   "metadata": {},
   "source": [
    "### Step 8.1. Comparison of estimates and model error"
   ]
  },
  {
   "cell_type": "code",
   "execution_count": 53,
   "metadata": {},
   "outputs": [
    {
     "data": {
      "image/png": "[encoded data removed]",
      "text/plain": [
       "<Figure size 720x504 with 2 Axes>"
      ]
     },
     "metadata": {
      "needs_background": "light"
     },
     "output_type": "display_data"
    }
   ],
   "source": [
    "# Preparing the DataFrame:\n",
    "t1 = pd.DataFrame(columns=['kaq - opt -l1', 'kaq - 95% -l1','kaq - opt -l2', 'kaq - 95% -l2' ], index = ['AQTESOLV','MLU','K&dR','TTim - all params', 'TTim - fixed upper']) \n",
    "simulation = ['AQTESOLV','MLU','K&dR','TTim - rc', 'TTim - fixed upper']\n",
    "t1.loc['MLU'] = [0.00025,  np.nan,0.874, 1.221*1e-2*0.874]\n",
    "t1.loc['KdR'] = [0.8325, np.nan, 0.8325, np.nan]\n",
    "t1.loc['AQTESOLV'] = [0.149,291.236*1e-2*0.149,0.937,1.946*1e-2*0.937]\n",
    "t1.loc['TTim - fixed upper'] = [0.00025,np.nan,ca.parameters.loc['kaq1','optimal'],2*ca.parameters.loc['kaq1','std']]\n",
    "t1.loc['TTim - all params'] = [ca1.parameters.loc['kaq0','optimal'],2*ca1.parameters.loc['kaq0','std'],ca1.parameters.loc['kaq1','optimal'],2*ca1.parameters.loc['kaq1','std']]\n",
    "\n",
    "# Plotting\n",
    "\n",
    "#plt.figure(figsize = (10,7))\n",
    "fig,ax = plt.subplots(2,1, figsize = (10,7), sharex = True)\n",
    "ax[0].errorbar(x = t1.index, y = t1['kaq - opt -l1'], yerr = [t1['kaq - 95% -l1'], t1['kaq - 95% -l1']],\n",
    "    marker='o', linestyle='', markersize=12, label = 'aquifer matrix', color = 'red')\n",
    "ax[0].legend()\n",
    "ax[1].errorbar(x = t1.index, y = t1['kaq - opt -l2'], yerr = [t1['kaq - 95% -l2'], t1['kaq - 95% -l2']],\n",
    "    marker='o', linestyle='', markersize=12, label = 'fractures')\n",
    "\n",
    "plt.legend()\n",
    "plt.suptitle(\"Error bar plot of calibrated hydraulic conductivities\")\n",
    "plt.ylabel('K [m/d]')\n",
    "#plt.ylim([278,289])\n",
    "plt.xlabel('Model');"
   ]
  },
  {
   "cell_type": "markdown",
   "metadata": {},
   "source": [
    "Hydraulic conductivities varied between simulation. When estimated, the matrix conductivity had higher uncertainty. Uncertainty ranges are similar for the fractured portion, however the solutions do not always overlap each other."
   ]
  },
  {
   "cell_type": "markdown",
   "metadata": {},
   "source": [
    "## Reference\n",
    "\n",
    "* Carlson F, Randall J (2012) MLU: a Windows application for the analysis of aquifer tests and the design of well fields in layered systems. Ground Water 50(4):504–510\n",
    "* Duffield, G.M., 2007. AQTESOLV for Windows Version 4.5 User's Guide, HydroSOLVE, Inc., Reston, VA.\n",
    "* Kruseman GP, De Ridder NA (1990) Analysis and evaluation of pumping test data, 2nd edn. ILRI Publ. 47, ILRI, Wageningen, The Netherlands\n",
    "* Moench, A. F. (1984), Double-Porosity Models for a Fissured Groundwater Reservoir With Fracture Skin, Water Resour. Res., 20( 7), 831– 846, doi:10.1029/WR020i007p00831.\n",
    "* Yang, Xinzhu (2020) Application and comparison of different methodsfor aquifer test analysis using TTim. Master Thesis, Delft University of Technology (TUDelft), Delft, The Netherlands."
   ]
  },
  {
   "cell_type": "markdown",
   "metadata": {},
   "source": [
    "#### Next Notebook: [Leaky 1 - Dalem](leaky1_dalem.ipynb)"
   ]
  }
 ],
 "metadata": {
  "kernelspec": {
   "display_name": "Python 3 (ipykernel)",
   "language": "python",
   "name": "python3"
  },
  "language_info": {
   "codemirror_mode": {
    "name": "ipython",
    "version": 3
   },
   "file_extension": ".py",
   "mimetype": "text/x-python",
   "name": "python",
   "nbconvert_exporter": "python",
   "pygments_lexer": "ipython3",
   "version": "3.8.5"
  }
 },
 "nbformat": 4,
 "nbformat_minor": 2
}
