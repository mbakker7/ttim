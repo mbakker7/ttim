{
 "cells": [
  {
   "cell_type": "markdown",
   "metadata": {},
   "source": [
    "# 3. Confined Aquifer Test - Sioux Example\n",
    "**This test is taken from AQTESOLV examples.**"
   ]
  },
  {
   "cell_type": "markdown",
   "metadata": {},
   "source": [
    "## Introduction and Conceptual Model\n",
    "\n",
    "In this example, we reproduce the work of Yang (2020) to use the pumping test data to demonstrate how TTim can be used to model and analyze pumping tests in a single layer, confined setting, in multiple piezometers. Furthermore, we compare the performance of TTim with other transient well hydraulics software AQTESOLV (Duffield, 2007) and MLU (Carlson and Randall, 2012).\n",
    "\n",
    "This example is a pumping test done in Sioux Flats, South Dakota, USA. The data comes from the AQTESOLV documentation (Duffield, 2007).\n",
    "The aquifer is 50 ft thick and is bounded by impermeable layers. The test was conducted for 2045 minutes (~34 hours), with a constant pumping rate of 2.7 $ft^3/s$. Drawdown data has been collected at three piezometers located 100, 200 and 400 ft away, respectively. The well radius is 0.5 ft.\n",
    "\n",
    "We can resume the conceptual model in the picture below:"
   ]
  },
  {
   "cell_type": "code",
   "execution_count": 33,
   "metadata": {
    "jupyter": {
     "source_hidden": true
    },
    "tags": []
   },
   "outputs": [
    {
     "data": {
      "image/png": "[encoded data removed]",
      "text/plain": [
       "<Figure size 1008x648 with 1 Axes>"
      ]
     },
     "metadata": {
      "needs_background": "light"
     },
     "output_type": "display_data"
    }
   ],
   "source": [
    "import matplotlib.pyplot as plt\n",
    "import numpy as np\n",
    "\n",
    "##Now printing the conceptual model figure:\n",
    "\n",
    "fig = plt.figure(figsize=(14, 9))\n",
    "ax = fig.add_subplot(1,1,1)\n",
    "#sky\n",
    "sky = plt.Rectangle((-50,0), width = 500, height = 3, fc = 'b', zorder=0, alpha=0.1)\n",
    "ax.add_patch(sky)\n",
    "\n",
    "#Aquifer:\n",
    "ground = plt.Rectangle((-50,-55), width = 500, height = 50, fc = np.array([209,179,127])/255, zorder=0, alpha=0.9)\n",
    "ax.add_patch(ground)\n",
    "\n",
    "#Confining bed:\n",
    "confining_unit = plt.Rectangle((-50,-5), width = 500, height = 5, fc = np.array([100,100,100])/255, zorder=0, alpha=0.7)\n",
    "ax.add_patch(confining_unit)\n",
    "well = plt.Rectangle((-4,-55), width = 8, height = 55, fc = np.array([200,200,200])/255, zorder=1)\n",
    "ax.add_patch(well)\n",
    "\n",
    "#Wellhead\n",
    "wellhead = plt.Rectangle((-5,0),width = 10, height = 1.5, fc = np.array([200,200,200])/255, zorder=2, ec='k')\n",
    "ax.add_patch(wellhead)\n",
    "\n",
    "#Screen for the well:\n",
    "screen = plt.Rectangle((-4,-55), width = 8, height = 50, fc = np.array([200,200,200])/255, alpha=1, zorder = 2, ec = \"k\", ls = '--')\n",
    "screen.set_linewidth(2)\n",
    "ax.add_patch(screen)\n",
    "pumping_arrow = plt.Arrow(x = 5,y = 0.75, dx = 8, dy = 0, color = \"#00035b\")\n",
    "ax.add_patch(pumping_arrow)\n",
    "ax.text(x = 13, y = 0.75, s = r'$ Q = 2.7 \\frac{ft^3}{s}$', fontsize = 'x-large' )\n",
    "#Piezometers\n",
    "piez1 = plt.Rectangle((98,-55), width = 4, height = 55,fc = np.array([200,200,200])/255, zorder=1)\n",
    "piez2 = plt.Rectangle((198,-55), width = 4, height = 55,fc = np.array([200,200,200])/255, zorder=1)\n",
    "piez3 = plt.Rectangle((398,-55), width = 4, height = 55,fc = np.array([200,200,200])/255, zorder=1)\n",
    "\n",
    "screen_piez_1 = plt.Rectangle((98,-55), width = 4, height = 50, fc = np.array([200,200,200])/255, alpha=1, zorder = 2, ec = \"k\", ls = '--')\n",
    "screen_piez_1.set_linewidth(2)\n",
    "screen_piez_2 = plt.Rectangle((198,-55), width = 4, height = 50, fc = np.array([200,200,200])/255, alpha=1, zorder = 2, ec = \"k\", ls = '--')\n",
    "screen_piez_2.set_linewidth(2)\n",
    "screen_piez_3 = plt.Rectangle((398,-55), width = 4, height = 50, fc = np.array([200,200,200])/255, alpha=1, zorder = 2, ec = \"k\", ls = '--')\n",
    "screen_piez_3.set_linewidth(2)\n",
    "ax.add_patch(piez1)\n",
    "ax.add_patch(piez2)\n",
    "ax.add_patch(piez3)\n",
    "ax.add_patch(screen_piez_1)\n",
    "ax.add_patch(screen_piez_2)\n",
    "ax.add_patch(screen_piez_3)\n",
    "#last line\n",
    "line = plt.Line2D(xdata= [-50,500], ydata = [0,0], color = \"k\")\n",
    "ax.add_line(line)\n",
    "ax.text(x = 100, y = 0.75, s = 'P100', fontsize = 'large' )\n",
    "ax.text(x = 200, y = 0.75, s = 'P200', fontsize = 'large' )\n",
    "ax.text(x = 400, y = 0.75, s = 'P400', fontsize = 'large' )\n",
    "ax.set_xlim([-50,450])\n",
    "ax.set_ylim([-55,3])\n",
    "ax.set_title('Conceptual Model - Sioux Example');"
   ]
  },
  {
   "cell_type": "markdown",
   "metadata": {},
   "source": [
    "## Step 1. Load Required Libraries"
   ]
  },
  {
   "cell_type": "code",
   "execution_count": 9,
   "metadata": {},
   "outputs": [],
   "source": [
    "import numpy as np\n",
    "import matplotlib.pyplot as plt\n",
    "import pandas as pd\n",
    "from ttim import *"
   ]
  },
  {
   "cell_type": "markdown",
   "metadata": {},
   "source": [
    "## Step 2. Set basic parameters\n",
    "\n",
    "- We will work with time in days and length in meters from this step onwards\n",
    "- The parameters below have already been converted to m and days."
   ]
  },
  {
   "cell_type": "code",
   "execution_count": 10,
   "metadata": {},
   "outputs": [],
   "source": [
    "Q = 6605.754 #constant discharge in m^3/d\n",
    "b = -15.24 #aquifer thickness in m\n",
    "rw = 0.1524 #well radius in m\n",
    "r1 = 30.48 #distance between obs1 to pumping well\n",
    "r2 = 60.96 #distance between obs2 to pumping well\n",
    "r3 = 121.92 #distance between obs3 to pumping well"
   ]
  },
  {
   "cell_type": "markdown",
   "metadata": {},
   "source": [
    "## Step 3. Load data of observation and pumping well\n",
    "\n",
    "The preferred method of loading data into TTim is to use numpy arrays.\n",
    "\n",
    "The data is in a text file where the first column is the time data in ***days*** and the second column is the drawdown in ***meters***\n",
    "\n",
    "For each piezometer, we will load the data as a numpy array. We further split the data into two different 1d arrays, one for time and another for drawdown."
   ]
  },
  {
   "cell_type": "code",
   "execution_count": 11,
   "metadata": {},
   "outputs": [],
   "source": [
    "data1 = np.loadtxt('data/sioux100.txt')\n",
    "t1 = data1[:, 0]\n",
    "h1 = data1[:, 1]\n",
    "\n",
    "\n",
    "data2 = np.loadtxt('data/sioux200.txt')\n",
    "t2 = data2[:, 0]\n",
    "h2 = data2[:, 1]\n",
    "\n",
    "data3 = np.loadtxt('data/sioux400.txt')\n",
    "t3 = data3[:, 0]\n",
    "h3 = data3[:, 1]\n"
   ]
  },
  {
   "cell_type": "markdown",
   "metadata": {},
   "source": [
    "<a id='step_4'></a>\n",
    "## Step 4. Creating a TTim conceptual model\n",
    "\n",
    "In this example, we are using the ModelMaq model to conceptualize our aquifer. ModelMaq defines the aquifer system as a stacked vertical sequence of aquifers and leaky layers (aquifer-leaky layer, aquifer-leaky layer, etc). A thorough explanation of the ModelMaq and TTim one-layer modelling conceptualization is given in the notebook: [Confined 1 - Oude Korendijk](confined1_oude_korendijk)"
   ]
  },
  {
   "cell_type": "code",
   "execution_count": 12,
   "metadata": {},
   "outputs": [
    {
     "name": "stdout",
     "output_type": "stream",
     "text": [
      "self.neq  1\n",
      "solution complete\n"
     ]
    }
   ],
   "source": [
    "ml_0 = ModelMaq(kaq=10, z=[0, b], Saq=0.001, tmin=0.001, tmax=10, topboundary='conf')\n",
    "w_0 = Well(ml_0, xw=0, yw=0, rw=rw, tsandQ=[(0, Q)], layers = 0)\n",
    "ml_0.solve()"
   ]
  },
  {
   "cell_type": "markdown",
   "metadata": {},
   "source": [
    "## Step 5. Calibration"
   ]
  },
  {
   "cell_type": "markdown",
   "metadata": {},
   "source": [
    "The calibration workflow has been described in detail in the notebook: [Confined 1 - Oude Korendijk](confined1_oude_korendijk)"
   ]
  },
  {
   "cell_type": "markdown",
   "metadata": {},
   "source": [
    "### Step 5.1. Model Calibration with all observation wells\n",
    "\n",
    "We calibrate the model with all observation wells.\n",
    "We begin by assuming no wellbore storage or skin resistance, and we only calibrate the hydraulic conductivity and specific storage"
   ]
  },
  {
   "cell_type": "code",
   "execution_count": 13,
   "metadata": {},
   "outputs": [
    {
     "name": "stdout",
     "output_type": "stream",
     "text": [
      "....................................\n",
      "Fit succeeded.\n",
      "[[Fit Statistics]]\n",
      "    # fitting method   = leastsq\n",
      "    # function evals   = 33\n",
      "    # data points      = 77\n",
      "    # variables        = 2\n",
      "    chi-square         = 0.00121634\n",
      "    reduced chi-square = 1.6218e-05\n",
      "    Akaike info crit   = -847.289941\n",
      "    Bayesian info crit = -842.602330\n",
      "[[Variables]]\n",
      "    kaq0:  282.795000 +/- 1.13789354 (0.40%) (init = 10)\n",
      "    Saq0:  0.00420857 +/- 3.3461e-05 (0.80%) (init = 0.0001)\n",
      "[[Correlations]] (unreported correlations are < 0.100)\n",
      "    C(kaq0, Saq0) = -0.811\n"
     ]
    }
   ],
   "source": [
    "#unknown parameters: k, Saq\n",
    "ca_0 = Calibrate(ml_0)\n",
    "ca_0.set_parameter(name='kaq0', initial=10)\n",
    "ca_0.set_parameter(name='Saq0', initial=1e-4)\n",
    "ca_0.series(name='obs1', x=r1, y=0, t=t1, h=h1, layer=0)\n",
    "ca_0.series(name='obs2', x=r2, y=0, t=t2, h=h2, layer=0)\n",
    "ca_0.series(name='obs3', x=r3, y=0, t=t3, h=h3, layer=0)\n",
    "ca_0.fit(report=True)"
   ]
  },
  {
   "cell_type": "code",
   "execution_count": 14,
   "metadata": {},
   "outputs": [
    {
     "data": {
      "text/html": [
       "<div>\n",
       "<style scoped>\n",
       "    .dataframe tbody tr th:only-of-type {\n",
       "        vertical-align: middle;\n",
       "    }\n",
       "\n",
       "    .dataframe tbody tr th {\n",
       "        vertical-align: top;\n",
       "    }\n",
       "\n",
       "    .dataframe thead th {\n",
       "        text-align: right;\n",
       "    }\n",
       "</style>\n",
       "<table border=\"1\" class=\"dataframe\">\n",
       "  <thead>\n",
       "    <tr style=\"text-align: right;\">\n",
       "      <th></th>\n",
       "      <th>optimal</th>\n",
       "      <th>std</th>\n",
       "      <th>perc_std</th>\n",
       "      <th>pmin</th>\n",
       "      <th>pmax</th>\n",
       "      <th>initial</th>\n",
       "      <th>parray</th>\n",
       "    </tr>\n",
       "  </thead>\n",
       "  <tbody>\n",
       "    <tr>\n",
       "      <th>kaq0</th>\n",
       "      <td>282.795</td>\n",
       "      <td>1.137894</td>\n",
       "      <td>0.402374</td>\n",
       "      <td>-inf</td>\n",
       "      <td>inf</td>\n",
       "      <td>10</td>\n",
       "      <td>[282.7950000642953]</td>\n",
       "    </tr>\n",
       "    <tr>\n",
       "      <th>Saq0</th>\n",
       "      <td>0.004209</td>\n",
       "      <td>0.000033</td>\n",
       "      <td>0.795072</td>\n",
       "      <td>-inf</td>\n",
       "      <td>inf</td>\n",
       "      <td>0.0001</td>\n",
       "      <td>[0.004208566833469203]</td>\n",
       "    </tr>\n",
       "  </tbody>\n",
       "</table>\n",
       "</div>"
      ],
      "text/plain": [
       "       optimal       std  perc_std  pmin  pmax initial                  parray\n",
       "kaq0   282.795  1.137894  0.402374  -inf   inf      10     [282.7950000642953]\n",
       "Saq0  0.004209  0.000033  0.795072  -inf   inf  0.0001  [0.004208566833469203]"
      ]
     },
     "metadata": {},
     "output_type": "display_data"
    },
    {
     "name": "stdout",
     "output_type": "stream",
     "text": [
      "RMSE: 0.003974498269912299\n"
     ]
    }
   ],
   "source": [
    "display(ca_0.parameters)\n",
    "print('RMSE:', ca_0.rmse())"
   ]
  },
  {
   "cell_type": "markdown",
   "metadata": {},
   "source": [
    "Model has achieved a good fit and parameters with a low confidence interval"
   ]
  },
  {
   "cell_type": "code",
   "execution_count": 34,
   "metadata": {},
   "outputs": [
    {
     "data": {
      "image/png": "[encoded data removed]",
      "text/plain": [
       "<Figure size 720x504 with 1 Axes>"
      ]
     },
     "metadata": {
      "needs_background": "light"
     },
     "output_type": "display_data"
    }
   ],
   "source": [
    "hm1_0 = ml_0.head(x = r1, y = 0,t = t1)\n",
    "hm2_0 = ml_0.head(x = r2, y = 0, t = t2)\n",
    "hm3_0 = ml_0.head(x = r3, y = 0, t = t3)\n",
    "plt.figure(figsize = (10, 7))\n",
    "plt.semilogx(t1, h1, '.', label='obs1')\n",
    "plt.semilogx(t1, hm1_0[0], label='ttim result 1')\n",
    "plt.semilogx(t2, h2, '.', label='obs2')\n",
    "plt.semilogx(t2, hm2_0[0], label='ttim result 2')\n",
    "plt.semilogx(t3, h3, '.', label='obs3')\n",
    "plt.semilogx(t3, hm3_0[0], label='ttim result 3')\n",
    "plt.xlabel('time [d]')\n",
    "plt.ylabel('drawdown [m]')\n",
    "plt.legend()\n",
    "plt.suptitle('Calibration Results vs Observations - Model 1');"
   ]
  },
  {
   "cell_type": "markdown",
   "metadata": {},
   "source": [
    "Visually, the model seems to have a good fit with the data"
   ]
  },
  {
   "cell_type": "markdown",
   "metadata": {},
   "source": [
    "### Step 5.2. Model Calibration with skin resistance and wellbore storage\n",
    "\n",
    "In this new model, we investigate whether the well parameters are relevant in the fit.\n",
    "\n",
    "We begin by reloading the model and creating a ```Well``` object with two extra parameters:\n",
    "\n",
    "* The radius of the caisson ```rc```, which we use to simulate wellbore storage. In this case, we use a value in meters (float);\n",
    "* The skin resistance ```res```, a float value with the unit in days."
   ]
  },
  {
   "cell_type": "code",
   "execution_count": 16,
   "metadata": {},
   "outputs": [
    {
     "name": "stdout",
     "output_type": "stream",
     "text": [
      "self.neq  1\n",
      "solution complete\n"
     ]
    }
   ],
   "source": [
    "ml_1 = ModelMaq(kaq=10, z=[0, b], Saq=0.001, tmin=0.001, tmax=10, topboundary='conf')\n",
    "w_1 = Well(ml_1, xw=0, yw=0, rw=rw, rc=0, res=0, tsandQ=[(0, Q)], layers=0)\n",
    "ml_1.solve()"
   ]
  },
  {
   "cell_type": "markdown",
   "metadata": {},
   "source": [
    "Here we use the method ```.set_parameter_by_reference``` to calibrate the ```rc``` and ```res``` parameters in our well.\n",
    "\n",
    "```.set_parameter_by_reference``` takes the following arguments:\n",
    "* ```name```: a string of the parameter name\n",
    "* ```parameter```: numpy-array with the parameter to be optimized. It should be specified as a reference, for example, in our case: ```w1.rc[0:]``` referencing to the parameter ```rc``` in object ```w1```.\n",
    "* ```initial```: float with the initial guess for the parameter value.\n",
    "* ```pmin``` and ```pmax```: floats with the minimum and maximum values allowed. If not specified, these will be ```-np.inf``` and ```np.inf```."
   ]
  },
  {
   "cell_type": "code",
   "execution_count": 17,
   "metadata": {},
   "outputs": [
    {
     "name": "stdout",
     "output_type": "stream",
     "text": [
      "...................................................................................................................................................................................................................................................................................................................................................................................................................................................................................................................................................................................................................................................................................................................................................................................................................................................................................................................................................................................................................................................................................................................................................................................................................................................................................................\n",
      "Fit succeeded.\n",
      "[[Fit Statistics]]\n",
      "    # fitting method   = leastsq\n",
      "    # function evals   = 1248\n",
      "    # data points      = 77\n",
      "    # variables        = 4\n",
      "    chi-square         = 0.17521401\n",
      "    reduced chi-square = 0.00240019\n",
      "    Akaike info crit   = -460.587547\n",
      "    Bayesian info crit = -451.212325\n",
      "[[Variables]]\n",
      "    kaq0:  290.667010 +/- 18.1182686 (6.23%) (init = 10)\n",
      "    Saq0:  0.00269952 +/- 5.1891e-04 (19.22%) (init = 0.0001)\n",
      "    res:   5.7611e-10 +/- 3.2944e-06 (571822.11%) (init = 0)\n",
      "    rc:    8.06452824 +/- 0.86763263 (10.76%) (init = 0)\n",
      "[[Correlations]] (unreported correlations are < 0.100)\n",
      "    C(kaq0, Saq0) = -0.835\n",
      "    C(Saq0, rc)   = -0.797\n",
      "    C(kaq0, rc)   =  0.536\n",
      "    C(kaq0, res)  = -0.172\n",
      "    C(res, rc)    =  0.113\n"
     ]
    }
   ],
   "source": [
    "#unknown parameters: k, Saq, res, rc\n",
    "ca_1 = Calibrate(ml_1)\n",
    "ca_1.set_parameter(name='kaq0', initial=10)\n",
    "ca_1.set_parameter(name='Saq0', initial=1e-4)\n",
    "ca_1.set_parameter_by_reference(name='res', parameter=w_1.res, initial=0, pmin = 0)\n",
    "ca_1.set_parameter_by_reference(name='rc', parameter=w_1.rc, initial=0)\n",
    "ca_1.series(name='obs1', x=r1, y=0, t=t1, h=h1, layer=0)\n",
    "ca_1.series(name='obs2', x=r2, y=0, t=t2, h=h2, layer=0)\n",
    "ca_1.series(name='obs3', x=r3, y=0, t=t3, h=h3, layer=0)\n",
    "ca_1.fit(report=True)"
   ]
  },
  {
   "cell_type": "code",
   "execution_count": 18,
   "metadata": {},
   "outputs": [
    {
     "data": {
      "text/html": [
       "<div>\n",
       "<style scoped>\n",
       "    .dataframe tbody tr th:only-of-type {\n",
       "        vertical-align: middle;\n",
       "    }\n",
       "\n",
       "    .dataframe tbody tr th {\n",
       "        vertical-align: top;\n",
       "    }\n",
       "\n",
       "    .dataframe thead th {\n",
       "        text-align: right;\n",
       "    }\n",
       "</style>\n",
       "<table border=\"1\" class=\"dataframe\">\n",
       "  <thead>\n",
       "    <tr style=\"text-align: right;\">\n",
       "      <th></th>\n",
       "      <th>optimal</th>\n",
       "      <th>std</th>\n",
       "      <th>perc_std</th>\n",
       "      <th>pmin</th>\n",
       "      <th>pmax</th>\n",
       "      <th>initial</th>\n",
       "      <th>parray</th>\n",
       "    </tr>\n",
       "  </thead>\n",
       "  <tbody>\n",
       "    <tr>\n",
       "      <th>kaq0</th>\n",
       "      <td>290.66701</td>\n",
       "      <td>18.118269</td>\n",
       "      <td>6.233342</td>\n",
       "      <td>-inf</td>\n",
       "      <td>inf</td>\n",
       "      <td>10</td>\n",
       "      <td>[290.6670102791799]</td>\n",
       "    </tr>\n",
       "    <tr>\n",
       "      <th>Saq0</th>\n",
       "      <td>0.0027</td>\n",
       "      <td>0.000519</td>\n",
       "      <td>19.222209</td>\n",
       "      <td>-inf</td>\n",
       "      <td>inf</td>\n",
       "      <td>0.0001</td>\n",
       "      <td>[0.002699520350336901]</td>\n",
       "    </tr>\n",
       "    <tr>\n",
       "      <th>res</th>\n",
       "      <td>0.0</td>\n",
       "      <td>0.000003</td>\n",
       "      <td>571822.114908</td>\n",
       "      <td>0.0</td>\n",
       "      <td>inf</td>\n",
       "      <td>0</td>\n",
       "      <td>[5.76114711492437e-10]</td>\n",
       "    </tr>\n",
       "    <tr>\n",
       "      <th>rc</th>\n",
       "      <td>8.064528</td>\n",
       "      <td>0.867633</td>\n",
       "      <td>10.758628</td>\n",
       "      <td>-inf</td>\n",
       "      <td>inf</td>\n",
       "      <td>0</td>\n",
       "      <td>[8.064528243108695]</td>\n",
       "    </tr>\n",
       "  </tbody>\n",
       "</table>\n",
       "</div>"
      ],
      "text/plain": [
       "        optimal        std       perc_std  pmin  pmax initial  \\\n",
       "kaq0  290.66701  18.118269       6.233342  -inf   inf      10   \n",
       "Saq0     0.0027   0.000519      19.222209  -inf   inf  0.0001   \n",
       "res         0.0   0.000003  571822.114908   0.0   inf       0   \n",
       "rc     8.064528   0.867633      10.758628  -inf   inf       0   \n",
       "\n",
       "                      parray  \n",
       "kaq0     [290.6670102791799]  \n",
       "Saq0  [0.002699520350336901]  \n",
       "res   [5.76114711492437e-10]  \n",
       "rc       [8.064528243108695]  "
      ]
     },
     "metadata": {},
     "output_type": "display_data"
    },
    {
     "name": "stdout",
     "output_type": "stream",
     "text": [
      "RMSE: 0.04770227081598492\n"
     ]
    }
   ],
   "source": [
    "display(ca_1.parameters)\n",
    "print('RMSE:', ca_1.rmse())"
   ]
  },
  {
   "cell_type": "markdown",
   "metadata": {},
   "source": [
    "When adding both res and rc into calibration, the optimized res value is very close to 0. Moreover, the standard deviation is way above any reasonable limit. Thus, adding res has nearly no effect on improving the conceptual model's performance. Therefore, ```res``` is removed from the calibration."
   ]
  },
  {
   "cell_type": "code",
   "execution_count": 22,
   "metadata": {},
   "outputs": [
    {
     "name": "stdout",
     "output_type": "stream",
     "text": [
      "..............................................\n",
      "Fit succeeded.\n",
      "[[Fit Statistics]]\n",
      "    # fitting method   = leastsq\n",
      "    # function evals   = 43\n",
      "    # data points      = 77\n",
      "    # variables        = 3\n",
      "    chi-square         = 0.00116245\n",
      "    reduced chi-square = 1.5709e-05\n",
      "    Akaike info crit   = -848.779327\n",
      "    Bayesian info crit = -841.747911\n",
      "[[Variables]]\n",
      "    kaq0:  283.922282 +/- 1.28507788 (0.45%) (init = 10)\n",
      "    Saq0:  0.00415480 +/- 4.3871e-05 (1.06%) (init = 0.0001)\n",
      "    rc:    0.78981271 +/- 0.21258297 (26.92%) (init = 0)\n",
      "[[Correlations]] (unreported correlations are < 0.100)\n",
      "    C(kaq0, Saq0) = -0.852\n",
      "    C(Saq0, rc)   = -0.669\n",
      "    C(kaq0, rc)   =  0.487\n"
     ]
    }
   ],
   "source": [
    "#unknown parameters: k, Saq, res, rc\n",
    "ca_1 = Calibrate(ml_1)\n",
    "ca_1.set_parameter(name='kaq0', initial=10)\n",
    "ca_1.set_parameter(name='Saq0', initial=1e-4)\n",
    "#ca_1.set_parameter_by_reference(name='res', parameter=w_1.res, initial=0, pmin = 0)\n",
    "ca_1.set_parameter_by_reference(name='rc', parameter=w_1.rc, initial=0)\n",
    "ca_1.series(name='obs1', x=r1, y=0, t=t1, h=h1, layer=0)\n",
    "ca_1.series(name='obs2', x=r2, y=0, t=t2, h=h2, layer=0)\n",
    "ca_1.series(name='obs3', x=r3, y=0, t=t3, h=h3, layer=0)\n",
    "ca_1.fit(report=True)"
   ]
  },
  {
   "cell_type": "code",
   "execution_count": 23,
   "metadata": {},
   "outputs": [
    {
     "data": {
      "text/html": [
       "<div>\n",
       "<style scoped>\n",
       "    .dataframe tbody tr th:only-of-type {\n",
       "        vertical-align: middle;\n",
       "    }\n",
       "\n",
       "    .dataframe tbody tr th {\n",
       "        vertical-align: top;\n",
       "    }\n",
       "\n",
       "    .dataframe thead th {\n",
       "        text-align: right;\n",
       "    }\n",
       "</style>\n",
       "<table border=\"1\" class=\"dataframe\">\n",
       "  <thead>\n",
       "    <tr style=\"text-align: right;\">\n",
       "      <th></th>\n",
       "      <th>optimal</th>\n",
       "      <th>std</th>\n",
       "      <th>perc_std</th>\n",
       "      <th>pmin</th>\n",
       "      <th>pmax</th>\n",
       "      <th>initial</th>\n",
       "      <th>parray</th>\n",
       "    </tr>\n",
       "  </thead>\n",
       "  <tbody>\n",
       "    <tr>\n",
       "      <th>kaq0</th>\n",
       "      <td>283.922282</td>\n",
       "      <td>1.285078</td>\n",
       "      <td>0.452616</td>\n",
       "      <td>-inf</td>\n",
       "      <td>inf</td>\n",
       "      <td>10</td>\n",
       "      <td>[283.92228249099884]</td>\n",
       "    </tr>\n",
       "    <tr>\n",
       "      <th>Saq0</th>\n",
       "      <td>0.004155</td>\n",
       "      <td>0.000044</td>\n",
       "      <td>1.055919</td>\n",
       "      <td>-inf</td>\n",
       "      <td>inf</td>\n",
       "      <td>0.0001</td>\n",
       "      <td>[0.004154797203546761]</td>\n",
       "    </tr>\n",
       "    <tr>\n",
       "      <th>rc</th>\n",
       "      <td>0.789813</td>\n",
       "      <td>0.212583</td>\n",
       "      <td>26.915617</td>\n",
       "      <td>-inf</td>\n",
       "      <td>inf</td>\n",
       "      <td>0</td>\n",
       "      <td>[0.7898127109006041]</td>\n",
       "    </tr>\n",
       "  </tbody>\n",
       "</table>\n",
       "</div>"
      ],
      "text/plain": [
       "         optimal       std   perc_std  pmin  pmax initial  \\\n",
       "kaq0  283.922282  1.285078   0.452616  -inf   inf      10   \n",
       "Saq0    0.004155  0.000044   1.055919  -inf   inf  0.0001   \n",
       "rc      0.789813  0.212583  26.915617  -inf   inf       0   \n",
       "\n",
       "                      parray  \n",
       "kaq0    [283.92228249099884]  \n",
       "Saq0  [0.004154797203546761]  \n",
       "rc      [0.7898127109006041]  "
      ]
     },
     "metadata": {},
     "output_type": "display_data"
    },
    {
     "name": "stdout",
     "output_type": "stream",
     "text": [
      "RMSE: 0.003885455281268131\n"
     ]
    }
   ],
   "source": [
    "display(ca_1.parameters)\n",
    "print('RMSE:', ca_1.rmse())"
   ]
  },
  {
   "cell_type": "markdown",
   "metadata": {},
   "source": [
    "The new model has better statistics: lower AIC and BIC, lower RMSE and lower standard deviations for hydraulic conductivities and specific storage. We proceed with plotting the results:"
   ]
  },
  {
   "cell_type": "code",
   "execution_count": 35,
   "metadata": {},
   "outputs": [
    {
     "data": {
      "image/png": "[encoded data removed]",
      "text/plain": [
       "<Figure size 720x504 with 1 Axes>"
      ]
     },
     "metadata": {
      "needs_background": "light"
     },
     "output_type": "display_data"
    }
   ],
   "source": [
    "hm1_1 = ml_1.head(r1, 0, t1)\n",
    "hm2_1 = ml_1.head(r2, 0, t2)\n",
    "hm3_1 = ml_1.head(r3, 0, t3)\n",
    "plt.figure(figsize = (10, 7))\n",
    "plt.semilogx(t1, h1, '.', label='obs1')\n",
    "plt.semilogx(t1, hm1_1[0], label='ttim1')\n",
    "plt.semilogx(t2, h2, '.', label='obs2')\n",
    "plt.semilogx(t2, hm2_1[0], label='ttim2')\n",
    "plt.semilogx(t3, h3, '.', label='obs3')\n",
    "plt.semilogx(t3, hm3_1[0], label='ttim3')\n",
    "plt.xlabel('time [d]')\n",
    "plt.ylabel('drawdown [m]')\n",
    "plt.legend()\n",
    "plt.suptitle('Model Calibration Results - Model 2');"
   ]
  },
  {
   "cell_type": "markdown",
   "metadata": {},
   "source": [
    "From the plot above, we can see that there is good agreement between the model calculated heads and the observed ones for all observation wells"
   ]
  },
  {
   "cell_type": "markdown",
   "metadata": {},
   "source": [
    "## Step 6. Analysis of Results"
   ]
  },
  {
   "cell_type": "markdown",
   "metadata": {},
   "source": [
    "### Step 6.1. Analysis of Fit Statistics\n",
    "\n",
    "Some of the fit statistics are stored in the ```fitresult``` attribute of the calibration object. This object is a lmfit ```MinimizerResult``` object. ```lmfit``` is the python library doing the calibration for TTim behind the scenes. We accessed below the AIC and BIC values of this object.\n",
    "\n",
    "Check the lmfit documentation (Newville et al. 2014) to learn more about this object and lmfit."
   ]
  },
  {
   "cell_type": "code",
   "execution_count": 28,
   "metadata": {},
   "outputs": [
    {
     "data": {
      "text/html": [
       "<style  type=\"text/css\" >\n",
       "</style><table id=\"T_38b6f_\" ><caption>Fit statistics for the tested models</caption><thead>    <tr>        <th class=\"blank level0\" ></th>        <th class=\"col_heading level0 col0\" >RMSE</th>        <th class=\"col_heading level0 col1\" >AIC</th>        <th class=\"col_heading level0 col2\" >BIC</th>        <th class=\"col_heading level0 col3\" >Calibration scheme</th>    </tr></thead><tbody>\n",
       "                <tr>\n",
       "                        <th id=\"T_38b6f_level0_row0\" class=\"row_heading level0 row0\" >Model 1</th>\n",
       "                        <td id=\"T_38b6f_row0_col0\" class=\"data row0 col0\" >0.003974</td>\n",
       "                        <td id=\"T_38b6f_row0_col1\" class=\"data row0 col1\" >-847.289941</td>\n",
       "                        <td id=\"T_38b6f_row0_col2\" class=\"data row0 col2\" >-842.602330</td>\n",
       "                        <td id=\"T_38b6f_row0_col3\" class=\"data row0 col3\" >All Obs Wells</td>\n",
       "            </tr>\n",
       "            <tr>\n",
       "                        <th id=\"T_38b6f_level0_row1\" class=\"row_heading level0 row1\" >Model 2</th>\n",
       "                        <td id=\"T_38b6f_row1_col0\" class=\"data row1 col0\" >0.003885</td>\n",
       "                        <td id=\"T_38b6f_row1_col1\" class=\"data row1 col1\" >-848.779327</td>\n",
       "                        <td id=\"T_38b6f_row1_col2\" class=\"data row1 col2\" >-841.747911</td>\n",
       "                        <td id=\"T_38b6f_row1_col3\" class=\"data row1 col3\" >All Obs Wells + wellbore storage</td>\n",
       "            </tr>\n",
       "    </tbody></table>"
      ],
      "text/plain": [
       "<pandas.io.formats.style.Styler at 0x24d1078ea00>"
      ]
     },
     "execution_count": 28,
     "metadata": {},
     "output_type": "execute_result"
    }
   ],
   "source": [
    "t = pd.DataFrame(columns = ['RMSE', 'AIC', 'BIC','Calibration scheme'], index = ['Model 1', 'Model 2'])\n",
    "\n",
    "t['RMSE'] = [ca_0.rmse(), ca_1.rmse()]\n",
    "\n",
    "t['AIC'] = [ca_0.fitresult.aic, ca_1.fitresult.aic]\n",
    "\n",
    "t['BIC'] = [ca_0.fitresult.bic, ca_1.fitresult.bic]\n",
    "\n",
    "t['Calibration scheme'] = [\"All Obs Wells\", \"All Obs Wells + wellbore storage\"]\n",
    "t.style.set_caption(\"Fit statistics for the tested models\")"
   ]
  },
  {
   "cell_type": "markdown",
   "metadata": {},
   "source": [
    "The fit statistics show that the models have very similar performance as all indicators are closely related. By RMSE and AIC criteria, we should pick Model 2, while by BIC, we should pick Model 1. The result means that we cannot exclude one model in favour of the other."
   ]
  },
  {
   "cell_type": "markdown",
   "metadata": {},
   "source": [
    "### Step 6.2. Summary of Calibrated Parameters and comparison with different Software solutions"
   ]
  },
  {
   "cell_type": "markdown",
   "metadata": {},
   "source": [
    "We present the results simulated in TTim under different configurations below. Furthermore, Yang (2020) compared TTim results with the results obtained from the software AQTESOLV (Duffield, 2007) and MLU (Carlson & Randall, 2012). In both software, the model was calibrated with observations."
   ]
  },
  {
   "cell_type": "code",
   "execution_count": 29,
   "metadata": {},
   "outputs": [
    {
     "data": {
      "text/html": [
       "<div>\n",
       "<style scoped>\n",
       "    .dataframe tbody tr th:only-of-type {\n",
       "        vertical-align: middle;\n",
       "    }\n",
       "\n",
       "    .dataframe tbody tr th {\n",
       "        vertical-align: top;\n",
       "    }\n",
       "\n",
       "    .dataframe thead th {\n",
       "        text-align: right;\n",
       "    }\n",
       "</style>\n",
       "<table border=\"1\" class=\"dataframe\">\n",
       "  <thead>\n",
       "    <tr style=\"text-align: right;\">\n",
       "      <th></th>\n",
       "      <th>k [m/d]</th>\n",
       "      <th>Ss [1/m]</th>\n",
       "      <th>rc</th>\n",
       "      <th>RMSE</th>\n",
       "    </tr>\n",
       "  </thead>\n",
       "  <tbody>\n",
       "    <tr>\n",
       "      <th>AQTESOLV</th>\n",
       "      <td>282.659</td>\n",
       "      <td>0.004211</td>\n",
       "      <td>-</td>\n",
       "      <td>0.003925</td>\n",
       "    </tr>\n",
       "    <tr>\n",
       "      <th>MLU</th>\n",
       "      <td>282.684</td>\n",
       "      <td>0.004209</td>\n",
       "      <td>-</td>\n",
       "      <td>0.003897</td>\n",
       "    </tr>\n",
       "    <tr>\n",
       "      <th>ttim</th>\n",
       "      <td>282.795</td>\n",
       "      <td>0.004209</td>\n",
       "      <td>-</td>\n",
       "      <td>0.003974</td>\n",
       "    </tr>\n",
       "    <tr>\n",
       "      <th>ttim-rc</th>\n",
       "      <td>283.922282</td>\n",
       "      <td>0.004155</td>\n",
       "      <td>0.789813</td>\n",
       "      <td>0.003885</td>\n",
       "    </tr>\n",
       "  </tbody>\n",
       "</table>\n",
       "</div>"
      ],
      "text/plain": [
       "             k [m/d]  Ss [1/m]        rc      RMSE\n",
       "AQTESOLV     282.659  0.004211         -  0.003925\n",
       "MLU          282.684  0.004209         -  0.003897\n",
       "ttim         282.795  0.004209         -  0.003974\n",
       "ttim-rc   283.922282  0.004155  0.789813  0.003885"
      ]
     },
     "execution_count": 29,
     "metadata": {},
     "output_type": "execute_result"
    }
   ],
   "source": [
    "t = pd.DataFrame(columns=['k [m/d]', 'Ss [1/m]', 'rc'], \\\n",
    "                index=['AQTESOLV', 'MLU', 'ttim', 'ttim-rc'])\n",
    "t.loc['AQTESOLV'] = [282.659, 4.211E-03, '-']\n",
    "t.loc['ttim'] = np.append(ca_0.parameters['optimal'].values, '-')\n",
    "t.loc['ttim-rc'] = ca_1.parameters['optimal'].values\n",
    "t.loc['MLU'] = [282.684, 4.209e-03, '-']\n",
    "t['RMSE'] = [0.003925, 0.003897, ca_0.rmse(), ca_1.rmse()]\n",
    "t"
   ]
  },
  {
   "cell_type": "markdown",
   "metadata": {},
   "source": [
    "TTim achieved similar results with the other software. The TTim model with wellbore storage had a slightly better RMSE error."
   ]
  },
  {
   "cell_type": "code",
   "execution_count": 39,
   "metadata": {},
   "outputs": [
    {
     "data": {
      "image/png": "[encoded data removed]",
      "text/plain": [
       "<Figure size 720x504 with 1 Axes>"
      ]
     },
     "metadata": {
      "needs_background": "light"
     },
     "output_type": "display_data"
    }
   ],
   "source": [
    "# Preparing the DataFrame:\n",
    "t1 = pd.DataFrame(columns=['kaq - opt', 'kaq - 95%'], index = ['MLU','AQTESOLV','TTim','TTim - rc']) \n",
    "simulation = ['MLU','AQTESOLV','TTim','TTim - rc']\n",
    "t1.loc['MLU'] = [282.684, 0.783*1e-2*282.6842]\n",
    "t1.loc['AQTESOLV'] = [282.659, 0.394*1e-2*282.659]\n",
    "t1.loc['TTim'] = [ca_0.parameters.loc['kaq0','optimal'],2*ca_0.parameters.loc['kaq0','std']]\n",
    "t1.loc['TTim - rc'] = [ca_1.parameters.loc['kaq0','optimal'],2*ca_0.parameters.loc['kaq0','std']]\n",
    "\n",
    "# Plotting\n",
    "\n",
    "plt.figure(figsize = (10,7))\n",
    "\n",
    "plt.errorbar(x = t1.index, y = t1['kaq - opt'], yerr = [t1['kaq - 95%'], t1['kaq - 95%']],\n",
    "    marker='o', linestyle='', markersize=12)\n",
    "#plt.legend()\n",
    "plt.suptitle(\"Error bar plot of calibrated hydraulic conductivities\")\n",
    "plt.ylabel('K [m/d]')\n",
    "plt.ylim([278,289])\n",
    "plt.xlabel('Model');"
   ]
  },
  {
   "cell_type": "markdown",
   "metadata": {},
   "source": [
    "Error bar plot shows AQTESOLV with the lowest confidence interval. The models in TTim have larger confidence intervals. However, they are still small. All models seem to agree, and there is a wide overlap in the confidence intervals for hydraulic conductivity"
   ]
  },
  {
   "cell_type": "markdown",
   "metadata": {},
   "source": [
    "## References"
   ]
  },
  {
   "cell_type": "markdown",
   "metadata": {},
   "source": [
    "* Carlson F, Randall J (2012) MLU: a Windows application for the analysis of aquifer tests and the design of well fields in layered systems. Ground Water 50(4):504–510\n",
    "* Duffield, G.M., 2007. AQTESOLV for Windows Version 4.5 User's Guide, HydroSOLVE, Inc., Reston, VA.\n",
    "* Newville, M.,Stensitzki, T., Allen, D.B., Ingargiola, A. (2014) LMFIT: Non Linear Least-Squares Minimization and Curve Fitting for Python.https://dx.doi.org/10.5281/zenodo.11813. https://lmfit.github.io/lmfit-py/intro.html (last access: August,2021).\n",
    "* Yang, Xinzhu (2020) Application and comparison of different methodsfor aquifer test analysis using TTim. Master Thesis, Delft University of Technology (TUDelft), Delft, The Netherlands."
   ]
  },
  {
   "cell_type": "markdown",
   "metadata": {},
   "source": [
    "#### Next Notebook: [Confined 4 - Schroth](confined4_schroth.ipynb)"
   ]
  }
 ],
 "metadata": {
  "kernelspec": {
   "display_name": "Python 3 (ipykernel)",
   "language": "python",
   "name": "python3"
  },
  "language_info": {
   "codemirror_mode": {
    "name": "ipython",
    "version": 3
   },
   "file_extension": ".py",
   "mimetype": "text/x-python",
   "name": "python",
   "nbconvert_exporter": "python",
   "pygments_lexer": "ipython3",
   "version": "3.8.12"
  }
 },
 "nbformat": 4,
 "nbformat_minor": 4
}
