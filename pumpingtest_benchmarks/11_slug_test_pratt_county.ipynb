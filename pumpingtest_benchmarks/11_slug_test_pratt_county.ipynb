{
 "cells": [
  {
   "cell_type": "markdown",
   "metadata": {},
   "source": [
    "## Slug Test at Pratt County\n",
    "**This test is taken from AQTESOLV examples.**"
   ]
  },
  {
   "cell_type": "code",
   "execution_count": 1,
   "metadata": {},
   "outputs": [],
   "source": [
    "%matplotlib inline\n",
    "import numpy as np\n",
    "import matplotlib.pyplot as plt\n",
    "import pandas as pd\n",
    "from ttim import *"
   ]
  },
  {
   "cell_type": "markdown",
   "metadata": {},
   "source": [
    "Set basic parameters:"
   ]
  },
  {
   "cell_type": "code",
   "execution_count": 2,
   "metadata": {},
   "outputs": [],
   "source": [
    "rw = 0.125 # well radius\n",
    "rc = 0.064 # well casing radius\n",
    "L = 1.52 # screen length\n",
    "b = -47.87 # aquifer thickness\n",
    "zt = -16.77 # depth to top of screen\n",
    "H0 = 0.671 # initial displacement in the well\n",
    "zb = zt - L # bottom of screen"
   ]
  },
  {
   "cell_type": "markdown",
   "metadata": {},
   "source": [
    "Slug:"
   ]
  },
  {
   "cell_type": "code",
   "execution_count": 3,
   "metadata": {},
   "outputs": [
    {
     "name": "stdout",
     "output_type": "stream",
     "text": [
      "slug: 0.00863 m^3\n"
     ]
    }
   ],
   "source": [
    "Q = np.pi * rc ** 2 * H0\n",
    "print('slug:', round(Q, 5), 'm^3')"
   ]
  },
  {
   "cell_type": "markdown",
   "metadata": {},
   "source": [
    "Load data:"
   ]
  },
  {
   "cell_type": "code",
   "execution_count": 4,
   "metadata": {},
   "outputs": [],
   "source": [
    "data = np.loadtxt('data/slug.txt', skiprows = 1)\n",
    "t = data[:, 0] / 60 / 60 / 24 #convert time to days\n",
    "h = data[:, 1] "
   ]
  },
  {
   "cell_type": "markdown",
   "metadata": {},
   "source": [
    "Create conceptual model:"
   ]
  },
  {
   "cell_type": "code",
   "execution_count": 5,
   "metadata": {},
   "outputs": [
    {
     "name": "stdout",
     "output_type": "stream",
     "text": [
      "self.neq  1\n",
      "solution complete\n"
     ]
    }
   ],
   "source": [
    "ml = Model3D(kaq=10, z=[0, zt, zb, b], Saq=1e-4, kzoverkh=1, tmin=1e-6, tmax=0.01)\n",
    "w = Well(ml, xw=0, yw=0, rw=rw,rc=rc, tsandQ=[(0, -Q)], layers=1, wbstype='slug')\n",
    "ml.solve()"
   ]
  },
  {
   "cell_type": "code",
   "execution_count": 6,
   "metadata": {},
   "outputs": [
    {
     "name": "stdout",
     "output_type": "stream",
     "text": [
      "......................\n",
      "Fit succeeded.\n",
      "[[Fit Statistics]]\n",
      "    # fitting method   = leastsq\n",
      "    # function evals   = 19\n",
      "    # data points      = 61\n",
      "    # variables        = 2\n",
      "    chi-square         = 5.0348e-04\n",
      "    reduced chi-square = 8.5335e-06\n",
      "    Akaike info crit   = -709.995370\n",
      "    Bayesian info crit = -705.773623\n",
      "[[Variables]]\n",
      "    kaq0_2:  6.08820525 +/- 0.02361734 (0.39%) (init = 10)\n",
      "    Saq0_2:  2.0346e-04 +/- 9.3252e-06 (4.58%) (init = 0.0001)\n",
      "[[Correlations]] (unreported correlations are < 0.100)\n",
      "    C(kaq0_2, Saq0_2) = -0.594\n"
     ]
    }
   ],
   "source": [
    "ca = Calibrate(ml)\n",
    "ca.set_parameter(name='kaq0_2', initial=10)\n",
    "ca.set_parameter(name='Saq0_2', initial=1e-4)\n",
    "ca.series(name='obs', x=0, y=0, layer=1, t=t, h=h)\n",
    "ca.fit(report=True)"
   ]
  },
  {
   "cell_type": "code",
   "execution_count": 7,
   "metadata": {
    "scrolled": true
   },
   "outputs": [
    {
     "data": {
      "text/html": [
       "<div>\n",
       "<style scoped>\n",
       "    .dataframe tbody tr th:only-of-type {\n",
       "        vertical-align: middle;\n",
       "    }\n",
       "\n",
       "    .dataframe tbody tr th {\n",
       "        vertical-align: top;\n",
       "    }\n",
       "\n",
       "    .dataframe thead th {\n",
       "        text-align: right;\n",
       "    }\n",
       "</style>\n",
       "<table border=\"1\" class=\"dataframe\">\n",
       "  <thead>\n",
       "    <tr style=\"text-align: right;\">\n",
       "      <th></th>\n",
       "      <th>optimal</th>\n",
       "      <th>std</th>\n",
       "      <th>perc_std</th>\n",
       "      <th>pmin</th>\n",
       "      <th>pmax</th>\n",
       "      <th>initial</th>\n",
       "      <th>parray</th>\n",
       "    </tr>\n",
       "  </thead>\n",
       "  <tbody>\n",
       "    <tr>\n",
       "      <td>kaq0_2</td>\n",
       "      <td>6.08821</td>\n",
       "      <td>0.023617</td>\n",
       "      <td>0.38792</td>\n",
       "      <td>-inf</td>\n",
       "      <td>inf</td>\n",
       "      <td>10</td>\n",
       "      <td>[6.088205252331587, 6.088205252331587, 6.08820...</td>\n",
       "    </tr>\n",
       "    <tr>\n",
       "      <td>Saq0_2</td>\n",
       "      <td>0.000203455</td>\n",
       "      <td>0.000009</td>\n",
       "      <td>4.5834</td>\n",
       "      <td>-inf</td>\n",
       "      <td>inf</td>\n",
       "      <td>0.0001</td>\n",
       "      <td>[0.00020345513163869057, 0.0002034551316386905...</td>\n",
       "    </tr>\n",
       "  </tbody>\n",
       "</table>\n",
       "</div>"
      ],
      "text/plain": [
       "            optimal       std perc_std  pmin  pmax initial  \\\n",
       "kaq0_2      6.08821  0.023617  0.38792  -inf   inf      10   \n",
       "Saq0_2  0.000203455  0.000009   4.5834  -inf   inf  0.0001   \n",
       "\n",
       "                                                   parray  \n",
       "kaq0_2  [6.088205252331587, 6.088205252331587, 6.08820...  \n",
       "Saq0_2  [0.00020345513163869057, 0.0002034551316386905...  "
      ]
     },
     "metadata": {},
     "output_type": "display_data"
    },
    {
     "name": "stdout",
     "output_type": "stream",
     "text": [
      "RMSE: 0.0028729351611905735\n"
     ]
    }
   ],
   "source": [
    "display(ca.parameters)\n",
    "print('RMSE:', ca.rmse())"
   ]
  },
  {
   "cell_type": "code",
   "execution_count": 8,
   "metadata": {},
   "outputs": [
    {
     "data": {
      "image/png": "[encoded data removed]",
      "text/plain": [
       "<Figure size 720x360 with 1 Axes>"
      ]
     },
     "metadata": {
      "needs_background": "light"
     },
     "output_type": "display_data"
    }
   ],
   "source": [
    "hm = ml.head(0, 0, t, layers=1)\n",
    "plt.figure(figsize = (10, 5))\n",
    "plt.semilogx(t, h/H0, '.', label='obs')\n",
    "plt.semilogx(t, hm[-1]/H0, 'r', label='ttim')\n",
    "plt.ylim([0, 1])\n",
    "plt.xlabel('time(d)')\n",
    "plt.ylabel('h/H0')\n",
    "plt.legend();"
   ]
  },
  {
   "cell_type": "markdown",
   "metadata": {},
   "source": [
    "Conceptual model with multi-layer:"
   ]
  },
  {
   "cell_type": "code",
   "execution_count": 9,
   "metadata": {},
   "outputs": [],
   "source": [
    "n1 = 18\n",
    "n2 = 3\n",
    "n3 = 29\n",
    "nlay = n1 + n2 + n3 #number of layers\n",
    "zlay1 = np.linspace(0, zt, n1 + 1)\n",
    "zlay2 = np.linspace(zt, zb, n2 + 1)\n",
    "zlay3 = np.linspace(zb, b, n3 + 1)\n",
    "layers = np.append(zlay1[:-1], zlay2[:-1])\n",
    "layers = np.append(layers, zlay3) #elevation of each layer\n",
    "Saq = 1e-4 * np.ones(nlay)\n",
    "Saq[0] = 0.1"
   ]
  },
  {
   "cell_type": "code",
   "execution_count": 10,
   "metadata": {},
   "outputs": [
    {
     "name": "stdout",
     "output_type": "stream",
     "text": [
      "self.neq  3\n",
      "solution complete\n"
     ]
    }
   ],
   "source": [
    "M_nlay = Model3D(kaq=10, z=layers, Saq=Saq, kzoverkh=1, phreatictop=True,\\\n",
    "                 tmin=1e-6, tmax=0.01)\n",
    "W_nlay = Well(M_nlay, xw=0, yw=0, rw=rw, tsandQ=[(0, -Q)], layers=[18,19,20], \\\n",
    "              rc=rc, wbstype='slug')\n",
    "M_nlay.solve()"
   ]
  },
  {
   "cell_type": "code",
   "execution_count": 11,
   "metadata": {},
   "outputs": [
    {
     "name": "stdout",
     "output_type": "stream",
     "text": [
      "......................................................\n",
      "Fit succeeded.\n",
      "[[Fit Statistics]]\n",
      "    # fitting method   = leastsq\n",
      "    # function evals   = 51\n",
      "    # data points      = 183\n",
      "    # variables        = 2\n",
      "    chi-square         = 0.00159231\n",
      "    reduced chi-square = 8.7973e-06\n",
      "    Akaike info crit   = -2128.32629\n",
      "    Bayesian info crit = -2121.90732\n",
      "[[Variables]]\n",
      "    kaq0_49:  4.26515924 +/- 0.01222410 (0.29%) (init = 10)\n",
      "    Saq0_49:  4.9276e-04 +/- 1.8069e-05 (3.67%) (init = 0.0001)\n",
      "[[Correlations]] (unreported correlations are < 0.100)\n",
      "    C(kaq0_49, Saq0_49) = -0.767\n"
     ]
    }
   ],
   "source": [
    "cM = Calibrate(M_nlay)\n",
    "cM.set_parameter(name='kaq0_49', initial=10)\n",
    "cM.set_parameter(name='Saq0_49', initial=1e-4, pmin=0)\n",
    "cM.series(name='obs', x=0, y=0, layer=[18,19,20], t=t, h=h)\n",
    "cM.fit()"
   ]
  },
  {
   "cell_type": "code",
   "execution_count": 12,
   "metadata": {},
   "outputs": [
    {
     "data": {
      "text/html": [
       "<div>\n",
       "<style scoped>\n",
       "    .dataframe tbody tr th:only-of-type {\n",
       "        vertical-align: middle;\n",
       "    }\n",
       "\n",
       "    .dataframe tbody tr th {\n",
       "        vertical-align: top;\n",
       "    }\n",
       "\n",
       "    .dataframe thead th {\n",
       "        text-align: right;\n",
       "    }\n",
       "</style>\n",
       "<table border=\"1\" class=\"dataframe\">\n",
       "  <thead>\n",
       "    <tr style=\"text-align: right;\">\n",
       "      <th></th>\n",
       "      <th>optimal</th>\n",
       "      <th>std</th>\n",
       "      <th>perc_std</th>\n",
       "      <th>pmin</th>\n",
       "      <th>pmax</th>\n",
       "      <th>initial</th>\n",
       "      <th>parray</th>\n",
       "    </tr>\n",
       "  </thead>\n",
       "  <tbody>\n",
       "    <tr>\n",
       "      <td>kaq0_49</td>\n",
       "      <td>4.26516</td>\n",
       "      <td>0.012224</td>\n",
       "      <td>0.286604</td>\n",
       "      <td>-inf</td>\n",
       "      <td>inf</td>\n",
       "      <td>10</td>\n",
       "      <td>[4.2651592443521205, 4.2651592443521205, 4.265...</td>\n",
       "    </tr>\n",
       "    <tr>\n",
       "      <td>Saq0_49</td>\n",
       "      <td>0.000492763</td>\n",
       "      <td>0.000018</td>\n",
       "      <td>3.66691</td>\n",
       "      <td>0.0</td>\n",
       "      <td>inf</td>\n",
       "      <td>0.0001</td>\n",
       "      <td>[0.0004927634772056155, 0.0004927634772056155,...</td>\n",
       "    </tr>\n",
       "  </tbody>\n",
       "</table>\n",
       "</div>"
      ],
      "text/plain": [
       "             optimal       std  perc_std  pmin  pmax initial  \\\n",
       "kaq0_49      4.26516  0.012224  0.286604  -inf   inf      10   \n",
       "Saq0_49  0.000492763  0.000018   3.66691   0.0   inf  0.0001   \n",
       "\n",
       "                                                    parray  \n",
       "kaq0_49  [4.2651592443521205, 4.2651592443521205, 4.265...  \n",
       "Saq0_49  [0.0004927634772056155, 0.0004927634772056155,...  "
      ]
     },
     "metadata": {},
     "output_type": "display_data"
    },
    {
     "name": "stdout",
     "output_type": "stream",
     "text": [
      "RMSE: 0.0029497698923064536\n"
     ]
    }
   ],
   "source": [
    "display(cM.parameters)\n",
    "print('RMSE:', cM.rmse())"
   ]
  },
  {
   "cell_type": "code",
   "execution_count": 13,
   "metadata": {},
   "outputs": [
    {
     "data": {
      "image/png": "[encoded data removed]",
      "text/plain": [
       "<Figure size 720x360 with 1 Axes>"
      ]
     },
     "metadata": {
      "needs_background": "light"
     },
     "output_type": "display_data"
    }
   ],
   "source": [
    "hM = M_nlay.head(0, 0, t, layers = 20)\n",
    "plt.figure(figsize = (10, 5))\n",
    "plt.semilogx(t, h / H0, '.', label = 'obs')\n",
    "plt.semilogx(t, hM[0] / H0, label = 'ttim')\n",
    "plt.ylim([0, 1])\n",
    "plt.xlabel('time(d)')\n",
    "plt.ylabel('h/H0')\n",
    "plt.legend();"
   ]
  },
  {
   "cell_type": "markdown",
   "metadata": {},
   "source": [
    "### Summary of values simulated by AQTESOLV:"
   ]
  },
  {
   "cell_type": "code",
   "execution_count": 14,
   "metadata": {},
   "outputs": [
    {
     "data": {
      "text/html": [
       "<div>\n",
       "<style scoped>\n",
       "    .dataframe tbody tr th:only-of-type {\n",
       "        vertical-align: middle;\n",
       "    }\n",
       "\n",
       "    .dataframe tbody tr th {\n",
       "        vertical-align: top;\n",
       "    }\n",
       "\n",
       "    .dataframe thead th {\n",
       "        text-align: right;\n",
       "    }\n",
       "</style>\n",
       "<table border=\"1\" class=\"dataframe\">\n",
       "  <thead>\n",
       "    <tr style=\"text-align: right;\">\n",
       "      <th></th>\n",
       "      <th>k [m/d]</th>\n",
       "      <th>Ss [1/m]</th>\n",
       "      <th>RMSE</th>\n",
       "    </tr>\n",
       "  </thead>\n",
       "  <tbody>\n",
       "    <tr>\n",
       "      <td>AQTESOLV</td>\n",
       "      <td>4.034</td>\n",
       "      <td>0.0003834</td>\n",
       "      <td>0.002976</td>\n",
       "    </tr>\n",
       "    <tr>\n",
       "      <td>ttim-three</td>\n",
       "      <td>6.08821</td>\n",
       "      <td>0.000203455</td>\n",
       "      <td>0.002873</td>\n",
       "    </tr>\n",
       "    <tr>\n",
       "      <td>ttim-multi</td>\n",
       "      <td>4.26516</td>\n",
       "      <td>0.000492763</td>\n",
       "      <td>0.002950</td>\n",
       "    </tr>\n",
       "  </tbody>\n",
       "</table>\n",
       "</div>"
      ],
      "text/plain": [
       "            k [m/d]     Ss [1/m]      RMSE\n",
       "AQTESOLV      4.034    0.0003834  0.002976\n",
       "ttim-three  6.08821  0.000203455  0.002873\n",
       "ttim-multi  4.26516  0.000492763  0.002950"
      ]
     },
     "execution_count": 14,
     "metadata": {},
     "output_type": "execute_result"
    }
   ],
   "source": [
    "ta = pd.DataFrame(columns=['k [m/d]', 'Ss [1/m]'], \\\n",
    "                 index=['AQTESOLV', 'ttim-three', 'ttim-multi'])\n",
    "ta.loc['ttim-three'] = ca.parameters['optimal'].values\n",
    "ta.loc['ttim-multi'] = cM.parameters['optimal'].values\n",
    "ta.loc['AQTESOLV'] = [4.034, 3.834E-04]\n",
    "ta['RMSE'] = [0.002976, ca.rmse(), cM.rmse()]\n",
    "ta"
   ]
  },
  {
   "cell_type": "code",
   "execution_count": null,
   "metadata": {},
   "outputs": [],
   "source": []
  }
 ],
 "metadata": {
  "kernelspec": {
   "display_name": "Python 3",
   "language": "python",
   "name": "python3"
  },
  "language_info": {
   "codemirror_mode": {
    "name": "ipython",
    "version": 3
   },
   "file_extension": ".py",
   "mimetype": "text/x-python",
   "name": "python",
   "nbconvert_exporter": "python",
   "pygments_lexer": "ipython3",
   "version": "3.7.4"
  }
 },
 "nbformat": 4,
 "nbformat_minor": 2
}
