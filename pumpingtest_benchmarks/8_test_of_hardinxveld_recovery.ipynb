{
 "cells": [
  {
   "cell_type": "markdown",
   "metadata": {},
   "source": [
    "## Recovery Test\n",
    "**This test is taken from MLU examples.**"
   ]
  },
  {
   "cell_type": "code",
   "execution_count": 1,
   "metadata": {},
   "outputs": [],
   "source": [
    "%matplotlib inline\n",
    "import numpy as np\n",
    "import matplotlib.pyplot as plt\n",
    "from ttim import *\n",
    "import pandas as pd"
   ]
  },
  {
   "cell_type": "markdown",
   "metadata": {},
   "source": [
    "Set basic parameters for the model:"
   ]
  },
  {
   "cell_type": "code",
   "execution_count": 2,
   "metadata": {},
   "outputs": [],
   "source": [
    "H = 27 #aquifer thickness [m]\n",
    "zt = -10 #upper boundary of aquifer\n",
    "zb = zt - H\n",
    "rw = 0.155 #well screen radius [m]\n",
    "Q = 1848 #constant discharge rate [m^3/d]\n",
    "t0 =  0.013889 #time stop pumping [d]"
   ]
  },
  {
   "cell_type": "markdown",
   "metadata": {},
   "source": [
    "Load data:"
   ]
  },
  {
   "cell_type": "code",
   "execution_count": 3,
   "metadata": {},
   "outputs": [],
   "source": [
    "data = np.loadtxt('data/recovery.txt', skiprows=1)\n",
    "t = data[:, 0]\n",
    "h = data[:, 1]"
   ]
  },
  {
   "cell_type": "markdown",
   "metadata": {},
   "source": [
    "Conceptual model:"
   ]
  },
  {
   "cell_type": "code",
   "execution_count": 4,
   "metadata": {},
   "outputs": [
    {
     "name": "stdout",
     "output_type": "stream",
     "text": [
      "self.neq  1\n",
      "solution complete\n"
     ]
    }
   ],
   "source": [
    "ml1 = ModelMaq(kaq=[50, 40], z=[0, zt, zb, -68, -88], c=[1000, 1000], Saq=[1e-4, 5e-5],\\\n",
    "              topboundary='semi', tmin=1e-4, tmax=0.04)\n",
    "w1 = Well(ml1, xw=0, yw=0, rw=rw, res=1, tsandQ=[(0, Q), (t0, 0)], layers=0)\n",
    "ml1.solve()"
   ]
  },
  {
   "cell_type": "code",
   "execution_count": 5,
   "metadata": {},
   "outputs": [
    {
     "name": "stdout",
     "output_type": "stream",
     "text": [
      ".....................................................................................................................................................................................................................................................................................................................................................................................................\n",
      "Fit succeeded.\n",
      "[[Fit Statistics]]\n",
      "    # fitting method   = leastsq\n",
      "    # function evals   = 386\n",
      "    # data points      = 35\n",
      "    # variables        = 3\n",
      "    chi-square         = 0.00106334\n",
      "    reduced chi-square = 3.3229e-05\n",
      "    Akaike info crit   = -358.059061\n",
      "    Bayesian info crit = -353.393016\n",
      "[[Variables]]\n",
      "    kaq0:  44.5282566 +/- 0.64521411 (1.45%) (init = 50)\n",
      "    Saq0:  6.3906e-06 +/- 9.7664e-07 (15.28%) (init = 0.0001)\n",
      "    res:   0.01620422 +/- 5.7744e-04 (3.56%) (init = 1)\n",
      "[[Correlations]] (unreported correlations are < 0.100)\n",
      "    C(kaq0, res)  =  0.976\n",
      "    C(Saq0, res)  =  0.951\n",
      "    C(kaq0, Saq0) =  0.863\n"
     ]
    }
   ],
   "source": [
    "ca1 = Calibrate(ml1)\n",
    "ca1.set_parameter(name='kaq0', initial=50, pmin=0)\n",
    "ca1.set_parameter(name='Saq0', initial=1e-4, pmin=0)\n",
    "ca1.set_parameter_by_reference(name='res', parameter=w1.res[:], initial=1, pmin=0)\n",
    "ca1.seriesinwell(name='obs', element=w1, t=t, h=h)\n",
    "ca1.fit()"
   ]
  },
  {
   "cell_type": "code",
   "execution_count": 6,
   "metadata": {},
   "outputs": [
    {
     "data": {
      "text/html": [
       "<div>\n",
       "<style scoped>\n",
       "    .dataframe tbody tr th:only-of-type {\n",
       "        vertical-align: middle;\n",
       "    }\n",
       "\n",
       "    .dataframe tbody tr th {\n",
       "        vertical-align: top;\n",
       "    }\n",
       "\n",
       "    .dataframe thead th {\n",
       "        text-align: right;\n",
       "    }\n",
       "</style>\n",
       "<table border=\"1\" class=\"dataframe\">\n",
       "  <thead>\n",
       "    <tr style=\"text-align: right;\">\n",
       "      <th></th>\n",
       "      <th>optimal</th>\n",
       "      <th>std</th>\n",
       "      <th>perc_std</th>\n",
       "      <th>pmin</th>\n",
       "      <th>pmax</th>\n",
       "      <th>initial</th>\n",
       "      <th>parray</th>\n",
       "    </tr>\n",
       "  </thead>\n",
       "  <tbody>\n",
       "    <tr>\n",
       "      <td>kaq0</td>\n",
       "      <td>44.5283</td>\n",
       "      <td>6.452141e-01</td>\n",
       "      <td>1.449</td>\n",
       "      <td>0</td>\n",
       "      <td>inf</td>\n",
       "      <td>50</td>\n",
       "      <td>[44.52825664300624]</td>\n",
       "    </tr>\n",
       "    <tr>\n",
       "      <td>Saq0</td>\n",
       "      <td>6.39061e-06</td>\n",
       "      <td>9.766419e-07</td>\n",
       "      <td>15.2825</td>\n",
       "      <td>0</td>\n",
       "      <td>inf</td>\n",
       "      <td>0.0001</td>\n",
       "      <td>[6.390608494610817e-06]</td>\n",
       "    </tr>\n",
       "    <tr>\n",
       "      <td>res</td>\n",
       "      <td>0.0162042</td>\n",
       "      <td>5.774437e-04</td>\n",
       "      <td>3.56354</td>\n",
       "      <td>0</td>\n",
       "      <td>inf</td>\n",
       "      <td>1</td>\n",
       "      <td>[0.016204215932634325]</td>\n",
       "    </tr>\n",
       "  </tbody>\n",
       "</table>\n",
       "</div>"
      ],
      "text/plain": [
       "          optimal           std perc_std pmin  pmax initial  \\\n",
       "kaq0      44.5283  6.452141e-01    1.449    0   inf      50   \n",
       "Saq0  6.39061e-06  9.766419e-07  15.2825    0   inf  0.0001   \n",
       "res     0.0162042  5.774437e-04  3.56354    0   inf       1   \n",
       "\n",
       "                       parray  \n",
       "kaq0      [44.52825664300624]  \n",
       "Saq0  [6.390608494610817e-06]  \n",
       "res    [0.016204215932634325]  "
      ]
     },
     "metadata": {},
     "output_type": "display_data"
    },
    {
     "name": "stdout",
     "output_type": "stream",
     "text": [
      "RMSE: 0.005511911936638888\n"
     ]
    }
   ],
   "source": [
    "display(ca1.parameters)\n",
    "print('RMSE:', ca1.rmse())"
   ]
  },
  {
   "cell_type": "code",
   "execution_count": 7,
   "metadata": {},
   "outputs": [
    {
     "name": "stderr",
     "output_type": "stream",
     "text": [
      "The PostScript backend does not support transparency; partially transparent artists will be rendered opaque.\n",
      "The PostScript backend does not support transparency; partially transparent artists will be rendered opaque.\n"
     ]
    },
    {
     "data": {
      "image/png": "[encoded data removed]",
      "text/plain": [
       "<Figure size 576x360 with 1 Axes>"
      ]
     },
     "metadata": {
      "needs_background": "light"
     },
     "output_type": "display_data"
    }
   ],
   "source": [
    "hm1 = w1.headinside(t)\n",
    "plt.figure(figsize=(8, 5))\n",
    "plt.loglog(t, -h, '.', label='obs')\n",
    "plt.loglog(t, -hm1[0], label='ttim')\n",
    "plt.xlabel('time(d)')\n",
    "plt.ylabel('head(m)')\n",
    "plt.legend()\n",
    "plt.savefig('C:/Users/DELL/Python Notebook/MT BE/Fig/recovery-double.eps');"
   ]
  },
  {
   "cell_type": "markdown",
   "metadata": {},
   "source": [
    "Add wellbore storage:"
   ]
  },
  {
   "cell_type": "code",
   "execution_count": 8,
   "metadata": {},
   "outputs": [
    {
     "name": "stdout",
     "output_type": "stream",
     "text": [
      "self.neq  1\n",
      "solution complete\n"
     ]
    }
   ],
   "source": [
    "ml2 = ModelMaq(kaq=[50, 40], z=[0, zt, zb, -68, -88], c=[1000, 1000], Saq=[1e-4, 5e-5],\\\n",
    "              topboundary='semi', tmin=1e-4, tmax=0.04)\n",
    "w2 = Well(ml2, xw=0, yw=0, rw=rw, rc=0.155, res=1, tsandQ=[(0, Q), (t0, 0)], layers=0)\n",
    "ml2.solve()"
   ]
  },
  {
   "cell_type": "code",
   "execution_count": 9,
   "metadata": {},
   "outputs": [
    {
     "name": "stdout",
     "output_type": "stream",
     "text": [
      "........................................................................................................................................................................................................................................................................................................................................................................................................................................................................................................................................................................................................................................................................................................................................................\n",
      "Fit succeeded.\n",
      "[[Fit Statistics]]\n",
      "    # fitting method   = leastsq\n",
      "    # function evals   = 725\n",
      "    # data points      = 35\n",
      "    # variables        = 4\n",
      "    chi-square         = 0.00106334\n",
      "    reduced chi-square = 3.4301e-05\n",
      "    Akaike info crit   = -356.059080\n",
      "    Bayesian info crit = -349.837687\n",
      "[[Variables]]\n",
      "    kaq0:  44.5298968 +/- 0.66771885 (1.50%) (init = 50)\n",
      "    Saq0:  6.3909e-06 +/- 1.0101e-06 (15.80%) (init = 0.0001)\n",
      "    rc:    0.00353647 +/- 0.22114709 (6253.32%) (init = 0.1)\n",
      "    res:   0.01620525 +/- 5.9232e-04 (3.66%) (init = 1)\n",
      "[[Correlations]] (unreported correlations are < 0.100)\n",
      "    C(kaq0, res)  =  0.974\n",
      "    C(Saq0, res)  =  0.942\n",
      "    C(kaq0, Saq0) =  0.844\n",
      "    C(Saq0, rc)   = -0.198\n"
     ]
    }
   ],
   "source": [
    "ca2 = Calibrate(ml2)\n",
    "ca2.set_parameter(name='kaq0', initial=50, pmin=0)\n",
    "ca2.set_parameter(name='Saq0', initial=1e-4, pmin=0)\n",
    "ca2.set_parameter_by_reference(name='rc', parameter=w2.rc[:], initial=0.1, pmin=0)\n",
    "ca2.set_parameter_by_reference(name='res', parameter=w2.res[:], initial=1, pmin=0)\n",
    "ca2.seriesinwell(name='obs', element=w2, t=t, h=h)\n",
    "ca2.fit()"
   ]
  },
  {
   "cell_type": "code",
   "execution_count": 10,
   "metadata": {},
   "outputs": [
    {
     "data": {
      "text/html": [
       "<div>\n",
       "<style scoped>\n",
       "    .dataframe tbody tr th:only-of-type {\n",
       "        vertical-align: middle;\n",
       "    }\n",
       "\n",
       "    .dataframe tbody tr th {\n",
       "        vertical-align: top;\n",
       "    }\n",
       "\n",
       "    .dataframe thead th {\n",
       "        text-align: right;\n",
       "    }\n",
       "</style>\n",
       "<table border=\"1\" class=\"dataframe\">\n",
       "  <thead>\n",
       "    <tr style=\"text-align: right;\">\n",
       "      <th></th>\n",
       "      <th>optimal</th>\n",
       "      <th>std</th>\n",
       "      <th>perc_std</th>\n",
       "      <th>pmin</th>\n",
       "      <th>pmax</th>\n",
       "      <th>initial</th>\n",
       "      <th>parray</th>\n",
       "    </tr>\n",
       "  </thead>\n",
       "  <tbody>\n",
       "    <tr>\n",
       "      <td>kaq0</td>\n",
       "      <td>44.5299</td>\n",
       "      <td>0.667719</td>\n",
       "      <td>1.49948</td>\n",
       "      <td>0</td>\n",
       "      <td>inf</td>\n",
       "      <td>50</td>\n",
       "      <td>[44.52989684168029]</td>\n",
       "    </tr>\n",
       "    <tr>\n",
       "      <td>Saq0</td>\n",
       "      <td>6.39092e-06</td>\n",
       "      <td>0.000001</td>\n",
       "      <td>15.8049</td>\n",
       "      <td>0</td>\n",
       "      <td>inf</td>\n",
       "      <td>0.0001</td>\n",
       "      <td>[6.390921652332793e-06]</td>\n",
       "    </tr>\n",
       "    <tr>\n",
       "      <td>rc</td>\n",
       "      <td>0.00353647</td>\n",
       "      <td>0.221147</td>\n",
       "      <td>6253.32</td>\n",
       "      <td>0</td>\n",
       "      <td>inf</td>\n",
       "      <td>0.1</td>\n",
       "      <td>[0.003536472392082546]</td>\n",
       "    </tr>\n",
       "    <tr>\n",
       "      <td>res</td>\n",
       "      <td>0.0162052</td>\n",
       "      <td>0.000592</td>\n",
       "      <td>3.6551</td>\n",
       "      <td>0</td>\n",
       "      <td>inf</td>\n",
       "      <td>1</td>\n",
       "      <td>[0.016205248228838176]</td>\n",
       "    </tr>\n",
       "  </tbody>\n",
       "</table>\n",
       "</div>"
      ],
      "text/plain": [
       "          optimal       std perc_std pmin  pmax initial  \\\n",
       "kaq0      44.5299  0.667719  1.49948    0   inf      50   \n",
       "Saq0  6.39092e-06  0.000001  15.8049    0   inf  0.0001   \n",
       "rc     0.00353647  0.221147  6253.32    0   inf     0.1   \n",
       "res     0.0162052  0.000592   3.6551    0   inf       1   \n",
       "\n",
       "                       parray  \n",
       "kaq0      [44.52989684168029]  \n",
       "Saq0  [6.390921652332793e-06]  \n",
       "rc     [0.003536472392082546]  \n",
       "res    [0.016205248228838176]  "
      ]
     },
     "metadata": {},
     "output_type": "display_data"
    },
    {
     "name": "stdout",
     "output_type": "stream",
     "text": [
      "RMSE: 0.005511910430700859\n"
     ]
    }
   ],
   "source": [
    "display(ca2.parameters)\n",
    "print('RMSE:', ca2.rmse())"
   ]
  },
  {
   "cell_type": "code",
   "execution_count": 11,
   "metadata": {},
   "outputs": [
    {
     "name": "stderr",
     "output_type": "stream",
     "text": [
      "The PostScript backend does not support transparency; partially transparent artists will be rendered opaque.\n",
      "The PostScript backend does not support transparency; partially transparent artists will be rendered opaque.\n"
     ]
    },
    {
     "data": {
      "image/png": "[encoded data removed]",
      "text/plain": [
       "<Figure size 576x360 with 1 Axes>"
      ]
     },
     "metadata": {
      "needs_background": "light"
     },
     "output_type": "display_data"
    }
   ],
   "source": [
    "hm2 = w2.headinside(t)\n",
    "plt.figure(figsize=(8, 5))\n",
    "plt.loglog(t, -h, '.', label='obs')\n",
    "plt.loglog(t, -hm2[0], label='ttim')\n",
    "plt.xlabel('time(d)')\n",
    "plt.ylabel('head(m)')\n",
    "plt.legend()\n",
    "plt.savefig('C:/Users/DELL/Python Notebook/MT BE/Fig/recovery-double rc.eps');"
   ]
  },
  {
   "cell_type": "markdown",
   "metadata": {},
   "source": [
    "Simulation with rc has a worse performance. RMSE increases, and the Akaike criteria is much larger than the former model. Thus, rc should be removed."
   ]
  },
  {
   "cell_type": "markdown",
   "metadata": {},
   "source": [
    "Single aquifer model:"
   ]
  },
  {
   "cell_type": "code",
   "execution_count": 12,
   "metadata": {},
   "outputs": [
    {
     "name": "stdout",
     "output_type": "stream",
     "text": [
      "self.neq  1\n",
      "solution complete\n"
     ]
    }
   ],
   "source": [
    "ml0 = ModelMaq(kaq=50, z=[0, zt, zb], c=1000, Saq=1e-4, topboundary='semi', \\\n",
    "              tmin=1e-4, tmax=0.04)\n",
    "w0 = Well(ml0, xw=0, yw=0, rw=rw, res=1, tsandQ=[(0, Q), (t0, 0)], layers=0)\n",
    "ml0.solve()"
   ]
  },
  {
   "cell_type": "code",
   "execution_count": 13,
   "metadata": {},
   "outputs": [
    {
     "name": "stdout",
     "output_type": "stream",
     "text": [
      "....................................................................................................................................................................................................................................................................................................\n",
      "Fit succeeded.\n",
      "[[Fit Statistics]]\n",
      "    # fitting method   = leastsq\n",
      "    # function evals   = 289\n",
      "    # data points      = 35\n",
      "    # variables        = 3\n",
      "    chi-square         = 0.00106439\n",
      "    reduced chi-square = 3.3262e-05\n",
      "    Akaike info crit   = -358.024604\n",
      "    Bayesian info crit = -353.358560\n",
      "[[Variables]]\n",
      "    kaq0:  44.5517010 +/- 0.65622200 (1.47%) (init = 50)\n",
      "    Saq0:  3.2314e-06 +/- 4.9354e-07 (15.27%) (init = 0.0001)\n",
      "    res:   0.01502958 +/- 5.9551e-04 (3.96%) (init = 1)\n",
      "[[Correlations]] (unreported correlations are < 0.100)\n",
      "    C(kaq0, res)  =  0.977\n",
      "    C(Saq0, res)  =  0.949\n",
      "    C(kaq0, Saq0) =  0.862\n"
     ]
    }
   ],
   "source": [
    "ca0 = Calibrate(ml0)\n",
    "ca0.set_parameter(name='kaq0', initial=50, pmin=0)\n",
    "ca0.set_parameter(name='Saq0', initial=1e-4, pmin=0)\n",
    "ca0.set_parameter_by_reference(name='res', parameter=w0.res[:], initial=1)\n",
    "ca0.seriesinwell(name='obs', element=w0, t=t, h=h)\n",
    "ca0.fit()"
   ]
  },
  {
   "cell_type": "code",
   "execution_count": 14,
   "metadata": {},
   "outputs": [
    {
     "data": {
      "text/html": [
       "<div>\n",
       "<style scoped>\n",
       "    .dataframe tbody tr th:only-of-type {\n",
       "        vertical-align: middle;\n",
       "    }\n",
       "\n",
       "    .dataframe tbody tr th {\n",
       "        vertical-align: top;\n",
       "    }\n",
       "\n",
       "    .dataframe thead th {\n",
       "        text-align: right;\n",
       "    }\n",
       "</style>\n",
       "<table border=\"1\" class=\"dataframe\">\n",
       "  <thead>\n",
       "    <tr style=\"text-align: right;\">\n",
       "      <th></th>\n",
       "      <th>optimal</th>\n",
       "      <th>std</th>\n",
       "      <th>perc_std</th>\n",
       "      <th>pmin</th>\n",
       "      <th>pmax</th>\n",
       "      <th>initial</th>\n",
       "      <th>parray</th>\n",
       "    </tr>\n",
       "  </thead>\n",
       "  <tbody>\n",
       "    <tr>\n",
       "      <td>kaq0</td>\n",
       "      <td>44.5517</td>\n",
       "      <td>6.562220e-01</td>\n",
       "      <td>1.47294</td>\n",
       "      <td>0</td>\n",
       "      <td>inf</td>\n",
       "      <td>50</td>\n",
       "      <td>[44.551700962690695]</td>\n",
       "    </tr>\n",
       "    <tr>\n",
       "      <td>Saq0</td>\n",
       "      <td>3.23139e-06</td>\n",
       "      <td>4.935356e-07</td>\n",
       "      <td>15.2732</td>\n",
       "      <td>0</td>\n",
       "      <td>inf</td>\n",
       "      <td>0.0001</td>\n",
       "      <td>[3.2313908613357256e-06]</td>\n",
       "    </tr>\n",
       "    <tr>\n",
       "      <td>res</td>\n",
       "      <td>0.0150296</td>\n",
       "      <td>5.955128e-04</td>\n",
       "      <td>3.96227</td>\n",
       "      <td>-inf</td>\n",
       "      <td>inf</td>\n",
       "      <td>1</td>\n",
       "      <td>[0.015029581626088763]</td>\n",
       "    </tr>\n",
       "  </tbody>\n",
       "</table>\n",
       "</div>"
      ],
      "text/plain": [
       "          optimal           std perc_std pmin  pmax initial  \\\n",
       "kaq0      44.5517  6.562220e-01  1.47294    0   inf      50   \n",
       "Saq0  3.23139e-06  4.935356e-07  15.2732    0   inf  0.0001   \n",
       "res     0.0150296  5.955128e-04  3.96227 -inf   inf       1   \n",
       "\n",
       "                        parray  \n",
       "kaq0      [44.551700962690695]  \n",
       "Saq0  [3.2313908613357256e-06]  \n",
       "res     [0.015029581626088763]  "
      ]
     },
     "metadata": {},
     "output_type": "display_data"
    },
    {
     "name": "stdout",
     "output_type": "stream",
     "text": [
      "RMSE: 0.005514625729462559\n"
     ]
    }
   ],
   "source": [
    "display(ca0.parameters)\n",
    "print('RMSE:', ca0.rmse())"
   ]
  },
  {
   "cell_type": "code",
   "execution_count": 15,
   "metadata": {},
   "outputs": [
    {
     "name": "stderr",
     "output_type": "stream",
     "text": [
      "The PostScript backend does not support transparency; partially transparent artists will be rendered opaque.\n",
      "The PostScript backend does not support transparency; partially transparent artists will be rendered opaque.\n"
     ]
    },
    {
     "data": {
      "image/png": "[encoded data removed]",
      "text/plain": [
       "<Figure size 576x360 with 1 Axes>"
      ]
     },
     "metadata": {
      "needs_background": "light"
     },
     "output_type": "display_data"
    }
   ],
   "source": [
    "hm = w0.headinside(t)\n",
    "plt.figure(figsize=(8, 5))\n",
    "plt.loglog(t, -h, '.', label='obs')\n",
    "plt.loglog(t, -hm[0], label='ttim')\n",
    "plt.xlabel('time(d)')\n",
    "plt.ylabel('head(m)')\n",
    "plt.legend()\n",
    "plt.savefig('C:/Users/DELL/Python Notebook/MT BE/Fig/recovery-single.eps');"
   ]
  },
  {
   "cell_type": "markdown",
   "metadata": {},
   "source": [
    "Besides linear curve fitting solution, MLU uses log-drawdown-curve-fitting as comparision.\n",
    "fitm is a version with changed objective function of the Calibrate function. The original objective function is 'h_observed - h_predicted', while for log drawdown curve fitting solution, the objective function has been changed to 'log10(-h_observed) - log10(-h_predicted)'."
   ]
  },
  {
   "cell_type": "code",
   "execution_count": 16,
   "metadata": {},
   "outputs": [],
   "source": [
    "from fitm import Calibrate"
   ]
  },
  {
   "cell_type": "code",
   "execution_count": 17,
   "metadata": {},
   "outputs": [
    {
     "name": "stdout",
     "output_type": "stream",
     "text": [
      "self.neq  1\n",
      "solution complete\n"
     ]
    }
   ],
   "source": [
    "ml3 = ModelMaq(kaq=[50, 40], z=[0, zt, zb, -68, -88], c=[1000, 1000], Saq=[1e-4, 5e-5],\\\n",
    "              topboundary='semi', tmin=1e-4, tmax=0.04)\n",
    "w3 = Well(ml3, xw=0, yw=0, rw=rw, res=1, tsandQ=[(0, Q), (t0, 0)], layers=0)\n",
    "ml3.solve()"
   ]
  },
  {
   "cell_type": "code",
   "execution_count": 18,
   "metadata": {},
   "outputs": [
    {
     "name": "stdout",
     "output_type": "stream",
     "text": [
      ".............................................................................\n",
      "Fit succeeded.\n",
      "[[Fit Statistics]]\n",
      "    # fitting method   = leastsq\n",
      "    # function evals   = 74\n",
      "    # data points      = 35\n",
      "    # variables        = 3\n",
      "    chi-square         = 0.00536097\n",
      "    reduced chi-square = 1.6753e-04\n",
      "    Akaike info crit   = -301.438514\n",
      "    Bayesian info crit = -296.772469\n",
      "[[Variables]]\n",
      "    kaq0:  45.2992097 +/- 0.72068793 (1.59%) (init = 50)\n",
      "    Saq0:  7.2479e-06 +/- 6.9225e-07 (9.55%) (init = 0.0001)\n",
      "    res:   0.01681852 +/- 6.0777e-04 (3.61%) (init = 1)\n",
      "[[Correlations]] (unreported correlations are < 0.100)\n",
      "    C(kaq0, Saq0) =  0.907\n",
      "    C(kaq0, res)  =  0.840\n",
      "    C(Saq0, res)  =  0.807\n"
     ]
    }
   ],
   "source": [
    "ca3 = Calibrate(ml3)\n",
    "ca3.set_parameter(name='kaq0', initial=50, pmin=0)\n",
    "ca3.set_parameter(name='Saq0', initial=1e-4,pmin=0)\n",
    "ca3.set_parameter_by_reference(name='res', parameter=w3.res[:], initial=1,pmin=0)\n",
    "ca3.seriesinwell(name='obs', element=w3,t=t, h=h)\n",
    "ca3.fit(report=True)"
   ]
  },
  {
   "cell_type": "code",
   "execution_count": 19,
   "metadata": {},
   "outputs": [
    {
     "data": {
      "text/html": [
       "<div>\n",
       "<style scoped>\n",
       "    .dataframe tbody tr th:only-of-type {\n",
       "        vertical-align: middle;\n",
       "    }\n",
       "\n",
       "    .dataframe tbody tr th {\n",
       "        vertical-align: top;\n",
       "    }\n",
       "\n",
       "    .dataframe thead th {\n",
       "        text-align: right;\n",
       "    }\n",
       "</style>\n",
       "<table border=\"1\" class=\"dataframe\">\n",
       "  <thead>\n",
       "    <tr style=\"text-align: right;\">\n",
       "      <th></th>\n",
       "      <th>optimal</th>\n",
       "      <th>std</th>\n",
       "      <th>perc_std</th>\n",
       "      <th>pmin</th>\n",
       "      <th>pmax</th>\n",
       "      <th>initial</th>\n",
       "      <th>parray</th>\n",
       "    </tr>\n",
       "  </thead>\n",
       "  <tbody>\n",
       "    <tr>\n",
       "      <td>kaq0</td>\n",
       "      <td>45.2992</td>\n",
       "      <td>7.206879e-01</td>\n",
       "      <td>1.59095</td>\n",
       "      <td>0</td>\n",
       "      <td>inf</td>\n",
       "      <td>50</td>\n",
       "      <td>[45.29920969773198]</td>\n",
       "    </tr>\n",
       "    <tr>\n",
       "      <td>Saq0</td>\n",
       "      <td>7.24786e-06</td>\n",
       "      <td>6.922490e-07</td>\n",
       "      <td>9.55108</td>\n",
       "      <td>0</td>\n",
       "      <td>inf</td>\n",
       "      <td>0.0001</td>\n",
       "      <td>[7.247863323955883e-06]</td>\n",
       "    </tr>\n",
       "    <tr>\n",
       "      <td>res</td>\n",
       "      <td>0.0168185</td>\n",
       "      <td>6.077721e-04</td>\n",
       "      <td>3.61371</td>\n",
       "      <td>0</td>\n",
       "      <td>inf</td>\n",
       "      <td>1</td>\n",
       "      <td>[0.016818522068650976]</td>\n",
       "    </tr>\n",
       "  </tbody>\n",
       "</table>\n",
       "</div>"
      ],
      "text/plain": [
       "          optimal           std perc_std pmin  pmax initial  \\\n",
       "kaq0      45.2992  7.206879e-01  1.59095    0   inf      50   \n",
       "Saq0  7.24786e-06  6.922490e-07  9.55108    0   inf  0.0001   \n",
       "res     0.0168185  6.077721e-04  3.61371    0   inf       1   \n",
       "\n",
       "                       parray  \n",
       "kaq0      [45.29920969773198]  \n",
       "Saq0  [7.247863323955883e-06]  \n",
       "res    [0.016818522068650976]  "
      ]
     },
     "metadata": {},
     "output_type": "display_data"
    },
    {
     "name": "stdout",
     "output_type": "stream",
     "text": [
      "RMSE: 0.01237621536126682\n"
     ]
    }
   ],
   "source": [
    "display(ca3.parameters)\n",
    "print('RMSE:', ca3.rmse())"
   ]
  },
  {
   "cell_type": "code",
   "execution_count": 20,
   "metadata": {},
   "outputs": [
    {
     "name": "stderr",
     "output_type": "stream",
     "text": [
      "The PostScript backend does not support transparency; partially transparent artists will be rendered opaque.\n",
      "The PostScript backend does not support transparency; partially transparent artists will be rendered opaque.\n"
     ]
    },
    {
     "data": {
      "image/png": "[encoded data removed]",
      "text/plain": [
       "<Figure size 576x360 with 1 Axes>"
      ]
     },
     "metadata": {
      "needs_background": "light"
     },
     "output_type": "display_data"
    }
   ],
   "source": [
    "hm3 = w3.headinside(t)\n",
    "plt.figure(figsize=(8, 5))\n",
    "plt.loglog(t, -h, '.', label='obs')\n",
    "plt.loglog(t, -hm3[0], label='ttim')\n",
    "plt.xlabel('time(d)')\n",
    "plt.ylabel('head(m)')\n",
    "plt.legend()\n",
    "plt.savefig('C:/Users/DELL/Python Notebook/MT BE/Fig/recovery-double log.eps');"
   ]
  },
  {
   "cell_type": "markdown",
   "metadata": {},
   "source": [
    "According to rmse and the Akaike criteria, log curve fitting solution performs worse than linear curve fitting. The results reported in following table are from models calibrated by linear curve fitting solution."
   ]
  },
  {
   "cell_type": "markdown",
   "metadata": {},
   "source": [
    "### Summary of values modeled by different methods:"
   ]
  },
  {
   "cell_type": "code",
   "execution_count": 21,
   "metadata": {},
   "outputs": [
    {
     "data": {
      "text/html": [
       "<div>\n",
       "<style scoped>\n",
       "    .dataframe tbody tr th:only-of-type {\n",
       "        vertical-align: middle;\n",
       "    }\n",
       "\n",
       "    .dataframe tbody tr th {\n",
       "        vertical-align: top;\n",
       "    }\n",
       "\n",
       "    .dataframe thead th {\n",
       "        text-align: right;\n",
       "    }\n",
       "</style>\n",
       "<table border=\"1\" class=\"dataframe\">\n",
       "  <thead>\n",
       "    <tr style=\"text-align: right;\">\n",
       "      <th></th>\n",
       "      <th>k [m/d]</th>\n",
       "      <th>Ss [1/m]</th>\n",
       "      <th>res</th>\n",
       "      <th>RMSE [m]</th>\n",
       "    </tr>\n",
       "  </thead>\n",
       "  <tbody>\n",
       "    <tr>\n",
       "      <td>MLU-log</td>\n",
       "      <td>51.53</td>\n",
       "      <td>0.000816</td>\n",
       "      <td>0.022</td>\n",
       "      <td>0.007560</td>\n",
       "    </tr>\n",
       "    <tr>\n",
       "      <td>TTim-single layer</td>\n",
       "      <td>44.5517</td>\n",
       "      <td>3.23139e-06</td>\n",
       "      <td>0.0150296</td>\n",
       "      <td>0.005515</td>\n",
       "    </tr>\n",
       "    <tr>\n",
       "      <td>TTim-two layers</td>\n",
       "      <td>44.5283</td>\n",
       "      <td>6.39061e-06</td>\n",
       "      <td>0.0162042</td>\n",
       "      <td>0.005512</td>\n",
       "    </tr>\n",
       "  </tbody>\n",
       "</table>\n",
       "</div>"
      ],
      "text/plain": [
       "                   k [m/d]     Ss [1/m]        res  RMSE [m]\n",
       "MLU-log              51.53     0.000816      0.022  0.007560\n",
       "TTim-single layer  44.5517  3.23139e-06  0.0150296  0.005515\n",
       "TTim-two layers    44.5283  6.39061e-06  0.0162042  0.005512"
      ]
     },
     "execution_count": 21,
     "metadata": {},
     "output_type": "execute_result"
    }
   ],
   "source": [
    "ta = pd.DataFrame(columns=['k [m/d]', 'Ss [1/m]', 'res'], \\\n",
    "                 index=['MLU-log', 'TTim-single layer', 'TTim-two layers'])\n",
    "ta.loc['TTim-single layer'] = ca0.parameters['optimal'].values\n",
    "ta.loc['TTim-two layers'] = ca1.parameters['optimal'].values\n",
    "ta.loc['MLU-log'] = [51.530, 8.16E-04, 0.022]\n",
    "ta['RMSE [m]'] = [0.00756, ca0.rmse(), ca1.rmse()]\n",
    "ta"
   ]
  },
  {
   "cell_type": "code",
   "execution_count": null,
   "metadata": {},
   "outputs": [],
   "source": []
  }
 ],
 "metadata": {
  "kernelspec": {
   "display_name": "Python 3",
   "language": "python",
   "name": "python3"
  },
  "language_info": {
   "codemirror_mode": {
    "name": "ipython",
    "version": 3
   },
   "file_extension": ".py",
   "mimetype": "text/x-python",
   "name": "python",
   "nbconvert_exporter": "python",
   "pygments_lexer": "ipython3",
   "version": "3.7.4"
  }
 },
 "nbformat": 4,
 "nbformat_minor": 2
}
