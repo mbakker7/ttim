{
 "cells": [
  {
   "cell_type": "markdown",
   "metadata": {},
   "source": [
    "# Slug test for confined aquifer\n",
    "**This test is taken from example of MLU.**"
   ]
  },
  {
   "cell_type": "code",
   "execution_count": 1,
   "metadata": {},
   "outputs": [],
   "source": [
    "%matplotlib inline\n",
    "from ttim import *\n",
    "import numpy as np\n",
    "import matplotlib.pyplot as plt\n",
    "import pandas as pd"
   ]
  },
  {
   "cell_type": "markdown",
   "metadata": {},
   "source": [
    "Set background prameters:"
   ]
  },
  {
   "cell_type": "code",
   "execution_count": 2,
   "metadata": {},
   "outputs": [],
   "source": [
    "b = 98 #aquifer thickness\n",
    "zt = -24\n",
    "zb = zt - b\n",
    "rw = 0.076 #well radius of Ln-2 Well\n",
    "rc = 0.076 #casing radius of Ln-2 Well\n",
    "Q = 0.01016 #slug volume in m^3"
   ]
  },
  {
   "cell_type": "markdown",
   "metadata": {},
   "source": [
    "Load data:"
   ]
  },
  {
   "cell_type": "code",
   "execution_count": 3,
   "metadata": {},
   "outputs": [],
   "source": [
    "data = np.loadtxt('data/dawsonville_slug.txt')\n",
    "t = data[:, 0]\n",
    "h = data[:, 1]"
   ]
  },
  {
   "cell_type": "markdown",
   "metadata": {},
   "source": [
    "Create conceptual model:"
   ]
  },
  {
   "cell_type": "code",
   "execution_count": 4,
   "metadata": {},
   "outputs": [
    {
     "name": "stdout",
     "output_type": "stream",
     "text": [
      "self.neq  1\n",
      "solution complete\n"
     ]
    }
   ],
   "source": [
    "ml = ModelMaq(kaq=10, z=[zt, zb], Saq=1e-4, tmin=1e-6, tmax=1e-3, topboundary='conf')\n",
    "w = Well(ml, xw=0, yw=0, rw=rw, rc=rc, tsandQ=[(0, -Q)], layers=0, wbstype='slug')\n",
    "ml.solve()"
   ]
  },
  {
   "cell_type": "code",
   "execution_count": 5,
   "metadata": {},
   "outputs": [
    {
     "name": "stdout",
     "output_type": "stream",
     "text": [
      "...............................\n",
      "Fit succeeded.\n",
      "[[Fit Statistics]]\n",
      "    # fitting method   = leastsq\n",
      "    # function evals   = 28\n",
      "    # data points      = 22\n",
      "    # variables        = 2\n",
      "    chi-square         = 4.2778e-04\n",
      "    reduced chi-square = 2.1389e-05\n",
      "    Akaike info crit   = -234.654964\n",
      "    Bayesian info crit = -232.472879\n",
      "[[Variables]]\n",
      "    kaq0:  0.42082538 +/- 0.01841831 (4.38%) (init = 10)\n",
      "    Saq0:  1.7028e-05 +/- 5.3141e-06 (31.21%) (init = 0.0001)\n",
      "[[Correlations]] (unreported correlations are < 0.100)\n",
      "    C(kaq0, Saq0) = -0.985\n"
     ]
    }
   ],
   "source": [
    "ca = Calibrate(ml)\n",
    "ca.set_parameter(name='kaq0', initial=10, pmin=0)\n",
    "ca.set_parameter(name='Saq0', initial=1e-4)\n",
    "ca.series(name='obs', x=0, y=0, layer=0, t=t, h=h)\n",
    "ca.fit(report=True)"
   ]
  },
  {
   "cell_type": "code",
   "execution_count": 6,
   "metadata": {},
   "outputs": [
    {
     "data": {
      "text/html": [
       "<div>\n",
       "<style scoped>\n",
       "    .dataframe tbody tr th:only-of-type {\n",
       "        vertical-align: middle;\n",
       "    }\n",
       "\n",
       "    .dataframe tbody tr th {\n",
       "        vertical-align: top;\n",
       "    }\n",
       "\n",
       "    .dataframe thead th {\n",
       "        text-align: right;\n",
       "    }\n",
       "</style>\n",
       "<table border=\"1\" class=\"dataframe\">\n",
       "  <thead>\n",
       "    <tr style=\"text-align: right;\">\n",
       "      <th></th>\n",
       "      <th>optimal</th>\n",
       "      <th>std</th>\n",
       "      <th>perc_std</th>\n",
       "      <th>pmin</th>\n",
       "      <th>pmax</th>\n",
       "      <th>initial</th>\n",
       "      <th>parray</th>\n",
       "    </tr>\n",
       "  </thead>\n",
       "  <tbody>\n",
       "    <tr>\n",
       "      <td>kaq0</td>\n",
       "      <td>0.420825</td>\n",
       "      <td>0.018418</td>\n",
       "      <td>4.37671</td>\n",
       "      <td>0</td>\n",
       "      <td>inf</td>\n",
       "      <td>10</td>\n",
       "      <td>[0.4208253798974495]</td>\n",
       "    </tr>\n",
       "    <tr>\n",
       "      <td>Saq0</td>\n",
       "      <td>1.70282e-05</td>\n",
       "      <td>0.000005</td>\n",
       "      <td>31.2075</td>\n",
       "      <td>-inf</td>\n",
       "      <td>inf</td>\n",
       "      <td>0.0001</td>\n",
       "      <td>[1.702822495188348e-05]</td>\n",
       "    </tr>\n",
       "  </tbody>\n",
       "</table>\n",
       "</div>"
      ],
      "text/plain": [
       "          optimal       std perc_std pmin  pmax initial  \\\n",
       "kaq0     0.420825  0.018418  4.37671    0   inf      10   \n",
       "Saq0  1.70282e-05  0.000005  31.2075 -inf   inf  0.0001   \n",
       "\n",
       "                       parray  \n",
       "kaq0     [0.4208253798974495]  \n",
       "Saq0  [1.702822495188348e-05]  "
      ]
     },
     "metadata": {},
     "output_type": "display_data"
    },
    {
     "name": "stdout",
     "output_type": "stream",
     "text": [
      "rmse: 0.004409577277491564\n"
     ]
    }
   ],
   "source": [
    "display(ca.parameters)\n",
    "print('rmse:', ca.rmse())"
   ]
  },
  {
   "cell_type": "code",
   "execution_count": 7,
   "metadata": {},
   "outputs": [
    {
     "data": {
      "image/png": "[encoded data removed]",
      "text/plain": [
       "<Figure size 576x360 with 1 Axes>"
      ]
     },
     "metadata": {
      "needs_background": "light"
     },
     "output_type": "display_data"
    }
   ],
   "source": [
    "hm = ml.head(0, 0, t)\n",
    "plt.figure(figsize=(8, 5))\n",
    "plt.semilogx(t, h, '.', label='obs')\n",
    "plt.semilogx(t, hm[0], label='ttim')\n",
    "plt.xlabel('times(d)')\n",
    "plt.ylabel('displacement(m)')\n",
    "plt.legend();"
   ]
  },
  {
   "cell_type": "markdown",
   "metadata": {},
   "source": [
    "Try multilayer model:"
   ]
  },
  {
   "cell_type": "code",
   "execution_count": 8,
   "metadata": {},
   "outputs": [],
   "source": [
    "nlay = 49 #number of layers\n",
    "zlayers = np.linspace(zt, zb, nlay + 1) #elevation of each layer\n",
    "Saq = 1e-4 * np.ones(nlay)"
   ]
  },
  {
   "cell_type": "code",
   "execution_count": 9,
   "metadata": {},
   "outputs": [
    {
     "name": "stdout",
     "output_type": "stream",
     "text": [
      "self.neq  49\n",
      "solution complete\n"
     ]
    }
   ],
   "source": [
    "ml_1 = Model3D(kaq=10, z=zlayers, Saq=Saq, tmin=1e-6, tmax=1e-3, phreatictop=True)\n",
    "w_1 = Well(ml_1, xw=0, yw=0, rw=rw, rc=rc, tsandQ=[(0, -Q)], layers=range(nlay), wbstype='slug')\n",
    "ml_1.solve()"
   ]
  },
  {
   "cell_type": "code",
   "execution_count": 10,
   "metadata": {},
   "outputs": [
    {
     "name": "stdout",
     "output_type": "stream",
     "text": [
      "................................\n",
      "Fit succeeded.\n",
      "[[Fit Statistics]]\n",
      "    # fitting method   = leastsq\n",
      "    # function evals   = 29\n",
      "    # data points      = 1078\n",
      "    # variables        = 2\n",
      "    chi-square         = 0.02094373\n",
      "    reduced chi-square = 1.9464e-05\n",
      "    Akaike info crit   = -11690.9837\n",
      "    Bayesian info crit = -11681.0180\n",
      "[[Variables]]\n",
      "    kaq0_48:  0.42040768 +/- 0.00252667 (0.60%) (init = 10)\n",
      "    Saq0_48:  1.7362e-05 +/- 7.4494e-07 (4.29%) (init = 0.0001)\n",
      "[[Correlations]] (unreported correlations are < 0.100)\n",
      "    C(kaq0_48, Saq0_48) = -0.986\n"
     ]
    }
   ],
   "source": [
    "ca_1 = Calibrate(ml_1)\n",
    "ca_1.set_parameter(name='kaq0_48', initial=10, pmin=0)\n",
    "ca_1.set_parameter(name='Saq0_48', initial=1e-4)\n",
    "ca_1.series(name='obs', x=0, y=0, layer=range(nlay), t=t, h=h)\n",
    "ca_1.fit(report=True)"
   ]
  },
  {
   "cell_type": "code",
   "execution_count": 11,
   "metadata": {},
   "outputs": [
    {
     "data": {
      "text/html": [
       "<div>\n",
       "<style scoped>\n",
       "    .dataframe tbody tr th:only-of-type {\n",
       "        vertical-align: middle;\n",
       "    }\n",
       "\n",
       "    .dataframe tbody tr th {\n",
       "        vertical-align: top;\n",
       "    }\n",
       "\n",
       "    .dataframe thead th {\n",
       "        text-align: right;\n",
       "    }\n",
       "</style>\n",
       "<table border=\"1\" class=\"dataframe\">\n",
       "  <thead>\n",
       "    <tr style=\"text-align: right;\">\n",
       "      <th></th>\n",
       "      <th>optimal</th>\n",
       "      <th>std</th>\n",
       "      <th>perc_std</th>\n",
       "      <th>pmin</th>\n",
       "      <th>pmax</th>\n",
       "      <th>initial</th>\n",
       "      <th>parray</th>\n",
       "    </tr>\n",
       "  </thead>\n",
       "  <tbody>\n",
       "    <tr>\n",
       "      <td>kaq0_48</td>\n",
       "      <td>0.420408</td>\n",
       "      <td>2.526675e-03</td>\n",
       "      <td>0.601006</td>\n",
       "      <td>0</td>\n",
       "      <td>inf</td>\n",
       "      <td>10</td>\n",
       "      <td>[0.4204076783911592, 0.4204076783911592, 0.420...</td>\n",
       "    </tr>\n",
       "    <tr>\n",
       "      <td>Saq0_48</td>\n",
       "      <td>1.73621e-05</td>\n",
       "      <td>7.449361e-07</td>\n",
       "      <td>4.29058</td>\n",
       "      <td>-inf</td>\n",
       "      <td>inf</td>\n",
       "      <td>0.0001</td>\n",
       "      <td>[1.7362144857462076e-05, 1.7362144857462076e-0...</td>\n",
       "    </tr>\n",
       "  </tbody>\n",
       "</table>\n",
       "</div>"
      ],
      "text/plain": [
       "             optimal           std  perc_std pmin  pmax initial  \\\n",
       "kaq0_48     0.420408  2.526675e-03  0.601006    0   inf      10   \n",
       "Saq0_48  1.73621e-05  7.449361e-07   4.29058 -inf   inf  0.0001   \n",
       "\n",
       "                                                    parray  \n",
       "kaq0_48  [0.4204076783911592, 0.4204076783911592, 0.420...  \n",
       "Saq0_48  [1.7362144857462076e-05, 1.7362144857462076e-0...  "
      ]
     },
     "metadata": {},
     "output_type": "display_data"
    },
    {
     "name": "stdout",
     "output_type": "stream",
     "text": [
      "RMSE: 0.0044077564143741275\n"
     ]
    }
   ],
   "source": [
    "display(ca_1.parameters)\n",
    "print('RMSE:', ca_1.rmse())"
   ]
  },
  {
   "cell_type": "markdown",
   "metadata": {},
   "source": [
    "Simulate test site with multilayer model does not improve the performance much."
   ]
  },
  {
   "cell_type": "code",
   "execution_count": 12,
   "metadata": {},
   "outputs": [
    {
     "data": {
      "image/png": "[encoded data removed]",
      "text/plain": [
       "<Figure size 576x360 with 1 Axes>"
      ]
     },
     "metadata": {
      "needs_background": "light"
     },
     "output_type": "display_data"
    }
   ],
   "source": [
    "hm_1 = ml_1.head(0, 0, t)\n",
    "plt.figure(figsize=(8, 5))\n",
    "plt.semilogx(t, h, '.', label='obs')\n",
    "plt.semilogx(t, hm_1[0], label='ttim')\n",
    "plt.xlabel('times(d)')\n",
    "plt.ylabel('displacement(m)')\n",
    "plt.legend();"
   ]
  },
  {
   "cell_type": "markdown",
   "metadata": {},
   "source": [
    "Try if well screen resistance has an effect:"
   ]
  },
  {
   "cell_type": "code",
   "execution_count": 13,
   "metadata": {},
   "outputs": [
    {
     "name": "stdout",
     "output_type": "stream",
     "text": [
      "self.neq  49\n",
      "solution complete\n"
     ]
    }
   ],
   "source": [
    "ml_2 = Model3D(kaq=10, z=zlayers, Saq=Saq, tmin=1e-6, tmax=1e-3, phreatictop=True)\n",
    "w_2 = Well(ml_2, xw=0, yw=0, rw=rw, rc=rc, res=0.1, tsandQ=[(0, -Q)], \\\n",
    "           layers=range(nlay), wbstype='slug')\n",
    "ml_2.solve()"
   ]
  },
  {
   "cell_type": "code",
   "execution_count": 14,
   "metadata": {},
   "outputs": [
    {
     "name": "stdout",
     "output_type": "stream",
     "text": [
      "................................................................................................................................................................................\n",
      "Fit succeeded.\n",
      "[[Fit Statistics]]\n",
      "    # fitting method   = leastsq\n",
      "    # function evals   = 173\n",
      "    # data points      = 1078\n",
      "    # variables        = 3\n",
      "    chi-square         = 0.19769058\n",
      "    reduced chi-square = 1.8390e-04\n",
      "    Akaike info crit   = -9269.02034\n",
      "    Bayesian info crit = -9254.07175\n",
      "[[Variables]]\n",
      "    kaq0_48:  1.46245727 +/- 0.00987825 (0.68%) (init = 10)\n",
      "    Saq0_48:  1.0961e-13 +/- 1.8626e-14 (16.99%) (init = 0.0001)\n",
      "    res:      0.02337981 +/- 0.00160953 (6.88%) (init = 0)\n",
      "[[Correlations]] (unreported correlations are < 0.100)\n",
      "    C(kaq0_48, Saq0_48) = -0.910\n",
      "    C(Saq0_48, res)     = -0.184\n",
      "    C(kaq0_48, res)     =  0.121\n"
     ]
    }
   ],
   "source": [
    "ca_2 = Calibrate(ml_2)\n",
    "ca_2.set_parameter(name='kaq0_48', initial=10, pmin=0)\n",
    "ca_2.set_parameter(name='Saq0_48', initial=1e-4)\n",
    "ca_2.set_parameter_by_reference(name='res', parameter=w_2.res, initial=0)\n",
    "ca_2.series(name='obs', x=0, y=0, layer=range(nlay), t=t, h=h)\n",
    "ca_2.fit(report=True)"
   ]
  },
  {
   "cell_type": "code",
   "execution_count": 15,
   "metadata": {},
   "outputs": [
    {
     "data": {
      "text/html": [
       "<div>\n",
       "<style scoped>\n",
       "    .dataframe tbody tr th:only-of-type {\n",
       "        vertical-align: middle;\n",
       "    }\n",
       "\n",
       "    .dataframe tbody tr th {\n",
       "        vertical-align: top;\n",
       "    }\n",
       "\n",
       "    .dataframe thead th {\n",
       "        text-align: right;\n",
       "    }\n",
       "</style>\n",
       "<table border=\"1\" class=\"dataframe\">\n",
       "  <thead>\n",
       "    <tr style=\"text-align: right;\">\n",
       "      <th></th>\n",
       "      <th>optimal</th>\n",
       "      <th>std</th>\n",
       "      <th>perc_std</th>\n",
       "      <th>pmin</th>\n",
       "      <th>pmax</th>\n",
       "      <th>initial</th>\n",
       "      <th>parray</th>\n",
       "    </tr>\n",
       "  </thead>\n",
       "  <tbody>\n",
       "    <tr>\n",
       "      <td>kaq0_48</td>\n",
       "      <td>1.46246</td>\n",
       "      <td>9.878247e-03</td>\n",
       "      <td>0.675455</td>\n",
       "      <td>0</td>\n",
       "      <td>inf</td>\n",
       "      <td>10</td>\n",
       "      <td>[1.4624572716235917, 1.4624572716235917, 1.462...</td>\n",
       "    </tr>\n",
       "    <tr>\n",
       "      <td>Saq0_48</td>\n",
       "      <td>1.09612e-13</td>\n",
       "      <td>1.862630e-14</td>\n",
       "      <td>16.993</td>\n",
       "      <td>-inf</td>\n",
       "      <td>inf</td>\n",
       "      <td>0.0001</td>\n",
       "      <td>[1.0961177230839196e-13, 1.0961177230839196e-1...</td>\n",
       "    </tr>\n",
       "    <tr>\n",
       "      <td>res</td>\n",
       "      <td>0.0233798</td>\n",
       "      <td>1.609533e-03</td>\n",
       "      <td>6.88429</td>\n",
       "      <td>-inf</td>\n",
       "      <td>inf</td>\n",
       "      <td>0</td>\n",
       "      <td>[0.02337980518372843]</td>\n",
       "    </tr>\n",
       "  </tbody>\n",
       "</table>\n",
       "</div>"
      ],
      "text/plain": [
       "             optimal           std  perc_std pmin  pmax initial  \\\n",
       "kaq0_48      1.46246  9.878247e-03  0.675455    0   inf      10   \n",
       "Saq0_48  1.09612e-13  1.862630e-14    16.993 -inf   inf  0.0001   \n",
       "res        0.0233798  1.609533e-03   6.88429 -inf   inf       0   \n",
       "\n",
       "                                                    parray  \n",
       "kaq0_48  [1.4624572716235917, 1.4624572716235917, 1.462...  \n",
       "Saq0_48  [1.0961177230839196e-13, 1.0961177230839196e-1...  \n",
       "res                                  [0.02337980518372843]  "
      ]
     },
     "metadata": {},
     "output_type": "display_data"
    },
    {
     "name": "stdout",
     "output_type": "stream",
     "text": [
      "RMSE: 0.013542024721293677\n"
     ]
    }
   ],
   "source": [
    "display(ca_2.parameters)\n",
    "print('RMSE:', ca_2.rmse())"
   ]
  },
  {
   "cell_type": "code",
   "execution_count": 16,
   "metadata": {},
   "outputs": [
    {
     "data": {
      "image/png": "[encoded data removed]",
      "text/plain": [
       "<Figure size 576x360 with 1 Axes>"
      ]
     },
     "metadata": {
      "needs_background": "light"
     },
     "output_type": "display_data"
    }
   ],
   "source": [
    "hm_2 = ml_2.head(0, 0, t)\n",
    "plt.figure(figsize=(8, 5))\n",
    "plt.semilogx(t, h, '.', label='obs')\n",
    "plt.semilogx(t, hm_2[0], label='ttim')\n",
    "plt.xlabel('times(d)')\n",
    "plt.ylabel('displacement(m)')\n",
    "plt.legend();"
   ]
  },
  {
   "cell_type": "markdown",
   "metadata": {},
   "source": [
    "Adding resistance of well screen does not improve the performance. Thus, res should not be applied in the conceptual model."
   ]
  },
  {
   "cell_type": "markdown",
   "metadata": {},
   "source": [
    "## Summary of values presented by MLU"
   ]
  },
  {
   "cell_type": "code",
   "execution_count": 17,
   "metadata": {},
   "outputs": [
    {
     "data": {
      "text/html": [
       "<div>\n",
       "<style scoped>\n",
       "    .dataframe tbody tr th:only-of-type {\n",
       "        vertical-align: middle;\n",
       "    }\n",
       "\n",
       "    .dataframe tbody tr th {\n",
       "        vertical-align: top;\n",
       "    }\n",
       "\n",
       "    .dataframe thead th {\n",
       "        text-align: right;\n",
       "    }\n",
       "</style>\n",
       "<table border=\"1\" class=\"dataframe\">\n",
       "  <thead>\n",
       "    <tr style=\"text-align: right;\">\n",
       "      <th></th>\n",
       "      <th>k [m/d]</th>\n",
       "      <th>Ss [1/m]</th>\n",
       "      <th>RMSE</th>\n",
       "    </tr>\n",
       "  </thead>\n",
       "  <tbody>\n",
       "    <tr>\n",
       "      <td>MLU</td>\n",
       "      <td>0.4133</td>\n",
       "      <td>1.9388e-05</td>\n",
       "      <td>0.004264</td>\n",
       "    </tr>\n",
       "    <tr>\n",
       "      <td>ttim</td>\n",
       "      <td>0.420825</td>\n",
       "      <td>1.70282e-05</td>\n",
       "      <td>0.004410</td>\n",
       "    </tr>\n",
       "    <tr>\n",
       "      <td>ttim-multilayer</td>\n",
       "      <td>0.420408</td>\n",
       "      <td>1.73621e-05</td>\n",
       "      <td>0.004408</td>\n",
       "    </tr>\n",
       "    <tr>\n",
       "      <td>ttim-res</td>\n",
       "      <td>1.46246</td>\n",
       "      <td>1.09612e-13</td>\n",
       "      <td>0.013542</td>\n",
       "    </tr>\n",
       "  </tbody>\n",
       "</table>\n",
       "</div>"
      ],
      "text/plain": [
       "                  k [m/d]     Ss [1/m]      RMSE\n",
       "MLU                0.4133   1.9388e-05  0.004264\n",
       "ttim             0.420825  1.70282e-05  0.004410\n",
       "ttim-multilayer  0.420408  1.73621e-05  0.004408\n",
       "ttim-res          1.46246  1.09612e-13  0.013542"
      ]
     },
     "execution_count": 17,
     "metadata": {},
     "output_type": "execute_result"
    }
   ],
   "source": [
    "t = pd.DataFrame(columns=['k [m/d]', 'Ss [1/m]'], \\\n",
    "                 index = ['MLU', 'ttim', 'ttim-multilayer', 'ttim-res'])\n",
    "tr = np.delete(ca_2.parameters['optimal'].values, 2)\n",
    "t.loc['MLU'] = [0.4133, 1.9388E-05]\n",
    "t.loc['ttim'] = ca.parameters['optimal'].values\n",
    "t.loc['ttim-multilayer'] = ca_1.parameters['optimal'].values\n",
    "t.loc['ttim-res'] = tr\n",
    "t['RMSE'] = [0.004264, ca.rmse(), ca_1.rmse(), ca_2.rmse()]\n",
    "t"
   ]
  },
  {
   "cell_type": "code",
   "execution_count": null,
   "metadata": {},
   "outputs": [],
   "source": []
  }
 ],
 "metadata": {
  "kernelspec": {
   "display_name": "Python 3",
   "language": "python",
   "name": "python3"
  },
  "language_info": {
   "codemirror_mode": {
    "name": "ipython",
    "version": 3
   },
   "file_extension": ".py",
   "mimetype": "text/x-python",
   "name": "python",
   "nbconvert_exporter": "python",
   "pygments_lexer": "ipython3",
   "version": "3.7.4"
  }
 },
 "nbformat": 4,
 "nbformat_minor": 2
}
