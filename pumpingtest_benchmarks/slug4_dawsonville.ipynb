{
 "cells": [
  {
   "cell_type": "markdown",
   "metadata": {},
   "source": [
    "# 4. Slug test for confined aquifer - Dawsonville Example\n",
    "**This test is taken from example of MLU.**"
   ]
  },
  {
   "cell_type": "markdown",
   "metadata": {},
   "source": [
    "## Introduction and Conceptual Model\n",
    "\n",
    "In this notebook, we reproduce the work of Yang (2020) to check the TTim performance in analysing slug-test. We later compare the solution in TTim with the MLU model (Carlson & Randall, 2012).\n",
    "\n",
    "This Slug Test was reported in Cooper Jr et al. (1967) and it was performed in Dawsonville, Georgia, USA. A fully penetrated well (Ln-2) is screened in a cofined aquifer, located between depths 24 and 122 (98 m thick).\n",
    "\n",
    "The volume of the slug is 10.16 liters. Head change has been recorded at the slug well. Both the well radius and the casing radius of the slug well is 0.076 m.\n",
    "\n",
    "The conceptual model can be seen in the figure below:"
   ]
  },
  {
   "cell_type": "code",
   "execution_count": 29,
   "metadata": {
    "scrolled": false
   },
   "outputs": [
    {
     "data": {
      "image/png": "[encoded data removed]",
      "text/plain": [
       "<Figure size 1008x648 with 1 Axes>"
      ]
     },
     "metadata": {
      "needs_background": "light"
     },
     "output_type": "display_data"
    }
   ],
   "source": [
    "import matplotlib.pyplot as plt\n",
    "import numpy as np\n",
    "\n",
    "##Now printing the conceptual model figure:\n",
    "\n",
    "fig = plt.figure(figsize=(14, 9))\n",
    "ax = fig.add_subplot(1,1,1)\n",
    "#sky\n",
    "sky = plt.Rectangle((-5,0), width = 15, height = 10, fc = 'b', zorder=0, alpha=0.1)\n",
    "ax.add_patch(sky)\n",
    "\n",
    "#Aquifer:\n",
    "ground = plt.Rectangle((-5,-122), width = 15, height = 98, fc = np.array([209,179,127])/255, zorder=0, alpha=0.9)\n",
    "ax.add_patch(ground)\n",
    "\n",
    "well = plt.Rectangle((-0.5,-(122)), width = 1, height = 122, fc = np.array([200,200,200])/255, zorder=1)\n",
    "ax.add_patch(well)\n",
    "\n",
    "#Confining Unit\n",
    "conf = plt.Rectangle((-5,-24), width = 15, height = 24, fc = np.array([100,100,100])/255, zorder=0, alpha=0.9)\n",
    "ax.add_patch(conf)\n",
    "\n",
    "#Wellhead\n",
    "wellhead = plt.Rectangle((-0.6,0),width = 1.2, height = 4, fc = np.array([200,200,200])/255, zorder=2, ec='k')\n",
    "ax.add_patch(wellhead)\n",
    "\n",
    "#Screen for the well:\n",
    "screen = plt.Rectangle((-0.5,-(122)), width = 1, height = 98, fc = np.array([200,200,200])/255, alpha=1, zorder = 2, ec = \"k\", ls = '--')\n",
    "screen.set_linewidth(2)\n",
    "ax.add_patch(screen)\n",
    "#pumping_arrow = plt.Arrow(x = 1,y = 1.5, dx = 0, dy = 1, color = \"#00035b\")\n",
    "#ax.add_patch(pumping_arrow)\n",
    "ax.text(x = 1, y = 2.5, s = r'$ Q = 10.16 L $', fontsize = 'large' )\n",
    "\n",
    "\n",
    "#last line\n",
    "line = plt.Line2D(xdata= [-200,1200], ydata = [0,0], color = \"k\")\n",
    "ax.add_line(line)\n",
    "\n",
    "#Water table\n",
    "#wt = plt.Line2D(xdata= [-200,1200], ydata = [0,0], color = \"b\")\n",
    "#ax.add_line(wt)\n",
    "\n",
    "ax.text(0.6,-35, s = \"Ln-2\", fontsize = 'large')\n",
    "#ax.text(6.9, -0.5, \"Ln-3\", fontsize = 'large')\n",
    "ax.set_xlim([-5,10])\n",
    "ax.set_ylim([-122,10])\n",
    "ax.set_xlabel('Distance [m]')\n",
    "ax.set_ylabel('Relative height [m]')\n",
    "ax.set_title('Conceptual Model - Dawsonville Example');"
   ]
  },
  {
   "cell_type": "markdown",
   "metadata": {},
   "source": [
    "## Step 1. Load required libraries"
   ]
  },
  {
   "cell_type": "code",
   "execution_count": 1,
   "metadata": {},
   "outputs": [],
   "source": [
    "from ttim import *\n",
    "import numpy as np\n",
    "import matplotlib.pyplot as plt\n",
    "import pandas as pd"
   ]
  },
  {
   "cell_type": "markdown",
   "metadata": {},
   "source": [
    "## Step 2. Set basic parameters"
   ]
  },
  {
   "cell_type": "code",
   "execution_count": 3,
   "metadata": {},
   "outputs": [],
   "source": [
    "b = 98 #aquifer thickness\n",
    "zt = -24\n",
    "zb = zt - b\n",
    "rw = 0.076 #well radius of Ln-2 Well\n",
    "rc = 0.076 #casing radius of Ln-2 Well\n",
    "Q = 0.01016 #slug volume in m^3"
   ]
  },
  {
   "cell_type": "markdown",
   "metadata": {},
   "source": [
    "## Step 3. Load data\n",
    "\n",
    "Data for the Dawsonville test is available in a text file, where the first column is the time data, in days and in the second column is the head displacement in meters"
   ]
  },
  {
   "cell_type": "code",
   "execution_count": 4,
   "metadata": {},
   "outputs": [],
   "source": [
    "data = np.loadtxt('data/dawsonville_slug.txt')\n",
    "t = data[:, 0]\n",
    "h = data[:, 1]"
   ]
  },
  {
   "cell_type": "markdown",
   "metadata": {},
   "source": [
    "## Step 4. Create First Model - single layer\n",
    "\n",
    "We begin with a single layer model built in ModelMaq.\n",
    "Details on setting up the model can be seen in: [Confined 1 - Oude Korendijk](confined1_oude_korendijk.ipynb).\n",
    "\n",
    "The slug well is set accordingly. Details on setting up the ```Well``` object can be seen in: [Slug 1 - Pratt County](slug1_pratt_county.ipynb)."
   ]
  },
  {
   "cell_type": "code",
   "execution_count": 5,
   "metadata": {},
   "outputs": [
    {
     "name": "stdout",
     "output_type": "stream",
     "text": [
      "self.neq  1\n",
      "solution complete\n"
     ]
    }
   ],
   "source": [
    "ml = ModelMaq(kaq=10, z=[zt, zb], Saq=1e-4, tmin=1e-6, tmax=1e-3, topboundary='conf')\n",
    "w = Well(ml, xw=0, yw=0, rw=rw, rc=rc, tsandQ=[(0, -Q)], layers=0, wbstype='slug')\n",
    "ml.solve()"
   ]
  },
  {
   "cell_type": "markdown",
   "metadata": {},
   "source": [
    "## Step 5. Model calibration both simultaneous wells\n",
    "\n",
    "\n",
    "The procedures for calibration can be seen in [Unconfined 1 - Vennebulten](unconfined1_vennebulten.ipynb)\n",
    "\n",
    "We are calibrating hydraulic conductivity and specific storage, as in the KGS model (Hyder et al. 1994)."
   ]
  },
  {
   "cell_type": "code",
   "execution_count": 6,
   "metadata": {},
   "outputs": [
    {
     "name": "stdout",
     "output_type": "stream",
     "text": [
      "..........................\n",
      "Fit succeeded.\n",
      "[[Fit Statistics]]\n",
      "    # fitting method   = leastsq\n",
      "    # function evals   = 23\n",
      "    # data points      = 22\n",
      "    # variables        = 2\n",
      "    chi-square         = 4.2778e-04\n",
      "    reduced chi-square = 2.1389e-05\n",
      "    Akaike info crit   = -234.654842\n",
      "    Bayesian info crit = -232.472757\n",
      "[[Variables]]\n",
      "    kaq0:  0.42091976 +/- 0.01836906 (4.36%) (init = 10)\n",
      "    Saq0:  1.6999e-05 +/- 5.2885e-06 (31.11%) (init = 0.0001)\n",
      "[[Correlations]] (unreported correlations are < 0.100)\n",
      "    C(kaq0, Saq0) = -0.985\n"
     ]
    }
   ],
   "source": [
    "#unknown parameters: kay, Saq\n",
    "ca = Calibrate(ml)\n",
    "ca.set_parameter(name='kaq0', initial=10, pmin=0)\n",
    "ca.set_parameter(name='Saq0', initial=1e-4)\n",
    "ca.series(name='obs', x=0, y=0, layer=0, t=t, h=h)\n",
    "ca.fit(report=True)"
   ]
  },
  {
   "cell_type": "code",
   "execution_count": 7,
   "metadata": {},
   "outputs": [
    {
     "data": {
      "text/html": [
       "<div>\n",
       "<style scoped>\n",
       "    .dataframe tbody tr th:only-of-type {\n",
       "        vertical-align: middle;\n",
       "    }\n",
       "\n",
       "    .dataframe tbody tr th {\n",
       "        vertical-align: top;\n",
       "    }\n",
       "\n",
       "    .dataframe thead th {\n",
       "        text-align: right;\n",
       "    }\n",
       "</style>\n",
       "<table border=\"1\" class=\"dataframe\">\n",
       "  <thead>\n",
       "    <tr style=\"text-align: right;\">\n",
       "      <th></th>\n",
       "      <th>optimal</th>\n",
       "      <th>std</th>\n",
       "      <th>perc_std</th>\n",
       "      <th>pmin</th>\n",
       "      <th>pmax</th>\n",
       "      <th>initial</th>\n",
       "      <th>parray</th>\n",
       "    </tr>\n",
       "  </thead>\n",
       "  <tbody>\n",
       "    <tr>\n",
       "      <th>kaq0</th>\n",
       "      <td>0.42092</td>\n",
       "      <td>0.018369</td>\n",
       "      <td>4.364028</td>\n",
       "      <td>0</td>\n",
       "      <td>inf</td>\n",
       "      <td>10</td>\n",
       "      <td>[0.42091976337885084]</td>\n",
       "    </tr>\n",
       "    <tr>\n",
       "      <th>Saq0</th>\n",
       "      <td>0.000017</td>\n",
       "      <td>0.000005</td>\n",
       "      <td>31.111348</td>\n",
       "      <td>-inf</td>\n",
       "      <td>inf</td>\n",
       "      <td>0.0001</td>\n",
       "      <td>[1.6998748908300512e-05]</td>\n",
       "    </tr>\n",
       "  </tbody>\n",
       "</table>\n",
       "</div>"
      ],
      "text/plain": [
       "       optimal       std   perc_std pmin  pmax initial  \\\n",
       "kaq0   0.42092  0.018369   4.364028    0   inf      10   \n",
       "Saq0  0.000017  0.000005  31.111348 -inf   inf  0.0001   \n",
       "\n",
       "                        parray  \n",
       "kaq0     [0.42091976337885084]  \n",
       "Saq0  [1.6998748908300512e-05]  "
      ]
     },
     "metadata": {},
     "output_type": "display_data"
    },
    {
     "name": "stdout",
     "output_type": "stream",
     "text": [
      "rmse: 0.00440958948051201\n"
     ]
    }
   ],
   "source": [
    "display(ca.parameters)\n",
    "print('rmse:', ca.rmse())"
   ]
  },
  {
   "cell_type": "code",
   "execution_count": 20,
   "metadata": {},
   "outputs": [
    {
     "data": {
      "image/png": "[encoded data removed]",
      "text/plain": [
       "<Figure size 576x360 with 1 Axes>"
      ]
     },
     "metadata": {
      "needs_background": "light"
     },
     "output_type": "display_data"
    }
   ],
   "source": [
    "hm = ml.head(0, 0, t)\n",
    "plt.figure(figsize=(8, 5))\n",
    "plt.semilogx(t, h, '.', label='obs')\n",
    "plt.semilogx(t, hm[0], label='ttim')\n",
    "plt.xlabel('time [d]')\n",
    "plt.ylabel('displacement [m]')\n",
    "plt.title('Model Results - Single-layer model')\n",
    "plt.legend();"
   ]
  },
  {
   "cell_type": "markdown",
   "metadata": {},
   "source": [
    "In general the single layer seem to be performing well, with a good visual fit between observations and the model."
   ]
  },
  {
   "cell_type": "markdown",
   "metadata": {},
   "source": [
    "## Step 6. Create Second Model - multi-layer model\n",
    "\n",
    "To investigate whether we can we improve the model perfomance if we account for the vertical component of flow, we will create a multi-layer model. For this we divide the previous aquifer in 49 layers (2 m thick each)."
   ]
  },
  {
   "cell_type": "code",
   "execution_count": 9,
   "metadata": {},
   "outputs": [],
   "source": [
    "nlay = 49 #number of layers\n",
    "zlayers = np.linspace(zt, zb, nlay + 1) #elevation of each layer\n",
    "Saq = 1e-4 * np.ones(nlay)"
   ]
  },
  {
   "cell_type": "markdown",
   "metadata": {},
   "source": [
    "Now we use the ```Model3D``` object to model multi-layer aquifer:\n",
    "\n",
    "Details on how to set it up can be seen in the notebook: [Unconfined - 1 - Vennebulten](unconfined1_vennebulten.ipynb)"
   ]
  },
  {
   "cell_type": "code",
   "execution_count": 10,
   "metadata": {},
   "outputs": [
    {
     "name": "stdout",
     "output_type": "stream",
     "text": [
      "self.neq  49\n",
      "solution complete\n"
     ]
    }
   ],
   "source": [
    "ml_1 = Model3D(kaq=10, z=zlayers, Saq=Saq, tmin=1e-6, tmax=1e-3, phreatictop=False)\n",
    "w_1 = Well(ml_1, xw=0, yw=0, rw=rw, rc=rc, tsandQ=[(0, -Q)], layers=range(nlay), \\\n",
    "           wbstype='slug')\n",
    "ml_1.solve()"
   ]
  },
  {
   "cell_type": "markdown",
   "metadata": {},
   "source": [
    "## Step 7. Calibration of multi-layer model"
   ]
  },
  {
   "cell_type": "code",
   "execution_count": 11,
   "metadata": {},
   "outputs": [
    {
     "name": "stdout",
     "output_type": "stream",
     "text": [
      "..................................\n",
      "Fit succeeded.\n",
      "[[Fit Statistics]]\n",
      "    # fitting method   = leastsq\n",
      "    # function evals   = 31\n",
      "    # data points      = 1078\n",
      "    # variables        = 2\n",
      "    chi-square         = 0.02096018\n",
      "    reduced chi-square = 1.9480e-05\n",
      "    Akaike info crit   = -11690.1372\n",
      "    Bayesian info crit = -11680.1715\n",
      "[[Variables]]\n",
      "    kaq0_48:  0.42116922 +/- 0.00253537 (0.60%) (init = 10)\n",
      "    Saq0_48:  1.6914e-05 +/- 7.2774e-07 (4.30%) (init = 0.0001)\n",
      "[[Correlations]] (unreported correlations are < 0.100)\n",
      "    C(kaq0_48, Saq0_48) = -0.986\n"
     ]
    }
   ],
   "source": [
    "ca_1 = Calibrate(ml_1)\n",
    "ca_1.set_parameter(name='kaq0_48', initial=10, pmin=0)\n",
    "ca_1.set_parameter(name='Saq0_48', initial=1e-4)\n",
    "ca_1.series(name='obs', x=0, y=0, layer=range(nlay), t=t, h=h)\n",
    "ca_1.fit(report=True)"
   ]
  },
  {
   "cell_type": "code",
   "execution_count": 12,
   "metadata": {},
   "outputs": [
    {
     "data": {
      "text/html": [
       "<div>\n",
       "<style scoped>\n",
       "    .dataframe tbody tr th:only-of-type {\n",
       "        vertical-align: middle;\n",
       "    }\n",
       "\n",
       "    .dataframe tbody tr th {\n",
       "        vertical-align: top;\n",
       "    }\n",
       "\n",
       "    .dataframe thead th {\n",
       "        text-align: right;\n",
       "    }\n",
       "</style>\n",
       "<table border=\"1\" class=\"dataframe\">\n",
       "  <thead>\n",
       "    <tr style=\"text-align: right;\">\n",
       "      <th></th>\n",
       "      <th>optimal</th>\n",
       "      <th>std</th>\n",
       "      <th>perc_std</th>\n",
       "      <th>pmin</th>\n",
       "      <th>pmax</th>\n",
       "      <th>initial</th>\n",
       "      <th>parray</th>\n",
       "    </tr>\n",
       "  </thead>\n",
       "  <tbody>\n",
       "    <tr>\n",
       "      <th>kaq0_48</th>\n",
       "      <td>0.421169</td>\n",
       "      <td>2.535373e-03</td>\n",
       "      <td>0.601984</td>\n",
       "      <td>0</td>\n",
       "      <td>inf</td>\n",
       "      <td>10</td>\n",
       "      <td>[0.4211692228925725, 0.4211692228925725, 0.421...</td>\n",
       "    </tr>\n",
       "    <tr>\n",
       "      <th>Saq0_48</th>\n",
       "      <td>0.000017</td>\n",
       "      <td>7.277392e-07</td>\n",
       "      <td>4.302626</td>\n",
       "      <td>-inf</td>\n",
       "      <td>inf</td>\n",
       "      <td>0.0001</td>\n",
       "      <td>[1.6913836498405746e-05, 1.6913836498405746e-0...</td>\n",
       "    </tr>\n",
       "  </tbody>\n",
       "</table>\n",
       "</div>"
      ],
      "text/plain": [
       "          optimal           std  perc_std pmin  pmax initial  \\\n",
       "kaq0_48  0.421169  2.535373e-03  0.601984    0   inf      10   \n",
       "Saq0_48  0.000017  7.277392e-07  4.302626 -inf   inf  0.0001   \n",
       "\n",
       "                                                    parray  \n",
       "kaq0_48  [0.4211692228925725, 0.4211692228925725, 0.421...  \n",
       "Saq0_48  [1.6913836498405746e-05, 1.6913836498405746e-0...  "
      ]
     },
     "metadata": {},
     "output_type": "display_data"
    },
    {
     "name": "stdout",
     "output_type": "stream",
     "text": [
      "RMSE: 0.004409487360299074\n"
     ]
    }
   ],
   "source": [
    "display(ca_1.parameters)\n",
    "print('RMSE:', ca_1.rmse())"
   ]
  },
  {
   "cell_type": "markdown",
   "metadata": {},
   "source": [
    "Simulate test site with multilayer model does not improve the performance much."
   ]
  },
  {
   "cell_type": "code",
   "execution_count": 19,
   "metadata": {},
   "outputs": [
    {
     "data": {
      "image/png": "[encoded data removed]",
      "text/plain": [
       "<Figure size 576x360 with 1 Axes>"
      ]
     },
     "metadata": {
      "needs_background": "light"
     },
     "output_type": "display_data"
    }
   ],
   "source": [
    "hm_1 = ml_1.head(0, 0, t)\n",
    "plt.figure(figsize=(8, 5))\n",
    "plt.semilogx(t, h, '.', label='obs')\n",
    "plt.semilogx(t, hm_1[0], label='ttim')\n",
    "plt.xlabel('time [d]')\n",
    "plt.ylabel('displacement [m]')\n",
    "plt.title('Model Results - Multi-layer model')\n",
    "plt.legend();"
   ]
  },
  {
   "cell_type": "markdown",
   "metadata": {},
   "source": [
    "## Step 8. Final Model calibration with well skin resistance\n",
    "\n",
    "Now we test if the skin resistance of the well has an impact in model calibration. For this we add the ```res``` parameter in the calibration settings. We use the same multi-layer model."
   ]
  },
  {
   "cell_type": "code",
   "execution_count": 15,
   "metadata": {},
   "outputs": [
    {
     "name": "stdout",
     "output_type": "stream",
     "text": [
      "........................................................\n",
      "Fit succeeded.\n",
      "[[Fit Statistics]]\n",
      "    # fitting method   = leastsq\n",
      "    # function evals   = 53\n",
      "    # data points      = 1078\n",
      "    # variables        = 3\n",
      "    chi-square         = 0.02097758\n",
      "    reduced chi-square = 1.9514e-05\n",
      "    Akaike info crit   = -11687.2424\n",
      "    Bayesian info crit = -11672.2938\n",
      "[[Variables]]\n",
      "    kaq0_48:  0.41851251 +/- 0.00250628 (0.60%) (init = 10)\n",
      "    Saq0_48:  1.7684e-05 +/- 7.4419e-07 (4.21%) (init = 0.0001)\n",
      "    res:      9.4760e-07 +/- 1.4205e-06 (149.90%) (init = 0.1)\n",
      "[[Correlations]] (unreported correlations are < 0.100)\n",
      "    C(kaq0_48, Saq0_48) = -0.985\n"
     ]
    }
   ],
   "source": [
    "ca_2 = Calibrate(ml_1)\n",
    "ca_2.set_parameter(name='kaq0_48', initial=10, pmin=0)\n",
    "ca_2.set_parameter(name='Saq0_48', initial=1e-4, pmin = 1e-7)\n",
    "ca_2.set_parameter_by_reference(name='res', parameter=w_1.res, initial=0.1, pmin = 0)\n",
    "ca_2.series(name='obs', x=0, y=0, layer=range(nlay), t=t, h=h)\n",
    "ca_2.fit(report=True)"
   ]
  },
  {
   "cell_type": "code",
   "execution_count": 16,
   "metadata": {},
   "outputs": [
    {
     "data": {
      "text/html": [
       "<div>\n",
       "<style scoped>\n",
       "    .dataframe tbody tr th:only-of-type {\n",
       "        vertical-align: middle;\n",
       "    }\n",
       "\n",
       "    .dataframe tbody tr th {\n",
       "        vertical-align: top;\n",
       "    }\n",
       "\n",
       "    .dataframe thead th {\n",
       "        text-align: right;\n",
       "    }\n",
       "</style>\n",
       "<table border=\"1\" class=\"dataframe\">\n",
       "  <thead>\n",
       "    <tr style=\"text-align: right;\">\n",
       "      <th></th>\n",
       "      <th>optimal</th>\n",
       "      <th>std</th>\n",
       "      <th>perc_std</th>\n",
       "      <th>pmin</th>\n",
       "      <th>pmax</th>\n",
       "      <th>initial</th>\n",
       "      <th>parray</th>\n",
       "    </tr>\n",
       "  </thead>\n",
       "  <tbody>\n",
       "    <tr>\n",
       "      <th>kaq0_48</th>\n",
       "      <td>0.418513</td>\n",
       "      <td>2.506279e-03</td>\n",
       "      <td>0.598854</td>\n",
       "      <td>0</td>\n",
       "      <td>inf</td>\n",
       "      <td>10</td>\n",
       "      <td>[0.4185125067146742, 0.4185125067146742, 0.418...</td>\n",
       "    </tr>\n",
       "    <tr>\n",
       "      <th>Saq0_48</th>\n",
       "      <td>0.000018</td>\n",
       "      <td>7.441861e-07</td>\n",
       "      <td>4.208223</td>\n",
       "      <td>0.0</td>\n",
       "      <td>inf</td>\n",
       "      <td>0.0001</td>\n",
       "      <td>[1.7684091569658555e-05, 1.7684091569658555e-0...</td>\n",
       "    </tr>\n",
       "    <tr>\n",
       "      <th>res</th>\n",
       "      <td>0.000001</td>\n",
       "      <td>1.420497e-06</td>\n",
       "      <td>149.90482</td>\n",
       "      <td>0</td>\n",
       "      <td>inf</td>\n",
       "      <td>0.1</td>\n",
       "      <td>[9.47599439138358e-07]</td>\n",
       "    </tr>\n",
       "  </tbody>\n",
       "</table>\n",
       "</div>"
      ],
      "text/plain": [
       "          optimal           std   perc_std pmin  pmax initial  \\\n",
       "kaq0_48  0.418513  2.506279e-03   0.598854    0   inf      10   \n",
       "Saq0_48  0.000018  7.441861e-07   4.208223  0.0   inf  0.0001   \n",
       "res      0.000001  1.420497e-06  149.90482    0   inf     0.1   \n",
       "\n",
       "                                                    parray  \n",
       "kaq0_48  [0.4185125067146742, 0.4185125067146742, 0.418...  \n",
       "Saq0_48  [1.7684091569658555e-05, 1.7684091569658555e-0...  \n",
       "res                                 [9.47599439138358e-07]  "
      ]
     },
     "metadata": {},
     "output_type": "display_data"
    },
    {
     "name": "stdout",
     "output_type": "stream",
     "text": [
      "RMSE: 0.004411317725690344\n"
     ]
    }
   ],
   "source": [
    "display(ca_2.parameters)\n",
    "print('RMSE:', ca_2.rmse())"
   ]
  },
  {
   "cell_type": "code",
   "execution_count": 18,
   "metadata": {},
   "outputs": [
    {
     "data": {
      "image/png": "[encoded data removed]",
      "text/plain": [
       "<Figure size 576x360 with 1 Axes>"
      ]
     },
     "metadata": {
      "needs_background": "light"
     },
     "output_type": "display_data"
    }
   ],
   "source": [
    "hm_2 = ml_1.head(0, 0, t)\n",
    "plt.figure(figsize=(8, 5))\n",
    "plt.semilogx(t, h, '.', label='obs')\n",
    "plt.semilogx(t, hm_2[0], label='ttim')\n",
    "plt.xlabel('time [d]')\n",
    "plt.ylabel('displacement [m]')\n",
    "plt.title('Model Results - Multi-layer with res')\n",
    "plt.legend();"
   ]
  },
  {
   "cell_type": "markdown",
   "metadata": {},
   "source": [
    "Adding resistance of well screen does not improve the performance. Thus, res should not be applied in the conceptual model."
   ]
  },
  {
   "cell_type": "markdown",
   "metadata": {},
   "source": [
    "## Step 9. Analysis and comparison of simulated values\n",
    "\n",
    "We now compare the values in TTim and also add the results of the modelling done in MLU by Yang (2020)."
   ]
  },
  {
   "cell_type": "code",
   "execution_count": 21,
   "metadata": {},
   "outputs": [
    {
     "data": {
      "text/html": [
       "<div>\n",
       "<style scoped>\n",
       "    .dataframe tbody tr th:only-of-type {\n",
       "        vertical-align: middle;\n",
       "    }\n",
       "\n",
       "    .dataframe tbody tr th {\n",
       "        vertical-align: top;\n",
       "    }\n",
       "\n",
       "    .dataframe thead th {\n",
       "        text-align: right;\n",
       "    }\n",
       "</style>\n",
       "<table border=\"1\" class=\"dataframe\">\n",
       "  <thead>\n",
       "    <tr style=\"text-align: right;\">\n",
       "      <th></th>\n",
       "      <th>k [m/d]</th>\n",
       "      <th>Ss [1/m]</th>\n",
       "      <th>RMSE</th>\n",
       "    </tr>\n",
       "  </thead>\n",
       "  <tbody>\n",
       "    <tr>\n",
       "      <th>MLU</th>\n",
       "      <td>0.4133</td>\n",
       "      <td>0.000019</td>\n",
       "      <td>0.004264</td>\n",
       "    </tr>\n",
       "    <tr>\n",
       "      <th>ttim</th>\n",
       "      <td>0.42092</td>\n",
       "      <td>0.000017</td>\n",
       "      <td>0.004410</td>\n",
       "    </tr>\n",
       "    <tr>\n",
       "      <th>ttim-multilayer</th>\n",
       "      <td>0.421169</td>\n",
       "      <td>0.000017</td>\n",
       "      <td>0.004410</td>\n",
       "    </tr>\n",
       "    <tr>\n",
       "      <th>ttim-res</th>\n",
       "      <td>0.418513</td>\n",
       "      <td>0.000018</td>\n",
       "      <td>0.004411</td>\n",
       "    </tr>\n",
       "  </tbody>\n",
       "</table>\n",
       "</div>"
      ],
      "text/plain": [
       "                  k [m/d]  Ss [1/m]      RMSE\n",
       "MLU                0.4133  0.000019  0.004264\n",
       "ttim              0.42092  0.000017  0.004410\n",
       "ttim-multilayer  0.421169  0.000017  0.004410\n",
       "ttim-res         0.418513  0.000018  0.004411"
      ]
     },
     "execution_count": 21,
     "metadata": {},
     "output_type": "execute_result"
    }
   ],
   "source": [
    "ta = pd.DataFrame(columns=['k [m/d]', 'Ss [1/m]'], \\\n",
    "                 index = ['MLU', 'ttim', 'ttim-multilayer', 'ttim-res'])\n",
    "tr = np.delete(ca_2.parameters['optimal'].values, 2)\n",
    "ta.loc['MLU'] = [0.4133, 1.9388E-05]\n",
    "ta.loc['ttim'] = ca.parameters['optimal'].values\n",
    "ta.loc['ttim-multilayer'] = ca_1.parameters['optimal'].values\n",
    "ta.loc['ttim-res'] = tr\n",
    "ta['RMSE'] = [0.004264, ca.rmse(), ca_1.rmse(), ca_2.rmse()]\n",
    "ta.style.set_caption('Comparison of parameter values and error under different models')"
   ]
  },
  {
   "cell_type": "markdown",
   "metadata": {},
   "source": [
    "Results are quite similar between all models. The RMSE of MLU is slightly better than the one from TTim. This result indicates that the slug test in fully penetrated confined aquifers can be safely modelled with a one layer model."
   ]
  },
  {
   "cell_type": "markdown",
   "metadata": {},
   "source": [
    "## References\n",
    "\n",
    "* Cooper Jr, H.H., Bredehoeft, J.D., Papadopulos, I.S., 1967. Response of a finite diameter well to an instantaneous charge of water. Water Resources Research 3, 263–269\n",
    "* Hyder, Z., Butler Jr, J.J., McElwee, C.D., Liu, W., 1994. Slug tests in partially penetrating wells. Water Resources Research 30, 2945–2957.\n",
    "* Duffield, G.M., 2007. AQTESOLV for Windows Version 4.5 User's Guide, HydroSOLVE, Inc., Reston, VA.\n",
    "* Yang, Xinzhu (2020) Application and comparison of different methodsfor aquifer test analysis using TTim. Master Thesis, Delft University of Technology (TUDelft), Delft, The Netherlands."
   ]
  }
 ],
 "metadata": {
  "kernelspec": {
   "display_name": "Python 3 (ipykernel)",
   "language": "python",
   "name": "python3"
  },
  "language_info": {
   "codemirror_mode": {
    "name": "ipython",
    "version": 3
   },
   "file_extension": ".py",
   "mimetype": "text/x-python",
   "name": "python",
   "nbconvert_exporter": "python",
   "pygments_lexer": "ipython3",
   "version": "3.8.5"
  }
 },
 "nbformat": 4,
 "nbformat_minor": 2
}
