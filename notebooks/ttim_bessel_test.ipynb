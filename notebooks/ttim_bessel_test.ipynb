{
 "cells": [
  {
   "cell_type": "code",
   "execution_count": null,
   "metadata": {},
   "outputs": [],
   "source": [
    "import numpy as np\n",
    "import matplotlib.pyplot as plt\n",
    "from ttim.bessel import besselaesnew\n",
    "besselaesnew.initialize()"
   ]
  },
  {
   "cell_type": "code",
   "execution_count": null,
   "metadata": {},
   "outputs": [],
   "source": [
    "def potlstest(order):\n",
    "    z1 = -2 -4j\n",
    "    z2 = 3 + 1j\n",
    "    lab = np.array([0, 0.4, 4])\n",
    "    ilap = 1\n",
    "    naq = 3\n",
    "    pot = np.empty((naq, ny, nx))\n",
    "    for i in range(ny):\n",
    "        for j in range(nx):\n",
    "            pot[:, i, j] = besselaesnew.potbeslsho(x[i, j], y[i, j], z1, z2, lab, order, ilap, naq)\n",
    "    return pot"
   ]
  }
 ],
 "metadata": {
  "kernelspec": {
   "display_name": "Python 3",
   "language": "python",
   "name": "python3"
  },
  "language_info": {
   "codemirror_mode": {
    "name": "ipython",
    "version": 3
   },
   "file_extension": ".py",
   "mimetype": "text/x-python",
   "name": "python",
   "nbconvert_exporter": "python",
   "pygments_lexer": "ipython3",
   "version": "3.7.4"
  }
 },
 "nbformat": 4,
 "nbformat_minor": 4
}
