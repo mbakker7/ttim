{
 "cells": [
  {
   "cell_type": "code",
   "execution_count": 1,
   "metadata": {},
   "outputs": [],
   "source": [
    "%matplotlib inline\n",
    "from ttim import *\n",
    "import numpy as np\n",
    "import matplotlib.pyplot as plt"
   ]
  },
  {
   "cell_type": "markdown",
   "metadata": {},
   "source": [
    "Head data is generated for a pumping test in a two-aquifer model. The well starts pumping at time $t=0$ with a discharge $Q=800$ m$^3$/d. The head is measured in an observation well 10 m from the pumping well. The thickness of the aquifer is 20 m. Questions:\n",
    "\n",
    "1. Determine the optimal values of the hydraulic conductivity and specific storage coefficient of the aquifer when the aquifer is approximated as confined. Use a least squares approach and make use of the `fmin` function of `scipy.optimize` to find the optimal values. Plot the data with dots and the best-fit model in one graph. Print the optimal values of $k$ and $S_s$ to the screen as well as the root mean squared error of the residuals. \n",
    "\n",
    "2. Repeat Question 1 but now approximate the aquifer as semi-confined. Plot the data with dots and the best-fit model in one graph. Print to the screen the optimal values of $k$, $S_s$ and $c$  to the screen as well as the root mean squared error of the residuals. Is the semi-cofined model a better fit than the confined model?"
   ]
  },
  {
   "cell_type": "code",
   "execution_count": 2,
   "metadata": {},
   "outputs": [],
   "source": [
    "def generate_data():\n",
    "    # 2 layer model with some random error\n",
    "    ml = ModelMaq(kaq=[10, 20], z=[0, -20, -22, -42], c=[1000], \n",
    "                  Saq=[0.0002, 0.0001], tmin=0.001, tmax=100)\n",
    "    w = Well(ml, 0, 0, rw=0.3, tsandQ=[(0, 800)])\n",
    "    ml.solve()\n",
    "    t = np.logspace(-2, 1, 100)\n",
    "    h = ml.head(10, 0, t)\n",
    "    plt.figure()\n",
    "    r = 0.01 * np.random.randn(100)\n",
    "    n = np.zeros_like(r)\n",
    "    alpha = 0.8\n",
    "    for i in range(1, len(n)):\n",
    "        n[i] = 0.8 * n[i - 1] + r[i]\n",
    "    ho =  h[0] + n\n",
    "    plt.plot(t, ho, '.')\n",
    "    data = np.zeros((len(ho), 2))\n",
    "    data[:, 0] = t\n",
    "    data[:, 1] = ho\n",
    "    #np.savetxt('pumpingtestdata.txt', data, fmt='%2.3f', header='time (d), head (m)')\n",
    "    return data"
   ]
  },
  {
   "cell_type": "code",
   "execution_count": 3,
   "metadata": {},
   "outputs": [
    {
     "name": "stdout",
     "output_type": "stream",
     "text": [
      "self.neq  1\n",
      "solution complete\n"
     ]
    },
    {
     "data": {
      "image/png": "[encoded data removed]",
      "text/plain": [
       "<Figure size 432x288 with 1 Axes>"
      ]
     },
     "metadata": {
      "needs_background": "light"
     },
     "output_type": "display_data"
    }
   ],
   "source": [
    "np.random.seed(11)\n",
    "data = generate_data()\n",
    "to = data[:, 0]\n",
    "ho = data[:, 1]"
   ]
  },
  {
   "cell_type": "code",
   "execution_count": 4,
   "metadata": {},
   "outputs": [],
   "source": [
    "def func(p, to=to, ho=ho, returnmodel=False):\n",
    "    k = p[0]\n",
    "    S = p[1]\n",
    "    ml = ModelMaq(kaq=k, z=[0, -20], Saq=S, tmin=0.001, tmax=100)\n",
    "    w = Well(ml, 0, 0, rw=0.3, tsandQ=[(0, 800)])\n",
    "    ml.solve(silent=True)\n",
    "    if returnmodel:\n",
    "        return ml\n",
    "    h = ml.head(10, 0, to)\n",
    "    return np.sum((h[0] - ho) ** 2)"
   ]
  },
  {
   "cell_type": "code",
   "execution_count": 5,
   "metadata": {},
   "outputs": [
    {
     "name": "stdout",
     "output_type": "stream",
     "text": [
      "Optimization terminated successfully.\n",
      "         Current function value: 0.216911\n",
      "         Iterations: 35\n",
      "         Function evaluations: 69\n",
      "optimal parameters: [1.16413419e+01 1.15986821e-04]\n",
      "rmse: 0.04657368040955953\n"
     ]
    }
   ],
   "source": [
    "from scipy.optimize import fmin\n",
    "lsopt = fmin(func, [10, 1e-4])\n",
    "print('optimal parameters:', lsopt)\n",
    "print('rmse:', np.sqrt(func(lsopt) / len(ho)))"
   ]
  },
  {
   "cell_type": "code",
   "execution_count": 6,
   "metadata": {},
   "outputs": [
    {
     "data": {
      "image/png": "[encoded data removed]",
      "text/plain": [
       "<Figure size 432x288 with 1 Axes>"
      ]
     },
     "metadata": {
      "needs_background": "light"
     },
     "output_type": "display_data"
    }
   ],
   "source": [
    "ml = func(lsopt, returnmodel=True)\n",
    "plt.figure()\n",
    "plt.plot(data[:, 0], data[:, 1], '.', label='observed')\n",
    "hm = ml.head(10, 0, to)\n",
    "plt.plot(to, hm[0], 'r', label='modeled')\n",
    "plt.legend()\n",
    "plt.xlabel('time (d)')\n",
    "plt.ylabel('head (m)');"
   ]
  },
  {
   "cell_type": "code",
   "execution_count": 7,
   "metadata": {},
   "outputs": [
    {
     "name": "stdout",
     "output_type": "stream",
     "text": [
      "......................\n",
      "Fit succeeded.\n",
      "rmse: 0.046573681948955906\n"
     ]
    }
   ],
   "source": [
    "cal = Calibrate(ml)\n",
    "cal.set_parameter(name='kaq0', initial=10, pmin=0.1, pmax=1000)\n",
    "cal.set_parameter(name='Saq0', initial=1e-4, pmin=1e-5, pmax=1e-3)\n",
    "cal.series(name='obs1', x=10, y=0, layer=0, t=to, h=ho)\n",
    "cal.fit(report=False)\n",
    "print('rmse:', cal.rmse())"
   ]
  },
  {
   "cell_type": "code",
   "execution_count": 8,
   "metadata": {},
   "outputs": [
    {
     "data": {
      "text/html": [
       "<style  type=\"text/css\" >\n",
       "</style><table id=\"T_ec06ff5c_6ee2_11ea_840b_acde48001122\" ><thead>    <tr>        <th class=\"blank level0\" ></th>        <th class=\"col_heading level0 col0\" >optimal</th>        <th class=\"col_heading level0 col1\" >std</th>        <th class=\"col_heading level0 col2\" >perc_std</th>        <th class=\"col_heading level0 col3\" >pmin</th>        <th class=\"col_heading level0 col4\" >pmax</th>        <th class=\"col_heading level0 col5\" >initial</th>        <th class=\"col_heading level0 col6\" >parray</th>    </tr></thead><tbody>\n",
       "                <tr>\n",
       "                        <th id=\"T_ec06ff5c_6ee2_11ea_840b_acde48001122level0_row0\" class=\"row_heading level0 row0\" >kaq0</th>\n",
       "                        <td id=\"T_ec06ff5c_6ee2_11ea_840b_acde48001122row0_col0\" class=\"data row0 col0\" >11.6</td>\n",
       "                        <td id=\"T_ec06ff5c_6ee2_11ea_840b_acde48001122row0_col1\" class=\"data row0 col1\" >0.111</td>\n",
       "                        <td id=\"T_ec06ff5c_6ee2_11ea_840b_acde48001122row0_col2\" class=\"data row0 col2\" >0.951</td>\n",
       "                        <td id=\"T_ec06ff5c_6ee2_11ea_840b_acde48001122row0_col3\" class=\"data row0 col3\" >0.1</td>\n",
       "                        <td id=\"T_ec06ff5c_6ee2_11ea_840b_acde48001122row0_col4\" class=\"data row0 col4\" >1000</td>\n",
       "                        <td id=\"T_ec06ff5c_6ee2_11ea_840b_acde48001122row0_col5\" class=\"data row0 col5\" >10</td>\n",
       "                        <td id=\"T_ec06ff5c_6ee2_11ea_840b_acde48001122row0_col6\" class=\"data row0 col6\" >[11.6411311]</td>\n",
       "            </tr>\n",
       "            <tr>\n",
       "                        <th id=\"T_ec06ff5c_6ee2_11ea_840b_acde48001122level0_row1\" class=\"row_heading level0 row1\" >Saq0</th>\n",
       "                        <td id=\"T_ec06ff5c_6ee2_11ea_840b_acde48001122row1_col0\" class=\"data row1 col0\" >0.000116</td>\n",
       "                        <td id=\"T_ec06ff5c_6ee2_11ea_840b_acde48001122row1_col1\" class=\"data row1 col1\" >6.09e-06</td>\n",
       "                        <td id=\"T_ec06ff5c_6ee2_11ea_840b_acde48001122row1_col2\" class=\"data row1 col2\" >5.25</td>\n",
       "                        <td id=\"T_ec06ff5c_6ee2_11ea_840b_acde48001122row1_col3\" class=\"data row1 col3\" >1e-05</td>\n",
       "                        <td id=\"T_ec06ff5c_6ee2_11ea_840b_acde48001122row1_col4\" class=\"data row1 col4\" >0.001</td>\n",
       "                        <td id=\"T_ec06ff5c_6ee2_11ea_840b_acde48001122row1_col5\" class=\"data row1 col5\" >0.0001</td>\n",
       "                        <td id=\"T_ec06ff5c_6ee2_11ea_840b_acde48001122row1_col6\" class=\"data row1 col6\" >[0.00011599]</td>\n",
       "            </tr>\n",
       "    </tbody></table>"
      ],
      "text/plain": [
       "<pandas.io.formats.style.Styler at 0x130574d90>"
      ]
     },
     "execution_count": 8,
     "metadata": {},
     "output_type": "execute_result"
    }
   ],
   "source": [
    "cal.parameters.style.set_precision(3)"
   ]
  },
  {
   "cell_type": "markdown",
   "metadata": {},
   "source": [
    "### Model as semi-confined"
   ]
  },
  {
   "cell_type": "code",
   "execution_count": 9,
   "metadata": {},
   "outputs": [],
   "source": [
    "def func2(p, to=to, ho=ho, returnmodel=False):\n",
    "    k = p[0]\n",
    "    S = p[1]\n",
    "    c = p[2]\n",
    "    ml = ModelMaq(kaq=k, z=[2, 0, -20], Saq=S, c=c, topboundary='semi', \n",
    "                  tmin=0.001, tmax=100, f2py=False)\n",
    "    w = Well(ml, 0, 0, rw=0.3, tsandQ=[(0, 800)])\n",
    "    ml.solve(silent=True)\n",
    "    if returnmodel:\n",
    "        return ml\n",
    "    h = ml.head(10, 0, to)\n",
    "    return np.sum((h[0] - ho) ** 2)"
   ]
  },
  {
   "cell_type": "code",
   "execution_count": 10,
   "metadata": {},
   "outputs": [
    {
     "name": "stdout",
     "output_type": "stream",
     "text": [
      "Optimization terminated successfully.\n",
      "         Current function value: 0.016202\n",
      "         Iterations: 120\n",
      "         Function evaluations: 243\n",
      "optimal parameters: [1.03908871e+01 1.76383379e-04 2.02619017e+03]\n",
      "rmse: 0.012728558355125942\n"
     ]
    }
   ],
   "source": [
    "lsopt2 = fmin(func2, [10, 1e-4, 1000])\n",
    "print('optimal parameters:', lsopt2)\n",
    "print('rmse:', np.sqrt(func2(lsopt2) / len(ho)))"
   ]
  },
  {
   "cell_type": "code",
   "execution_count": 11,
   "metadata": {},
   "outputs": [
    {
     "data": {
      "image/png": "[encoded data removed]",
      "text/plain": [
       "<Figure size 432x288 with 1 Axes>"
      ]
     },
     "metadata": {
      "needs_background": "light"
     },
     "output_type": "display_data"
    }
   ],
   "source": [
    "ml = func2(lsopt2, returnmodel=True)\n",
    "plt.figure()\n",
    "plt.plot(data[:, 0], data[:, 1], '.', label='observed')\n",
    "hm = ml.head(10, 0, to)\n",
    "plt.plot(to, hm[0], 'r', label='modeled')\n",
    "plt.legend()\n",
    "plt.xlabel('time (d)')\n",
    "plt.ylabel('head (m)');"
   ]
  },
  {
   "cell_type": "code",
   "execution_count": 12,
   "metadata": {},
   "outputs": [],
   "source": [
    "ml = ModelMaq(kaq=10, z=[2, 0, -20], Saq=1e-4, c=1000, topboundary='semi', tmin=0.001, tmax=100)\n",
    "w = Well(ml, 0, 0, rw=0.3, tsandQ=[(0, 800)])\n",
    "ml.solve(silent=True)"
   ]
  },
  {
   "cell_type": "code",
   "execution_count": 13,
   "metadata": {},
   "outputs": [
    {
     "name": "stdout",
     "output_type": "stream",
     "text": [
      "...............................\n",
      "Fit succeeded.\n"
     ]
    },
    {
     "data": {
      "text/html": [
       "<style  type=\"text/css\" >\n",
       "</style><table id=\"T_f90efd9e_6ee2_11ea_840b_acde48001122\" ><thead>    <tr>        <th class=\"blank level0\" ></th>        <th class=\"col_heading level0 col0\" >optimal</th>        <th class=\"col_heading level0 col1\" >std</th>        <th class=\"col_heading level0 col2\" >perc_std</th>        <th class=\"col_heading level0 col3\" >pmin</th>        <th class=\"col_heading level0 col4\" >pmax</th>        <th class=\"col_heading level0 col5\" >initial</th>        <th class=\"col_heading level0 col6\" >parray</th>    </tr></thead><tbody>\n",
       "                <tr>\n",
       "                        <th id=\"T_f90efd9e_6ee2_11ea_840b_acde48001122level0_row0\" class=\"row_heading level0 row0\" >kaq0</th>\n",
       "                        <td id=\"T_f90efd9e_6ee2_11ea_840b_acde48001122row0_col0\" class=\"data row0 col0\" >10.4</td>\n",
       "                        <td id=\"T_f90efd9e_6ee2_11ea_840b_acde48001122row0_col1\" class=\"data row0 col1\" >0.0427</td>\n",
       "                        <td id=\"T_f90efd9e_6ee2_11ea_840b_acde48001122row0_col2\" class=\"data row0 col2\" >0.411</td>\n",
       "                        <td id=\"T_f90efd9e_6ee2_11ea_840b_acde48001122row0_col3\" class=\"data row0 col3\" >-inf</td>\n",
       "                        <td id=\"T_f90efd9e_6ee2_11ea_840b_acde48001122row0_col4\" class=\"data row0 col4\" >inf</td>\n",
       "                        <td id=\"T_f90efd9e_6ee2_11ea_840b_acde48001122row0_col5\" class=\"data row0 col5\" >10</td>\n",
       "                        <td id=\"T_f90efd9e_6ee2_11ea_840b_acde48001122row0_col6\" class=\"data row0 col6\" >[10.39099811]</td>\n",
       "            </tr>\n",
       "            <tr>\n",
       "                        <th id=\"T_f90efd9e_6ee2_11ea_840b_acde48001122level0_row1\" class=\"row_heading level0 row1\" >Saq0</th>\n",
       "                        <td id=\"T_f90efd9e_6ee2_11ea_840b_acde48001122row1_col0\" class=\"data row1 col0\" >0.000176</td>\n",
       "                        <td id=\"T_f90efd9e_6ee2_11ea_840b_acde48001122row1_col1\" class=\"data row1 col1\" >2.94e-06</td>\n",
       "                        <td id=\"T_f90efd9e_6ee2_11ea_840b_acde48001122row1_col2\" class=\"data row1 col2\" >1.67</td>\n",
       "                        <td id=\"T_f90efd9e_6ee2_11ea_840b_acde48001122row1_col3\" class=\"data row1 col3\" >-inf</td>\n",
       "                        <td id=\"T_f90efd9e_6ee2_11ea_840b_acde48001122row1_col4\" class=\"data row1 col4\" >inf</td>\n",
       "                        <td id=\"T_f90efd9e_6ee2_11ea_840b_acde48001122row1_col5\" class=\"data row1 col5\" >0.0001</td>\n",
       "                        <td id=\"T_f90efd9e_6ee2_11ea_840b_acde48001122row1_col6\" class=\"data row1 col6\" >[0.00017638]</td>\n",
       "            </tr>\n",
       "            <tr>\n",
       "                        <th id=\"T_f90efd9e_6ee2_11ea_840b_acde48001122level0_row2\" class=\"row_heading level0 row2\" >c0</th>\n",
       "                        <td id=\"T_f90efd9e_6ee2_11ea_840b_acde48001122row2_col0\" class=\"data row2 col0\" >2.03e+03</td>\n",
       "                        <td id=\"T_f90efd9e_6ee2_11ea_840b_acde48001122row2_col1\" class=\"data row2 col1\" >96.5</td>\n",
       "                        <td id=\"T_f90efd9e_6ee2_11ea_840b_acde48001122row2_col2\" class=\"data row2 col2\" >4.76</td>\n",
       "                        <td id=\"T_f90efd9e_6ee2_11ea_840b_acde48001122row2_col3\" class=\"data row2 col3\" >-inf</td>\n",
       "                        <td id=\"T_f90efd9e_6ee2_11ea_840b_acde48001122row2_col4\" class=\"data row2 col4\" >inf</td>\n",
       "                        <td id=\"T_f90efd9e_6ee2_11ea_840b_acde48001122row2_col5\" class=\"data row2 col5\" >1000</td>\n",
       "                        <td id=\"T_f90efd9e_6ee2_11ea_840b_acde48001122row2_col6\" class=\"data row2 col6\" >[2026.51163352]</td>\n",
       "            </tr>\n",
       "    </tbody></table>"
      ],
      "text/plain": [
       "<pandas.io.formats.style.Styler at 0x130702fd0>"
      ]
     },
     "execution_count": 13,
     "metadata": {},
     "output_type": "execute_result"
    }
   ],
   "source": [
    "cal = Calibrate(ml)\n",
    "cal.set_parameter(name='kaq0', initial=10)\n",
    "cal.set_parameter(name='Saq0', initial=1e-4)\n",
    "cal.set_parameter(name='c0', initial=1000)\n",
    "cal.series(name='obs1', x=10, y=0, layer=0, t=to, h=ho)\n",
    "cal.fit(report=False)\n",
    "cal.parameters.style.set_precision(3)"
   ]
  },
  {
   "cell_type": "code",
   "execution_count": 14,
   "metadata": {},
   "outputs": [
    {
     "data": {
      "text/plain": [
       "(0.01272855560011752, array([10.39099811]))"
      ]
     },
     "execution_count": 14,
     "metadata": {},
     "output_type": "execute_result"
    }
   ],
   "source": [
    "cal.rmse(), ml.aq.kaq"
   ]
  },
  {
   "cell_type": "code",
   "execution_count": 15,
   "metadata": {},
   "outputs": [
    {
     "data": {
      "image/png": "[encoded data removed]",
      "text/plain": [
       "<Figure size 432x288 with 1 Axes>"
      ]
     },
     "metadata": {
      "needs_background": "light"
     },
     "output_type": "display_data"
    }
   ],
   "source": [
    "plt.figure()\n",
    "plt.plot(data[:, 0], data[:, 1], '.', label='observed')\n",
    "hm = ml.head(10, 0, to)\n",
    "plt.plot(to, hm[0], 'r', label='modeled')\n",
    "plt.legend()\n",
    "plt.xlabel('time (d)')\n",
    "plt.ylabel('head (m)');"
   ]
  }
 ],
 "metadata": {
  "kernelspec": {
   "display_name": "Python 3",
   "language": "python",
   "name": "python3"
  },
  "language_info": {
   "codemirror_mode": {
    "name": "ipython",
    "version": 3
   },
   "file_extension": ".py",
   "mimetype": "text/x-python",
   "name": "python",
   "nbconvert_exporter": "python",
   "pygments_lexer": "ipython3",
   "version": "3.7.4"
  },
  "latex_envs": {
   "LaTeX_envs_menu_present": true,
   "autoclose": false,
   "autocomplete": true,
   "bibliofile": "biblio.bib",
   "cite_by": "apalike",
   "current_citInitial": 1,
   "eqLabelWithNumbers": true,
   "eqNumInitial": 1,
   "hotkeys": {
    "equation": "Ctrl-E",
    "itemize": "Ctrl-I"
   },
   "labels_anchors": false,
   "latex_user_defs": false,
   "report_style_numbering": false,
   "user_envs_cfg": false
  },
  "varInspector": {
   "cols": {
    "lenName": 16,
    "lenType": 16,
    "lenVar": 40
   },
   "kernels_config": {
    "python": {
     "delete_cmd_postfix": "",
     "delete_cmd_prefix": "del ",
     "library": "var_list.py",
     "varRefreshCmd": "print(var_dic_list())"
    },
    "r": {
     "delete_cmd_postfix": ") ",
     "delete_cmd_prefix": "rm(",
     "library": "var_list.r",
     "varRefreshCmd": "cat(var_dic_list()) "
    }
   },
   "types_to_exclude": [
    "module",
    "function",
    "builtin_function_or_method",
    "instance",
    "_Feature"
   ],
   "window_display": false
  },
  "widgets": {
   "state": {},
   "version": "1.1.2"
  }
 },
 "nbformat": 4,
 "nbformat_minor": 4
}
