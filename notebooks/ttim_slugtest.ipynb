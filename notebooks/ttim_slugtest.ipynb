{
 "cells": [
  {
   "cell_type": "markdown",
   "metadata": {},
   "source": [
    "### Slug test analysis in an unconfined aquifer\n",
    "\n",
    "The data is taken from the [AQTESOLVE](http://www.aqtesolv.com/examples/uncslug1.htm) website. \n",
    "\n",
    "Butler (1998) presents results from a slug test in a partially penetrating well that is screened in unconsolidated alluvial deposits consisting of sand and gravel with interbedded clay. The aquifer has a thickness $H=47.87$ m. The depth to the top of the well screen is 16.7 m, and the screen of the well is 1.52 m long. The radius of the well is 0.125 m, and the radius of the casing is 0.064 m. The slug displacement is 0.671 m. "
   ]
  },
  {
   "cell_type": "code",
   "execution_count": 1,
   "metadata": {},
   "outputs": [],
   "source": [
    "%matplotlib inline\n",
    "import numpy as np\n",
    "import matplotlib.pyplot as plt\n",
    "from scipy.optimize import fmin\n",
    "import pandas as pd\n",
    "from ttim import *"
   ]
  },
  {
   "cell_type": "code",
   "execution_count": 2,
   "metadata": {},
   "outputs": [],
   "source": [
    "# problem definitions\n",
    "rw = 0.125 # well radius\n",
    "rc = 0.064 # well casing radius\n",
    "L = 1.52   # screen length\n",
    "zbot = -47.87  # aquifer thickness\n",
    "welltop = -16.77  # top of screen\n",
    "delh = 0.671 # slug displacement in the well\n",
    "#\n",
    "wellbot = welltop - L  # bottom of screen\n",
    "Q = np.pi * rc**2 * delh # volume of slug"
   ]
  },
  {
   "cell_type": "code",
   "execution_count": 3,
   "metadata": {},
   "outputs": [
    {
     "name": "stdout",
     "output_type": "stream",
     "text": [
      "minimum and maximum time: 1.1574074074074074e-06 0.004107638888888889\n"
     ]
    }
   ],
   "source": [
    "# loading data\n",
    "data = np.loadtxt('data/slugtest.txt') # time and drawdouwn\n",
    "time, dd = data[:,0], data[:,1]\n",
    "td = time/60/60/24 #time in days\n",
    "print('minimum and maximum time:', td.min(), td.max())"
   ]
  },
  {
   "cell_type": "code",
   "execution_count": 4,
   "metadata": {},
   "outputs": [
    {
     "data": {
      "text/plain": [
       "array([0.663, 0.664, 0.656, 0.656, 0.656, 0.656, 0.653, 0.649, 0.649,\n",
       "       0.649, 0.645, 0.642, 0.653, 0.648, 0.642, 0.638, 0.63 , 0.627,\n",
       "       0.619, 0.619, 0.616, 0.608, 0.605, 0.596, 0.59 , 0.587, 0.579,\n",
       "       0.568, 0.56 , 0.553, 0.539, 0.531, 0.517, 0.501, 0.486, 0.469,\n",
       "       0.45 , 0.435, 0.413, 0.39 , 0.368, 0.346, 0.321, 0.295, 0.273,\n",
       "       0.244, 0.221, 0.191, 0.166, 0.14 , 0.118, 0.099, 0.081, 0.059,\n",
       "       0.051, 0.037, 0.025, 0.019, 0.014, 0.008, 0.008])"
      ]
     },
     "execution_count": 4,
     "metadata": {},
     "output_type": "execute_result"
    }
   ],
   "source": [
    "dd"
   ]
  },
  {
   "cell_type": "markdown",
   "metadata": {},
   "source": [
    "Flow is simulated with a quasi three-dimensional model consisting of `Nlayers` mode layers. The top and bottom of the aquifer are impermeable.\n",
    "The horizontal hydraulic conductivity $k$ and elastic storage $S_s$ are unkonwn. Phreatic storage and vertical anisotropy are not simulated. The variable `p` contains the two unknown parameters. The well is modeled with the `Well` element. The type is specified as `slug`, adn the initially displaced volume is specified as $Q$. "
   ]
  },
  {
   "cell_type": "code",
   "execution_count": 5,
   "metadata": {},
   "outputs": [
    {
     "name": "stdout",
     "output_type": "stream",
     "text": [
      "self.neq  1\n",
      "solution complete\n",
      "k: [100. 100. 100. 100.]\n",
      "T:  [  50. 1627.  152. 2958.]\n",
      "c:  [1.000e+100 8.385e-002 8.895e-002 1.555e-001]\n",
      ".............................\n",
      "Fit succeeded.\n",
      "[[Fit Statistics]]\n",
      "    # fitting method   = leastsq\n",
      "    # function evals   = 26\n",
      "    # data points      = 61\n",
      "    # variables        = 2\n",
      "    chi-square         = 4.9814e-04\n",
      "    reduced chi-square = 8.4430e-06\n",
      "    Akaike info crit   = -710.645966\n",
      "    Bayesian info crit = -706.424219\n",
      "[[Variables]]\n",
      "    kaq0_3:  6.03116199 +/- 0.02473245 (0.41%) (init = 10)\n",
      "    Saq0_3:  2.1695e-04 +/- 1.0782e-05 (4.97%) (init = 0.001)\n",
      "[[Correlations]] (unreported correlations are < 0.100)\n",
      "    C(kaq0_3, Saq0_3) = -0.652\n",
      "k: [6.03116199 6.03116199 6.03116199 6.03116199]\n",
      "T:  [  3.015581    98.12700562   9.16736623 178.40177173]\n",
      "c:  [1.00000000e+100 1.39027935e+000 1.47484017e+000 2.57827596e+000]\n"
     ]
    }
   ],
   "source": [
    "ml = Model3D(kaq=100, z=[0, -0.5, welltop, wellbot, zbot],\n",
    "             Saq=1e-4, kzoverkh=1, tmin=1e-6, tmax=0.01) \n",
    "w = Well(ml, xw=0, yw=0, rw=rw, tsandQ=[(0.0, -Q)],\n",
    "         layers=2, rc=rc, wbstype='slug')\n",
    "ml.solve()\n",
    "print('k:', ml.aq.kaq)\n",
    "print('T: ', ml.aq.T)\n",
    "print('c: ', ml.aq.c)\n",
    "cal = Calibrate(ml)\n",
    "cal.set_parameter(name='kaq0_3', initial=10)\n",
    "cal.set_parameter(name='Saq0_3', initial=1e-3)\n",
    "cal.series(name='obs1', x=0, y=0, layer=2, t=td, h=dd)\n",
    "cal.fit()\n",
    "print('k:', ml.aq.kaq)\n",
    "print('T: ', ml.aq.T)\n",
    "print('c: ', ml.aq.c)"
   ]
  },
  {
   "cell_type": "code",
   "execution_count": 6,
   "metadata": {},
   "outputs": [
    {
     "data": {
      "image/png": "[encoded data removed]",
      "text/plain": [
       "<Figure size 864x432 with 1 Axes>"
      ]
     },
     "metadata": {
      "needs_background": "light"
     },
     "output_type": "display_data"
    }
   ],
   "source": [
    "hm = ml.head(0, 0, td, layers=2)\n",
    "plt.figure(figsize=(12, 6))\n",
    "plt.semilogx(time, dd / delh, 'ko', label='Observed')\n",
    "plt.semilogx(time, hm[0] / delh, 'b', label='TTim')\n",
    "plt.ylim([0, 1])\n",
    "plt.xlabel('time [s]')\n",
    "plt.ylabel('h / delh')\n",
    "plt.legend(loc='best')\n",
    "plt.title('TTim Slug Test Analysis');"
   ]
  },
  {
   "cell_type": "code",
   "execution_count": 7,
   "metadata": {},
   "outputs": [
    {
     "data": {
      "text/html": [
       "<div>\n",
       "<style scoped>\n",
       "    .dataframe tbody tr th:only-of-type {\n",
       "        vertical-align: middle;\n",
       "    }\n",
       "\n",
       "    .dataframe tbody tr th {\n",
       "        vertical-align: top;\n",
       "    }\n",
       "\n",
       "    .dataframe thead th {\n",
       "        text-align: right;\n",
       "    }\n",
       "</style>\n",
       "<table border=\"1\" class=\"dataframe\">\n",
       "  <thead>\n",
       "    <tr style=\"text-align: right;\">\n",
       "      <th></th>\n",
       "      <th>Kr [m/day]</th>\n",
       "      <th>Ss [1/m]</th>\n",
       "    </tr>\n",
       "  </thead>\n",
       "  <tbody>\n",
       "    <tr>\n",
       "      <td>TTim</td>\n",
       "      <td>6.03116</td>\n",
       "      <td>0.000216951</td>\n",
       "    </tr>\n",
       "    <tr>\n",
       "      <td>AQTESOLV</td>\n",
       "      <td>4.034</td>\n",
       "      <td>0.000384</td>\n",
       "    </tr>\n",
       "  </tbody>\n",
       "</table>\n",
       "</div>"
      ],
      "text/plain": [
       "         Kr [m/day]     Ss [1/m]\n",
       "TTim        6.03116  0.000216951\n",
       "AQTESOLV      4.034     0.000384"
      ]
     },
     "execution_count": 7,
     "metadata": {},
     "output_type": "execute_result"
    }
   ],
   "source": [
    "r = pd.DataFrame(columns=['Kr [m/day]','Ss [1/m]'],\n",
    "                 index=['TTim', 'AQTESOLV'])\n",
    "r.loc['TTim'] = cal.parameters['optimal'].values\n",
    "r.loc['AQTESOLV'] = [4.034, 0.000384]\n",
    "r"
   ]
  },
  {
   "cell_type": "markdown",
   "metadata": {},
   "source": [
    "### Verify with fmin"
   ]
  },
  {
   "cell_type": "code",
   "execution_count": 8,
   "metadata": {},
   "outputs": [],
   "source": [
    "def sse(p, returnheads=False):\n",
    "    ml = Model3D(kaq=p[0], z=[0, -0.5, welltop, wellbot, zbot],\n",
    "                 Saq=p[1], kzoverkh=1, tmin=1e-6, tmax=0.01)  \n",
    "    w = Well(ml, xw=0, yw=0, rw=rw, tsandQ=[(0.0, -Q)],\n",
    "             layers=2, rc=rc, wbstype='slug')\n",
    "    ml.solve(silent = '.')\n",
    "    hm = ml.head(0, 0, td, 2)\n",
    "    if returnheads: return hm\n",
    "    se = np.sum((hm[0] - dd)**2)\n",
    "    return se"
   ]
  },
  {
   "cell_type": "code",
   "execution_count": 9,
   "metadata": {},
   "outputs": [
    {
     "name": "stdout",
     "output_type": "stream",
     "text": [
      ".......................................................................................Optimization terminated successfully.\n",
      "         Current function value: 0.000497\n",
      "         Iterations: 40\n",
      "         Function evaluations: 87\n",
      "optimal parameters: [6.03379199e+00 2.15056769e-04]\n",
      ".sse: 0.0004971940749116752\n"
     ]
    }
   ],
   "source": [
    "popt = fmin(sse, [3, 1e-4])\n",
    "print('optimal parameters:', popt)\n",
    "print('sse:', sse(popt))"
   ]
  }
 ],
 "metadata": {
  "kernelspec": {
   "display_name": "Python 3",
   "language": "python",
   "name": "python3"
  },
  "language_info": {
   "codemirror_mode": {
    "name": "ipython",
    "version": 3
   },
   "file_extension": ".py",
   "mimetype": "text/x-python",
   "name": "python",
   "nbconvert_exporter": "python",
   "pygments_lexer": "ipython3",
   "version": "3.7.4"
  }
 },
 "nbformat": 4,
 "nbformat_minor": 4
}
