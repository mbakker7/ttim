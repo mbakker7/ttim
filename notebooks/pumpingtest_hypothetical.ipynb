{
 "cells": [
  {
   "cell_type": "markdown",
   "metadata": {},
   "source": [
    "# Calibrating TTim model to hypothetical pumping test"
   ]
  },
  {
   "cell_type": "code",
   "execution_count": 1,
   "metadata": {},
   "outputs": [],
   "source": [
    "%matplotlib inline\n",
    "import numpy as np\n",
    "import matplotlib.pyplot as plt\n",
    "from ttim import *"
   ]
  },
  {
   "cell_type": "markdown",
   "metadata": {},
   "source": [
    "### Use observation times from Oude Korendijk"
   ]
  },
  {
   "cell_type": "code",
   "execution_count": 2,
   "metadata": {},
   "outputs": [],
   "source": [
    "drawdown = np.loadtxt('data/oudekorendijk_h30.dat')\n",
    "tobs = drawdown[:,0] / 60 / 24\n",
    "robs = 30\n",
    "Q = 788"
   ]
  },
  {
   "cell_type": "markdown",
   "metadata": {},
   "source": [
    "### Generate data"
   ]
  },
  {
   "cell_type": "code",
   "execution_count": 3,
   "metadata": {},
   "outputs": [
    {
     "name": "stdout",
     "output_type": "stream",
     "text": [
      "self.neq  1\n",
      "solution complete\n"
     ]
    }
   ],
   "source": [
    "ml = ModelMaq(kaq=60, z=(-18, -25), Saq=1e-4, tmin=1e-5, tmax=1)\n",
    "w = Well(ml, xw=0, yw=0, rw=0.1, tsandQ=[(0, 788)], layers=0)\n",
    "ml.solve()\n",
    "np.random.seed(2)\n",
    "hobs = ml.head(robs, 0, tobs)[0] + 0.05 * np.random.randn(len(tobs))"
   ]
  },
  {
   "cell_type": "markdown",
   "metadata": {},
   "source": [
    "### See if TTim can find aquifer parameters back\n",
    "Note that the value of Saq0 is printed incorrectly to the screen in the fit report (`lmfit` will fix this hopefully in the near future - issue has be posted). The correct fitted value is printed below the fit report. "
   ]
  },
  {
   "cell_type": "code",
   "execution_count": 4,
   "metadata": {},
   "outputs": [
    {
     "name": "stdout",
     "output_type": "stream",
     "text": [
      "..................................................\n",
      "          optimal       std perc_std  pmin  pmax initial  \\\n",
      "kaq0      59.5343  2.340392  3.93117  -inf   inf     100   \n",
      "Saq0  9.23965e-05  0.000012  13.4153  -inf   inf   0.001   \n",
      "\n",
      "                       parray  \n",
      "kaq0      [59.53430126639622]  \n",
      "Saq0  [9.239647636997621e-05]  \n",
      "[2.34039232e+00 1.23952712e-05]\n",
      "[[ 5.47743623e+00 -2.46670523e-05]\n",
      " [-2.46670523e-05  1.53642747e-10]]\n",
      "[[ 1.         -0.85030074]\n",
      " [-0.85030074  1.        ]]\n"
     ]
    }
   ],
   "source": [
    "cal = Calibrate(ml)\n",
    "cal.set_parameter(name='kaq0', initial=100)\n",
    "cal.set_parameter(name='Saq0', initial=1e-3)\n",
    "cal.series(name='obs1', x=robs, y=0, layer=0, t=tobs, h=hobs)\n",
    "cal.fit_least_squares(report=True)"
   ]
  },
  {
   "cell_type": "code",
   "execution_count": 5,
   "metadata": {},
   "outputs": [
    {
     "name": "stdout",
     "output_type": "stream",
     "text": [
      "....................................\n",
      "Fit succeeded.\n",
      "[[Fit Statistics]]\n",
      "    # fitting method   = leastsq\n",
      "    # function evals   = 33\n",
      "    # data points      = 34\n",
      "    # variables        = 2\n",
      "    chi-square         = 0.09714914\n",
      "    reduced chi-square = 0.00303591\n",
      "    Akaike info crit   = -195.167527\n",
      "    Bayesian info crit = -192.114806\n",
      "[[Variables]]\n",
      "    kaq0:  59.5321783 +/- 2.36785111 (3.98%) (init = 100)\n",
      "    Saq0:  9.2411e-05 +/- 1.2517e-05 (13.54%) (init = 0.001)\n",
      "[[Correlations]] (unreported correlations are < 0.100)\n",
      "    C(kaq0, Saq0) = -0.851\n"
     ]
    }
   ],
   "source": [
    "cal = Calibrate(ml)\n",
    "cal.set_parameter(name='kaq0', initial=100)\n",
    "cal.set_parameter(name='Saq0', initial=1e-3)\n",
    "cal.series(name='obs1', x=robs, y=0, layer=0, t=tobs, h=hobs)\n",
    "cal.fit_lmfit()"
   ]
  },
  {
   "cell_type": "code",
   "execution_count": 6,
   "metadata": {},
   "outputs": [
    {
     "data": {
      "text/html": [
       "<div>\n",
       "<style scoped>\n",
       "    .dataframe tbody tr th:only-of-type {\n",
       "        vertical-align: middle;\n",
       "    }\n",
       "\n",
       "    .dataframe tbody tr th {\n",
       "        vertical-align: top;\n",
       "    }\n",
       "\n",
       "    .dataframe thead th {\n",
       "        text-align: right;\n",
       "    }\n",
       "</style>\n",
       "<table border=\"1\" class=\"dataframe\">\n",
       "  <thead>\n",
       "    <tr style=\"text-align: right;\">\n",
       "      <th></th>\n",
       "      <th>optimal</th>\n",
       "      <th>std</th>\n",
       "      <th>perc_std</th>\n",
       "      <th>pmin</th>\n",
       "      <th>pmax</th>\n",
       "      <th>initial</th>\n",
       "      <th>parray</th>\n",
       "    </tr>\n",
       "  </thead>\n",
       "  <tbody>\n",
       "    <tr>\n",
       "      <td>kaq0</td>\n",
       "      <td>59.5322</td>\n",
       "      <td>2.367851</td>\n",
       "      <td>3.97743</td>\n",
       "      <td>-inf</td>\n",
       "      <td>inf</td>\n",
       "      <td>100</td>\n",
       "      <td>[59.53217826635357]</td>\n",
       "    </tr>\n",
       "    <tr>\n",
       "      <td>Saq0</td>\n",
       "      <td>9.24106e-05</td>\n",
       "      <td>0.000013</td>\n",
       "      <td>13.5444</td>\n",
       "      <td>-inf</td>\n",
       "      <td>inf</td>\n",
       "      <td>0.001</td>\n",
       "      <td>[9.241062820300556e-05]</td>\n",
       "    </tr>\n",
       "  </tbody>\n",
       "</table>\n",
       "</div>"
      ],
      "text/plain": [
       "          optimal       std perc_std  pmin  pmax initial  \\\n",
       "kaq0      59.5322  2.367851  3.97743  -inf   inf     100   \n",
       "Saq0  9.24106e-05  0.000013  13.5444  -inf   inf   0.001   \n",
       "\n",
       "                       parray  \n",
       "kaq0      [59.53217826635357]  \n",
       "Saq0  [9.241062820300556e-05]  "
      ]
     },
     "execution_count": 6,
     "metadata": {},
     "output_type": "execute_result"
    }
   ],
   "source": [
    "cal.parameters"
   ]
  },
  {
   "cell_type": "code",
   "execution_count": 7,
   "metadata": {},
   "outputs": [
    {
     "name": "stdout",
     "output_type": "stream",
     "text": [
      "rmse: 0.053453978187315954\n"
     ]
    }
   ],
   "source": [
    "print('rmse:', cal.rmse())"
   ]
  },
  {
   "cell_type": "code",
   "execution_count": 8,
   "metadata": {},
   "outputs": [
    {
     "data": {
      "text/plain": [
       "[<matplotlib.lines.Line2D at 0x12b4cd0d0>]"
      ]
     },
     "execution_count": 8,
     "metadata": {},
     "output_type": "execute_result"
    },
    {
     "data": {
      "image/png": "[encoded data removed]",
      "text/plain": [
       "<Figure size 432x288 with 1 Axes>"
      ]
     },
     "metadata": {
      "needs_background": "light"
     },
     "output_type": "display_data"
    }
   ],
   "source": [
    "hm = ml.head(robs, 0, tobs, 0)\n",
    "plt.semilogx(tobs, hobs, '.k')\n",
    "plt.semilogx(tobs, hm[0], 'r')"
   ]
  },
  {
   "cell_type": "code",
   "execution_count": 9,
   "metadata": {},
   "outputs": [
    {
     "name": "stdout",
     "output_type": "stream",
     "text": [
      "correlation matrix\n",
      "[[ 5.60671886e+00 -2.52173629e-05]\n",
      " [-2.52173629e-05  1.56662968e-10]]\n"
     ]
    }
   ],
   "source": [
    "print('correlation matrix')\n",
    "print(cal.fitresult.covar)"
   ]
  },
  {
   "cell_type": "markdown",
   "metadata": {},
   "source": [
    "## Calibrate parameters in multiple layers\n",
    "Example showing how parameters can be optimized when multiple layers share the same parameter value."
   ]
  },
  {
   "cell_type": "code",
   "execution_count": 10,
   "metadata": {},
   "outputs": [
    {
     "name": "stdout",
     "output_type": "stream",
     "text": [
      "self.neq  1\n",
      "solution complete\n"
     ]
    }
   ],
   "source": [
    "ml = ModelMaq(kaq=[10., 10.], z=(-10, -16, -18, -25), c=[10.], Saq=[0.1, 1e-4], tmin=1e-5, tmax=1)\n",
    "w = Well(ml, xw=0, yw=0, rw=0.1, tsandQ=[(0, 788)], layers=1)\n",
    "ml.solve()\n",
    "hobs0 = ml.head(robs, 0, tobs, layers=[0])[0]\n",
    "hobs1 = ml.head(robs, 0, tobs, layers=[1])[0]"
   ]
  },
  {
   "cell_type": "code",
   "execution_count": 11,
   "metadata": {},
   "outputs": [
    {
     "data": {
      "text/html": [
       "<div>\n",
       "<style scoped>\n",
       "    .dataframe tbody tr th:only-of-type {\n",
       "        vertical-align: middle;\n",
       "    }\n",
       "\n",
       "    .dataframe tbody tr th {\n",
       "        vertical-align: top;\n",
       "    }\n",
       "\n",
       "    .dataframe thead th {\n",
       "        text-align: right;\n",
       "    }\n",
       "</style>\n",
       "<table border=\"1\" class=\"dataframe\">\n",
       "  <thead>\n",
       "    <tr style=\"text-align: right;\">\n",
       "      <th></th>\n",
       "      <th>optimal</th>\n",
       "      <th>std</th>\n",
       "      <th>perc_std</th>\n",
       "      <th>pmin</th>\n",
       "      <th>pmax</th>\n",
       "      <th>initial</th>\n",
       "      <th>parray</th>\n",
       "    </tr>\n",
       "  </thead>\n",
       "  <tbody>\n",
       "    <tr>\n",
       "      <td>kaq0</td>\n",
       "      <td>59.5322</td>\n",
       "      <td>2.367851</td>\n",
       "      <td>3.97743</td>\n",
       "      <td>-inf</td>\n",
       "      <td>inf</td>\n",
       "      <td>100</td>\n",
       "      <td>[59.53217826635357]</td>\n",
       "    </tr>\n",
       "    <tr>\n",
       "      <td>Saq0</td>\n",
       "      <td>9.24106e-05</td>\n",
       "      <td>0.000013</td>\n",
       "      <td>13.5444</td>\n",
       "      <td>-inf</td>\n",
       "      <td>inf</td>\n",
       "      <td>0.001</td>\n",
       "      <td>[9.241062820300556e-05]</td>\n",
       "    </tr>\n",
       "  </tbody>\n",
       "</table>\n",
       "</div>"
      ],
      "text/plain": [
       "          optimal       std perc_std  pmin  pmax initial  \\\n",
       "kaq0      59.5322  2.367851  3.97743  -inf   inf     100   \n",
       "Saq0  9.24106e-05  0.000013  13.5444  -inf   inf   0.001   \n",
       "\n",
       "                       parray  \n",
       "kaq0      [59.53217826635357]  \n",
       "Saq0  [9.241062820300556e-05]  "
      ]
     },
     "execution_count": 11,
     "metadata": {},
     "output_type": "execute_result"
    }
   ],
   "source": [
    "cal.parameters"
   ]
  },
  {
   "cell_type": "code",
   "execution_count": 12,
   "metadata": {},
   "outputs": [
    {
     "name": "stdout",
     "output_type": "stream",
     "text": [
      "...................................................................................................\n",
      "Fit succeeded.\n"
     ]
    },
    {
     "data": {
      "text/html": [
       "<div>\n",
       "<style scoped>\n",
       "    .dataframe tbody tr th:only-of-type {\n",
       "        vertical-align: middle;\n",
       "    }\n",
       "\n",
       "    .dataframe tbody tr th {\n",
       "        vertical-align: top;\n",
       "    }\n",
       "\n",
       "    .dataframe thead th {\n",
       "        text-align: right;\n",
       "    }\n",
       "</style>\n",
       "<table border=\"1\" class=\"dataframe\">\n",
       "  <thead>\n",
       "    <tr style=\"text-align: right;\">\n",
       "      <th></th>\n",
       "      <th>optimal</th>\n",
       "      <th>std</th>\n",
       "      <th>perc_std</th>\n",
       "      <th>pmin</th>\n",
       "      <th>pmax</th>\n",
       "      <th>initial</th>\n",
       "      <th>parray</th>\n",
       "    </tr>\n",
       "  </thead>\n",
       "  <tbody>\n",
       "    <tr>\n",
       "      <td>kaq0_1</td>\n",
       "      <td>9.999615</td>\n",
       "      <td>1.202124e-04</td>\n",
       "      <td>0.001202</td>\n",
       "      <td>0.00000</td>\n",
       "      <td>30.0</td>\n",
       "      <td>20.000</td>\n",
       "      <td>[9.999614963245097, 9.999614963245097]</td>\n",
       "    </tr>\n",
       "    <tr>\n",
       "      <td>Saq0</td>\n",
       "      <td>0.100003</td>\n",
       "      <td>1.774012e-07</td>\n",
       "      <td>0.000177</td>\n",
       "      <td>0.00001</td>\n",
       "      <td>0.2</td>\n",
       "      <td>0.001</td>\n",
       "      <td>[0.10000347866101372]</td>\n",
       "    </tr>\n",
       "    <tr>\n",
       "      <td>Saq1</td>\n",
       "      <td>0.000100</td>\n",
       "      <td>4.317509e-10</td>\n",
       "      <td>0.000432</td>\n",
       "      <td>0.00001</td>\n",
       "      <td>0.2</td>\n",
       "      <td>0.001</td>\n",
       "      <td>[9.999829082128226e-05]</td>\n",
       "    </tr>\n",
       "    <tr>\n",
       "      <td>c1</td>\n",
       "      <td>9.999884</td>\n",
       "      <td>3.603432e-05</td>\n",
       "      <td>0.000360</td>\n",
       "      <td>0.10000</td>\n",
       "      <td>200.0</td>\n",
       "      <td>1.000</td>\n",
       "      <td>[9.999883821181657]</td>\n",
       "    </tr>\n",
       "  </tbody>\n",
       "</table>\n",
       "</div>"
      ],
      "text/plain": [
       "         optimal           std  perc_std     pmin   pmax  initial  \\\n",
       "kaq0_1  9.999615  1.202124e-04  0.001202  0.00000   30.0   20.000   \n",
       "Saq0    0.100003  1.774012e-07  0.000177  0.00001    0.2    0.001   \n",
       "Saq1    0.000100  4.317509e-10  0.000432  0.00001    0.2    0.001   \n",
       "c1      9.999884  3.603432e-05  0.000360  0.10000  200.0    1.000   \n",
       "\n",
       "                                        parray  \n",
       "kaq0_1  [9.999614963245097, 9.999614963245097]  \n",
       "Saq0                     [0.10000347866101372]  \n",
       "Saq1                   [9.999829082128226e-05]  \n",
       "c1                         [9.999883821181657]  "
      ]
     },
     "metadata": {},
     "output_type": "display_data"
    }
   ],
   "source": [
    "cal = Calibrate(ml)\n",
    "cal.set_parameter(name='kaq0_1', initial=20., pmin=0., pmax=30.)  # layers 0 and 1 have the same k-value\n",
    "cal.set_parameter(name='Saq0', initial=1e-3, pmin=1e-5, pmax=0.2)\n",
    "cal.set_parameter(name='Saq1', initial=1e-3, pmin=1e-5, pmax=0.2)\n",
    "cal.set_parameter(name='c1', initial=1., pmin=0.1, pmax=200.)\n",
    "cal.series(name='obs0', x=robs, y=0, layer=0, t=tobs, h=hobs0)\n",
    "cal.series(name='obs1', x=robs, y=0, layer=1, t=tobs, h=hobs1)\n",
    "cal.fit(report=False)\n",
    "display(cal.parameters)"
   ]
  },
  {
   "cell_type": "code",
   "execution_count": 13,
   "metadata": {},
   "outputs": [
    {
     "data": {
      "text/plain": [
       "<matplotlib.legend.Legend at 0x12bf6d3d0>"
      ]
     },
     "execution_count": 13,
     "metadata": {},
     "output_type": "execute_result"
    },
    {
     "data": {
      "image/png": "[encoded data removed]",
      "text/plain": [
       "<Figure size 432x288 with 1 Axes>"
      ]
     },
     "metadata": {
      "needs_background": "light"
     },
     "output_type": "display_data"
    }
   ],
   "source": [
    "plt.semilogx(tobs, hobs0, '.C0', label=\"obs layer 0\")\n",
    "plt.semilogx(tobs, hobs1, '.C1', label=\"obs layer 1\")\n",
    "\n",
    "hm = ml.head(robs, 0, tobs)\n",
    "plt.semilogx(tobs, hm[0], 'C0', label=\"modelled head layer 0\")\n",
    "plt.semilogx(tobs, hm[1], 'C1', label=\"modelled head layer 1\")\n",
    "\n",
    "plt.legend(loc=\"best\")"
   ]
  }
 ],
 "metadata": {
  "kernelspec": {
   "display_name": "Python 3",
   "language": "python",
   "name": "python3"
  },
  "language_info": {
   "codemirror_mode": {
    "name": "ipython",
    "version": 3
   },
   "file_extension": ".py",
   "mimetype": "text/x-python",
   "name": "python",
   "nbconvert_exporter": "python",
   "pygments_lexer": "ipython3",
   "version": "3.7.4"
  },
  "latex_envs": {
   "LaTeX_envs_menu_present": true,
   "autoclose": false,
   "autocomplete": true,
   "bibliofile": "biblio.bib",
   "cite_by": "apalike",
   "current_citInitial": 1,
   "eqLabelWithNumbers": true,
   "eqNumInitial": 1,
   "hotkeys": {
    "equation": "Ctrl-E",
    "itemize": "Ctrl-I"
   },
   "labels_anchors": false,
   "latex_user_defs": false,
   "report_style_numbering": false,
   "user_envs_cfg": false
  },
  "varInspector": {
   "cols": {
    "lenName": 16,
    "lenType": 16,
    "lenVar": 40
   },
   "kernels_config": {
    "python": {
     "delete_cmd_postfix": "",
     "delete_cmd_prefix": "del ",
     "library": "var_list.py",
     "varRefreshCmd": "print(var_dic_list())"
    },
    "r": {
     "delete_cmd_postfix": ") ",
     "delete_cmd_prefix": "rm(",
     "library": "var_list.r",
     "varRefreshCmd": "cat(var_dic_list()) "
    }
   },
   "types_to_exclude": [
    "module",
    "function",
    "builtin_function_or_method",
    "instance",
    "_Feature"
   ],
   "window_display": false
  }
 },
 "nbformat": 4,
 "nbformat_minor": 4
}
