{
 "cells": [
  {
   "cell_type": "code",
   "execution_count": 1,
   "metadata": {},
   "outputs": [],
   "source": [
    "from pylab import *\n",
    "%matplotlib inline"
   ]
  },
  {
   "cell_type": "code",
   "execution_count": 2,
   "metadata": {},
   "outputs": [
    {
     "data": {
      "image/png": "[encoded data removed]",
      "text/plain": [
       "<Figure size 432x288 with 1 Axes>"
      ]
     },
     "metadata": {
      "needs_background": "light"
     },
     "output_type": "display_data"
    }
   ],
   "source": [
    "# ModelMaq figure\n",
    "figure()\n",
    "axes(frameon = 0)\n",
    "grey = [.9, .9, .9]\n",
    "plot([-1, 1], [0, 0], 'k', lw=2)\n",
    "axhspan(-5, -10, color=grey)\n",
    "axhspan(-20, -25, color=grey)\n",
    "plot([-1, 1], [-35, -35], 'k', lw=2)\n",
    "text(-0.5, -2.5, '$k$ = 10 m/d', ha='center', va='center')\n",
    "text(-0.5, -15, '$k$ = 30 m/d', ha='center', va='center')\n",
    "text(-0.5, -30, '$k$ = 20 m/d', ha='center', va='center')\n",
    "text(-0.5, -7.5, '$c$ = 2000 d', ha='center', va='center')\n",
    "text(-0.5, -22.5, '$c$ = 5000 d', ha='center', va='center')\n",
    "text(0.5, -2.5, '$S$ = 0.1', ha='center', va='center')\n",
    "text(0.5, -15, '$S_s$ = 0.0001', ha='center', va='center')\n",
    "text(0.5, -30, '$S_s$ = 0.0002', ha='center', va='center')\n",
    "text(0.5, -7.5, '$S_s$ = 0.0001', ha='center', va='center')\n",
    "text(0.5, -22.5, '$S_s$ = 0.0004', ha='center', va='center')\n",
    "xlim(-1, 1)\n",
    "yticks([0, -5, -10, -20, -25, -35])\n",
    "ylabel('elevation (m)')\n",
    "xticks([])\n",
    "savefig('../docs/models/modelmaq.png', bbox_inches='tight')\n",
    "#ModelMaq(kaq=[10, 30, 20], z=[0, -5, -10, -20, -25, -35], c=[2000, 5000])"
   ]
  },
  {
   "cell_type": "code",
   "execution_count": 3,
   "metadata": {},
   "outputs": [
    {
     "data": {
      "image/png": "[encoded data removed]",
      "text/plain": [
       "<Figure size 432x288 with 1 Axes>"
      ]
     },
     "metadata": {
      "needs_background": "light"
     },
     "output_type": "display_data"
    }
   ],
   "source": [
    "# ModelMaq figure\n",
    "figure()\n",
    "axes(frameon = 0)\n",
    "grey = [.9, .9, .9]\n",
    "plot([-1, 1], [0, 0], 'k', lw=2)\n",
    "axhspan(-5, -5, color=grey)\n",
    "axhspan(-10, -10, color=grey)\n",
    "axhspan(-20, -20, color=grey)\n",
    "axhspan(-25, -25, color=grey)\n",
    "plot([-1, 1], [-35, -35], 'k', lw=2)\n",
    "text(-0.5, -2.5, '$k$ = 10 m/d', ha='center', va='center')\n",
    "text(-0.5, -7.5, '$k$ = 0.025 m/d', ha='center', va='center')\n",
    "text(-0.5, -15, '$k$ = 30 m/d', ha='center', va='center')\n",
    "text(-0.5, -22.5, '$k$ = 0.01 m/d', ha='center', va='center')\n",
    "text(-0.5, -30, '$k$ = 20 m/d', ha='center', va='center')\n",
    "text(0.5, -2.5, '$S_s$ = 0.0001', ha='center', va='center')\n",
    "text(0.5, -7.5, '$S_s$ = 0.0001', ha='center', va='center')\n",
    "text(0.5, -15, '$S_s$ = 0.0001', ha='center', va='center')\n",
    "text(0.5, -22.5, '$S_s$ = 0.0001', ha='center', va='center')\n",
    "text(0.5, -30, '$S_s$ = 0.0001', ha='center', va='center')\n",
    "xlim(-1, 1)\n",
    "yticks([0, -5, -10, -20, -25, -35])\n",
    "ylabel('elevation (m)')\n",
    "xticks([])\n",
    "savefig('../docs/models/model3d.png', bbox_inches='tight')\n",
    "#Model3D(kaq=[10, 0.0025, 30, 0.001, 20], z=[0, -5, -10, -20, -25, -35], kzoverkh=0.1)"
   ]
  },
  {
   "cell_type": "code",
   "execution_count": null,
   "metadata": {
    "collapsed": true,
    "jupyter": {
     "outputs_hidden": true
    }
   },
   "outputs": [],
   "source": []
  }
 ],
 "metadata": {
  "kernelspec": {
   "display_name": "Python 3",
   "language": "python",
   "name": "python3"
  },
  "language_info": {
   "codemirror_mode": {
    "name": "ipython",
    "version": 3
   },
   "file_extension": ".py",
   "mimetype": "text/x-python",
   "name": "python",
   "nbconvert_exporter": "python",
   "pygments_lexer": "ipython3",
   "version": "3.7.4"
  },
  "widgets": {
   "state": {},
   "version": "1.1.2"
  }
 },
 "nbformat": 4,
 "nbformat_minor": 4
}
