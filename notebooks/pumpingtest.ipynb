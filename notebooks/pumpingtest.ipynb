{
 "cells": [
  {
   "cell_type": "markdown",
   "metadata": {},
   "source": [
    "### TTim example of pumping test analysis"
   ]
  },
  {
   "cell_type": "code",
   "execution_count": 1,
   "metadata": {},
   "outputs": [],
   "source": [
    "import numpy as np\n",
    "import matplotlib.pyplot as plt\n",
    "%matplotlib inline\n",
    "from ttim import *"
   ]
  },
  {
   "cell_type": "markdown",
   "metadata": {},
   "source": [
    "Load data of two observation wells"
   ]
  },
  {
   "cell_type": "code",
   "execution_count": 2,
   "metadata": {},
   "outputs": [],
   "source": [
    "drawdown = np.loadtxt('data/oudekorendijk_h30.dat')\n",
    "to1 = drawdown[:,0] / 60 / 24\n",
    "ho1 = -drawdown[:,1]\n",
    "ro1 = 30\n",
    "\n",
    "drawdown = np.loadtxt('data/oudekorendijk_h90.dat')\n",
    "to2 = drawdown[:,0] / 60 / 24\n",
    "ho2 = -drawdown[:,1]\n",
    "ro2 = 90"
   ]
  },
  {
   "cell_type": "markdown",
   "metadata": {},
   "source": [
    "Pumping discharge"
   ]
  },
  {
   "cell_type": "code",
   "execution_count": 3,
   "metadata": {},
   "outputs": [],
   "source": [
    "Qo = 788"
   ]
  },
  {
   "cell_type": "markdown",
   "metadata": {},
   "source": [
    "Create model"
   ]
  },
  {
   "cell_type": "code",
   "execution_count": 4,
   "metadata": {},
   "outputs": [
    {
     "name": "stdout",
     "output_type": "stream",
     "text": [
      "self.neq  1\n",
      "solution complete\n"
     ]
    }
   ],
   "source": [
    "ml = ModelMaq(kaq=60, z=(-18, -25), Saq=1e-4, tmin=1e-5, tmax=1)\n",
    "w = Well(ml, xw=0, yw=0, rw=0.1, tsandQ=[(0, 788)], layers=0)\n",
    "ml.solve()"
   ]
  },
  {
   "cell_type": "markdown",
   "metadata": {},
   "source": [
    "Create calibration object, add parameters and first series. Fit the model. The chi-square value is the mean of the squared residuals at the optimum."
   ]
  },
  {
   "cell_type": "code",
   "execution_count": 5,
   "metadata": {},
   "outputs": [
    {
     "name": "stdout",
     "output_type": "stream",
     "text": [
      "...............................\n",
      "Fit succeeded.\n",
      "[[Fit Statistics]]\n",
      "    # fitting method   = leastsq\n",
      "    # function evals   = 28\n",
      "    # data points      = 34\n",
      "    # variables        = 2\n",
      "    chi-square         = 0.03407540\n",
      "    reduced chi-square = 0.00106486\n",
      "    Akaike info crit   = -230.788364\n",
      "    Bayesian info crit = -227.735643\n",
      "[[Variables]]\n",
      "    kaq0:  68.6432465 +/- 1.43808066 (2.10%) (init = 10)\n",
      "    Saq0:  1.6066e-05 +/- 1.5806e-06 (9.84%) (init = 0.0001)\n",
      "[[Correlations]] (unreported correlations are < 0.100)\n",
      "    C(kaq0, Saq0) = -0.891\n"
     ]
    },
    {
     "data": {
      "text/html": [
       "<div>\n",
       "<style scoped>\n",
       "    .dataframe tbody tr th:only-of-type {\n",
       "        vertical-align: middle;\n",
       "    }\n",
       "\n",
       "    .dataframe tbody tr th {\n",
       "        vertical-align: top;\n",
       "    }\n",
       "\n",
       "    .dataframe thead th {\n",
       "        text-align: right;\n",
       "    }\n",
       "</style>\n",
       "<table border=\"1\" class=\"dataframe\">\n",
       "  <thead>\n",
       "    <tr style=\"text-align: right;\">\n",
       "      <th></th>\n",
       "      <th>optimal</th>\n",
       "      <th>std</th>\n",
       "      <th>perc_std</th>\n",
       "      <th>pmin</th>\n",
       "      <th>pmax</th>\n",
       "      <th>initial</th>\n",
       "      <th>parray</th>\n",
       "    </tr>\n",
       "  </thead>\n",
       "  <tbody>\n",
       "    <tr>\n",
       "      <td>kaq0</td>\n",
       "      <td>68.6432</td>\n",
       "      <td>1.438081</td>\n",
       "      <td>2.09501</td>\n",
       "      <td>-inf</td>\n",
       "      <td>inf</td>\n",
       "      <td>10</td>\n",
       "      <td>[68.64324645452542]</td>\n",
       "    </tr>\n",
       "    <tr>\n",
       "      <td>Saq0</td>\n",
       "      <td>1.60665e-05</td>\n",
       "      <td>0.000002</td>\n",
       "      <td>9.8379</td>\n",
       "      <td>-inf</td>\n",
       "      <td>inf</td>\n",
       "      <td>0.0001</td>\n",
       "      <td>[1.606645694327689e-05]</td>\n",
       "    </tr>\n",
       "  </tbody>\n",
       "</table>\n",
       "</div>"
      ],
      "text/plain": [
       "          optimal       std perc_std  pmin  pmax initial  \\\n",
       "kaq0      68.6432  1.438081  2.09501  -inf   inf      10   \n",
       "Saq0  1.60665e-05  0.000002   9.8379  -inf   inf  0.0001   \n",
       "\n",
       "                       parray  \n",
       "kaq0      [68.64324645452542]  \n",
       "Saq0  [1.606645694327689e-05]  "
      ]
     },
     "metadata": {},
     "output_type": "display_data"
    },
    {
     "name": "stdout",
     "output_type": "stream",
     "text": [
      "rmse: 0.03165782078840182\n",
      "mse: 0.03407539898039926\n"
     ]
    }
   ],
   "source": [
    "cal = Calibrate(ml)\n",
    "cal.set_parameter(name='kaq0', initial=10)\n",
    "cal.set_parameter(name='Saq0', initial=1e-4)\n",
    "cal.series(name='obs1', x=ro1, y=0, layer=0, t=to1, h=ho1)\n",
    "cal.fit(report=True)\n",
    "display(cal.parameters)\n",
    "print('rmse:', cal.rmse())\n",
    "print('mse:', cal.rmse() ** 2 * len(ho1))\n",
    "h1a = ml.head(ro1, 0, to1, 0) # simulated head\n",
    "h2a = ml.head(ro2, 0, to2, 0) # simulated head"
   ]
  },
  {
   "cell_type": "code",
   "execution_count": 6,
   "metadata": {},
   "outputs": [
    {
     "name": "stdout",
     "output_type": "stream",
     "text": [
      "......................\n",
      "Fit succeeded.\n"
     ]
    },
    {
     "data": {
      "text/html": [
       "<div>\n",
       "<style scoped>\n",
       "    .dataframe tbody tr th:only-of-type {\n",
       "        vertical-align: middle;\n",
       "    }\n",
       "\n",
       "    .dataframe tbody tr th {\n",
       "        vertical-align: top;\n",
       "    }\n",
       "\n",
       "    .dataframe thead th {\n",
       "        text-align: right;\n",
       "    }\n",
       "</style>\n",
       "<table border=\"1\" class=\"dataframe\">\n",
       "  <thead>\n",
       "    <tr style=\"text-align: right;\">\n",
       "      <th></th>\n",
       "      <th>optimal</th>\n",
       "      <th>std</th>\n",
       "      <th>perc_std</th>\n",
       "      <th>pmin</th>\n",
       "      <th>pmax</th>\n",
       "      <th>initial</th>\n",
       "      <th>parray</th>\n",
       "    </tr>\n",
       "  </thead>\n",
       "  <tbody>\n",
       "    <tr>\n",
       "      <td>kaq0</td>\n",
       "      <td>71.5847</td>\n",
       "      <td>1.574273</td>\n",
       "      <td>2.19918</td>\n",
       "      <td>-inf</td>\n",
       "      <td>inf</td>\n",
       "      <td>50</td>\n",
       "      <td>[71.58469333796758]</td>\n",
       "    </tr>\n",
       "    <tr>\n",
       "      <td>Saq0</td>\n",
       "      <td>2.91042e-05</td>\n",
       "      <td>0.000002</td>\n",
       "      <td>6.65756</td>\n",
       "      <td>-inf</td>\n",
       "      <td>inf</td>\n",
       "      <td>1.5e-05</td>\n",
       "      <td>[2.910424903098926e-05]</td>\n",
       "    </tr>\n",
       "  </tbody>\n",
       "</table>\n",
       "</div>"
      ],
      "text/plain": [
       "          optimal       std perc_std  pmin  pmax  initial  \\\n",
       "kaq0      71.5847  1.574273  2.19918  -inf   inf       50   \n",
       "Saq0  2.91042e-05  0.000002  6.65756  -inf   inf  1.5e-05   \n",
       "\n",
       "                       parray  \n",
       "kaq0      [71.58469333796758]  \n",
       "Saq0  [2.910424903098926e-05]  "
      ]
     },
     "metadata": {},
     "output_type": "display_data"
    }
   ],
   "source": [
    "# second observation well\n",
    "cal = Calibrate(ml)\n",
    "cal.set_parameter(name='kaq0', initial=50)\n",
    "cal.set_parameter(name='Saq0', initial=1.5e-5)\n",
    "cal.series(name='obs1', x=ro2, y=0, layer=0, t=to2, h=ho2)\n",
    "cal.fit(report=False)\n",
    "display(cal.parameters)\n",
    "h1b = ml.head(ro1, 0, to1, 0) # simulated head\n",
    "h2b = ml.head(ro2, 0, to2, 0) # simulated head"
   ]
  },
  {
   "cell_type": "code",
   "execution_count": 7,
   "metadata": {},
   "outputs": [
    {
     "data": {
      "image/png": "[encoded data removed]",
      "text/plain": [
       "<Figure size 864x288 with 2 Axes>"
      ]
     },
     "metadata": {
      "needs_background": "light"
     },
     "output_type": "display_data"
    }
   ],
   "source": [
    "plt.figure(figsize=(12, 4))\n",
    "plt.subplot(121)\n",
    "plt.semilogx(to1, ho1, 'C0.', label='observed 1')\n",
    "plt.semilogx(to1, h1a[0], 'C0', label='model 1')\n",
    "plt.semilogx(to2, ho2, 'C1.', label='observed 2')\n",
    "plt.semilogx(to2, h2a[0], 'C1', label='model 2')\n",
    "plt.title('calibrated well 1')\n",
    "plt.xlabel('time (d)')\n",
    "plt.ylabel('head (m)')\n",
    "plt.legend()\n",
    "plt.subplot(122)\n",
    "plt.semilogx(to1, ho1, 'C0.', label='observed 1')\n",
    "plt.semilogx(to1, h1b[0], 'C0', label='model 1')\n",
    "plt.semilogx(to2, ho2, 'C1.', label='observed 2')\n",
    "plt.semilogx(to2, h2b[0], 'C1', label='model 2')\n",
    "plt.title('calibrated well 2')\n",
    "plt.xlabel('time (d)')\n",
    "plt.ylabel('head (m)')\n",
    "plt.legend();"
   ]
  },
  {
   "cell_type": "markdown",
   "metadata": {},
   "source": [
    "### Add wellbore storage"
   ]
  },
  {
   "cell_type": "code",
   "execution_count": 8,
   "metadata": {},
   "outputs": [
    {
     "name": "stdout",
     "output_type": "stream",
     "text": [
      "self.neq  1\n",
      "solution complete\n"
     ]
    }
   ],
   "source": [
    "ml = ModelMaq(kaq=60, z=(-18, -25), Saq=1e-4, tmin=1e-5, tmax=1)\n",
    "w = Well(ml, xw=0, yw=0, rw=0.1, rc=0.2, tsandQ=[(0, 788)], layers=0)\n",
    "ml.solve()"
   ]
  },
  {
   "cell_type": "code",
   "execution_count": 9,
   "metadata": {},
   "outputs": [
    {
     "name": "stdout",
     "output_type": "stream",
     "text": [
      "....................................................\n",
      "Fit succeeded.\n"
     ]
    },
    {
     "data": {
      "text/html": [
       "<div>\n",
       "<style scoped>\n",
       "    .dataframe tbody tr th:only-of-type {\n",
       "        vertical-align: middle;\n",
       "    }\n",
       "\n",
       "    .dataframe tbody tr th {\n",
       "        vertical-align: top;\n",
       "    }\n",
       "\n",
       "    .dataframe thead th {\n",
       "        text-align: right;\n",
       "    }\n",
       "</style>\n",
       "<table border=\"1\" class=\"dataframe\">\n",
       "  <thead>\n",
       "    <tr style=\"text-align: right;\">\n",
       "      <th></th>\n",
       "      <th>optimal</th>\n",
       "      <th>std</th>\n",
       "      <th>perc_std</th>\n",
       "      <th>pmin</th>\n",
       "      <th>pmax</th>\n",
       "      <th>initial</th>\n",
       "      <th>parray</th>\n",
       "    </tr>\n",
       "  </thead>\n",
       "  <tbody>\n",
       "    <tr>\n",
       "      <td>kaq0</td>\n",
       "      <td>80.8912</td>\n",
       "      <td>1.760732e+00</td>\n",
       "      <td>2.17667</td>\n",
       "      <td>-inf</td>\n",
       "      <td>inf</td>\n",
       "      <td>10</td>\n",
       "      <td>[80.89124617448037]</td>\n",
       "    </tr>\n",
       "    <tr>\n",
       "      <td>Saq0</td>\n",
       "      <td>5.48424e-06</td>\n",
       "      <td>8.118776e-07</td>\n",
       "      <td>14.8038</td>\n",
       "      <td>-inf</td>\n",
       "      <td>inf</td>\n",
       "      <td>1e-05</td>\n",
       "      <td>[5.484243171877451e-06]</td>\n",
       "    </tr>\n",
       "    <tr>\n",
       "      <td>rc</td>\n",
       "      <td>0.289219</td>\n",
       "      <td>1.710914e-02</td>\n",
       "      <td>5.91563</td>\n",
       "      <td>0.01</td>\n",
       "      <td>1.0</td>\n",
       "      <td>0.2</td>\n",
       "      <td>[0.2892190775596667]</td>\n",
       "    </tr>\n",
       "  </tbody>\n",
       "</table>\n",
       "</div>"
      ],
      "text/plain": [
       "          optimal           std perc_std  pmin  pmax initial  \\\n",
       "kaq0      80.8912  1.760732e+00  2.17667  -inf   inf      10   \n",
       "Saq0  5.48424e-06  8.118776e-07  14.8038  -inf   inf   1e-05   \n",
       "rc       0.289219  1.710914e-02  5.91563  0.01   1.0     0.2   \n",
       "\n",
       "                       parray  \n",
       "kaq0      [80.89124617448037]  \n",
       "Saq0  [5.484243171877451e-06]  \n",
       "rc       [0.2892190775596667]  "
      ]
     },
     "metadata": {},
     "output_type": "display_data"
    }
   ],
   "source": [
    "cal = Calibrate(ml)\n",
    "cal.set_parameter(name='kaq0', initial=10)\n",
    "cal.set_parameter(name='Saq0', initial=1e-5)\n",
    "cal.set_parameter(name='rc', parameter=w.rc, initial=0.2, pmin=0.01, pmax=1)\n",
    "cal.series(name='obs1', x=ro1, y=0, layer=0, t=to1, h=ho1)\n",
    "cal.fit(report=False)\n",
    "display(cal.parameters)\n",
    "h1a = ml.head(ro1, 0, to1, 0) # simulated head\n",
    "h2a = ml.head(ro2, 0, to2, 0) # simulated head"
   ]
  },
  {
   "cell_type": "code",
   "execution_count": 10,
   "metadata": {},
   "outputs": [
    {
     "name": "stdout",
     "output_type": "stream",
     "text": [
      "................................................\n",
      "Fit succeeded.\n"
     ]
    },
    {
     "data": {
      "text/html": [
       "<div>\n",
       "<style scoped>\n",
       "    .dataframe tbody tr th:only-of-type {\n",
       "        vertical-align: middle;\n",
       "    }\n",
       "\n",
       "    .dataframe tbody tr th {\n",
       "        vertical-align: top;\n",
       "    }\n",
       "\n",
       "    .dataframe thead th {\n",
       "        text-align: right;\n",
       "    }\n",
       "</style>\n",
       "<table border=\"1\" class=\"dataframe\">\n",
       "  <thead>\n",
       "    <tr style=\"text-align: right;\">\n",
       "      <th></th>\n",
       "      <th>optimal</th>\n",
       "      <th>std</th>\n",
       "      <th>perc_std</th>\n",
       "      <th>pmin</th>\n",
       "      <th>pmax</th>\n",
       "      <th>initial</th>\n",
       "      <th>parray</th>\n",
       "    </tr>\n",
       "  </thead>\n",
       "  <tbody>\n",
       "    <tr>\n",
       "      <td>kaq0</td>\n",
       "      <td>88.1627</td>\n",
       "      <td>1.427134e+00</td>\n",
       "      <td>1.61875</td>\n",
       "      <td>-inf</td>\n",
       "      <td>inf</td>\n",
       "      <td>10</td>\n",
       "      <td>[88.16273027633643]</td>\n",
       "    </tr>\n",
       "    <tr>\n",
       "      <td>Saq0</td>\n",
       "      <td>1.14637e-05</td>\n",
       "      <td>9.121369e-07</td>\n",
       "      <td>7.95675</td>\n",
       "      <td>-inf</td>\n",
       "      <td>inf</td>\n",
       "      <td>1e-05</td>\n",
       "      <td>[1.1463691339128018e-05]</td>\n",
       "    </tr>\n",
       "    <tr>\n",
       "      <td>rc</td>\n",
       "      <td>0.640659</td>\n",
       "      <td>2.820606e-02</td>\n",
       "      <td>4.40266</td>\n",
       "      <td>0.01</td>\n",
       "      <td>1.0</td>\n",
       "      <td>0.2</td>\n",
       "      <td>[0.6406593767867873]</td>\n",
       "    </tr>\n",
       "  </tbody>\n",
       "</table>\n",
       "</div>"
      ],
      "text/plain": [
       "          optimal           std perc_std  pmin  pmax initial  \\\n",
       "kaq0      88.1627  1.427134e+00  1.61875  -inf   inf      10   \n",
       "Saq0  1.14637e-05  9.121369e-07  7.95675  -inf   inf   1e-05   \n",
       "rc       0.640659  2.820606e-02  4.40266  0.01   1.0     0.2   \n",
       "\n",
       "                        parray  \n",
       "kaq0       [88.16273027633643]  \n",
       "Saq0  [1.1463691339128018e-05]  \n",
       "rc        [0.6406593767867873]  "
      ]
     },
     "metadata": {},
     "output_type": "display_data"
    }
   ],
   "source": [
    "cal = Calibrate(ml)\n",
    "cal.set_parameter(name='kaq0', initial=10)\n",
    "cal.set_parameter(name='Saq0', initial=1e-5)\n",
    "cal.set_parameter(name='rc', parameter=w.rc, initial=0.2, pmin=0.01, pmax=1)\n",
    "cal.series(name='obs1', x=ro2, y=0, layer=0, t=to2, h=ho2)\n",
    "cal.fit(report=False)\n",
    "display(cal.parameters)\n",
    "h1b = ml.head(ro1, 0, to1, 0) # simulated head\n",
    "h2b = ml.head(ro2, 0, to2, 0) # simulated head"
   ]
  },
  {
   "cell_type": "code",
   "execution_count": 11,
   "metadata": {},
   "outputs": [
    {
     "data": {
      "image/png": "[encoded data removed]",
      "text/plain": [
       "<Figure size 864x288 with 2 Axes>"
      ]
     },
     "metadata": {
      "needs_background": "light"
     },
     "output_type": "display_data"
    }
   ],
   "source": [
    "plt.figure(figsize=(12, 4))\n",
    "plt.subplot(121)\n",
    "plt.semilogx(to1, ho1, 'C0.', label='observed 1')\n",
    "plt.semilogx(to1, h1a[0], 'C0', label='model 1')\n",
    "plt.semilogx(to2, ho2, 'C1.', label='observed 2')\n",
    "plt.semilogx(to2, h2a[0], 'C1', label='model 2')\n",
    "plt.title('calibrated well 1')\n",
    "plt.xlabel('time (d)')\n",
    "plt.ylabel('head (m)')\n",
    "plt.legend()\n",
    "plt.subplot(122)\n",
    "plt.semilogx(to1, ho1, 'C0.', label='observed 1')\n",
    "plt.semilogx(to1, h1b[0], 'C0', label='model 1')\n",
    "plt.semilogx(to2, ho2, 'C1.', label='observed 2')\n",
    "plt.semilogx(to2, h2b[0], 'C1', label='model 2')\n",
    "plt.title('calibrated well 2')\n",
    "plt.xlabel('time (d)')\n",
    "plt.ylabel('head (m)')\n",
    "plt.legend();"
   ]
  },
  {
   "cell_type": "markdown",
   "metadata": {},
   "source": [
    "### Two observation wells simultaneously"
   ]
  },
  {
   "cell_type": "code",
   "execution_count": 12,
   "metadata": {},
   "outputs": [
    {
     "name": "stdout",
     "output_type": "stream",
     "text": [
      "............................................................\n",
      "Fit succeeded.\n"
     ]
    },
    {
     "data": {
      "text/html": [
       "<div>\n",
       "<style scoped>\n",
       "    .dataframe tbody tr th:only-of-type {\n",
       "        vertical-align: middle;\n",
       "    }\n",
       "\n",
       "    .dataframe tbody tr th {\n",
       "        vertical-align: top;\n",
       "    }\n",
       "\n",
       "    .dataframe thead th {\n",
       "        text-align: right;\n",
       "    }\n",
       "</style>\n",
       "<table border=\"1\" class=\"dataframe\">\n",
       "  <thead>\n",
       "    <tr style=\"text-align: right;\">\n",
       "      <th></th>\n",
       "      <th>optimal</th>\n",
       "      <th>std</th>\n",
       "      <th>perc_std</th>\n",
       "      <th>pmin</th>\n",
       "      <th>pmax</th>\n",
       "      <th>initial</th>\n",
       "      <th>parray</th>\n",
       "    </tr>\n",
       "  </thead>\n",
       "  <tbody>\n",
       "    <tr>\n",
       "      <td>kaq0</td>\n",
       "      <td>66.0983</td>\n",
       "      <td>1.687864</td>\n",
       "      <td>2.55357</td>\n",
       "      <td>-inf</td>\n",
       "      <td>inf</td>\n",
       "      <td>10</td>\n",
       "      <td>[66.09826039203237]</td>\n",
       "    </tr>\n",
       "    <tr>\n",
       "      <td>Saq0</td>\n",
       "      <td>2.5393e-05</td>\n",
       "      <td>0.000003</td>\n",
       "      <td>9.91938</td>\n",
       "      <td>-inf</td>\n",
       "      <td>inf</td>\n",
       "      <td>1e-05</td>\n",
       "      <td>[2.5392951627900582e-05]</td>\n",
       "    </tr>\n",
       "    <tr>\n",
       "      <td>rc</td>\n",
       "      <td>0.01</td>\n",
       "      <td>0.010888</td>\n",
       "      <td>108.875</td>\n",
       "      <td>0.01</td>\n",
       "      <td>1.0</td>\n",
       "      <td>0.2</td>\n",
       "      <td>[0.01000004512539029]</td>\n",
       "    </tr>\n",
       "  </tbody>\n",
       "</table>\n",
       "</div>"
      ],
      "text/plain": [
       "         optimal       std perc_std  pmin  pmax initial  \\\n",
       "kaq0     66.0983  1.687864  2.55357  -inf   inf      10   \n",
       "Saq0  2.5393e-05  0.000003  9.91938  -inf   inf   1e-05   \n",
       "rc          0.01  0.010888  108.875  0.01   1.0     0.2   \n",
       "\n",
       "                        parray  \n",
       "kaq0       [66.09826039203237]  \n",
       "Saq0  [2.5392951627900582e-05]  \n",
       "rc       [0.01000004512539029]  "
      ]
     },
     "metadata": {},
     "output_type": "display_data"
    }
   ],
   "source": [
    "cal = Calibrate(ml)\n",
    "cal.set_parameter(name='kaq0', initial=10)\n",
    "cal.set_parameter(name='Saq0', initial=1e-5)\n",
    "cal.set_parameter(name='rc', parameter=w.rc, initial=0.2, pmin=0.01, pmax=1)\n",
    "cal.series(name='obs1', x=ro1, y=0, layer=0, t=to1, h=ho1)\n",
    "cal.series(name='obs2', x=ro2, y=0, layer=0, t=to2, h=ho2)\n",
    "cal.fit(report=False)\n",
    "display(cal.parameters)"
   ]
  },
  {
   "cell_type": "code",
   "execution_count": 13,
   "metadata": {},
   "outputs": [
    {
     "data": {
      "image/png": "[encoded data removed]",
      "text/plain": [
       "<Figure size 432x288 with 1 Axes>"
      ]
     },
     "metadata": {
      "needs_background": "light"
     },
     "output_type": "display_data"
    }
   ],
   "source": [
    "h1 = ml.head(ro1, 0, to1, 0)\n",
    "plt.semilogx(to1, ho1, '.', label='obs1')\n",
    "plt.semilogx(to1, h1[0], label='model')\n",
    "h2 = ml.head(ro2, 0, to2, 0)\n",
    "plt.semilogx(to2, ho2, '.', label='obs2')\n",
    "plt.semilogx(to2, h2[0], label='model')\n",
    "plt.title('two wells simulaneously')\n",
    "plt.xlabel('time (d)')\n",
    "plt.ylabel('head (m)')\n",
    "plt.legend();"
   ]
  }
 ],
 "metadata": {
  "kernelspec": {
   "display_name": "Python 3",
   "language": "python",
   "name": "python3"
  },
  "language_info": {
   "codemirror_mode": {
    "name": "ipython",
    "version": 3
   },
   "file_extension": ".py",
   "mimetype": "text/x-python",
   "name": "python",
   "nbconvert_exporter": "python",
   "pygments_lexer": "ipython3",
   "version": "3.7.4"
  },
  "latex_envs": {
   "LaTeX_envs_menu_present": true,
   "autoclose": false,
   "autocomplete": true,
   "bibliofile": "biblio.bib",
   "cite_by": "apalike",
   "current_citInitial": 1,
   "eqLabelWithNumbers": true,
   "eqNumInitial": 1,
   "hotkeys": {
    "equation": "Ctrl-E",
    "itemize": "Ctrl-I"
   },
   "labels_anchors": false,
   "latex_user_defs": false,
   "report_style_numbering": false,
   "user_envs_cfg": false
  },
  "varInspector": {
   "cols": {
    "lenName": 16,
    "lenType": 16,
    "lenVar": 40
   },
   "kernels_config": {
    "python": {
     "delete_cmd_postfix": "",
     "delete_cmd_prefix": "del ",
     "library": "var_list.py",
     "varRefreshCmd": "print(var_dic_list())"
    },
    "r": {
     "delete_cmd_postfix": ") ",
     "delete_cmd_prefix": "rm(",
     "library": "var_list.r",
     "varRefreshCmd": "cat(var_dic_list()) "
    }
   },
   "types_to_exclude": [
    "module",
    "function",
    "builtin_function_or_method",
    "instance",
    "_Feature"
   ],
   "window_display": false
  },
  "widgets": {
   "state": {},
   "version": "1.1.2"
  }
 },
 "nbformat": 4,
 "nbformat_minor": 4
}
