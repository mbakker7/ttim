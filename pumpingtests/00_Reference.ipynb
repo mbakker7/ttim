{
 "cells": [
  {
   "cell_type": "markdown",
   "id": "e94ddbf2",
   "metadata": {},
   "source": [
    "# TTim Benchmarks"
   ]
  },
  {
   "cell_type": "markdown",
   "id": "dcd52e70",
   "metadata": {},
   "source": [
    "In this series of benchmark problems, we will demonstrate through Jupyter Notebooks the features and capabilities of TTim to simulate and analyze transient groundwater hydraulic problems such as pumping tests and slug tests.\n",
    "\n"
   ]
  },
  {
   "cell_type": "markdown",
   "id": "7960279f",
   "metadata": {},
   "source": [
    "## Confined Pumping Tests\n",
    "\n",
    "1. [Oude Korendijk](https://github.com/vcantarella/ttim/blob/master/pumpingtest_benchmarks/confined1_oude_korendijk.ipynb) - One layer confined pumping test with two observation wells\n",
    "2. [Grindley](https://github.com/vcantarella/ttim/blob/master/pumpingtest_benchmarks/confined2_grindley.ipynb) - One layer confined pumping test with data from both observation well and pumping well.\n",
    "3. [Sioux](https://github.com/vcantarella/ttim/blob/master/pumpingtest_benchmarks/confined3_sioux.ipynb) - One Layer confined aquifer test with three observation wells\n",
    "4. [Schroth](https://github.com/vcantarella/ttim/blob/master/pumpingtest_benchmarks/confined4_schroth.ipynb) - Three layers (Aquifer - Aquitard - Aquifer) confined pumping test with one observation well.\n",
    "5. [Nevada](https://github.com/vcantarella/ttim/blob/master/pumpingtest_benchmarks/confined5_nevada.ipynb) - One layer, fractured confined aquifer test with data from both observation well and pumping well.\n",
    "\n",
    "## Leaky Pumping Tests (Semi-confined)\n",
    "\n",
    "1. [Dalem](https://github.com/vcantarella/ttim/blob/master/pumpingtest_benchmarks/leaky1_dalem.ipynb) - One layer, semi-confined aquifer test with four observation wells.\n",
    "2. [Hardixveld](https://github.com/vcantarella/ttim/blob/master/pumpingtest_benchmarks/leaky2_hardixveld.ipynb) - Four layers (Aquitard - Aquifer - Aquitard - Aquifer) semi-confined pumping test with data from the pumping well.\n",
    "3. [Texas Hill](https://github.com/vcantarella/ttim/blob/master/pumpingtest_benchmarks/leaky3_texashill.ipynb) - One layer, semi-confined aquifer test with three observation wells.\n",
    "\n",
    "## Unconfined Pumping Tests\n",
    "\n",
    "1. [Vennebulten](https://github.com/vcantarella/ttim/blob/master/pumpingtest_benchmarks/unconfined1_vennebulten.ipynb) - Two layers, unconfined aquifer test with data two observation wells screened at different depths.\n",
    "2. [Moench](https://github.com/vcantarella/ttim/blob/master/pumpingtest_benchmarks/unconfined2_moench.ipynb) - Solving the Analytical model from Moench in TTim. Pumping test in unconfined aquifer with four piezometers screened at two different depths and two different distances\n",
    "\n",
    "## Slug Tests\n",
    "\n",
    "1. [Pratt County](https://github.com/vcantarella/ttim/blob/master/pumpingtest_benchmarks/slug1_pratt_county.ipynb) - One layer partially penetrated slug test with data from the test well.\n",
    "2. [Falling Head](https://github.com/vcantarella/ttim/blob/master/pumpingtest_benchmarks/slug2_falling_head.ipynb) - One layer partially penetrated slug test with data from the test well.\n",
    "3. [Multi-Well](https://github.com/vcantarella/ttim/blob/master/pumpingtest_benchmarks/slug3_multiwell.ipynb) - One layer confined slug test with data from the test well and from an observation well.\n",
    "4. [Dawsonville](https://github.com/vcantarella/ttim/blob/master/pumpingtest_benchmarks/slug4_dawsonville.ipynb) - One layer fully-penetrated confined slug test with data from the test well."
   ]
  }
 ],
 "metadata": {
  "kernelspec": {
   "display_name": "Python 3 (ipykernel)",
   "language": "python",
   "name": "python3"
  },
  "language_info": {
   "codemirror_mode": {
    "name": "ipython",
    "version": 3
   },
   "file_extension": ".py",
   "mimetype": "text/x-python",
   "name": "python",
   "nbconvert_exporter": "python",
   "pygments_lexer": "ipython3",
   "version": "3.8.5"
  }
 },
 "nbformat": 4,
 "nbformat_minor": 5
}
