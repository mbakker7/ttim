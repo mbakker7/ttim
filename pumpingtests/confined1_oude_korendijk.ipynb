{
 "cells": [
  {
   "cell_type": "markdown",
   "metadata": {},
   "source": [
    "# 1. Confined Aquifer Test - Oude Korendijk\n",
    "**This example is taken from Kruseman et al. 1970**"
   ]
  },
  {
   "cell_type": "markdown",
   "metadata": {},
   "source": [
    "## Introduction and Conceptual Model\n",
    "\n",
    "TTim is a semi-analytical model of transient groundwater flow systems (Bakker, 2013). It applies the Laplace-transform analytic element method to solve for groundwater flow in a variety of hydrogeological features. One of the many applications of TTim is the analysis of aquifer tests. In this series of Jupyter Notebooks, we demonstrate the capabilities to model and calibrate aquifer tests in different hydrogeological conditions.\n",
    "\n",
    "In this example, we will use the pumping test data from Oude Korendijk (Kruseman et al. 1970) to demonstrate how TTim can be used to model and analyze pumping tests. Furthermore, we reproduce the work of Yang (2020) and compare the performance of TTim with other transient well hydraulics software AQTESOLV (Duffield, 2007) and MLU (Carlson and Randall, 2012).\n",
    "\n",
    "Oude Korendijk is a polder area south of Rotterdam, the Netherlands. The stratigraphy can be summarised by:\n",
    "* the presence in the first 18 m depth of an impermeable layer,\n",
    "* followed by a 7 m succession of coarse gravel and sands, which are considered as the aquifer layer,\n",
    "* and finally, a layer of fine sands and clayey sediments that are deemed impermeable.\n",
    "\n",
    "The well screens the whole thickness of the aquifer. Drawdowns were taken from piezometers installed 30 and 90 m away from the well. Pumping at the well has been taken with a constant discharge of 788 m3/d for almost 14 hours.\n",
    "\n",
    "The conceptual model of the area is a single layer confined aquifer located at 18 m below surface and 7 m thickness. At $t=0$, the pumping starts at a constant discharge of 788 m3/d and drawdowns are recorded at two piezometers, 30 and 90 meters away, respectively. The figure below summarises the conceptualization of the problem\n"
   ]
  },
  {
   "cell_type": "code",
   "execution_count": 1,
   "metadata": {
    "jupyter": {
     "source_hidden": true
    },
    "tags": []
   },
   "outputs": [
    {
     "data": {
      "image/png": "[encoded data removed]",
      "text/plain": [
       "<Figure size 1008x648 with 1 Axes>"
      ]
     },
     "metadata": {
      "needs_background": "light"
     },
     "output_type": "display_data"
    }
   ],
   "source": [
    "import matplotlib.pyplot as plt\n",
    "import numpy as np\n",
    "\n",
    "##Now printing the conceptual model figure:\n",
    "\n",
    "fig = plt.figure(figsize=(14, 9))\n",
    "ax = fig.add_subplot(1,1,1)\n",
    "#sky\n",
    "sky = plt.Rectangle((-10,0), width = 110, height = 3, fc = 'b', zorder=0, alpha=0.1)\n",
    "ax.add_patch(sky)\n",
    "\n",
    "#Aquifer:\n",
    "ground = plt.Rectangle((-10,-25), width = 110, height = 25, fc = np.array([209,179,127])/255, zorder=0, alpha=0.9)\n",
    "ax.add_patch(ground)\n",
    "\n",
    "#Confining bed:\n",
    "confining_unit = plt.Rectangle((-10,-18), width = 110, height = 18, fc = np.array([100,100,100])/255, zorder=0, alpha=0.7)\n",
    "ax.add_patch(confining_unit)\n",
    "well = plt.Rectangle((-2,-25), width = 4, height = 25, fc = np.array([200,200,200])/255, zorder=1)\n",
    "ax.add_patch(well)\n",
    "\n",
    "#Wellhead\n",
    "wellhead = plt.Rectangle((-2.5,0),width = 5, height = 1.5, fc = np.array([200,200,200])/255, zorder=2, ec='k')\n",
    "ax.add_patch(wellhead)\n",
    "\n",
    "#Screen for the well:\n",
    "screen = plt.Rectangle((-2,-25), width = 4, height = 7, fc = np.array([200,200,200])/255, alpha=1, zorder = 2, ec = \"k\", ls = '--')\n",
    "screen.set_linewidth(2)\n",
    "ax.add_patch(screen)\n",
    "pumping_arrow = plt.Arrow(x = 2.5,y = 0.75, dx = 4, dy = 0, color = \"#00035b\")\n",
    "ax.add_patch(pumping_arrow)\n",
    "ax.text(x = 6.5, y = 0.75, s = r'$ Q = 788 \\frac{m^3}{d}$', fontsize = 'large')\n",
    "#Piezometers\n",
    "piez1 = plt.Rectangle((29,-25), width = 2, height = 25,fc = np.array([200,200,200])/255, zorder=1)\n",
    "piez2 = plt.Rectangle((89,-25), width = 2, height = 25,fc = np.array([200,200,200])/255, zorder=1)\n",
    "screen_piez_1 = plt.Rectangle((29,-25), width = 2, height = 7, fc = np.array([200,200,200])/255, alpha=1, zorder = 2, ec = \"k\", ls = '--')\n",
    "screen_piez_1.set_linewidth(2)\n",
    "screen_piez_2 = plt.Rectangle((89,-25), width = 2, height = 7, fc = np.array([200,200,200])/255, alpha=1, zorder = 2, ec = \"k\", ls = '--')\n",
    "screen_piez_2.set_linewidth(2)\n",
    "ax.add_patch(piez1)\n",
    "ax.add_patch(piez2)\n",
    "ax.add_patch(screen_piez_1)\n",
    "ax.add_patch(screen_piez_2)\n",
    "#last line\n",
    "line = plt.Line2D(xdata= [-10,100], ydata = [0,0], color = \"k\")\n",
    "ax.add_line(line)\n",
    "ax.text(x = 30, y = 0.75, s = 'P30', fontsize = 'large' )\n",
    "ax.text(x = 90, y = 0.75, s = 'P90', fontsize = 'large' )\n",
    "ax.set_xlim([-10,100])\n",
    "ax.set_ylim([-25,3]);"
   ]
  },
  {
   "cell_type": "markdown",
   "metadata": {},
   "source": [
    "## Step 1: Loading libraries"
   ]
  },
  {
   "cell_type": "code",
   "execution_count": 2,
   "metadata": {},
   "outputs": [],
   "source": [
    "import numpy as np\n",
    "import matplotlib.pyplot as plt\n",
    "from ttim import *\n",
    "import pandas as pd"
   ]
  },
  {
   "cell_type": "markdown",
   "metadata": {},
   "source": [
    "## Step 2: Setting basic parameters for the model"
   ]
  },
  {
   "cell_type": "code",
   "execution_count": 3,
   "metadata": {},
   "outputs": [],
   "source": [
    "H = 7 #aquifer thickness in meters\n",
    "zt = -18 #top boundary of aquifer (m)\n",
    "zb = zt - H #bottom boundary of aquifer (m)\n",
    "Q = 788 #constant discharge m3/d"
   ]
  },
  {
   "cell_type": "markdown",
   "metadata": {},
   "source": [
    "<a id='step_3'></a>\n",
    "## Step 3: Creating a TTim conceptual model\n",
    "\n",
    "In this example, we are using the ModelMaq model to conceptualize our aquifer. ModelMaq defines the aquifer system as a stacked vertical sequence of aquifers and leaky layers (aquifer-leaky layer, aquifer-leaky layer, etc). Aquifers are conceptualized as having no vertical resistance (Dupuit approximation), with constant hydraulic conductivity and storage. Aquitard layers are approximated as having only vertical flow. They are characterized by the parameter resistance to vertical flow and by having no storage.\n",
    "\n",
    "In the model construction, we have to set the parameters for each layer (which consists of an aquifer layer and an aquitard layer).\n",
    "\n",
    "For our one-layer model we have to set:\n",
    "\n",
    "- The hydraulic conductivity: ```kaq``` this is a list/array with a float element for every aquifer, for example: ```[kaq0,kaq1]```. We can also set a float value, in this case, the same ```kaq``` is assumed for every layer.\n",
    "- The top and bottom of each aquifer: ```z``` defined by a list/array ```[zt0,zb0,zt1,zb1,...]```, where the inputs are a sequence of top and bottoms of the aquifer layers.\n",
    "- The specific storage: ```Saq```. The input is a list/array with a float element for every aquifer, for example: ```[Saq0, Saq1]```. We can also set a float value. In this case, the same ```Saq``` is assumed for every layer.\n",
    "- The minimum time for which TTim solve the groundwater flow: ```tmin```, a float.\n",
    "- And the maximum time: ```tmax```, float.\n",
    "\n",
    "Optional parameters:\n",
    "\n",
    "- TTim automatically assumes the ```topboundary``` is confined (```topboundary = 'conf'```).  If we assign: ```topboundary = 'semi'``` This means that we assume the layer on top of the uppermost aquifer is a leaky layer, and we must also characterize it. Thus, even though we have only one aquifer, we have to set an additional element to the ```z``` array, which is the top of the aquitard formation:\n",
    "\n",
    "    * For example: ```z = [0,zt,zb]```. 0 is the depth of the aquitard overlying the aquifer, ```zt``` and ```zb``` are the top and bottom of the aquifer. \n",
    "\n",
    "    * We would also specify the leaky-layer parameters ```c``` and ```Sll``` (see below). \n",
    "\n",
    "- ```phreatictop```: Is a boolean (True/False). If ```True```, the first element in ```Saq``` is considered phreatic storage (Specific Yield) and it is not multiplied by the layer thickness. The default value is ```False``` in ```ModelMaq```. Generally, this parameter is set to ```True``` only in unconfined aquifers.\n",
    "\n",
    "In case of more than one layer model, or when ```topboundary = 'semi'```, we would also have to set the resistance to vertical flow ```c```, and the storage ```Sll``` of the aquitard portions. An example of this configuration can be seen in the notebook [Confined 4 - Schroth](confined4_schroth.ipynb)\n",
    "\n",
    "To represent our pumping well, we will use the ```Well``` feature.\n",
    "\n",
    "Wells, in TTim, are features with specified discharge. The well may be screened in multiple layers. In case the screen is in more than one layer, TTim distributes the discharge across the layers such that the head inside the well is the same in all screened layers. The wellbore storage and skin effect may be taken into account.\n",
    "\n",
    "The discharge of the well acting on layer $n$ is computed inside TTim with the expression (Bakker, 2013):\n",
    "\n",
    "$$ Q_n = 2\\pi r_wH_n\\frac{h_n-h_w}{c_e} $$\n",
    "\n",
    "where, $Q_n$ is the discharge at layer $n$, which is a positive value for water being pumped, $r_w$ is the radius of the well, $H_n$ is the layer thickness, $h_n$ is the head just outside the well, and $h_w$ is the head inside the well. $c_e$ is the entry resistance that can be defined in TTim by the skin resistance of the well (see notebook [Confined 2 - Grindley](confined2_grindley.ipynb) for more details)\n",
    "\n",
    "For the well we have to set:\n",
    "- The TTim model: ```ml``` where the well is added to\n",
    "- The x and y location: ```xw, yw```, floats\n",
    "- The pumping scheme is defined by a list (```tsandQ```) where each element is a tuple representing a new stress condition with the starting time and the discharge rate, in our case: ```(0, Q)``` meaning that pumping begins at t = 0 with pumping rate Q\n",
    "- The layers where it is screened: ```layers```. This argument can be set as an integer (one layer) or a list/array of integers (multi-screen well).\n",
    "\n",
    "Optional parameters for the ```Well``` object are:\n",
    "- The well radius: ```rw```, a float, if not specified a value of 0.1 m is assumed.\n",
    "- the skin resistance of the well: ```res```. If not specified, it is set to 0. An example of setting up the skin resistance is seen in the notebook : [Confined 2 - Grindley](confined2_grindley.ipynb).\n",
    "- The radius of the caisson: ```rc```. The radius of the caisson is the parameter used to account for wellbore storage in the simulation. If not specified, this value is set to ```None```  and TTim will ignore wellbore storage. TTim considers the wellbore storage by solving the water balance inside the well with the expression (Bakker, 2013):\n",
    "$$\\pi r_c^2 \\frac{dh_w}{dt} = \\sum_nQ_n-Q_w $$\n",
    "where: $Q_n$ and $Q_w$ are the inflows and outflows in the well, $h_w$ is the head inside the well and $r_c$ is the radius of the caisson.\n",
    "\n",
    "\n"
   ]
  },
  {
   "cell_type": "code",
   "execution_count": 4,
   "metadata": {},
   "outputs": [],
   "source": [
    "#unkonwn parameters: kaq, Saq\n",
    "ml = ModelMaq(kaq=60, z=[zt, zb], Saq=1e-4, tmin=1e-5, tmax=1)\n",
    "w = Well(ml, xw=0, yw=0, rw=0.2, tsandQ=[(0, Q)], layers=0)\n",
    "\n",
    "# Here we are setting everything in meters for length and days for time"
   ]
  },
  {
   "cell_type": "markdown",
   "metadata": {},
   "source": [
    "The last step in our model creation is to \"solve\" the model:"
   ]
  },
  {
   "cell_type": "code",
   "execution_count": 5,
   "metadata": {},
   "outputs": [],
   "source": [
    "ml.solve(silent='True')"
   ]
  },
  {
   "cell_type": "markdown",
   "metadata": {},
   "source": [
    "## Step 4: Load data of two observation wells:"
   ]
  },
  {
   "cell_type": "markdown",
   "metadata": {},
   "source": [
    "The preferred method of loading data into TTim is to use numpy arrays.\n",
    "\n",
    "The data is in a text file where the first column is the time data in ***minutes*** and the second column is the drawdown in ***meters***\n",
    "\n",
    "We load the data as a numpy array for each piezometer. We then separate time and drawdown into two different 1d arrays. We also convert time data from minutes to days"
   ]
  },
  {
   "cell_type": "code",
   "execution_count": 6,
   "metadata": {},
   "outputs": [],
   "source": [
    "#time and drawdown of piezometer 30m away from pumping well\n",
    "data1 = np.loadtxt('data/piezometer_h30.txt', skiprows = 1)\n",
    "t1 = data1[:, 0] / 60 / 24 #convert min to days\n",
    "h1 = data1[:, 1]\n",
    "r1 = 30\n",
    "#time and drawdown of piezometer 90m away from pumping well\n",
    "data2 = np.loadtxt('data/piezometer_h90.txt', skiprows = 1)\n",
    "t2 = data2[:, 0] / 60 / 24 #convert min to days\n",
    "h2 = data2[:, 1]\n",
    "r2 = 90"
   ]
  },
  {
   "cell_type": "markdown",
   "metadata": {},
   "source": [
    "## Step 5: Calibration"
   ]
  },
  {
   "cell_type": "markdown",
   "metadata": {},
   "source": [
    "Model Calibration is done in TTim using the ```Calibrate``` object. TTim calibrates the parameters by minimizing an objective function using a non-linear least-squares fitting algorithm. The objective function used is the sum of the squares of the residuals calculated as:\n",
    "\n",
    "$$\\sum_n (h_o - h_c)^2$$,\n",
    "\n",
    "where $h_0$ is the observed heads and $h_c$ is the calculated heads by the model.\n",
    "\n",
    "and TTim uses ```lmfit```, a python package for non-linear least-squares minimization (Newville et al. 2014), to find the optimal parameters that minimize the residuals.\n",
    "\n",
    "For the calibration of our groundwater model, we proceed by creating a calibration object with the ```Calibrate``` class. The ```Calibrate``` object takes the model ```ml``` as argument.\n",
    "We then set the parameters we are adjusting:\n",
    "- Hydraulic conductivity: ```kaq0``` (Hydraulic conductivity of layer 0)\n",
    "- Specific Storage ```Saq0``` (Specific Storage of layer 0)\n",
    "\n",
    "with the ```.set_parameter``` method.\n",
    "\n",
    "- ```.set_parameter``` takes two arguments:\n",
    "- ```name``` is the parameter name, a string, where the letters define the parameter. The possible values are \"kaq\", \"Saq\" or 'c', and they represent hydraulic conductivity, Specific storage and resistance to vertical flow, respectively. The letters are followed by a number, that define the layer of that parameter. For the example ```\"kaq0\"``` means the hydraulic conductivity of the layer 0. In our multilayer model we can extend the numbering to adjust one parameters for various layers in that case, we write the number of the first layer followed by a underline \"_\" and the number of the last layer, for example ```kaq0_1```, which means the hydraulic conductivity for layers 0 to 1\n",
    "    - ```initial```is the initial guess value for the fitting algorithm.\n",
    "\n",
    "We can also add the optional parameters:\n",
    "- ```pmin``` and ```pmax```, which are floats that define the minimum and maximum possible values for the parameter. If not set, TTim assume their values are -inf and inf, respectively.\n",
    "\n",
    "The other method for adjusting parameters, ```.set_parameter_by_reference``` is later explained in [step 6.3](#step_6_3).\n",
    "\n",
    "We add the observation data using the ```.series``` method. The arguments are:\n",
    " - ```name```: string with the observation name\n",
    " - ```x``` and ```y```: float positions of the observation\n",
    " - ```t```: the array of observation times\n",
    " - ```h```: the array of observed drawdowns\n",
    " - ```layer```: integer. The layer of the observation (0 indexed)\n"
   ]
  },
  {
   "cell_type": "markdown",
   "metadata": {},
   "source": [
    "<a id='step_5_1'></a>\n",
    "### Step 5.1: Calibration with Observation from Piezometer 1 (30 m from well)\n",
    "\n",
    "We begin calibrating using only the data from observation 1:"
   ]
  },
  {
   "cell_type": "code",
   "execution_count": 7,
   "metadata": {},
   "outputs": [],
   "source": [
    "ca1 = Calibrate(ml) # Calibrate object\n",
    "ca1.set_parameter(name = 'kaq0', initial=10) # Setting parameters\n",
    "ca1.set_parameter(name = 'Saq0', initial=1e-4)\n",
    "ca1.series(name = 'obs1', x=r1, y=0, t=t1, h=h1, layer=0) # Adding observations\n"
   ]
  },
  {
   "cell_type": "markdown",
   "metadata": {},
   "source": [
    "The ```fit``` method is used to run the least-squares algorithm (```lmfit```) for finding the optimal parameter values:"
   ]
  },
  {
   "cell_type": "code",
   "execution_count": 8,
   "metadata": {},
   "outputs": [
    {
     "name": "stdout",
     "output_type": "stream",
     "text": [
      ".........................\n",
      "Fit succeeded.\n",
      "[[Fit Statistics]]\n",
      "    # fitting method   = leastsq\n",
      "    # function evals   = 22\n",
      "    # data points      = 34\n",
      "    # variables        = 2\n",
      "    chi-square         = 0.03408049\n",
      "    reduced chi-square = 0.00106502\n",
      "    Akaike info crit   = -230.783283\n",
      "    Bayesian info crit = -227.730562\n",
      "[[Variables]]\n",
      "    kaq0:  68.6394617 +/- 1.43827751 (2.10%) (init = 10)\n",
      "    Saq0:  1.6072e-05 +/- 1.5823e-06 (9.85%) (init = 0.0001)\n",
      "[[Correlations]] (unreported correlations are < 0.100)\n",
      "    C(kaq0, Saq0) = -0.891\n"
     ]
    }
   ],
   "source": [
    "ca1.fit(report = True) # Fitting the model. We can hide the message below setting report = False"
   ]
  },
  {
   "cell_type": "markdown",
   "metadata": {},
   "source": [
    "The optimal parameters and their related fit statistics are saved inside the ```Calibrate``` object as a DataFrame in the ```.parameters``` attribute:"
   ]
  },
  {
   "cell_type": "code",
   "execution_count": 9,
   "metadata": {},
   "outputs": [
    {
     "data": {
      "text/html": [
       "<div>\n",
       "<style scoped>\n",
       "    .dataframe tbody tr th:only-of-type {\n",
       "        vertical-align: middle;\n",
       "    }\n",
       "\n",
       "    .dataframe tbody tr th {\n",
       "        vertical-align: top;\n",
       "    }\n",
       "\n",
       "    .dataframe thead th {\n",
       "        text-align: right;\n",
       "    }\n",
       "</style>\n",
       "<table border=\"1\" class=\"dataframe\">\n",
       "  <thead>\n",
       "    <tr style=\"text-align: right;\">\n",
       "      <th></th>\n",
       "      <th>optimal</th>\n",
       "      <th>std</th>\n",
       "      <th>perc_std</th>\n",
       "      <th>pmin</th>\n",
       "      <th>pmax</th>\n",
       "      <th>initial</th>\n",
       "      <th>parray</th>\n",
       "    </tr>\n",
       "  </thead>\n",
       "  <tbody>\n",
       "    <tr>\n",
       "      <th>kaq0</th>\n",
       "      <td>68.639462</td>\n",
       "      <td>1.438278</td>\n",
       "      <td>2.095409</td>\n",
       "      <td>-inf</td>\n",
       "      <td>inf</td>\n",
       "      <td>10</td>\n",
       "      <td>[68.63946173341039]</td>\n",
       "    </tr>\n",
       "    <tr>\n",
       "      <th>Saq0</th>\n",
       "      <td>0.000016</td>\n",
       "      <td>0.000002</td>\n",
       "      <td>9.845167</td>\n",
       "      <td>-inf</td>\n",
       "      <td>inf</td>\n",
       "      <td>0.0001</td>\n",
       "      <td>[1.6071685893225147e-05]</td>\n",
       "    </tr>\n",
       "  </tbody>\n",
       "</table>\n",
       "</div>"
      ],
      "text/plain": [
       "        optimal       std  perc_std  pmin  pmax initial  \\\n",
       "kaq0  68.639462  1.438278  2.095409  -inf   inf      10   \n",
       "Saq0   0.000016  0.000002  9.845167  -inf   inf  0.0001   \n",
       "\n",
       "                        parray  \n",
       "kaq0       [68.63946173341039]  \n",
       "Saq0  [1.6071685893225147e-05]  "
      ]
     },
     "execution_count": 9,
     "metadata": {},
     "output_type": "execute_result"
    }
   ],
   "source": [
    "ca1.parameters"
   ]
  },
  {
   "cell_type": "markdown",
   "metadata": {},
   "source": [
    "The calibration RMSE can be accessed with the ```.rmse``` method:"
   ]
  },
  {
   "cell_type": "code",
   "execution_count": 10,
   "metadata": {
    "scrolled": true
   },
   "outputs": [
    {
     "name": "stdout",
     "output_type": "stream",
     "text": [
      "rmse: 0.03166018620686625\n"
     ]
    }
   ],
   "source": [
    "print('rmse:', ca1.rmse())"
   ]
  },
  {
   "cell_type": "markdown",
   "metadata": {},
   "source": [
    "Finally, we can access the model drawdowns by asking the calibrated model to compute the heads at the well location and time intervals specified by the sampled data.\n",
    "\n",
    "For this, we use the ```.head``` method in the model object, in our case, ```ml```.\n",
    "\n",
    "The arguments are:\n",
    "* the positions ```x``` and ```y``` of the piezometric well (or any other point of interest). In our case, our well is located at position ```x= r1``` and ```y = 0```.\n",
    "* the time intervals, defined by the numpy array ```t```, for the computation of the heads. In our case, this is defined by the variable ```t1```.\n",
    "\n",
    "* Another optional input is ```layers```, which can be a list, integer or an array defining the model layers. When we do not assign anything, the head is computed for all layers.\n",
    "\n",
    "The output is a numpy array with dimensions ```(nl,nt)```, where ```nl``` is the number of layers and ```nt``` is the number of time intervals.\n"
   ]
  },
  {
   "cell_type": "code",
   "execution_count": 11,
   "metadata": {},
   "outputs": [
    {
     "data": {
      "text/plain": [
       "(1, 34)"
      ]
     },
     "execution_count": 11,
     "metadata": {},
     "output_type": "execute_result"
    }
   ],
   "source": [
    "hm1 = ml.head(x = r1, y = 0, t = t1) #Using the head method to calculate model resuts\n",
    "hm1.shape #Demonstration of the output shape"
   ]
  },
  {
   "cell_type": "markdown",
   "metadata": {},
   "source": [
    "### Plotting the model Results"
   ]
  },
  {
   "cell_type": "code",
   "execution_count": 12,
   "metadata": {},
   "outputs": [
    {
     "data": {
      "image/png": "[encoded data removed]",
      "text/plain": [
       "<Figure size 720x504 with 1 Axes>"
      ]
     },
     "metadata": {
      "needs_background": "light"
     },
     "output_type": "display_data"
    }
   ],
   "source": [
    "#matplotlib plot for calibration, \n",
    "plt.figure(figsize=(10, 7))\n",
    "plt.semilogx(t1, h1, '.', label='obs at 30 m') #Plotting the observed drawdown\n",
    "plt.semilogx(t1, hm1[0], label='ttim at 30 m') #Simulated drawdown\n",
    "plt.xlabel('time [d]')\n",
    "plt.ylabel('drawdown [m]')\n",
    "plt.title('ttim analysis for Oude Korendijk - Piezometer 30 m')\n",
    "plt.legend();"
   ]
  },
  {
   "cell_type": "markdown",
   "metadata": {},
   "source": [
    "## Step 5.2. Calibrate model Parameters with Observation Well 2 (90 m distance)"
   ]
  },
  {
   "cell_type": "markdown",
   "metadata": {},
   "source": [
    "We proceed to calibrate using only the data from observation well 2. Details on the procedures can be reviewed in [***step 5.1***](#step_5_1)"
   ]
  },
  {
   "cell_type": "code",
   "execution_count": 13,
   "metadata": {},
   "outputs": [
    {
     "name": "stdout",
     "output_type": "stream",
     "text": [
      "..............................\n",
      "Fit succeeded.\n",
      "[[Fit Statistics]]\n",
      "    # fitting method   = leastsq\n",
      "    # function evals   = 27\n",
      "    # data points      = 35\n",
      "    # variables        = 2\n",
      "    chi-square         = 0.01806491\n",
      "    reduced chi-square = 5.4742e-04\n",
      "    Akaike info crit   = -260.919611\n",
      "    Bayesian info crit = -257.808915\n",
      "[[Variables]]\n",
      "    kaq0:  71.5820379 +/- 1.57397607 (2.20%) (init = 10)\n",
      "    Saq0:  2.9108e-05 +/- 1.9379e-06 (6.66%) (init = 0.0001)\n",
      "[[Correlations]] (unreported correlations are < 0.100)\n",
      "    C(kaq0, Saq0) = -0.847\n"
     ]
    },
    {
     "data": {
      "text/html": [
       "<div>\n",
       "<style scoped>\n",
       "    .dataframe tbody tr th:only-of-type {\n",
       "        vertical-align: middle;\n",
       "    }\n",
       "\n",
       "    .dataframe tbody tr th {\n",
       "        vertical-align: top;\n",
       "    }\n",
       "\n",
       "    .dataframe thead th {\n",
       "        text-align: right;\n",
       "    }\n",
       "</style>\n",
       "<table border=\"1\" class=\"dataframe\">\n",
       "  <thead>\n",
       "    <tr style=\"text-align: right;\">\n",
       "      <th></th>\n",
       "      <th>optimal</th>\n",
       "      <th>std</th>\n",
       "      <th>perc_std</th>\n",
       "      <th>pmin</th>\n",
       "      <th>pmax</th>\n",
       "      <th>initial</th>\n",
       "      <th>parray</th>\n",
       "    </tr>\n",
       "  </thead>\n",
       "  <tbody>\n",
       "    <tr>\n",
       "      <th>kaq0</th>\n",
       "      <td>71.582038</td>\n",
       "      <td>1.573976</td>\n",
       "      <td>2.198842</td>\n",
       "      <td>-inf</td>\n",
       "      <td>inf</td>\n",
       "      <td>10</td>\n",
       "      <td>[71.58203790188878]</td>\n",
       "    </tr>\n",
       "    <tr>\n",
       "      <th>Saq0</th>\n",
       "      <td>0.000029</td>\n",
       "      <td>0.000002</td>\n",
       "      <td>6.657646</td>\n",
       "      <td>-inf</td>\n",
       "      <td>inf</td>\n",
       "      <td>0.0001</td>\n",
       "      <td>[2.910765679339592e-05]</td>\n",
       "    </tr>\n",
       "  </tbody>\n",
       "</table>\n",
       "</div>"
      ],
      "text/plain": [
       "        optimal       std  perc_std  pmin  pmax initial  \\\n",
       "kaq0  71.582038  1.573976  2.198842  -inf   inf      10   \n",
       "Saq0   0.000029  0.000002  6.657646  -inf   inf  0.0001   \n",
       "\n",
       "                       parray  \n",
       "kaq0      [71.58203790188878]  \n",
       "Saq0  [2.910765679339592e-05]  "
      ]
     },
     "execution_count": 13,
     "metadata": {},
     "output_type": "execute_result"
    }
   ],
   "source": [
    "ca2 = Calibrate(ml)\n",
    "ca2.set_parameter(name='kaq0', initial=10)\n",
    "ca2.set_parameter(name='Saq0', initial=1e-4)\n",
    "ca2.series(name='obs2', x=r2, y=0, t=t2, h=h2, layer=0)\n",
    "ca2.fit(report=True)\n",
    "ca2.parameters"
   ]
  },
  {
   "cell_type": "code",
   "execution_count": 14,
   "metadata": {},
   "outputs": [
    {
     "name": "stdout",
     "output_type": "stream",
     "text": [
      "rmse: 0.02271872332239053\n"
     ]
    },
    {
     "data": {
      "image/png": "[encoded data removed]",
      "text/plain": [
       "<Figure size 720x504 with 1 Axes>"
      ]
     },
     "metadata": {
      "needs_background": "light"
     },
     "output_type": "display_data"
    }
   ],
   "source": [
    "print('rmse:', ca2.rmse())\n",
    "hm2 = ml.head(r2, 0, t2)\n",
    "plt.figure(figsize=(10, 7))\n",
    "plt.semilogx(t2, h2, '.', label='obs at 90 m')\n",
    "plt.semilogx(t2, hm2[0], label='ttim at 90 m')\n",
    "plt.xlabel('time [d]')\n",
    "plt.ylabel('drawdown [m]')\n",
    "plt.title('ttim analysis for Oude Korendijk - Piezometer 90 m')\n",
    "plt.legend();"
   ]
  },
  {
   "cell_type": "markdown",
   "metadata": {},
   "source": [
    "## Step 5.3. Calibrate model with two datasets simultaneously"
   ]
  },
  {
   "cell_type": "markdown",
   "metadata": {},
   "source": [
    "Here we explore the ability of TTim to calibrate the model using more than one observation location.\n",
    "\n",
    "We achieve this by calling the method ```.series``` multiple times to the ```Calibrate``` object:"
   ]
  },
  {
   "cell_type": "code",
   "execution_count": 15,
   "metadata": {},
   "outputs": [
    {
     "name": "stdout",
     "output_type": "stream",
     "text": [
      ".............................\n",
      "Fit succeeded.\n",
      "[[Fit Statistics]]\n",
      "    # fitting method   = leastsq\n",
      "    # function evals   = 26\n",
      "    # data points      = 69\n",
      "    # variables        = 2\n",
      "    chi-square         = 0.17291361\n",
      "    reduced chi-square = 0.00258080\n",
      "    Akaike info crit   = -409.245806\n",
      "    Bayesian info crit = -404.777593\n",
      "[[Variables]]\n",
      "    kaq0:  66.0892420 +/- 1.65499881 (2.50%) (init = 10)\n",
      "    Saq0:  2.5409e-05 +/- 2.4017e-06 (9.45%) (init = 0.0001)\n",
      "[[Correlations]] (unreported correlations are < 0.100)\n",
      "    C(kaq0, Saq0) = -0.855\n"
     ]
    },
    {
     "data": {
      "text/html": [
       "<div>\n",
       "<style scoped>\n",
       "    .dataframe tbody tr th:only-of-type {\n",
       "        vertical-align: middle;\n",
       "    }\n",
       "\n",
       "    .dataframe tbody tr th {\n",
       "        vertical-align: top;\n",
       "    }\n",
       "\n",
       "    .dataframe thead th {\n",
       "        text-align: right;\n",
       "    }\n",
       "</style>\n",
       "<table border=\"1\" class=\"dataframe\">\n",
       "  <thead>\n",
       "    <tr style=\"text-align: right;\">\n",
       "      <th></th>\n",
       "      <th>optimal</th>\n",
       "      <th>std</th>\n",
       "      <th>perc_std</th>\n",
       "      <th>pmin</th>\n",
       "      <th>pmax</th>\n",
       "      <th>initial</th>\n",
       "      <th>parray</th>\n",
       "    </tr>\n",
       "  </thead>\n",
       "  <tbody>\n",
       "    <tr>\n",
       "      <th>kaq0</th>\n",
       "      <td>66.089242</td>\n",
       "      <td>1.654999</td>\n",
       "      <td>2.504188</td>\n",
       "      <td>-inf</td>\n",
       "      <td>inf</td>\n",
       "      <td>10</td>\n",
       "      <td>[66.08924195216406]</td>\n",
       "    </tr>\n",
       "    <tr>\n",
       "      <th>Saq0</th>\n",
       "      <td>0.000025</td>\n",
       "      <td>0.000002</td>\n",
       "      <td>9.452049</td>\n",
       "      <td>-inf</td>\n",
       "      <td>inf</td>\n",
       "      <td>0.0001</td>\n",
       "      <td>[2.5408830360709104e-05]</td>\n",
       "    </tr>\n",
       "  </tbody>\n",
       "</table>\n",
       "</div>"
      ],
      "text/plain": [
       "        optimal       std  perc_std  pmin  pmax initial  \\\n",
       "kaq0  66.089242  1.654999  2.504188  -inf   inf      10   \n",
       "Saq0   0.000025  0.000002  9.452049  -inf   inf  0.0001   \n",
       "\n",
       "                        parray  \n",
       "kaq0       [66.08924195216406]  \n",
       "Saq0  [2.5408830360709104e-05]  "
      ]
     },
     "execution_count": 15,
     "metadata": {},
     "output_type": "execute_result"
    }
   ],
   "source": [
    "ca = Calibrate(ml)\n",
    "ca.set_parameter(name='kaq0', initial=10)\n",
    "ca.set_parameter(name='Saq0', initial=1e-4)\n",
    "ca.series(name='obs1', x=r1, y=0, t=t1, h=h1, layer=0) # Adding well 1\n",
    "ca.series(name='obs2', x=r2, y=0, t=t2, h=h2, layer=0) # Adding well 2\n",
    "ca.fit(report=True)\n",
    "ca.parameters"
   ]
  },
  {
   "cell_type": "code",
   "execution_count": 16,
   "metadata": {},
   "outputs": [
    {
     "name": "stdout",
     "output_type": "stream",
     "text": [
      "rmse: 0.05005990814225418\n"
     ]
    },
    {
     "data": {
      "image/png": "[encoded data removed]",
      "text/plain": [
       "<Figure size 576x360 with 1 Axes>"
      ]
     },
     "metadata": {
      "needs_background": "light"
     },
     "output_type": "display_data"
    }
   ],
   "source": [
    "print('rmse:', ca.rmse())\n",
    "hs1 = ml.head(r1, 0, t1)\n",
    "hs2 = ml.head(r2, 0 ,t2)\n",
    "plt.figure(figsize = (8, 5))\n",
    "plt.semilogx(t1, h1, '.', label='obs at 30m')\n",
    "plt.semilogx(t1, hs1[0], label='ttim at 30 m')\n",
    "plt.semilogx(t2, h2, '.', label='obs at 90m')\n",
    "plt.semilogx(t2, hs2[0], label = 'ttim at 90m')\n",
    "plt.xlabel('time(d)')\n",
    "plt.ylabel('drawdown(m)')\n",
    "plt.title('ttim analysis for Oude Korendijk - Piezometers at 30 and 90 m')\n",
    "plt.legend();"
   ]
  },
  {
   "cell_type": "markdown",
   "metadata": {},
   "source": [
    "## Step 6. Calibrate Model with Wellbore Storage\n",
    "\n",
    "In this continuation, we investigate whether adding wellbore storage improves the fit."
   ]
  },
  {
   "cell_type": "markdown",
   "metadata": {},
   "source": [
    "### Step 6.1. Reload the model"
   ]
  },
  {
   "cell_type": "code",
   "execution_count": 17,
   "metadata": {},
   "outputs": [],
   "source": [
    "#unknown parameters: kaq, Saq and rc\n",
    "ml1 = ModelMaq(kaq=60, z=[zt, zb], Saq=1e-4, tmin=1e-5, tmax=1)"
   ]
  },
  {
   "cell_type": "markdown",
   "metadata": {},
   "source": [
    "### Step 6.2. Define new Well object with wellbore storage"
   ]
  },
  {
   "cell_type": "markdown",
   "metadata": {},
   "source": [
    "Now, besides the parameters explained in [Step 3](#step_3), we have to add the radius of the caisson (```rc```)"
   ]
  },
  {
   "cell_type": "code",
   "execution_count": 18,
   "metadata": {},
   "outputs": [],
   "source": [
    "w1 = Well(ml1, xw=0, yw=0, rw=0.2, rc=0.2, tsandQ=[(0, Q)], layers=0)\n",
    "ml1.solve(silent='True')"
   ]
  },
  {
   "cell_type": "markdown",
   "metadata": {},
   "source": [
    "<a id='step_6_3'></a>\n",
    "### Step 6.3. Calibrate using only the data from observation well 1"
   ]
  },
  {
   "cell_type": "markdown",
   "metadata": {},
   "source": [
    "The parameters not cited in the ```.set_paramater``` method, must be calibrated with the ```.set_parameter_by_reference``` method.\n",
    "\n",
    "Here we use the method ```.set_parameter_by_reference``` to calibrate the ```rc``` parameter in our well.\n",
    "\n",
    "```.set_parameter_by_reference``` takes the following arguments:\n",
    "* ```name```: a string of the parameter name\n",
    "* ```parameter```: numpy-array with the parameter to be optimized. It should be specified as a reference, for example, in our case: ```w1.rc[0:]``` referencing to the parameter ```rc``` in object ```w1```.\n",
    "* ```initial```: float with the initial guess for the parameter value.\n",
    "* ```pmin``` and ```pmax```: floats with the minimum and maximum values allowed. If not specified, these will be defined as ```-np.inf``` and ```np.inf```.\n"
   ]
  },
  {
   "cell_type": "code",
   "execution_count": 19,
   "metadata": {},
   "outputs": [
    {
     "name": "stdout",
     "output_type": "stream",
     "text": [
      ".....................................................................................................................\n",
      "Fit succeeded.\n",
      "[[Fit Statistics]]\n",
      "    # fitting method   = leastsq\n",
      "    # function evals   = 114\n",
      "    # data points      = 34\n",
      "    # variables        = 3\n",
      "    chi-square         = 0.00793127\n",
      "    reduced chi-square = 2.5585e-04\n",
      "    Akaike info crit   = -278.352281\n",
      "    Bayesian info crit = -273.773200\n",
      "[[Variables]]\n",
      "    kaq0:  81.1022275 +/- 1.75413846 (2.16%) (init = 10)\n",
      "    Saq0:  5.3734e-06 +/- 7.9553e-07 (14.80%) (init = 0.0001)\n",
      "    rc:    0.30589626 +/- 0.01764601 (5.77%) (init = 0.2)\n",
      "[[Correlations]] (unreported correlations are < 0.100)\n",
      "    C(kaq0, Saq0) = -0.976\n",
      "    C(Saq0, rc)   = -0.875\n",
      "    C(kaq0, rc)   =  0.835\n"
     ]
    },
    {
     "data": {
      "text/html": [
       "<div>\n",
       "<style scoped>\n",
       "    .dataframe tbody tr th:only-of-type {\n",
       "        vertical-align: middle;\n",
       "    }\n",
       "\n",
       "    .dataframe tbody tr th {\n",
       "        vertical-align: top;\n",
       "    }\n",
       "\n",
       "    .dataframe thead th {\n",
       "        text-align: right;\n",
       "    }\n",
       "</style>\n",
       "<table border=\"1\" class=\"dataframe\">\n",
       "  <thead>\n",
       "    <tr style=\"text-align: right;\">\n",
       "      <th></th>\n",
       "      <th>optimal</th>\n",
       "      <th>std</th>\n",
       "      <th>perc_std</th>\n",
       "      <th>pmin</th>\n",
       "      <th>pmax</th>\n",
       "      <th>initial</th>\n",
       "      <th>parray</th>\n",
       "    </tr>\n",
       "  </thead>\n",
       "  <tbody>\n",
       "    <tr>\n",
       "      <th>kaq0</th>\n",
       "      <td>81.102227</td>\n",
       "      <td>1.754138e+00</td>\n",
       "      <td>2.162873</td>\n",
       "      <td>-inf</td>\n",
       "      <td>inf</td>\n",
       "      <td>10</td>\n",
       "      <td>[81.10222749162335]</td>\n",
       "    </tr>\n",
       "    <tr>\n",
       "      <th>Saq0</th>\n",
       "      <td>0.000005</td>\n",
       "      <td>7.955260e-07</td>\n",
       "      <td>14.804955</td>\n",
       "      <td>-inf</td>\n",
       "      <td>inf</td>\n",
       "      <td>0.0001</td>\n",
       "      <td>[5.373376908451789e-06]</td>\n",
       "    </tr>\n",
       "    <tr>\n",
       "      <th>rc</th>\n",
       "      <td>0.305896</td>\n",
       "      <td>1.764601e-02</td>\n",
       "      <td>5.768625</td>\n",
       "      <td>0.01</td>\n",
       "      <td>inf</td>\n",
       "      <td>0.2</td>\n",
       "      <td>[0.30589625845626367]</td>\n",
       "    </tr>\n",
       "  </tbody>\n",
       "</table>\n",
       "</div>"
      ],
      "text/plain": [
       "        optimal           std   perc_std  pmin  pmax initial  \\\n",
       "kaq0  81.102227  1.754138e+00   2.162873  -inf   inf      10   \n",
       "Saq0   0.000005  7.955260e-07  14.804955  -inf   inf  0.0001   \n",
       "rc     0.305896  1.764601e-02   5.768625  0.01   inf     0.2   \n",
       "\n",
       "                       parray  \n",
       "kaq0      [81.10222749162335]  \n",
       "Saq0  [5.373376908451789e-06]  \n",
       "rc      [0.30589625845626367]  "
      ]
     },
     "execution_count": 19,
     "metadata": {},
     "output_type": "execute_result"
    }
   ],
   "source": [
    "ca3 = Calibrate(ml1)\n",
    "ca3.set_parameter(name='kaq0', initial=10)\n",
    "ca3.set_parameter(name='Saq0', initial=1e-4)\n",
    "ca3.set_parameter_by_reference(name='rc', parameter=w1.rc[0:], initial=0.2, pmin=0.01)\n",
    "ca3.series(name='obs1', x=r1, y=0, t=t1, h=h1, layer=0)\n",
    "ca3.fit(report=True)\n",
    "ca3.parameters"
   ]
  },
  {
   "cell_type": "code",
   "execution_count": 20,
   "metadata": {},
   "outputs": [
    {
     "name": "stdout",
     "output_type": "stream",
     "text": [
      "rmse: 0.015273267611544404\n"
     ]
    },
    {
     "data": {
      "image/png": "[encoded data removed]",
      "text/plain": [
       "<Figure size 720x504 with 1 Axes>"
      ]
     },
     "metadata": {
      "needs_background": "light"
     },
     "output_type": "display_data"
    }
   ],
   "source": [
    "print('rmse:', ca3.rmse())\n",
    "hm3 = ml1.head(r1, 0, t1)\n",
    "plt.figure(figsize=(10, 7))\n",
    "plt.semilogx(t1, h1, '.', label='obs at 30 m')\n",
    "plt.semilogx(t1, hm3[0], label='ttim at 30 m')\n",
    "plt.xlabel('time(d)')\n",
    "plt.ylabel('drawdown(m)')\n",
    "plt.title('ttim analysis for Oude Korendijk - Piezometer 30 m and Wellbore Storage')\n",
    "plt.legend();"
   ]
  },
  {
   "cell_type": "markdown",
   "metadata": {},
   "source": [
    "### Step 6.4. Calibrate using only the data from observation well 2\n",
    "\n",
    "Here we repeat the step 6.3 for well 2"
   ]
  },
  {
   "cell_type": "code",
   "execution_count": 21,
   "metadata": {},
   "outputs": [
    {
     "name": "stdout",
     "output_type": "stream",
     "text": [
      "......................................................................................\n",
      "Fit succeeded.\n",
      "[[Fit Statistics]]\n",
      "    # fitting method   = leastsq\n",
      "    # function evals   = 83\n",
      "    # data points      = 35\n",
      "    # variables        = 3\n",
      "    chi-square         = 0.00135388\n",
      "    reduced chi-square = 4.2309e-05\n",
      "    Akaike info crit   = -349.604600\n",
      "    Bayesian info crit = -344.938556\n",
      "[[Variables]]\n",
      "    kaq0:  88.4250760 +/- 1.46375393 (1.66%) (init = 10)\n",
      "    Saq0:  1.1271e-05 +/- 9.2085e-07 (8.17%) (init = 0.0001)\n",
      "    rc:    0.67776328 +/- 0.02992595 (4.42%) (init = 0.2)\n",
      "[[Correlations]] (unreported correlations are < 0.100)\n",
      "    C(kaq0, Saq0) = -0.981\n",
      "    C(Saq0, rc)   = -0.940\n",
      "    C(kaq0, rc)   =  0.912\n"
     ]
    },
    {
     "data": {
      "text/html": [
       "<div>\n",
       "<style scoped>\n",
       "    .dataframe tbody tr th:only-of-type {\n",
       "        vertical-align: middle;\n",
       "    }\n",
       "\n",
       "    .dataframe tbody tr th {\n",
       "        vertical-align: top;\n",
       "    }\n",
       "\n",
       "    .dataframe thead th {\n",
       "        text-align: right;\n",
       "    }\n",
       "</style>\n",
       "<table border=\"1\" class=\"dataframe\">\n",
       "  <thead>\n",
       "    <tr style=\"text-align: right;\">\n",
       "      <th></th>\n",
       "      <th>optimal</th>\n",
       "      <th>std</th>\n",
       "      <th>perc_std</th>\n",
       "      <th>pmin</th>\n",
       "      <th>pmax</th>\n",
       "      <th>initial</th>\n",
       "      <th>parray</th>\n",
       "    </tr>\n",
       "  </thead>\n",
       "  <tbody>\n",
       "    <tr>\n",
       "      <th>kaq0</th>\n",
       "      <td>88.425076</td>\n",
       "      <td>1.463754e+00</td>\n",
       "      <td>1.655361</td>\n",
       "      <td>-inf</td>\n",
       "      <td>inf</td>\n",
       "      <td>10</td>\n",
       "      <td>[88.42507599056435]</td>\n",
       "    </tr>\n",
       "    <tr>\n",
       "      <th>Saq0</th>\n",
       "      <td>0.000011</td>\n",
       "      <td>9.208523e-07</td>\n",
       "      <td>8.170157</td>\n",
       "      <td>-inf</td>\n",
       "      <td>inf</td>\n",
       "      <td>0.0001</td>\n",
       "      <td>[1.1270926171212742e-05]</td>\n",
       "    </tr>\n",
       "    <tr>\n",
       "      <th>rc</th>\n",
       "      <td>0.677763</td>\n",
       "      <td>2.992595e-02</td>\n",
       "      <td>4.415398</td>\n",
       "      <td>0.01</td>\n",
       "      <td>inf</td>\n",
       "      <td>0.2</td>\n",
       "      <td>[0.6777632783608494]</td>\n",
       "    </tr>\n",
       "  </tbody>\n",
       "</table>\n",
       "</div>"
      ],
      "text/plain": [
       "        optimal           std  perc_std  pmin  pmax initial  \\\n",
       "kaq0  88.425076  1.463754e+00  1.655361  -inf   inf      10   \n",
       "Saq0   0.000011  9.208523e-07  8.170157  -inf   inf  0.0001   \n",
       "rc     0.677763  2.992595e-02  4.415398  0.01   inf     0.2   \n",
       "\n",
       "                        parray  \n",
       "kaq0       [88.42507599056435]  \n",
       "Saq0  [1.1270926171212742e-05]  \n",
       "rc        [0.6777632783608494]  "
      ]
     },
     "execution_count": 21,
     "metadata": {},
     "output_type": "execute_result"
    }
   ],
   "source": [
    "ca4 = Calibrate(ml1)\n",
    "ca4.set_parameter(name='kaq0', initial=10)\n",
    "ca4.set_parameter(name='Saq0', initial=1e-4)\n",
    "ca4.set_parameter_by_reference(name='rc', parameter=w1.rc[0:], initial=0.2, pmin=0.01)\n",
    "ca4.series(name='obs2', x=r2, y=0, t=t2, h=h2, layer=0)\n",
    "ca4.fit(report=True)\n",
    "ca4.parameters"
   ]
  },
  {
   "cell_type": "code",
   "execution_count": 22,
   "metadata": {},
   "outputs": [
    {
     "name": "stdout",
     "output_type": "stream",
     "text": [
      "rmse: 0.006219500271654494\n"
     ]
    },
    {
     "data": {
      "image/png": "[encoded data removed]",
      "text/plain": [
       "<Figure size 720x504 with 1 Axes>"
      ]
     },
     "metadata": {
      "needs_background": "light"
     },
     "output_type": "display_data"
    }
   ],
   "source": [
    "print('rmse:', ca4.rmse())\n",
    "hm4 = ml1.head(r2, 0, t2)\n",
    "plt.figure(figsize=(10, 7))\n",
    "plt.semilogx(t2, h2, '.', label='obs at 90 m')\n",
    "plt.semilogx(t2, hm4[0], label='ttim at 90 m')\n",
    "plt.xlabel('time [d]')\n",
    "plt.ylabel('drawdown [m]')\n",
    "plt.title('ttim analysis for Oude Korendijk - Piezometer 90 m and Wellbore Storage')\n",
    "plt.legend();"
   ]
  },
  {
   "cell_type": "markdown",
   "metadata": {},
   "source": [
    "### Step 6.5. Calibrate model with two datasets simultaneously\n",
    "\n",
    "Following the same logic from steps 6.3 to 6.4 and the calibration from step 5.3, we can now check the calibration using both wells and wellbore storage."
   ]
  },
  {
   "cell_type": "code",
   "execution_count": 23,
   "metadata": {},
   "outputs": [
    {
     "name": "stdout",
     "output_type": "stream",
     "text": [
      "................................................................................\n",
      "Fit succeeded.\n",
      "[[Fit Statistics]]\n",
      "    # fitting method   = leastsq\n",
      "    # function evals   = 77\n",
      "    # data points      = 69\n",
      "    # variables        = 3\n",
      "    chi-square         = 0.17294899\n",
      "    reduced chi-square = 0.00262044\n",
      "    Akaike info crit   = -407.231693\n",
      "    Bayesian info crit = -400.529373\n",
      "[[Variables]]\n",
      "    kaq0:  66.0961873 +/- 1.72437353 (2.61%) (init = 10)\n",
      "    Saq0:  2.5396e-05 +/- 2.4929e-06 (9.82%) (init = 0.0001)\n",
      "    rc:    0.01002640 +/- 0.13866816 (1383.03%) (init = 0.2)\n",
      "[[Correlations]] (unreported correlations are < 0.100)\n",
      "    C(kaq0, Saq0) = -0.864\n",
      "    C(kaq0, rc)   =  0.254\n",
      "    C(Saq0, rc)   = -0.241\n"
     ]
    },
    {
     "data": {
      "text/html": [
       "<div>\n",
       "<style scoped>\n",
       "    .dataframe tbody tr th:only-of-type {\n",
       "        vertical-align: middle;\n",
       "    }\n",
       "\n",
       "    .dataframe tbody tr th {\n",
       "        vertical-align: top;\n",
       "    }\n",
       "\n",
       "    .dataframe thead th {\n",
       "        text-align: right;\n",
       "    }\n",
       "</style>\n",
       "<table border=\"1\" class=\"dataframe\">\n",
       "  <thead>\n",
       "    <tr style=\"text-align: right;\">\n",
       "      <th></th>\n",
       "      <th>optimal</th>\n",
       "      <th>std</th>\n",
       "      <th>perc_std</th>\n",
       "      <th>pmin</th>\n",
       "      <th>pmax</th>\n",
       "      <th>initial</th>\n",
       "      <th>parray</th>\n",
       "    </tr>\n",
       "  </thead>\n",
       "  <tbody>\n",
       "    <tr>\n",
       "      <th>kaq0</th>\n",
       "      <td>66.096187</td>\n",
       "      <td>1.724374</td>\n",
       "      <td>2.608885</td>\n",
       "      <td>-inf</td>\n",
       "      <td>inf</td>\n",
       "      <td>10</td>\n",
       "      <td>[66.09618726510983]</td>\n",
       "    </tr>\n",
       "    <tr>\n",
       "      <th>Saq0</th>\n",
       "      <td>0.000025</td>\n",
       "      <td>0.000002</td>\n",
       "      <td>9.816187</td>\n",
       "      <td>-inf</td>\n",
       "      <td>inf</td>\n",
       "      <td>0.0001</td>\n",
       "      <td>[2.539574266289838e-05]</td>\n",
       "    </tr>\n",
       "    <tr>\n",
       "      <th>rc</th>\n",
       "      <td>0.010026</td>\n",
       "      <td>0.138668</td>\n",
       "      <td>1383.030426</td>\n",
       "      <td>0.01</td>\n",
       "      <td>inf</td>\n",
       "      <td>0.2</td>\n",
       "      <td>[0.010026400074216957]</td>\n",
       "    </tr>\n",
       "  </tbody>\n",
       "</table>\n",
       "</div>"
      ],
      "text/plain": [
       "        optimal       std     perc_std  pmin  pmax initial  \\\n",
       "kaq0  66.096187  1.724374     2.608885  -inf   inf      10   \n",
       "Saq0   0.000025  0.000002     9.816187  -inf   inf  0.0001   \n",
       "rc     0.010026  0.138668  1383.030426  0.01   inf     0.2   \n",
       "\n",
       "                       parray  \n",
       "kaq0      [66.09618726510983]  \n",
       "Saq0  [2.539574266289838e-05]  \n",
       "rc     [0.010026400074216957]  "
      ]
     },
     "execution_count": 23,
     "metadata": {},
     "output_type": "execute_result"
    }
   ],
   "source": [
    "ca0 = Calibrate(ml1)\n",
    "ca0.set_parameter(name='kaq0', initial=10)\n",
    "ca0.set_parameter(name='Saq0', initial=1e-4)\n",
    "ca0.set_parameter_by_reference(name='rc', parameter=w1.rc[0:], initial=0.2, pmin=0.01)\n",
    "ca0.series(name='obs1', x=r1, y=0, t=t1, h=h1, layer=0)\n",
    "ca0.series(name='obs2', x=r2, y=0, t=t2, h=h2, layer=0)\n",
    "ca0.fit(report=True)\n",
    "ca0.parameters"
   ]
  },
  {
   "cell_type": "code",
   "execution_count": 24,
   "metadata": {},
   "outputs": [
    {
     "name": "stdout",
     "output_type": "stream",
     "text": [
      "rmse: 0.05006502812793313\n"
     ]
    },
    {
     "data": {
      "image/png": "[encoded data removed]",
      "text/plain": [
       "<Figure size 720x504 with 1 Axes>"
      ]
     },
     "metadata": {
      "needs_background": "light"
     },
     "output_type": "display_data"
    }
   ],
   "source": [
    "print('rmse:', ca0.rmse())\n",
    "hs1 = ml1.head(r1, 0, t1)\n",
    "hs2 = ml1.head(r2, 0 ,t2)\n",
    "plt.figure(figsize = (10, 7))\n",
    "plt.semilogx(t1, h1, '.', label='obs at 30m')\n",
    "plt.semilogx(t1, hs1[0], label='ttim at 30 m')\n",
    "plt.semilogx(t2, h2, '.', label='obs at 90m')\n",
    "plt.semilogx(t2, hs2[0], label = 'ttim at 90m')\n",
    "plt.xlabel('time [d]')\n",
    "plt.ylabel('drawdown [m]')\n",
    "plt.title('ttim analysis for Oude Korendijk')\n",
    "plt.legend();"
   ]
  },
  {
   "cell_type": "markdown",
   "metadata": {},
   "source": [
    "## Step 7. Comparison of Results"
   ]
  },
  {
   "cell_type": "markdown",
   "metadata": {},
   "source": [
    "### Step 7.1. Comparison of model performance and Results with and without wellbore storage"
   ]
  },
  {
   "cell_type": "markdown",
   "metadata": {},
   "source": [
    "#### 7.1.1. RMSE of the two conceptual models"
   ]
  },
  {
   "cell_type": "markdown",
   "metadata": {},
   "source": [
    "The following table summarises the RMSE values of the obtained models with and without wellbore storage."
   ]
  },
  {
   "cell_type": "code",
   "execution_count": 25,
   "metadata": {},
   "outputs": [
    {
     "data": {
      "text/html": [
       "<style type=\"text/css\">\n",
       "</style>\n",
       "<table id=\"T_a9f4a_\">\n",
       "  <caption>RMSE of two conceptual models</caption>\n",
       "  <thead>\n",
       "    <tr>\n",
       "      <th class=\"blank level0\" >&nbsp;</th>\n",
       "      <th class=\"col_heading level0 col0\" >obs 30 m</th>\n",
       "      <th class=\"col_heading level0 col1\" >obs 90 m</th>\n",
       "      <th class=\"col_heading level0 col2\" >obs simultaneously</th>\n",
       "    </tr>\n",
       "  </thead>\n",
       "  <tbody>\n",
       "    <tr>\n",
       "      <th id=\"T_a9f4a_level0_row0\" class=\"row_heading level0 row0\" >without rc</th>\n",
       "      <td id=\"T_a9f4a_row0_col0\" class=\"data row0 col0\" >0.031660</td>\n",
       "      <td id=\"T_a9f4a_row0_col1\" class=\"data row0 col1\" >0.022719</td>\n",
       "      <td id=\"T_a9f4a_row0_col2\" class=\"data row0 col2\" >0.050060</td>\n",
       "    </tr>\n",
       "    <tr>\n",
       "      <th id=\"T_a9f4a_level0_row1\" class=\"row_heading level0 row1\" >with rc</th>\n",
       "      <td id=\"T_a9f4a_row1_col0\" class=\"data row1 col0\" >0.015273</td>\n",
       "      <td id=\"T_a9f4a_row1_col1\" class=\"data row1 col1\" >0.006220</td>\n",
       "      <td id=\"T_a9f4a_row1_col2\" class=\"data row1 col2\" >0.050065</td>\n",
       "    </tr>\n",
       "  </tbody>\n",
       "</table>\n"
      ],
      "text/plain": [
       "<pandas.io.formats.style.Styler at 0x2f3949fb040>"
      ]
     },
     "execution_count": 25,
     "metadata": {},
     "output_type": "execute_result"
    }
   ],
   "source": [
    "t0 = pd.DataFrame(columns=['obs 30 m', 'obs 90 m', 'obs simultaneously'], index=['without rc', 'with rc'])\n",
    "t0.loc['without rc', 'obs 30 m'] = ca1.rmse()\n",
    "t0.loc['without rc', 'obs 90 m'] = ca2.rmse()\n",
    "t0.loc['without rc', 'obs simultaneously'] = ca.rmse()\n",
    "t0.loc['with rc', 'obs 30 m'] = ca3.rmse()\n",
    "t0.loc['with rc', 'obs 90 m'] = ca4.rmse()\n",
    "t0.loc['with rc', 'obs simultaneously'] = ca0.rmse()\n",
    "\n",
    "t0.style.set_caption('RMSE of two conceptual models')\n"
   ]
  },
  {
   "cell_type": "markdown",
   "metadata": {},
   "source": [
    "Adding wellbore storage improved the fit performance when used drawdown data of the individual observation wells. However, when calibrated the model with both datasets simultaneously, ```rc```  was adjusted to the minimum value. Adding rc did not improve the performance much in this case."
   ]
  },
  {
   "cell_type": "markdown",
   "metadata": {},
   "source": [
    "#### 7.1.2. Model comparisons"
   ]
  },
  {
   "cell_type": "markdown",
   "metadata": {},
   "source": [
    "We can see the summaries of the hydraulic conductivities in the following table.\n",
    "\n",
    "We will access the parameter values by accessing the ```.parameters``` attribute of each ```Calibrate``` object."
   ]
  },
  {
   "cell_type": "code",
   "execution_count": 26,
   "metadata": {},
   "outputs": [
    {
     "data": {
      "text/plain": [
       "Text(0.5, 0, 'Calibration Dataset')"
      ]
     },
     "execution_count": 26,
     "metadata": {},
     "output_type": "execute_result"
    },
    {
     "data": {
      "image/png": "[encoded data removed]",
      "text/plain": [
       "<Figure size 720x504 with 1 Axes>"
      ]
     },
     "metadata": {
      "needs_background": "light"
     },
     "output_type": "display_data"
    }
   ],
   "source": [
    "# Preparing the DataFrame:\n",
    "t1 = pd.DataFrame(columns=['kaq - opt', 'kaq - min', 'kaq - max', 'W. Storage', 'Calib. Dataset']) \n",
    "w_storage = ['without rc','without rc','without rc','with rc','with rc','with rc',]\n",
    "obs_dataset = ['obs 30 m','obs 90 m','obs simultaneously','obs 30 m','obs 90 m','obs simultaneously']\n",
    "\n",
    "# Looping through all calibration objects and fetching the desired values\n",
    "for calib,w_sto,obs_dts in zip([ca1,ca2,ca,ca3,ca4,ca0],w_storage,obs_dataset):\n",
    "    p = calib.parameters #Accessing the parameters Dataframe inside the Calibrate object\n",
    "    tab = pd.DataFrame([[p.loc['kaq0','optimal'], 2*p.loc['kaq0', 'std'], 2*p.loc['kaq0', 'std'],w_sto,obs_dts]],\n",
    "                      columns=['kaq - opt', 'kaq - min', 'kaq - max', 'W. Storage', 'Calib. Dataset'])\n",
    "    t1 = t1.append(tab)\n",
    "\n",
    "# Plotting\n",
    "groups = t1.groupby('W. Storage')\n",
    "plt.figure(figsize = (10,7))\n",
    "for name, group in groups:\n",
    "    plt.errorbar(x = group['Calib. Dataset'], y = group['kaq - opt'], yerr = [group['kaq - min'], group['kaq - max']],\n",
    "                marker='o', linestyle='', markersize=12, label=name)\n",
    "plt.legend()\n",
    "plt.suptitle(\"Error bar plot of calibrated hydraulic conductivities\")\n",
    "plt.ylabel('K [m/d]')\n",
    "plt.xlabel('Calibration Dataset')"
   ]
  },
  {
   "cell_type": "markdown",
   "metadata": {},
   "source": [
    "The Errorbar plot shows that the Hydraulic Conductivities calculated are significantly higher with wellbore storage than without when considering the individual wells datasets for calibration.\n",
    "\n",
    "As for the dataset using both obs wells at the same time, the calibration results have no significant differences.\n",
    "\n",
    "Both scenarios with and without wellbore storage showed lower values for the calibrated model using both observations, calibration with a single well are overestimated."
   ]
  },
  {
   "cell_type": "markdown",
   "metadata": {},
   "source": [
    "### Step 7.2. Compare TTim to results of K&dR, AQTEOLV and MLU:"
   ]
  },
  {
   "cell_type": "markdown",
   "metadata": {},
   "source": [
    "The final important step is to compare the data obtained from this model with the data from other Aquifer Analysis software. Yang (2020) compared TTim results with the published results in Kruseman and de Ridder (1990), here abbreviated to K&dR, and with the results obtained from the software AQTESOLV (Duffield, 2007) and MLU (Carlson & Randall, 2012)."
   ]
  },
  {
   "cell_type": "code",
   "execution_count": 27,
   "metadata": {
    "scrolled": true
   },
   "outputs": [
    {
     "data": {
      "text/html": [
       "<style type=\"text/css\">\n",
       "</style>\n",
       "<table id=\"T_60acd_\">\n",
       "  <caption>Comparison of Model Results with different Softwares</caption>\n",
       "  <thead>\n",
       "    <tr>\n",
       "      <th class=\"blank level0\" >&nbsp;</th>\n",
       "      <th class=\"col_heading level0 col0\" >k [m/d]</th>\n",
       "      <th class=\"col_heading level0 col1\" >Ss [1/m]</th>\n",
       "      <th class=\"col_heading level0 col2\" >RMSE</th>\n",
       "    </tr>\n",
       "  </thead>\n",
       "  <tbody>\n",
       "    <tr>\n",
       "      <th id=\"T_60acd_level0_row0\" class=\"row_heading level0 row0\" >K&dR</th>\n",
       "      <td id=\"T_60acd_row0_col0\" class=\"data row0 col0\" >55.714290</td>\n",
       "      <td id=\"T_60acd_row0_col1\" class=\"data row0 col1\" >0.000170</td>\n",
       "      <td id=\"T_60acd_row0_col2\" class=\"data row0 col2\" >-</td>\n",
       "    </tr>\n",
       "    <tr>\n",
       "      <th id=\"T_60acd_level0_row1\" class=\"row_heading level0 row1\" >TTim</th>\n",
       "      <td id=\"T_60acd_row1_col0\" class=\"data row1 col0\" >66.089242</td>\n",
       "      <td id=\"T_60acd_row1_col1\" class=\"data row1 col1\" >0.000025</td>\n",
       "      <td id=\"T_60acd_row1_col2\" class=\"data row1 col2\" >0.050060</td>\n",
       "    </tr>\n",
       "    <tr>\n",
       "      <th id=\"T_60acd_level0_row2\" class=\"row_heading level0 row2\" >AQTESOLV</th>\n",
       "      <td id=\"T_60acd_row2_col0\" class=\"data row2 col0\" >66.086000</td>\n",
       "      <td id=\"T_60acd_row2_col1\" class=\"data row2 col1\" >0.000025</td>\n",
       "      <td id=\"T_60acd_row2_col2\" class=\"data row2 col2\" >0.050060</td>\n",
       "    </tr>\n",
       "    <tr>\n",
       "      <th id=\"T_60acd_level0_row3\" class=\"row_heading level0 row3\" >MLU</th>\n",
       "      <td id=\"T_60acd_row3_col0\" class=\"data row3 col0\" >66.850000</td>\n",
       "      <td id=\"T_60acd_row3_col1\" class=\"data row3 col1\" >0.000024</td>\n",
       "      <td id=\"T_60acd_row3_col2\" class=\"data row3 col2\" >0.050830</td>\n",
       "    </tr>\n",
       "  </tbody>\n",
       "</table>\n"
      ],
      "text/plain": [
       "<pandas.io.formats.style.Styler at 0x2f395dfd8b0>"
      ]
     },
     "execution_count": 27,
     "metadata": {},
     "output_type": "execute_result"
    }
   ],
   "source": [
    "t = pd.DataFrame(columns=['k [m/d]', 'Ss [1/m]', 'RMSE'], \\\n",
    "                 index=['K&dR', 'TTim', 'AQTESOLV', 'MLU'])\n",
    "t.loc['TTim'] = np.append(ca.parameters['optimal'].values, ca.rmse())\n",
    "t.loc['AQTESOLV'] = [66.086, 2.541e-05, 0.05006]\n",
    "t.loc['MLU'] = [66.850, 2.400e-05, 0.05083]\n",
    "t.loc['K&dR'] = [55.71429, 1.7E-4, '-']\n",
    "t.style.set_caption('Comparison of Model Results with different Softwares')"
   ]
  },
  {
   "cell_type": "markdown",
   "metadata": {},
   "source": [
    "Results show good agreement between different analysis programs, including TTim. The values from Kruseman and de Ridder (1990) were obtained through Thiem's approximation. They seem to be an underestimation, as the pumping never reached steady-state conditions."
   ]
  },
  {
   "cell_type": "markdown",
   "metadata": {},
   "source": [
    "## References\n",
    "\n",
    "* Bakker, M. Semi-analytic modeling of transient multi-layer flow with TTim. Hydrogeol J 21, 935–943 (2013). https://doi.org/10.1007/s10040-013-0975-2\n",
    "* Carlson F, Randall J (2012) MLU: a Windows application for the analysis of aquifer tests and the design of well fields in layered systems. Ground Water 50(4):504–510\n",
    "* Duffield, G.M., 2007. AQTESOLV for Windows Version 4.5 User's Guide, HydroSOLVE, Inc., Reston, VA.\n",
    "* Newville, M.,Stensitzki, T., Allen, D.B., Ingargiola, A. (2014) LMFIT: Non Linear Least-Squares Minimization and Curve Fitting for Python.https://dx.doi.org/10.5281/zenodo.11813. https://lmfit.github.io/lmfit-py/intro.html (last access: August,2021).\n",
    "* Kruseman, G.P., De Ridder, N.A., Verweij, J.M., 1970. Analysis and evaluationof pumping test data. volume 11. International institute for land reclamation and improvement The Netherlands.\n",
    "* Yang, Xinzhu (2020) Application and comparison of different methodsfor aquifer test analysis using TTim. Master Thesis, Delft University of Technology (TUDelft), Delft, The Netherlands."
   ]
  },
  {
   "cell_type": "markdown",
   "metadata": {},
   "source": [
    "#### Next Notebook: [Confined 2 - Grindley](confined2_grindley.ipynb)"
   ]
  }
 ],
 "metadata": {
  "kernelspec": {
   "display_name": "Python 3 (ipykernel)",
   "language": "python",
   "name": "python3"
  },
  "language_info": {
   "codemirror_mode": {
    "name": "ipython",
    "version": 3
   },
   "file_extension": ".py",
   "mimetype": "text/x-python",
   "name": "python",
   "nbconvert_exporter": "python",
   "pygments_lexer": "ipython3",
   "version": "3.8.12"
  }
 },
 "nbformat": 4,
 "nbformat_minor": 4
}
