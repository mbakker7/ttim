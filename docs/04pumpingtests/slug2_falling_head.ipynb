{
 "cells": [
  {
   "cell_type": "markdown",
   "metadata": {},
   "source": [
    "# 2. Slug Test - Falling Head\n",
    "**This test is taken from examples of AQTESOLV.**"
   ]
  },
  {
   "cell_type": "markdown",
   "metadata": {},
   "source": [
    "## Introduction and Conceptual Model\n",
    "\n",
    "In this notebook, we reproduce the work of Yang (2020) to check the TTim performance in analysing slug-test. We later compare the solution in TTim with the KGS analytical model (Hyder et al. 1994) implemented in AQTESOLV (Duffield, 2007).\n",
    "\n",
    "This slug test was reported in Batu (1998). A well partially penetrates a sandy unconfined aquifer that has a saturated depth of 32.57 ft. The top of the screen is located 0.47 ft below the water table and has 13.8 ft in length. The well and casing radii are 5 and 2 inches, respectively.\n",
    "\n",
    "The slug displacement is 1.48 ft. Head change has been recorded at the slug well.\n",
    "\n",
    "The conceptual model is seen in the figure below."
   ]
  },
  {
   "cell_type": "code",
   "execution_count": 1,
   "metadata": {
    "jupyter": {
     "source_hidden": true
    },
    "tags": []
   },
   "outputs": [
    {
     "data": {
      "image/png": "[encoded data removed]",
      "text/plain": [
       "<Figure size 1008x648 with 1 Axes>"
      ]
     },
     "metadata": {
      "needs_background": "light"
     },
     "output_type": "display_data"
    }
   ],
   "source": [
    "import matplotlib.pyplot as plt\n",
    "import numpy as np\n",
    "\n",
    "##Now printing the conceptual model figure:\n",
    "\n",
    "fig = plt.figure(figsize=(14, 9))\n",
    "ax = fig.add_subplot(1, 1, 1)\n",
    "# sky\n",
    "sky = plt.Rectangle((-20, 2), width=50, height=20, fc=\"b\", zorder=0, alpha=0.1)\n",
    "ax.add_patch(sky)\n",
    "\n",
    "# Aquifer:\n",
    "ground = plt.Rectangle(\n",
    "    (-20, -32.57),\n",
    "    width=50,\n",
    "    height=34.57,\n",
    "    fc=np.array([209, 179, 127]) / 255,\n",
    "    zorder=0,\n",
    "    alpha=0.9,\n",
    ")\n",
    "ax.add_patch(ground)\n",
    "\n",
    "well = plt.Rectangle(\n",
    "    (-1, -(0.47 + 13.8)),\n",
    "    width=2,\n",
    "    height=(0.47 + 13.8) + 2,\n",
    "    fc=np.array([200, 200, 200]) / 255,\n",
    "    zorder=1,\n",
    ")\n",
    "ax.add_patch(well)\n",
    "\n",
    "# Wellhead\n",
    "wellhead = plt.Rectangle(\n",
    "    (-1.25, 2),\n",
    "    width=2.5,\n",
    "    height=10,\n",
    "    fc=np.array([200, 200, 200]) / 255,\n",
    "    zorder=2,\n",
    "    ec=\"k\",\n",
    ")\n",
    "ax.add_patch(wellhead)\n",
    "\n",
    "# Screen for the well:\n",
    "screen = plt.Rectangle(\n",
    "    (-1, -(0.47 + 13.8)),\n",
    "    width=2,\n",
    "    height=13.8,\n",
    "    fc=np.array([200, 200, 200]) / 255,\n",
    "    alpha=1,\n",
    "    zorder=2,\n",
    "    ec=\"k\",\n",
    "    ls=\"--\",\n",
    ")\n",
    "screen.set_linewidth(2)\n",
    "ax.add_patch(screen)\n",
    "pumping_arrow = plt.Arrow(x=0, y=10, dx=0, dy=6, color=\"#00035b\")\n",
    "ax.add_patch(pumping_arrow)\n",
    "ax.text(x=0.5, y=13, s=r\"$ D = 1.48 ft $\", fontsize=\"large\")\n",
    "\n",
    "# last line\n",
    "line = plt.Line2D(xdata=[-200, 1200], ydata=[2, 2], color=\"k\")\n",
    "ax.add_line(line)\n",
    "\n",
    "# water table\n",
    "line = plt.Line2D(xdata=[-200, 1200], ydata=[0, 0], color=\"blue\")\n",
    "ax.add_line(line)\n",
    "\n",
    "\n",
    "ax.set_xlim([-20, 20])\n",
    "ax.set_ylim([-32, 20])\n",
    "ax.set_xlabel(\"Distance [ft]\")\n",
    "ax.set_ylabel(\"Relative height [ft]\")\n",
    "ax.set_title(\"Conceptual Model - Falling Head Example\")"
   ]
  },
  {
   "cell_type": "markdown",
   "metadata": {},
   "source": [
    "## Step 1. Import required libraries"
   ]
  },
  {
   "cell_type": "code",
   "execution_count": 2,
   "metadata": {},
   "outputs": [],
   "source": [
    "%matplotlib inline\n",
    "from ttim import *\n",
    "import numpy as np\n",
    "import matplotlib.pyplot as plt\n",
    "import pandas as pd"
   ]
  },
  {
   "cell_type": "markdown",
   "metadata": {},
   "source": [
    "## Step 2. Set basic parameters\n",
    "\n",
    "Parameters here declared are already converted from feet and inches to meters"
   ]
  },
  {
   "cell_type": "code",
   "execution_count": 3,
   "metadata": {},
   "outputs": [],
   "source": [
    "rw = 0.127  # well radius\n",
    "rc = 0.0508  # well casing radius\n",
    "L = 4.20624  # screen length\n",
    "b = -9.9274  # aquifer thickness\n",
    "zt = -0.1433  # depth to top of the screen\n",
    "H0 = 0.4511  # initial displacement in the well\n",
    "zb = zt - L  # bottom of the screen"
   ]
  },
  {
   "cell_type": "markdown",
   "metadata": {},
   "source": [
    "## Step 3. Converting slug displacement to volume"
   ]
  },
  {
   "cell_type": "code",
   "execution_count": 4,
   "metadata": {},
   "outputs": [
    {
     "name": "stdout",
     "output_type": "stream",
     "text": [
      "Slug: 0.00366 m^3\n"
     ]
    }
   ],
   "source": [
    "Q = np.pi * rc**2 * H0\n",
    "print(\"Slug:\", round(Q, 5), \"m^3\")"
   ]
  },
  {
   "cell_type": "markdown",
   "metadata": {},
   "source": [
    "## Step 4. Load data\n",
    "\n",
    "Drawdown data is available in feet and seconds and are converted to meters and days"
   ]
  },
  {
   "cell_type": "code",
   "execution_count": 5,
   "metadata": {},
   "outputs": [],
   "source": [
    "data = np.loadtxt(\"data/falling_head.txt\", skiprows=2)\n",
    "t = data[:, 0] / 60 / 60 / 24  # convert time from seconds to days\n",
    "h = (10 - data[:, 1]) * 0.3048  # convert drawdown from ft to meters"
   ]
  },
  {
   "cell_type": "markdown",
   "metadata": {},
   "source": [
    "## Step 5. Create First Model - three layers\n",
    "\n",
    "We begin with a model with just three layers. We arranged the layers to match the screen length. The first layer is located just above the screen, the second layer is located at the screen depths, and the last layer is just below the screen, up to the total aquifer depth.\n",
    "\n",
    "We set the model in the same manner as in [Slug 1 - Pratt County](slug1_pratt_county.ipynb)."
   ]
  },
  {
   "cell_type": "code",
   "execution_count": 6,
   "metadata": {},
   "outputs": [
    {
     "name": "stdout",
     "output_type": "stream",
     "text": [
      "self.neq  1\n",
      "solution complete\n"
     ]
    }
   ],
   "source": [
    "ml_0 = Model3D(kaq=10, z=[0, zt, zb, b], Saq=1e-4, tmin=1e-5, tmax=0.01)\n",
    "w_0 = Well(ml_0, xw=0, yw=0, rw=rw, rc=rc, tsandQ=[(0, -Q)], layers=1, wbstype=\"slug\")\n",
    "ml_0.solve()"
   ]
  },
  {
   "cell_type": "markdown",
   "metadata": {},
   "source": [
    "## Step 6. Model calibration\n",
    "\n",
    "The procedures for calibration can be seen in [Unconfined 1 - Vennebulten](unconfined1_vennebulten.ipynb)\n",
    "\n",
    "We calibrate hydraulic conductivity and specific storage, as in the KGS model (Hyder et al. 1994)."
   ]
  },
  {
   "cell_type": "code",
   "execution_count": 7,
   "metadata": {},
   "outputs": [
    {
     "name": "stdout",
     "output_type": "stream",
     "text": [
      "......................................................\n",
      "Fit succeeded.\n",
      "[[Fit Statistics]]\n",
      "    # fitting method   = leastsq\n",
      "    # function evals   = 51\n",
      "    # data points      = 27\n",
      "    # variables        = 2\n",
      "    chi-square         = 0.00113000\n",
      "    reduced chi-square = 4.5200e-05\n",
      "    Akaike info crit   = -268.197122\n",
      "    Bayesian info crit = -265.605448\n",
      "[[Variables]]\n",
      "    kaq0_2:  0.59645054 +/- 0.03142467 (5.27%) (init = 10)\n",
      "    Saq0_2:  2.1306e-04 +/- 6.2567e-05 (29.37%) (init = 0.0001)\n",
      "[[Correlations]] (unreported correlations are < 0.100)\n",
      "    C(kaq0_2, Saq0_2) = -0.968\n"
     ]
    }
   ],
   "source": [
    "ca_0 = Calibrate(ml_0)\n",
    "ca_0.set_parameter(name=\"kaq0_2\", initial=10)\n",
    "ca_0.set_parameter(name=\"Saq0_2\", initial=1e-4, pmin=1e-7)\n",
    "ca_0.series(name=\"obs\", x=0, y=0, t=t, h=h, layer=1)\n",
    "ca_0.fit(report=True)"
   ]
  },
  {
   "cell_type": "code",
   "execution_count": 8,
   "metadata": {},
   "outputs": [
    {
     "data": {
      "text/html": [
       "<div>\n",
       "<style scoped>\n",
       "    .dataframe tbody tr th:only-of-type {\n",
       "        vertical-align: middle;\n",
       "    }\n",
       "\n",
       "    .dataframe tbody tr th {\n",
       "        vertical-align: top;\n",
       "    }\n",
       "\n",
       "    .dataframe thead th {\n",
       "        text-align: right;\n",
       "    }\n",
       "</style>\n",
       "<table border=\"1\" class=\"dataframe\">\n",
       "  <thead>\n",
       "    <tr style=\"text-align: right;\">\n",
       "      <th></th>\n",
       "      <th>optimal</th>\n",
       "      <th>std</th>\n",
       "      <th>perc_std</th>\n",
       "      <th>pmin</th>\n",
       "      <th>pmax</th>\n",
       "      <th>initial</th>\n",
       "      <th>parray</th>\n",
       "    </tr>\n",
       "  </thead>\n",
       "  <tbody>\n",
       "    <tr>\n",
       "      <th>kaq0_2</th>\n",
       "      <td>0.596451</td>\n",
       "      <td>0.031425</td>\n",
       "      <td>5.268613</td>\n",
       "      <td>-inf</td>\n",
       "      <td>inf</td>\n",
       "      <td>10</td>\n",
       "      <td>[0.5964505364271898, 0.5964505364271898, 0.596...</td>\n",
       "    </tr>\n",
       "    <tr>\n",
       "      <th>Saq0_2</th>\n",
       "      <td>0.000213</td>\n",
       "      <td>0.000063</td>\n",
       "      <td>29.36663</td>\n",
       "      <td>1.000000e-07</td>\n",
       "      <td>inf</td>\n",
       "      <td>0.0001</td>\n",
       "      <td>[0.00021305549571903892, 0.0002130554957190389...</td>\n",
       "    </tr>\n",
       "  </tbody>\n",
       "</table>\n",
       "</div>"
      ],
      "text/plain": [
       "         optimal       std  perc_std          pmin  pmax initial  \\\n",
       "kaq0_2  0.596451  0.031425  5.268613          -inf   inf      10   \n",
       "Saq0_2  0.000213  0.000063  29.36663  1.000000e-07   inf  0.0001   \n",
       "\n",
       "                                                   parray  \n",
       "kaq0_2  [0.5964505364271898, 0.5964505364271898, 0.596...  \n",
       "Saq0_2  [0.00021305549571903892, 0.0002130554957190389...  "
      ]
     },
     "metadata": {},
     "output_type": "display_data"
    },
    {
     "name": "stdout",
     "output_type": "stream",
     "text": [
      "RMSE: 0.00646929950106304\n"
     ]
    }
   ],
   "source": [
    "display(ca_0.parameters)\n",
    "print(\"RMSE:\", ca_0.rmse())"
   ]
  },
  {
   "cell_type": "code",
   "execution_count": 9,
   "metadata": {},
   "outputs": [
    {
     "data": {
      "image/png": "[encoded data removed]",
      "text/plain": [
       "<Figure size 720x504 with 1 Axes>"
      ]
     },
     "metadata": {
      "needs_background": "light"
     },
     "output_type": "display_data"
    }
   ],
   "source": [
    "hm_0 = ml_0.head(0, 0, t, layers=1)\n",
    "plt.figure(figsize=(10, 7))\n",
    "plt.semilogx(t, h / H0, \".\", label=\"obs\")\n",
    "plt.semilogx(t, hm_0[0] / H0, label=\"ttim\")\n",
    "plt.xlabel(\"time [d]\")\n",
    "plt.ylabel(\"Normalized head (h/H0)\")\n",
    "plt.title(\"Model results - three layers model\")\n",
    "plt.legend()"
   ]
  },
  {
   "cell_type": "markdown",
   "metadata": {},
   "source": [
    "## Step 7. Create Second Model - multi-layer model\n",
    "\n",
    "To investigate whether we can improve the model performance, we will create a multi-layer model. For this, we divide the previous second and third layers into 0.5 m thick layers:"
   ]
  },
  {
   "cell_type": "code",
   "execution_count": 10,
   "metadata": {},
   "outputs": [],
   "source": [
    "# Determine elevation of each layer.\n",
    "# Thickness of each layer is set to be 0.5 m.\n",
    "z0 = np.arange(zt, zb, -0.5)\n",
    "z1 = np.arange(zb, b, -0.5)\n",
    "zlay = np.append(z0, z1)\n",
    "zlay = np.append(zlay, b)\n",
    "zlay = np.insert(zlay, 0, 0)\n",
    "nlay = len(zlay) - 1  # number of layers\n",
    "Saq_1 = 1e-4 * np.ones(nlay)\n",
    "Saq_1[0] = 0.1"
   ]
  },
  {
   "cell_type": "code",
   "execution_count": 11,
   "metadata": {},
   "outputs": [
    {
     "name": "stdout",
     "output_type": "stream",
     "text": [
      "self.neq  8\n",
      "solution complete\n"
     ]
    }
   ],
   "source": [
    "ml_1 = Model3D(\n",
    "    kaq=10, z=zlay, Saq=Saq_1, kzoverkh=1, tmin=1e-5, tmax=0.01, phreatictop=True\n",
    ")\n",
    "w_1 = Well(\n",
    "    ml_1,\n",
    "    xw=0,\n",
    "    yw=0,\n",
    "    rw=rw,\n",
    "    tsandQ=[(0, -Q)],\n",
    "    layers=[1, 2, 3, 4, 5, 6, 7, 8],\n",
    "    rc=rc,\n",
    "    wbstype=\"slug\",\n",
    ")\n",
    "ml_1.solve()"
   ]
  },
  {
   "cell_type": "markdown",
   "metadata": {},
   "source": [
    "## Step 8. Calibration of multi-layer model"
   ]
  },
  {
   "cell_type": "code",
   "execution_count": 12,
   "metadata": {},
   "outputs": [
    {
     "name": "stdout",
     "output_type": "stream",
     "text": [
      ".....................................\n",
      "Fit succeeded.\n",
      "[[Fit Statistics]]\n",
      "    # fitting method   = leastsq\n",
      "    # function evals   = 34\n",
      "    # data points      = 216\n",
      "    # variables        = 2\n",
      "    chi-square         = 0.00868197\n",
      "    reduced chi-square = 4.0570e-05\n",
      "    Akaike info crit   = -2182.30557\n",
      "    Bayesian info crit = -2175.55502\n",
      "[[Variables]]\n",
      "    kaq0_21:  0.49534587 +/- 0.00771304 (1.56%) (init = 10)\n",
      "    Saq0_21:  4.0608e-04 +/- 3.5535e-05 (8.75%) (init = 0.0001)\n",
      "[[Correlations]] (unreported correlations are < 0.100)\n",
      "    C(kaq0_21, Saq0_21) = -0.959\n"
     ]
    }
   ],
   "source": [
    "ca_1 = Calibrate(ml_1)\n",
    "ca_1.set_parameter(name=\"kaq0_21\", initial=10, pmin=0)\n",
    "ca_1.set_parameter(name=\"Saq0_21\", initial=1e-4, pmin=0)\n",
    "ca_1.series(name=\"obs\", x=0, y=0, layer=[1, 2, 3, 4, 5, 6, 7, 8], t=t, h=h)\n",
    "ca_1.fit(report=True)"
   ]
  },
  {
   "cell_type": "code",
   "execution_count": 13,
   "metadata": {},
   "outputs": [
    {
     "data": {
      "text/html": [
       "<div>\n",
       "<style scoped>\n",
       "    .dataframe tbody tr th:only-of-type {\n",
       "        vertical-align: middle;\n",
       "    }\n",
       "\n",
       "    .dataframe tbody tr th {\n",
       "        vertical-align: top;\n",
       "    }\n",
       "\n",
       "    .dataframe thead th {\n",
       "        text-align: right;\n",
       "    }\n",
       "</style>\n",
       "<table border=\"1\" class=\"dataframe\">\n",
       "  <thead>\n",
       "    <tr style=\"text-align: right;\">\n",
       "      <th></th>\n",
       "      <th>optimal</th>\n",
       "      <th>std</th>\n",
       "      <th>perc_std</th>\n",
       "      <th>pmin</th>\n",
       "      <th>pmax</th>\n",
       "      <th>initial</th>\n",
       "      <th>parray</th>\n",
       "    </tr>\n",
       "  </thead>\n",
       "  <tbody>\n",
       "    <tr>\n",
       "      <th>kaq0_21</th>\n",
       "      <td>0.495346</td>\n",
       "      <td>0.007713</td>\n",
       "      <td>1.557102</td>\n",
       "      <td>0</td>\n",
       "      <td>inf</td>\n",
       "      <td>10</td>\n",
       "      <td>[0.49534586991870566, 0.49534586991870566, 0.4...</td>\n",
       "    </tr>\n",
       "    <tr>\n",
       "      <th>Saq0_21</th>\n",
       "      <td>0.000406</td>\n",
       "      <td>0.000036</td>\n",
       "      <td>8.750683</td>\n",
       "      <td>0</td>\n",
       "      <td>inf</td>\n",
       "      <td>0.0001</td>\n",
       "      <td>[0.0004060803540884006, 0.0004060803540884006,...</td>\n",
       "    </tr>\n",
       "  </tbody>\n",
       "</table>\n",
       "</div>"
      ],
      "text/plain": [
       "          optimal       std  perc_std pmin  pmax initial  \\\n",
       "kaq0_21  0.495346  0.007713  1.557102    0   inf      10   \n",
       "Saq0_21  0.000406  0.000036  8.750683    0   inf  0.0001   \n",
       "\n",
       "                                                    parray  \n",
       "kaq0_21  [0.49534586991870566, 0.49534586991870566, 0.4...  \n",
       "Saq0_21  [0.0004060803540884006, 0.0004060803540884006,...  "
      ]
     },
     "metadata": {},
     "output_type": "display_data"
    },
    {
     "name": "stdout",
     "output_type": "stream",
     "text": [
      "RMSE: 0.006339898421521682\n"
     ]
    }
   ],
   "source": [
    "display(ca_1.parameters)\n",
    "print(\"RMSE:\", ca_1.rmse())"
   ]
  },
  {
   "cell_type": "markdown",
   "metadata": {},
   "source": [
    "RMSE has just slightly improved, and the parameter values are more or less similar to the previous values. However, AIC has improved significantly."
   ]
  },
  {
   "cell_type": "code",
   "execution_count": 14,
   "metadata": {},
   "outputs": [
    {
     "data": {
      "image/png": "[encoded data removed]",
      "text/plain": [
       "<Figure size 576x360 with 1 Axes>"
      ]
     },
     "metadata": {
      "needs_background": "light"
     },
     "output_type": "display_data"
    }
   ],
   "source": [
    "hm_1 = ml_1.head(0, 0, t, layers=8)\n",
    "plt.figure(figsize=(8, 5))\n",
    "plt.semilogx(t, h / H0, \".\", label=\"obs\")\n",
    "plt.semilogx(t, hm_1[0] / H0, label=\"ttim\")\n",
    "plt.xlabel(\"time(d)\")\n",
    "plt.ylabel(\"h/H0\")\n",
    "plt.legend()"
   ]
  },
  {
   "cell_type": "markdown",
   "metadata": {},
   "source": [
    "## Step 9. Final Model calibration with well skin resistance\n",
    "\n",
    "Now we test if the skin resistance of the well has an impact on model calibration. For this, we add the ```res``` parameter in the calibration settings. We use the same multi-layer model."
   ]
  },
  {
   "cell_type": "code",
   "execution_count": 15,
   "metadata": {
    "scrolled": true
   },
   "outputs": [
    {
     "name": "stdout",
     "output_type": "stream",
     "text": [
      "...........................................\n",
      "Fit succeeded.\n",
      "[[Fit Statistics]]\n",
      "    # fitting method   = leastsq\n",
      "    # function evals   = 40\n",
      "    # data points      = 216\n",
      "    # variables        = 3\n",
      "    chi-square         = 0.00858103\n",
      "    reduced chi-square = 4.0287e-05\n",
      "    Akaike info crit   = -2182.83157\n",
      "    Bayesian info crit = -2172.70573\n",
      "[[Variables]]\n",
      "    kaq0_21:  0.50869799 +/- 0.01009968 (1.99%) (init = 10)\n",
      "    Saq0_21:  3.4204e-04 +/- 4.2853e-05 (12.53%) (init = 0.0001)\n",
      "    res:      0.00247891 +/- 0.00142206 (57.37%) (init = 0.1)\n",
      "[[Correlations]] (unreported correlations are < 0.100)\n",
      "    C(kaq0_21, Saq0_21) = -0.976\n",
      "    C(Saq0_21, res)     = -0.709\n",
      "    C(kaq0_21, res)     = 0.667\n"
     ]
    }
   ],
   "source": [
    "ca_2 = Calibrate(ml_1)\n",
    "ca_2.set_parameter(name=\"kaq0_21\", initial=10, pmin=0)\n",
    "ca_2.set_parameter(name=\"Saq0_21\", initial=1e-4, pmin=0)\n",
    "ca_2.set_parameter_by_reference(name=\"res\", parameter=w_1.res, initial=0.1, pmin=0)\n",
    "ca_2.series(name=\"obs\", x=0, y=0, layer=[1, 2, 3, 4, 5, 6, 7, 8], t=t, h=h)\n",
    "ca_2.fit(report=True)"
   ]
  },
  {
   "cell_type": "code",
   "execution_count": 16,
   "metadata": {},
   "outputs": [
    {
     "data": {
      "text/html": [
       "<div>\n",
       "<style scoped>\n",
       "    .dataframe tbody tr th:only-of-type {\n",
       "        vertical-align: middle;\n",
       "    }\n",
       "\n",
       "    .dataframe tbody tr th {\n",
       "        vertical-align: top;\n",
       "    }\n",
       "\n",
       "    .dataframe thead th {\n",
       "        text-align: right;\n",
       "    }\n",
       "</style>\n",
       "<table border=\"1\" class=\"dataframe\">\n",
       "  <thead>\n",
       "    <tr style=\"text-align: right;\">\n",
       "      <th></th>\n",
       "      <th>optimal</th>\n",
       "      <th>std</th>\n",
       "      <th>perc_std</th>\n",
       "      <th>pmin</th>\n",
       "      <th>pmax</th>\n",
       "      <th>initial</th>\n",
       "      <th>parray</th>\n",
       "    </tr>\n",
       "  </thead>\n",
       "  <tbody>\n",
       "    <tr>\n",
       "      <th>kaq0_21</th>\n",
       "      <td>0.508698</td>\n",
       "      <td>0.010100</td>\n",
       "      <td>1.985399</td>\n",
       "      <td>0</td>\n",
       "      <td>inf</td>\n",
       "      <td>10</td>\n",
       "      <td>[0.5086979931631646, 0.5086979931631646, 0.508...</td>\n",
       "    </tr>\n",
       "    <tr>\n",
       "      <th>Saq0_21</th>\n",
       "      <td>0.000342</td>\n",
       "      <td>0.000043</td>\n",
       "      <td>12.528695</td>\n",
       "      <td>0</td>\n",
       "      <td>inf</td>\n",
       "      <td>0.0001</td>\n",
       "      <td>[0.00034203719744052563, 0.0003420371974405256...</td>\n",
       "    </tr>\n",
       "    <tr>\n",
       "      <th>res</th>\n",
       "      <td>0.002479</td>\n",
       "      <td>0.001422</td>\n",
       "      <td>57.366326</td>\n",
       "      <td>0</td>\n",
       "      <td>inf</td>\n",
       "      <td>0.1</td>\n",
       "      <td>[0.0024789096083315254]</td>\n",
       "    </tr>\n",
       "  </tbody>\n",
       "</table>\n",
       "</div>"
      ],
      "text/plain": [
       "          optimal       std   perc_std pmin  pmax initial  \\\n",
       "kaq0_21  0.508698  0.010100   1.985399    0   inf      10   \n",
       "Saq0_21  0.000342  0.000043  12.528695    0   inf  0.0001   \n",
       "res      0.002479  0.001422  57.366326    0   inf     0.1   \n",
       "\n",
       "                                                    parray  \n",
       "kaq0_21  [0.5086979931631646, 0.5086979931631646, 0.508...  \n",
       "Saq0_21  [0.00034203719744052563, 0.0003420371974405256...  \n",
       "res                                [0.0024789096083315254]  "
      ]
     },
     "metadata": {},
     "output_type": "display_data"
    },
    {
     "name": "stdout",
     "output_type": "stream",
     "text": [
      "RMSE: 0.006302935863326607\n"
     ]
    }
   ],
   "source": [
    "display(ca_2.parameters)\n",
    "print(\"RMSE:\", ca_2.rmse())"
   ]
  },
  {
   "cell_type": "markdown",
   "metadata": {},
   "source": [
    "The model has only improved slightly with the addition of the skin resistance, with a tiny improvement in AIC and RMSE. That indicates that skin resistance can be ignored in this situation."
   ]
  },
  {
   "cell_type": "code",
   "execution_count": 17,
   "metadata": {},
   "outputs": [
    {
     "data": {
      "image/png": "[encoded data removed]",
      "text/plain": [
       "<Figure size 576x360 with 1 Axes>"
      ]
     },
     "metadata": {
      "needs_background": "light"
     },
     "output_type": "display_data"
    }
   ],
   "source": [
    "hm_2 = ml_1.head(0, 0, t, layers=8)\n",
    "plt.figure(figsize=(8, 5))\n",
    "plt.semilogx(t, h / H0, \".\", label=\"obs\")\n",
    "plt.semilogx(t, hm_2[0] / H0, label=\"ttim\")\n",
    "plt.xlabel(\"time(d)\")\n",
    "plt.ylabel(\"h/H0\")\n",
    "plt.legend()"
   ]
  },
  {
   "cell_type": "markdown",
   "metadata": {},
   "source": [
    "## Step 10. Analysis and comparison of simulated values\n",
    "\n",
    "We now compare the values in TTim and add the results of the AQTESOLV modelling reported by Yang (2020)."
   ]
  },
  {
   "cell_type": "code",
   "execution_count": 18,
   "metadata": {},
   "outputs": [
    {
     "data": {
      "text/html": [
       "<style type=\"text/css\">\n",
       "</style>\n",
       "<table id=\"T_005a1_\">\n",
       "  <caption>Comparison of parameter values and error under different models</caption>\n",
       "  <thead>\n",
       "    <tr>\n",
       "      <th class=\"blank level0\" >&nbsp;</th>\n",
       "      <th class=\"col_heading level0 col0\" >k [m/d]</th>\n",
       "      <th class=\"col_heading level0 col1\" >Ss [1/m]</th>\n",
       "      <th class=\"col_heading level0 col2\" >res [1/d]</th>\n",
       "      <th class=\"col_heading level0 col3\" >RMSE</th>\n",
       "    </tr>\n",
       "  </thead>\n",
       "  <tbody>\n",
       "    <tr>\n",
       "      <th id=\"T_005a1_level0_row0\" class=\"row_heading level0 row0\" >AQTESOLV</th>\n",
       "      <td id=\"T_005a1_row0_col0\" class=\"data row0 col0\" >2.616000</td>\n",
       "      <td id=\"T_005a1_row0_col1\" class=\"data row0 col1\" >0.000079</td>\n",
       "      <td id=\"T_005a1_row0_col2\" class=\"data row0 col2\" >nan</td>\n",
       "      <td id=\"T_005a1_row0_col3\" class=\"data row0 col3\" >0.001197</td>\n",
       "    </tr>\n",
       "    <tr>\n",
       "      <th id=\"T_005a1_level0_row1\" class=\"row_heading level0 row1\" >ttim-three</th>\n",
       "      <td id=\"T_005a1_row1_col0\" class=\"data row1 col0\" >0.596451</td>\n",
       "      <td id=\"T_005a1_row1_col1\" class=\"data row1 col1\" >0.000213</td>\n",
       "      <td id=\"T_005a1_row1_col2\" class=\"data row1 col2\" >nan</td>\n",
       "      <td id=\"T_005a1_row1_col3\" class=\"data row1 col3\" >0.006469</td>\n",
       "    </tr>\n",
       "    <tr>\n",
       "      <th id=\"T_005a1_level0_row2\" class=\"row_heading level0 row2\" >ttim-multi</th>\n",
       "      <td id=\"T_005a1_row2_col0\" class=\"data row2 col0\" >0.495346</td>\n",
       "      <td id=\"T_005a1_row2_col1\" class=\"data row2 col1\" >0.000406</td>\n",
       "      <td id=\"T_005a1_row2_col2\" class=\"data row2 col2\" >nan</td>\n",
       "      <td id=\"T_005a1_row2_col3\" class=\"data row2 col3\" >0.006358</td>\n",
       "    </tr>\n",
       "    <tr>\n",
       "      <th id=\"T_005a1_level0_row3\" class=\"row_heading level0 row3\" >ttim-res</th>\n",
       "      <td id=\"T_005a1_row3_col0\" class=\"data row3 col0\" >0.508698</td>\n",
       "      <td id=\"T_005a1_row3_col1\" class=\"data row3 col1\" >0.000342</td>\n",
       "      <td id=\"T_005a1_row3_col2\" class=\"data row3 col2\" >0.002479</td>\n",
       "      <td id=\"T_005a1_row3_col3\" class=\"data row3 col3\" >0.006303</td>\n",
       "    </tr>\n",
       "  </tbody>\n",
       "</table>\n"
      ],
      "text/plain": [
       "<pandas.io.formats.style.Styler at 0x11f9cffb5b0>"
      ]
     },
     "execution_count": 18,
     "metadata": {},
     "output_type": "execute_result"
    }
   ],
   "source": [
    "ta = pd.DataFrame(\n",
    "    columns=[\"k [m/d]\", \"Ss [1/m]\", \"res [1/d]\"],\n",
    "    index=[\"AQTESOLV\", \"ttim-three\", \"ttim-multi\", \"ttim-res\"],\n",
    ")\n",
    "ta.loc[\"ttim-three\"] = np.concatenate((ca_0.parameters[\"optimal\"].values, [np.nan]))\n",
    "ta.loc[\"ttim-multi\"] = np.concatenate((ca_1.parameters[\"optimal\"].values, [np.nan]))\n",
    "ta.loc[\"ttim-res\"] = ca_2.parameters[\"optimal\"].values\n",
    "ta.loc[\"AQTESOLV\"] = [2.616, 7.894e-5] + [np.nan]\n",
    "ta[\"RMSE\"] = [\n",
    "    0.001197,\n",
    "    round(ca_0.rmse(), 6),\n",
    "    round(ca_1.rmse(), 6),\n",
    "    round(ca_2.rmse(), 6),\n",
    "]\n",
    "ta.style.set_caption(\"Comparison of parameter values and error under different models\")"
   ]
  },
  {
   "cell_type": "markdown",
   "metadata": {},
   "source": [
    "AQTESOLV parameters are quite different from the set parameters in TTim. It also has a better RMSE performance. All TTim models are very similar to each other. However, the multi-layer models performed better."
   ]
  },
  {
   "cell_type": "markdown",
   "metadata": {},
   "source": [
    "## References\n",
    "\n",
    "* Batu, V., 1998. Aquifer hydraulics: a comprehensive guide to hydrogeologic data analysis. John Wiley & Sons\n",
    "* Hyder, Z., Butler Jr, J.J., McElwee, C.D., Liu, W., 1994. Slug tests in partially penetrating wells. Water Resources Research 30, 2945–2957.\n",
    "* Duffield, G.M., 2007. AQTESOLV for Windows Version 4.5 User's Guide, HydroSOLVE, Inc., Reston, VA.\n",
    "* Yang, Xinzhu (2020) Application and comparison of different methodsfor aquifer test analysis using TTim. Master Thesis, Delft University of Technology (TUDelft), Delft, The Netherlands."
   ]
  },
  {
   "cell_type": "markdown",
   "metadata": {},
   "source": [
    "#### Next Notebook: [Slug Test 3 - Multiwell](slug3_multiwell.ipynb)"
   ]
  }
 ],
 "metadata": {
  "kernelspec": {
   "display_name": "Python 3 (ipykernel)",
   "language": "python",
   "name": "python3"
  },
  "language_info": {
   "codemirror_mode": {
    "name": "ipython",
    "version": 3
   },
   "file_extension": ".py",
   "mimetype": "text/x-python",
   "name": "python",
   "nbconvert_exporter": "python",
   "pygments_lexer": "ipython3",
   "version": "3.8.12"
  }
 },
 "nbformat": 4,
 "nbformat_minor": 4
}
