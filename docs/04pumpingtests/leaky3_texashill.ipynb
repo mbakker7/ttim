{
 "cells": [
  {
   "cell_type": "markdown",
   "metadata": {},
   "source": [
    "# 3. Leaky Aquifer Test - Texas Hill Example\n",
    "**This example is taken from AQTESOLV examples.**"
   ]
  },
  {
   "cell_type": "markdown",
   "metadata": {},
   "source": [
    "## Introduction and Conceptual Model\n",
    "\n",
    "This pumping test, taken from the AQTESOLV examples, was done in the location of 'Texas Hill'. A pumping well was screened at an aquifer located between 20 ft and 70 ft depths. The aquifer is overlain by an aquitard. The formation at the base of the aquifer is considered an aquiclude.\n",
    "\n",
    "Three observation wells are located at 40, 80 160 ft distance. They are denominated OW1, OW2 and OW3, respectively. Pumping lasted for 420 minutes at a rate of 4488 gallons per minute. The hydrogeological conceptual model can be seen in the figure below.\n",
    "\n",
    "In this example, we will reproduce the work of Xinzhu (2020). We compare the aquifer test results using Hantush's solution (Hantush 1955) in the software AQTESOLV (Duffield, 2007) and TTim. We also explore the capabilities of TTim to account for aquitard storage and wellbore effects such as wellbore storage and skin effect, which cannot be simulated with Hantush's solution."
   ]
  },
  {
   "cell_type": "code",
   "execution_count": 1,
   "metadata": {
    "jupyter": {
     "source_hidden": true
    },
    "tags": []
   },
   "outputs": [
    {
     "data": {
      "image/png": "[encoded data removed]",
      "text/plain": [
       "<Figure size 1008x648 with 1 Axes>"
      ]
     },
     "metadata": {
      "needs_background": "light"
     },
     "output_type": "display_data"
    }
   ],
   "source": [
    "# Conceptual Model 1\n",
    "import matplotlib.pyplot as plt\n",
    "import numpy as np\n",
    "\n",
    "##Now printing the conceptual model figure:\n",
    "\n",
    "fig = plt.figure(figsize=(14, 9))\n",
    "ax = fig.add_subplot(1, 1, 1)\n",
    "# sky\n",
    "sky = plt.Rectangle((-20, 0), width=220, height=8, fc=\"b\", zorder=0, alpha=0.1)\n",
    "ax.add_patch(sky)\n",
    "\n",
    "# Aquifer:\n",
    "ground = plt.Rectangle(\n",
    "    (-20, -70),\n",
    "    width=220,\n",
    "    height=50,\n",
    "    fc=np.array([209, 179, 127]) / 255,\n",
    "    zorder=0,\n",
    "    alpha=0.9,\n",
    ")\n",
    "ax.add_patch(ground)\n",
    "\n",
    "# Confining bed:\n",
    "confining_unit = plt.Rectangle(\n",
    "    (-20, -20),\n",
    "    width=220,\n",
    "    height=20,\n",
    "    fc=np.array([100, 100, 100]) / 255,\n",
    "    zorder=0,\n",
    "    alpha=0.7,\n",
    ")\n",
    "ax.add_patch(confining_unit)\n",
    "\n",
    "well = plt.Rectangle(\n",
    "    (-2, -70), width=4, height=70, fc=np.array([200, 200, 200]) / 255, zorder=1\n",
    ")\n",
    "ax.add_patch(well)\n",
    "\n",
    "# Wellhead\n",
    "wellhead = plt.Rectangle(\n",
    "    (-2.5, 0), width=5, height=1.5, fc=np.array([200, 200, 200]) / 255, zorder=2, ec=\"k\"\n",
    ")\n",
    "ax.add_patch(wellhead)\n",
    "\n",
    "# Screen for the well:\n",
    "screen = plt.Rectangle(\n",
    "    (-2, -70),\n",
    "    width=4,\n",
    "    height=50,\n",
    "    fc=np.array([200, 200, 200]) / 255,\n",
    "    alpha=1,\n",
    "    zorder=2,\n",
    "    ec=\"k\",\n",
    "    ls=\"--\",\n",
    ")\n",
    "screen.set_linewidth(2)\n",
    "ax.add_patch(screen)\n",
    "pumping_arrow = plt.Arrow(x=2.5, y=0.75, dx=5, dy=0, color=\"#00035b\")\n",
    "ax.add_patch(pumping_arrow)\n",
    "ax.text(x=7.5, y=2, s=r\"$ Q = 4488 \\frac{gal}{min}$\", fontsize=\"large\")\n",
    "# Piezometers\n",
    "piez1 = plt.Rectangle(\n",
    "    (39, -70), width=2, height=70, fc=np.array([200, 200, 200]) / 255, zorder=1\n",
    ")\n",
    "screen_piez_1 = plt.Rectangle(\n",
    "    (39, -70),\n",
    "    width=2,\n",
    "    height=50,\n",
    "    fc=np.array([200, 200, 200]) / 255,\n",
    "    alpha=1,\n",
    "    zorder=2,\n",
    "    ec=\"k\",\n",
    "    ls=\"--\",\n",
    ")\n",
    "screen_piez_1.set_linewidth(2)\n",
    "\n",
    "piez2 = plt.Rectangle(\n",
    "    (79, -70), width=2, height=70, fc=np.array([200, 200, 200]) / 255, zorder=1\n",
    ")\n",
    "screen_piez_2 = plt.Rectangle(\n",
    "    (79, -70),\n",
    "    width=2,\n",
    "    height=50,\n",
    "    fc=np.array([200, 200, 200]) / 255,\n",
    "    alpha=1,\n",
    "    zorder=2,\n",
    "    ec=\"k\",\n",
    "    ls=\"--\",\n",
    ")\n",
    "screen_piez_2.set_linewidth(2)\n",
    "\n",
    "piez3 = plt.Rectangle(\n",
    "    (159, -70), width=2, height=70, fc=np.array([200, 200, 200]) / 255, zorder=1\n",
    ")\n",
    "screen_piez_3 = plt.Rectangle(\n",
    "    (159, -70),\n",
    "    width=2,\n",
    "    height=50,\n",
    "    fc=np.array([200, 200, 200]) / 255,\n",
    "    alpha=1,\n",
    "    zorder=2,\n",
    "    ec=\"k\",\n",
    "    ls=\"--\",\n",
    ")\n",
    "screen_piez_3.set_linewidth(2)\n",
    "\n",
    "\n",
    "ax.add_patch(piez1)\n",
    "ax.add_patch(screen_piez_1)\n",
    "ax.add_patch(piez2)\n",
    "ax.add_patch(screen_piez_2)\n",
    "ax.add_patch(piez3)\n",
    "ax.add_patch(screen_piez_3)\n",
    "\n",
    "# last line\n",
    "line = plt.Line2D(xdata=[-200, 1200], ydata=[0, 0], color=\"k\")\n",
    "ax.add_line(line)\n",
    "\n",
    "ax.text(x=39, y=2, s=\"P40\", fontsize=\"large\")\n",
    "ax.text(x=79, y=2, s=\"P80\", fontsize=\"large\")\n",
    "ax.text(x=159, y=2, s=\"P160\", fontsize=\"large\")\n",
    "\n",
    "\n",
    "ax.set_xlim([-20, 200])\n",
    "ax.set_ylim([-70, 8])\n",
    "ax.set_xlabel(\"Distance [ft]\")\n",
    "ax.set_ylabel(\"Relative height [ft]\")\n",
    "ax.set_title(\"Conceptual Model - Texas Hill Example\")"
   ]
  },
  {
   "cell_type": "markdown",
   "metadata": {},
   "source": [
    "## Step 1. Load Required Libraries"
   ]
  },
  {
   "cell_type": "code",
   "execution_count": 2,
   "metadata": {},
   "outputs": [],
   "source": [
    "import numpy as np\n",
    "import matplotlib.pyplot as plt\n",
    "import pandas as pd\n",
    "from ttim import *"
   ]
  },
  {
   "cell_type": "markdown",
   "metadata": {},
   "source": [
    "## Step 2. Set basic parameters\n",
    "\n",
    "Here we have previously converted the exercise values to ***meters*** and ***days***."
   ]
  },
  {
   "cell_type": "code",
   "execution_count": 3,
   "metadata": {},
   "outputs": [],
   "source": [
    "Q = 24464.06  # constant discharge in m^3/d\n",
    "b1 = 6.096  # overlying aquitard thickness in m\n",
    "b2 = 15.24  # aquifer thickness in m\n",
    "zt = -b1  # top boundary of aquifer\n",
    "zb = -b1 - b2  # bottom boundary of aquifer\n",
    "rw = 0.1524  # well radius in m"
   ]
  },
  {
   "cell_type": "markdown",
   "metadata": {},
   "source": [
    "## Step 3. Load dataset of observation wells\n",
    "\n",
    "Each observation well is located in a text file, where the first column is time data in days and the second column is drawdown in meters.\n",
    "We also declare the distance of each observation to the wells: (```r1```:```r3```)"
   ]
  },
  {
   "cell_type": "code",
   "execution_count": 4,
   "metadata": {},
   "outputs": [],
   "source": [
    "data1 = np.loadtxt(\"data/texas40.txt\")\n",
    "t1 = data1[:, 0]\n",
    "h1 = data1[:, 1]\n",
    "r1 = 12.191  # distance between obs1 to pumping well in m\n",
    "\n",
    "data2 = np.loadtxt(\"data/texas80.txt\")\n",
    "t2 = data2[:, 0]\n",
    "h2 = data2[:, 1]\n",
    "r2 = 24.383  # distance between obs2 to pumping well in m\n",
    "\n",
    "data3 = np.loadtxt(\"data/texas160.txt\")\n",
    "t3 = data3[:, 0]\n",
    "h3 = data3[:, 1]\n",
    "r3 = 48.766  # distance between obs3 to pumping well in m"
   ]
  },
  {
   "cell_type": "markdown",
   "metadata": {},
   "source": [
    "## Step 4. Create a conceptual model\n",
    "\n",
    "We define a Modelmaq model for the semi-confined aquifer using the methods described in previous notebooks (see below).\n",
    "In this initial model, we will model the overlying layer as an aquitard with storage (```Sll```, the storage parameter, is defined in ModelMaq).\n",
    "\n",
    "More details on model construction and theory can be seen in:\n",
    "\n",
    "- [Confined 1 - Oude Korendijk](confined1_oude_korendijk)\n",
    "- [Confined 4 - Schroth](confined4_schroth.ipynb)\n",
    "- [Leaky 1 - Dalem](leaky1_dalem.ipynb)"
   ]
  },
  {
   "cell_type": "code",
   "execution_count": 5,
   "metadata": {},
   "outputs": [
    {
     "name": "stdout",
     "output_type": "stream",
     "text": [
      "self.neq  1\n",
      "solution complete\n"
     ]
    }
   ],
   "source": [
    "ml_0 = ModelMaq(\n",
    "    kaq=10,\n",
    "    z=[0, zt, zb],\n",
    "    Saq=0.001,\n",
    "    Sll=0,\n",
    "    c=10,\n",
    "    tmin=0.001,\n",
    "    tmax=1,\n",
    "    topboundary=\"semi\",\n",
    ")\n",
    "w_0 = Well(ml_0, xw=0, yw=0, rw=rw, tsandQ=[(0, Q)], layers=0)\n",
    "ml_0.solve()"
   ]
  },
  {
   "cell_type": "markdown",
   "metadata": {},
   "source": [
    "## Step 5. Model Calibration\n",
    "\n",
    "Using all three observation wells, we calibrate for the hydraulic parameters of the aquifer (```kaq``` and ```Saq```) and for the aquitard (```c``` and ```Sll```)."
   ]
  },
  {
   "cell_type": "code",
   "execution_count": 6,
   "metadata": {},
   "outputs": [
    {
     "name": "stdout",
     "output_type": "stream",
     "text": [
      ".................................................................................................................................\n",
      "Fit succeeded.\n",
      "[[Fit Statistics]]\n",
      "    # fitting method   = leastsq\n",
      "    # function evals   = 126\n",
      "    # data points      = 78\n",
      "    # variables        = 4\n",
      "    chi-square         = 0.28305542\n",
      "    reduced chi-square = 0.00382507\n",
      "    Akaike info crit   = -430.268069\n",
      "    Bayesian info crit = -420.841234\n",
      "[[Variables]]\n",
      "    kaq0:  224.589795 +/- 2.48600891 (1.11%) (init = 10)\n",
      "    Saq0:  2.1313e-04 +/- 3.7534e-05 (17.61%) (init = 0.0001)\n",
      "    Sll0:  1.7304e-06 +/- 2.7782e-04 (16055.52%) (init = 0.0001)\n",
      "    c0:    43.8331237 +/- 3.15335028 (7.19%) (init = 100)\n",
      "[[Correlations]] (unreported correlations are < 0.100)\n",
      "    C(Saq0, Sll0) = -0.979\n",
      "    C(kaq0, c0)   = 0.887\n",
      "    C(Saq0, c0)   = -0.149\n",
      "    C(kaq0, Saq0) = -0.118\n"
     ]
    }
   ],
   "source": [
    "# unknown parameters: kaq, Saq, c, Sll\n",
    "ca_0 = Calibrate(ml_0)\n",
    "ca_0.set_parameter(name=\"kaq0\", initial=10)\n",
    "ca_0.set_parameter(name=\"Saq0\", initial=1e-4)\n",
    "ca_0.set_parameter_by_reference(\n",
    "    name=\"Sll0\", parameter=ml_0.aq.Sll, initial=1e-4, pmin=0\n",
    ")\n",
    "ca_0.set_parameter(name=\"c0\", initial=100)\n",
    "ca_0.series(name=\"OW1\", x=r1, y=0, t=t1, h=h1, layer=0)\n",
    "ca_0.series(name=\"OW2\", x=r2, y=0, t=t2, h=h2, layer=0)\n",
    "ca_0.series(name=\"OW3\", x=r3, y=0, t=t3, h=h3, layer=0)\n",
    "ca_0.fit(report=True)"
   ]
  },
  {
   "cell_type": "code",
   "execution_count": 7,
   "metadata": {},
   "outputs": [
    {
     "data": {
      "text/html": [
       "<div>\n",
       "<style scoped>\n",
       "    .dataframe tbody tr th:only-of-type {\n",
       "        vertical-align: middle;\n",
       "    }\n",
       "\n",
       "    .dataframe tbody tr th {\n",
       "        vertical-align: top;\n",
       "    }\n",
       "\n",
       "    .dataframe thead th {\n",
       "        text-align: right;\n",
       "    }\n",
       "</style>\n",
       "<table border=\"1\" class=\"dataframe\">\n",
       "  <thead>\n",
       "    <tr style=\"text-align: right;\">\n",
       "      <th></th>\n",
       "      <th>optimal</th>\n",
       "      <th>std</th>\n",
       "      <th>perc_std</th>\n",
       "      <th>pmin</th>\n",
       "      <th>pmax</th>\n",
       "      <th>initial</th>\n",
       "      <th>parray</th>\n",
       "    </tr>\n",
       "  </thead>\n",
       "  <tbody>\n",
       "    <tr>\n",
       "      <th>kaq0</th>\n",
       "      <td>224.589795</td>\n",
       "      <td>2.486009</td>\n",
       "      <td>1.106911</td>\n",
       "      <td>-inf</td>\n",
       "      <td>inf</td>\n",
       "      <td>10</td>\n",
       "      <td>[224.5897947124587]</td>\n",
       "    </tr>\n",
       "    <tr>\n",
       "      <th>Saq0</th>\n",
       "      <td>0.000213</td>\n",
       "      <td>0.000038</td>\n",
       "      <td>17.610508</td>\n",
       "      <td>-inf</td>\n",
       "      <td>inf</td>\n",
       "      <td>0.0001</td>\n",
       "      <td>[0.0002131340798389554]</td>\n",
       "    </tr>\n",
       "    <tr>\n",
       "      <th>Sll0</th>\n",
       "      <td>0.000002</td>\n",
       "      <td>0.000278</td>\n",
       "      <td>16055.523283</td>\n",
       "      <td>0.0</td>\n",
       "      <td>inf</td>\n",
       "      <td>0.0001</td>\n",
       "      <td>[1.730365937868683e-06]</td>\n",
       "    </tr>\n",
       "    <tr>\n",
       "      <th>c0</th>\n",
       "      <td>43.833124</td>\n",
       "      <td>3.153350</td>\n",
       "      <td>7.193989</td>\n",
       "      <td>-inf</td>\n",
       "      <td>inf</td>\n",
       "      <td>100</td>\n",
       "      <td>[43.833123697435646]</td>\n",
       "    </tr>\n",
       "  </tbody>\n",
       "</table>\n",
       "</div>"
      ],
      "text/plain": [
       "         optimal       std      perc_std  pmin  pmax initial  \\\n",
       "kaq0  224.589795  2.486009      1.106911  -inf   inf      10   \n",
       "Saq0    0.000213  0.000038     17.610508  -inf   inf  0.0001   \n",
       "Sll0    0.000002  0.000278  16055.523283   0.0   inf  0.0001   \n",
       "c0     43.833124  3.153350      7.193989  -inf   inf     100   \n",
       "\n",
       "                       parray  \n",
       "kaq0      [224.5897947124587]  \n",
       "Saq0  [0.0002131340798389554]  \n",
       "Sll0  [1.730365937868683e-06]  \n",
       "c0       [43.833123697435646]  "
      ]
     },
     "metadata": {},
     "output_type": "display_data"
    },
    {
     "name": "stdout",
     "output_type": "stream",
     "text": [
      "RMSE: 0.06024048173207126\n"
     ]
    }
   ],
   "source": [
    "display(ca_0.parameters)\n",
    "print(\"RMSE:\", ca_0.rmse())"
   ]
  },
  {
   "cell_type": "code",
   "execution_count": 8,
   "metadata": {},
   "outputs": [
    {
     "data": {
      "image/png": "[encoded data removed]",
      "text/plain": [
       "<Figure size 576x360 with 1 Axes>"
      ]
     },
     "metadata": {
      "needs_background": "light"
     },
     "output_type": "display_data"
    }
   ],
   "source": [
    "hm1_0 = ml_0.head(r1, 0, t1)\n",
    "hm2_0 = ml_0.head(r2, 0, t2)\n",
    "hm3_0 = ml_0.head(r3, 0, t3)\n",
    "plt.figure(figsize=(8, 5))\n",
    "plt.semilogx(t1, h1, \".\", label=\"OW1\")\n",
    "plt.semilogx(t1, hm1_0[0], label=\"ttim OW1\")\n",
    "plt.semilogx(t2, h2, \".\", label=\"OW2\")\n",
    "plt.semilogx(t2, hm2_0[0], label=\"ttim OW2\")\n",
    "plt.semilogx(t3, h3, \".\", label=\"OW3\")\n",
    "plt.semilogx(t3, hm3_0[0], label=\"ttim OW3\")\n",
    "plt.xlabel(\"time(d)\")\n",
    "plt.ylabel(\"head(m)\")\n",
    "plt.legend()"
   ]
  },
  {
   "cell_type": "markdown",
   "metadata": {},
   "source": [
    "Since the specific storage of the aquitard (```Sll```) is very close to the minimum limit (zero), we will test to set Sll to 0 and remove it from the calibration:"
   ]
  },
  {
   "cell_type": "markdown",
   "metadata": {},
   "source": [
    "## Step 6. Model calibration without aquitard storage"
   ]
  },
  {
   "cell_type": "code",
   "execution_count": 9,
   "metadata": {},
   "outputs": [
    {
     "name": "stdout",
     "output_type": "stream",
     "text": [
      "self.neq  1\n",
      "solution complete\n"
     ]
    }
   ],
   "source": [
    "ml_1 = ModelMaq(\n",
    "    kaq=10,\n",
    "    z=[0, zt, zb],\n",
    "    Saq=0.001,\n",
    "    Sll=0,\n",
    "    c=10,\n",
    "    tmin=0.001,\n",
    "    tmax=1,\n",
    "    topboundary=\"semi\",\n",
    ")\n",
    "w_1 = Well(ml_1, xw=0, yw=0, rw=rw, tsandQ=[(0, Q)], layers=0)\n",
    "ml_1.solve()"
   ]
  },
  {
   "cell_type": "code",
   "execution_count": 10,
   "metadata": {},
   "outputs": [
    {
     "name": "stdout",
     "output_type": "stream",
     "text": [
      ".....................................................\n",
      "Fit succeeded.\n",
      "[[Fit Statistics]]\n",
      "    # fitting method   = leastsq\n",
      "    # function evals   = 50\n",
      "    # data points      = 78\n",
      "    # variables        = 3\n",
      "    chi-square         = 0.28305317\n",
      "    reduced chi-square = 0.00377404\n",
      "    Akaike info crit   = -432.268689\n",
      "    Bayesian info crit = -425.198562\n",
      "[[Variables]]\n",
      "    kaq0:  224.635193 +/- 2.46701615 (1.10%) (init = 10)\n",
      "    Saq0:  2.1325e-04 +/- 7.5822e-06 (3.56%) (init = 0.0001)\n",
      "    c0:    43.8841639 +/- 3.13605878 (7.15%) (init = 100)\n",
      "[[Correlations]] (unreported correlations are < 0.100)\n",
      "    C(kaq0, c0)   = 0.890\n",
      "    C(kaq0, Saq0) = -0.815\n",
      "    C(Saq0, c0)   = -0.595\n"
     ]
    }
   ],
   "source": [
    "# unknown parameters: kaq, Saq, c\n",
    "ca_1 = Calibrate(ml_1)\n",
    "ca_1.set_parameter(name=\"kaq0\", initial=10)\n",
    "ca_1.set_parameter(name=\"Saq0\", initial=1e-4)\n",
    "ca_1.set_parameter(name=\"c0\", initial=100)\n",
    "ca_1.series(name=\"OW1\", x=r1, y=0, t=t1, h=h1, layer=0)\n",
    "ca_1.series(name=\"OW2\", x=r2, y=0, t=t2, h=h2, layer=0)\n",
    "ca_1.series(name=\"OW3\", x=r3, y=0, t=t3, h=h3, layer=0)\n",
    "ca_1.fit(report=True)"
   ]
  },
  {
   "cell_type": "code",
   "execution_count": 11,
   "metadata": {},
   "outputs": [
    {
     "data": {
      "text/html": [
       "<div>\n",
       "<style scoped>\n",
       "    .dataframe tbody tr th:only-of-type {\n",
       "        vertical-align: middle;\n",
       "    }\n",
       "\n",
       "    .dataframe tbody tr th {\n",
       "        vertical-align: top;\n",
       "    }\n",
       "\n",
       "    .dataframe thead th {\n",
       "        text-align: right;\n",
       "    }\n",
       "</style>\n",
       "<table border=\"1\" class=\"dataframe\">\n",
       "  <thead>\n",
       "    <tr style=\"text-align: right;\">\n",
       "      <th></th>\n",
       "      <th>optimal</th>\n",
       "      <th>std</th>\n",
       "      <th>perc_std</th>\n",
       "      <th>pmin</th>\n",
       "      <th>pmax</th>\n",
       "      <th>initial</th>\n",
       "      <th>parray</th>\n",
       "    </tr>\n",
       "  </thead>\n",
       "  <tbody>\n",
       "    <tr>\n",
       "      <th>kaq0</th>\n",
       "      <td>224.635193</td>\n",
       "      <td>2.467016</td>\n",
       "      <td>1.098232</td>\n",
       "      <td>-inf</td>\n",
       "      <td>inf</td>\n",
       "      <td>10</td>\n",
       "      <td>[224.63519273946454]</td>\n",
       "    </tr>\n",
       "    <tr>\n",
       "      <th>Saq0</th>\n",
       "      <td>0.000213</td>\n",
       "      <td>0.000008</td>\n",
       "      <td>3.555577</td>\n",
       "      <td>-inf</td>\n",
       "      <td>inf</td>\n",
       "      <td>0.0001</td>\n",
       "      <td>[0.00021324780404289543]</td>\n",
       "    </tr>\n",
       "    <tr>\n",
       "      <th>c0</th>\n",
       "      <td>43.884164</td>\n",
       "      <td>3.136059</td>\n",
       "      <td>7.14622</td>\n",
       "      <td>-inf</td>\n",
       "      <td>inf</td>\n",
       "      <td>100</td>\n",
       "      <td>[43.884163861907204]</td>\n",
       "    </tr>\n",
       "  </tbody>\n",
       "</table>\n",
       "</div>"
      ],
      "text/plain": [
       "         optimal       std  perc_std  pmin  pmax initial  \\\n",
       "kaq0  224.635193  2.467016  1.098232  -inf   inf      10   \n",
       "Saq0    0.000213  0.000008  3.555577  -inf   inf  0.0001   \n",
       "c0     43.884164  3.136059   7.14622  -inf   inf     100   \n",
       "\n",
       "                        parray  \n",
       "kaq0      [224.63519273946454]  \n",
       "Saq0  [0.00021324780404289543]  \n",
       "c0        [43.884163861907204]  "
      ]
     },
     "metadata": {},
     "output_type": "display_data"
    },
    {
     "name": "stdout",
     "output_type": "stream",
     "text": [
      "RMSE: 0.06024024248774193\n"
     ]
    }
   ],
   "source": [
    "display(ca_1.parameters)\n",
    "print(\"RMSE:\", ca_1.rmse())"
   ]
  },
  {
   "cell_type": "code",
   "execution_count": 12,
   "metadata": {},
   "outputs": [
    {
     "data": {
      "image/png": "[encoded data removed]",
      "text/plain": [
       "<Figure size 576x360 with 1 Axes>"
      ]
     },
     "metadata": {
      "needs_background": "light"
     },
     "output_type": "display_data"
    }
   ],
   "source": [
    "hm1_1 = ml_1.head(r1, 0, t1)\n",
    "hm2_1 = ml_1.head(r2, 0, t2)\n",
    "hm3_1 = ml_1.head(r3, 0, t3)\n",
    "plt.figure(figsize=(8, 5))\n",
    "plt.semilogx(t1, h1, \".\", label=\"OW1\")\n",
    "plt.semilogx(t1, hm1_1[0], label=\"ttim OW1\")\n",
    "plt.semilogx(t2, h2, \".\", label=\"OW2\")\n",
    "plt.semilogx(t2, hm2_1[0], label=\"ttim OW2\")\n",
    "plt.semilogx(t3, h3, \".\", label=\"OW3\")\n",
    "plt.semilogx(t3, hm3_1[0], label=\"ttim OW3\")\n",
    "plt.xlabel(\"time(d)\")\n",
    "plt.ylabel(\"head(m)\")\n",
    "plt.legend()"
   ]
  },
  {
   "cell_type": "markdown",
   "metadata": {},
   "source": [
    "The model with fixed Sll has a similar performance to the former model. The second model has an AIC value of -432.269, two units lower than the former model (-430.268). Thus, Sll should be set to zero (default value) and keep removed from the calibration."
   ]
  },
  {
   "cell_type": "markdown",
   "metadata": {},
   "source": [
    "## Step 7. Model Calibration with well parameters"
   ]
  },
  {
   "cell_type": "markdown",
   "metadata": {},
   "source": [
    "We redo the model with the well parameters skin-resistance (```res```) and wellbore storage (```rc```)"
   ]
  },
  {
   "cell_type": "code",
   "execution_count": 13,
   "metadata": {},
   "outputs": [
    {
     "name": "stdout",
     "output_type": "stream",
     "text": [
      "self.neq  1\n",
      "solution complete\n"
     ]
    }
   ],
   "source": [
    "ml_2 = ModelMaq(\n",
    "    kaq=10,\n",
    "    z=[0, zt, zb],\n",
    "    Sll=0,\n",
    "    Saq=0.001,\n",
    "    c=10,\n",
    "    tmin=0.001,\n",
    "    tmax=1,\n",
    "    topboundary=\"semi\",\n",
    ")\n",
    "w_2 = Well(ml_2, xw=0, yw=0, rw=rw, res=0, rc=None, tsandQ=[(0, Q)], layers=0)\n",
    "ml_2.solve()"
   ]
  },
  {
   "cell_type": "markdown",
   "metadata": {},
   "source": [
    "Calibrate with the additional well paramenters"
   ]
  },
  {
   "cell_type": "code",
   "execution_count": 14,
   "metadata": {},
   "outputs": [
    {
     "name": "stdout",
     "output_type": "stream",
     "text": [
      ".................................................................................................................................................................................................................................................................................................................................................................................................................................................................................................................................................................................................................................................................................................................................................................................................................................................................................................................................................................................................................................................................................................................................................................................................................................................................................................................................................................................................................................................................................................................................................................................................................................................................................................................................................................................................................................................................................................................................................................................................................................................................................................................................................................................................................................................................................................................................................................................................................................................................................................................................................................................................................................................................................................................................................................................................................................................................................................................................................................................................................................................................................................................................................................................................................................................................................................................................................................................................................................................................................................................................................................................................................................................................................................................................................................................................................................................................................................................................................................................................................................................................................................................................................................................................................................................................................................................................................................................................................................................................................................................................................................................................................................................................................................................................................................................................................................................................\n",
      "Fit succeeded.\n",
      "[[Fit Statistics]]\n",
      "    # fitting method   = leastsq\n",
      "    # function evals   = 4670\n",
      "    # data points      = 78\n",
      "    # variables        = 5\n",
      "    chi-square         = 6.23156762\n",
      "    reduced chi-square = 0.08536394\n",
      "    Akaike info crit   = -187.112310\n",
      "    Bayesian info crit = -175.328766\n",
      "[[Variables]]\n",
      "    kaq0:  186.901532 +/- 10.2767557 (5.50%) (init = 10)\n",
      "    Saq0:  9.7363e-11 +/- 1.7605e-07 (180814.64%) (init = 0.0001)\n",
      "    c0:    12.2172420 +/- 2.43597544 (19.94%) (init = 10)\n",
      "    rc:    2.31172969 +/- 0.09075350 (3.93%) (init = 0)\n",
      "    res:   2.0686e-10 +/- 5.8060e-07 (280673.69%) (init = 0.1)\n",
      "[[Correlations]] (unreported correlations are < 0.100)\n",
      "    C(kaq0, c0)  = 0.951\n",
      "    C(c0, rc)    = 0.464\n",
      "    C(kaq0, rc)  = 0.382\n",
      "    C(Saq0, res) = -0.354\n",
      "    C(rc, res)   = -0.229\n",
      "    C(Saq0, rc)  = 0.186\n"
     ]
    }
   ],
   "source": [
    "# unknown parameters: kaq, Saq, c, rc\n",
    "ca_2 = Calibrate(ml_2)\n",
    "ca_2.set_parameter(name=\"kaq0\", initial=10)\n",
    "ca_2.set_parameter(name=\"Saq0\", initial=1e-4, pmin=0)\n",
    "ca_2.set_parameter(name=\"c0\", initial=10)\n",
    "ca_2.set_parameter_by_reference(name=\"rc\", parameter=w_2.rc, initial=0)\n",
    "ca_2.set_parameter_by_reference(name=\"res\", parameter=w_2.res, initial=0.1, pmin=0)\n",
    "ca_2.series(name=\"OW1\", x=r1, y=0, t=t1, h=h1, layer=0)\n",
    "ca_2.series(name=\"OW2\", x=r2, y=0, t=t2, h=h2, layer=0)\n",
    "ca_2.series(name=\"OW3\", x=r3, y=0, t=t3, h=h3, layer=0)\n",
    "ca_2.fit(report=True)"
   ]
  },
  {
   "cell_type": "code",
   "execution_count": 15,
   "metadata": {},
   "outputs": [
    {
     "data": {
      "text/html": [
       "<div>\n",
       "<style scoped>\n",
       "    .dataframe tbody tr th:only-of-type {\n",
       "        vertical-align: middle;\n",
       "    }\n",
       "\n",
       "    .dataframe tbody tr th {\n",
       "        vertical-align: top;\n",
       "    }\n",
       "\n",
       "    .dataframe thead th {\n",
       "        text-align: right;\n",
       "    }\n",
       "</style>\n",
       "<table border=\"1\" class=\"dataframe\">\n",
       "  <thead>\n",
       "    <tr style=\"text-align: right;\">\n",
       "      <th></th>\n",
       "      <th>optimal</th>\n",
       "      <th>std</th>\n",
       "      <th>perc_std</th>\n",
       "      <th>pmin</th>\n",
       "      <th>pmax</th>\n",
       "      <th>initial</th>\n",
       "      <th>parray</th>\n",
       "    </tr>\n",
       "  </thead>\n",
       "  <tbody>\n",
       "    <tr>\n",
       "      <th>kaq0</th>\n",
       "      <td>186.901532</td>\n",
       "      <td>1.027676e+01</td>\n",
       "      <td>5.498487</td>\n",
       "      <td>-inf</td>\n",
       "      <td>inf</td>\n",
       "      <td>10</td>\n",
       "      <td>[186.90153170230298]</td>\n",
       "    </tr>\n",
       "    <tr>\n",
       "      <th>Saq0</th>\n",
       "      <td>0.0</td>\n",
       "      <td>1.760474e-07</td>\n",
       "      <td>180814.644393</td>\n",
       "      <td>0.0</td>\n",
       "      <td>inf</td>\n",
       "      <td>0.0001</td>\n",
       "      <td>[9.736345063515728e-11]</td>\n",
       "    </tr>\n",
       "    <tr>\n",
       "      <th>c0</th>\n",
       "      <td>12.217242</td>\n",
       "      <td>2.435975e+00</td>\n",
       "      <td>19.938833</td>\n",
       "      <td>-inf</td>\n",
       "      <td>inf</td>\n",
       "      <td>10</td>\n",
       "      <td>[12.217242017113444]</td>\n",
       "    </tr>\n",
       "    <tr>\n",
       "      <th>rc</th>\n",
       "      <td>2.31173</td>\n",
       "      <td>9.075350e-02</td>\n",
       "      <td>3.925784</td>\n",
       "      <td>-inf</td>\n",
       "      <td>inf</td>\n",
       "      <td>0</td>\n",
       "      <td>[2.311729685846916]</td>\n",
       "    </tr>\n",
       "    <tr>\n",
       "      <th>res</th>\n",
       "      <td>0.0</td>\n",
       "      <td>5.806043e-07</td>\n",
       "      <td>280673.685285</td>\n",
       "      <td>0.0</td>\n",
       "      <td>inf</td>\n",
       "      <td>0.1</td>\n",
       "      <td>[2.0686097279565274e-10]</td>\n",
       "    </tr>\n",
       "  </tbody>\n",
       "</table>\n",
       "</div>"
      ],
      "text/plain": [
       "         optimal           std       perc_std  pmin  pmax initial  \\\n",
       "kaq0  186.901532  1.027676e+01       5.498487  -inf   inf      10   \n",
       "Saq0         0.0  1.760474e-07  180814.644393   0.0   inf  0.0001   \n",
       "c0     12.217242  2.435975e+00      19.938833  -inf   inf      10   \n",
       "rc       2.31173  9.075350e-02       3.925784  -inf   inf       0   \n",
       "res          0.0  5.806043e-07  280673.685285   0.0   inf     0.1   \n",
       "\n",
       "                        parray  \n",
       "kaq0      [186.90153170230298]  \n",
       "Saq0   [9.736345063515728e-11]  \n",
       "c0        [12.217242017113444]  \n",
       "rc         [2.311729685846916]  \n",
       "res   [2.0686097279565274e-10]  "
      ]
     },
     "metadata": {},
     "output_type": "display_data"
    },
    {
     "name": "stdout",
     "output_type": "stream",
     "text": [
      "RMSE: 0.2826515392059663\n"
     ]
    }
   ],
   "source": [
    "display(ca_2.parameters)\n",
    "print(\"RMSE:\", ca_2.rmse())"
   ]
  },
  {
   "cell_type": "markdown",
   "metadata": {},
   "source": [
    "When adding both res and rc in the calibration, the model fit is poor. The ```res``` value is being adjusted to very close to the minimum value 0. Thus, we repeat the calibration procedure, where res is removed from it."
   ]
  },
  {
   "cell_type": "code",
   "execution_count": 16,
   "metadata": {},
   "outputs": [
    {
     "name": "stdout",
     "output_type": "stream",
     "text": [
      ".........................................................\n",
      "Fit succeeded.\n",
      "[[Fit Statistics]]\n",
      "    # fitting method   = leastsq\n",
      "    # function evals   = 54\n",
      "    # data points      = 78\n",
      "    # variables        = 4\n",
      "    chi-square         = 0.22837259\n",
      "    reduced chi-square = 0.00308612\n",
      "    Akaike info crit   = -447.011880\n",
      "    Bayesian info crit = -437.585045\n",
      "[[Variables]]\n",
      "    kaq0:  227.476745 +/- 2.38403194 (1.05%) (init = 10)\n",
      "    Saq0:  1.9189e-04 +/- 7.9503e-06 (4.14%) (init = 0.0001)\n",
      "    c0:    45.1685665 +/- 2.92674386 (6.48%) (init = 10)\n",
      "    rc:    0.58831953 +/- 0.06177017 (10.50%) (init = 0)\n",
      "[[Correlations]] (unreported correlations are < 0.100)\n",
      "    C(kaq0, c0)   = 0.885\n",
      "    C(kaq0, Saq0) = -0.799\n",
      "    C(Saq0, rc)   = -0.619\n",
      "    C(Saq0, c0)   = -0.552\n",
      "    C(kaq0, rc)   = 0.321\n",
      "    C(c0, rc)     = 0.143\n"
     ]
    }
   ],
   "source": [
    "# unknown parameters: kaq, Saq, c, rc\n",
    "ca_2 = Calibrate(ml_2)\n",
    "ca_2.set_parameter(name=\"kaq0\", initial=10)\n",
    "ca_2.set_parameter(name=\"Saq0\", initial=1e-4)\n",
    "ca_2.set_parameter(name=\"c0\", initial=10)\n",
    "ca_2.set_parameter_by_reference(name=\"rc\", parameter=w_2.rc, initial=0)\n",
    "ca_2.series(name=\"OW1\", x=r1, y=0, t=t1, h=h1, layer=0)\n",
    "ca_2.series(name=\"OW2\", x=r2, y=0, t=t2, h=h2, layer=0)\n",
    "ca_2.series(name=\"OW3\", x=r3, y=0, t=t3, h=h3, layer=0)\n",
    "ca_2.fit(report=True)"
   ]
  },
  {
   "cell_type": "code",
   "execution_count": 17,
   "metadata": {},
   "outputs": [
    {
     "data": {
      "text/html": [
       "<div>\n",
       "<style scoped>\n",
       "    .dataframe tbody tr th:only-of-type {\n",
       "        vertical-align: middle;\n",
       "    }\n",
       "\n",
       "    .dataframe tbody tr th {\n",
       "        vertical-align: top;\n",
       "    }\n",
       "\n",
       "    .dataframe thead th {\n",
       "        text-align: right;\n",
       "    }\n",
       "</style>\n",
       "<table border=\"1\" class=\"dataframe\">\n",
       "  <thead>\n",
       "    <tr style=\"text-align: right;\">\n",
       "      <th></th>\n",
       "      <th>optimal</th>\n",
       "      <th>std</th>\n",
       "      <th>perc_std</th>\n",
       "      <th>pmin</th>\n",
       "      <th>pmax</th>\n",
       "      <th>initial</th>\n",
       "      <th>parray</th>\n",
       "    </tr>\n",
       "  </thead>\n",
       "  <tbody>\n",
       "    <tr>\n",
       "      <th>kaq0</th>\n",
       "      <td>227.476745</td>\n",
       "      <td>2.384032</td>\n",
       "      <td>1.048033</td>\n",
       "      <td>-inf</td>\n",
       "      <td>inf</td>\n",
       "      <td>10</td>\n",
       "      <td>[227.4767448937833]</td>\n",
       "    </tr>\n",
       "    <tr>\n",
       "      <th>Saq0</th>\n",
       "      <td>0.000192</td>\n",
       "      <td>0.000008</td>\n",
       "      <td>4.143071</td>\n",
       "      <td>-inf</td>\n",
       "      <td>inf</td>\n",
       "      <td>0.0001</td>\n",
       "      <td>[0.00019189384485118635]</td>\n",
       "    </tr>\n",
       "    <tr>\n",
       "      <th>c0</th>\n",
       "      <td>45.168566</td>\n",
       "      <td>2.926744</td>\n",
       "      <td>6.479603</td>\n",
       "      <td>-inf</td>\n",
       "      <td>inf</td>\n",
       "      <td>10</td>\n",
       "      <td>[45.16856645283155]</td>\n",
       "    </tr>\n",
       "    <tr>\n",
       "      <th>rc</th>\n",
       "      <td>0.58832</td>\n",
       "      <td>0.061770</td>\n",
       "      <td>10.499425</td>\n",
       "      <td>-inf</td>\n",
       "      <td>inf</td>\n",
       "      <td>0</td>\n",
       "      <td>[0.5883195294792068]</td>\n",
       "    </tr>\n",
       "  </tbody>\n",
       "</table>\n",
       "</div>"
      ],
      "text/plain": [
       "         optimal       std   perc_std  pmin  pmax initial  \\\n",
       "kaq0  227.476745  2.384032   1.048033  -inf   inf      10   \n",
       "Saq0    0.000192  0.000008   4.143071  -inf   inf  0.0001   \n",
       "c0     45.168566  2.926744   6.479603  -inf   inf      10   \n",
       "rc       0.58832  0.061770  10.499425  -inf   inf       0   \n",
       "\n",
       "                        parray  \n",
       "kaq0       [227.4767448937833]  \n",
       "Saq0  [0.00019189384485118635]  \n",
       "c0         [45.16856645283155]  \n",
       "rc        [0.5883195294792068]  "
      ]
     },
     "metadata": {},
     "output_type": "display_data"
    },
    {
     "name": "stdout",
     "output_type": "stream",
     "text": [
      "RMSE: 0.05410964530240864\n"
     ]
    }
   ],
   "source": [
    "display(ca_2.parameters)\n",
    "print(\"RMSE:\", ca_2.rmse())"
   ]
  },
  {
   "cell_type": "code",
   "execution_count": 18,
   "metadata": {},
   "outputs": [
    {
     "data": {
      "image/png": "[encoded data removed]",
      "text/plain": [
       "<Figure size 576x360 with 1 Axes>"
      ]
     },
     "metadata": {
      "needs_background": "light"
     },
     "output_type": "display_data"
    }
   ],
   "source": [
    "hm1_2 = ml_2.head(r1, 0, t1)\n",
    "hm2_2 = ml_2.head(r2, 0, t2)\n",
    "hm3_2 = ml_2.head(r3, 0, t3)\n",
    "plt.figure(figsize=(8, 5))\n",
    "plt.semilogx(t1, h1, \".\", label=\"OW1\")\n",
    "plt.semilogx(t1, hm1_2[0], label=\"ttim OW1\")\n",
    "plt.semilogx(t2, h2, \".\", label=\"OW2\")\n",
    "plt.semilogx(t2, hm2_2[0], label=\"ttim OW2\")\n",
    "plt.semilogx(t3, h3, \".\", label=\"OW3\")\n",
    "plt.semilogx(t3, hm3_2[0], label=\"ttim OW3\")\n",
    "plt.xlabel(\"time(d)\")\n",
    "plt.ylabel(\"drawdown (m)\")\n",
    "plt.legend()"
   ]
  },
  {
   "cell_type": "markdown",
   "metadata": {},
   "source": [
    "Now we have a much better fit. We also have better AIC and BIC values, which indicates that the extra parameter ```rc``` improved the model performance."
   ]
  },
  {
   "cell_type": "markdown",
   "metadata": {},
   "source": [
    "## Step 8. Analysis and summary of values"
   ]
  },
  {
   "cell_type": "markdown",
   "metadata": {},
   "source": [
    "Here we compare the simulations done with TTim with the one done in AQTESOLV by Xinzhu (2020). TTim has found very similar values to AQTESOLV. When we consider the ```rc``` parameter in TTim, the fit is slightly better."
   ]
  },
  {
   "cell_type": "code",
   "execution_count": 19,
   "metadata": {},
   "outputs": [
    {
     "data": {
      "text/html": [
       "<div>\n",
       "<style scoped>\n",
       "    .dataframe tbody tr th:only-of-type {\n",
       "        vertical-align: middle;\n",
       "    }\n",
       "\n",
       "    .dataframe tbody tr th {\n",
       "        vertical-align: top;\n",
       "    }\n",
       "\n",
       "    .dataframe thead th {\n",
       "        text-align: right;\n",
       "    }\n",
       "</style>\n",
       "<table border=\"1\" class=\"dataframe\">\n",
       "  <thead>\n",
       "    <tr style=\"text-align: right;\">\n",
       "      <th></th>\n",
       "      <th>k [m/d]</th>\n",
       "      <th>Ss [1/m]</th>\n",
       "      <th>c [d]</th>\n",
       "      <th>rc</th>\n",
       "      <th>RMSE</th>\n",
       "    </tr>\n",
       "  </thead>\n",
       "  <tbody>\n",
       "    <tr>\n",
       "      <th>AQTESOLV</th>\n",
       "      <td>224.726</td>\n",
       "      <td>0.000212</td>\n",
       "      <td>43.964</td>\n",
       "      <td>-</td>\n",
       "      <td>0.059627</td>\n",
       "    </tr>\n",
       "    <tr>\n",
       "      <th>ttim</th>\n",
       "      <td>224.635193</td>\n",
       "      <td>0.000213</td>\n",
       "      <td>43.884164</td>\n",
       "      <td>-</td>\n",
       "      <td>0.060240</td>\n",
       "    </tr>\n",
       "    <tr>\n",
       "      <th>ttim-rc</th>\n",
       "      <td>227.476745</td>\n",
       "      <td>0.000192</td>\n",
       "      <td>45.168566</td>\n",
       "      <td>0.58832</td>\n",
       "      <td>0.054110</td>\n",
       "    </tr>\n",
       "  </tbody>\n",
       "</table>\n",
       "</div>"
      ],
      "text/plain": [
       "             k [m/d]  Ss [1/m]      c [d]       rc      RMSE\n",
       "AQTESOLV     224.726  0.000212     43.964        -  0.059627\n",
       "ttim      224.635193  0.000213  43.884164        -  0.060240\n",
       "ttim-rc   227.476745  0.000192  45.168566  0.58832  0.054110"
      ]
     },
     "execution_count": 19,
     "metadata": {},
     "output_type": "execute_result"
    }
   ],
   "source": [
    "t = pd.DataFrame(\n",
    "    columns=[\"k [m/d]\", \"Ss [1/m]\", \"c [d]\", \"rc\"],\n",
    "    index=[\"AQTESOLV\", \"ttim\", \"ttim-rc\"],\n",
    ")\n",
    "t.loc[\"AQTESOLV\"] = [224.726, 2.125e-4, 43.964, \"-\"]\n",
    "t.loc[\"ttim\"] = np.append(ca_1.parameters[\"optimal\"].values, \"-\")\n",
    "t.loc[\"ttim-rc\"] = ca_2.parameters[\"optimal\"].values\n",
    "t[\"RMSE\"] = [0.059627, ca_1.rmse(), ca_2.rmse()]\n",
    "t"
   ]
  },
  {
   "cell_type": "markdown",
   "metadata": {},
   "source": [
    "## References\n",
    "\n",
    "* Carlson F, Randall J (2012) MLU: a Windows application for the analysis of aquifer tests and the design of well fields in layered systems. Ground Water 50(4):504–510\n",
    "* Duffield, G.M., 2007. AQTESOLV for Windows Version 4.5 User's Guide, HydroSOLVE, Inc., Reston, VA.\n",
    "* Newville, M.,Stensitzki, T., Allen, D.B., Ingargiola, A. (2014) LMFIT: Non Linear Least-Squares Minimization and Curve Fitting for Python.https://dx.doi.org/10.5281/zenodo.11813. https://lmfit.github.io/lmfit-py/intro.html (last access: August,2021).\n",
    "* Yang, Xinzhu (2020) Application and comparison of different methodsfor aquifer test analysis using TTim. Master Thesis, Delft University of Technology (TUDelft), Delft, The Netherlands."
   ]
  },
  {
   "cell_type": "markdown",
   "metadata": {},
   "source": [
    "#### Next Notebook: [Unconfined 1 - Vennebulten](unconfined1_vennebulten.ipynb)"
   ]
  }
 ],
 "metadata": {
  "kernelspec": {
   "display_name": "Python 3 (ipykernel)",
   "language": "python",
   "name": "python3"
  },
  "language_info": {
   "codemirror_mode": {
    "name": "ipython",
    "version": 3
   },
   "file_extension": ".py",
   "mimetype": "text/x-python",
   "name": "python",
   "nbconvert_exporter": "python",
   "pygments_lexer": "ipython3",
   "version": "3.8.12"
  }
 },
 "nbformat": 4,
 "nbformat_minor": 4
}
