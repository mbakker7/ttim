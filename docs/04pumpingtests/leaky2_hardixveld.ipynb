{
 "cells": [
  {
   "cell_type": "markdown",
   "metadata": {},
   "source": [
    "# 2. Leaky Aquifer Recovery Test - Hardixveld Example\n",
    "**This test is taken from MLU examples.**"
   ]
  },
  {
   "cell_type": "markdown",
   "metadata": {},
   "source": [
    "### Import packages"
   ]
  },
  {
   "cell_type": "code",
   "execution_count": 1,
   "metadata": {},
   "outputs": [],
   "source": [
    "import matplotlib.pyplot as plt\n",
    "import numpy as np\n",
    "import pandas as pd\n",
    "\n",
    "import ttim as ttm\n",
    "\n",
    "plt.rcParams[\"figure.figsize\"] = [5, 3]"
   ]
  },
  {
   "cell_type": "markdown",
   "metadata": {
    "tags": []
   },
   "source": [
    "## Introduction and Conceptual Model\n",
    "\n",
    "This test was taken in Hardinxveld-Giessendam, Netherlands, in 1981 to quantify the head-loss at each pumping well by clogging and to assess the transmissivity variation in the area.\n",
    "\n",
    "The hydrogeological conceptualization can be described as the following:\n",
    "* The first ten meters depth is an aquitard\n",
    "* Followed by the first aquifer from 10 to 37 m depth, this is also the test aquifer.\n",
    "* A new aquitard is present from 37 m depth to 68 m depth\n",
    "* A final aquifer is from 68 to 88 m depth.\n",
    "* Below 88 m depth the formations are considered an aquiclude\n",
    "\n",
    "Five pumping wells are screened in the first aquifer. The drawdown of one of them is available in the MLU documentation (Carlson & Randall, 2012).\n",
    "The provided pumping well was operated for 20 minutes at 1848 m3/d. Drawdown was recorded for a total of 50 minutes during and after pumping. The radius of the pumped well is 0.155 m.\n",
    "\n",
    "In this notebook, we reproduce the work of Xinzhu (2020) and demonstrate the use of TTim to fit a recovery test and quantify the skin resistance in the well and the hydraulic parameters of the aquifer.\n",
    "\n",
    "The following figure summarises the hydrogeological conceptual model."
   ]
  },
  {
   "cell_type": "code",
   "execution_count": 2,
   "metadata": {
    "jupyter": {
     "source_hidden": true
    },
    "tags": [
     "hide-input"
    ]
   },
   "outputs": [
    {
     "data": {
      "image/png": "[encoded data removed]",
      "text/plain": [
       "<Figure size 500x300 with 1 Axes>"
      ]
     },
     "metadata": {},
     "output_type": "display_data"
    }
   ],
   "source": [
    "import matplotlib.pyplot as plt\n",
    "\n",
    "##Now printing the conceptual model figure:\n",
    "\n",
    "fig = plt.figure()\n",
    "ax = fig.add_subplot(1, 1, 1)\n",
    "# sky\n",
    "sky = plt.Rectangle((-20, 0), width=50, height=20, fc=\"b\", zorder=0, alpha=0.1)\n",
    "ax.add_patch(sky)\n",
    "\n",
    "# Aquifer:\n",
    "ground = plt.Rectangle(\n",
    "    (-20, -37),\n",
    "    width=50,\n",
    "    height=27,\n",
    "    fc=np.array([209, 179, 127]) / 255,\n",
    "    zorder=0,\n",
    "    alpha=0.9,\n",
    ")\n",
    "ax.add_patch(ground)\n",
    "\n",
    "# Aquifer 2:\n",
    "ground2 = plt.Rectangle(\n",
    "    (-20, -88),\n",
    "    width=50,\n",
    "    height=20,\n",
    "    fc=np.array([209, 179, 127]) / 255,\n",
    "    zorder=0,\n",
    "    alpha=0.9,\n",
    ")\n",
    "ax.add_patch(ground2)\n",
    "\n",
    "# Confining bed:\n",
    "confining_unit = plt.Rectangle(\n",
    "    (-20, -10),\n",
    "    width=50,\n",
    "    height=10,\n",
    "    fc=np.array([100, 100, 100]) / 255,\n",
    "    zorder=0,\n",
    "    alpha=0.7,\n",
    ")\n",
    "ax.add_patch(confining_unit)\n",
    "\n",
    "confining_unit2 = plt.Rectangle(\n",
    "    (-20, -68),\n",
    "    width=50,\n",
    "    height=31,\n",
    "    fc=np.array([100, 100, 100]) / 255,\n",
    "    zorder=0,\n",
    "    alpha=0.7,\n",
    ")\n",
    "ax.add_patch(confining_unit2)\n",
    "\n",
    "well = plt.Rectangle(\n",
    "    (-1.5, -37), width=3, height=37, fc=np.array([200, 200, 200]) / 255, zorder=1\n",
    ")\n",
    "ax.add_patch(well)\n",
    "\n",
    "# Wellhead\n",
    "wellhead = plt.Rectangle(\n",
    "    (-2, 0), width=4, height=10, fc=np.array([200, 200, 200]) / 255, zorder=2, ec=\"k\"\n",
    ")\n",
    "ax.add_patch(wellhead)\n",
    "\n",
    "# Screen for the well:\n",
    "screen = plt.Rectangle(\n",
    "    (-1.5, -37),\n",
    "    width=3,\n",
    "    height=27,\n",
    "    fc=np.array([200, 200, 200]) / 255,\n",
    "    alpha=1,\n",
    "    zorder=2,\n",
    "    ec=\"k\",\n",
    "    ls=\"--\",\n",
    ")\n",
    "screen.set_linewidth(2)\n",
    "ax.add_patch(screen)\n",
    "pumping_arrow = plt.Arrow(x=2, y=7, dx=5, dy=0, color=\"#00035b\")\n",
    "ax.add_patch(pumping_arrow)\n",
    "ax.text(x=7, y=7, s=r\"$ Q = 1848$ m$^3$/d\", fontsize=\"large\")\n",
    "\n",
    "# last line\n",
    "line = plt.Line2D(xdata=[-200, 1200], ydata=[0, 0], color=\"k\")\n",
    "ax.add_line(line)\n",
    "\n",
    "\n",
    "ax.set_xlim([-20, 30])\n",
    "ax.set_ylim([-88, 20])\n",
    "ax.set_xlabel(\"Distance [m]\")\n",
    "ax.set_ylabel(\"Relative height [m]\")\n",
    "ax.set_title(\"Conceptual Model - Hardixveld Example\");"
   ]
  },
  {
   "cell_type": "markdown",
   "metadata": {},
   "source": [
    "### Basic parameters"
   ]
  },
  {
   "cell_type": "code",
   "execution_count": 3,
   "metadata": {},
   "outputs": [],
   "source": [
    "H = 27  # aquifer thickness, m\n",
    "zt = -10  # upper boundary of aquifer, m\n",
    "zb = zt - H  # lower boundary of the aquifer, m\n",
    "rw = 0.155  # well screen radius, m\n",
    "Q = 1848  # constant discharge rate, m^3/d\n",
    "t0 = 0.013889  # time stop pumping, d"
   ]
  },
  {
   "cell_type": "markdown",
   "metadata": {},
   "source": [
    "### Load data for the recovery test"
   ]
  },
  {
   "cell_type": "markdown",
   "metadata": {},
   "source": [
    "Data is saved in a text file where the first column is the time data in days and in the second is the drawdown in m"
   ]
  },
  {
   "cell_type": "code",
   "execution_count": 4,
   "metadata": {},
   "outputs": [],
   "source": [
    "data = np.loadtxt(\"data/recovery.txt\", skiprows=1)\n",
    "to = data[:, 0]\n",
    "ho = data[:, 1]"
   ]
  },
  {
   "cell_type": "markdown",
   "metadata": {},
   "source": [
    "### Conceptual model\n",
    "\n",
    "Here we create a two aquifer leaky model in ModelMaq, so we have to define the top of the first aquitard layer, followed by the tops and bottoms of the aquifer layers. Here we ignore storage (```Sll```) of the aquitard layers.\n",
    "\n",
    "The well is defined with skin resistance (```res```) and the pumping schedule with the start and shutdown of the pump."
   ]
  },
  {
   "cell_type": "code",
   "execution_count": 5,
   "metadata": {},
   "outputs": [
    {
     "name": "stdout",
     "output_type": "stream",
     "text": [
      "self.neq  1\n",
      "solution complete\n"
     ]
    }
   ],
   "source": [
    "ml1 = ttm.ModelMaq(\n",
    "    kaq=[50, 40],\n",
    "    z=[0, zt, zb, -68, -88],\n",
    "    c=[1000, 1000],\n",
    "    Saq=[1e-4, 5e-5],\n",
    "    topboundary=\"semi\",\n",
    "    tmin=1e-4,\n",
    "    tmax=0.04,\n",
    ")\n",
    "w1 = ttm.Well(ml1, xw=0, yw=0, rw=rw, res=1, tsandQ=[(0, Q), (t0, 0)], layers=0)\n",
    "ml1.solve()"
   ]
  },
  {
   "cell_type": "markdown",
   "metadata": {},
   "source": [
    "### Calibration"
   ]
  },
  {
   "cell_type": "markdown",
   "metadata": {},
   "source": [
    "The parameters to be calibrated are the hydraulic conductivity and specific storage of the first layer, and the skin resistance of the well. The parameters of the aquitards and the second aquifer are kept fixed."
   ]
  },
  {
   "cell_type": "code",
   "execution_count": 6,
   "metadata": {},
   "outputs": [
    {
     "name": "stdout",
     "output_type": "stream",
     "text": [
      ".....................................................................................................................................................................................................................................................................................................................................................................................\n",
      "Fit succeeded.\n"
     ]
    }
   ],
   "source": [
    "ca1 = ttm.Calibrate(ml1)\n",
    "ca1.set_parameter(name=\"kaq0\", initial=50, pmin=0)\n",
    "ca1.set_parameter(name=\"Saq0\", initial=1e-4, pmin=0)\n",
    "ca1.set_parameter_by_reference(name=\"res\", parameter=w1.res[:], initial=1, pmin=0)\n",
    "ca1.seriesinwell(name=\"obs\", element=w1, t=to, h=ho)\n",
    "ca1.fit()"
   ]
  },
  {
   "cell_type": "code",
   "execution_count": 7,
   "metadata": {},
   "outputs": [
    {
     "data": {
      "text/html": [
       "<div>\n",
       "<style scoped>\n",
       "    .dataframe tbody tr th:only-of-type {\n",
       "        vertical-align: middle;\n",
       "    }\n",
       "\n",
       "    .dataframe tbody tr th {\n",
       "        vertical-align: top;\n",
       "    }\n",
       "\n",
       "    .dataframe thead th {\n",
       "        text-align: right;\n",
       "    }\n",
       "</style>\n",
       "<table border=\"1\" class=\"dataframe\">\n",
       "  <thead>\n",
       "    <tr style=\"text-align: right;\">\n",
       "      <th></th>\n",
       "      <th>optimal</th>\n",
       "    </tr>\n",
       "  </thead>\n",
       "  <tbody>\n",
       "    <tr>\n",
       "      <th>kaq0</th>\n",
       "      <td>44.529551</td>\n",
       "    </tr>\n",
       "    <tr>\n",
       "      <th>Saq0</th>\n",
       "      <td>0.000006</td>\n",
       "    </tr>\n",
       "    <tr>\n",
       "      <th>res</th>\n",
       "      <td>0.016205</td>\n",
       "    </tr>\n",
       "  </tbody>\n",
       "</table>\n",
       "</div>"
      ],
      "text/plain": [
       "        optimal\n",
       "kaq0  44.529551\n",
       "Saq0   0.000006\n",
       "res    0.016205"
      ]
     },
     "metadata": {},
     "output_type": "display_data"
    },
    {
     "name": "stdout",
     "output_type": "stream",
     "text": [
      "RMSE: 0.005511886856381756\n"
     ]
    }
   ],
   "source": [
    "display(ca1.parameters.loc[:, [\"optimal\"]])\n",
    "print(\"RMSE:\", ca1.rmse())"
   ]
  },
  {
   "cell_type": "code",
   "execution_count": 8,
   "metadata": {},
   "outputs": [
    {
     "data": {
      "image/png": "[encoded data removed]",
      "text/plain": [
       "<Figure size 500x300 with 1 Axes>"
      ]
     },
     "metadata": {},
     "output_type": "display_data"
    }
   ],
   "source": [
    "tm = np.logspace(np.log10(to[0]), np.log10(to[-1]), 100)\n",
    "hm1 = w1.headinside(tm)\n",
    "plt.loglog(to, -ho, \".\", label=\"obs - pumping well\")\n",
    "plt.loglog(tm, -hm1[0], label=\"ttim results\")\n",
    "plt.xlabel(\"time [d]\")\n",
    "plt.ylabel(\"drawdown [m]\")\n",
    "plt.legend()\n",
    "plt.title(\"Model Results - Model 1\")\n",
    "plt.grid()"
   ]
  },
  {
   "cell_type": "markdown",
   "metadata": {},
   "source": [
    "Overall a good fit has been observed."
   ]
  },
  {
   "cell_type": "markdown",
   "metadata": {},
   "source": [
    "### Testing single layer model"
   ]
  },
  {
   "cell_type": "markdown",
   "metadata": {},
   "source": [
    "As an alternative of simpler model, we will test the assumption that we can neglect the effect of the semi-confining top layer and the underlying aquifer. Thus, we simulate the aquifer as confined.\n",
    "\n",
    "Therefore this model is a single layer semi-confined aquifer that only includes the top aquitard and the first aquifer. In the well, we are not considering the ```rc``` parameter."
   ]
  },
  {
   "cell_type": "code",
   "execution_count": 9,
   "metadata": {},
   "outputs": [
    {
     "name": "stdout",
     "output_type": "stream",
     "text": [
      "self.neq  1\n",
      "solution complete\n"
     ]
    }
   ],
   "source": [
    "ml0 = ttm.ModelMaq(\n",
    "    kaq=50, z=[zt, zb], Saq=1e-4, topboundary=\"conf\", tmin=1e-4, tmax=0.04\n",
    ")\n",
    "w0 = ttm.Well(ml0, xw=0, yw=0, rw=rw, res=1, tsandQ=[(0, Q), (t0, 0)], layers=0)\n",
    "ml0.solve()"
   ]
  },
  {
   "cell_type": "markdown",
   "metadata": {},
   "source": [
    "### Calibration\n",
    "\n",
    "In the calibration we repeat the procedure for model 1."
   ]
  },
  {
   "cell_type": "code",
   "execution_count": 10,
   "metadata": {},
   "outputs": [
    {
     "name": "stdout",
     "output_type": "stream",
     "text": [
      "..............................................................................................................................................................................................................................................................................................................................................................................\n",
      "Fit succeeded.\n"
     ]
    }
   ],
   "source": [
    "ca0 = ttm.Calibrate(ml0)\n",
    "ca0.set_parameter(name=\"kaq0\", initial=50, pmin=0)\n",
    "ca0.set_parameter(name=\"Saq0\", initial=1e-4, pmin=0)\n",
    "# ca0.set_parameter(name=\"c0\", initial=1000, pmin=10, pmax=10000)\n",
    "ca0.set_parameter_by_reference(name=\"res\", parameter=w0.res[:], initial=1)\n",
    "ca0.seriesinwell(name=\"obs\", element=w0, t=to, h=ho)\n",
    "ca0.fit()"
   ]
  },
  {
   "cell_type": "code",
   "execution_count": 11,
   "metadata": {},
   "outputs": [
    {
     "data": {
      "text/html": [
       "<div>\n",
       "<style scoped>\n",
       "    .dataframe tbody tr th:only-of-type {\n",
       "        vertical-align: middle;\n",
       "    }\n",
       "\n",
       "    .dataframe tbody tr th {\n",
       "        vertical-align: top;\n",
       "    }\n",
       "\n",
       "    .dataframe thead th {\n",
       "        text-align: right;\n",
       "    }\n",
       "</style>\n",
       "<table border=\"1\" class=\"dataframe\">\n",
       "  <thead>\n",
       "    <tr style=\"text-align: right;\">\n",
       "      <th></th>\n",
       "      <th>optimal</th>\n",
       "    </tr>\n",
       "  </thead>\n",
       "  <tbody>\n",
       "    <tr>\n",
       "      <th>kaq0</th>\n",
       "      <td>48.653125</td>\n",
       "    </tr>\n",
       "    <tr>\n",
       "      <th>Saq0</th>\n",
       "      <td>0.000076</td>\n",
       "    </tr>\n",
       "    <tr>\n",
       "      <th>res</th>\n",
       "      <td>0.022092</td>\n",
       "    </tr>\n",
       "  </tbody>\n",
       "</table>\n",
       "</div>"
      ],
      "text/plain": [
       "        optimal\n",
       "kaq0  48.653125\n",
       "Saq0   0.000076\n",
       "res    0.022092"
      ]
     },
     "metadata": {},
     "output_type": "display_data"
    },
    {
     "name": "stdout",
     "output_type": "stream",
     "text": [
      "RMSE: 0.00873670055844304\n"
     ]
    }
   ],
   "source": [
    "display(ca0.parameters.loc[:, [\"optimal\"]])\n",
    "print(\"RMSE:\", ca0.rmse())"
   ]
  },
  {
   "cell_type": "code",
   "execution_count": 12,
   "metadata": {},
   "outputs": [
    {
     "data": {
      "image/png": "[encoded data removed]",
      "text/plain": [
       "<Figure size 500x300 with 1 Axes>"
      ]
     },
     "metadata": {},
     "output_type": "display_data"
    }
   ],
   "source": [
    "tm = np.logspace(np.log10(to[0]), np.log10(to[-1]), 100)\n",
    "hm1 = w1.headinside(tm)\n",
    "plt.loglog(to, -ho, \".\", label=\"obs - pumping well\")\n",
    "plt.loglog(tm, -hm1[0], label=\"ttim results\")\n",
    "plt.xlabel(\"time [d]\")\n",
    "plt.ylabel(\"drawdown [m]\")\n",
    "plt.legend()\n",
    "plt.title(\"Model Results - Model 2\")\n",
    "plt.grid()"
   ]
  },
  {
   "cell_type": "markdown",
   "metadata": {},
   "source": [
    "The fit is still very good. "
   ]
  },
  {
   "cell_type": "markdown",
   "metadata": {},
   "source": [
    "### Analysis and summary of values"
   ]
  },
  {
   "cell_type": "code",
   "execution_count": 13,
   "metadata": {},
   "outputs": [
    {
     "data": {
      "text/html": [
       "<div>\n",
       "<style scoped>\n",
       "    .dataframe tbody tr th:only-of-type {\n",
       "        vertical-align: middle;\n",
       "    }\n",
       "\n",
       "    .dataframe tbody tr th {\n",
       "        vertical-align: top;\n",
       "    }\n",
       "\n",
       "    .dataframe thead th {\n",
       "        text-align: right;\n",
       "    }\n",
       "</style>\n",
       "<table border=\"1\" class=\"dataframe\">\n",
       "  <thead>\n",
       "    <tr style=\"text-align: right;\">\n",
       "      <th></th>\n",
       "      <th>k [m/d]</th>\n",
       "      <th>Ss [1/m]</th>\n",
       "      <th>res</th>\n",
       "      <th>RMSE [m]</th>\n",
       "    </tr>\n",
       "  </thead>\n",
       "  <tbody>\n",
       "    <tr>\n",
       "      <th>MLU</th>\n",
       "      <td>51.53</td>\n",
       "      <td>0.000816</td>\n",
       "      <td>0.022</td>\n",
       "      <td>0.007560</td>\n",
       "    </tr>\n",
       "    <tr>\n",
       "      <th>TTim-single layer</th>\n",
       "      <td>48.653125</td>\n",
       "      <td>0.000076</td>\n",
       "      <td>0.022092</td>\n",
       "      <td>0.008737</td>\n",
       "    </tr>\n",
       "    <tr>\n",
       "      <th>TTim-two layers</th>\n",
       "      <td>44.529551</td>\n",
       "      <td>0.000006</td>\n",
       "      <td>0.016205</td>\n",
       "      <td>0.005512</td>\n",
       "    </tr>\n",
       "  </tbody>\n",
       "</table>\n",
       "</div>"
      ],
      "text/plain": [
       "                     k [m/d]  Ss [1/m]       res  RMSE [m]\n",
       "MLU                    51.53  0.000816     0.022  0.007560\n",
       "TTim-single layer  48.653125  0.000076  0.022092  0.008737\n",
       "TTim-two layers    44.529551  0.000006  0.016205  0.005512"
      ]
     },
     "execution_count": 13,
     "metadata": {},
     "output_type": "execute_result"
    }
   ],
   "source": [
    "ta = pd.DataFrame(\n",
    "    columns=[\"k [m/d]\", \"Ss [1/m]\", \"res\"],\n",
    "    index=[\"MLU\", \"TTim-single layer\", \"TTim-two layers\"],\n",
    ")\n",
    "ta.loc[\"TTim-single layer\"] = ca0.parameters[\"optimal\"].values\n",
    "ta.loc[\"TTim-two layers\"] = ca1.parameters[\"optimal\"].values\n",
    "ta.loc[\"MLU\"] = [51.530, 8.16e-04, 0.022]\n",
    "ta[\"RMSE [m]\"] = [0.00756, ca0.rmse(), ca1.rmse()]\n",
    "ta"
   ]
  },
  {
   "cell_type": "markdown",
   "metadata": {},
   "source": [
    "Both TTim models agree with each other with similar parameters. MLU parameters are higher than the ones in TTim."
   ]
  },
  {
   "cell_type": "markdown",
   "metadata": {},
   "source": [
    "## References\n",
    "\n",
    "* Carlson F, Randall J (2012) MLU: a Windows application for the analysis of aquifer tests and the design of well fields in layered systems. Ground Water 50(4):504–510\n",
    "* Duffield, G.M., 2007. AQTESOLV for Windows Version 4.5 User's Guide, HydroSOLVE, Inc., Reston, VA.\n",
    "* Newville, M.,Stensitzki, T., Allen, D.B., Ingargiola, A. (2014) LMFIT: Non Linear Least-Squares Minimization and Curve Fitting for Python.https://dx.doi.org/10.5281/zenodo.11813. https://lmfit.github.io/lmfit-py/intro.html (last access: August,2021).\n",
    "* Yang, Xinzhu (2020) Application and comparison of different methodsfor aquifer test analysis using TTim. Master Thesis, Delft University of Technology (TUDelft), Delft, The Netherlands."
   ]
  }
 ],
 "metadata": {
  "kernelspec": {
   "display_name": "Python 3 (ipykernel)",
   "language": "python",
   "name": "python3"
  },
  "language_info": {
   "codemirror_mode": {
    "name": "ipython",
    "version": 3
   },
   "file_extension": ".py",
   "mimetype": "text/x-python",
   "name": "python",
   "nbconvert_exporter": "python",
   "pygments_lexer": "ipython3",
   "version": "3.11.4"
  }
 },
 "nbformat": 4,
 "nbformat_minor": 4
}
