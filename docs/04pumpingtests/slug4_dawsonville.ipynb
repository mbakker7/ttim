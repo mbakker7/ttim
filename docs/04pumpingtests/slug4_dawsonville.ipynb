{
 "cells": [
  {
   "cell_type": "markdown",
   "metadata": {},
   "source": [
    "# 4. Slug test for confined aquifer - Dawsonville Example\n",
    "**This test is taken from example of MLU.**"
   ]
  },
  {
   "cell_type": "markdown",
   "metadata": {},
   "source": [
    "## Introduction and Conceptual Model\n",
    "\n",
    "In this notebook, we reproduce the work of Yang (2020) to check the TTim performance in analysing slug-test. We later compare the solution in TTim with the MLU model (Carlson & Randall, 2012).\n",
    "\n",
    "This Slug Test was reported in Cooper Jr et al. (1967), and it was performed in Dawsonville, Georgia, USA. A fully penetrated well (Ln-2) is screened in a confined aquifer, located between depths 24 and 122 (98 m thick).\n",
    "\n",
    "The volume of the slug is 10.16 litres. Head change has been recorded at the slug well. Both the well and the casing radii of the slug well is 0.076 m.\n",
    "\n",
    "The conceptual model can be seen in the figure below:"
   ]
  },
  {
   "cell_type": "code",
   "execution_count": 1,
   "metadata": {
    "jupyter": {
     "source_hidden": true
    },
    "tags": []
   },
   "outputs": [
    {
     "data": {
      "image/png": "[encoded data removed]",
      "text/plain": [
       "<Figure size 1008x648 with 1 Axes>"
      ]
     },
     "metadata": {
      "needs_background": "light"
     },
     "output_type": "display_data"
    }
   ],
   "source": [
    "import matplotlib.pyplot as plt\n",
    "import numpy as np\n",
    "\n",
    "##Now printing the conceptual model figure:\n",
    "\n",
    "fig = plt.figure(figsize=(14, 9))\n",
    "ax = fig.add_subplot(1, 1, 1)\n",
    "# sky\n",
    "sky = plt.Rectangle((-5, 0), width=15, height=10, fc=\"b\", zorder=0, alpha=0.1)\n",
    "ax.add_patch(sky)\n",
    "\n",
    "# Aquifer:\n",
    "ground = plt.Rectangle(\n",
    "    (-5, -122),\n",
    "    width=15,\n",
    "    height=98,\n",
    "    fc=np.array([209, 179, 127]) / 255,\n",
    "    zorder=0,\n",
    "    alpha=0.9,\n",
    ")\n",
    "ax.add_patch(ground)\n",
    "\n",
    "well = plt.Rectangle(\n",
    "    (-0.5, -(122)), width=1, height=122, fc=np.array([200, 200, 200]) / 255, zorder=1\n",
    ")\n",
    "ax.add_patch(well)\n",
    "\n",
    "# Confining Unit\n",
    "conf = plt.Rectangle(\n",
    "    (-5, -24),\n",
    "    width=15,\n",
    "    height=24,\n",
    "    fc=np.array([100, 100, 100]) / 255,\n",
    "    zorder=0,\n",
    "    alpha=0.9,\n",
    ")\n",
    "ax.add_patch(conf)\n",
    "\n",
    "# Wellhead\n",
    "wellhead = plt.Rectangle(\n",
    "    (-0.6, 0), width=1.2, height=4, fc=np.array([200, 200, 200]) / 255, zorder=2, ec=\"k\"\n",
    ")\n",
    "ax.add_patch(wellhead)\n",
    "\n",
    "# Screen for the well:\n",
    "screen = plt.Rectangle(\n",
    "    (-0.5, -(122)),\n",
    "    width=1,\n",
    "    height=98,\n",
    "    fc=np.array([200, 200, 200]) / 255,\n",
    "    alpha=1,\n",
    "    zorder=2,\n",
    "    ec=\"k\",\n",
    "    ls=\"--\",\n",
    ")\n",
    "screen.set_linewidth(2)\n",
    "ax.add_patch(screen)\n",
    "# pumping_arrow = plt.Arrow(x = 1,y = 1.5, dx = 0, dy = 1, color = \"#00035b\")\n",
    "# ax.add_patch(pumping_arrow)\n",
    "ax.text(x=1, y=2.5, s=r\"$ Q = 10.16 L $\", fontsize=\"large\")\n",
    "\n",
    "\n",
    "# last line\n",
    "line = plt.Line2D(xdata=[-200, 1200], ydata=[0, 0], color=\"k\")\n",
    "ax.add_line(line)\n",
    "\n",
    "# Water table\n",
    "# wt = plt.Line2D(xdata= [-200,1200], ydata = [0,0], color = \"b\")\n",
    "# ax.add_line(wt)\n",
    "\n",
    "ax.text(0.6, -35, s=\"Ln-2\", fontsize=\"large\")\n",
    "# ax.text(6.9, -0.5, \"Ln-3\", fontsize = 'large')\n",
    "ax.set_xlim([-5, 10])\n",
    "ax.set_ylim([-122, 10])\n",
    "ax.set_xlabel(\"Distance [m]\")\n",
    "ax.set_ylabel(\"Relative height [m]\")\n",
    "ax.set_title(\"Conceptual Model - Dawsonville Example\")"
   ]
  },
  {
   "cell_type": "markdown",
   "metadata": {},
   "source": [
    "## Step 1. Load required libraries"
   ]
  },
  {
   "cell_type": "code",
   "execution_count": 2,
   "metadata": {},
   "outputs": [],
   "source": [
    "from ttim import *\n",
    "import numpy as np\n",
    "import matplotlib.pyplot as plt\n",
    "import pandas as pd"
   ]
  },
  {
   "cell_type": "markdown",
   "metadata": {},
   "source": [
    "## Step 2. Set basic parameters"
   ]
  },
  {
   "cell_type": "code",
   "execution_count": 3,
   "metadata": {},
   "outputs": [],
   "source": [
    "b = 98  # aquifer thickness\n",
    "zt = -24\n",
    "zb = zt - b\n",
    "rw = 0.076  # well radius of Ln-2 Well\n",
    "rc = 0.076  # casing radius of Ln-2 Well\n",
    "Q = 0.01016  # slug volume in m^3"
   ]
  },
  {
   "cell_type": "markdown",
   "metadata": {},
   "source": [
    "## Step 3. Load data\n",
    "\n",
    "Data for the Dawsonville test is available in a text file, where the first column is the time data, in days and in the second column is the head displacement in meters"
   ]
  },
  {
   "cell_type": "code",
   "execution_count": 4,
   "metadata": {},
   "outputs": [],
   "source": [
    "data = np.loadtxt(\"data/dawsonville_slug.txt\")\n",
    "t = data[:, 0]\n",
    "h = data[:, 1]"
   ]
  },
  {
   "cell_type": "markdown",
   "metadata": {},
   "source": [
    "## Step 4. Create First Model - single layer\n",
    "\n",
    "We begin with a single layer model built in ModelMaq.\n",
    "Details on setting up the model can be seen in: [Confined 1 - Oude Korendijk](confined1_oude_korendijk.ipynb).\n",
    "\n",
    "The slug well is set accordingly. Details on setting up the ```Well``` object can be seen in: [Slug 1 - Pratt County](slug1_pratt_county.ipynb)."
   ]
  },
  {
   "cell_type": "code",
   "execution_count": 5,
   "metadata": {},
   "outputs": [
    {
     "name": "stdout",
     "output_type": "stream",
     "text": [
      "self.neq  1\n",
      "solution complete\n"
     ]
    }
   ],
   "source": [
    "ml = ModelMaq(kaq=10, z=[zt, zb], Saq=1e-4, tmin=1e-6, tmax=1e-3, topboundary=\"conf\")\n",
    "w = Well(ml, xw=0, yw=0, rw=rw, rc=rc, tsandQ=[(0, -Q)], layers=0, wbstype=\"slug\")\n",
    "ml.solve()"
   ]
  },
  {
   "cell_type": "markdown",
   "metadata": {},
   "source": [
    "## Step 5. Model calibration both simultaneous wells\n",
    "\n",
    "\n",
    "The procedures for calibration can be seen in [Unconfined 1 - Vennebulten](unconfined1_vennebulten.ipynb)\n",
    "\n",
    "We calibrate hydraulic conductivity and specific storage, as in the KGS model (Hyder et al. 1994)."
   ]
  },
  {
   "cell_type": "code",
   "execution_count": 6,
   "metadata": {},
   "outputs": [
    {
     "name": "stdout",
     "output_type": "stream",
     "text": [
      "............................\n",
      "Fit succeeded.\n",
      "[[Fit Statistics]]\n",
      "    # fitting method   = leastsq\n",
      "    # function evals   = 25\n",
      "    # data points      = 22\n",
      "    # variables        = 2\n",
      "    chi-square         = 4.2779e-04\n",
      "    reduced chi-square = 2.1389e-05\n",
      "    Akaike info crit   = -234.654488\n",
      "    Bayesian info crit = -232.472403\n",
      "[[Variables]]\n",
      "    kaq0:  0.42113030 +/- 0.01842476 (4.38%) (init = 10)\n",
      "    Saq0:  1.6938e-05 +/- 5.2880e-06 (31.22%) (init = 0.0001)\n",
      "[[Correlations]] (unreported correlations are < 0.100)\n",
      "    C(kaq0, Saq0) = -0.985\n"
     ]
    }
   ],
   "source": [
    "# unknown parameters: kay, Saq\n",
    "ca = Calibrate(ml)\n",
    "ca.set_parameter(name=\"kaq0\", initial=10, pmin=0)\n",
    "ca.set_parameter(name=\"Saq0\", initial=1e-4)\n",
    "ca.series(name=\"obs\", x=0, y=0, layer=0, t=t, h=h)\n",
    "ca.fit(report=True)"
   ]
  },
  {
   "cell_type": "code",
   "execution_count": 7,
   "metadata": {},
   "outputs": [
    {
     "data": {
      "text/html": [
       "<div>\n",
       "<style scoped>\n",
       "    .dataframe tbody tr th:only-of-type {\n",
       "        vertical-align: middle;\n",
       "    }\n",
       "\n",
       "    .dataframe tbody tr th {\n",
       "        vertical-align: top;\n",
       "    }\n",
       "\n",
       "    .dataframe thead th {\n",
       "        text-align: right;\n",
       "    }\n",
       "</style>\n",
       "<table border=\"1\" class=\"dataframe\">\n",
       "  <thead>\n",
       "    <tr style=\"text-align: right;\">\n",
       "      <th></th>\n",
       "      <th>optimal</th>\n",
       "      <th>std</th>\n",
       "      <th>perc_std</th>\n",
       "      <th>pmin</th>\n",
       "      <th>pmax</th>\n",
       "      <th>initial</th>\n",
       "      <th>parray</th>\n",
       "    </tr>\n",
       "  </thead>\n",
       "  <tbody>\n",
       "    <tr>\n",
       "      <th>kaq0</th>\n",
       "      <td>0.42113</td>\n",
       "      <td>0.018425</td>\n",
       "      <td>4.375074</td>\n",
       "      <td>0</td>\n",
       "      <td>inf</td>\n",
       "      <td>10</td>\n",
       "      <td>[0.42113029595796414]</td>\n",
       "    </tr>\n",
       "    <tr>\n",
       "      <th>Saq0</th>\n",
       "      <td>0.000017</td>\n",
       "      <td>0.000005</td>\n",
       "      <td>31.219119</td>\n",
       "      <td>-inf</td>\n",
       "      <td>inf</td>\n",
       "      <td>0.0001</td>\n",
       "      <td>[1.6938294179330807e-05]</td>\n",
       "    </tr>\n",
       "  </tbody>\n",
       "</table>\n",
       "</div>"
      ],
      "text/plain": [
       "       optimal       std   perc_std pmin  pmax initial  \\\n",
       "kaq0   0.42113  0.018425   4.375074    0   inf      10   \n",
       "Saq0  0.000017  0.000005  31.219119 -inf   inf  0.0001   \n",
       "\n",
       "                        parray  \n",
       "kaq0     [0.42113029595796414]  \n",
       "Saq0  [1.6938294179330807e-05]  "
      ]
     },
     "metadata": {},
     "output_type": "display_data"
    },
    {
     "name": "stdout",
     "output_type": "stream",
     "text": [
      "rmse: 0.004409624944092217\n"
     ]
    }
   ],
   "source": [
    "display(ca.parameters)\n",
    "print(\"rmse:\", ca.rmse())"
   ]
  },
  {
   "cell_type": "code",
   "execution_count": 8,
   "metadata": {},
   "outputs": [
    {
     "data": {
      "image/png": "[encoded data removed]",
      "text/plain": [
       "<Figure size 576x360 with 1 Axes>"
      ]
     },
     "metadata": {
      "needs_background": "light"
     },
     "output_type": "display_data"
    }
   ],
   "source": [
    "hm = ml.head(0, 0, t)\n",
    "plt.figure(figsize=(8, 5))\n",
    "plt.semilogx(t, h, \".\", label=\"obs\")\n",
    "plt.semilogx(t, hm[0], label=\"ttim\")\n",
    "plt.xlabel(\"time [d]\")\n",
    "plt.ylabel(\"displacement [m]\")\n",
    "plt.title(\"Model Results - Single-layer model\")\n",
    "plt.legend()"
   ]
  },
  {
   "cell_type": "markdown",
   "metadata": {},
   "source": [
    "In general, the single-layer model seems to be performing well, with a good visual fit between observations and the model."
   ]
  },
  {
   "cell_type": "markdown",
   "metadata": {},
   "source": [
    "## Step 6. Create Second Model - multi-layer model\n",
    "\n",
    "To investigate whether we need to account for the vertical flow component or not, we will create a multi-layer model. Consequently, we divide the previous aquifer into 49 layers (2 m thick each)."
   ]
  },
  {
   "cell_type": "code",
   "execution_count": 9,
   "metadata": {},
   "outputs": [],
   "source": [
    "nlay = 49  # number of layers\n",
    "zlayers = np.linspace(zt, zb, nlay + 1)  # elevation of each layer\n",
    "Saq = 1e-4 * np.ones(nlay)"
   ]
  },
  {
   "cell_type": "markdown",
   "metadata": {},
   "source": [
    "Now we use the ```Model3D``` object to model multi-layer aquifer:\n",
    "\n",
    "Details on how to set it up can be seen in the notebook: [Unconfined - 1 - Vennebulten](unconfined1_vennebulten.ipynb)"
   ]
  },
  {
   "cell_type": "code",
   "execution_count": 10,
   "metadata": {},
   "outputs": [
    {
     "name": "stdout",
     "output_type": "stream",
     "text": [
      "self.neq  49\n",
      "solution complete\n"
     ]
    }
   ],
   "source": [
    "ml_1 = Model3D(kaq=10, z=zlayers, Saq=Saq, tmin=1e-6, tmax=1e-3, phreatictop=False)\n",
    "w_1 = Well(\n",
    "    ml_1, xw=0, yw=0, rw=rw, rc=rc, tsandQ=[(0, -Q)], layers=range(nlay), wbstype=\"slug\"\n",
    ")\n",
    "ml_1.solve()"
   ]
  },
  {
   "cell_type": "markdown",
   "metadata": {},
   "source": [
    "## Step 7. Calibration of multi-layer model"
   ]
  },
  {
   "cell_type": "code",
   "execution_count": 11,
   "metadata": {},
   "outputs": [
    {
     "name": "stdout",
     "output_type": "stream",
     "text": [
      ".............................\n",
      "Fit succeeded.\n",
      "[[Fit Statistics]]\n",
      "    # fitting method   = leastsq\n",
      "    # function evals   = 26\n",
      "    # data points      = 1078\n",
      "    # variables        = 2\n",
      "    chi-square         = 0.02096017\n",
      "    reduced chi-square = 1.9480e-05\n",
      "    Akaike info crit   = -11690.1377\n",
      "    Bayesian info crit = -11680.1720\n",
      "[[Variables]]\n",
      "    kaq0_48:  0.42104101 +/- 0.00252524 (0.60%) (init = 10)\n",
      "    Saq0_48:  1.6968e-05 +/- 7.2665e-07 (4.28%) (init = 0.0001)\n",
      "[[Correlations]] (unreported correlations are < 0.100)\n",
      "    C(kaq0_48, Saq0_48) = -0.986\n"
     ]
    }
   ],
   "source": [
    "ca_1 = Calibrate(ml_1)\n",
    "ca_1.set_parameter(name=\"kaq0_48\", initial=10, pmin=0)\n",
    "ca_1.set_parameter(name=\"Saq0_48\", initial=1e-4)\n",
    "ca_1.series(name=\"obs\", x=0, y=0, layer=range(nlay), t=t, h=h)\n",
    "ca_1.fit(report=True)"
   ]
  },
  {
   "cell_type": "code",
   "execution_count": 12,
   "metadata": {},
   "outputs": [
    {
     "data": {
      "text/html": [
       "<div>\n",
       "<style scoped>\n",
       "    .dataframe tbody tr th:only-of-type {\n",
       "        vertical-align: middle;\n",
       "    }\n",
       "\n",
       "    .dataframe tbody tr th {\n",
       "        vertical-align: top;\n",
       "    }\n",
       "\n",
       "    .dataframe thead th {\n",
       "        text-align: right;\n",
       "    }\n",
       "</style>\n",
       "<table border=\"1\" class=\"dataframe\">\n",
       "  <thead>\n",
       "    <tr style=\"text-align: right;\">\n",
       "      <th></th>\n",
       "      <th>optimal</th>\n",
       "      <th>std</th>\n",
       "      <th>perc_std</th>\n",
       "      <th>pmin</th>\n",
       "      <th>pmax</th>\n",
       "      <th>initial</th>\n",
       "      <th>parray</th>\n",
       "    </tr>\n",
       "  </thead>\n",
       "  <tbody>\n",
       "    <tr>\n",
       "      <th>kaq0_48</th>\n",
       "      <td>0.421041</td>\n",
       "      <td>2.525240e-03</td>\n",
       "      <td>0.599761</td>\n",
       "      <td>0</td>\n",
       "      <td>inf</td>\n",
       "      <td>10</td>\n",
       "      <td>[0.42104101396365423, 0.42104101396365423, 0.4...</td>\n",
       "    </tr>\n",
       "    <tr>\n",
       "      <th>Saq0_48</th>\n",
       "      <td>0.000017</td>\n",
       "      <td>7.266545e-07</td>\n",
       "      <td>4.282481</td>\n",
       "      <td>-inf</td>\n",
       "      <td>inf</td>\n",
       "      <td>0.0001</td>\n",
       "      <td>[1.6968074939135146e-05, 1.6968074939135146e-0...</td>\n",
       "    </tr>\n",
       "  </tbody>\n",
       "</table>\n",
       "</div>"
      ],
      "text/plain": [
       "          optimal           std  perc_std pmin  pmax initial  \\\n",
       "kaq0_48  0.421041  2.525240e-03  0.599761    0   inf      10   \n",
       "Saq0_48  0.000017  7.266545e-07  4.282481 -inf   inf  0.0001   \n",
       "\n",
       "                                                    parray  \n",
       "kaq0_48  [0.42104101396365423, 0.42104101396365423, 0.4...  \n",
       "Saq0_48  [1.6968074939135146e-05, 1.6968074939135146e-0...  "
      ]
     },
     "metadata": {},
     "output_type": "display_data"
    },
    {
     "name": "stdout",
     "output_type": "stream",
     "text": [
      "RMSE: 0.004409486363804946\n"
     ]
    }
   ],
   "source": [
    "display(ca_1.parameters)\n",
    "print(\"RMSE:\", ca_1.rmse())"
   ]
  },
  {
   "cell_type": "markdown",
   "metadata": {},
   "source": [
    "The multi-layer model does not improve the calibration by much."
   ]
  },
  {
   "cell_type": "code",
   "execution_count": 13,
   "metadata": {},
   "outputs": [
    {
     "data": {
      "image/png": "[encoded data removed]",
      "text/plain": [
       "<Figure size 576x360 with 1 Axes>"
      ]
     },
     "metadata": {
      "needs_background": "light"
     },
     "output_type": "display_data"
    }
   ],
   "source": [
    "hm_1 = ml_1.head(0, 0, t)\n",
    "plt.figure(figsize=(8, 5))\n",
    "plt.semilogx(t, h, \".\", label=\"obs\")\n",
    "plt.semilogx(t, hm_1[0], label=\"ttim\")\n",
    "plt.xlabel(\"time [d]\")\n",
    "plt.ylabel(\"displacement [m]\")\n",
    "plt.title(\"Model Results - Multi-layer model\")\n",
    "plt.legend()"
   ]
  },
  {
   "cell_type": "markdown",
   "metadata": {},
   "source": [
    "## Step 8. Final Model calibration with well skin resistance\n",
    "\n",
    "Now we test if the skin resistance of the well has an impact on model calibration. We thus add the ```res``` parameter in the calibration settings. We use the same multi-layer model."
   ]
  },
  {
   "cell_type": "code",
   "execution_count": 14,
   "metadata": {},
   "outputs": [
    {
     "name": "stdout",
     "output_type": "stream",
     "text": [
      "...................................................\n",
      "Fit succeeded.\n",
      "[[Fit Statistics]]\n",
      "    # fitting method   = leastsq\n",
      "    # function evals   = 48\n",
      "    # data points      = 1078\n",
      "    # variables        = 3\n",
      "    chi-square         = 0.02096895\n",
      "    reduced chi-square = 1.9506e-05\n",
      "    Akaike info crit   = -11687.6864\n",
      "    Bayesian info crit = -11672.7378\n",
      "[[Variables]]\n",
      "    kaq0_48:  0.41949032 +/- 0.00255131 (0.61%) (init = 10)\n",
      "    Saq0_48:  1.7431e-05 +/- 7.4956e-07 (4.30%) (init = 0.0001)\n",
      "    res:      4.1889e-06 +/- 5.9899e-06 (142.99%) (init = 0.1)\n",
      "[[Correlations]] (unreported correlations are < 0.100)\n",
      "    C(kaq0_48, Saq0_48) = -0.986\n",
      "    C(Saq0_48, res)     = -0.210\n",
      "    C(kaq0_48, res)     = 0.188\n"
     ]
    }
   ],
   "source": [
    "ca_2 = Calibrate(ml_1)\n",
    "ca_2.set_parameter(name=\"kaq0_48\", initial=10, pmin=0)\n",
    "ca_2.set_parameter(name=\"Saq0_48\", initial=1e-4, pmin=1e-7)\n",
    "ca_2.set_parameter_by_reference(name=\"res\", parameter=w_1.res, initial=0.1, pmin=0)\n",
    "ca_2.series(name=\"obs\", x=0, y=0, layer=range(nlay), t=t, h=h)\n",
    "ca_2.fit(report=True)"
   ]
  },
  {
   "cell_type": "code",
   "execution_count": 15,
   "metadata": {},
   "outputs": [
    {
     "data": {
      "text/html": [
       "<div>\n",
       "<style scoped>\n",
       "    .dataframe tbody tr th:only-of-type {\n",
       "        vertical-align: middle;\n",
       "    }\n",
       "\n",
       "    .dataframe tbody tr th {\n",
       "        vertical-align: top;\n",
       "    }\n",
       "\n",
       "    .dataframe thead th {\n",
       "        text-align: right;\n",
       "    }\n",
       "</style>\n",
       "<table border=\"1\" class=\"dataframe\">\n",
       "  <thead>\n",
       "    <tr style=\"text-align: right;\">\n",
       "      <th></th>\n",
       "      <th>optimal</th>\n",
       "      <th>std</th>\n",
       "      <th>perc_std</th>\n",
       "      <th>pmin</th>\n",
       "      <th>pmax</th>\n",
       "      <th>initial</th>\n",
       "      <th>parray</th>\n",
       "    </tr>\n",
       "  </thead>\n",
       "  <tbody>\n",
       "    <tr>\n",
       "      <th>kaq0_48</th>\n",
       "      <td>0.41949</td>\n",
       "      <td>2.551309e-03</td>\n",
       "      <td>0.608193</td>\n",
       "      <td>0</td>\n",
       "      <td>inf</td>\n",
       "      <td>10</td>\n",
       "      <td>[0.41949032003442377, 0.41949032003442377, 0.4...</td>\n",
       "    </tr>\n",
       "    <tr>\n",
       "      <th>Saq0_48</th>\n",
       "      <td>0.000017</td>\n",
       "      <td>7.495585e-07</td>\n",
       "      <td>4.300159</td>\n",
       "      <td>0.0</td>\n",
       "      <td>inf</td>\n",
       "      <td>0.0001</td>\n",
       "      <td>[1.743095019002272e-05, 1.743095019002272e-05,...</td>\n",
       "    </tr>\n",
       "    <tr>\n",
       "      <th>res</th>\n",
       "      <td>0.000004</td>\n",
       "      <td>5.989853e-06</td>\n",
       "      <td>142.994093</td>\n",
       "      <td>0</td>\n",
       "      <td>inf</td>\n",
       "      <td>0.1</td>\n",
       "      <td>[4.1888812432056e-06]</td>\n",
       "    </tr>\n",
       "  </tbody>\n",
       "</table>\n",
       "</div>"
      ],
      "text/plain": [
       "          optimal           std    perc_std pmin  pmax initial  \\\n",
       "kaq0_48   0.41949  2.551309e-03    0.608193    0   inf      10   \n",
       "Saq0_48  0.000017  7.495585e-07    4.300159  0.0   inf  0.0001   \n",
       "res      0.000004  5.989853e-06  142.994093    0   inf     0.1   \n",
       "\n",
       "                                                    parray  \n",
       "kaq0_48  [0.41949032003442377, 0.41949032003442377, 0.4...  \n",
       "Saq0_48  [1.743095019002272e-05, 1.743095019002272e-05,...  \n",
       "res                                  [4.1888812432056e-06]  "
      ]
     },
     "metadata": {},
     "output_type": "display_data"
    },
    {
     "name": "stdout",
     "output_type": "stream",
     "text": [
      "RMSE: 0.004410409508316654\n"
     ]
    }
   ],
   "source": [
    "display(ca_2.parameters)\n",
    "print(\"RMSE:\", ca_2.rmse())"
   ]
  },
  {
   "cell_type": "code",
   "execution_count": 16,
   "metadata": {},
   "outputs": [
    {
     "data": {
      "image/png": "[encoded data removed]",
      "text/plain": [
       "<Figure size 576x360 with 1 Axes>"
      ]
     },
     "metadata": {
      "needs_background": "light"
     },
     "output_type": "display_data"
    }
   ],
   "source": [
    "hm_2 = ml_1.head(0, 0, t)\n",
    "plt.figure(figsize=(8, 5))\n",
    "plt.semilogx(t, h, \".\", label=\"obs\")\n",
    "plt.semilogx(t, hm_2[0], label=\"ttim\")\n",
    "plt.xlabel(\"time [d]\")\n",
    "plt.ylabel(\"displacement [m]\")\n",
    "plt.title(\"Model Results - Multi-layer with res\")\n",
    "plt.legend()"
   ]
  },
  {
   "cell_type": "markdown",
   "metadata": {},
   "source": [
    "Adding resistance of the well screen does not improve the performance. Thus, res should not be applied in the conceptual model."
   ]
  },
  {
   "cell_type": "markdown",
   "metadata": {},
   "source": [
    "## Step 9. Analysis and comparison of simulated values\n",
    "\n",
    "We now compare the values in TTim and add the results of the modelling done in MLU by Yang (2020)."
   ]
  },
  {
   "cell_type": "code",
   "execution_count": 17,
   "metadata": {},
   "outputs": [
    {
     "data": {
      "text/html": [
       "<style type=\"text/css\">\n",
       "</style>\n",
       "<table id=\"T_d5d2e_\">\n",
       "  <caption>Comparison of parameter values and error under different models</caption>\n",
       "  <thead>\n",
       "    <tr>\n",
       "      <th class=\"blank level0\" >&nbsp;</th>\n",
       "      <th class=\"col_heading level0 col0\" >k [m/d]</th>\n",
       "      <th class=\"col_heading level0 col1\" >Ss [1/m]</th>\n",
       "      <th class=\"col_heading level0 col2\" >RMSE</th>\n",
       "    </tr>\n",
       "  </thead>\n",
       "  <tbody>\n",
       "    <tr>\n",
       "      <th id=\"T_d5d2e_level0_row0\" class=\"row_heading level0 row0\" >MLU</th>\n",
       "      <td id=\"T_d5d2e_row0_col0\" class=\"data row0 col0\" >0.413300</td>\n",
       "      <td id=\"T_d5d2e_row0_col1\" class=\"data row0 col1\" >0.000019</td>\n",
       "      <td id=\"T_d5d2e_row0_col2\" class=\"data row0 col2\" >0.004264</td>\n",
       "    </tr>\n",
       "    <tr>\n",
       "      <th id=\"T_d5d2e_level0_row1\" class=\"row_heading level0 row1\" >ttim</th>\n",
       "      <td id=\"T_d5d2e_row1_col0\" class=\"data row1 col0\" >0.421130</td>\n",
       "      <td id=\"T_d5d2e_row1_col1\" class=\"data row1 col1\" >0.000017</td>\n",
       "      <td id=\"T_d5d2e_row1_col2\" class=\"data row1 col2\" >0.004410</td>\n",
       "    </tr>\n",
       "    <tr>\n",
       "      <th id=\"T_d5d2e_level0_row2\" class=\"row_heading level0 row2\" >ttim-multilayer</th>\n",
       "      <td id=\"T_d5d2e_row2_col0\" class=\"data row2 col0\" >0.421041</td>\n",
       "      <td id=\"T_d5d2e_row2_col1\" class=\"data row2 col1\" >0.000017</td>\n",
       "      <td id=\"T_d5d2e_row2_col2\" class=\"data row2 col2\" >0.004410</td>\n",
       "    </tr>\n",
       "    <tr>\n",
       "      <th id=\"T_d5d2e_level0_row3\" class=\"row_heading level0 row3\" >ttim-res</th>\n",
       "      <td id=\"T_d5d2e_row3_col0\" class=\"data row3 col0\" >0.419490</td>\n",
       "      <td id=\"T_d5d2e_row3_col1\" class=\"data row3 col1\" >0.000017</td>\n",
       "      <td id=\"T_d5d2e_row3_col2\" class=\"data row3 col2\" >0.004410</td>\n",
       "    </tr>\n",
       "  </tbody>\n",
       "</table>\n"
      ],
      "text/plain": [
       "<pandas.io.formats.style.Styler at 0x1c1112f8e20>"
      ]
     },
     "execution_count": 17,
     "metadata": {},
     "output_type": "execute_result"
    }
   ],
   "source": [
    "ta = pd.DataFrame(\n",
    "    columns=[\"k [m/d]\", \"Ss [1/m]\"],\n",
    "    index=[\"MLU\", \"ttim\", \"ttim-multilayer\", \"ttim-res\"],\n",
    ")\n",
    "tr = np.delete(ca_2.parameters[\"optimal\"].values, 2)\n",
    "ta.loc[\"MLU\"] = [0.4133, 1.9388e-05]\n",
    "ta.loc[\"ttim\"] = ca.parameters[\"optimal\"].values\n",
    "ta.loc[\"ttim-multilayer\"] = ca_1.parameters[\"optimal\"].values\n",
    "ta.loc[\"ttim-res\"] = tr\n",
    "ta[\"RMSE\"] = [0.004264, ca.rmse(), ca_1.rmse(), ca_2.rmse()]\n",
    "ta.style.set_caption(\"Comparison of parameter values and error under different models\")"
   ]
  },
  {
   "cell_type": "markdown",
   "metadata": {},
   "source": [
    "Results are similar between all models. The RMSE of MLU is slightly better than the one from TTim. The one-layer model has accomplished the same results as more complex ones. Hence, we note the importance of trying simpler models to avoid adding unnecessary complexity."
   ]
  },
  {
   "cell_type": "markdown",
   "metadata": {},
   "source": [
    "## References\n",
    "\n",
    "* Cooper Jr, H.H., Bredehoeft, J.D., Papadopulos, I.S., 1967. Response of a finite diameter well to an instantaneous charge of water. Water Resources Research 3, 263–269\n",
    "* Hyder, Z., Butler Jr, J.J., McElwee, C.D., Liu, W., 1994. Slug tests in partially penetrating wells. Water Resources Research 30, 2945–2957.\n",
    "* Duffield, G.M., 2007. AQTESOLV for Windows Version 4.5 User's Guide, HydroSOLVE, Inc., Reston, VA.\n",
    "* Yang, Xinzhu (2020) Application and comparison of different methodsfor aquifer test analysis using TTim. Master Thesis, Delft University of Technology (TUDelft), Delft, The Netherlands."
   ]
  }
 ],
 "metadata": {
  "kernelspec": {
   "display_name": "Python 3 (ipykernel)",
   "language": "python",
   "name": "python3"
  },
  "language_info": {
   "codemirror_mode": {
    "name": "ipython",
    "version": 3
   },
   "file_extension": ".py",
   "mimetype": "text/x-python",
   "name": "python",
   "nbconvert_exporter": "python",
   "pygments_lexer": "ipython3",
   "version": "3.8.12"
  }
 },
 "nbformat": 4,
 "nbformat_minor": 4
}
