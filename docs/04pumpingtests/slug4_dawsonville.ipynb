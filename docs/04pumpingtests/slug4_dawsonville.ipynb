{
 "cells": [
  {
   "cell_type": "markdown",
   "metadata": {},
   "source": [
    "# 4. Slug test for confined aquifer - Dawsonville Example\n",
    "**This test is taken from example of MLU.**"
   ]
  },
  {
   "cell_type": "markdown",
   "metadata": {},
   "source": [
    "### Import packages"
   ]
  },
  {
   "cell_type": "code",
   "execution_count": 14,
   "metadata": {
    "editable": true,
    "slideshow": {
     "slide_type": ""
    },
    "tags": []
   },
   "outputs": [],
   "source": [
    "import matplotlib.pyplot as plt\n",
    "import numpy as np\n",
    "import pandas as pd\n",
    "\n",
    "import ttim as ttm\n",
    "\n",
    "plt.rcParams[\"figure.figsize\"] = [5, 3]"
   ]
  },
  {
   "cell_type": "markdown",
   "metadata": {
    "editable": true,
    "slideshow": {
     "slide_type": ""
    },
    "tags": []
   },
   "source": [
    "### Introduction and Conceptual Model\n",
    "\n",
    "In this notebook, we reproduce the work of Yang (2020) to check the TTim performance in analysing slug-test. We later compare the solution in TTim with the MLU model (Carlson & Randall, 2012).\n",
    "\n",
    "This Slug Test was reported in Cooper Jr et al. (1967), and it was performed in Dawsonville, Georgia, USA. A fully penetrated well (Ln-2) is screened in a confined aquifer, located between depths 24 and 122 (98 m thick).\n",
    "\n",
    "The volume of the slug is 10.16 litres. Head change has been recorded at the slug well. Both the well and the casing radii of the slug well is 0.076 m.\n",
    "\n",
    "The conceptual model can be seen in the figure below:"
   ]
  },
  {
   "cell_type": "code",
   "execution_count": 13,
   "metadata": {
    "jupyter": {
     "source_hidden": true
    },
    "tags": [
     "hide-input"
    ]
   },
   "outputs": [
    {
     "data": {
      "image/png": "[encoded data removed]",
      "text/plain": [
       "<Figure size 500x300 with 1 Axes>"
      ]
     },
     "metadata": {},
     "output_type": "display_data"
    }
   ],
   "source": [
    "import matplotlib.pyplot as plt\n",
    "\n",
    "##Now printing the conceptual model figure:\n",
    "\n",
    "fig = plt.figure()\n",
    "ax = fig.add_subplot(1, 1, 1)\n",
    "# sky\n",
    "sky = plt.Rectangle((-5, 0), width=15, height=10, fc=\"b\", zorder=0, alpha=0.1)\n",
    "ax.add_patch(sky)\n",
    "\n",
    "# Aquifer:\n",
    "ground = plt.Rectangle(\n",
    "    (-5, -122),\n",
    "    width=15,\n",
    "    height=98,\n",
    "    fc=np.array([209, 179, 127]) / 255,\n",
    "    zorder=0,\n",
    "    alpha=0.9,\n",
    ")\n",
    "ax.add_patch(ground)\n",
    "\n",
    "well = plt.Rectangle(\n",
    "    (-0.5, -(122)), width=1, height=122, fc=np.array([200, 200, 200]) / 255, zorder=1\n",
    ")\n",
    "ax.add_patch(well)\n",
    "\n",
    "# Confining Unit\n",
    "conf = plt.Rectangle(\n",
    "    (-5, -24),\n",
    "    width=15,\n",
    "    height=24,\n",
    "    fc=np.array([100, 100, 100]) / 255,\n",
    "    zorder=0,\n",
    "    alpha=0.9,\n",
    ")\n",
    "ax.add_patch(conf)\n",
    "\n",
    "# Wellhead\n",
    "wellhead = plt.Rectangle(\n",
    "    (-0.6, 0), width=1.2, height=4, fc=np.array([200, 200, 200]) / 255, zorder=2, ec=\"k\"\n",
    ")\n",
    "ax.add_patch(wellhead)\n",
    "\n",
    "# Screen for the well:\n",
    "screen = plt.Rectangle(\n",
    "    (-0.5, -(122)),\n",
    "    width=1,\n",
    "    height=98,\n",
    "    fc=np.array([200, 200, 200]) / 255,\n",
    "    alpha=1,\n",
    "    zorder=2,\n",
    "    ec=\"k\",\n",
    "    ls=\"--\",\n",
    ")\n",
    "screen.set_linewidth(2)\n",
    "ax.add_patch(screen)\n",
    "# pumping_arrow = plt.Arrow(x = 1,y = 1.5, dx = 0, dy = 1, color = \"#00035b\")\n",
    "# ax.add_patch(pumping_arrow)\n",
    "ax.text(x=1, y=2.5, s=r\"$ Q = 10.16$ L\", fontsize=\"large\")\n",
    "\n",
    "\n",
    "# last line\n",
    "line = plt.Line2D(xdata=[-200, 1200], ydata=[0, 0], color=\"k\")\n",
    "ax.add_line(line)\n",
    "\n",
    "# Water table\n",
    "# wt = plt.Line2D(xdata= [-200,1200], ydata = [0,0], color = \"b\")\n",
    "# ax.add_line(wt)\n",
    "\n",
    "ax.text(0.6, -35, s=\"Ln-2\", fontsize=\"large\")\n",
    "# ax.text(6.9, -0.5, \"Ln-3\", fontsize = 'large')\n",
    "ax.set_xlim([-5, 10])\n",
    "ax.set_ylim([-122, 10])\n",
    "ax.set_xlabel(\"Distance [m]\")\n",
    "ax.set_ylabel(\"Relative height [m]\")\n",
    "ax.set_title(\"Conceptual Model - Dawsonville Example\");"
   ]
  },
  {
   "cell_type": "markdown",
   "metadata": {
    "editable": true,
    "slideshow": {
     "slide_type": ""
    },
    "tags": []
   },
   "source": [
    "### Set basic parameters"
   ]
  },
  {
   "cell_type": "code",
   "execution_count": 3,
   "metadata": {},
   "outputs": [],
   "source": [
    "b = 98  # aquifer thickness, m\n",
    "zt = -24  # top of aquifer, m\n",
    "zb = zt - b  # bottom of aquifer, m\n",
    "rw = 0.076  # well radius of Ln-2 Well, m\n",
    "rc = 0.076  # casing radius of Ln-2 Well, m\n",
    "Q = 0.01016  # slug volume in m^3, m"
   ]
  },
  {
   "cell_type": "markdown",
   "metadata": {},
   "source": [
    "### Load data\n",
    "\n",
    "Data for the Dawsonville test is available in a text file, where the first column is the time data, in days and in the second column is the head displacement in meters"
   ]
  },
  {
   "cell_type": "code",
   "execution_count": 4,
   "metadata": {},
   "outputs": [],
   "source": [
    "data = np.loadtxt(\"data/dawsonville_slug.txt\")\n",
    "to = data[:, 0]\n",
    "ho = data[:, 1]"
   ]
  },
  {
   "cell_type": "markdown",
   "metadata": {},
   "source": [
    "### Create First Model - single layer\n",
    "\n",
    "We begin with a single layer model built in ModelMaq.\n",
    "Details on setting up the model can be seen in: [Confined 1 - Oude Korendijk](confined1_oude_korendijk.ipynb).\n",
    "\n",
    "The slug well is set accordingly. Details on setting up the ```Well``` object can be seen in: [Slug 1 - Pratt County](slug1_pratt_county.ipynb)."
   ]
  },
  {
   "cell_type": "code",
   "execution_count": 5,
   "metadata": {},
   "outputs": [
    {
     "name": "stdout",
     "output_type": "stream",
     "text": [
      "self.neq  1\n",
      "solution complete\n"
     ]
    }
   ],
   "source": [
    "ml = ttm.ModelMaq(\n",
    "    kaq=10, z=[zt, zb], Saq=1e-4, tmin=1e-6, tmax=1e-3, topboundary=\"conf\"\n",
    ")\n",
    "w = ttm.Well(ml, xw=0, yw=0, rw=rw, rc=rc, tsandQ=[(0, -Q)], layers=0, wbstype=\"slug\")\n",
    "ml.solve()"
   ]
  },
  {
   "cell_type": "markdown",
   "metadata": {},
   "source": [
    "### Model calibration both simultaneous wells\n",
    "\n",
    "\n",
    "The procedures for calibration can be seen in [Unconfined 1 - Vennebulten](unconfined1_vennebulten.ipynb)\n",
    "\n",
    "We calibrate hydraulic conductivity and specific storage, as in the KGS model (Hyder et al. 1994)."
   ]
  },
  {
   "cell_type": "code",
   "execution_count": 6,
   "metadata": {},
   "outputs": [
    {
     "name": "stdout",
     "output_type": "stream",
     "text": [
      "................................\n",
      "Fit succeeded.\n"
     ]
    }
   ],
   "source": [
    "# unknown parameters: kay, Saq\n",
    "ca = ttm.Calibrate(ml)\n",
    "ca.set_parameter(name=\"kaq0\", initial=10, pmin=0)\n",
    "ca.set_parameter(name=\"Saq0\", initial=1e-4)\n",
    "ca.seriesinwell(name=\"obs\", element=w, t=to, h=ho)\n",
    "ca.fit()"
   ]
  },
  {
   "cell_type": "code",
   "execution_count": 7,
   "metadata": {},
   "outputs": [
    {
     "data": {
      "text/html": [
       "<div>\n",
       "<style scoped>\n",
       "    .dataframe tbody tr th:only-of-type {\n",
       "        vertical-align: middle;\n",
       "    }\n",
       "\n",
       "    .dataframe tbody tr th {\n",
       "        vertical-align: top;\n",
       "    }\n",
       "\n",
       "    .dataframe thead th {\n",
       "        text-align: right;\n",
       "    }\n",
       "</style>\n",
       "<table border=\"1\" class=\"dataframe\">\n",
       "  <thead>\n",
       "    <tr style=\"text-align: right;\">\n",
       "      <th></th>\n",
       "      <th>optimal</th>\n",
       "      <th>std</th>\n",
       "      <th>perc_std</th>\n",
       "      <th>pmin</th>\n",
       "      <th>pmax</th>\n",
       "      <th>initial</th>\n",
       "      <th>parray</th>\n",
       "    </tr>\n",
       "  </thead>\n",
       "  <tbody>\n",
       "    <tr>\n",
       "      <th>kaq0</th>\n",
       "      <td>0.420970</td>\n",
       "      <td>0.018381</td>\n",
       "      <td>4.366247</td>\n",
       "      <td>0.0</td>\n",
       "      <td>inf</td>\n",
       "      <td>10.0000</td>\n",
       "      <td>[0.42096992918521536]</td>\n",
       "    </tr>\n",
       "    <tr>\n",
       "      <th>Saq0</th>\n",
       "      <td>0.000017</td>\n",
       "      <td>0.000005</td>\n",
       "      <td>31.133619</td>\n",
       "      <td>-inf</td>\n",
       "      <td>inf</td>\n",
       "      <td>0.0001</td>\n",
       "      <td>[1.698434412425383e-05]</td>\n",
       "    </tr>\n",
       "  </tbody>\n",
       "</table>\n",
       "</div>"
      ],
      "text/plain": [
       "       optimal       std   perc_std  pmin  pmax  initial  \\\n",
       "kaq0  0.420970  0.018381   4.366247   0.0   inf  10.0000   \n",
       "Saq0  0.000017  0.000005  31.133619  -inf   inf   0.0001   \n",
       "\n",
       "                       parray  \n",
       "kaq0    [0.42096992918521536]  \n",
       "Saq0  [1.698434412425383e-05]  "
      ]
     },
     "metadata": {},
     "output_type": "display_data"
    },
    {
     "name": "stdout",
     "output_type": "stream",
     "text": [
      "rmse: 0.004409603758298554\n"
     ]
    }
   ],
   "source": [
    "display(ca.parameters)\n",
    "print(\"rmse:\", ca.rmse())"
   ]
  },
  {
   "cell_type": "code",
   "execution_count": 8,
   "metadata": {},
   "outputs": [
    {
     "data": {
      "image/png": "[encoded data removed]",
      "text/plain": [
       "<Figure size 500x300 with 1 Axes>"
      ]
     },
     "metadata": {},
     "output_type": "display_data"
    }
   ],
   "source": [
    "tm = np.logspace(np.log10(to[0]), np.log10(to[-1]), 100)\n",
    "hm = ml.head(0, 0, tm)\n",
    "plt.semilogx(to, ho, \".\", label=\"obs\")\n",
    "plt.semilogx(tm, hm[0], label=\"ttim\")\n",
    "plt.xlabel(\"time [d]\")\n",
    "plt.ylabel(\"displacement [m]\")\n",
    "plt.title(\"Model Results - Single-layer model\")\n",
    "plt.legend()\n",
    "plt.grid()"
   ]
  },
  {
   "cell_type": "markdown",
   "metadata": {},
   "source": [
    "In general, the single-layer model seems to be performing well, with a good visual fit between observations and the model."
   ]
  },
  {
   "cell_type": "markdown",
   "metadata": {},
   "source": [
    "### Analysis and comparison of simulated values\n",
    "\n",
    "We now compare the values in TTim and add the results of the modelling done in MLU by Yang (2020)."
   ]
  },
  {
   "cell_type": "code",
   "execution_count": 11,
   "metadata": {},
   "outputs": [
    {
     "data": {
      "text/html": [
       "<style type=\"text/css\">\n",
       "</style>\n",
       "<table id=\"T_fd608\">\n",
       "  <caption>Comparison of parameter values and error under different models</caption>\n",
       "  <thead>\n",
       "    <tr>\n",
       "      <th class=\"blank level0\" >&nbsp;</th>\n",
       "      <th id=\"T_fd608_level0_col0\" class=\"col_heading level0 col0\" >k [m/d]</th>\n",
       "      <th id=\"T_fd608_level0_col1\" class=\"col_heading level0 col1\" >Ss [1/m]</th>\n",
       "      <th id=\"T_fd608_level0_col2\" class=\"col_heading level0 col2\" >RMSE</th>\n",
       "    </tr>\n",
       "  </thead>\n",
       "  <tbody>\n",
       "    <tr>\n",
       "      <th id=\"T_fd608_level0_row0\" class=\"row_heading level0 row0\" >MLU</th>\n",
       "      <td id=\"T_fd608_row0_col0\" class=\"data row0 col0\" >0.413300</td>\n",
       "      <td id=\"T_fd608_row0_col1\" class=\"data row0 col1\" >0.000019</td>\n",
       "      <td id=\"T_fd608_row0_col2\" class=\"data row0 col2\" >0.004264</td>\n",
       "    </tr>\n",
       "    <tr>\n",
       "      <th id=\"T_fd608_level0_row1\" class=\"row_heading level0 row1\" >ttim</th>\n",
       "      <td id=\"T_fd608_row1_col0\" class=\"data row1 col0\" >0.420970</td>\n",
       "      <td id=\"T_fd608_row1_col1\" class=\"data row1 col1\" >0.000017</td>\n",
       "      <td id=\"T_fd608_row1_col2\" class=\"data row1 col2\" >0.004410</td>\n",
       "    </tr>\n",
       "  </tbody>\n",
       "</table>\n"
      ],
      "text/plain": [
       "<pandas.io.formats.style.Styler at 0x174c54410>"
      ]
     },
     "execution_count": 11,
     "metadata": {},
     "output_type": "execute_result"
    }
   ],
   "source": [
    "ta = pd.DataFrame(\n",
    "    columns=[\"k [m/d]\", \"Ss [1/m]\"],\n",
    "    index=[\"MLU\", \"ttim\"],\n",
    ")\n",
    "ta.loc[\"MLU\"] = [0.4133, 1.9388e-05]\n",
    "ta.loc[\"ttim\"] = ca.parameters[\"optimal\"].values\n",
    "ta[\"RMSE\"] = [0.004264, ca.rmse()]\n",
    "ta.style.set_caption(\"Comparison of parameter values and error under different models\")"
   ]
  },
  {
   "cell_type": "markdown",
   "metadata": {},
   "source": [
    "Results are similar between both models. The RMSE of MLU is slightly better than the one from TTim."
   ]
  },
  {
   "cell_type": "markdown",
   "metadata": {},
   "source": [
    "### References\n",
    "\n",
    "* Cooper Jr, H.H., Bredehoeft, J.D., Papadopulos, I.S., 1967. Response of a finite diameter well to an instantaneous charge of water. Water Resources Research 3, 263–269\n",
    "* Hyder, Z., Butler Jr, J.J., McElwee, C.D., Liu, W., 1994. Slug tests in partially penetrating wells. Water Resources Research 30, 2945–2957.\n",
    "* Duffield, G.M., 2007. AQTESOLV for Windows Version 4.5 User's Guide, HydroSOLVE, Inc., Reston, VA.\n",
    "* Yang, Xinzhu (2020) Application and comparison of different methodsfor aquifer test analysis using TTim. Master Thesis, Delft University of Technology (TUDelft), Delft, The Netherlands."
   ]
  }
 ],
 "metadata": {
  "kernelspec": {
   "display_name": "Python 3 (ipykernel)",
   "language": "python",
   "name": "python3"
  },
  "language_info": {
   "codemirror_mode": {
    "name": "ipython",
    "version": 3
   },
   "file_extension": ".py",
   "mimetype": "text/x-python",
   "name": "python",
   "nbconvert_exporter": "python",
   "pygments_lexer": "ipython3",
   "version": "3.11.4"
  }
 },
 "nbformat": 4,
 "nbformat_minor": 4
}
