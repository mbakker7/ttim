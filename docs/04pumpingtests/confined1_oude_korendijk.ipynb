{
 "cells": [
  {
   "cell_type": "markdown",
   "metadata": {},
   "source": [
    "# 1. Confined Aquifer Test - Oude Korendijk\n",
    "\n",
    "**This example is taken from Kruseman and de Ridder (1970)**"
   ]
  },
  {
   "cell_type": "markdown",
   "metadata": {},
   "source": [
    "## Introduction and Conceptual Model\n",
    "\n",
    "In this example we will analyse the pumping test data from Oude Korendijk (Kruseman and de Ridder, 1970). This is a polder area south of Rotterdam, the Netherlands. The stratigraphy can be summarised by:\n",
    "* the presence in the first 18 m depth of a impermeable layer,\n",
    "* followed by a 7 m succession of coarse gravel and sands, which are considered as the aquifer layer,\n",
    "* and finally a layer of fine sands and clayey sediments that are deemed impermeable.\n",
    "\n",
    "The well screen was placed at the whole thickness of the aquifer. Drawdowns were taken from piezometers installed 30 and 90 m away from the well. Pumping at the well has been taken with constant discharge of 788 m3/d for almost 14 hours.\n",
    "\n",
    "The conceptual model of the area is a single layer confined aquifer located at 18 m below surface and 7 m thickness. At $t=0$ pumping starts at constant discharge of 788 m3/d and drawdowns are recorded at two piezometers, 30 and 90 meters away, respectively. The figure below summarises the conceptualization of the problem\n",
    "\n",
    "![Conceptual Model](figures/nb_01_conc_model.png)"
   ]
  },
  {
   "cell_type": "markdown",
   "metadata": {},
   "source": [
    "## Step 1: Loading libraries"
   ]
  },
  {
   "cell_type": "code",
   "execution_count": 35,
   "metadata": {},
   "outputs": [],
   "source": [
    "import numpy as np\n",
    "import matplotlib.pyplot as plt\n",
    "import pandas as pd\n",
    "import ttim"
   ]
  },
  {
   "cell_type": "markdown",
   "metadata": {},
   "source": [
    "## Step 2: Setting basic parameters for the model"
   ]
  },
  {
   "cell_type": "code",
   "execution_count": 36,
   "metadata": {},
   "outputs": [],
   "source": [
    "H = 7  # aquifer thickness in meters\n",
    "zt = -18  # top boundary of aquifer (m)\n",
    "zb = zt - H  # bottom boundary of aquifer (m)\n",
    "Q = 788  # constant discharge m3/d"
   ]
  },
  {
   "cell_type": "markdown",
   "metadata": {},
   "source": [
    "## Step 3: Creating a TTim conceptual model\n",
    "\n",
    "In this example, we are using the ModelMaq model to conceptualize our aquifer. ModelMaq defines the aquifer system as a stacked vertical sequence of aquifers and leaky layers (aquifer-leaky layer, aquifer-leaky layer, etc). Aquifers are conceptualized as having no vertical resistance (Dupuit approximation), with constant hydraulic conductivity and storage. Aquitard layers are approximated as having only vertical flow. They are characterized by the parameter resistance to vertical flow and by having no storage.\n",
    "\n",
    "In the model construction, we have to set the parameters for each layer (which consists of an aquifer layer and an aquitard layer).\n",
    "\n",
    "For our one layer model we have to set:\n",
    "\n",
    "- The hydraulic conductivity: ```kaq``` (We will first assume a value of 60 m/d, but will later calibrate it with the pumping data). This can be a float or a list/array, depending on the number of layers, see notebook (***multi-aquifer notebook reference***).\n",
    "- The top and bottom of the aquifer: ```z``` defined by a list ```[zt,zb]```. This construction is slightly different in multi-aquifer configurations, as can be seen in notebook (***multi-aquifer notebook reference***).\n",
    "- The specific storage: ```Saq```, a float or list/array which will also be calibrated later. Again, defined for each aquifer layer.\n",
    "- The minimum time for which TTim solve the groundwater flow: ```tmin```, a float.\n",
    "- And the maximum time: ```tmax```, float.\n",
    "\n",
    "In case of more than one layer model we would also have to set the resistance to vertical flow ```c``` of the aquitard portions. An example of this configuration can be seen in the notebook (***Insert the reference to multi-layer benchmark***)\n",
    "\n",
    "To represent our pumping well, we will use the ```Well``` feature.\n",
    "For the well we have to set:\n",
    "- The TTim model: ```ml``` where it is placed\n",
    "- The x and y location: ```xw, yw```, floats\n",
    "- The pumping scheme defined by a list (```tsandQ```) where each element is a tuple representing a new stress condition with the starting time and the discharge rate, in our case: ```(0,Q)``` meaning that pumping begins at t = 0 with pumping rate Q\n",
    "- The layers where it is screened: ```layers```, which can be set as an integer (one layer) or a list of integers (multi-screen well)."
   ]
  },
  {
   "cell_type": "code",
   "execution_count": 37,
   "metadata": {},
   "outputs": [],
   "source": [
    "# unkonwn parameters: kaq, Saq\n",
    "ml = ttim.ModelMaq(kaq=60, z=[zt, zb], Saq=1e-4, tmin=1e-5, tmax=1)\n",
    "w = ttim.Well(ml, xw=0, yw=0, rw=0.2, tsandQ=[(0, Q)], layers=0)\n",
    "\n",
    "# Here we are setting everything in meters for length and days for time"
   ]
  },
  {
   "cell_type": "markdown",
   "metadata": {},
   "source": [
    "The last step in our model creation is to \"solve\" the model:"
   ]
  },
  {
   "cell_type": "code",
   "execution_count": 38,
   "metadata": {},
   "outputs": [],
   "source": [
    "ml.solve(silent=\"True\")"
   ]
  },
  {
   "cell_type": "markdown",
   "metadata": {},
   "source": [
    "## Step 4: Load data of two observation wells:"
   ]
  },
  {
   "cell_type": "markdown",
   "metadata": {},
   "source": [
    "The preferred method of loading data into TTim is to use numpy arrays.\n",
    "\n",
    "The data is in a text file where the first column is the time data in ***minutes*** and the second column is the drawdown in ***meters***\n",
    "\n",
    "For each piezometer we will load the data as a numpy array and create separate time from drawdown into two different 1d arrays. Time data will also be converted from minutes to days"
   ]
  },
  {
   "cell_type": "code",
   "execution_count": 39,
   "metadata": {},
   "outputs": [],
   "source": [
    "# time and drawdown of piezometer 30m away from pumping well\n",
    "data1 = np.loadtxt(\"data/piezometer_h30.txt\", skiprows=1)\n",
    "t1 = data1[:, 0] / 60 / 24  # convert min to days\n",
    "h1 = data1[:, 1]\n",
    "r1 = 30\n",
    "# time and drawdown of piezometer 90m away from pumping well\n",
    "data2 = np.loadtxt(\"data/piezometer_h90.txt\", skiprows=1)\n",
    "t2 = data2[:, 0] / 60 / 24  # convert min to days\n",
    "h2 = data2[:, 1]\n",
    "r2 = 90"
   ]
  },
  {
   "cell_type": "markdown",
   "metadata": {},
   "source": [
    "## Step 5: Calibration"
   ]
  },
  {
   "cell_type": "markdown",
   "metadata": {},
   "source": [
    "For the calibration of our groundwater model we proceed by creating a calibration object with the ```Calibrate``` class. The ```Calibrate``` object takes the model ```ml``` as argument.\n",
    "We then set the parameters we are adjusting:\n",
    "- Hydraulic conductivity: ```kaq0``` (Hydraulic conductivity of layer 0)\n",
    "- Specific Storage ```Saq0``` (Specific Storage of layer 0)\n",
    "\n",
    "with the ```.set_parameter``` method.\n",
    "\n",
    "- ```.set_parameter``` takes two arguments:\n",
    "- ```name``` is the parameter name, a string, where the letters define the parameter. The possible values are \"kaq\", \"Saq\" or 'c', and they represent hydraulic conductivity, Specific storage and resistance to vertical flow, respectively. The letters are followed by a number, that define the layer of that parameter. For the example ```\"kaq0\"``` means the hydraulic conductivity of the layer 0.\n",
    "    - ```initial```is the initial guess value for the fitting algorithmn.\n",
    "\n",
    "We can also add the optional parameters:\n",
    "- ```pmin``` and ```pmax```, which are floats that define the minimum and maximum possible values for the parameter.\n",
    "\n",
    "We add the observation data using the ```.series``` method. The arguments are:\n",
    " - ```name```: string with the observation name\n",
    " - ```x``` and ```y```: float positions of the observation\n",
    " - ```t```: the array of observation times\n",
    " - ```h```: the array of observed drawdowns\n",
    " - ```layer```: integer. The layer of the observation (0 indexed)\n"
   ]
  },
  {
   "cell_type": "markdown",
   "metadata": {},
   "source": [
    "### Step 5.1: Calibration with Observation from Piezometer 1 (30 m from well)\n",
    "\n",
    "We begin calibrating using only the data from observation 1:"
   ]
  },
  {
   "cell_type": "code",
   "execution_count": 40,
   "metadata": {},
   "outputs": [],
   "source": [
    "ca1 = ttim.Calibrate(ml)  # Calibrate object\n",
    "ca1.set_parameter(name=\"kaq0\", initial=10)  # Setting parameters\n",
    "ca1.set_parameter(name=\"Saq0\", initial=1e-4)\n",
    "ca1.series(name=\"obs1\", x=r1, y=0, t=t1, h=h1, layer=0)  # Adding observations"
   ]
  },
  {
   "cell_type": "markdown",
   "metadata": {},
   "source": [
    "The ```fit``` method is used to run the least-squares algorithmn for finding the optimal parameter values:"
   ]
  },
  {
   "cell_type": "code",
   "execution_count": 41,
   "metadata": {},
   "outputs": [
    {
     "name": "stdout",
     "output_type": "stream",
     "text": [
      ".........................\n",
      "Fit succeeded.\n",
      "[[Fit Statistics]]\n",
      "    # fitting method   = leastsq\n",
      "    # function evals   = 22\n",
      "    # data points      = 34\n",
      "    # variables        = 2\n",
      "    chi-square         = 0.03408049\n",
      "    reduced chi-square = 0.00106502\n",
      "    Akaike info crit   = -230.783289\n",
      "    Bayesian info crit = -227.730568\n",
      "[[Variables]]\n",
      "    kaq0:  68.6394868 +/- 1.43827068 (2.10%) (init = 10)\n",
      "    Saq0:  1.6072e-05 +/- 1.5823e-06 (9.85%) (init = 0.0001)\n",
      "[[Correlations]] (unreported correlations are < 0.100)\n",
      "    C(kaq0, Saq0) = -0.891\n"
     ]
    }
   ],
   "source": [
    "ca1.fit(\n",
    "    report=True\n",
    ")  # Fitting the model. We can hide the message below setting report = False"
   ]
  },
  {
   "cell_type": "markdown",
   "metadata": {},
   "source": [
    "The optimal parameters and their related fit statistics are saved inside the ```Calibrate``` object as a DataFrame in the ```.parameters``` attribute:"
   ]
  },
  {
   "cell_type": "code",
   "execution_count": 42,
   "metadata": {},
   "outputs": [
    {
     "data": {
      "text/html": [
       "<div>\n",
       "<style scoped>\n",
       "    .dataframe tbody tr th:only-of-type {\n",
       "        vertical-align: middle;\n",
       "    }\n",
       "\n",
       "    .dataframe tbody tr th {\n",
       "        vertical-align: top;\n",
       "    }\n",
       "\n",
       "    .dataframe thead th {\n",
       "        text-align: right;\n",
       "    }\n",
       "</style>\n",
       "<table border=\"1\" class=\"dataframe\">\n",
       "  <thead>\n",
       "    <tr style=\"text-align: right;\">\n",
       "      <th></th>\n",
       "      <th>optimal</th>\n",
       "      <th>std</th>\n",
       "      <th>perc_std</th>\n",
       "      <th>pmin</th>\n",
       "      <th>pmax</th>\n",
       "      <th>initial</th>\n",
       "      <th>parray</th>\n",
       "    </tr>\n",
       "  </thead>\n",
       "  <tbody>\n",
       "    <tr>\n",
       "      <th>kaq0</th>\n",
       "      <td>68.6395</td>\n",
       "      <td>1.438271</td>\n",
       "      <td>2.0954</td>\n",
       "      <td>-inf</td>\n",
       "      <td>inf</td>\n",
       "      <td>10</td>\n",
       "      <td>[68.63948675671419]</td>\n",
       "    </tr>\n",
       "    <tr>\n",
       "      <th>Saq0</th>\n",
       "      <td>1.60717e-05</td>\n",
       "      <td>0.000002</td>\n",
       "      <td>9.84519</td>\n",
       "      <td>-inf</td>\n",
       "      <td>inf</td>\n",
       "      <td>0.0001</td>\n",
       "      <td>[1.6071655613732773e-05]</td>\n",
       "    </tr>\n",
       "  </tbody>\n",
       "</table>\n",
       "</div>"
      ],
      "text/plain": [
       "          optimal       std perc_std  pmin  pmax initial  \\\n",
       "kaq0      68.6395  1.438271   2.0954  -inf   inf      10   \n",
       "Saq0  1.60717e-05  0.000002  9.84519  -inf   inf  0.0001   \n",
       "\n",
       "                        parray  \n",
       "kaq0       [68.63948675671419]  \n",
       "Saq0  [1.6071655613732773e-05]  "
      ]
     },
     "execution_count": 42,
     "metadata": {},
     "output_type": "execute_result"
    }
   ],
   "source": [
    "ca1.parameters"
   ]
  },
  {
   "cell_type": "markdown",
   "metadata": {},
   "source": [
    "The calibration RMSE can be accessed with the ```.rmse``` method:"
   ]
  },
  {
   "cell_type": "code",
   "execution_count": 43,
   "metadata": {
    "scrolled": true
   },
   "outputs": [
    {
     "name": "stdout",
     "output_type": "stream",
     "text": [
      "rmse: 0.031660183647463674\n"
     ]
    }
   ],
   "source": [
    "print(\"rmse:\", ca1.rmse())"
   ]
  },
  {
   "cell_type": "markdown",
   "metadata": {},
   "source": [
    "Finally, we can access the model drawdowns by asking for the calibrated model to compute the heads at the well location and time intervals specified by the sampled data.\n",
    "\n",
    "For this we use the ```.head``` method in the model object, in our case, ```ml```.\n",
    "\n",
    "The arguments are:\n",
    "* the positions ```x``` and ```y``` of the piezometric well (or any other point of interest). In our case, our well is located at position ```x= r1``` and ```y = 0```.\n",
    "* the time intervals, defined by the numpy array ```t```, for the computation of the heads. In our case, this is defined by the variable ```t1```.\n",
    "\n",
    "* Another optional inputs is ```layers```, that can be a list, integer or an array defining the model layers that shall be computed. For our case, we will not define anything, and TTim will compute for all layers (just one layer model).\n",
    "\n",
    "The output is a numpy array with dimensions ```(nl,nt)```, where ```nl``` is the number of layers and ```nt``` is the number of time intervals"
   ]
  },
  {
   "cell_type": "code",
   "execution_count": 44,
   "metadata": {},
   "outputs": [
    {
     "data": {
      "text/plain": [
       "(1, 34)"
      ]
     },
     "execution_count": 44,
     "metadata": {},
     "output_type": "execute_result"
    }
   ],
   "source": [
    "hm1 = ml.head(x=r1, y=0, t=t1)  # Using the head method to calculate model resuts\n",
    "hm1.shape  # Demonstration of the output shape"
   ]
  },
  {
   "cell_type": "markdown",
   "metadata": {},
   "source": [
    "#### Plotting the model Results"
   ]
  },
  {
   "cell_type": "code",
   "execution_count": 45,
   "metadata": {},
   "outputs": [
    {
     "data": {
      "image/png": "[encoded data removed]",
      "text/plain": [
       "<Figure size 720x504 with 1 Axes>"
      ]
     },
     "metadata": {
      "needs_background": "light"
     },
     "output_type": "display_data"
    }
   ],
   "source": [
    "# matplotlib plot for calibration,\n",
    "plt.figure(figsize=(10, 7))\n",
    "plt.semilogx(t1, h1, \".\", label=\"obs at 30 m\")  # Plotting the observed drawdown\n",
    "plt.semilogx(t1, hm1[0], label=\"ttim at 30 m\")  # Simulated drawdown\n",
    "plt.xlabel(\"time [d]\")\n",
    "plt.ylabel(\"drawdown [m]\")\n",
    "plt.title(\"ttim analysis for Oude Korendijk - Piezometer 30 m\")\n",
    "plt.legend();"
   ]
  },
  {
   "cell_type": "markdown",
   "metadata": {},
   "source": [
    "### Step 5.2. Calibrate model Parameters with Observation Well 2 (90 m distance)"
   ]
  },
  {
   "cell_type": "markdown",
   "metadata": {},
   "source": [
    " We proceed to calibrate using only the data from observation well 2.\n",
    " This time we will rush foward through the calibration steps. If the user feels confused, one can go back and check the inputs in [***step 5.1***](#step-51-calibration-with-observation-from-piezometer-1-30-m-from-well)"
   ]
  },
  {
   "cell_type": "code",
   "execution_count": 46,
   "metadata": {},
   "outputs": [
    {
     "name": "stdout",
     "output_type": "stream",
     "text": [
      "...............................\n",
      "Fit succeeded.\n",
      "[[Fit Statistics]]\n",
      "    # fitting method   = leastsq\n",
      "    # function evals   = 28\n",
      "    # data points      = 35\n",
      "    # variables        = 2\n",
      "    chi-square         = 0.01806492\n",
      "    reduced chi-square = 5.4742e-04\n",
      "    Akaike info crit   = -260.919608\n",
      "    Bayesian info crit = -257.808912\n",
      "[[Variables]]\n",
      "    kaq0:  71.5831423 +/- 1.57402551 (2.20%) (init = 10)\n",
      "    Saq0:  2.9106e-05 +/- 1.9379e-06 (6.66%) (init = 0.0001)\n",
      "[[Correlations]] (unreported correlations are < 0.100)\n",
      "    C(kaq0, Saq0) = -0.847\n"
     ]
    },
    {
     "data": {
      "text/html": [
       "<div>\n",
       "<style scoped>\n",
       "    .dataframe tbody tr th:only-of-type {\n",
       "        vertical-align: middle;\n",
       "    }\n",
       "\n",
       "    .dataframe tbody tr th {\n",
       "        vertical-align: top;\n",
       "    }\n",
       "\n",
       "    .dataframe thead th {\n",
       "        text-align: right;\n",
       "    }\n",
       "</style>\n",
       "<table border=\"1\" class=\"dataframe\">\n",
       "  <thead>\n",
       "    <tr style=\"text-align: right;\">\n",
       "      <th></th>\n",
       "      <th>optimal</th>\n",
       "      <th>std</th>\n",
       "      <th>perc_std</th>\n",
       "      <th>pmin</th>\n",
       "      <th>pmax</th>\n",
       "      <th>initial</th>\n",
       "      <th>parray</th>\n",
       "    </tr>\n",
       "  </thead>\n",
       "  <tbody>\n",
       "    <tr>\n",
       "      <th>kaq0</th>\n",
       "      <td>71.5831</td>\n",
       "      <td>1.574026</td>\n",
       "      <td>2.19888</td>\n",
       "      <td>-inf</td>\n",
       "      <td>inf</td>\n",
       "      <td>10</td>\n",
       "      <td>[71.58314231775141]</td>\n",
       "    </tr>\n",
       "    <tr>\n",
       "      <th>Saq0</th>\n",
       "      <td>2.91065e-05</td>\n",
       "      <td>0.000002</td>\n",
       "      <td>6.65787</td>\n",
       "      <td>-inf</td>\n",
       "      <td>inf</td>\n",
       "      <td>0.0001</td>\n",
       "      <td>[2.910648177493867e-05]</td>\n",
       "    </tr>\n",
       "  </tbody>\n",
       "</table>\n",
       "</div>"
      ],
      "text/plain": [
       "          optimal       std perc_std  pmin  pmax initial  \\\n",
       "kaq0      71.5831  1.574026  2.19888  -inf   inf      10   \n",
       "Saq0  2.91065e-05  0.000002  6.65787  -inf   inf  0.0001   \n",
       "\n",
       "                       parray  \n",
       "kaq0      [71.58314231775141]  \n",
       "Saq0  [2.910648177493867e-05]  "
      ]
     },
     "execution_count": 46,
     "metadata": {},
     "output_type": "execute_result"
    }
   ],
   "source": [
    "ca2 = ttim.Calibrate(ml)\n",
    "ca2.set_parameter(name=\"kaq0\", initial=10)\n",
    "ca2.set_parameter(name=\"Saq0\", initial=1e-4)\n",
    "ca2.series(name=\"obs2\", x=r2, y=0, t=t2, h=h2, layer=0)\n",
    "ca2.fit(report=True)\n",
    "ca2.parameters"
   ]
  },
  {
   "cell_type": "code",
   "execution_count": 47,
   "metadata": {},
   "outputs": [
    {
     "name": "stdout",
     "output_type": "stream",
     "text": [
      "rmse: 0.022718724430908815\n"
     ]
    },
    {
     "data": {
      "image/png": "[encoded data removed]",
      "text/plain": [
       "<Figure size 720x504 with 1 Axes>"
      ]
     },
     "metadata": {
      "needs_background": "light"
     },
     "output_type": "display_data"
    }
   ],
   "source": [
    "print(\"rmse:\", ca2.rmse())\n",
    "hm2 = ml.head(r2, 0, t2)\n",
    "plt.figure(figsize=(10, 7))\n",
    "plt.semilogx(t2, h2, \".\", label=\"obs at 90 m\")\n",
    "plt.semilogx(t2, hm2[0], label=\"ttim at 90 m\")\n",
    "plt.xlabel(\"time [d]\")\n",
    "plt.ylabel(\"drawdown [m]\")\n",
    "plt.title(\"ttim analysis for Oude Korendijk - Piezometer 90 m\")\n",
    "plt.legend();"
   ]
  },
  {
   "cell_type": "markdown",
   "metadata": {},
   "source": [
    "### Step 5.3. Calibrate model with two datasets simultaneously"
   ]
  },
  {
   "cell_type": "markdown",
   "metadata": {},
   "source": [
    "Here we explore the hability of TTim to calibrate the model using more than one observation location.\n",
    "\n",
    "This can be done simply by calling the method ```.series``` multiple times to the ```Calibrate``` object:"
   ]
  },
  {
   "cell_type": "code",
   "execution_count": 48,
   "metadata": {},
   "outputs": [
    {
     "name": "stdout",
     "output_type": "stream",
     "text": [
      "..................................\n",
      "Fit succeeded.\n",
      "[[Fit Statistics]]\n",
      "    # fitting method   = leastsq\n",
      "    # function evals   = 31\n",
      "    # data points      = 69\n",
      "    # variables        = 2\n",
      "    chi-square         = 0.17291362\n",
      "    reduced chi-square = 0.00258080\n",
      "    Akaike info crit   = -409.245802\n",
      "    Bayesian info crit = -404.777589\n",
      "[[Variables]]\n",
      "    kaq0:  66.0893566 +/- 1.65498708 (2.50%) (init = 10)\n",
      "    Saq0:  2.5409e-05 +/- 2.4016e-06 (9.45%) (init = 0.0001)\n",
      "[[Correlations]] (unreported correlations are < 0.100)\n",
      "    C(kaq0, Saq0) = -0.855\n"
     ]
    },
    {
     "data": {
      "text/html": [
       "<div>\n",
       "<style scoped>\n",
       "    .dataframe tbody tr th:only-of-type {\n",
       "        vertical-align: middle;\n",
       "    }\n",
       "\n",
       "    .dataframe tbody tr th {\n",
       "        vertical-align: top;\n",
       "    }\n",
       "\n",
       "    .dataframe thead th {\n",
       "        text-align: right;\n",
       "    }\n",
       "</style>\n",
       "<table border=\"1\" class=\"dataframe\">\n",
       "  <thead>\n",
       "    <tr style=\"text-align: right;\">\n",
       "      <th></th>\n",
       "      <th>optimal</th>\n",
       "      <th>std</th>\n",
       "      <th>perc_std</th>\n",
       "      <th>pmin</th>\n",
       "      <th>pmax</th>\n",
       "      <th>initial</th>\n",
       "      <th>parray</th>\n",
       "    </tr>\n",
       "  </thead>\n",
       "  <tbody>\n",
       "    <tr>\n",
       "      <th>kaq0</th>\n",
       "      <td>66.0894</td>\n",
       "      <td>1.654987</td>\n",
       "      <td>2.50417</td>\n",
       "      <td>-inf</td>\n",
       "      <td>inf</td>\n",
       "      <td>10</td>\n",
       "      <td>[66.0893566210241]</td>\n",
       "    </tr>\n",
       "    <tr>\n",
       "      <th>Saq0</th>\n",
       "      <td>2.54086e-05</td>\n",
       "      <td>0.000002</td>\n",
       "      <td>9.45189</td>\n",
       "      <td>-inf</td>\n",
       "      <td>inf</td>\n",
       "      <td>0.0001</td>\n",
       "      <td>[2.5408624326744147e-05]</td>\n",
       "    </tr>\n",
       "  </tbody>\n",
       "</table>\n",
       "</div>"
      ],
      "text/plain": [
       "          optimal       std perc_std  pmin  pmax initial  \\\n",
       "kaq0      66.0894  1.654987  2.50417  -inf   inf      10   \n",
       "Saq0  2.54086e-05  0.000002  9.45189  -inf   inf  0.0001   \n",
       "\n",
       "                        parray  \n",
       "kaq0        [66.0893566210241]  \n",
       "Saq0  [2.5408624326744147e-05]  "
      ]
     },
     "execution_count": 48,
     "metadata": {},
     "output_type": "execute_result"
    }
   ],
   "source": [
    "ca = ttim.Calibrate(ml)\n",
    "ca.set_parameter(name=\"kaq0\", initial=10)\n",
    "ca.set_parameter(name=\"Saq0\", initial=1e-4)\n",
    "ca.series(name=\"obs1\", x=r1, y=0, t=t1, h=h1, layer=0)  # Adding well 1\n",
    "ca.series(name=\"obs2\", x=r2, y=0, t=t2, h=h2, layer=0)  # Adding well 2\n",
    "ca.fit(report=True)\n",
    "ca.parameters"
   ]
  },
  {
   "cell_type": "code",
   "execution_count": 49,
   "metadata": {},
   "outputs": [
    {
     "name": "stdout",
     "output_type": "stream",
     "text": [
      "rmse: 0.050059909702252964\n"
     ]
    },
    {
     "data": {
      "image/png": "[encoded data removed]",
      "text/plain": [
       "<Figure size 576x360 with 1 Axes>"
      ]
     },
     "metadata": {
      "needs_background": "light"
     },
     "output_type": "display_data"
    }
   ],
   "source": [
    "print(\"rmse:\", ca.rmse())\n",
    "hs1 = ml.head(r1, 0, t1)\n",
    "hs2 = ml.head(r2, 0, t2)\n",
    "plt.figure(figsize=(8, 5))\n",
    "plt.semilogx(t1, h1, \".\", label=\"obs at 30m\")\n",
    "plt.semilogx(t1, hs1[0], label=\"ttim at 30 m\")\n",
    "plt.semilogx(t2, h2, \".\", label=\"obs at 90m\")\n",
    "plt.semilogx(t2, hs2[0], label=\"ttim at 90m\")\n",
    "plt.xlabel(\"time(d)\")\n",
    "plt.ylabel(\"drawdown(m)\")\n",
    "plt.title(\"ttim analysis for Oude Korendijk - Piezometers at 30 and 90 m\")\n",
    "plt.legend();"
   ]
  },
  {
   "cell_type": "markdown",
   "metadata": {},
   "source": [
    "## Step 6. Calibrate Model with Wellbore Storage\n",
    "\n",
    "In this continuation, we investigate whether adding well bore storage improves the fit."
   ]
  },
  {
   "cell_type": "markdown",
   "metadata": {},
   "source": [
    "### Step 6.1. Reload the model"
   ]
  },
  {
   "cell_type": "code",
   "execution_count": 65,
   "metadata": {},
   "outputs": [],
   "source": [
    "# unknown parameters: kaq, Saq and rc\n",
    "ml1 = ttim.ModelMaq(kaq=60, z=[zt, zb], Saq=1e-4, tmin=1e-5, tmax=1)"
   ]
  },
  {
   "cell_type": "markdown",
   "metadata": {},
   "source": [
    "### Step 6.2. Define new Well object with wellbore storage"
   ]
  },
  {
   "cell_type": "markdown",
   "metadata": {},
   "source": [
    "Now, besides the parameters explained in [Step 3](#step-3-creating-a-ttim-conceptual-model), we have to add the radius of the caisson (```rc```)"
   ]
  },
  {
   "cell_type": "code",
   "execution_count": 66,
   "metadata": {},
   "outputs": [],
   "source": [
    "w1 = ttim.Well(ml1, xw=0, yw=0, rw=0.2, rc=0.3, tsandQ=[(0, Q)], layers=0)\n",
    "ml1.solve(silent=\"True\")"
   ]
  },
  {
   "cell_type": "markdown",
   "metadata": {},
   "source": [
    "### Step 6.3. Calibrate using only the data from observation well 1"
   ]
  },
  {
   "cell_type": "markdown",
   "metadata": {},
   "source": [
    "Here we use the method ```.set_parameter_by_reference``` to calibrate the rc parameter in our well.\n",
    "\n",
    "```.set_parameter_by_reference``` takes the following arguments:\n",
    "* ```name```: string of the parameter name\n",
    "* ```parameter```: numpy-array with the parameter to be optimized. It should be specified as a reference, for example, in our case: ```w1.rc[0:]``` referencing to the parameter ```rc``` in object ```w1```.\n",
    "* ```initial```: float with the initial guess for the parameter value.\n",
    "* ```pmin```and ```pmax```: floats with the minimum and maximum values allowed for the parameter to be optimized. If not specified these will be defined as ```-np.inf``` and ```np.inf```."
   ]
  },
  {
   "cell_type": "code",
   "execution_count": 67,
   "metadata": {},
   "outputs": [
    {
     "name": "stdout",
     "output_type": "stream",
     "text": [
      "................................\n",
      "Fit succeeded.\n",
      "[[Fit Statistics]]\n",
      "    # fitting method   = leastsq\n",
      "    # function evals   = 29\n",
      "    # data points      = 34\n",
      "    # variables        = 2\n",
      "    chi-square         = 0.00794623\n",
      "    reduced chi-square = 2.4832e-04\n",
      "    Akaike info crit   = -280.288200\n",
      "    Bayesian info crit = -277.235479\n",
      "[[Variables]]\n",
      "    kaq0:  80.6405644 +/- 0.93948623 (1.17%) (init = 10)\n",
      "    Saq0:  5.5994e-06 +/- 3.8942e-07 (6.95%) (init = 0.0001)\n",
      "[[Correlations]] (unreported correlations are < 0.100)\n",
      "    C(kaq0, Saq0) = -0.921\n"
     ]
    },
    {
     "data": {
      "text/html": [
       "<div>\n",
       "<style scoped>\n",
       "    .dataframe tbody tr th:only-of-type {\n",
       "        vertical-align: middle;\n",
       "    }\n",
       "\n",
       "    .dataframe tbody tr th {\n",
       "        vertical-align: top;\n",
       "    }\n",
       "\n",
       "    .dataframe thead th {\n",
       "        text-align: right;\n",
       "    }\n",
       "</style>\n",
       "<table border=\"1\" class=\"dataframe\">\n",
       "  <thead>\n",
       "    <tr style=\"text-align: right;\">\n",
       "      <th></th>\n",
       "      <th>optimal</th>\n",
       "      <th>std</th>\n",
       "      <th>perc_std</th>\n",
       "      <th>pmin</th>\n",
       "      <th>pmax</th>\n",
       "      <th>initial</th>\n",
       "      <th>parray</th>\n",
       "    </tr>\n",
       "  </thead>\n",
       "  <tbody>\n",
       "    <tr>\n",
       "      <th>kaq0</th>\n",
       "      <td>80.6406</td>\n",
       "      <td>9.394862e-01</td>\n",
       "      <td>1.16503</td>\n",
       "      <td>-inf</td>\n",
       "      <td>inf</td>\n",
       "      <td>10</td>\n",
       "      <td>[80.64056435863938]</td>\n",
       "    </tr>\n",
       "    <tr>\n",
       "      <th>Saq0</th>\n",
       "      <td>5.5994e-06</td>\n",
       "      <td>3.894218e-07</td>\n",
       "      <td>6.9547</td>\n",
       "      <td>-inf</td>\n",
       "      <td>inf</td>\n",
       "      <td>0.0001</td>\n",
       "      <td>[5.599401724943624e-06]</td>\n",
       "    </tr>\n",
       "  </tbody>\n",
       "</table>\n",
       "</div>"
      ],
      "text/plain": [
       "         optimal           std perc_std  pmin  pmax initial  \\\n",
       "kaq0     80.6406  9.394862e-01  1.16503  -inf   inf      10   \n",
       "Saq0  5.5994e-06  3.894218e-07   6.9547  -inf   inf  0.0001   \n",
       "\n",
       "                       parray  \n",
       "kaq0      [80.64056435863938]  \n",
       "Saq0  [5.599401724943624e-06]  "
      ]
     },
     "execution_count": 67,
     "metadata": {},
     "output_type": "execute_result"
    }
   ],
   "source": [
    "ca3 = ttim.Calibrate(ml1)\n",
    "ca3.set_parameter(name=\"kaq0\", initial=10)\n",
    "ca3.set_parameter(name=\"Saq0\", initial=1e-4)\n",
    "# ca3.set_parameter_by_reference(name='rc', parameter=w1.rc[0:], initial=0.2, pmin=0.01)\n",
    "ca3.series(name=\"obs1\", x=r1, y=0, t=t1, h=h1, layer=0)\n",
    "ca3.fit(report=True)\n",
    "ca3.parameters"
   ]
  },
  {
   "cell_type": "code",
   "execution_count": 68,
   "metadata": {},
   "outputs": [
    {
     "name": "stdout",
     "output_type": "stream",
     "text": [
      "rmse: 0.015287667397425852\n"
     ]
    },
    {
     "data": {
      "image/png": "[encoded data removed]",
      "text/plain": [
       "<Figure size 720x504 with 1 Axes>"
      ]
     },
     "metadata": {
      "needs_background": "light"
     },
     "output_type": "display_data"
    }
   ],
   "source": [
    "print(\"rmse:\", ca3.rmse())\n",
    "hm3 = ml1.head(r1, 0, t1)\n",
    "plt.figure(figsize=(10, 7))\n",
    "plt.semilogx(t1, h1, \".\", label=\"obs at 30 m\")\n",
    "plt.semilogx(t1, hm3[0], label=\"ttim at 30 m\")\n",
    "plt.xlabel(\"time(d)\")\n",
    "plt.ylabel(\"drawdown(m)\")\n",
    "plt.title(\"ttim analysis for Oude Korendijk - Piezometer 30 m and Wellbore Storage\")\n",
    "plt.legend();"
   ]
  },
  {
   "cell_type": "markdown",
   "metadata": {},
   "source": [
    "### Step 6.4. Calibrate using only the data from observation well 2\n",
    "\n",
    "Here we repeat the step 6.3 for well 2"
   ]
  },
  {
   "cell_type": "code",
   "execution_count": 69,
   "metadata": {},
   "outputs": [
    {
     "name": "stdout",
     "output_type": "stream",
     "text": [
      ".................................\n",
      "Fit succeeded.\n",
      "[[Fit Statistics]]\n",
      "    # fitting method   = leastsq\n",
      "    # function evals   = 30\n",
      "    # data points      = 35\n",
      "    # variables        = 2\n",
      "    chi-square         = 0.00976276\n",
      "    reduced chi-square = 2.9584e-04\n",
      "    Akaike info crit   = -282.458485\n",
      "    Bayesian info crit = -279.347789\n",
      "[[Variables]]\n",
      "    kaq0:  75.0893629 +/- 1.21674620 (1.62%) (init = 10)\n",
      "    Saq0:  2.3917e-05 +/- 1.2586e-06 (5.26%) (init = 0.0001)\n",
      "[[Correlations]] (unreported correlations are < 0.100)\n",
      "    C(kaq0, Saq0) = -0.851\n"
     ]
    },
    {
     "data": {
      "text/html": [
       "<div>\n",
       "<style scoped>\n",
       "    .dataframe tbody tr th:only-of-type {\n",
       "        vertical-align: middle;\n",
       "    }\n",
       "\n",
       "    .dataframe tbody tr th {\n",
       "        vertical-align: top;\n",
       "    }\n",
       "\n",
       "    .dataframe thead th {\n",
       "        text-align: right;\n",
       "    }\n",
       "</style>\n",
       "<table border=\"1\" class=\"dataframe\">\n",
       "  <thead>\n",
       "    <tr style=\"text-align: right;\">\n",
       "      <th></th>\n",
       "      <th>optimal</th>\n",
       "      <th>std</th>\n",
       "      <th>perc_std</th>\n",
       "      <th>pmin</th>\n",
       "      <th>pmax</th>\n",
       "      <th>initial</th>\n",
       "      <th>parray</th>\n",
       "    </tr>\n",
       "  </thead>\n",
       "  <tbody>\n",
       "    <tr>\n",
       "      <th>kaq0</th>\n",
       "      <td>75.0894</td>\n",
       "      <td>1.216746</td>\n",
       "      <td>1.6204</td>\n",
       "      <td>-inf</td>\n",
       "      <td>inf</td>\n",
       "      <td>10</td>\n",
       "      <td>[75.08936291305277]</td>\n",
       "    </tr>\n",
       "    <tr>\n",
       "      <th>Saq0</th>\n",
       "      <td>2.39169e-05</td>\n",
       "      <td>0.000001</td>\n",
       "      <td>5.26246</td>\n",
       "      <td>-inf</td>\n",
       "      <td>inf</td>\n",
       "      <td>0.0001</td>\n",
       "      <td>[2.391691367998678e-05]</td>\n",
       "    </tr>\n",
       "  </tbody>\n",
       "</table>\n",
       "</div>"
      ],
      "text/plain": [
       "          optimal       std perc_std  pmin  pmax initial  \\\n",
       "kaq0      75.0894  1.216746   1.6204  -inf   inf      10   \n",
       "Saq0  2.39169e-05  0.000001  5.26246  -inf   inf  0.0001   \n",
       "\n",
       "                       parray  \n",
       "kaq0      [75.08936291305277]  \n",
       "Saq0  [2.391691367998678e-05]  "
      ]
     },
     "execution_count": 69,
     "metadata": {},
     "output_type": "execute_result"
    }
   ],
   "source": [
    "ca4 = ttim.Calibrate(ml1)\n",
    "ca4.set_parameter(name=\"kaq0\", initial=10)\n",
    "ca4.set_parameter(name=\"Saq0\", initial=1e-4)\n",
    "# ca4.set_parameter_by_reference(name='rc', parameter=w1.rc[0:], initial=0.2, pmin=0.01)\n",
    "ca4.series(name=\"obs2\", x=r2, y=0, t=t2, h=h2, layer=0)\n",
    "ca4.fit(report=True)\n",
    "ca4.parameters"
   ]
  },
  {
   "cell_type": "code",
   "execution_count": 70,
   "metadata": {},
   "outputs": [
    {
     "name": "stdout",
     "output_type": "stream",
     "text": [
      "rmse: 0.01670137754442732\n"
     ]
    },
    {
     "data": {
      "image/png": "[encoded data removed]",
      "text/plain": [
       "<Figure size 720x504 with 1 Axes>"
      ]
     },
     "metadata": {
      "needs_background": "light"
     },
     "output_type": "display_data"
    }
   ],
   "source": [
    "print(\"rmse:\", ca4.rmse())\n",
    "hm4 = ml1.head(r2, 0, t2)\n",
    "plt.figure(figsize=(10, 7))\n",
    "plt.semilogx(t2, h2, \".\", label=\"obs at 90 m\")\n",
    "plt.semilogx(t2, hm4[0], label=\"ttim at 90 m\")\n",
    "plt.xlabel(\"time [d]\")\n",
    "plt.ylabel(\"drawdown [m]\")\n",
    "plt.title(\"ttim analysis for Oude Korendijk - Piezometer 90 m and Wellbore Storage\")\n",
    "plt.legend();"
   ]
  },
  {
   "cell_type": "markdown",
   "metadata": {},
   "source": [
    "### Step 6.5. Calibrate model with two datasets simultaneously\n",
    "\n",
    "Following the same logic from steps 6.3 to 6.4 and the calibration from step 5.3 we can now check the calibration using both wells and including wellbore storage."
   ]
  },
  {
   "cell_type": "code",
   "execution_count": 71,
   "metadata": {},
   "outputs": [
    {
     "name": "stdout",
     "output_type": "stream",
     "text": [
      ".........................\n",
      "Fit succeeded.\n",
      "[[Fit Statistics]]\n",
      "    # fitting method   = leastsq\n",
      "    # function evals   = 22\n",
      "    # data points      = 69\n",
      "    # variables        = 2\n",
      "    chi-square         = 0.24681339\n",
      "    reduced chi-square = 0.00368378\n",
      "    Akaike info crit   = -384.692818\n",
      "    Bayesian info crit = -380.224605\n",
      "[[Variables]]\n",
      "    kaq0:  71.4301741 +/- 2.20521581 (3.09%) (init = 10)\n",
      "    Saq0:  1.7118e-05 +/- 2.2331e-06 (13.05%) (init = 0.0001)\n",
      "[[Correlations]] (unreported correlations are < 0.100)\n",
      "    C(kaq0, Saq0) = -0.866\n"
     ]
    },
    {
     "data": {
      "text/html": [
       "<div>\n",
       "<style scoped>\n",
       "    .dataframe tbody tr th:only-of-type {\n",
       "        vertical-align: middle;\n",
       "    }\n",
       "\n",
       "    .dataframe tbody tr th {\n",
       "        vertical-align: top;\n",
       "    }\n",
       "\n",
       "    .dataframe thead th {\n",
       "        text-align: right;\n",
       "    }\n",
       "</style>\n",
       "<table border=\"1\" class=\"dataframe\">\n",
       "  <thead>\n",
       "    <tr style=\"text-align: right;\">\n",
       "      <th></th>\n",
       "      <th>optimal</th>\n",
       "      <th>std</th>\n",
       "      <th>perc_std</th>\n",
       "      <th>pmin</th>\n",
       "      <th>pmax</th>\n",
       "      <th>initial</th>\n",
       "      <th>parray</th>\n",
       "    </tr>\n",
       "  </thead>\n",
       "  <tbody>\n",
       "    <tr>\n",
       "      <th>kaq0</th>\n",
       "      <td>71.4302</td>\n",
       "      <td>2.205216</td>\n",
       "      <td>3.08723</td>\n",
       "      <td>-inf</td>\n",
       "      <td>inf</td>\n",
       "      <td>10</td>\n",
       "      <td>[71.43017412811331]</td>\n",
       "    </tr>\n",
       "    <tr>\n",
       "      <th>Saq0</th>\n",
       "      <td>1.71184e-05</td>\n",
       "      <td>0.000002</td>\n",
       "      <td>13.0452</td>\n",
       "      <td>-inf</td>\n",
       "      <td>inf</td>\n",
       "      <td>0.0001</td>\n",
       "      <td>[1.7118434516330002e-05]</td>\n",
       "    </tr>\n",
       "  </tbody>\n",
       "</table>\n",
       "</div>"
      ],
      "text/plain": [
       "          optimal       std perc_std  pmin  pmax initial  \\\n",
       "kaq0      71.4302  2.205216  3.08723  -inf   inf      10   \n",
       "Saq0  1.71184e-05  0.000002  13.0452  -inf   inf  0.0001   \n",
       "\n",
       "                        parray  \n",
       "kaq0       [71.43017412811331]  \n",
       "Saq0  [1.7118434516330002e-05]  "
      ]
     },
     "execution_count": 71,
     "metadata": {},
     "output_type": "execute_result"
    }
   ],
   "source": [
    "ca0 = ttim.Calibrate(ml1)\n",
    "ca0.set_parameter(name=\"kaq0\", initial=10)\n",
    "ca0.set_parameter(name=\"Saq0\", initial=1e-4)\n",
    "# ca0.set_parameter_by_reference(name='rc', parameter=w1.rc[0:], initial=0.2, pmin=0.01)\n",
    "ca0.series(name=\"obs1\", x=r1, y=0, t=t1, h=h1, layer=0)\n",
    "ca0.series(name=\"obs2\", x=r2, y=0, t=t2, h=h2, layer=0)\n",
    "ca0.fit(report=True)\n",
    "ca0.parameters"
   ]
  },
  {
   "cell_type": "code",
   "execution_count": 72,
   "metadata": {},
   "outputs": [
    {
     "name": "stdout",
     "output_type": "stream",
     "text": [
      "rmse: 0.05980807316640966\n"
     ]
    },
    {
     "data": {
      "image/png": "[encoded data removed]",
      "text/plain": [
       "<Figure size 720x504 with 1 Axes>"
      ]
     },
     "metadata": {
      "needs_background": "light"
     },
     "output_type": "display_data"
    }
   ],
   "source": [
    "print(\"rmse:\", ca0.rmse())\n",
    "hs1 = ml1.head(r1, 0, t1)\n",
    "hs2 = ml1.head(r2, 0, t2)\n",
    "plt.figure(figsize=(10, 7))\n",
    "plt.semilogx(t1, h1, \".\", label=\"obs at 30m\")\n",
    "plt.semilogx(t1, hs1[0], label=\"ttim at 30 m\")\n",
    "plt.semilogx(t2, h2, \".\", label=\"obs at 90m\")\n",
    "plt.semilogx(t2, hs2[0], label=\"ttim at 90m\")\n",
    "plt.xlabel(\"time [d]\")\n",
    "plt.ylabel(\"drawdown [m]\")\n",
    "plt.title(\"ttim analysis for Oude Korendijk\")\n",
    "plt.legend();"
   ]
  },
  {
   "cell_type": "markdown",
   "metadata": {},
   "source": [
    "## Step 7. Comparison of Results"
   ]
  },
  {
   "cell_type": "markdown",
   "metadata": {},
   "source": [
    "### Step 7.1. Comparison of model performance and Results with and without wellbore storage"
   ]
  },
  {
   "cell_type": "markdown",
   "metadata": {},
   "source": [
    "#### 7.1.1. RMSE of the two conceptual models"
   ]
  },
  {
   "cell_type": "markdown",
   "metadata": {},
   "source": [
    "The following table summarises the rmse values of the obtained models with and without well wellbore storage consideration."
   ]
  },
  {
   "cell_type": "code",
   "execution_count": 30,
   "metadata": {},
   "outputs": [
    {
     "data": {
      "text/html": [
       "<style  type=\"text/css\" >\n",
       "</style><table id=\"T_68ac3b46_fe78_11eb_ae8b_acde48001122\" ><caption>RMSE of two conceptual models</caption><thead>    <tr>        <th class=\"blank level0\" ></th>        <th class=\"col_heading level0 col0\" >obs 30 m</th>        <th class=\"col_heading level0 col1\" >obs 90 m</th>        <th class=\"col_heading level0 col2\" >obs simultaneously</th>    </tr></thead><tbody>\n",
       "                <tr>\n",
       "                        <th id=\"T_68ac3b46_fe78_11eb_ae8b_acde48001122level0_row0\" class=\"row_heading level0 row0\" >without rc</th>\n",
       "                        <td id=\"T_68ac3b46_fe78_11eb_ae8b_acde48001122row0_col0\" class=\"data row0 col0\" >0.031660</td>\n",
       "                        <td id=\"T_68ac3b46_fe78_11eb_ae8b_acde48001122row0_col1\" class=\"data row0 col1\" >0.022719</td>\n",
       "                        <td id=\"T_68ac3b46_fe78_11eb_ae8b_acde48001122row0_col2\" class=\"data row0 col2\" >0.050060</td>\n",
       "            </tr>\n",
       "            <tr>\n",
       "                        <th id=\"T_68ac3b46_fe78_11eb_ae8b_acde48001122level0_row1\" class=\"row_heading level0 row1\" >with rc</th>\n",
       "                        <td id=\"T_68ac3b46_fe78_11eb_ae8b_acde48001122row1_col0\" class=\"data row1 col0\" >0.015273</td>\n",
       "                        <td id=\"T_68ac3b46_fe78_11eb_ae8b_acde48001122row1_col1\" class=\"data row1 col1\" >0.006219</td>\n",
       "                        <td id=\"T_68ac3b46_fe78_11eb_ae8b_acde48001122row1_col2\" class=\"data row1 col2\" >0.050065</td>\n",
       "            </tr>\n",
       "    </tbody></table>"
      ],
      "text/plain": [
       "<pandas.io.formats.style.Styler at 0x126c93b20>"
      ]
     },
     "execution_count": 30,
     "metadata": {},
     "output_type": "execute_result"
    }
   ],
   "source": [
    "t0 = pd.DataFrame(\n",
    "    columns=[\"obs 30 m\", \"obs 90 m\", \"obs simultaneously\"],\n",
    "    index=[\"without rc\", \"with rc\"],\n",
    ")\n",
    "t0.loc[\"without rc\", \"obs 30 m\"] = ca1.rmse()\n",
    "t0.loc[\"without rc\", \"obs 90 m\"] = ca2.rmse()\n",
    "t0.loc[\"without rc\", \"obs simultaneously\"] = ca.rmse()\n",
    "t0.loc[\"with rc\", \"obs 30 m\"] = ca3.rmse()\n",
    "t0.loc[\"with rc\", \"obs 90 m\"] = ca4.rmse()\n",
    "t0.loc[\"with rc\", \"obs simultaneously\"] = ca0.rmse()\n",
    "\n",
    "t0.style.set_caption(\"RMSE of two conceptual models\")"
   ]
  },
  {
   "cell_type": "markdown",
   "metadata": {},
   "source": [
    "Adding wellbore storage improved the fit performance when used drawdown data of the individual observation wells. However, when calibrated the model with both datasets simultaneously, ```rc```  was adjusted to the minimum value. Adding rc did not improve the performance much in this case."
   ]
  },
  {
   "cell_type": "markdown",
   "metadata": {},
   "source": [
    "#### 7.1.2. Model comparisons"
   ]
  },
  {
   "cell_type": "markdown",
   "metadata": {},
   "source": [
    "We can see the summaries of the hydraulic conductivities in the next table.\n",
    "\n",
    "We will access the parameter values by accessing the ```.parameters``` attribute of each ```Calibrate``` object"
   ]
  },
  {
   "cell_type": "code",
   "execution_count": 31,
   "metadata": {},
   "outputs": [
    {
     "data": {
      "text/plain": [
       "Text(0.5, 0, 'Calibration Dataset')"
      ]
     },
     "execution_count": 31,
     "metadata": {},
     "output_type": "execute_result"
    },
    {
     "data": {
      "image/png": "[encoded data removed]",
      "text/plain": [
       "<Figure size 720x504 with 1 Axes>"
      ]
     },
     "metadata": {
      "needs_background": "light"
     },
     "output_type": "display_data"
    }
   ],
   "source": [
    "# Preparing the DataFrame:\n",
    "t1 = pd.DataFrame(\n",
    "    columns=[\"kaq - opt\", \"kaq - min\", \"kaq - max\", \"W. Storage\", \"Calib. Dataset\"]\n",
    ")\n",
    "w_storage = [\n",
    "    \"without rc\",\n",
    "    \"without rc\",\n",
    "    \"without rc\",\n",
    "    \"with rc\",\n",
    "    \"with rc\",\n",
    "    \"with rc\",\n",
    "]\n",
    "obs_dataset = [\n",
    "    \"obs 30 m\",\n",
    "    \"obs 90 m\",\n",
    "    \"obs simultaneously\",\n",
    "    \"obs 30 m\",\n",
    "    \"obs 90 m\",\n",
    "    \"obs simultaneously\",\n",
    "]\n",
    "\n",
    "# Looping through all calibration objects and fetching the desired values\n",
    "for calib, w_sto, obs_dts in zip([ca1, ca2, ca, ca3, ca4, ca0], w_storage, obs_dataset):\n",
    "    p = (\n",
    "        calib.parameters\n",
    "    )  # Accessing the parameters Dataframe inside the Calibrate object\n",
    "    tab = pd.DataFrame(\n",
    "        [\n",
    "            [\n",
    "                p.loc[\"kaq0\", \"optimal\"],\n",
    "                2 * p.loc[\"kaq0\", \"std\"],\n",
    "                2 * p.loc[\"kaq0\", \"std\"],\n",
    "                w_sto,\n",
    "                obs_dts,\n",
    "            ]\n",
    "        ],\n",
    "        columns=[\"kaq - opt\", \"kaq - min\", \"kaq - max\", \"W. Storage\", \"Calib. Dataset\"],\n",
    "    )\n",
    "    t1 = t1.append(tab)\n",
    "\n",
    "# Plotting\n",
    "groups = t1.groupby(\"W. Storage\")\n",
    "plt.figure(figsize=(10, 7))\n",
    "for name, group in groups:\n",
    "    plt.errorbar(\n",
    "        x=group[\"Calib. Dataset\"],\n",
    "        y=group[\"kaq - opt\"],\n",
    "        yerr=[group[\"kaq - min\"], group[\"kaq - max\"]],\n",
    "        marker=\"o\",\n",
    "        linestyle=\"\",\n",
    "        markersize=12,\n",
    "        label=name,\n",
    "    )\n",
    "plt.legend()\n",
    "plt.suptitle(\"Error bar plot of calibrated hydraulic conductivities\")\n",
    "plt.ylabel(\"K [m/d]\")\n",
    "plt.xlabel(\"Calibration Dataset\")"
   ]
  },
  {
   "cell_type": "markdown",
   "metadata": {},
   "source": [
    "The Errorbar plot shows that the Hydraulic Conductivities calculated are significantly higher with wellbore storage than without when considering the individual wells datasets for calibration.\n",
    "\n",
    "As for the dataset using both obs wells at the same time, the calibration results have no significant differences.\n",
    "\n",
    "Both scenarios with and without wellbore storage showed lower values for the calibrated model using both observations, calibration with a single well are overestimated.\n",
    "\n"
   ]
  },
  {
   "cell_type": "markdown",
   "metadata": {},
   "source": [
    "### Step 7.2. Compare TTim to results of K&dR, AQTEOLV and MLU:"
   ]
  },
  {
   "cell_type": "markdown",
   "metadata": {},
   "source": [
    "The final important step is to compare the data obtained from this model with the data from other Aquifer Analysis software. Xinzhu Y. (2020) compared TTim results with the published results in Kruseman and de Ridder (1970), here abbreviated to K&dR, and with the results obtained from the software AQTESOLV (Duffield, 2007) and MLU (Carlson & Randall, 2012)."
   ]
  },
  {
   "cell_type": "code",
   "execution_count": 32,
   "metadata": {
    "scrolled": true
   },
   "outputs": [
    {
     "data": {
      "text/html": [
       "<style  type=\"text/css\" >\n",
       "</style><table id=\"T_68e3482a_fe78_11eb_ae8b_acde48001122\" ><caption>Comparison of Model Results with different Softwares</caption><thead>    <tr>        <th class=\"blank level0\" ></th>        <th class=\"col_heading level0 col0\" >k [m/d]</th>        <th class=\"col_heading level0 col1\" >Ss [1/m]</th>        <th class=\"col_heading level0 col2\" >RMSE</th>    </tr></thead><tbody>\n",
       "                <tr>\n",
       "                        <th id=\"T_68e3482a_fe78_11eb_ae8b_acde48001122level0_row0\" class=\"row_heading level0 row0\" >K&dR</th>\n",
       "                        <td id=\"T_68e3482a_fe78_11eb_ae8b_acde48001122row0_col0\" class=\"data row0 col0\" >55.714290</td>\n",
       "                        <td id=\"T_68e3482a_fe78_11eb_ae8b_acde48001122row0_col1\" class=\"data row0 col1\" >0.000170</td>\n",
       "                        <td id=\"T_68e3482a_fe78_11eb_ae8b_acde48001122row0_col2\" class=\"data row0 col2\" >-</td>\n",
       "            </tr>\n",
       "            <tr>\n",
       "                        <th id=\"T_68e3482a_fe78_11eb_ae8b_acde48001122level0_row1\" class=\"row_heading level0 row1\" >TTim</th>\n",
       "                        <td id=\"T_68e3482a_fe78_11eb_ae8b_acde48001122row1_col0\" class=\"data row1 col0\" >66.089357</td>\n",
       "                        <td id=\"T_68e3482a_fe78_11eb_ae8b_acde48001122row1_col1\" class=\"data row1 col1\" >0.000025</td>\n",
       "                        <td id=\"T_68e3482a_fe78_11eb_ae8b_acde48001122row1_col2\" class=\"data row1 col2\" >0.050060</td>\n",
       "            </tr>\n",
       "            <tr>\n",
       "                        <th id=\"T_68e3482a_fe78_11eb_ae8b_acde48001122level0_row2\" class=\"row_heading level0 row2\" >AQTESOLV</th>\n",
       "                        <td id=\"T_68e3482a_fe78_11eb_ae8b_acde48001122row2_col0\" class=\"data row2 col0\" >66.086000</td>\n",
       "                        <td id=\"T_68e3482a_fe78_11eb_ae8b_acde48001122row2_col1\" class=\"data row2 col1\" >0.000025</td>\n",
       "                        <td id=\"T_68e3482a_fe78_11eb_ae8b_acde48001122row2_col2\" class=\"data row2 col2\" >0.050060</td>\n",
       "            </tr>\n",
       "            <tr>\n",
       "                        <th id=\"T_68e3482a_fe78_11eb_ae8b_acde48001122level0_row3\" class=\"row_heading level0 row3\" >MLU</th>\n",
       "                        <td id=\"T_68e3482a_fe78_11eb_ae8b_acde48001122row3_col0\" class=\"data row3 col0\" >66.850000</td>\n",
       "                        <td id=\"T_68e3482a_fe78_11eb_ae8b_acde48001122row3_col1\" class=\"data row3 col1\" >0.000024</td>\n",
       "                        <td id=\"T_68e3482a_fe78_11eb_ae8b_acde48001122row3_col2\" class=\"data row3 col2\" >0.050830</td>\n",
       "            </tr>\n",
       "    </tbody></table>"
      ],
      "text/plain": [
       "<pandas.io.formats.style.Styler at 0x12637feb0>"
      ]
     },
     "execution_count": 32,
     "metadata": {},
     "output_type": "execute_result"
    }
   ],
   "source": [
    "t = pd.DataFrame(\n",
    "    columns=[\"k [m/d]\", \"Ss [1/m]\", \"RMSE\"], index=[\"K&dR\", \"TTim\", \"AQTESOLV\", \"MLU\"]\n",
    ")\n",
    "t.loc[\"TTim\"] = np.append(ca.parameters[\"optimal\"].values, ca.rmse())\n",
    "t.loc[\"AQTESOLV\"] = [66.086, 2.541e-05, 0.05006]\n",
    "t.loc[\"MLU\"] = [66.850, 2.400e-05, 0.05083]\n",
    "t.loc[\"K&dR\"] = [55.71429, 1.7e-4, \"-\"]\n",
    "t.style.set_caption(\"Comparison of Model Results with different Softwares\")"
   ]
  },
  {
   "cell_type": "markdown",
   "metadata": {},
   "source": [
    "Results show good agreement between different analysis programs, including TTim. The values from Kruseman and de Ridder (1970) were obtained through Thiem's approximation, and seems to have been underestimated as the pumping never reached steady-state conditions"
   ]
  },
  {
   "cell_type": "markdown",
   "metadata": {},
   "source": [
    "## References\n",
    "\n",
    "* Carlson F, Randall J (2012) MLU: a Windows application for the analysis of aquifer tests and the design of well fields in layered systems. Ground Water 50(4):504–510\n",
    "* Duffield, G.M., 2007. AQTESOLV for Windows Version 4.5 User's Guide, HydroSOLVE, Inc., Reston, VA.\n",
    "* Kruseman, G.P., De Ridder, N.A., Verweij, J.M., 1970. Analysis and evaluationof pumping test data. volume 11. International institute for land reclamation and improvement The Netherlands.\n",
    "* Yang, Xinzhu (2020) Application and comparison of different methodsfor aquifer test analysis using TTim. Master Thesis, Delft University of Technology (TUDelft), Delft, The Netherlands."
   ]
  }
 ],
 "metadata": {
  "kernelspec": {
   "display_name": "Python 3",
   "language": "python",
   "name": "python3"
  },
  "language_info": {
   "codemirror_mode": {
    "name": "ipython",
    "version": 3
   },
   "file_extension": ".py",
   "mimetype": "text/x-python",
   "name": "python",
   "nbconvert_exporter": "python",
   "pygments_lexer": "ipython3",
   "version": "3.8.2"
  },
  "latex_envs": {
   "LaTeX_envs_menu_present": true,
   "autoclose": false,
   "autocomplete": true,
   "bibliofile": "biblio.bib",
   "cite_by": "apalike",
   "current_citInitial": 1,
   "eqLabelWithNumbers": true,
   "eqNumInitial": 1,
   "hotkeys": {
    "equation": "Ctrl-E",
    "itemize": "Ctrl-I"
   },
   "labels_anchors": false,
   "latex_user_defs": false,
   "report_style_numbering": false,
   "user_envs_cfg": false
  }
 },
 "nbformat": 4,
 "nbformat_minor": 2
}
