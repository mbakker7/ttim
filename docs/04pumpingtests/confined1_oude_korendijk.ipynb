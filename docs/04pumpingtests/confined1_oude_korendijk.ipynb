{
 "cells": [
  {
   "cell_type": "markdown",
   "metadata": {},
   "source": [
    "# 1. Confined Aquifer Test - Oude Korendijk\n",
<<<<<<< HEAD:pumpingtest_benchmarks/confined1_oude_korendijk.ipynb
    "**This example is taken from Kruseman et al. 1970**"
=======
    "\n",
    "**This example is taken from Kruseman and de Ridder (1970)**"
>>>>>>> 58828e186cd9ca8d561622448037390a6d10b392:docs/04pumpingtests/confined1_oude_korendijk.ipynb
   ]
  },
  {
   "cell_type": "markdown",
   "metadata": {},
   "source": [
    "## Introduction and Conceptual Model\n",
    "\n",
<<<<<<< HEAD:pumpingtest_benchmarks/confined1_oude_korendijk.ipynb
    "TTim is a semi-analytical model of transient groundwater flow systems (Bakker, 2013). It applies the Laplace-transform analytic element method to solve for groundwater flow in a variety of hydrogeological features. One of the many applications of TTim is the analysis of aquifer tests. In this series of Jupyter Notebooks, we demonstrate the capabilities to model and calibrate aquifer tests in different hydrogeological conditions.\n",
    "\n",
    "In this example, we will use the pumping test data from Oude Korendijk (Kruseman et al. 1970) to demonstrate how TTim can be used to model and analyze pumping tests. Furthermore, we reproduce the work of Yang (2020) and compare the performance of TTim with other transient well hydraulics software AQTESOLV (Duffield, 2007) and MLU (Carlson and Randall, 2012).\n",
    "\n",
    "Oude Korendijk is a polder area south of Rotterdam, the Netherlands. The stratigraphy can be summarised by:\n",
    "* the presence in the first 18 m depth of an impermeable layer,\n",
    "* followed by a 7 m succession of coarse gravel and sands, which are considered as the aquifer layer,\n",
    "* and finally, a layer of fine sands and clayey sediments that are deemed impermeable.\n",
    "\n",
    "The well screens the whole thickness of the aquifer. Drawdowns were taken from piezometers installed 30 and 90 m away from the well. Pumping at the well has been taken with a constant discharge of 788 m3/d for almost 14 hours.\n",
    "\n",
    "The conceptual model of the area is a single layer confined aquifer located at 18 m below surface and 7 m thickness. At $t=0$, the pumping starts at a constant discharge of 788 m3/d and drawdowns are recorded at two piezometers, 30 and 90 meters away, respectively. The figure below summarises the conceptualization of the problem\n"
   ]
  },
  {
   "cell_type": "code",
   "execution_count": 1,
   "metadata": {
    "jupyter": {
     "source_hidden": true
    },
    "tags": []
   },
   "outputs": [
    {
     "data": {
      "image/png": "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\n",
      "text/plain": [
       "<Figure size 1008x648 with 1 Axes>"
      ]
     },
     "metadata": {
      "needs_background": "light"
     },
     "output_type": "display_data"
    }
   ],
   "source": [
    "import matplotlib.pyplot as plt\n",
    "import numpy as np\n",
    "\n",
    "##Now printing the conceptual model figure:\n",
    "\n",
    "fig = plt.figure(figsize=(14, 9))\n",
    "ax = fig.add_subplot(1,1,1)\n",
    "#sky\n",
    "sky = plt.Rectangle((-10,0), width = 110, height = 3, fc = 'b', zorder=0, alpha=0.1)\n",
    "ax.add_patch(sky)\n",
    "\n",
    "#Aquifer:\n",
    "ground = plt.Rectangle((-10,-25), width = 110, height = 25, fc = np.array([209,179,127])/255, zorder=0, alpha=0.9)\n",
    "ax.add_patch(ground)\n",
    "\n",
    "#Confining bed:\n",
    "confining_unit = plt.Rectangle((-10,-18), width = 110, height = 18, fc = np.array([100,100,100])/255, zorder=0, alpha=0.7)\n",
    "ax.add_patch(confining_unit)\n",
    "well = plt.Rectangle((-2,-25), width = 4, height = 25, fc = np.array([200,200,200])/255, zorder=1)\n",
    "ax.add_patch(well)\n",
    "\n",
    "#Wellhead\n",
    "wellhead = plt.Rectangle((-2.5,0),width = 5, height = 1.5, fc = np.array([200,200,200])/255, zorder=2, ec='k')\n",
    "ax.add_patch(wellhead)\n",
    "\n",
    "#Screen for the well:\n",
    "screen = plt.Rectangle((-2,-25), width = 4, height = 7, fc = np.array([200,200,200])/255, alpha=1, zorder = 2, ec = \"k\", ls = '--')\n",
    "screen.set_linewidth(2)\n",
    "ax.add_patch(screen)\n",
    "pumping_arrow = plt.Arrow(x = 2.5,y = 0.75, dx = 4, dy = 0, color = \"#00035b\")\n",
    "ax.add_patch(pumping_arrow)\n",
    "ax.text(x = 6.5, y = 0.75, s = r'$ Q = 788 \\frac{m^3}{d}$', fontsize = 'large')\n",
    "#Piezometers\n",
    "piez1 = plt.Rectangle((29,-25), width = 2, height = 25,fc = np.array([200,200,200])/255, zorder=1)\n",
    "piez2 = plt.Rectangle((89,-25), width = 2, height = 25,fc = np.array([200,200,200])/255, zorder=1)\n",
    "screen_piez_1 = plt.Rectangle((29,-25), width = 2, height = 7, fc = np.array([200,200,200])/255, alpha=1, zorder = 2, ec = \"k\", ls = '--')\n",
    "screen_piez_1.set_linewidth(2)\n",
    "screen_piez_2 = plt.Rectangle((89,-25), width = 2, height = 7, fc = np.array([200,200,200])/255, alpha=1, zorder = 2, ec = \"k\", ls = '--')\n",
    "screen_piez_2.set_linewidth(2)\n",
    "ax.add_patch(piez1)\n",
    "ax.add_patch(piez2)\n",
    "ax.add_patch(screen_piez_1)\n",
    "ax.add_patch(screen_piez_2)\n",
    "#last line\n",
    "line = plt.Line2D(xdata= [-10,100], ydata = [0,0], color = \"k\")\n",
    "ax.add_line(line)\n",
    "ax.text(x = 30, y = 0.75, s = 'P30', fontsize = 'large' )\n",
    "ax.text(x = 90, y = 0.75, s = 'P90', fontsize = 'large' )\n",
    "ax.set_xlim([-10,100])\n",
    "ax.set_ylim([-25,3]);"
=======
    "In this example we will analyse the pumping test data from Oude Korendijk (Kruseman and de Ridder, 1970). This is a polder area south of Rotterdam, the Netherlands. The stratigraphy can be summarised by:\n",
    "* the presence in the first 18 m depth of a impermeable layer,\n",
    "* followed by a 7 m succession of coarse gravel and sands, which are considered as the aquifer layer,\n",
    "* and finally a layer of fine sands and clayey sediments that are deemed impermeable.\n",
    "\n",
    "The well screen was placed at the whole thickness of the aquifer. Drawdowns were taken from piezometers installed 30 and 90 m away from the well. Pumping at the well has been taken with constant discharge of 788 m3/d for almost 14 hours.\n",
    "\n",
    "The conceptual model of the area is a single layer confined aquifer located at 18 m below surface and 7 m thickness. At $t=0$ pumping starts at constant discharge of 788 m3/d and drawdowns are recorded at two piezometers, 30 and 90 meters away, respectively. The figure below summarises the conceptualization of the problem\n",
    "\n",
    "![Conceptual Model](figures/nb_01_conc_model.png)"
>>>>>>> 58828e186cd9ca8d561622448037390a6d10b392:docs/04pumpingtests/confined1_oude_korendijk.ipynb
   ]
  },
  {
   "cell_type": "markdown",
   "metadata": {},
   "source": [
    "## Step 1: Loading libraries"
   ]
  },
  {
   "cell_type": "code",
<<<<<<< HEAD:pumpingtest_benchmarks/confined1_oude_korendijk.ipynb
   "execution_count": 2,
=======
   "execution_count": 35,
>>>>>>> 58828e186cd9ca8d561622448037390a6d10b392:docs/04pumpingtests/confined1_oude_korendijk.ipynb
   "metadata": {},
   "outputs": [],
   "source": [
    "import numpy as np\n",
    "import matplotlib.pyplot as plt\n",
<<<<<<< HEAD:pumpingtest_benchmarks/confined1_oude_korendijk.ipynb
    "from ttim import *\n",
    "import pandas as pd"
=======
    "import pandas as pd\n",
    "import ttim"
>>>>>>> 58828e186cd9ca8d561622448037390a6d10b392:docs/04pumpingtests/confined1_oude_korendijk.ipynb
   ]
  },
  {
   "cell_type": "markdown",
   "metadata": {},
   "source": [
    "## Step 2: Setting basic parameters for the model"
   ]
  },
  {
   "cell_type": "code",
<<<<<<< HEAD:pumpingtest_benchmarks/confined1_oude_korendijk.ipynb
   "execution_count": 3,
   "metadata": {},
   "outputs": [],
   "source": [
    "H = 7 #aquifer thickness in meters\n",
    "zt = -18 #top boundary of aquifer (m)\n",
    "zb = zt - H #bottom boundary of aquifer (m)\n",
    "Q = 788 #constant discharge m3/d"
=======
   "execution_count": 36,
   "metadata": {},
   "outputs": [],
   "source": [
    "H = 7  # aquifer thickness in meters\n",
    "zt = -18  # top boundary of aquifer (m)\n",
    "zb = zt - H  # bottom boundary of aquifer (m)\n",
    "Q = 788  # constant discharge m3/d"
>>>>>>> 58828e186cd9ca8d561622448037390a6d10b392:docs/04pumpingtests/confined1_oude_korendijk.ipynb
   ]
  },
  {
   "cell_type": "markdown",
   "metadata": {},
   "source": [
<<<<<<< HEAD:pumpingtest_benchmarks/confined1_oude_korendijk.ipynb
    "<a id='step_3'></a>\n",
=======
>>>>>>> 58828e186cd9ca8d561622448037390a6d10b392:docs/04pumpingtests/confined1_oude_korendijk.ipynb
    "## Step 3: Creating a TTim conceptual model\n",
    "\n",
    "In this example, we are using the ModelMaq model to conceptualize our aquifer. ModelMaq defines the aquifer system as a stacked vertical sequence of aquifers and leaky layers (aquifer-leaky layer, aquifer-leaky layer, etc). Aquifers are conceptualized as having no vertical resistance (Dupuit approximation), with constant hydraulic conductivity and storage. Aquitard layers are approximated as having only vertical flow. They are characterized by the parameter resistance to vertical flow and by having no storage.\n",
    "\n",
    "In the model construction, we have to set the parameters for each layer (which consists of an aquifer layer and an aquitard layer).\n",
    "\n",
<<<<<<< HEAD:pumpingtest_benchmarks/confined1_oude_korendijk.ipynb
    "For our one-layer model we have to set:\n",
    "\n",
    "- The hydraulic conductivity: ```kaq``` this is a list/array with a float element for every aquifer, for example: ```[kaq0,kaq1]```. We can also set a float value, in this case, the same ```kaq``` is assumed for every layer.\n",
    "- The top and bottom of each aquifer: ```z``` defined by a list/array ```[zt0,zb0,zt1,zb1,...]```, where the inputs are a sequence of top and bottoms of the aquifer layers.\n",
    "- The specific storage: ```Saq```. The input is a list/array with a float element for every aquifer, for example: ```[Saq0, Saq1]```. We can also set a float value. In this case, the same ```Saq``` is assumed for every layer.\n",
    "- The minimum time for which TTim solve the groundwater flow: ```tmin```, a float.\n",
    "- And the maximum time: ```tmax```, float.\n",
    "\n",
    "Optional parameters:\n",
    "\n",
    "- TTim automatically assumes the ```topboundary``` is confined (```topboundary = 'conf'```).  If we assign: ```topboundary = 'semi'``` This means that we assume the layer on top of the uppermost aquifer is a leaky layer, and we must also characterize it. Thus, even though we have only one aquifer, we have to set an additional element to the ```z``` array, which is the top of the aquitard formation:\n",
    "\n",
    "    * For example: ```z = [0,zt,zb]```. 0 is the depth of the aquitard overlying the aquifer, ```zt``` and ```zb``` are the top and bottom of the aquifer. \n",
    "\n",
    "    * We would also specify the leaky-layer parameters ```c``` and ```Sll``` (see below). \n",
    "\n",
    "- ```phreatictop```: Is a boolean (True/False). If ```True```, the first element in ```Saq``` is considered phreatic storage (Specific Yield) and it is not multiplied by the layer thickness. The default value is ```False``` in ```ModelMaq```. Generally, this parameter is set to ```True``` only in unconfined aquifers.\n",
    "\n",
    "In case of more than one layer model, or when ```topboundary = 'semi'```, we would also have to set the resistance to vertical flow ```c```, and the storage ```Sll``` of the aquitard portions. An example of this configuration can be seen in the notebook [Confined 4 - Schroth](confined4_schroth.ipynb)\n",
    "\n",
    "To represent our pumping well, we will use the ```Well``` feature.\n",
    "\n",
    "Wells, in TTim, are features with specified discharge. The well may be screened in multiple layers. In case the screen is in more than one layer, TTim distributes the discharge across the layers such that the head inside the well is the same in all screened layers. The wellbore storage and skin effect may be taken into account.\n",
    "\n",
    "The discharge of the well acting on layer $n$ is computed inside TTim with the expression (Bakker, 2013):\n",
    "\n",
    "$$ Q_n = 2\\pi r_wH_n\\frac{h_n-h_w}{c_e} $$\n",
    "\n",
    "where, $Q_n$ is the discharge at layer $n$, which is a positive value for water being pumped, $r_w$ is the radius of the well, $H_n$ is the layer thickness, $h_n$ is the head just outside the well, and $h_w$ is the head inside the well. $c_e$ is the entry resistance that can be defined in TTim by the skin resistance of the well (see notebook [Confined 2 - Grindley](confined2_grindley.ipynb) for more details)\n",
    "\n",
    "For the well we have to set:\n",
    "- The TTim model: ```ml``` where the well is added to\n",
    "- The x and y location: ```xw, yw```, floats\n",
    "- The pumping scheme is defined by a list (```tsandQ```) where each element is a tuple representing a new stress condition with the starting time and the discharge rate, in our case: ```(0, Q)``` meaning that pumping begins at t = 0 with pumping rate Q\n",
    "- The layers where it is screened: ```layers```. This argument can be set as an integer (one layer) or a list/array of integers (multi-screen well).\n",
    "\n",
    "Optional parameters for the ```Well``` object are:\n",
    "- The well radius: ```rw```, a float, if not specified a value of 0.1 m is assumed.\n",
    "- the skin resistance of the well: ```res```. If not specified, it is set to 0. An example of setting up the skin resistance is seen in the notebook : [Confined 2 - Grindley](confined2_grindley.ipynb).\n",
    "- The radius of the caisson: ```rc```. The radius of the caisson is the parameter used to account for wellbore storage in the simulation. If not specified, this value is set to ```None```  and TTim will ignore wellbore storage. TTim considers the wellbore storage by solving the water balance inside the well with the expression (Bakker, 2013):\n",
    "$$\\pi r_c^2 \\frac{dh_w}{dt} = \\sum_nQ_n-Q_w $$\n",
    "where: $Q_n$ and $Q_w$ are the inflows and outflows in the well, $h_w$ is the head inside the well and $r_c$ is the radius of the caisson.\n",
    "\n",
    "\n"
=======
    "For our one layer model we have to set:\n",
    "\n",
    "- The hydraulic conductivity: ```kaq``` (We will first assume a value of 60 m/d, but will later calibrate it with the pumping data). This can be a float or a list/array, depending on the number of layers, see notebook (***multi-aquifer notebook reference***).\n",
    "- The top and bottom of the aquifer: ```z``` defined by a list ```[zt,zb]```. This construction is slightly different in multi-aquifer configurations, as can be seen in notebook (***multi-aquifer notebook reference***).\n",
    "- The specific storage: ```Saq```, a float or list/array which will also be calibrated later. Again, defined for each aquifer layer.\n",
    "- The minimum time for which TTim solve the groundwater flow: ```tmin```, a float.\n",
    "- And the maximum time: ```tmax```, float.\n",
    "\n",
    "In case of more than one layer model we would also have to set the resistance to vertical flow ```c``` of the aquitard portions. An example of this configuration can be seen in the notebook (***Insert the reference to multi-layer benchmark***)\n",
    "\n",
    "To represent our pumping well, we will use the ```Well``` feature.\n",
    "For the well we have to set:\n",
    "- The TTim model: ```ml``` where it is placed\n",
    "- The x and y location: ```xw, yw```, floats\n",
    "- The pumping scheme defined by a list (```tsandQ```) where each element is a tuple representing a new stress condition with the starting time and the discharge rate, in our case: ```(0,Q)``` meaning that pumping begins at t = 0 with pumping rate Q\n",
    "- The layers where it is screened: ```layers```, which can be set as an integer (one layer) or a list of integers (multi-screen well)."
>>>>>>> 58828e186cd9ca8d561622448037390a6d10b392:docs/04pumpingtests/confined1_oude_korendijk.ipynb
   ]
  },
  {
   "cell_type": "code",
<<<<<<< HEAD:pumpingtest_benchmarks/confined1_oude_korendijk.ipynb
   "execution_count": 4,
   "metadata": {},
   "outputs": [],
   "source": [
    "#unkonwn parameters: kaq, Saq\n",
    "ml = ModelMaq(kaq=60, z=[zt, zb], Saq=1e-4, tmin=1e-5, tmax=1)\n",
    "w = Well(ml, xw=0, yw=0, rw=0.2, tsandQ=[(0, Q)], layers=0)\n",
=======
   "execution_count": 37,
   "metadata": {},
   "outputs": [],
   "source": [
    "# unkonwn parameters: kaq, Saq\n",
    "ml = ttim.ModelMaq(kaq=60, z=[zt, zb], Saq=1e-4, tmin=1e-5, tmax=1)\n",
    "w = ttim.Well(ml, xw=0, yw=0, rw=0.2, tsandQ=[(0, Q)], layers=0)\n",
>>>>>>> 58828e186cd9ca8d561622448037390a6d10b392:docs/04pumpingtests/confined1_oude_korendijk.ipynb
    "\n",
    "# Here we are setting everything in meters for length and days for time"
   ]
  },
  {
   "cell_type": "markdown",
   "metadata": {},
   "source": [
    "The last step in our model creation is to \"solve\" the model:"
   ]
  },
  {
   "cell_type": "code",
<<<<<<< HEAD:pumpingtest_benchmarks/confined1_oude_korendijk.ipynb
   "execution_count": 5,
   "metadata": {},
   "outputs": [],
   "source": [
    "ml.solve(silent='True')"
=======
   "execution_count": 38,
   "metadata": {},
   "outputs": [],
   "source": [
    "ml.solve(silent=\"True\")"
>>>>>>> 58828e186cd9ca8d561622448037390a6d10b392:docs/04pumpingtests/confined1_oude_korendijk.ipynb
   ]
  },
  {
   "cell_type": "markdown",
   "metadata": {},
   "source": [
    "## Step 4: Load data of two observation wells:"
   ]
  },
  {
   "cell_type": "markdown",
   "metadata": {},
   "source": [
    "The preferred method of loading data into TTim is to use numpy arrays.\n",
    "\n",
    "The data is in a text file where the first column is the time data in ***minutes*** and the second column is the drawdown in ***meters***\n",
    "\n",
<<<<<<< HEAD:pumpingtest_benchmarks/confined1_oude_korendijk.ipynb
    "We load the data as a numpy array for each piezometer. We then separate time and drawdown into two different 1d arrays. We also convert time data from minutes to days"
=======
    "For each piezometer we will load the data as a numpy array and create separate time from drawdown into two different 1d arrays. Time data will also be converted from minutes to days"
>>>>>>> 58828e186cd9ca8d561622448037390a6d10b392:docs/04pumpingtests/confined1_oude_korendijk.ipynb
   ]
  },
  {
   "cell_type": "code",
<<<<<<< HEAD:pumpingtest_benchmarks/confined1_oude_korendijk.ipynb
   "execution_count": 6,
   "metadata": {},
   "outputs": [],
   "source": [
    "#time and drawdown of piezometer 30m away from pumping well\n",
    "data1 = np.loadtxt('data/piezometer_h30.txt', skiprows = 1)\n",
    "t1 = data1[:, 0] / 60 / 24 #convert min to days\n",
    "h1 = data1[:, 1]\n",
    "r1 = 30\n",
    "#time and drawdown of piezometer 90m away from pumping well\n",
    "data2 = np.loadtxt('data/piezometer_h90.txt', skiprows = 1)\n",
    "t2 = data2[:, 0] / 60 / 24 #convert min to days\n",
=======
   "execution_count": 39,
   "metadata": {},
   "outputs": [],
   "source": [
    "# time and drawdown of piezometer 30m away from pumping well\n",
    "data1 = np.loadtxt(\"data/piezometer_h30.txt\", skiprows=1)\n",
    "t1 = data1[:, 0] / 60 / 24  # convert min to days\n",
    "h1 = data1[:, 1]\n",
    "r1 = 30\n",
    "# time and drawdown of piezometer 90m away from pumping well\n",
    "data2 = np.loadtxt(\"data/piezometer_h90.txt\", skiprows=1)\n",
    "t2 = data2[:, 0] / 60 / 24  # convert min to days\n",
>>>>>>> 58828e186cd9ca8d561622448037390a6d10b392:docs/04pumpingtests/confined1_oude_korendijk.ipynb
    "h2 = data2[:, 1]\n",
    "r2 = 90"
   ]
  },
  {
   "cell_type": "markdown",
   "metadata": {},
   "source": [
    "## Step 5: Calibration"
   ]
  },
  {
   "cell_type": "markdown",
   "metadata": {},
   "source": [
<<<<<<< HEAD:pumpingtest_benchmarks/confined1_oude_korendijk.ipynb
    "Model Calibration is done in TTim using the ```Calibrate``` object. TTim calibrates the parameters by minimizing an objective function using a non-linear least-squares fitting algorithm. The objective function used is the sum of the squares of the residuals calculated as:\n",
    "\n",
    "$$\\sum_n (h_o - h_c)^2$$,\n",
    "\n",
    "where $h_0$ is the observed heads and $h_c$ is the calculated heads by the model.\n",
    "\n",
    "and TTim uses ```lmfit```, a python package for non-linear least-squares minimization (Newville et al. 2014), to find the optimal parameters that minimize the residuals.\n",
    "\n",
    "For the calibration of our groundwater model, we proceed by creating a calibration object with the ```Calibrate``` class. The ```Calibrate``` object takes the model ```ml``` as argument.\n",
=======
    "For the calibration of our groundwater model we proceed by creating a calibration object with the ```Calibrate``` class. The ```Calibrate``` object takes the model ```ml``` as argument.\n",
>>>>>>> 58828e186cd9ca8d561622448037390a6d10b392:docs/04pumpingtests/confined1_oude_korendijk.ipynb
    "We then set the parameters we are adjusting:\n",
    "- Hydraulic conductivity: ```kaq0``` (Hydraulic conductivity of layer 0)\n",
    "- Specific Storage ```Saq0``` (Specific Storage of layer 0)\n",
    "\n",
    "with the ```.set_parameter``` method.\n",
    "\n",
    "- ```.set_parameter``` takes two arguments:\n",
<<<<<<< HEAD:pumpingtest_benchmarks/confined1_oude_korendijk.ipynb
    "- ```name``` is the parameter name, a string, where the letters define the parameter. The possible values are \"kaq\", \"Saq\" or 'c', and they represent hydraulic conductivity, Specific storage and resistance to vertical flow, respectively. The letters are followed by a number, that define the layer of that parameter. For the example ```\"kaq0\"``` means the hydraulic conductivity of the layer 0. In our multilayer model we can extend the numbering to adjust one parameters for various layers in that case, we write the number of the first layer followed by a underline \"_\" and the number of the last layer, for example ```kaq0_1```, which means the hydraulic conductivity for layers 0 to 1\n",
    "    - ```initial```is the initial guess value for the fitting algorithm.\n",
    "\n",
    "We can also add the optional parameters:\n",
    "- ```pmin``` and ```pmax```, which are floats that define the minimum and maximum possible values for the parameter. If not set, TTim assume their values are -inf and inf, respectively.\n",
    "\n",
    "The other method for adjusting parameters, ```.set_parameter_by_reference``` is later explained in [step 6.3](#step_6_3).\n",
=======
    "- ```name``` is the parameter name, a string, where the letters define the parameter. The possible values are \"kaq\", \"Saq\" or 'c', and they represent hydraulic conductivity, Specific storage and resistance to vertical flow, respectively. The letters are followed by a number, that define the layer of that parameter. For the example ```\"kaq0\"``` means the hydraulic conductivity of the layer 0.\n",
    "    - ```initial```is the initial guess value for the fitting algorithmn.\n",
    "\n",
    "We can also add the optional parameters:\n",
    "- ```pmin``` and ```pmax```, which are floats that define the minimum and maximum possible values for the parameter.\n",
>>>>>>> 58828e186cd9ca8d561622448037390a6d10b392:docs/04pumpingtests/confined1_oude_korendijk.ipynb
    "\n",
    "We add the observation data using the ```.series``` method. The arguments are:\n",
    " - ```name```: string with the observation name\n",
    " - ```x``` and ```y```: float positions of the observation\n",
    " - ```t```: the array of observation times\n",
    " - ```h```: the array of observed drawdowns\n",
    " - ```layer```: integer. The layer of the observation (0 indexed)\n"
   ]
  },
  {
   "cell_type": "markdown",
   "metadata": {},
   "source": [
<<<<<<< HEAD:pumpingtest_benchmarks/confined1_oude_korendijk.ipynb
    "<a id='step_5_1'></a>\n",
=======
>>>>>>> 58828e186cd9ca8d561622448037390a6d10b392:docs/04pumpingtests/confined1_oude_korendijk.ipynb
    "### Step 5.1: Calibration with Observation from Piezometer 1 (30 m from well)\n",
    "\n",
    "We begin calibrating using only the data from observation 1:"
   ]
  },
  {
   "cell_type": "code",
<<<<<<< HEAD:pumpingtest_benchmarks/confined1_oude_korendijk.ipynb
   "execution_count": 7,
   "metadata": {},
   "outputs": [],
   "source": [
    "ca1 = Calibrate(ml) # Calibrate object\n",
    "ca1.set_parameter(name = 'kaq0', initial=10) # Setting parameters\n",
    "ca1.set_parameter(name = 'Saq0', initial=1e-4)\n",
    "ca1.series(name = 'obs1', x=r1, y=0, t=t1, h=h1, layer=0) # Adding observations\n"
=======
   "execution_count": 40,
   "metadata": {},
   "outputs": [],
   "source": [
    "ca1 = ttim.Calibrate(ml)  # Calibrate object\n",
    "ca1.set_parameter(name=\"kaq0\", initial=10)  # Setting parameters\n",
    "ca1.set_parameter(name=\"Saq0\", initial=1e-4)\n",
    "ca1.series(name=\"obs1\", x=r1, y=0, t=t1, h=h1, layer=0)  # Adding observations"
>>>>>>> 58828e186cd9ca8d561622448037390a6d10b392:docs/04pumpingtests/confined1_oude_korendijk.ipynb
   ]
  },
  {
   "cell_type": "markdown",
   "metadata": {},
   "source": [
<<<<<<< HEAD:pumpingtest_benchmarks/confined1_oude_korendijk.ipynb
    "The ```fit``` method is used to run the least-squares algorithm (```lmfit```) for finding the optimal parameter values:"
=======
    "The ```fit``` method is used to run the least-squares algorithmn for finding the optimal parameter values:"
>>>>>>> 58828e186cd9ca8d561622448037390a6d10b392:docs/04pumpingtests/confined1_oude_korendijk.ipynb
   ]
  },
  {
   "cell_type": "code",
<<<<<<< HEAD:pumpingtest_benchmarks/confined1_oude_korendijk.ipynb
   "execution_count": 8,
=======
   "execution_count": 41,
>>>>>>> 58828e186cd9ca8d561622448037390a6d10b392:docs/04pumpingtests/confined1_oude_korendijk.ipynb
   "metadata": {},
   "outputs": [
    {
     "name": "stdout",
     "output_type": "stream",
     "text": [
      ".........................\n",
      "Fit succeeded.\n",
      "[[Fit Statistics]]\n",
      "    # fitting method   = leastsq\n",
      "    # function evals   = 22\n",
      "    # data points      = 34\n",
      "    # variables        = 2\n",
      "    chi-square         = 0.03408049\n",
      "    reduced chi-square = 0.00106502\n",
<<<<<<< HEAD:pumpingtest_benchmarks/confined1_oude_korendijk.ipynb
      "    Akaike info crit   = -230.783283\n",
      "    Bayesian info crit = -227.730562\n",
      "[[Variables]]\n",
      "    kaq0:  68.6394617 +/- 1.43827751 (2.10%) (init = 10)\n",
=======
      "    Akaike info crit   = -230.783289\n",
      "    Bayesian info crit = -227.730568\n",
      "[[Variables]]\n",
      "    kaq0:  68.6394868 +/- 1.43827068 (2.10%) (init = 10)\n",
>>>>>>> 58828e186cd9ca8d561622448037390a6d10b392:docs/04pumpingtests/confined1_oude_korendijk.ipynb
      "    Saq0:  1.6072e-05 +/- 1.5823e-06 (9.85%) (init = 0.0001)\n",
      "[[Correlations]] (unreported correlations are < 0.100)\n",
      "    C(kaq0, Saq0) = -0.891\n"
     ]
    }
   ],
   "source": [
<<<<<<< HEAD:pumpingtest_benchmarks/confined1_oude_korendijk.ipynb
    "ca1.fit(report = True) # Fitting the model. We can hide the message below setting report = False"
=======
    "ca1.fit(\n",
    "    report=True\n",
    ")  # Fitting the model. We can hide the message below setting report = False"
>>>>>>> 58828e186cd9ca8d561622448037390a6d10b392:docs/04pumpingtests/confined1_oude_korendijk.ipynb
   ]
  },
  {
   "cell_type": "markdown",
   "metadata": {},
   "source": [
    "The optimal parameters and their related fit statistics are saved inside the ```Calibrate``` object as a DataFrame in the ```.parameters``` attribute:"
   ]
  },
  {
   "cell_type": "code",
<<<<<<< HEAD:pumpingtest_benchmarks/confined1_oude_korendijk.ipynb
   "execution_count": 9,
=======
   "execution_count": 42,
>>>>>>> 58828e186cd9ca8d561622448037390a6d10b392:docs/04pumpingtests/confined1_oude_korendijk.ipynb
   "metadata": {},
   "outputs": [
    {
     "data": {
      "text/html": [
       "<div>\n",
       "<style scoped>\n",
       "    .dataframe tbody tr th:only-of-type {\n",
       "        vertical-align: middle;\n",
       "    }\n",
       "\n",
       "    .dataframe tbody tr th {\n",
       "        vertical-align: top;\n",
       "    }\n",
       "\n",
       "    .dataframe thead th {\n",
       "        text-align: right;\n",
       "    }\n",
       "</style>\n",
       "<table border=\"1\" class=\"dataframe\">\n",
       "  <thead>\n",
       "    <tr style=\"text-align: right;\">\n",
       "      <th></th>\n",
       "      <th>optimal</th>\n",
       "      <th>std</th>\n",
       "      <th>perc_std</th>\n",
       "      <th>pmin</th>\n",
       "      <th>pmax</th>\n",
       "      <th>initial</th>\n",
       "      <th>parray</th>\n",
       "    </tr>\n",
       "  </thead>\n",
       "  <tbody>\n",
       "    <tr>\n",
       "      <th>kaq0</th>\n",
<<<<<<< HEAD:pumpingtest_benchmarks/confined1_oude_korendijk.ipynb
       "      <td>68.639462</td>\n",
       "      <td>1.438278</td>\n",
       "      <td>2.095409</td>\n",
       "      <td>-inf</td>\n",
       "      <td>inf</td>\n",
       "      <td>10</td>\n",
       "      <td>[68.63946173341039]</td>\n",
       "    </tr>\n",
       "    <tr>\n",
       "      <th>Saq0</th>\n",
       "      <td>0.000016</td>\n",
       "      <td>0.000002</td>\n",
       "      <td>9.845167</td>\n",
       "      <td>-inf</td>\n",
       "      <td>inf</td>\n",
       "      <td>0.0001</td>\n",
       "      <td>[1.6071685893225147e-05]</td>\n",
=======
       "      <td>68.6395</td>\n",
       "      <td>1.438271</td>\n",
       "      <td>2.0954</td>\n",
       "      <td>-inf</td>\n",
       "      <td>inf</td>\n",
       "      <td>10</td>\n",
       "      <td>[68.63948675671419]</td>\n",
       "    </tr>\n",
       "    <tr>\n",
       "      <th>Saq0</th>\n",
       "      <td>1.60717e-05</td>\n",
       "      <td>0.000002</td>\n",
       "      <td>9.84519</td>\n",
       "      <td>-inf</td>\n",
       "      <td>inf</td>\n",
       "      <td>0.0001</td>\n",
       "      <td>[1.6071655613732773e-05]</td>\n",
>>>>>>> 58828e186cd9ca8d561622448037390a6d10b392:docs/04pumpingtests/confined1_oude_korendijk.ipynb
       "    </tr>\n",
       "  </tbody>\n",
       "</table>\n",
       "</div>"
      ],
      "text/plain": [
<<<<<<< HEAD:pumpingtest_benchmarks/confined1_oude_korendijk.ipynb
       "        optimal       std  perc_std  pmin  pmax initial  \\\n",
       "kaq0  68.639462  1.438278  2.095409  -inf   inf      10   \n",
       "Saq0   0.000016  0.000002  9.845167  -inf   inf  0.0001   \n",
       "\n",
       "                        parray  \n",
       "kaq0       [68.63946173341039]  \n",
       "Saq0  [1.6071685893225147e-05]  "
      ]
     },
     "execution_count": 9,
=======
       "          optimal       std perc_std  pmin  pmax initial  \\\n",
       "kaq0      68.6395  1.438271   2.0954  -inf   inf      10   \n",
       "Saq0  1.60717e-05  0.000002  9.84519  -inf   inf  0.0001   \n",
       "\n",
       "                        parray  \n",
       "kaq0       [68.63948675671419]  \n",
       "Saq0  [1.6071655613732773e-05]  "
      ]
     },
     "execution_count": 42,
>>>>>>> 58828e186cd9ca8d561622448037390a6d10b392:docs/04pumpingtests/confined1_oude_korendijk.ipynb
     "metadata": {},
     "output_type": "execute_result"
    }
   ],
   "source": [
    "ca1.parameters"
   ]
  },
  {
   "cell_type": "markdown",
   "metadata": {},
   "source": [
    "The calibration RMSE can be accessed with the ```.rmse``` method:"
   ]
  },
  {
   "cell_type": "code",
<<<<<<< HEAD:pumpingtest_benchmarks/confined1_oude_korendijk.ipynb
   "execution_count": 10,
=======
   "execution_count": 43,
>>>>>>> 58828e186cd9ca8d561622448037390a6d10b392:docs/04pumpingtests/confined1_oude_korendijk.ipynb
   "metadata": {
    "scrolled": true
   },
   "outputs": [
    {
     "name": "stdout",
     "output_type": "stream",
     "text": [
<<<<<<< HEAD:pumpingtest_benchmarks/confined1_oude_korendijk.ipynb
      "rmse: 0.03166018620686625\n"
=======
      "rmse: 0.031660183647463674\n"
>>>>>>> 58828e186cd9ca8d561622448037390a6d10b392:docs/04pumpingtests/confined1_oude_korendijk.ipynb
     ]
    }
   ],
   "source": [
<<<<<<< HEAD:pumpingtest_benchmarks/confined1_oude_korendijk.ipynb
    "print('rmse:', ca1.rmse())"
=======
    "print(\"rmse:\", ca1.rmse())"
>>>>>>> 58828e186cd9ca8d561622448037390a6d10b392:docs/04pumpingtests/confined1_oude_korendijk.ipynb
   ]
  },
  {
   "cell_type": "markdown",
   "metadata": {},
   "source": [
<<<<<<< HEAD:pumpingtest_benchmarks/confined1_oude_korendijk.ipynb
    "Finally, we can access the model drawdowns by asking the calibrated model to compute the heads at the well location and time intervals specified by the sampled data.\n",
    "\n",
    "For this, we use the ```.head``` method in the model object, in our case, ```ml```.\n",
=======
    "Finally, we can access the model drawdowns by asking for the calibrated model to compute the heads at the well location and time intervals specified by the sampled data.\n",
    "\n",
    "For this we use the ```.head``` method in the model object, in our case, ```ml```.\n",
>>>>>>> 58828e186cd9ca8d561622448037390a6d10b392:docs/04pumpingtests/confined1_oude_korendijk.ipynb
    "\n",
    "The arguments are:\n",
    "* the positions ```x``` and ```y``` of the piezometric well (or any other point of interest). In our case, our well is located at position ```x= r1``` and ```y = 0```.\n",
    "* the time intervals, defined by the numpy array ```t```, for the computation of the heads. In our case, this is defined by the variable ```t1```.\n",
    "\n",
<<<<<<< HEAD:pumpingtest_benchmarks/confined1_oude_korendijk.ipynb
    "* Another optional input is ```layers```, which can be a list, integer or an array defining the model layers. When we do not assign anything, the head is computed for all layers.\n",
    "\n",
    "The output is a numpy array with dimensions ```(nl,nt)```, where ```nl``` is the number of layers and ```nt``` is the number of time intervals.\n"
=======
    "* Another optional inputs is ```layers```, that can be a list, integer or an array defining the model layers that shall be computed. For our case, we will not define anything, and TTim will compute for all layers (just one layer model).\n",
    "\n",
    "The output is a numpy array with dimensions ```(nl,nt)```, where ```nl``` is the number of layers and ```nt``` is the number of time intervals"
>>>>>>> 58828e186cd9ca8d561622448037390a6d10b392:docs/04pumpingtests/confined1_oude_korendijk.ipynb
   ]
  },
  {
   "cell_type": "code",
<<<<<<< HEAD:pumpingtest_benchmarks/confined1_oude_korendijk.ipynb
   "execution_count": 11,
=======
   "execution_count": 44,
>>>>>>> 58828e186cd9ca8d561622448037390a6d10b392:docs/04pumpingtests/confined1_oude_korendijk.ipynb
   "metadata": {},
   "outputs": [
    {
     "data": {
      "text/plain": [
       "(1, 34)"
      ]
     },
<<<<<<< HEAD:pumpingtest_benchmarks/confined1_oude_korendijk.ipynb
     "execution_count": 11,
=======
     "execution_count": 44,
>>>>>>> 58828e186cd9ca8d561622448037390a6d10b392:docs/04pumpingtests/confined1_oude_korendijk.ipynb
     "metadata": {},
     "output_type": "execute_result"
    }
   ],
   "source": [
<<<<<<< HEAD:pumpingtest_benchmarks/confined1_oude_korendijk.ipynb
    "hm1 = ml.head(x = r1, y = 0, t = t1) #Using the head method to calculate model resuts\n",
    "hm1.shape #Demonstration of the output shape"
=======
    "hm1 = ml.head(x=r1, y=0, t=t1)  # Using the head method to calculate model resuts\n",
    "hm1.shape  # Demonstration of the output shape"
>>>>>>> 58828e186cd9ca8d561622448037390a6d10b392:docs/04pumpingtests/confined1_oude_korendijk.ipynb
   ]
  },
  {
   "cell_type": "markdown",
   "metadata": {},
   "source": [
<<<<<<< HEAD:pumpingtest_benchmarks/confined1_oude_korendijk.ipynb
    "### Plotting the model Results"
=======
    "#### Plotting the model Results"
>>>>>>> 58828e186cd9ca8d561622448037390a6d10b392:docs/04pumpingtests/confined1_oude_korendijk.ipynb
   ]
  },
  {
   "cell_type": "code",
<<<<<<< HEAD:pumpingtest_benchmarks/confined1_oude_korendijk.ipynb
   "execution_count": 12,
=======
   "execution_count": 45,
>>>>>>> 58828e186cd9ca8d561622448037390a6d10b392:docs/04pumpingtests/confined1_oude_korendijk.ipynb
   "metadata": {},
   "outputs": [
    {
     "data": {
<<<<<<< HEAD:pumpingtest_benchmarks/confined1_oude_korendijk.ipynb
      "image/png": "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\n",
=======
      "image/png": "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",
>>>>>>> 58828e186cd9ca8d561622448037390a6d10b392:docs/04pumpingtests/confined1_oude_korendijk.ipynb
      "text/plain": [
       "<Figure size 720x504 with 1 Axes>"
      ]
     },
     "metadata": {
      "needs_background": "light"
     },
     "output_type": "display_data"
    }
   ],
   "source": [
<<<<<<< HEAD:pumpingtest_benchmarks/confined1_oude_korendijk.ipynb
    "#matplotlib plot for calibration, \n",
    "plt.figure(figsize=(10, 7))\n",
    "plt.semilogx(t1, h1, '.', label='obs at 30 m') #Plotting the observed drawdown\n",
    "plt.semilogx(t1, hm1[0], label='ttim at 30 m') #Simulated drawdown\n",
    "plt.xlabel('time [d]')\n",
    "plt.ylabel('drawdown [m]')\n",
    "plt.title('ttim analysis for Oude Korendijk - Piezometer 30 m')\n",
=======
    "# matplotlib plot for calibration,\n",
    "plt.figure(figsize=(10, 7))\n",
    "plt.semilogx(t1, h1, \".\", label=\"obs at 30 m\")  # Plotting the observed drawdown\n",
    "plt.semilogx(t1, hm1[0], label=\"ttim at 30 m\")  # Simulated drawdown\n",
    "plt.xlabel(\"time [d]\")\n",
    "plt.ylabel(\"drawdown [m]\")\n",
    "plt.title(\"ttim analysis for Oude Korendijk - Piezometer 30 m\")\n",
>>>>>>> 58828e186cd9ca8d561622448037390a6d10b392:docs/04pumpingtests/confined1_oude_korendijk.ipynb
    "plt.legend();"
   ]
  },
  {
   "cell_type": "markdown",
   "metadata": {},
   "source": [
<<<<<<< HEAD:pumpingtest_benchmarks/confined1_oude_korendijk.ipynb
    "## Step 5.2. Calibrate model Parameters with Observation Well 2 (90 m distance)"
=======
    "### Step 5.2. Calibrate model Parameters with Observation Well 2 (90 m distance)"
>>>>>>> 58828e186cd9ca8d561622448037390a6d10b392:docs/04pumpingtests/confined1_oude_korendijk.ipynb
   ]
  },
  {
   "cell_type": "markdown",
   "metadata": {},
   "source": [
<<<<<<< HEAD:pumpingtest_benchmarks/confined1_oude_korendijk.ipynb
    "We proceed to calibrate using only the data from observation well 2. Details on the procedures can be reviewed in [***step 5.1***](#step_5_1)"
=======
    " We proceed to calibrate using only the data from observation well 2.\n",
    " This time we will rush foward through the calibration steps. If the user feels confused, one can go back and check the inputs in [***step 5.1***](#step-51-calibration-with-observation-from-piezometer-1-30-m-from-well)"
>>>>>>> 58828e186cd9ca8d561622448037390a6d10b392:docs/04pumpingtests/confined1_oude_korendijk.ipynb
   ]
  },
  {
   "cell_type": "code",
<<<<<<< HEAD:pumpingtest_benchmarks/confined1_oude_korendijk.ipynb
   "execution_count": 13,
=======
   "execution_count": 46,
>>>>>>> 58828e186cd9ca8d561622448037390a6d10b392:docs/04pumpingtests/confined1_oude_korendijk.ipynb
   "metadata": {},
   "outputs": [
    {
     "name": "stdout",
     "output_type": "stream",
     "text": [
<<<<<<< HEAD:pumpingtest_benchmarks/confined1_oude_korendijk.ipynb
      "..............................\n",
      "Fit succeeded.\n",
      "[[Fit Statistics]]\n",
      "    # fitting method   = leastsq\n",
      "    # function evals   = 27\n",
      "    # data points      = 35\n",
      "    # variables        = 2\n",
      "    chi-square         = 0.01806491\n",
      "    reduced chi-square = 5.4742e-04\n",
      "    Akaike info crit   = -260.919611\n",
      "    Bayesian info crit = -257.808915\n",
      "[[Variables]]\n",
      "    kaq0:  71.5820379 +/- 1.57397607 (2.20%) (init = 10)\n",
      "    Saq0:  2.9108e-05 +/- 1.9379e-06 (6.66%) (init = 0.0001)\n",
=======
      "...............................\n",
      "Fit succeeded.\n",
      "[[Fit Statistics]]\n",
      "    # fitting method   = leastsq\n",
      "    # function evals   = 28\n",
      "    # data points      = 35\n",
      "    # variables        = 2\n",
      "    chi-square         = 0.01806492\n",
      "    reduced chi-square = 5.4742e-04\n",
      "    Akaike info crit   = -260.919608\n",
      "    Bayesian info crit = -257.808912\n",
      "[[Variables]]\n",
      "    kaq0:  71.5831423 +/- 1.57402551 (2.20%) (init = 10)\n",
      "    Saq0:  2.9106e-05 +/- 1.9379e-06 (6.66%) (init = 0.0001)\n",
>>>>>>> 58828e186cd9ca8d561622448037390a6d10b392:docs/04pumpingtests/confined1_oude_korendijk.ipynb
      "[[Correlations]] (unreported correlations are < 0.100)\n",
      "    C(kaq0, Saq0) = -0.847\n"
     ]
    },
    {
     "data": {
      "text/html": [
       "<div>\n",
       "<style scoped>\n",
       "    .dataframe tbody tr th:only-of-type {\n",
       "        vertical-align: middle;\n",
       "    }\n",
       "\n",
       "    .dataframe tbody tr th {\n",
       "        vertical-align: top;\n",
       "    }\n",
       "\n",
       "    .dataframe thead th {\n",
       "        text-align: right;\n",
       "    }\n",
       "</style>\n",
       "<table border=\"1\" class=\"dataframe\">\n",
       "  <thead>\n",
       "    <tr style=\"text-align: right;\">\n",
       "      <th></th>\n",
       "      <th>optimal</th>\n",
       "      <th>std</th>\n",
       "      <th>perc_std</th>\n",
       "      <th>pmin</th>\n",
       "      <th>pmax</th>\n",
       "      <th>initial</th>\n",
       "      <th>parray</th>\n",
       "    </tr>\n",
       "  </thead>\n",
       "  <tbody>\n",
       "    <tr>\n",
       "      <th>kaq0</th>\n",
<<<<<<< HEAD:pumpingtest_benchmarks/confined1_oude_korendijk.ipynb
       "      <td>71.582038</td>\n",
       "      <td>1.573976</td>\n",
       "      <td>2.198842</td>\n",
       "      <td>-inf</td>\n",
       "      <td>inf</td>\n",
       "      <td>10</td>\n",
       "      <td>[71.58203790188878]</td>\n",
       "    </tr>\n",
       "    <tr>\n",
       "      <th>Saq0</th>\n",
       "      <td>0.000029</td>\n",
       "      <td>0.000002</td>\n",
       "      <td>6.657646</td>\n",
       "      <td>-inf</td>\n",
       "      <td>inf</td>\n",
       "      <td>0.0001</td>\n",
       "      <td>[2.910765679339592e-05]</td>\n",
=======
       "      <td>71.5831</td>\n",
       "      <td>1.574026</td>\n",
       "      <td>2.19888</td>\n",
       "      <td>-inf</td>\n",
       "      <td>inf</td>\n",
       "      <td>10</td>\n",
       "      <td>[71.58314231775141]</td>\n",
       "    </tr>\n",
       "    <tr>\n",
       "      <th>Saq0</th>\n",
       "      <td>2.91065e-05</td>\n",
       "      <td>0.000002</td>\n",
       "      <td>6.65787</td>\n",
       "      <td>-inf</td>\n",
       "      <td>inf</td>\n",
       "      <td>0.0001</td>\n",
       "      <td>[2.910648177493867e-05]</td>\n",
>>>>>>> 58828e186cd9ca8d561622448037390a6d10b392:docs/04pumpingtests/confined1_oude_korendijk.ipynb
       "    </tr>\n",
       "  </tbody>\n",
       "</table>\n",
       "</div>"
      ],
      "text/plain": [
<<<<<<< HEAD:pumpingtest_benchmarks/confined1_oude_korendijk.ipynb
       "        optimal       std  perc_std  pmin  pmax initial  \\\n",
       "kaq0  71.582038  1.573976  2.198842  -inf   inf      10   \n",
       "Saq0   0.000029  0.000002  6.657646  -inf   inf  0.0001   \n",
       "\n",
       "                       parray  \n",
       "kaq0      [71.58203790188878]  \n",
       "Saq0  [2.910765679339592e-05]  "
      ]
     },
     "execution_count": 13,
=======
       "          optimal       std perc_std  pmin  pmax initial  \\\n",
       "kaq0      71.5831  1.574026  2.19888  -inf   inf      10   \n",
       "Saq0  2.91065e-05  0.000002  6.65787  -inf   inf  0.0001   \n",
       "\n",
       "                       parray  \n",
       "kaq0      [71.58314231775141]  \n",
       "Saq0  [2.910648177493867e-05]  "
      ]
     },
     "execution_count": 46,
>>>>>>> 58828e186cd9ca8d561622448037390a6d10b392:docs/04pumpingtests/confined1_oude_korendijk.ipynb
     "metadata": {},
     "output_type": "execute_result"
    }
   ],
   "source": [
<<<<<<< HEAD:pumpingtest_benchmarks/confined1_oude_korendijk.ipynb
    "ca2 = Calibrate(ml)\n",
    "ca2.set_parameter(name='kaq0', initial=10)\n",
    "ca2.set_parameter(name='Saq0', initial=1e-4)\n",
    "ca2.series(name='obs2', x=r2, y=0, t=t2, h=h2, layer=0)\n",
=======
    "ca2 = ttim.Calibrate(ml)\n",
    "ca2.set_parameter(name=\"kaq0\", initial=10)\n",
    "ca2.set_parameter(name=\"Saq0\", initial=1e-4)\n",
    "ca2.series(name=\"obs2\", x=r2, y=0, t=t2, h=h2, layer=0)\n",
>>>>>>> 58828e186cd9ca8d561622448037390a6d10b392:docs/04pumpingtests/confined1_oude_korendijk.ipynb
    "ca2.fit(report=True)\n",
    "ca2.parameters"
   ]
  },
  {
   "cell_type": "code",
<<<<<<< HEAD:pumpingtest_benchmarks/confined1_oude_korendijk.ipynb
   "execution_count": 14,
=======
   "execution_count": 47,
>>>>>>> 58828e186cd9ca8d561622448037390a6d10b392:docs/04pumpingtests/confined1_oude_korendijk.ipynb
   "metadata": {},
   "outputs": [
    {
     "name": "stdout",
     "output_type": "stream",
     "text": [
<<<<<<< HEAD:pumpingtest_benchmarks/confined1_oude_korendijk.ipynb
      "rmse: 0.02271872332239053\n"
=======
      "rmse: 0.022718724430908815\n"
>>>>>>> 58828e186cd9ca8d561622448037390a6d10b392:docs/04pumpingtests/confined1_oude_korendijk.ipynb
     ]
    },
    {
     "data": {
<<<<<<< HEAD:pumpingtest_benchmarks/confined1_oude_korendijk.ipynb
      "image/png": "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\n",
=======
      "image/png": "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",
>>>>>>> 58828e186cd9ca8d561622448037390a6d10b392:docs/04pumpingtests/confined1_oude_korendijk.ipynb
      "text/plain": [
       "<Figure size 720x504 with 1 Axes>"
      ]
     },
     "metadata": {
      "needs_background": "light"
     },
     "output_type": "display_data"
    }
   ],
   "source": [
<<<<<<< HEAD:pumpingtest_benchmarks/confined1_oude_korendijk.ipynb
    "print('rmse:', ca2.rmse())\n",
    "hm2 = ml.head(r2, 0, t2)\n",
    "plt.figure(figsize=(10, 7))\n",
    "plt.semilogx(t2, h2, '.', label='obs at 90 m')\n",
    "plt.semilogx(t2, hm2[0], label='ttim at 90 m')\n",
    "plt.xlabel('time [d]')\n",
    "plt.ylabel('drawdown [m]')\n",
    "plt.title('ttim analysis for Oude Korendijk - Piezometer 90 m')\n",
=======
    "print(\"rmse:\", ca2.rmse())\n",
    "hm2 = ml.head(r2, 0, t2)\n",
    "plt.figure(figsize=(10, 7))\n",
    "plt.semilogx(t2, h2, \".\", label=\"obs at 90 m\")\n",
    "plt.semilogx(t2, hm2[0], label=\"ttim at 90 m\")\n",
    "plt.xlabel(\"time [d]\")\n",
    "plt.ylabel(\"drawdown [m]\")\n",
    "plt.title(\"ttim analysis for Oude Korendijk - Piezometer 90 m\")\n",
>>>>>>> 58828e186cd9ca8d561622448037390a6d10b392:docs/04pumpingtests/confined1_oude_korendijk.ipynb
    "plt.legend();"
   ]
  },
  {
   "cell_type": "markdown",
   "metadata": {},
   "source": [
<<<<<<< HEAD:pumpingtest_benchmarks/confined1_oude_korendijk.ipynb
    "## Step 5.3. Calibrate model with two datasets simultaneously"
=======
    "### Step 5.3. Calibrate model with two datasets simultaneously"
>>>>>>> 58828e186cd9ca8d561622448037390a6d10b392:docs/04pumpingtests/confined1_oude_korendijk.ipynb
   ]
  },
  {
   "cell_type": "markdown",
   "metadata": {},
   "source": [
<<<<<<< HEAD:pumpingtest_benchmarks/confined1_oude_korendijk.ipynb
    "Here we explore the ability of TTim to calibrate the model using more than one observation location.\n",
    "\n",
    "We achieve this by calling the method ```.series``` multiple times to the ```Calibrate``` object:"
=======
    "Here we explore the hability of TTim to calibrate the model using more than one observation location.\n",
    "\n",
    "This can be done simply by calling the method ```.series``` multiple times to the ```Calibrate``` object:"
>>>>>>> 58828e186cd9ca8d561622448037390a6d10b392:docs/04pumpingtests/confined1_oude_korendijk.ipynb
   ]
  },
  {
   "cell_type": "code",
<<<<<<< HEAD:pumpingtest_benchmarks/confined1_oude_korendijk.ipynb
   "execution_count": 15,
=======
   "execution_count": 48,
>>>>>>> 58828e186cd9ca8d561622448037390a6d10b392:docs/04pumpingtests/confined1_oude_korendijk.ipynb
   "metadata": {},
   "outputs": [
    {
     "name": "stdout",
     "output_type": "stream",
     "text": [
<<<<<<< HEAD:pumpingtest_benchmarks/confined1_oude_korendijk.ipynb
      ".............................\n",
      "Fit succeeded.\n",
      "[[Fit Statistics]]\n",
      "    # fitting method   = leastsq\n",
      "    # function evals   = 26\n",
      "    # data points      = 69\n",
      "    # variables        = 2\n",
      "    chi-square         = 0.17291361\n",
      "    reduced chi-square = 0.00258080\n",
      "    Akaike info crit   = -409.245806\n",
      "    Bayesian info crit = -404.777593\n",
      "[[Variables]]\n",
      "    kaq0:  66.0892420 +/- 1.65499881 (2.50%) (init = 10)\n",
      "    Saq0:  2.5409e-05 +/- 2.4017e-06 (9.45%) (init = 0.0001)\n",
=======
      "..................................\n",
      "Fit succeeded.\n",
      "[[Fit Statistics]]\n",
      "    # fitting method   = leastsq\n",
      "    # function evals   = 31\n",
      "    # data points      = 69\n",
      "    # variables        = 2\n",
      "    chi-square         = 0.17291362\n",
      "    reduced chi-square = 0.00258080\n",
      "    Akaike info crit   = -409.245802\n",
      "    Bayesian info crit = -404.777589\n",
      "[[Variables]]\n",
      "    kaq0:  66.0893566 +/- 1.65498708 (2.50%) (init = 10)\n",
      "    Saq0:  2.5409e-05 +/- 2.4016e-06 (9.45%) (init = 0.0001)\n",
>>>>>>> 58828e186cd9ca8d561622448037390a6d10b392:docs/04pumpingtests/confined1_oude_korendijk.ipynb
      "[[Correlations]] (unreported correlations are < 0.100)\n",
      "    C(kaq0, Saq0) = -0.855\n"
     ]
    },
    {
     "data": {
      "text/html": [
       "<div>\n",
       "<style scoped>\n",
       "    .dataframe tbody tr th:only-of-type {\n",
       "        vertical-align: middle;\n",
       "    }\n",
       "\n",
       "    .dataframe tbody tr th {\n",
       "        vertical-align: top;\n",
       "    }\n",
       "\n",
       "    .dataframe thead th {\n",
       "        text-align: right;\n",
       "    }\n",
       "</style>\n",
       "<table border=\"1\" class=\"dataframe\">\n",
       "  <thead>\n",
       "    <tr style=\"text-align: right;\">\n",
       "      <th></th>\n",
       "      <th>optimal</th>\n",
       "      <th>std</th>\n",
       "      <th>perc_std</th>\n",
       "      <th>pmin</th>\n",
       "      <th>pmax</th>\n",
       "      <th>initial</th>\n",
       "      <th>parray</th>\n",
       "    </tr>\n",
       "  </thead>\n",
       "  <tbody>\n",
       "    <tr>\n",
       "      <th>kaq0</th>\n",
<<<<<<< HEAD:pumpingtest_benchmarks/confined1_oude_korendijk.ipynb
       "      <td>66.089242</td>\n",
       "      <td>1.654999</td>\n",
       "      <td>2.504188</td>\n",
       "      <td>-inf</td>\n",
       "      <td>inf</td>\n",
       "      <td>10</td>\n",
       "      <td>[66.08924195216406]</td>\n",
       "    </tr>\n",
       "    <tr>\n",
       "      <th>Saq0</th>\n",
       "      <td>0.000025</td>\n",
       "      <td>0.000002</td>\n",
       "      <td>9.452049</td>\n",
       "      <td>-inf</td>\n",
       "      <td>inf</td>\n",
       "      <td>0.0001</td>\n",
       "      <td>[2.5408830360709104e-05]</td>\n",
=======
       "      <td>66.0894</td>\n",
       "      <td>1.654987</td>\n",
       "      <td>2.50417</td>\n",
       "      <td>-inf</td>\n",
       "      <td>inf</td>\n",
       "      <td>10</td>\n",
       "      <td>[66.0893566210241]</td>\n",
       "    </tr>\n",
       "    <tr>\n",
       "      <th>Saq0</th>\n",
       "      <td>2.54086e-05</td>\n",
       "      <td>0.000002</td>\n",
       "      <td>9.45189</td>\n",
       "      <td>-inf</td>\n",
       "      <td>inf</td>\n",
       "      <td>0.0001</td>\n",
       "      <td>[2.5408624326744147e-05]</td>\n",
>>>>>>> 58828e186cd9ca8d561622448037390a6d10b392:docs/04pumpingtests/confined1_oude_korendijk.ipynb
       "    </tr>\n",
       "  </tbody>\n",
       "</table>\n",
       "</div>"
      ],
      "text/plain": [
<<<<<<< HEAD:pumpingtest_benchmarks/confined1_oude_korendijk.ipynb
       "        optimal       std  perc_std  pmin  pmax initial  \\\n",
       "kaq0  66.089242  1.654999  2.504188  -inf   inf      10   \n",
       "Saq0   0.000025  0.000002  9.452049  -inf   inf  0.0001   \n",
       "\n",
       "                        parray  \n",
       "kaq0       [66.08924195216406]  \n",
       "Saq0  [2.5408830360709104e-05]  "
      ]
     },
     "execution_count": 15,
=======
       "          optimal       std perc_std  pmin  pmax initial  \\\n",
       "kaq0      66.0894  1.654987  2.50417  -inf   inf      10   \n",
       "Saq0  2.54086e-05  0.000002  9.45189  -inf   inf  0.0001   \n",
       "\n",
       "                        parray  \n",
       "kaq0        [66.0893566210241]  \n",
       "Saq0  [2.5408624326744147e-05]  "
      ]
     },
     "execution_count": 48,
>>>>>>> 58828e186cd9ca8d561622448037390a6d10b392:docs/04pumpingtests/confined1_oude_korendijk.ipynb
     "metadata": {},
     "output_type": "execute_result"
    }
   ],
   "source": [
<<<<<<< HEAD:pumpingtest_benchmarks/confined1_oude_korendijk.ipynb
    "ca = Calibrate(ml)\n",
    "ca.set_parameter(name='kaq0', initial=10)\n",
    "ca.set_parameter(name='Saq0', initial=1e-4)\n",
    "ca.series(name='obs1', x=r1, y=0, t=t1, h=h1, layer=0) # Adding well 1\n",
    "ca.series(name='obs2', x=r2, y=0, t=t2, h=h2, layer=0) # Adding well 2\n",
=======
    "ca = ttim.Calibrate(ml)\n",
    "ca.set_parameter(name=\"kaq0\", initial=10)\n",
    "ca.set_parameter(name=\"Saq0\", initial=1e-4)\n",
    "ca.series(name=\"obs1\", x=r1, y=0, t=t1, h=h1, layer=0)  # Adding well 1\n",
    "ca.series(name=\"obs2\", x=r2, y=0, t=t2, h=h2, layer=0)  # Adding well 2\n",
>>>>>>> 58828e186cd9ca8d561622448037390a6d10b392:docs/04pumpingtests/confined1_oude_korendijk.ipynb
    "ca.fit(report=True)\n",
    "ca.parameters"
   ]
  },
  {
   "cell_type": "code",
<<<<<<< HEAD:pumpingtest_benchmarks/confined1_oude_korendijk.ipynb
   "execution_count": 16,
=======
   "execution_count": 49,
>>>>>>> 58828e186cd9ca8d561622448037390a6d10b392:docs/04pumpingtests/confined1_oude_korendijk.ipynb
   "metadata": {},
   "outputs": [
    {
     "name": "stdout",
     "output_type": "stream",
     "text": [
<<<<<<< HEAD:pumpingtest_benchmarks/confined1_oude_korendijk.ipynb
      "rmse: 0.05005990814225418\n"
=======
      "rmse: 0.050059909702252964\n"
>>>>>>> 58828e186cd9ca8d561622448037390a6d10b392:docs/04pumpingtests/confined1_oude_korendijk.ipynb
     ]
    },
    {
     "data": {
<<<<<<< HEAD:pumpingtest_benchmarks/confined1_oude_korendijk.ipynb
      "image/png": "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\n",
=======
      "image/png": "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",
>>>>>>> 58828e186cd9ca8d561622448037390a6d10b392:docs/04pumpingtests/confined1_oude_korendijk.ipynb
      "text/plain": [
       "<Figure size 576x360 with 1 Axes>"
      ]
     },
     "metadata": {
      "needs_background": "light"
     },
     "output_type": "display_data"
    }
   ],
   "source": [
<<<<<<< HEAD:pumpingtest_benchmarks/confined1_oude_korendijk.ipynb
    "print('rmse:', ca.rmse())\n",
    "hs1 = ml.head(r1, 0, t1)\n",
    "hs2 = ml.head(r2, 0 ,t2)\n",
    "plt.figure(figsize = (8, 5))\n",
    "plt.semilogx(t1, h1, '.', label='obs at 30m')\n",
    "plt.semilogx(t1, hs1[0], label='ttim at 30 m')\n",
    "plt.semilogx(t2, h2, '.', label='obs at 90m')\n",
    "plt.semilogx(t2, hs2[0], label = 'ttim at 90m')\n",
    "plt.xlabel('time(d)')\n",
    "plt.ylabel('drawdown(m)')\n",
    "plt.title('ttim analysis for Oude Korendijk - Piezometers at 30 and 90 m')\n",
=======
    "print(\"rmse:\", ca.rmse())\n",
    "hs1 = ml.head(r1, 0, t1)\n",
    "hs2 = ml.head(r2, 0, t2)\n",
    "plt.figure(figsize=(8, 5))\n",
    "plt.semilogx(t1, h1, \".\", label=\"obs at 30m\")\n",
    "plt.semilogx(t1, hs1[0], label=\"ttim at 30 m\")\n",
    "plt.semilogx(t2, h2, \".\", label=\"obs at 90m\")\n",
    "plt.semilogx(t2, hs2[0], label=\"ttim at 90m\")\n",
    "plt.xlabel(\"time(d)\")\n",
    "plt.ylabel(\"drawdown(m)\")\n",
    "plt.title(\"ttim analysis for Oude Korendijk - Piezometers at 30 and 90 m\")\n",
>>>>>>> 58828e186cd9ca8d561622448037390a6d10b392:docs/04pumpingtests/confined1_oude_korendijk.ipynb
    "plt.legend();"
   ]
  },
  {
   "cell_type": "markdown",
   "metadata": {},
   "source": [
    "## Step 6. Calibrate Model with Wellbore Storage\n",
    "\n",
<<<<<<< HEAD:pumpingtest_benchmarks/confined1_oude_korendijk.ipynb
    "In this continuation, we investigate whether adding wellbore storage improves the fit."
=======
    "In this continuation, we investigate whether adding well bore storage improves the fit."
>>>>>>> 58828e186cd9ca8d561622448037390a6d10b392:docs/04pumpingtests/confined1_oude_korendijk.ipynb
   ]
  },
  {
   "cell_type": "markdown",
   "metadata": {},
   "source": [
    "### Step 6.1. Reload the model"
   ]
  },
  {
   "cell_type": "code",
<<<<<<< HEAD:pumpingtest_benchmarks/confined1_oude_korendijk.ipynb
   "execution_count": 17,
   "metadata": {},
   "outputs": [],
   "source": [
    "#unknown parameters: kaq, Saq and rc\n",
    "ml1 = ModelMaq(kaq=60, z=[zt, zb], Saq=1e-4, tmin=1e-5, tmax=1)"
=======
   "execution_count": 65,
   "metadata": {},
   "outputs": [],
   "source": [
    "# unknown parameters: kaq, Saq and rc\n",
    "ml1 = ttim.ModelMaq(kaq=60, z=[zt, zb], Saq=1e-4, tmin=1e-5, tmax=1)"
>>>>>>> 58828e186cd9ca8d561622448037390a6d10b392:docs/04pumpingtests/confined1_oude_korendijk.ipynb
   ]
  },
  {
   "cell_type": "markdown",
   "metadata": {},
   "source": [
    "### Step 6.2. Define new Well object with wellbore storage"
   ]
  },
  {
   "cell_type": "markdown",
   "metadata": {},
   "source": [
<<<<<<< HEAD:pumpingtest_benchmarks/confined1_oude_korendijk.ipynb
    "Now, besides the parameters explained in [Step 3](#step_3), we have to add the radius of the caisson (```rc```)"
=======
    "Now, besides the parameters explained in [Step 3](#step-3-creating-a-ttim-conceptual-model), we have to add the radius of the caisson (```rc```)"
>>>>>>> 58828e186cd9ca8d561622448037390a6d10b392:docs/04pumpingtests/confined1_oude_korendijk.ipynb
   ]
  },
  {
   "cell_type": "code",
<<<<<<< HEAD:pumpingtest_benchmarks/confined1_oude_korendijk.ipynb
   "execution_count": 18,
   "metadata": {},
   "outputs": [],
   "source": [
    "w1 = Well(ml1, xw=0, yw=0, rw=0.2, rc=0.2, tsandQ=[(0, Q)], layers=0)\n",
    "ml1.solve(silent='True')"
=======
   "execution_count": 66,
   "metadata": {},
   "outputs": [],
   "source": [
    "w1 = ttim.Well(ml1, xw=0, yw=0, rw=0.2, rc=0.3, tsandQ=[(0, Q)], layers=0)\n",
    "ml1.solve(silent=\"True\")"
>>>>>>> 58828e186cd9ca8d561622448037390a6d10b392:docs/04pumpingtests/confined1_oude_korendijk.ipynb
   ]
  },
  {
   "cell_type": "markdown",
   "metadata": {},
   "source": [
<<<<<<< HEAD:pumpingtest_benchmarks/confined1_oude_korendijk.ipynb
    "<a id='step_6_3'></a>\n",
=======
>>>>>>> 58828e186cd9ca8d561622448037390a6d10b392:docs/04pumpingtests/confined1_oude_korendijk.ipynb
    "### Step 6.3. Calibrate using only the data from observation well 1"
   ]
  },
  {
   "cell_type": "markdown",
   "metadata": {},
   "source": [
<<<<<<< HEAD:pumpingtest_benchmarks/confined1_oude_korendijk.ipynb
    "The parameters not cited in the ```.set_paramater``` method, must be calibrated with the ```.set_parameter_by_reference``` method.\n",
    "\n",
    "Here we use the method ```.set_parameter_by_reference``` to calibrate the ```rc``` parameter in our well.\n",
    "\n",
    "```.set_parameter_by_reference``` takes the following arguments:\n",
    "* ```name```: a string of the parameter name\n",
    "* ```parameter```: numpy-array with the parameter to be optimized. It should be specified as a reference, for example, in our case: ```w1.rc[0:]``` referencing to the parameter ```rc``` in object ```w1```.\n",
    "* ```initial```: float with the initial guess for the parameter value.\n",
    "* ```pmin``` and ```pmax```: floats with the minimum and maximum values allowed. If not specified, these will be defined as ```-np.inf``` and ```np.inf```.\n"
=======
    "Here we use the method ```.set_parameter_by_reference``` to calibrate the rc parameter in our well.\n",
    "\n",
    "```.set_parameter_by_reference``` takes the following arguments:\n",
    "* ```name```: string of the parameter name\n",
    "* ```parameter```: numpy-array with the parameter to be optimized. It should be specified as a reference, for example, in our case: ```w1.rc[0:]``` referencing to the parameter ```rc``` in object ```w1```.\n",
    "* ```initial```: float with the initial guess for the parameter value.\n",
    "* ```pmin```and ```pmax```: floats with the minimum and maximum values allowed for the parameter to be optimized. If not specified these will be defined as ```-np.inf``` and ```np.inf```."
>>>>>>> 58828e186cd9ca8d561622448037390a6d10b392:docs/04pumpingtests/confined1_oude_korendijk.ipynb
   ]
  },
  {
   "cell_type": "code",
<<<<<<< HEAD:pumpingtest_benchmarks/confined1_oude_korendijk.ipynb
   "execution_count": 19,
=======
   "execution_count": 67,
>>>>>>> 58828e186cd9ca8d561622448037390a6d10b392:docs/04pumpingtests/confined1_oude_korendijk.ipynb
   "metadata": {},
   "outputs": [
    {
     "name": "stdout",
     "output_type": "stream",
     "text": [
<<<<<<< HEAD:pumpingtest_benchmarks/confined1_oude_korendijk.ipynb
      ".....................................................................................................................\n",
      "Fit succeeded.\n",
      "[[Fit Statistics]]\n",
      "    # fitting method   = leastsq\n",
      "    # function evals   = 114\n",
      "    # data points      = 34\n",
      "    # variables        = 3\n",
      "    chi-square         = 0.00793127\n",
      "    reduced chi-square = 2.5585e-04\n",
      "    Akaike info crit   = -278.352281\n",
      "    Bayesian info crit = -273.773200\n",
      "[[Variables]]\n",
      "    kaq0:  81.1022275 +/- 1.75413846 (2.16%) (init = 10)\n",
      "    Saq0:  5.3734e-06 +/- 7.9553e-07 (14.80%) (init = 0.0001)\n",
      "    rc:    0.30589626 +/- 0.01764601 (5.77%) (init = 0.2)\n",
      "[[Correlations]] (unreported correlations are < 0.100)\n",
      "    C(kaq0, Saq0) = -0.976\n",
      "    C(Saq0, rc)   = -0.875\n",
      "    C(kaq0, rc)   =  0.835\n"
=======
      "................................\n",
      "Fit succeeded.\n",
      "[[Fit Statistics]]\n",
      "    # fitting method   = leastsq\n",
      "    # function evals   = 29\n",
      "    # data points      = 34\n",
      "    # variables        = 2\n",
      "    chi-square         = 0.00794623\n",
      "    reduced chi-square = 2.4832e-04\n",
      "    Akaike info crit   = -280.288200\n",
      "    Bayesian info crit = -277.235479\n",
      "[[Variables]]\n",
      "    kaq0:  80.6405644 +/- 0.93948623 (1.17%) (init = 10)\n",
      "    Saq0:  5.5994e-06 +/- 3.8942e-07 (6.95%) (init = 0.0001)\n",
      "[[Correlations]] (unreported correlations are < 0.100)\n",
      "    C(kaq0, Saq0) = -0.921\n"
>>>>>>> 58828e186cd9ca8d561622448037390a6d10b392:docs/04pumpingtests/confined1_oude_korendijk.ipynb
     ]
    },
    {
     "data": {
      "text/html": [
       "<div>\n",
       "<style scoped>\n",
       "    .dataframe tbody tr th:only-of-type {\n",
       "        vertical-align: middle;\n",
       "    }\n",
       "\n",
       "    .dataframe tbody tr th {\n",
       "        vertical-align: top;\n",
       "    }\n",
       "\n",
       "    .dataframe thead th {\n",
       "        text-align: right;\n",
       "    }\n",
       "</style>\n",
       "<table border=\"1\" class=\"dataframe\">\n",
       "  <thead>\n",
       "    <tr style=\"text-align: right;\">\n",
       "      <th></th>\n",
       "      <th>optimal</th>\n",
       "      <th>std</th>\n",
       "      <th>perc_std</th>\n",
       "      <th>pmin</th>\n",
       "      <th>pmax</th>\n",
       "      <th>initial</th>\n",
       "      <th>parray</th>\n",
       "    </tr>\n",
       "  </thead>\n",
       "  <tbody>\n",
       "    <tr>\n",
       "      <th>kaq0</th>\n",
<<<<<<< HEAD:pumpingtest_benchmarks/confined1_oude_korendijk.ipynb
       "      <td>81.102227</td>\n",
       "      <td>1.754138e+00</td>\n",
       "      <td>2.162873</td>\n",
       "      <td>-inf</td>\n",
       "      <td>inf</td>\n",
       "      <td>10</td>\n",
       "      <td>[81.10222749162335]</td>\n",
       "    </tr>\n",
       "    <tr>\n",
       "      <th>Saq0</th>\n",
       "      <td>0.000005</td>\n",
       "      <td>7.955260e-07</td>\n",
       "      <td>14.804955</td>\n",
       "      <td>-inf</td>\n",
       "      <td>inf</td>\n",
       "      <td>0.0001</td>\n",
       "      <td>[5.373376908451789e-06]</td>\n",
       "    </tr>\n",
       "    <tr>\n",
       "      <th>rc</th>\n",
       "      <td>0.305896</td>\n",
       "      <td>1.764601e-02</td>\n",
       "      <td>5.768625</td>\n",
       "      <td>0.01</td>\n",
       "      <td>inf</td>\n",
       "      <td>0.2</td>\n",
       "      <td>[0.30589625845626367]</td>\n",
=======
       "      <td>80.6406</td>\n",
       "      <td>9.394862e-01</td>\n",
       "      <td>1.16503</td>\n",
       "      <td>-inf</td>\n",
       "      <td>inf</td>\n",
       "      <td>10</td>\n",
       "      <td>[80.64056435863938]</td>\n",
       "    </tr>\n",
       "    <tr>\n",
       "      <th>Saq0</th>\n",
       "      <td>5.5994e-06</td>\n",
       "      <td>3.894218e-07</td>\n",
       "      <td>6.9547</td>\n",
       "      <td>-inf</td>\n",
       "      <td>inf</td>\n",
       "      <td>0.0001</td>\n",
       "      <td>[5.599401724943624e-06]</td>\n",
>>>>>>> 58828e186cd9ca8d561622448037390a6d10b392:docs/04pumpingtests/confined1_oude_korendijk.ipynb
       "    </tr>\n",
       "  </tbody>\n",
       "</table>\n",
       "</div>"
      ],
      "text/plain": [
<<<<<<< HEAD:pumpingtest_benchmarks/confined1_oude_korendijk.ipynb
       "        optimal           std   perc_std  pmin  pmax initial  \\\n",
       "kaq0  81.102227  1.754138e+00   2.162873  -inf   inf      10   \n",
       "Saq0   0.000005  7.955260e-07  14.804955  -inf   inf  0.0001   \n",
       "rc     0.305896  1.764601e-02   5.768625  0.01   inf     0.2   \n",
       "\n",
       "                       parray  \n",
       "kaq0      [81.10222749162335]  \n",
       "Saq0  [5.373376908451789e-06]  \n",
       "rc      [0.30589625845626367]  "
      ]
     },
     "execution_count": 19,
=======
       "         optimal           std perc_std  pmin  pmax initial  \\\n",
       "kaq0     80.6406  9.394862e-01  1.16503  -inf   inf      10   \n",
       "Saq0  5.5994e-06  3.894218e-07   6.9547  -inf   inf  0.0001   \n",
       "\n",
       "                       parray  \n",
       "kaq0      [80.64056435863938]  \n",
       "Saq0  [5.599401724943624e-06]  "
      ]
     },
     "execution_count": 67,
>>>>>>> 58828e186cd9ca8d561622448037390a6d10b392:docs/04pumpingtests/confined1_oude_korendijk.ipynb
     "metadata": {},
     "output_type": "execute_result"
    }
   ],
   "source": [
<<<<<<< HEAD:pumpingtest_benchmarks/confined1_oude_korendijk.ipynb
    "ca3 = Calibrate(ml1)\n",
    "ca3.set_parameter(name='kaq0', initial=10)\n",
    "ca3.set_parameter(name='Saq0', initial=1e-4)\n",
    "ca3.set_parameter_by_reference(name='rc', parameter=w1.rc[0:], initial=0.2, pmin=0.01)\n",
    "ca3.series(name='obs1', x=r1, y=0, t=t1, h=h1, layer=0)\n",
=======
    "ca3 = ttim.Calibrate(ml1)\n",
    "ca3.set_parameter(name=\"kaq0\", initial=10)\n",
    "ca3.set_parameter(name=\"Saq0\", initial=1e-4)\n",
    "# ca3.set_parameter_by_reference(name='rc', parameter=w1.rc[0:], initial=0.2, pmin=0.01)\n",
    "ca3.series(name=\"obs1\", x=r1, y=0, t=t1, h=h1, layer=0)\n",
>>>>>>> 58828e186cd9ca8d561622448037390a6d10b392:docs/04pumpingtests/confined1_oude_korendijk.ipynb
    "ca3.fit(report=True)\n",
    "ca3.parameters"
   ]
  },
  {
   "cell_type": "code",
<<<<<<< HEAD:pumpingtest_benchmarks/confined1_oude_korendijk.ipynb
   "execution_count": 20,
=======
   "execution_count": 68,
>>>>>>> 58828e186cd9ca8d561622448037390a6d10b392:docs/04pumpingtests/confined1_oude_korendijk.ipynb
   "metadata": {},
   "outputs": [
    {
     "name": "stdout",
     "output_type": "stream",
     "text": [
<<<<<<< HEAD:pumpingtest_benchmarks/confined1_oude_korendijk.ipynb
      "rmse: 0.015273267611544404\n"
=======
      "rmse: 0.015287667397425852\n"
>>>>>>> 58828e186cd9ca8d561622448037390a6d10b392:docs/04pumpingtests/confined1_oude_korendijk.ipynb
     ]
    },
    {
     "data": {
<<<<<<< HEAD:pumpingtest_benchmarks/confined1_oude_korendijk.ipynb
      "image/png": "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\n",
=======
      "image/png": "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",
>>>>>>> 58828e186cd9ca8d561622448037390a6d10b392:docs/04pumpingtests/confined1_oude_korendijk.ipynb
      "text/plain": [
       "<Figure size 720x504 with 1 Axes>"
      ]
     },
     "metadata": {
      "needs_background": "light"
     },
     "output_type": "display_data"
    }
   ],
   "source": [
<<<<<<< HEAD:pumpingtest_benchmarks/confined1_oude_korendijk.ipynb
    "print('rmse:', ca3.rmse())\n",
    "hm3 = ml1.head(r1, 0, t1)\n",
    "plt.figure(figsize=(10, 7))\n",
    "plt.semilogx(t1, h1, '.', label='obs at 30 m')\n",
    "plt.semilogx(t1, hm3[0], label='ttim at 30 m')\n",
    "plt.xlabel('time(d)')\n",
    "plt.ylabel('drawdown(m)')\n",
    "plt.title('ttim analysis for Oude Korendijk - Piezometer 30 m and Wellbore Storage')\n",
=======
    "print(\"rmse:\", ca3.rmse())\n",
    "hm3 = ml1.head(r1, 0, t1)\n",
    "plt.figure(figsize=(10, 7))\n",
    "plt.semilogx(t1, h1, \".\", label=\"obs at 30 m\")\n",
    "plt.semilogx(t1, hm3[0], label=\"ttim at 30 m\")\n",
    "plt.xlabel(\"time(d)\")\n",
    "plt.ylabel(\"drawdown(m)\")\n",
    "plt.title(\"ttim analysis for Oude Korendijk - Piezometer 30 m and Wellbore Storage\")\n",
>>>>>>> 58828e186cd9ca8d561622448037390a6d10b392:docs/04pumpingtests/confined1_oude_korendijk.ipynb
    "plt.legend();"
   ]
  },
  {
   "cell_type": "markdown",
   "metadata": {},
   "source": [
    "### Step 6.4. Calibrate using only the data from observation well 2\n",
    "\n",
    "Here we repeat the step 6.3 for well 2"
   ]
  },
  {
   "cell_type": "code",
<<<<<<< HEAD:pumpingtest_benchmarks/confined1_oude_korendijk.ipynb
   "execution_count": 21,
=======
   "execution_count": 69,
>>>>>>> 58828e186cd9ca8d561622448037390a6d10b392:docs/04pumpingtests/confined1_oude_korendijk.ipynb
   "metadata": {},
   "outputs": [
    {
     "name": "stdout",
     "output_type": "stream",
     "text": [
<<<<<<< HEAD:pumpingtest_benchmarks/confined1_oude_korendijk.ipynb
      "......................................................................................\n",
      "Fit succeeded.\n",
      "[[Fit Statistics]]\n",
      "    # fitting method   = leastsq\n",
      "    # function evals   = 83\n",
      "    # data points      = 35\n",
      "    # variables        = 3\n",
      "    chi-square         = 0.00135388\n",
      "    reduced chi-square = 4.2309e-05\n",
      "    Akaike info crit   = -349.604600\n",
      "    Bayesian info crit = -344.938556\n",
      "[[Variables]]\n",
      "    kaq0:  88.4250760 +/- 1.46375393 (1.66%) (init = 10)\n",
      "    Saq0:  1.1271e-05 +/- 9.2085e-07 (8.17%) (init = 0.0001)\n",
      "    rc:    0.67776328 +/- 0.02992595 (4.42%) (init = 0.2)\n",
      "[[Correlations]] (unreported correlations are < 0.100)\n",
      "    C(kaq0, Saq0) = -0.981\n",
      "    C(Saq0, rc)   = -0.940\n",
      "    C(kaq0, rc)   =  0.912\n"
=======
      ".................................\n",
      "Fit succeeded.\n",
      "[[Fit Statistics]]\n",
      "    # fitting method   = leastsq\n",
      "    # function evals   = 30\n",
      "    # data points      = 35\n",
      "    # variables        = 2\n",
      "    chi-square         = 0.00976276\n",
      "    reduced chi-square = 2.9584e-04\n",
      "    Akaike info crit   = -282.458485\n",
      "    Bayesian info crit = -279.347789\n",
      "[[Variables]]\n",
      "    kaq0:  75.0893629 +/- 1.21674620 (1.62%) (init = 10)\n",
      "    Saq0:  2.3917e-05 +/- 1.2586e-06 (5.26%) (init = 0.0001)\n",
      "[[Correlations]] (unreported correlations are < 0.100)\n",
      "    C(kaq0, Saq0) = -0.851\n"
>>>>>>> 58828e186cd9ca8d561622448037390a6d10b392:docs/04pumpingtests/confined1_oude_korendijk.ipynb
     ]
    },
    {
     "data": {
      "text/html": [
       "<div>\n",
       "<style scoped>\n",
       "    .dataframe tbody tr th:only-of-type {\n",
       "        vertical-align: middle;\n",
       "    }\n",
       "\n",
       "    .dataframe tbody tr th {\n",
       "        vertical-align: top;\n",
       "    }\n",
       "\n",
       "    .dataframe thead th {\n",
       "        text-align: right;\n",
       "    }\n",
       "</style>\n",
       "<table border=\"1\" class=\"dataframe\">\n",
       "  <thead>\n",
       "    <tr style=\"text-align: right;\">\n",
       "      <th></th>\n",
       "      <th>optimal</th>\n",
       "      <th>std</th>\n",
       "      <th>perc_std</th>\n",
       "      <th>pmin</th>\n",
       "      <th>pmax</th>\n",
       "      <th>initial</th>\n",
       "      <th>parray</th>\n",
       "    </tr>\n",
       "  </thead>\n",
       "  <tbody>\n",
       "    <tr>\n",
       "      <th>kaq0</th>\n",
<<<<<<< HEAD:pumpingtest_benchmarks/confined1_oude_korendijk.ipynb
       "      <td>88.425076</td>\n",
       "      <td>1.463754e+00</td>\n",
       "      <td>1.655361</td>\n",
       "      <td>-inf</td>\n",
       "      <td>inf</td>\n",
       "      <td>10</td>\n",
       "      <td>[88.42507599056435]</td>\n",
       "    </tr>\n",
       "    <tr>\n",
       "      <th>Saq0</th>\n",
       "      <td>0.000011</td>\n",
       "      <td>9.208523e-07</td>\n",
       "      <td>8.170157</td>\n",
       "      <td>-inf</td>\n",
       "      <td>inf</td>\n",
       "      <td>0.0001</td>\n",
       "      <td>[1.1270926171212742e-05]</td>\n",
       "    </tr>\n",
       "    <tr>\n",
       "      <th>rc</th>\n",
       "      <td>0.677763</td>\n",
       "      <td>2.992595e-02</td>\n",
       "      <td>4.415398</td>\n",
       "      <td>0.01</td>\n",
       "      <td>inf</td>\n",
       "      <td>0.2</td>\n",
       "      <td>[0.6777632783608494]</td>\n",
=======
       "      <td>75.0894</td>\n",
       "      <td>1.216746</td>\n",
       "      <td>1.6204</td>\n",
       "      <td>-inf</td>\n",
       "      <td>inf</td>\n",
       "      <td>10</td>\n",
       "      <td>[75.08936291305277]</td>\n",
       "    </tr>\n",
       "    <tr>\n",
       "      <th>Saq0</th>\n",
       "      <td>2.39169e-05</td>\n",
       "      <td>0.000001</td>\n",
       "      <td>5.26246</td>\n",
       "      <td>-inf</td>\n",
       "      <td>inf</td>\n",
       "      <td>0.0001</td>\n",
       "      <td>[2.391691367998678e-05]</td>\n",
>>>>>>> 58828e186cd9ca8d561622448037390a6d10b392:docs/04pumpingtests/confined1_oude_korendijk.ipynb
       "    </tr>\n",
       "  </tbody>\n",
       "</table>\n",
       "</div>"
      ],
      "text/plain": [
<<<<<<< HEAD:pumpingtest_benchmarks/confined1_oude_korendijk.ipynb
       "        optimal           std  perc_std  pmin  pmax initial  \\\n",
       "kaq0  88.425076  1.463754e+00  1.655361  -inf   inf      10   \n",
       "Saq0   0.000011  9.208523e-07  8.170157  -inf   inf  0.0001   \n",
       "rc     0.677763  2.992595e-02  4.415398  0.01   inf     0.2   \n",
       "\n",
       "                        parray  \n",
       "kaq0       [88.42507599056435]  \n",
       "Saq0  [1.1270926171212742e-05]  \n",
       "rc        [0.6777632783608494]  "
      ]
     },
     "execution_count": 21,
=======
       "          optimal       std perc_std  pmin  pmax initial  \\\n",
       "kaq0      75.0894  1.216746   1.6204  -inf   inf      10   \n",
       "Saq0  2.39169e-05  0.000001  5.26246  -inf   inf  0.0001   \n",
       "\n",
       "                       parray  \n",
       "kaq0      [75.08936291305277]  \n",
       "Saq0  [2.391691367998678e-05]  "
      ]
     },
     "execution_count": 69,
>>>>>>> 58828e186cd9ca8d561622448037390a6d10b392:docs/04pumpingtests/confined1_oude_korendijk.ipynb
     "metadata": {},
     "output_type": "execute_result"
    }
   ],
   "source": [
<<<<<<< HEAD:pumpingtest_benchmarks/confined1_oude_korendijk.ipynb
    "ca4 = Calibrate(ml1)\n",
    "ca4.set_parameter(name='kaq0', initial=10)\n",
    "ca4.set_parameter(name='Saq0', initial=1e-4)\n",
    "ca4.set_parameter_by_reference(name='rc', parameter=w1.rc[0:], initial=0.2, pmin=0.01)\n",
    "ca4.series(name='obs2', x=r2, y=0, t=t2, h=h2, layer=0)\n",
=======
    "ca4 = ttim.Calibrate(ml1)\n",
    "ca4.set_parameter(name=\"kaq0\", initial=10)\n",
    "ca4.set_parameter(name=\"Saq0\", initial=1e-4)\n",
    "# ca4.set_parameter_by_reference(name='rc', parameter=w1.rc[0:], initial=0.2, pmin=0.01)\n",
    "ca4.series(name=\"obs2\", x=r2, y=0, t=t2, h=h2, layer=0)\n",
>>>>>>> 58828e186cd9ca8d561622448037390a6d10b392:docs/04pumpingtests/confined1_oude_korendijk.ipynb
    "ca4.fit(report=True)\n",
    "ca4.parameters"
   ]
  },
  {
   "cell_type": "code",
<<<<<<< HEAD:pumpingtest_benchmarks/confined1_oude_korendijk.ipynb
   "execution_count": 22,
=======
   "execution_count": 70,
>>>>>>> 58828e186cd9ca8d561622448037390a6d10b392:docs/04pumpingtests/confined1_oude_korendijk.ipynb
   "metadata": {},
   "outputs": [
    {
     "name": "stdout",
     "output_type": "stream",
     "text": [
<<<<<<< HEAD:pumpingtest_benchmarks/confined1_oude_korendijk.ipynb
      "rmse: 0.006219500271654494\n"
=======
      "rmse: 0.01670137754442732\n"
>>>>>>> 58828e186cd9ca8d561622448037390a6d10b392:docs/04pumpingtests/confined1_oude_korendijk.ipynb
     ]
    },
    {
     "data": {
<<<<<<< HEAD:pumpingtest_benchmarks/confined1_oude_korendijk.ipynb
      "image/png": "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\n",
=======
      "image/png": "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",
>>>>>>> 58828e186cd9ca8d561622448037390a6d10b392:docs/04pumpingtests/confined1_oude_korendijk.ipynb
      "text/plain": [
       "<Figure size 720x504 with 1 Axes>"
      ]
     },
     "metadata": {
      "needs_background": "light"
     },
     "output_type": "display_data"
    }
   ],
   "source": [
<<<<<<< HEAD:pumpingtest_benchmarks/confined1_oude_korendijk.ipynb
    "print('rmse:', ca4.rmse())\n",
    "hm4 = ml1.head(r2, 0, t2)\n",
    "plt.figure(figsize=(10, 7))\n",
    "plt.semilogx(t2, h2, '.', label='obs at 90 m')\n",
    "plt.semilogx(t2, hm4[0], label='ttim at 90 m')\n",
    "plt.xlabel('time [d]')\n",
    "plt.ylabel('drawdown [m]')\n",
    "plt.title('ttim analysis for Oude Korendijk - Piezometer 90 m and Wellbore Storage')\n",
=======
    "print(\"rmse:\", ca4.rmse())\n",
    "hm4 = ml1.head(r2, 0, t2)\n",
    "plt.figure(figsize=(10, 7))\n",
    "plt.semilogx(t2, h2, \".\", label=\"obs at 90 m\")\n",
    "plt.semilogx(t2, hm4[0], label=\"ttim at 90 m\")\n",
    "plt.xlabel(\"time [d]\")\n",
    "plt.ylabel(\"drawdown [m]\")\n",
    "plt.title(\"ttim analysis for Oude Korendijk - Piezometer 90 m and Wellbore Storage\")\n",
>>>>>>> 58828e186cd9ca8d561622448037390a6d10b392:docs/04pumpingtests/confined1_oude_korendijk.ipynb
    "plt.legend();"
   ]
  },
  {
   "cell_type": "markdown",
   "metadata": {},
   "source": [
    "### Step 6.5. Calibrate model with two datasets simultaneously\n",
    "\n",
<<<<<<< HEAD:pumpingtest_benchmarks/confined1_oude_korendijk.ipynb
    "Following the same logic from steps 6.3 to 6.4 and the calibration from step 5.3, we can now check the calibration using both wells and wellbore storage."
=======
    "Following the same logic from steps 6.3 to 6.4 and the calibration from step 5.3 we can now check the calibration using both wells and including wellbore storage."
>>>>>>> 58828e186cd9ca8d561622448037390a6d10b392:docs/04pumpingtests/confined1_oude_korendijk.ipynb
   ]
  },
  {
   "cell_type": "code",
<<<<<<< HEAD:pumpingtest_benchmarks/confined1_oude_korendijk.ipynb
   "execution_count": 23,
=======
   "execution_count": 71,
>>>>>>> 58828e186cd9ca8d561622448037390a6d10b392:docs/04pumpingtests/confined1_oude_korendijk.ipynb
   "metadata": {},
   "outputs": [
    {
     "name": "stdout",
     "output_type": "stream",
     "text": [
<<<<<<< HEAD:pumpingtest_benchmarks/confined1_oude_korendijk.ipynb
      "................................................................................\n",
      "Fit succeeded.\n",
      "[[Fit Statistics]]\n",
      "    # fitting method   = leastsq\n",
      "    # function evals   = 77\n",
      "    # data points      = 69\n",
      "    # variables        = 3\n",
      "    chi-square         = 0.17294899\n",
      "    reduced chi-square = 0.00262044\n",
      "    Akaike info crit   = -407.231693\n",
      "    Bayesian info crit = -400.529373\n",
      "[[Variables]]\n",
      "    kaq0:  66.0961873 +/- 1.72437353 (2.61%) (init = 10)\n",
      "    Saq0:  2.5396e-05 +/- 2.4929e-06 (9.82%) (init = 0.0001)\n",
      "    rc:    0.01002640 +/- 0.13866816 (1383.03%) (init = 0.2)\n",
      "[[Correlations]] (unreported correlations are < 0.100)\n",
      "    C(kaq0, Saq0) = -0.864\n",
      "    C(kaq0, rc)   =  0.254\n",
      "    C(Saq0, rc)   = -0.241\n"
=======
      ".........................\n",
      "Fit succeeded.\n",
      "[[Fit Statistics]]\n",
      "    # fitting method   = leastsq\n",
      "    # function evals   = 22\n",
      "    # data points      = 69\n",
      "    # variables        = 2\n",
      "    chi-square         = 0.24681339\n",
      "    reduced chi-square = 0.00368378\n",
      "    Akaike info crit   = -384.692818\n",
      "    Bayesian info crit = -380.224605\n",
      "[[Variables]]\n",
      "    kaq0:  71.4301741 +/- 2.20521581 (3.09%) (init = 10)\n",
      "    Saq0:  1.7118e-05 +/- 2.2331e-06 (13.05%) (init = 0.0001)\n",
      "[[Correlations]] (unreported correlations are < 0.100)\n",
      "    C(kaq0, Saq0) = -0.866\n"
>>>>>>> 58828e186cd9ca8d561622448037390a6d10b392:docs/04pumpingtests/confined1_oude_korendijk.ipynb
     ]
    },
    {
     "data": {
      "text/html": [
       "<div>\n",
       "<style scoped>\n",
       "    .dataframe tbody tr th:only-of-type {\n",
       "        vertical-align: middle;\n",
       "    }\n",
       "\n",
       "    .dataframe tbody tr th {\n",
       "        vertical-align: top;\n",
       "    }\n",
       "\n",
       "    .dataframe thead th {\n",
       "        text-align: right;\n",
       "    }\n",
       "</style>\n",
       "<table border=\"1\" class=\"dataframe\">\n",
       "  <thead>\n",
       "    <tr style=\"text-align: right;\">\n",
       "      <th></th>\n",
       "      <th>optimal</th>\n",
       "      <th>std</th>\n",
       "      <th>perc_std</th>\n",
       "      <th>pmin</th>\n",
       "      <th>pmax</th>\n",
       "      <th>initial</th>\n",
       "      <th>parray</th>\n",
       "    </tr>\n",
       "  </thead>\n",
       "  <tbody>\n",
       "    <tr>\n",
       "      <th>kaq0</th>\n",
<<<<<<< HEAD:pumpingtest_benchmarks/confined1_oude_korendijk.ipynb
       "      <td>66.096187</td>\n",
       "      <td>1.724374</td>\n",
       "      <td>2.608885</td>\n",
       "      <td>-inf</td>\n",
       "      <td>inf</td>\n",
       "      <td>10</td>\n",
       "      <td>[66.09618726510983]</td>\n",
       "    </tr>\n",
       "    <tr>\n",
       "      <th>Saq0</th>\n",
       "      <td>0.000025</td>\n",
       "      <td>0.000002</td>\n",
       "      <td>9.816187</td>\n",
       "      <td>-inf</td>\n",
       "      <td>inf</td>\n",
       "      <td>0.0001</td>\n",
       "      <td>[2.539574266289838e-05]</td>\n",
       "    </tr>\n",
       "    <tr>\n",
       "      <th>rc</th>\n",
       "      <td>0.010026</td>\n",
       "      <td>0.138668</td>\n",
       "      <td>1383.030426</td>\n",
       "      <td>0.01</td>\n",
       "      <td>inf</td>\n",
       "      <td>0.2</td>\n",
       "      <td>[0.010026400074216957]</td>\n",
=======
       "      <td>71.4302</td>\n",
       "      <td>2.205216</td>\n",
       "      <td>3.08723</td>\n",
       "      <td>-inf</td>\n",
       "      <td>inf</td>\n",
       "      <td>10</td>\n",
       "      <td>[71.43017412811331]</td>\n",
       "    </tr>\n",
       "    <tr>\n",
       "      <th>Saq0</th>\n",
       "      <td>1.71184e-05</td>\n",
       "      <td>0.000002</td>\n",
       "      <td>13.0452</td>\n",
       "      <td>-inf</td>\n",
       "      <td>inf</td>\n",
       "      <td>0.0001</td>\n",
       "      <td>[1.7118434516330002e-05]</td>\n",
>>>>>>> 58828e186cd9ca8d561622448037390a6d10b392:docs/04pumpingtests/confined1_oude_korendijk.ipynb
       "    </tr>\n",
       "  </tbody>\n",
       "</table>\n",
       "</div>"
      ],
      "text/plain": [
<<<<<<< HEAD:pumpingtest_benchmarks/confined1_oude_korendijk.ipynb
       "        optimal       std     perc_std  pmin  pmax initial  \\\n",
       "kaq0  66.096187  1.724374     2.608885  -inf   inf      10   \n",
       "Saq0   0.000025  0.000002     9.816187  -inf   inf  0.0001   \n",
       "rc     0.010026  0.138668  1383.030426  0.01   inf     0.2   \n",
       "\n",
       "                       parray  \n",
       "kaq0      [66.09618726510983]  \n",
       "Saq0  [2.539574266289838e-05]  \n",
       "rc     [0.010026400074216957]  "
      ]
     },
     "execution_count": 23,
=======
       "          optimal       std perc_std  pmin  pmax initial  \\\n",
       "kaq0      71.4302  2.205216  3.08723  -inf   inf      10   \n",
       "Saq0  1.71184e-05  0.000002  13.0452  -inf   inf  0.0001   \n",
       "\n",
       "                        parray  \n",
       "kaq0       [71.43017412811331]  \n",
       "Saq0  [1.7118434516330002e-05]  "
      ]
     },
     "execution_count": 71,
>>>>>>> 58828e186cd9ca8d561622448037390a6d10b392:docs/04pumpingtests/confined1_oude_korendijk.ipynb
     "metadata": {},
     "output_type": "execute_result"
    }
   ],
   "source": [
<<<<<<< HEAD:pumpingtest_benchmarks/confined1_oude_korendijk.ipynb
    "ca0 = Calibrate(ml1)\n",
    "ca0.set_parameter(name='kaq0', initial=10)\n",
    "ca0.set_parameter(name='Saq0', initial=1e-4)\n",
    "ca0.set_parameter_by_reference(name='rc', parameter=w1.rc[0:], initial=0.2, pmin=0.01)\n",
    "ca0.series(name='obs1', x=r1, y=0, t=t1, h=h1, layer=0)\n",
    "ca0.series(name='obs2', x=r2, y=0, t=t2, h=h2, layer=0)\n",
=======
    "ca0 = ttim.Calibrate(ml1)\n",
    "ca0.set_parameter(name=\"kaq0\", initial=10)\n",
    "ca0.set_parameter(name=\"Saq0\", initial=1e-4)\n",
    "# ca0.set_parameter_by_reference(name='rc', parameter=w1.rc[0:], initial=0.2, pmin=0.01)\n",
    "ca0.series(name=\"obs1\", x=r1, y=0, t=t1, h=h1, layer=0)\n",
    "ca0.series(name=\"obs2\", x=r2, y=0, t=t2, h=h2, layer=0)\n",
>>>>>>> 58828e186cd9ca8d561622448037390a6d10b392:docs/04pumpingtests/confined1_oude_korendijk.ipynb
    "ca0.fit(report=True)\n",
    "ca0.parameters"
   ]
  },
  {
   "cell_type": "code",
<<<<<<< HEAD:pumpingtest_benchmarks/confined1_oude_korendijk.ipynb
   "execution_count": 24,
=======
   "execution_count": 72,
>>>>>>> 58828e186cd9ca8d561622448037390a6d10b392:docs/04pumpingtests/confined1_oude_korendijk.ipynb
   "metadata": {},
   "outputs": [
    {
     "name": "stdout",
     "output_type": "stream",
     "text": [
<<<<<<< HEAD:pumpingtest_benchmarks/confined1_oude_korendijk.ipynb
      "rmse: 0.05006502812793313\n"
=======
      "rmse: 0.05980807316640966\n"
>>>>>>> 58828e186cd9ca8d561622448037390a6d10b392:docs/04pumpingtests/confined1_oude_korendijk.ipynb
     ]
    },
    {
     "data": {
<<<<<<< HEAD:pumpingtest_benchmarks/confined1_oude_korendijk.ipynb
      "image/png": "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\n",
=======
      "image/png": "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",
>>>>>>> 58828e186cd9ca8d561622448037390a6d10b392:docs/04pumpingtests/confined1_oude_korendijk.ipynb
      "text/plain": [
       "<Figure size 720x504 with 1 Axes>"
      ]
     },
     "metadata": {
      "needs_background": "light"
     },
     "output_type": "display_data"
    }
   ],
   "source": [
<<<<<<< HEAD:pumpingtest_benchmarks/confined1_oude_korendijk.ipynb
    "print('rmse:', ca0.rmse())\n",
    "hs1 = ml1.head(r1, 0, t1)\n",
    "hs2 = ml1.head(r2, 0 ,t2)\n",
    "plt.figure(figsize = (10, 7))\n",
    "plt.semilogx(t1, h1, '.', label='obs at 30m')\n",
    "plt.semilogx(t1, hs1[0], label='ttim at 30 m')\n",
    "plt.semilogx(t2, h2, '.', label='obs at 90m')\n",
    "plt.semilogx(t2, hs2[0], label = 'ttim at 90m')\n",
    "plt.xlabel('time [d]')\n",
    "plt.ylabel('drawdown [m]')\n",
    "plt.title('ttim analysis for Oude Korendijk')\n",
=======
    "print(\"rmse:\", ca0.rmse())\n",
    "hs1 = ml1.head(r1, 0, t1)\n",
    "hs2 = ml1.head(r2, 0, t2)\n",
    "plt.figure(figsize=(10, 7))\n",
    "plt.semilogx(t1, h1, \".\", label=\"obs at 30m\")\n",
    "plt.semilogx(t1, hs1[0], label=\"ttim at 30 m\")\n",
    "plt.semilogx(t2, h2, \".\", label=\"obs at 90m\")\n",
    "plt.semilogx(t2, hs2[0], label=\"ttim at 90m\")\n",
    "plt.xlabel(\"time [d]\")\n",
    "plt.ylabel(\"drawdown [m]\")\n",
    "plt.title(\"ttim analysis for Oude Korendijk\")\n",
>>>>>>> 58828e186cd9ca8d561622448037390a6d10b392:docs/04pumpingtests/confined1_oude_korendijk.ipynb
    "plt.legend();"
   ]
  },
  {
   "cell_type": "markdown",
   "metadata": {},
   "source": [
    "## Step 7. Comparison of Results"
   ]
  },
  {
   "cell_type": "markdown",
   "metadata": {},
   "source": [
    "### Step 7.1. Comparison of model performance and Results with and without wellbore storage"
   ]
  },
  {
   "cell_type": "markdown",
   "metadata": {},
   "source": [
    "#### 7.1.1. RMSE of the two conceptual models"
   ]
  },
  {
   "cell_type": "markdown",
   "metadata": {},
   "source": [
<<<<<<< HEAD:pumpingtest_benchmarks/confined1_oude_korendijk.ipynb
    "The following table summarises the RMSE values of the obtained models with and without wellbore storage."
=======
    "The following table summarises the rmse values of the obtained models with and without well wellbore storage consideration."
>>>>>>> 58828e186cd9ca8d561622448037390a6d10b392:docs/04pumpingtests/confined1_oude_korendijk.ipynb
   ]
  },
  {
   "cell_type": "code",
<<<<<<< HEAD:pumpingtest_benchmarks/confined1_oude_korendijk.ipynb
   "execution_count": 25,
=======
   "execution_count": 30,
>>>>>>> 58828e186cd9ca8d561622448037390a6d10b392:docs/04pumpingtests/confined1_oude_korendijk.ipynb
   "metadata": {},
   "outputs": [
    {
     "data": {
      "text/html": [
<<<<<<< HEAD:pumpingtest_benchmarks/confined1_oude_korendijk.ipynb
       "<style type=\"text/css\">\n",
       "</style>\n",
       "<table id=\"T_a9f4a_\">\n",
       "  <caption>RMSE of two conceptual models</caption>\n",
       "  <thead>\n",
       "    <tr>\n",
       "      <th class=\"blank level0\" >&nbsp;</th>\n",
       "      <th class=\"col_heading level0 col0\" >obs 30 m</th>\n",
       "      <th class=\"col_heading level0 col1\" >obs 90 m</th>\n",
       "      <th class=\"col_heading level0 col2\" >obs simultaneously</th>\n",
       "    </tr>\n",
       "  </thead>\n",
       "  <tbody>\n",
       "    <tr>\n",
       "      <th id=\"T_a9f4a_level0_row0\" class=\"row_heading level0 row0\" >without rc</th>\n",
       "      <td id=\"T_a9f4a_row0_col0\" class=\"data row0 col0\" >0.031660</td>\n",
       "      <td id=\"T_a9f4a_row0_col1\" class=\"data row0 col1\" >0.022719</td>\n",
       "      <td id=\"T_a9f4a_row0_col2\" class=\"data row0 col2\" >0.050060</td>\n",
       "    </tr>\n",
       "    <tr>\n",
       "      <th id=\"T_a9f4a_level0_row1\" class=\"row_heading level0 row1\" >with rc</th>\n",
       "      <td id=\"T_a9f4a_row1_col0\" class=\"data row1 col0\" >0.015273</td>\n",
       "      <td id=\"T_a9f4a_row1_col1\" class=\"data row1 col1\" >0.006220</td>\n",
       "      <td id=\"T_a9f4a_row1_col2\" class=\"data row1 col2\" >0.050065</td>\n",
       "    </tr>\n",
       "  </tbody>\n",
       "</table>\n"
      ],
      "text/plain": [
       "<pandas.io.formats.style.Styler at 0x2f3949fb040>"
      ]
     },
     "execution_count": 25,
=======
       "<style  type=\"text/css\" >\n",
       "</style><table id=\"T_68ac3b46_fe78_11eb_ae8b_acde48001122\" ><caption>RMSE of two conceptual models</caption><thead>    <tr>        <th class=\"blank level0\" ></th>        <th class=\"col_heading level0 col0\" >obs 30 m</th>        <th class=\"col_heading level0 col1\" >obs 90 m</th>        <th class=\"col_heading level0 col2\" >obs simultaneously</th>    </tr></thead><tbody>\n",
       "                <tr>\n",
       "                        <th id=\"T_68ac3b46_fe78_11eb_ae8b_acde48001122level0_row0\" class=\"row_heading level0 row0\" >without rc</th>\n",
       "                        <td id=\"T_68ac3b46_fe78_11eb_ae8b_acde48001122row0_col0\" class=\"data row0 col0\" >0.031660</td>\n",
       "                        <td id=\"T_68ac3b46_fe78_11eb_ae8b_acde48001122row0_col1\" class=\"data row0 col1\" >0.022719</td>\n",
       "                        <td id=\"T_68ac3b46_fe78_11eb_ae8b_acde48001122row0_col2\" class=\"data row0 col2\" >0.050060</td>\n",
       "            </tr>\n",
       "            <tr>\n",
       "                        <th id=\"T_68ac3b46_fe78_11eb_ae8b_acde48001122level0_row1\" class=\"row_heading level0 row1\" >with rc</th>\n",
       "                        <td id=\"T_68ac3b46_fe78_11eb_ae8b_acde48001122row1_col0\" class=\"data row1 col0\" >0.015273</td>\n",
       "                        <td id=\"T_68ac3b46_fe78_11eb_ae8b_acde48001122row1_col1\" class=\"data row1 col1\" >0.006219</td>\n",
       "                        <td id=\"T_68ac3b46_fe78_11eb_ae8b_acde48001122row1_col2\" class=\"data row1 col2\" >0.050065</td>\n",
       "            </tr>\n",
       "    </tbody></table>"
      ],
      "text/plain": [
       "<pandas.io.formats.style.Styler at 0x126c93b20>"
      ]
     },
     "execution_count": 30,
>>>>>>> 58828e186cd9ca8d561622448037390a6d10b392:docs/04pumpingtests/confined1_oude_korendijk.ipynb
     "metadata": {},
     "output_type": "execute_result"
    }
   ],
   "source": [
<<<<<<< HEAD:pumpingtest_benchmarks/confined1_oude_korendijk.ipynb
    "t0 = pd.DataFrame(columns=['obs 30 m', 'obs 90 m', 'obs simultaneously'], index=['without rc', 'with rc'])\n",
    "t0.loc['without rc', 'obs 30 m'] = ca1.rmse()\n",
    "t0.loc['without rc', 'obs 90 m'] = ca2.rmse()\n",
    "t0.loc['without rc', 'obs simultaneously'] = ca.rmse()\n",
    "t0.loc['with rc', 'obs 30 m'] = ca3.rmse()\n",
    "t0.loc['with rc', 'obs 90 m'] = ca4.rmse()\n",
    "t0.loc['with rc', 'obs simultaneously'] = ca0.rmse()\n",
    "\n",
    "t0.style.set_caption('RMSE of two conceptual models')\n"
=======
    "t0 = pd.DataFrame(\n",
    "    columns=[\"obs 30 m\", \"obs 90 m\", \"obs simultaneously\"],\n",
    "    index=[\"without rc\", \"with rc\"],\n",
    ")\n",
    "t0.loc[\"without rc\", \"obs 30 m\"] = ca1.rmse()\n",
    "t0.loc[\"without rc\", \"obs 90 m\"] = ca2.rmse()\n",
    "t0.loc[\"without rc\", \"obs simultaneously\"] = ca.rmse()\n",
    "t0.loc[\"with rc\", \"obs 30 m\"] = ca3.rmse()\n",
    "t0.loc[\"with rc\", \"obs 90 m\"] = ca4.rmse()\n",
    "t0.loc[\"with rc\", \"obs simultaneously\"] = ca0.rmse()\n",
    "\n",
    "t0.style.set_caption(\"RMSE of two conceptual models\")"
>>>>>>> 58828e186cd9ca8d561622448037390a6d10b392:docs/04pumpingtests/confined1_oude_korendijk.ipynb
   ]
  },
  {
   "cell_type": "markdown",
   "metadata": {},
   "source": [
    "Adding wellbore storage improved the fit performance when used drawdown data of the individual observation wells. However, when calibrated the model with both datasets simultaneously, ```rc```  was adjusted to the minimum value. Adding rc did not improve the performance much in this case."
   ]
  },
  {
   "cell_type": "markdown",
   "metadata": {},
   "source": [
    "#### 7.1.2. Model comparisons"
   ]
  },
  {
   "cell_type": "markdown",
   "metadata": {},
   "source": [
<<<<<<< HEAD:pumpingtest_benchmarks/confined1_oude_korendijk.ipynb
    "We can see the summaries of the hydraulic conductivities in the following table.\n",
    "\n",
    "We will access the parameter values by accessing the ```.parameters``` attribute of each ```Calibrate``` object."
=======
    "We can see the summaries of the hydraulic conductivities in the next table.\n",
    "\n",
    "We will access the parameter values by accessing the ```.parameters``` attribute of each ```Calibrate``` object"
>>>>>>> 58828e186cd9ca8d561622448037390a6d10b392:docs/04pumpingtests/confined1_oude_korendijk.ipynb
   ]
  },
  {
   "cell_type": "code",
<<<<<<< HEAD:pumpingtest_benchmarks/confined1_oude_korendijk.ipynb
   "execution_count": 26,
=======
   "execution_count": 31,
>>>>>>> 58828e186cd9ca8d561622448037390a6d10b392:docs/04pumpingtests/confined1_oude_korendijk.ipynb
   "metadata": {},
   "outputs": [
    {
     "data": {
      "text/plain": [
       "Text(0.5, 0, 'Calibration Dataset')"
      ]
     },
<<<<<<< HEAD:pumpingtest_benchmarks/confined1_oude_korendijk.ipynb
     "execution_count": 26,
=======
     "execution_count": 31,
>>>>>>> 58828e186cd9ca8d561622448037390a6d10b392:docs/04pumpingtests/confined1_oude_korendijk.ipynb
     "metadata": {},
     "output_type": "execute_result"
    },
    {
     "data": {
<<<<<<< HEAD:pumpingtest_benchmarks/confined1_oude_korendijk.ipynb
      "image/png": "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\n",
=======
      "image/png": "iVBORw0KGgoAAAANSUhEUgAAAnUAAAHcCAYAAACwDFzvAAAAOXRFWHRTb2Z0d2FyZQBNYXRwbG90bGliIHZlcnNpb24zLjMuMiwgaHR0cHM6Ly9tYXRwbG90bGliLm9yZy8vihELAAAACXBIWXMAAAsTAAALEwEAmpwYAAA1/klEQVR4nO3dfZxWdZ3/8deHYWTQUJTATbFQMxE1RkE3MNC82Uors0xttbLWu/2tWrrbrtvupttuu26Zlt2ZuqnbndiN3axaKUriTSUopoJmKibKAlooJuDAfH5/nDMwDnNzDcw1A2dez8djHnPNOd/rnM91ruvMvOf7PTeRmUiSJGnLNmSgC5AkSdKmM9RJkiRVgKFOkiSpAgx1kiRJFWCokyRJqgBDnSRJUgUY6jRoRcSsiDhlgNY9LiIyIob2w7qGR8RPIuL5iPhuHy73goj4Zvn4tRHxYkQ0lD8P2LbtTEQcEhGLupmfEfH6PlpXny2rk2V3uc03N/X6DETEJyLiyhrbvhgRu3Uz/6GIOKSvapMGWt3/oEidiYiFwI7A2naTr87MMwemos1XRFwAvD4zT9rIRRxLsa1HZeaaPiusncz8PfCqeiwbICKuBhZl5j/Xax1bmnpv881BGbi+mZlj26Zl5n/U+vzMXLd9OvsMZebefVKotJkw1GkgvTMzb+mpUUQM7RhGIqIhM9d29ZxOltGr9r1V7+VvotcBv61XoNtUnb2/VbWZf04kbeEcftVmJyJOjog7I+KSiPgDcEFEXB0RX42IGyPiT8BbImKvcohneTmM8q52y9igfRer2z0ifl0OTf4oInZot4zvRsT/lfNuj4i9283rcfllbf/Z1fI7tN0pIn4cEX+IiN9FxKnl9LcBnwCOL4eS7u/i+Z1ui4j4V+CT7Z7/V508t6Ec0nosIlZExNyI2KWc94WIeCoiXiinT+ti/Z0NJ3e6bdu1/auI+D1wa3fbOyJOA04E/r58DT9pt82+HxHLIuKJiDi7XT3Dy/fojxExHzigs7o7ODwiHi2f8+UoDCvfk33bLXtMRKyMiNHlzx+PiMUR8UxEfKTDdunsc3tURNxXbtOnouiJbWu/wTBxRCyMiMN72uYRsUNEXFXW8ceI+GFXLzQiTo2IBeX7PT8i9i+n97RPfTkibiif96uI2L3d/CMi4uHy/fsSEO3mrRs2rrX2iNgGuAnYqXzfXyzf8/ZD0D+NiFf07kfE/RHxnvJxRsTru/kMrdu2ETEkIs6LYj94LiKua/eZbYqIb5bTl0fEPRGxY1fbVxowmemXX/3+BSwEDu9i3snAGuAsit7k4cDVwPPAQRT/jIwAfkcReLYCDgVWAHuWy+jYvqmT9cwCngb2AbYBvk8x1NM2/yPleoYBnwfmtZu3ScsHxgEJDC1//gXwFaAJaAaWAYeV8y5oX1cn62nsYVv09PyPAw8Ae1L8IZ5IMVQLcBIwqnwf/hb4v7bX2n65nbyeWl77/5Tzhte4vf+93c9DgLkUgXUrYDfgceCt5fwLgdnADsAuwIMUQ29dbYME/hcYCby23P5vK+d9Bfivdm0/CvykfPw2YEm71/ntclmv7+pzAhwC7Fv+/Mby+e8u2x/SsU7a7Ss9bPMbgBnA9hSfiYO7eK3vK9+bA8r3+/UUvbk9fY6uBv4AHEjxefgWcG0579XACxRD/Y3AORT78CmdfQZrrb2L7dF+G3wQuLPdvAnAcmBYu/e1/Xvx791s248BvwTGUnwGvwZ8p5x3OvATYGugAZgEbDvQv0f98qvjlz11Gkg/LP/rbfs6td28ZzLzi5m5JjNXltN+lJl3ZmYrRfB5FXBhZr6cmbdS/FF+f7tlrGufmau6qOEbmflgZv4J+BfguCgPPM/Mr2fmisxcTfGHZGJEbNdXy28TRa/Ym4F/yMxVmTkPuBL4QNeb7hXeVMO26M4pwD9n5iNZuD8znwPIzG9m5nPl+/A5ij92e9a43J5e+wWZ+ae297eG7d3eAcDozPxU+ZofB64ATijnHwd8OjP/kJlPAZfWUO+Fmbk8i2PVbqP4jAFcA/xlRLT9vvwA8I1267mq3eu8oJPlvuJzkpmzMvOB8uffAN8BDq6hvi5FxGuAtwNnZOYfM7MlM3/RRfNTgM9k5j3l+/27zHyS2j5HP8jMX2cxXP4t1m+jI4H5mfm9zGyhCOX/V4faO7oeaI6I15U/n1jWuLrG57d3OvBPmbmo3Wfw2LI3sYXin5vXZ+bazJybmS9sxDqkujLUaSC9OzNHtvu6ot28pzpp337aTsBTZcBr8ySwcw/L6G6ZT1L0Erw6iiHJC8uhmBco/qOHokdik5ffoc1OwB8yc0WHtjtTm1q2RXd2AR7rbEZE/G05TPd8RCwHtmPD+rvS02tfN7/G7d3e6yiG5db9U0DRw9Q2JLZTJ+vvSfsQ8hLlSQiZ+SvgT8DBETGeomfrx71Yzys+JxHx5xFxWxTDxs8DZ1D7Nu3KLhSfoT/W2Laz97uWz1Gn24gO2yEzk9r2j7Z6aq39Fcp95gbWh/kTKMLmxngdcH27z9MCihO5dqQI8T8Dri2HiD8TEY0buR6pbgx12lxlD9OeAXZp13sCxbDZ0z0so6NdOjy/BXgW+EvgaOBwiiAzrmwT7dpvyvLbewbYISJGdGjb9lp6Wk8t26I7TwG7d5wYxfFz/0DRG7V9Zo6kGEqMjm270NNrb/+6etreHbfBU8ATHf4pGJGZR5bzF3ey/k1xDcVQ9AeA77Xrma1lPR1r/zZFKNwlM7cDLmP96/wTxRAfUIRdYHQN9T1F8RkaWWPbDd5vNu1z9IrtEBHBK7fLK14X8Gcd6umq9lr2se8A74+IKRSHatzWRbuelvUU8PYOn6mmzHy67D3818ycAEwF3kEx9CttVgx12lK19Z78fUQ0RnHpg3cC1/ZyOSdFxISI2Br4FMUf7LUUx3atBp6j+GNU82UUalz+OuXw4F3Af5YHZL8R+CvW9zgsAcZ1+GPb3qZuiyuBf4uIPaLwxogYRbEN1lAcXzY0Ij4JbFvjMqGG195OT9t7CcVxc21+DbwQEf8QxUkRDRGxT0S0nRBxHfCPEbF9RIylOD5zU3wDOIYi2P1Pu+nXASe3e53n17CsERQ9U6si4kCKQNvmt0BTFCdTNAL/TDHk3a3MXExxUsFXytfcGBHTu2h+JfB3ETGpfL9fXw5fbsrn6AZg74h4TzlceTavDG7zgOlRXFtvO+Afa6x9CTCqm2F4gBspetk+Bczo0NPYXsfPUEeXAZ9uG8qNiNERcXT5+C0RsW8Zsl+g+AfFs5i12THUaSD9JNaf1fZiRFxf6xMz82XgXRTH4jxLcTD7BzPz4V7W8A2KA6j/j+Ig9rYzKP+HYujpaWA+xQHUG6Or5Xf0foreqWcojhM6PzNvLue1XTD4uYi4t+MT+2BbXEwRTn5O8Qfrvyl6PH5G8cf2txTbYhW1D6lB7a8det7e/w1MKIfGfliGw3dSHNP1BMXrvpKilw/gX8vlPVG+rm+wCTJzEXAvRW/P7HbTb6I4fuxWipMMbq1hcf8P+FRErKA40eO6dst7vpx/JcW2+BPQ5UWTO/gARdh4GFhKceB/Z6/lu8CnKXoMVwA/BHbYlM9RZj5LcQLGhRTBfA/gznbzb6Y4EeI3FCe4/G8ttZfr/g7wePne79TJulcDP6Do5f12N2W+4jPUyfwvUPSg/rx8b34J/Hk578+A71HsHwsoTmz6ZifLkAZUFIc+SOprETGL4iy9mq5+r81bRHyd4gQeL4AsabPkxYclqQcRMQ54D7DfAJciSV1y+FWSuhER/0ZxnbvPZuYTA12PJHXF4VdJkqQKsKdOkiSpAgx1kiRJFWCokyRJqgBDnSRJUgUY6iRJkirAUCdJklQBhjpJkqQKMNRJkiRVgKFOkiSpAgx1kiRJFWCokyRJqgBDnSRJUgUY6iRJkirAUCdJklQBhjpJkqQKMNRJkiRVgKFOkiSpAgx1kiRJFWCokyRJqgBDnSRJUgUY6iRJkirAUCdJklQBhjpJkqQKMNRJkiRVgKFOkiSpAgx1kiRJFWCokyRJqgBDnSRJUgUY6iRJkirAUCdJklQBhjpJkqQKMNRJkiRVgKFOkiSpAgx1kiRJFWCokyRJqgBDnSRJUgUMHegCavHqV786x40bN9BlSJIk9Wju3LnPZubo/l7vFhHqxo0bx5w5cwa6DEmSpB5FxJMDsV6HXyVJkirAUCdJklQBhjpJkqQK2CKOqZMkSZumpaWFRYsWsWrVqoEupTKampoYO3YsjY2NA10KYKiTJGlQWLRoESNGjGDcuHFExECXs8XLTJ577jkWLVrErrvuOtDlAA6/SpI0KKxatYpRo0YZ6PpIRDBq1KjNqufTnjpJkgaJWgJdZjLvqeVcMftxbnt4Gata1tLU2MCh48dw6vTdmDh2O4NhaXPbDoY6SZIEQMvaVs69bh63zF/K6jVrac1i+sqWtdz04GJufXgph08Yw8XHNdPY4GDf5sZ3RJIkkZmce908bp6/hJUt6wNdm9Yswt3N85dw7nXzyMzOF7QJjjzySJYvX87y5cv5yle+sm76rFmzeMc73tHn66saQ50kSWLeU8u5Zf5SVrW0dttuVUsrt8xfyv2Lnu/zGm688UZGjhy5QajbGGvWrOmjqrYchjpJksSVs59g9Zq1NbVdvWYtV85+vFfL/8xnPsOll14KwDnnnMOhhx4KwMyZMznppJOA4ragzz77LOeddx6PPfYYzc3NfPzjHwfgxRdf5Nhjj2X8+PGceOKJnfYUHnLIIXziE5/g4IMP5gtf+AL33HMPU6dOZeLEiRx44IGsWLGiVzVvaTymTpIkcevDSzcYcu1Ka8LMBUt7tfzp06fzuc99jrPPPps5c+awevVqWlpauOOOO5g2bdor2l544YU8+OCDzJs3DyiGX++77z4eeughdtppJw466CDuvPNO3vzmN2+wnuXLl/OLX/yCl19+mfHjxzNjxgwOOOAAXnjhBYYPH96rmrc09tRJkiRWtdTWS7eufY29em0mTZrE3LlzWbFiBcOGDWPKlCnMmTOH2bNnbxDqOnPggQcyduxYhgwZQnNzMwsXLuy03fHHHw/AI488wmte8xoOOOAAALbddluGDq12X1a1X50kSapJU2MDK3sR7JqGNvRq+Y2NjYwbN46rrrqKqVOn8sY3vpHbbruNxx57jL322qvH5w8bNmzd44aGhi6Pmdtmm22A4sSPze2SI/VmT50kSeLQ8WMYUmMGGhJw2F5jer2O6dOnc9FFFzF9+nSmTZvGZZddRnNz8wbha8SIEZt8/Nv48eN55plnuOeeewBYsWJF5U+eMNRJkiROmbYrw2rsfRs2tIFTpu3W63VMmzaNxYsXM2XKFHbccUeampo6HXodNWoUBx10EPvss8+6EyV6a6uttmLGjBmcddZZTJw4kSOOOGKzuvtDPUQ9rjPT1yZPnpxz5swZ6DIkVcjxX7sbgBmnTxngSqT+sWDBgm6HOTOTs6+9j5vnL+n2siZNjUM4YsKOXHrCfoNueLMznW3XiJibmZP7uxZ76iRJEhHBxcc1c8SEHRne2LDBUOyQgOGNDRwxYUcuPm7DIVMNPE+UkCRJADQ2DOHSE/bj/kXPc8Xtj3Prw0tZtWYtTUMbOGyvMZw6bTcm7jJyoMtUFwx1kiRpnYigeZeRfPnE/Qe6FPWSw6+SJEkVYE+dJElaLxOengt3XQqP/hxaVkFjE+zxVph6Nuy8P3g83WbJUCdJkgprW+D6M+CRG2HNKsjyLNiWlbDgx0XI2/NIOOYyaGgc2Fq1AYdfJUlS0UN3/RnwyA3Q8tL6QLdufmsx/eEbinZ1uCTakUceyfLly1m+fDlf+cpX1k2fNWsW73jHO/pkHbNmzeKuu+7qk2Vtbgx1kiSpGHJ95MaiV647a1YW7Z6+t89LuPHGGxk5cuQGoa4v1RrqtsS7TxjqJEkS3PXFYsi1FmtWwd1f6tXiP/OZz3DppZcCcM4553DooYcCMHPmTE466SQAxo0bx7PPPst5553HY489RnNz87o7Srz44osce+yxjB8/nhNPPJG2myfMnDmT/fbbj3333ZePfOQjrF69+hXLApgzZw6HHHIICxcu5LLLLuOSSy6hubmZ2bNnv6LGCy64gNNOO42/+Iu/4IMf/CBLlizhmGOOYeLEiUycOHGz7+Ez1EmSJHj0ZxsOuXYlW+G3P+3V4qdPn74uRM2ZM4cXX3yRlpYW7rjjjg1uFXbhhRey++67M2/ePD772c8CcN999/H5z3+e+fPn8/jjj3PnnXeyatUqTj75ZGbMmMEDDzzAmjVr+OpXv9plDePGjeOMM87gnHPOYd68eZ3eomzu3Ln86Ec/4tvf/jZnn302Bx98MPfffz/33nsve++9d69ec3+ra6iLiI9GxIMR8VBEfKyctkNE3BwRj5bft69nDZIkqQYtvbwv6poehmk7mDRpEnPnzmXFihUMGzaMKVOmMGfOHGbPnt1puOrowAMPZOzYsQwZMoTm5mYWLlzII488wq677sob3vAGAD70oQ9x++239+51dPCud72L4cOHA3Drrbfy13/91wA0NDSw3XbbbdKy661uoS4i9gFOBQ4EJgLviIg9gPOAmZm5BzCz/FmSJA2kxqbetR86vHeLb2xk3LhxXHXVVUydOpVp06Zx22238dhjj3V7T9o2w4YNW/e4oaGBNWvW0N3964cOHUpra9HzuGpV7YF1m222qbnt5qaePXV7Ab/MzJcycw3wC+AY4GjgmrLNNcC761iDJEmqxR5vhagxFsQQeMPber2K6dOnc9FFFzF9+nSmTZvGZZddRnPzhveRHTFiBCtWrOhxeePHj2fhwoX87ne/A+Ab3/gGBx98MFAMtc6dOxeA73//+71eNsBhhx22bjh37dq1vPDCCzU9b6DUM9Q9CEyPiFERsTVwJLALsGNmLgYov4+pYw2SJKkWU8+CoTX21g1tgiln9noV06ZNY/HixUyZMoUdd9yRpqamTodeR40axUEHHcQ+++yz7kSJzjQ1NXHVVVfxvve9j3333ZchQ4ZwxhlnAHD++efz0Y9+lGnTptHQ0LDuOe985zu5/vrrOz1RoqMvfOEL3Hbbbey7775MmjSJhx56qNevuT9Fd12Xm7zwiL8C/gZ4EZgPrAQ+nJkj27X5Y2ZucFxdRJwGnAbw2te+dtKTTz5ZtzolDT7Hf+1uAGacPmWAK5H6x4IFC7of5syE759SXIeuu+Plhg6H8UfBe6/0zhJ0vl0jYm5mTu7vWup6okRm/ndm7p+Z04E/AI8CSyLiNQDl96VdPPfyzJycmZNHjx5dzzIlSVJEcaeI8UdB49YbDsXGkGL6+KOKdga6zU5dbxMWEWMyc2lEvBZ4DzAF2BX4EHBh+f1H9axBkiTVqKGx6IF7+t71935ds7LonXvD22DqmbDzpIGuUl2o971fvx8Ro4AW4G8y848RcSFwXTk0+3vgfXWuQZIkAZm5wUkJG4iAsZPguGu6b6duz74dCHUNdZm5wdGPmfkccFg91ytJkl6pqamJ5557jlGjRvUc7NSjzOS5556jqamXl4Kpo3r31EmSpM3A2LFjWbRoEcuWLRvoUiqjqamJsWPHDnQZ6xjqJEkaBBobG9l1110HugzVkfd+lSRJqgBDnSRJUgUY6iRJkirAUCdJklQBhjpJkqQKMNRJkiRVgKFOkiSpAgx1kiRJFeDFhyUNGpnJvKeWc8Xsx7ln4R9oTdjrX37KoePHcOr03Zg4djtvnyRpi2WokzQotKxt5dzr5nHL/KWsXrOW1vI+3Ctb1nLTg4u59eGlHD5hDBcf10xjg4MYkrY8/uaSVHmZybnXzePm+UtY2bI+0LVpzSLc3Tx/CedeN4/M7HxBkrQZM9RJqrx5Ty3nlvlLWdXS2m27VS2t3DJ/Kfcver6fKpOkvmOok1R5V85+gtVr1tbUdvWatVw5+/E6VyRJfc9QJ6nybn146QZDrl1pTZi5YGl9C5KkOjDUSaq8VS219dKta19jr54kbU4MdZIqr6mxoXfth/auvSRtDgx1kirv0PFjGFLj5eeGBBy215j6FiRJdWCok1R5p0zblWE19r4NG9rAKdN2q3NFktT3DHWSKq95l5EcPmEMTY3d/8prahzC4RPGMHHsdv1UmST1HUOdpMqLCC4+rpkjJuzI8MaGDYZihwQMb2zgiAk7cvFxzd4qTNIWyduESRoUGhuGcOkJ+3H/oue54vbHuenBxbRmEeYO22sMp07bjYm7jBzoMiVpoxnqJA0aEUHzLiP58on7c/zX7gZgxulTBrgqSeobDr9KkiRVgKFOkiSpAgx1kiRJFWCokyRJqgBDnSRJUgUY6iRJkirAUCdJklQBhjpJkqQKMNRJkiRVgKFOkiSpAgx1kiRJFWCokyRJqgBDnSRJUgUY6iRJkirAUCdJklQBhjpJkqQKMNRJkiRVgKFOkiSpAgx1kiRJFWCokyRJqgBDnSRJUgUY6iRJkirAUCdJklQBhjpJkqQKMNRJkiRVgKFOkiSpAgx1kiRJFWCokyRJqoCh9Vx4RJwDnAIk8ADwYeA84FRgWdnsE5l5Yz3rkKSOZpw+ZaBLkKQ+VbdQFxE7A2cDEzJzZURcB5xQzr4kMy+q17olSZIGm3oPvw4FhkfEUGBr4Jk6r0+SJGlQqluoy8yngYuA3wOLgecz8+fl7DMj4jcR8fWI2L6z50fEaRExJyLmLFu2rLMmkiRJKtUt1JVh7WhgV2AnYJuIOAn4KrA70EwR9j7X2fMz8/LMnJyZk0ePHl2vMiVJkiqhnsOvhwNPZOayzGwBfgBMzcwlmbk2M1uBK4AD61iDJEnSoFDPUPd74E0RsXVEBHAYsCAiXtOuzTHAg3WsQZIkaVCo29mvmfmriPgecC+wBrgPuBy4MiKaKS5zshA4vV41SJIkDRZ1vU5dZp4PnN9h8gfquU5JkqTByDtKAMd/7W6O/9rdA12GJEnSRjPUSZIkVYChTpIkqQIMdZIkSRVgqJMkSaoAQ50kSVIFGOokSZIqwFAnSZJUAYY6SZKkCjDUSZIkVYChTpIkqQIMdZIkSRVgqJMkSaoAQ50kSVIFGOokSZIqwFAnSZJUAYY6SZKkCjDUSZIkVYChTpIkqQIMdZIkSRVgqJMkSaoAQ50kSVIFGOokSZIqwFAnSZJUAYY6SZKkCjDUSZIkVYChTpIkqQIMdZIkSRVgqJMkSaoAQ50kSVIFGOokSZIqwFAnSZJUAYY6SZKkCjDUSZIkVYChTpIkqQIMdZIkSRUwdKALGCiZybynlnPF7Me5Z+EfaE3Y619+yqHjx3Dq9N2YOHY7ImKgy5QkSarJoAx1LWtbOfe6edwyfymr16ylNYvpK1vWctODi7n14aUcPmEMFx/XTGODnZmSJGnzN+gSS2Zy7nXzuHn+Ela2rA90bVqzCHc3z1/CudfNIzM7X5AkSdJmZNCFunlPLeeW+UtZ1dLabbtVLa3cMn8p9y96vp8qkyRJ2niDLtRdOfsJVq9ZW1Pb1WvWcuXsx+tckSRJ0qYbdKHu1oeXbjDk2pXWhJkLlta3IEmSpD4w6ELdqpbaeunWta+xV0+SJGkgDbpQ19TY0Lv2Q3vXXpIkaSAMulB36PgxDKnx8nNDAg7ba0x9C5IkSeoDgy7UnTJtV4bV2Ps2bGgDp0zbrc4VSZIkbbpBF+qadxnJ4RPG0NTY/UtvahzC4RPGMHHsdv1UmSRJ0sYbdKEuIrj4uGaOmLAjwxsbNhiKHRIwvLGBIybsyMXHNXurMEmStEUYlLcJa2wYwqUn7Mf9i57nitsf56YHF9OaRZg7bK8xnDptNybuMnKgy5QkSarZoAx1UPTYNe8yki+fuD/Hf+1uAGacPmWAq5IkSdo4g274VZIkqYrqGuoi4pyIeCgiHoyI70REU0TsEBE3R8Sj5fft61mDJEnSYFC3UBcROwNnA5Mzcx+gATgBOA+YmZl7ADPLnyVJkrQJ6j38OhQYHhFDga2BZ4CjgWvK+dcA765zDZIkSZVXt1CXmU8DFwG/BxYDz2fmz4EdM3Nx2WYx4C0bJEmSNlE9h1+3p+iV2xXYCdgmIk7qxfNPi4g5ETFn2bJl9SpTkiSpEuo5/Ho48ERmLsvMFuAHwFRgSUS8BqD8vrSzJ2fm5Zk5OTMnjx49uo5lSpIkbfnqGep+D7wpIraO4rYMhwELgB8DHyrbfAj4UR1rkCRJGhTqdvHhzPxVRHwPuBdYA9wHXA68CrguIv6KIvi9r141SJIkDRZ1vaNEZp4PnN9h8mqKXjtJkiT1Ee8oIUmSVAGGOkmSpAow1EmSJFWAoU6SJKkCDHWSJEkVYKiTJEmqAEOdJElSBRjqJEmSKsBQJ0mSVAGGOkmSpAow1EmSJFWAoU6SJKkCDHWSJEkVYKiTJEmqgKHdzYyIHWpYRmtmLu+bciRJkrQxug11wDPlV3TTpgF4bZ9VJEmSpF7rKdQtyMz9umsQEff1YT2SJEnaCD0dUzelhmXU0kaSJEl11FNP3dYRsXVXMzPzD5m5qo9rkiRJUi/1FOrmAklxTN1rgT+Wj0cCvwd2rWdxkiRJqk23w6+ZuWtm7gb8DHhnZr46M0cB7wB+0B8FSpIkqWe1XqfugMy8se2HzLwJOLg+JUmSJKm3ehp+bfNsRPwz8E2K4diTgOfqVpUkSZJ6pdaeuvcDo4Hry6/R5TRJkiRtBnq6o8Q/Aj/NzPuAj/ZPSZIkSeqtnoZfnwA+GhETgfuBm4CfZ+Yf615ZP5pxupfakyRJW7ZuQ11mXgtcCxAR+wFvA34QEQ3ALRS9eL+ue5WSJEnqVq0nSlAOwd4H/GdEbAscAZwCGOokSZIGWE2hruyZOwoY1/45mXlafcqSJElSb9TaU/cTYBXwANBaTsu6VCRJkqReqzXUjc3MN9a1EkmSJG20Wq9Td1NE/EVdK5EkSdJGq7Wn7pfA9RExBGgBAsjM3LZulUmSJKlmtYa6zwFTgAcy02PpJEmSNjO1Dr8+CjxooJMkSdo81dpTtxiYFRE3AavbJmbmxXWpSpIkSb1Sa6h7ovzaqvySJEnSZqSmUJeZ/1rvQiRJkrTxuj2mLiIu6GkBtbSRJElSffXUU3dKRLzQzfwATgAu6LOKJEmS1Gs9hborgBE1tJEkSdIA6jbUeSydJEnSlqHW69RJkiRpM2aokyRJqoCezn4d2828d/Z9OZIkSdoYPfXUzYyIcR0nRsRHgM/XoyBJkiT1Xk+h7hzg5ojYo21CRPxjOf3gehYmSZKk2vV09uuNEbEauCki3g2cAhwATM/MP/ZDfZIkSapBjydKZOZM4GRgFrAbcJiBTpIkafPSbU9dRKwAkuLOEcOAw4ClERFAZua29S9RkiRJPelp+LWnu0lIkiRpM+B16iRJkiqgp3u/brSI2BOY0W7SbsAngZHAqcCycvonMvPGetUhSZI0GNQt1GXmI0AzQEQ0AE8D1wMfBi7JzIvqtW5JkqTBpr+GXw8DHsvMJ/tpfZIkSYNKf4W6E4DvtPv5zIj4TUR8PSK27+wJEXFaRMyJiDnLli3rrIkkSZJKdQ91EbEV8C7gu+WkrwK7UwzNLgY+19nzMvPyzJycmZNHjx5d7zIlSZK2aP3RU/d24N7MXAKQmUsyc21mtgJXAAf2Qw2SJEmV1h+h7v20G3qNiNe0m3cM8GA/1CBJklRpdTv7FSAitgaOAE5vN/kzEdFMcaeKhR3mSVL/uOqo4vuHbxjYOiSpj9Q11GXmS8CoDtM+UM91SpIkDUbeUUKSJKkCDHWSJEkVYKiTJEmqAEOdJElSBRjqJEmSKsBQJ0mSVAGGOkmSpAow1EmSJFWAoU6SJKkCDHWSJEkVYKiTJEmqAEOdJElSBRjqJEmSKsBQJ0mSVAGGOkmSpAow1EmSJFWAoU6SJKkCDHWSJEkVYKiTJEmqAEOdJElSBRjqJEmSKsBQJ0mSVAGGOkmSpAow1EmSJFWAoU6SJKkCDHWSJEkVYKiTJEmqAEOdJElSBRjqJEmSKsBQJ0mSVAFDB7oASeo3mfD0XLjrUvj9XZCt8Ok/gz3eClPPhp33h4iBrlKSNoqhTtLgsLYFrj8DHrkR1qwqAh1Ay0pY8GN49Oew55FwzGXQ0DiwtUrSRnD4VVL1ZZaB7gZoeWl9oFs3v7WY/vANRbvMgalTkjaBoU5S9T09t+iha1nZfbs1K4t2T9/bP3VJUh8y1Emqvru+WAy51mLNKrj7S/WtR5LqwFAnqfoe/dmGQ65dyVb47U/rW48k1YGhTlL1tdTYS9dmTQ/DtJK0GTLUAVx1VPElqZoam3rXfujw+tQhSXVkqJNUfXu8FaLGX3cxBN7wtvrWI0l1YKiTVH1Tz4KhNfbWDW2CKWfWtx5JqgNDnaTq23lScWHhnoZVhw4v2u28f//UJUl9yFAnqfoiijtFjD8KGrfecCg2hhTTxx9VtPNWYZK2QN4mTNLg0NAI772yuLDwXZcWtwbL1iLMveFtMPXMokdPkrZQhjpJg0cEjJ0Ex12z/oz3D98wsDVJUh9x+FWSJKkCDHWSJEkVYKiTJEmqAEOdJElSBRjqJEmSKsBQJ0mSVAGGOkmSpAqoW6iLiD0jYl67rxci4mMRsUNE3BwRj5bft69XDZIkSYNF3UJdZj6Smc2Z2QxMAl4CrgfOA2Zm5h7AzPJnSZIkbYL+Gn49DHgsM58EjgauKadfA7y7n2qQJEmqrP4KdScA3ykf75iZiwHK72P6qQZJkqTKqnuoi4itgHcB3+3l806LiDkRMWfZsmX1KU6SJKki+qOn7u3AvZm5pPx5SUS8BqD8vrSzJ2Xm5Zk5OTMnjx49uh/KlCRJ2nL1R6h7P+uHXgF+DHyofPwh4Ef9UIMkSVKl1TXURcTWwBHAD9pNvhA4IiIeLeddWM8aJEmSBoOh9Vx4Zr4EjOow7TmKs2ElSZLUR7yjhCRJUgUY6iRJ0qBw/Nfu5viv3T3QZdRNXYdfJUmSNheffO7j5aM7BrSOerGnTpIkqQIMdZIkSRVgqJMkSaqAwXtMXSY8PRfuuhR+fxdkK3z6z2CPt8LUs2Hn/SFioKuUJEmqyeAMdWtb4Poz4JEbYc2qItABtKyEBT+GR38Oex4Jx1wGDY0DW6skSVINBt/wa2YZ6G6AlpfWB7p181uL6Q/fULTLHJg6JUmSemHwhbqn5xY9dC0ru2+3ZmXR7ul7+6cuSZKkTTD4Qt1dXyyGXGuxZhXc/aX61iNJktQHBl+oe/RnGw65diVb4bc/rW89kiRJfWDwhbqWGnvp2qzpYZhWkiRpMzD4Ql1jU+/aDx1enzokSZL60OC7pMkeby0uW1LLEGwMgTe8rf41Sep/H75hoCuQpD41+Hrqpp4FQ2vsrRvaBFPOrG89kiRJfWDwhbqdJxUXFu5pWHXo8KLdzvv3T12SJEmbYPCFuojiThHjj4LGrYsh1lfMH1JMH39U0c5bhUmSpC3A4DumDopbf733yuLCwndduv4Yu8ati2Popp5Z9OhJkiRtIQZnqIOiB27sJDjuGrjqqGKaB05LkqQt1OAbfpUkSaogQ50kSVIFGOokSZIqwFAnSZJUAYY6SZKkCjDUSZIkVYChTpIkqQIMdZIkSRVgqJMkSaoAQ50kSVIFGOokSZIqwFAnSZJUAYY6SZKkCjDUSZIkVYChTpIkqQIMdZIkSRUwdKALkCRJqpdsbeW3987iT7MuYa/VjzCMl1l5/mjmj5jCiEPPZY/m6cSQavRxGeokSVIltby8mvu/eAITXriTYbxMQyQAw3mZ5hW3s/pHv2TubQcx8axradxq2ABXu+mqEU0lSZLaydZW7v/iCez9wh1sHavXBbo2DZFsHavZ+4U7uP+LJ5CtrQNUad8x1EmSpMr57b2zmPDCnQyPl7ttNzxeZsILd/LovNv7qbL6MdRJkqTKeXHW5xlG94GuzTBeZsWtn69vQf3AUCdJkipnwoq7Nxhy7UpDJHutuKvOFdWfoU6SJFVOrb10bZp62X5zZKiTJEmVs5qtetV+VS/bb44MdZIkqXLmj5jC2oya2q7NYMGIqXWuqP4MdZIkqXJedcjHau6tW81WjDj0Y/UtqB8Y6gA+fEPxJUmSKuEN+x/C/G0PYmV2H+xW5lbM3/Yg9mie3k+V1Y+hTpIkVU4MGcLEs67loW3fzEs5bIOh2LUZvJTDeGjbNzPxrGsrcauwLf8VSJIkdaJxq2FMOuf7LDr6OuaNmM5LuRWtZZibN+IQFh39XSb/7fWVuEUYeO9XSZJUYTFkCG/Y/xDY/xAe+o83A7D3J+5g0sCWVRf21EmSJFWAoU6SJKkC6hrqImJkRHwvIh6OiAURMSUiLoiIpyNiXvl1ZD1rkCRJGgzqfUzdF4CfZuaxEbEVsDXwVuCSzLyozuuWJEkaNOoW6iJiW2A6cDJAZr4MvBxR29WdJUmSVLt6Dr/uBiwDroqI+yLiyojYppx3ZkT8JiK+HhHb17EGSZKkQaGeoW4osD/w1czcD/gTcB7wVWB3oBlYDHyusydHxGkRMSci5ixbtqyOZUqSJG356hnqFgGLMvNX5c/fA/bPzCWZuTYzW4ErgAM7e3JmXp6ZkzNz8ujRo+tYpiRJ0pavbqEuM/8PeCoi9iwnHQbMj4jXtGt2DPBgvWqQJEkaLOp99utZwLfKM18fBz4MXBoRzUACC4HT61yDJElS5dU11GXmPGByh8kfqOc6JUmSBiPvKCFJklQBhjpJkqQKMNRJkiRVgKFOkiSpAgx1kiRJFWCokyRJqgBDnSRJUgUY6iRJkirAUCdJklQBhjpJkqQKMNRJkiRVgKFOkiSpAgx1kiRJFWCokyRJqgBDnSRJUgUY6iRJkirAUCdJklQBhjpJkqQKMNRJkiRVgKFOkiSpAgx1kiRJFWCokyRJqoChA12AJElSf/jUqM8CMGOA66gXQ50kSRoUZpw+ZaBLqCuHXyVJkirAUCdJklQBhjpJkqQKMNRJkiRVgKFOkiSpAgx1kiRJFWCokyRJqgBDnSRJUgUY6iRJkirAUCdJklQBhjpJkqQKMNRJkiRVgKFOkiSpAgx1kiRJFWCokyRJqgBDnSRJUgVEZg50DT2KiGXAk3VezauBZ+u8DkmbF/d7afDpj/3+dZk5us7r2MAWEer6Q0TMyczJA12HpP7jfi8NPlXe7x1+lSRJqgBDnSRJUgUY6ta7fKALkNTv3O+lwaey+73H1EmSJFWAPXWSJEkVUIlQFxHjIuLBjXzu0RHxm4iYFxFzIuLN7ea9LSIeiYjfRcR5fVexpE21ifv99hFxfbnv/zoi9mk3z/1e6qVN2R+7WN5OEfG9PlrWIRHxv+0eT+2L5dZD+1o3RiVC3SaaCUzMzGbgI8CVABHRAHwZeDswAXh/REwYqCIl9alPAPMy843AB4EvgPu9tLnIzGcy89g6LPoQYLMNdZtqiwt1EXFuRDxYfn2s3ayhEXFN+Z/39yJi67L9hRExv5x+UcflZeaLuf7Awm2AtscHAr/LzMcz82XgWuDoTuq5OiK+GhG3RcTjEXFwRHw9IhZExNV9+NKlQauv93uKwDYTIDMfBsZFxI6430s96uv9sdx/5pVf90XEiPY9fxFxckT8MCJ+EhFPRMSZZQ33RcQvI2KHst2siJhcPn51RCzssJ5xwBnAOeW6pkXEOyPiV+Wybil/DxARF5T79KxyHz+73XJOKnv450XE18p/BomI90fEA+V2+a927V9s9/jYtt8REfG+su39EXF7h1qHRMSjETG63c+/i4hXd/febFGhLiImAR8G/hx4E3BqROxXzt4TuLz8z/sF4P+Vb/QxwN7l9H/vYrnHRMTDwA0UvXUAOwNPtWu2qJzWme2BQ4FzgJ8AlwB7A/tGRPNGvFRJpTrt9/cD7ymXfyDwOmAs7vdSt+q0P/4d8DfliNk0YGUnbfYB/pLiH69PAy9l5n7A3RS97T3KzIXAZcAlmdmcmbOBO4A3lcu6Fvj7dk8ZD7y1XOf5EdEYEXsBxwMHlfWuBU6MiJ2A/6L4ndAMHBAR7+6hpE8Cb83MicC7OtTaCnwTOLGcdDhwf2Z2eyeMLSrUAW8Grs/MP2Xmi8APKD4AAE9l5p3l42+WbV8AVgFXRsR7gJc6W2hmXp+Z44F3A/9WTo7OmnZR10/K3r4HgCWZ+UD5hjwEjOvF65O0oXrs9xcC20fEPOAs4D5gDe73Uk/qsT/eCVxc9oaNzMw1nbS5LTNXZOYy4HmKf6Sg2P/GbcLrGQv8LCIeAD5O8Y9Zmxsyc3UZpJYCOwKHAZOAe8rfH4cBuwEHALMyc1lZ/7eA6T2s+07g6og4FWjoZP7XWR9YPwJc1dOL2dJCXWe/cNt0/MWb5YY9EPg+RWD7aXcLz8zbgd3L7s1FwC7tZo8FnuniqavL763tHrf9PLS7dUrqUZ/v95n5QmZ+uPxP+4PAaOAJ3O+lntRjf7wQOAUYDvwyIsZ3suyO+1j7/a9tf1vD+lzT1E2d7X0R+FJm7guc3uF57de5tlxPANeUPX3NmblnZl5A7dtl3fIz8wzgnyl+58yLiFGveFLmU8CSiDiUomf0pp5ezJYW6m4H3h0RW0fENhRdurPLea+NiCnl4/cDd0TEq4DtMvNG4GMUXaKvEBGvj4goH+8PbAU8B9wD7BERu0bEVsAJwI/r9sokdaUe+/3Icr+G4o/J7Zn5Au73Uk/qsT/uXvZ0/xcwh2LYc2MspOhFA+jqJIsVwIh2P28HPF0+/lAN65gJHBsRYwAiYoeIeB3wK+Dg8li+BorX/4vyOUsiYq+IGEKxvSifu3tm/iozPwk8yyv/oWxzJUWv53WZuban4raoUJeZ9wJXA7+m2IBXZuZ95ewFwIci4jfADsBXKd64/y2n/YLi2JeO3gs8WHajfhk4PgtrgDOBn5XLvi4zH6rXa5PUuTrt93sBD5XH0r4d+Gi5Lvd7qRt12h8/1nbCAMXxdD32SHXhIuCvI+IuoKsTCn4CHNN2ogRwAfDdiJhNEay6lZnzKXrXfl6+ppuB12TmYuAfgdsojtm9NzN/VD7tPOB/gVuBxe0W99m2EysowvL9nazyx8CrqGHoFbyjhCRJ0mapPJv3ksyc1mNjPO5DkiRpsxPFxc//mvVnwPb8HHvqJEmStnxb1DF1kiRJ6pyhTpIkqQIMdZIkSRVgqJO0SSLizyLi2oh4LIr7O94YEW/o4Tkvlt93iojvlY9PjogvbWItH4vyfpPlzzdGxMhNWWa5nAsi4unyMgiPRsQPImJCDc87ubx9UJ+JiOaIOLIvlympGgx1kjZaeeHu6yluj7N7Zk4APkFxO50eZeYzmdnVRUI7XV95Ac+ufAxYF+oy88jMXF7r8nvQdr/IPYAZwK1tN9vuxslAn4Y6iou3GuokbcBQJ2lTvAVoyczL2iZk5rzMnB0Rr4qImRFxb3mBzaM7PjkixpUX3myzS0T8NCIeiYjz27VZEBFfAe4t23w1IuZExEMR8a9lu7MpAtRtEXFbOW1heds/IuLc8gKnD0bExzos+4pyWT+PiOE9vejMnAH8nOIG40TEJyPinnLZl5fh81hgMvCtsodveGft2movezl/ExHXltO2iYivl+3vi4ijy7tcfAo4vlzm8b14ryRVnKFO0qbYB5jbxbxVwDGZuT9F+PtcW4jpxoEU12RqBt5XXngTYE/gfzJzv8x8EvinzJwMvJHi1jxvzMxLKe7T+pbMfEv7hUbEJODDFPdPfBNwakTsV87eA/hyZu4NLKe4y0wt7mX97Yy+lJkHZOY+FPevfEdmfo/ilkcnlj18KztrVz7/PGC/zHwjcEY57Z+AWzPzAIrt91mgEfgkMKNc5owaa5U0CBjqJNVLAP9R3krnFmBneh6WvTkznysD0A+AN5fTn8zMX7Zrd1xE3AvcB+wN9HR825uB6zPzT5n5Yrnstiu0P5GZ88rHc4FxPb6yQvuA+paI+FVEPAAcWtbUma7a/YaiR+8kipuSA/wFcF55C8NZFDcCf22NtUkahLyjhKRN8RBd3zj7RGA0MCkzWyJiIUUw6U7Hq6G3/fyntgkRsSvwd8ABmfnHiLi6huV210O4ut3jtRQ9aLXYD5gTEU3AV4DJmflURFzQWT09tDsKmA68C/iXiNi7rPm9mflIh+X8eY31SRpk7KmTtCluBYZFxKltEyLigIg4GNgOWFoGurcAr6theUdExA7lcW3vBu7spM22FCHv+YjYEXh7u3krKG4g3tHtwLsjYuuI2AY4BphdQz2dioj3UvSkfYf1wezZiHgVrwy57evptF154scumXkb8PfASIobeP8MOKvdcXf7dbJMSVrHUCdpo2Vxn8FjKMLYYxHxEHABxbFt3wImR8Qcil67h2tY5B3AN4B5wPczc04n67yfYtj1IeDrvDL4XQ7c1HaiRLvn3AtcDfwa+BVwZWbeV/MLLZzTdkkT4CTg0MxcVp5dewXwAPBD4J52z7kauKwcQl3dRbsG4JvlkOx9FGfZLgf+jeIYut+UJ5P8W9n+NmCCJ0pI6sh7v0qSJFWAPXWSJEkVYKiTJEmqAEOdJElSBRjqJEmSKsBQJ0mSVAGGOkmSpAow1EmSJFWAoU6SJKkC/j/WUUpWN9CvEAAAAABJRU5ErkJggg==",
>>>>>>> 58828e186cd9ca8d561622448037390a6d10b392:docs/04pumpingtests/confined1_oude_korendijk.ipynb
      "text/plain": [
       "<Figure size 720x504 with 1 Axes>"
      ]
     },
     "metadata": {
      "needs_background": "light"
     },
     "output_type": "display_data"
    }
   ],
   "source": [
    "# Preparing the DataFrame:\n",
<<<<<<< HEAD:pumpingtest_benchmarks/confined1_oude_korendijk.ipynb
    "t1 = pd.DataFrame(columns=['kaq - opt', 'kaq - min', 'kaq - max', 'W. Storage', 'Calib. Dataset']) \n",
    "w_storage = ['without rc','without rc','without rc','with rc','with rc','with rc',]\n",
    "obs_dataset = ['obs 30 m','obs 90 m','obs simultaneously','obs 30 m','obs 90 m','obs simultaneously']\n",
    "\n",
    "# Looping through all calibration objects and fetching the desired values\n",
    "for calib,w_sto,obs_dts in zip([ca1,ca2,ca,ca3,ca4,ca0],w_storage,obs_dataset):\n",
    "    p = calib.parameters #Accessing the parameters Dataframe inside the Calibrate object\n",
    "    tab = pd.DataFrame([[p.loc['kaq0','optimal'], 2*p.loc['kaq0', 'std'], 2*p.loc['kaq0', 'std'],w_sto,obs_dts]],\n",
    "                      columns=['kaq - opt', 'kaq - min', 'kaq - max', 'W. Storage', 'Calib. Dataset'])\n",
    "    t1 = t1.append(tab)\n",
    "\n",
    "# Plotting\n",
    "groups = t1.groupby('W. Storage')\n",
    "plt.figure(figsize = (10,7))\n",
    "for name, group in groups:\n",
    "    plt.errorbar(x = group['Calib. Dataset'], y = group['kaq - opt'], yerr = [group['kaq - min'], group['kaq - max']],\n",
    "                marker='o', linestyle='', markersize=12, label=name)\n",
    "plt.legend()\n",
    "plt.suptitle(\"Error bar plot of calibrated hydraulic conductivities\")\n",
    "plt.ylabel('K [m/d]')\n",
    "plt.xlabel('Calibration Dataset')"
=======
    "t1 = pd.DataFrame(\n",
    "    columns=[\"kaq - opt\", \"kaq - min\", \"kaq - max\", \"W. Storage\", \"Calib. Dataset\"]\n",
    ")\n",
    "w_storage = [\n",
    "    \"without rc\",\n",
    "    \"without rc\",\n",
    "    \"without rc\",\n",
    "    \"with rc\",\n",
    "    \"with rc\",\n",
    "    \"with rc\",\n",
    "]\n",
    "obs_dataset = [\n",
    "    \"obs 30 m\",\n",
    "    \"obs 90 m\",\n",
    "    \"obs simultaneously\",\n",
    "    \"obs 30 m\",\n",
    "    \"obs 90 m\",\n",
    "    \"obs simultaneously\",\n",
    "]\n",
    "\n",
    "# Looping through all calibration objects and fetching the desired values\n",
    "for calib, w_sto, obs_dts in zip([ca1, ca2, ca, ca3, ca4, ca0], w_storage, obs_dataset):\n",
    "    p = (\n",
    "        calib.parameters\n",
    "    )  # Accessing the parameters Dataframe inside the Calibrate object\n",
    "    tab = pd.DataFrame(\n",
    "        [\n",
    "            [\n",
    "                p.loc[\"kaq0\", \"optimal\"],\n",
    "                2 * p.loc[\"kaq0\", \"std\"],\n",
    "                2 * p.loc[\"kaq0\", \"std\"],\n",
    "                w_sto,\n",
    "                obs_dts,\n",
    "            ]\n",
    "        ],\n",
    "        columns=[\"kaq - opt\", \"kaq - min\", \"kaq - max\", \"W. Storage\", \"Calib. Dataset\"],\n",
    "    )\n",
    "    t1 = t1.append(tab)\n",
    "\n",
    "# Plotting\n",
    "groups = t1.groupby(\"W. Storage\")\n",
    "plt.figure(figsize=(10, 7))\n",
    "for name, group in groups:\n",
    "    plt.errorbar(\n",
    "        x=group[\"Calib. Dataset\"],\n",
    "        y=group[\"kaq - opt\"],\n",
    "        yerr=[group[\"kaq - min\"], group[\"kaq - max\"]],\n",
    "        marker=\"o\",\n",
    "        linestyle=\"\",\n",
    "        markersize=12,\n",
    "        label=name,\n",
    "    )\n",
    "plt.legend()\n",
    "plt.suptitle(\"Error bar plot of calibrated hydraulic conductivities\")\n",
    "plt.ylabel(\"K [m/d]\")\n",
    "plt.xlabel(\"Calibration Dataset\")"
>>>>>>> 58828e186cd9ca8d561622448037390a6d10b392:docs/04pumpingtests/confined1_oude_korendijk.ipynb
   ]
  },
  {
   "cell_type": "markdown",
   "metadata": {},
   "source": [
    "The Errorbar plot shows that the Hydraulic Conductivities calculated are significantly higher with wellbore storage than without when considering the individual wells datasets for calibration.\n",
    "\n",
    "As for the dataset using both obs wells at the same time, the calibration results have no significant differences.\n",
    "\n",
<<<<<<< HEAD:pumpingtest_benchmarks/confined1_oude_korendijk.ipynb
    "Both scenarios with and without wellbore storage showed lower values for the calibrated model using both observations, calibration with a single well are overestimated."
=======
    "Both scenarios with and without wellbore storage showed lower values for the calibrated model using both observations, calibration with a single well are overestimated.\n",
    "\n"
>>>>>>> 58828e186cd9ca8d561622448037390a6d10b392:docs/04pumpingtests/confined1_oude_korendijk.ipynb
   ]
  },
  {
   "cell_type": "markdown",
   "metadata": {},
   "source": [
    "### Step 7.2. Compare TTim to results of K&dR, AQTEOLV and MLU:"
   ]
  },
  {
   "cell_type": "markdown",
   "metadata": {},
   "source": [
<<<<<<< HEAD:pumpingtest_benchmarks/confined1_oude_korendijk.ipynb
    "The final important step is to compare the data obtained from this model with the data from other Aquifer Analysis software. Yang (2020) compared TTim results with the published results in Kruseman and de Ridder (1990), here abbreviated to K&dR, and with the results obtained from the software AQTESOLV (Duffield, 2007) and MLU (Carlson & Randall, 2012)."
=======
    "The final important step is to compare the data obtained from this model with the data from other Aquifer Analysis software. Xinzhu Y. (2020) compared TTim results with the published results in Kruseman and de Ridder (1970), here abbreviated to K&dR, and with the results obtained from the software AQTESOLV (Duffield, 2007) and MLU (Carlson & Randall, 2012)."
>>>>>>> 58828e186cd9ca8d561622448037390a6d10b392:docs/04pumpingtests/confined1_oude_korendijk.ipynb
   ]
  },
  {
   "cell_type": "code",
<<<<<<< HEAD:pumpingtest_benchmarks/confined1_oude_korendijk.ipynb
   "execution_count": 27,
=======
   "execution_count": 32,
>>>>>>> 58828e186cd9ca8d561622448037390a6d10b392:docs/04pumpingtests/confined1_oude_korendijk.ipynb
   "metadata": {
    "scrolled": true
   },
   "outputs": [
    {
     "data": {
      "text/html": [
<<<<<<< HEAD:pumpingtest_benchmarks/confined1_oude_korendijk.ipynb
       "<style type=\"text/css\">\n",
       "</style>\n",
       "<table id=\"T_60acd_\">\n",
       "  <caption>Comparison of Model Results with different Softwares</caption>\n",
       "  <thead>\n",
       "    <tr>\n",
       "      <th class=\"blank level0\" >&nbsp;</th>\n",
       "      <th class=\"col_heading level0 col0\" >k [m/d]</th>\n",
       "      <th class=\"col_heading level0 col1\" >Ss [1/m]</th>\n",
       "      <th class=\"col_heading level0 col2\" >RMSE</th>\n",
       "    </tr>\n",
       "  </thead>\n",
       "  <tbody>\n",
       "    <tr>\n",
       "      <th id=\"T_60acd_level0_row0\" class=\"row_heading level0 row0\" >K&dR</th>\n",
       "      <td id=\"T_60acd_row0_col0\" class=\"data row0 col0\" >55.714290</td>\n",
       "      <td id=\"T_60acd_row0_col1\" class=\"data row0 col1\" >0.000170</td>\n",
       "      <td id=\"T_60acd_row0_col2\" class=\"data row0 col2\" >-</td>\n",
       "    </tr>\n",
       "    <tr>\n",
       "      <th id=\"T_60acd_level0_row1\" class=\"row_heading level0 row1\" >TTim</th>\n",
       "      <td id=\"T_60acd_row1_col0\" class=\"data row1 col0\" >66.089242</td>\n",
       "      <td id=\"T_60acd_row1_col1\" class=\"data row1 col1\" >0.000025</td>\n",
       "      <td id=\"T_60acd_row1_col2\" class=\"data row1 col2\" >0.050060</td>\n",
       "    </tr>\n",
       "    <tr>\n",
       "      <th id=\"T_60acd_level0_row2\" class=\"row_heading level0 row2\" >AQTESOLV</th>\n",
       "      <td id=\"T_60acd_row2_col0\" class=\"data row2 col0\" >66.086000</td>\n",
       "      <td id=\"T_60acd_row2_col1\" class=\"data row2 col1\" >0.000025</td>\n",
       "      <td id=\"T_60acd_row2_col2\" class=\"data row2 col2\" >0.050060</td>\n",
       "    </tr>\n",
       "    <tr>\n",
       "      <th id=\"T_60acd_level0_row3\" class=\"row_heading level0 row3\" >MLU</th>\n",
       "      <td id=\"T_60acd_row3_col0\" class=\"data row3 col0\" >66.850000</td>\n",
       "      <td id=\"T_60acd_row3_col1\" class=\"data row3 col1\" >0.000024</td>\n",
       "      <td id=\"T_60acd_row3_col2\" class=\"data row3 col2\" >0.050830</td>\n",
       "    </tr>\n",
       "  </tbody>\n",
       "</table>\n"
      ],
      "text/plain": [
       "<pandas.io.formats.style.Styler at 0x2f395dfd8b0>"
      ]
     },
     "execution_count": 27,
=======
       "<style  type=\"text/css\" >\n",
       "</style><table id=\"T_68e3482a_fe78_11eb_ae8b_acde48001122\" ><caption>Comparison of Model Results with different Softwares</caption><thead>    <tr>        <th class=\"blank level0\" ></th>        <th class=\"col_heading level0 col0\" >k [m/d]</th>        <th class=\"col_heading level0 col1\" >Ss [1/m]</th>        <th class=\"col_heading level0 col2\" >RMSE</th>    </tr></thead><tbody>\n",
       "                <tr>\n",
       "                        <th id=\"T_68e3482a_fe78_11eb_ae8b_acde48001122level0_row0\" class=\"row_heading level0 row0\" >K&dR</th>\n",
       "                        <td id=\"T_68e3482a_fe78_11eb_ae8b_acde48001122row0_col0\" class=\"data row0 col0\" >55.714290</td>\n",
       "                        <td id=\"T_68e3482a_fe78_11eb_ae8b_acde48001122row0_col1\" class=\"data row0 col1\" >0.000170</td>\n",
       "                        <td id=\"T_68e3482a_fe78_11eb_ae8b_acde48001122row0_col2\" class=\"data row0 col2\" >-</td>\n",
       "            </tr>\n",
       "            <tr>\n",
       "                        <th id=\"T_68e3482a_fe78_11eb_ae8b_acde48001122level0_row1\" class=\"row_heading level0 row1\" >TTim</th>\n",
       "                        <td id=\"T_68e3482a_fe78_11eb_ae8b_acde48001122row1_col0\" class=\"data row1 col0\" >66.089357</td>\n",
       "                        <td id=\"T_68e3482a_fe78_11eb_ae8b_acde48001122row1_col1\" class=\"data row1 col1\" >0.000025</td>\n",
       "                        <td id=\"T_68e3482a_fe78_11eb_ae8b_acde48001122row1_col2\" class=\"data row1 col2\" >0.050060</td>\n",
       "            </tr>\n",
       "            <tr>\n",
       "                        <th id=\"T_68e3482a_fe78_11eb_ae8b_acde48001122level0_row2\" class=\"row_heading level0 row2\" >AQTESOLV</th>\n",
       "                        <td id=\"T_68e3482a_fe78_11eb_ae8b_acde48001122row2_col0\" class=\"data row2 col0\" >66.086000</td>\n",
       "                        <td id=\"T_68e3482a_fe78_11eb_ae8b_acde48001122row2_col1\" class=\"data row2 col1\" >0.000025</td>\n",
       "                        <td id=\"T_68e3482a_fe78_11eb_ae8b_acde48001122row2_col2\" class=\"data row2 col2\" >0.050060</td>\n",
       "            </tr>\n",
       "            <tr>\n",
       "                        <th id=\"T_68e3482a_fe78_11eb_ae8b_acde48001122level0_row3\" class=\"row_heading level0 row3\" >MLU</th>\n",
       "                        <td id=\"T_68e3482a_fe78_11eb_ae8b_acde48001122row3_col0\" class=\"data row3 col0\" >66.850000</td>\n",
       "                        <td id=\"T_68e3482a_fe78_11eb_ae8b_acde48001122row3_col1\" class=\"data row3 col1\" >0.000024</td>\n",
       "                        <td id=\"T_68e3482a_fe78_11eb_ae8b_acde48001122row3_col2\" class=\"data row3 col2\" >0.050830</td>\n",
       "            </tr>\n",
       "    </tbody></table>"
      ],
      "text/plain": [
       "<pandas.io.formats.style.Styler at 0x12637feb0>"
      ]
     },
     "execution_count": 32,
>>>>>>> 58828e186cd9ca8d561622448037390a6d10b392:docs/04pumpingtests/confined1_oude_korendijk.ipynb
     "metadata": {},
     "output_type": "execute_result"
    }
   ],
   "source": [
<<<<<<< HEAD:pumpingtest_benchmarks/confined1_oude_korendijk.ipynb
    "t = pd.DataFrame(columns=['k [m/d]', 'Ss [1/m]', 'RMSE'], \\\n",
    "                 index=['K&dR', 'TTim', 'AQTESOLV', 'MLU'])\n",
    "t.loc['TTim'] = np.append(ca.parameters['optimal'].values, ca.rmse())\n",
    "t.loc['AQTESOLV'] = [66.086, 2.541e-05, 0.05006]\n",
    "t.loc['MLU'] = [66.850, 2.400e-05, 0.05083]\n",
    "t.loc['K&dR'] = [55.71429, 1.7E-4, '-']\n",
    "t.style.set_caption('Comparison of Model Results with different Softwares')"
=======
    "t = pd.DataFrame(\n",
    "    columns=[\"k [m/d]\", \"Ss [1/m]\", \"RMSE\"], index=[\"K&dR\", \"TTim\", \"AQTESOLV\", \"MLU\"]\n",
    ")\n",
    "t.loc[\"TTim\"] = np.append(ca.parameters[\"optimal\"].values, ca.rmse())\n",
    "t.loc[\"AQTESOLV\"] = [66.086, 2.541e-05, 0.05006]\n",
    "t.loc[\"MLU\"] = [66.850, 2.400e-05, 0.05083]\n",
    "t.loc[\"K&dR\"] = [55.71429, 1.7e-4, \"-\"]\n",
    "t.style.set_caption(\"Comparison of Model Results with different Softwares\")"
>>>>>>> 58828e186cd9ca8d561622448037390a6d10b392:docs/04pumpingtests/confined1_oude_korendijk.ipynb
   ]
  },
  {
   "cell_type": "markdown",
   "metadata": {},
   "source": [
<<<<<<< HEAD:pumpingtest_benchmarks/confined1_oude_korendijk.ipynb
    "Results show good agreement between different analysis programs, including TTim. The values from Kruseman and de Ridder (1990) were obtained through Thiem's approximation. They seem to be an underestimation, as the pumping never reached steady-state conditions."
=======
    "Results show good agreement between different analysis programs, including TTim. The values from Kruseman and de Ridder (1970) were obtained through Thiem's approximation, and seems to have been underestimated as the pumping never reached steady-state conditions"
>>>>>>> 58828e186cd9ca8d561622448037390a6d10b392:docs/04pumpingtests/confined1_oude_korendijk.ipynb
   ]
  },
  {
   "cell_type": "markdown",
   "metadata": {},
   "source": [
    "## References\n",
    "\n",
<<<<<<< HEAD:pumpingtest_benchmarks/confined1_oude_korendijk.ipynb
    "* Bakker, M. Semi-analytic modeling of transient multi-layer flow with TTim. Hydrogeol J 21, 935–943 (2013). https://doi.org/10.1007/s10040-013-0975-2\n",
    "* Carlson F, Randall J (2012) MLU: a Windows application for the analysis of aquifer tests and the design of well fields in layered systems. Ground Water 50(4):504–510\n",
    "* Duffield, G.M., 2007. AQTESOLV for Windows Version 4.5 User's Guide, HydroSOLVE, Inc., Reston, VA.\n",
    "* Newville, M.,Stensitzki, T., Allen, D.B., Ingargiola, A. (2014) LMFIT: Non Linear Least-Squares Minimization and Curve Fitting for Python.https://dx.doi.org/10.5281/zenodo.11813. https://lmfit.github.io/lmfit-py/intro.html (last access: August,2021).\n",
    "* Kruseman, G.P., De Ridder, N.A., Verweij, J.M., 1970. Analysis and evaluationof pumping test data. volume 11. International institute for land reclamation and improvement The Netherlands.\n",
    "* Yang, Xinzhu (2020) Application and comparison of different methodsfor aquifer test analysis using TTim. Master Thesis, Delft University of Technology (TUDelft), Delft, The Netherlands."
   ]
  },
  {
   "cell_type": "markdown",
   "metadata": {},
   "source": [
    "#### Next Notebook: [Confined 2 - Grindley](confined2_grindley.ipynb)"
   ]
=======
    "* Carlson F, Randall J (2012) MLU: a Windows application for the analysis of aquifer tests and the design of well fields in layered systems. Ground Water 50(4):504–510\n",
    "* Duffield, G.M., 2007. AQTESOLV for Windows Version 4.5 User's Guide, HydroSOLVE, Inc., Reston, VA.\n",
    "* Kruseman, G.P., De Ridder, N.A., Verweij, J.M., 1970. Analysis and evaluationof pumping test data. volume 11. International institute for land reclamation and improvement The Netherlands.\n",
    "* Yang, Xinzhu (2020) Application and comparison of different methodsfor aquifer test analysis using TTim. Master Thesis, Delft University of Technology (TUDelft), Delft, The Netherlands."
   ]
>>>>>>> 58828e186cd9ca8d561622448037390a6d10b392:docs/04pumpingtests/confined1_oude_korendijk.ipynb
  }
 ],
 "metadata": {
  "kernelspec": {
<<<<<<< HEAD:pumpingtest_benchmarks/confined1_oude_korendijk.ipynb
   "display_name": "Python 3 (ipykernel)",
=======
   "display_name": "Python 3",
>>>>>>> 58828e186cd9ca8d561622448037390a6d10b392:docs/04pumpingtests/confined1_oude_korendijk.ipynb
   "language": "python",
   "name": "python3"
  },
  "language_info": {
   "codemirror_mode": {
    "name": "ipython",
    "version": 3
   },
   "file_extension": ".py",
   "mimetype": "text/x-python",
   "name": "python",
   "nbconvert_exporter": "python",
   "pygments_lexer": "ipython3",
<<<<<<< HEAD:pumpingtest_benchmarks/confined1_oude_korendijk.ipynb
   "version": "3.8.12"
  }
 },
 "nbformat": 4,
 "nbformat_minor": 4
=======
   "version": "3.8.2"
  },
  "latex_envs": {
   "LaTeX_envs_menu_present": true,
   "autoclose": false,
   "autocomplete": true,
   "bibliofile": "biblio.bib",
   "cite_by": "apalike",
   "current_citInitial": 1,
   "eqLabelWithNumbers": true,
   "eqNumInitial": 1,
   "hotkeys": {
    "equation": "Ctrl-E",
    "itemize": "Ctrl-I"
   },
   "labels_anchors": false,
   "latex_user_defs": false,
   "report_style_numbering": false,
   "user_envs_cfg": false
  }
 },
 "nbformat": 4,
 "nbformat_minor": 2
>>>>>>> 58828e186cd9ca8d561622448037390a6d10b392:docs/04pumpingtests/confined1_oude_korendijk.ipynb
}
