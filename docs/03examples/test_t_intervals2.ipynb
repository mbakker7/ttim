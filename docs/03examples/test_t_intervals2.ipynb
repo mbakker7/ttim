{
 "cells": [
  {
   "cell_type": "markdown",
   "metadata": {},
   "source": [
    "# TTim: compute per log time interval\n",
    "\n",
    "Import packages"
   ]
  },
  {
   "cell_type": "code",
   "execution_count": 2,
   "metadata": {},
   "outputs": [
    {
     "name": "stdout",
     "output_type": "stream",
     "text": [
      "ttim: /Users/mark/git/ttim/docs/03examples/../../ttim/__init__.py\n"
     ]
    }
   ],
   "source": [
    "import sys\n",
    "\n",
    "import matplotlib.pyplot as plt\n",
    "import numpy as np\n",
    "from scipy.special import exp1\n",
    "\n",
    "use_fork = True\n",
    "if use_fork:\n",
    "    sys.path.insert(1, \"../..\")\n",
    "import ttim\n",
    "\n",
    "# check which ttim\n",
    "print(\"ttim:\", ttim.__file__)"
   ]
  },
  {
   "cell_type": "markdown",
   "metadata": {},
   "source": [
    "### Headwell"
   ]
  },
  {
   "cell_type": "code",
   "execution_count": 3,
   "metadata": {},
   "outputs": [
    {
     "name": "stdout",
     "output_type": "stream",
     "text": [
      "self.term initialization\n",
      "self.term initialization\n",
      "self.neq  1\n",
      "solution complete\n"
     ]
    }
   ],
   "source": [
    "k = 25\n",
    "H = 20\n",
    "T = k * H\n",
    "S = 1e-3\n",
    "t = np.logspace(-5, 0, 11)\n",
    "rw = 0.3\n",
    "hwell = -2\n",
    "tmin = 0.1\n",
    "tmax = 10\n",
    "\n",
    "ml = ttim.ModelMaq(kaq=25, z=[20, 0], Saq=S / 20, tmin=tmin, tmax=tmax)\n",
    "w = ttim.HeadWell(ml, tsandh=[(0, hwell)], rw=rw)\n",
    "#w = ttim.Well(ml, tsandQ=[(0, 800)], rw=rw)\n",
    "ml.solve()"
   ]
  },
  {
   "cell_type": "code",
   "execution_count": 4,
   "metadata": {},
   "outputs": [
    {
     "data": {
      "text/plain": [
       "(array([[-2.19629085]]), array([[-2.19629085]]))"
      ]
     },
     "execution_count": 4,
     "metadata": {},
     "output_type": "execute_result"
    }
   ],
   "source": [
    "ml.head(0, 0.3, 1), ml.head(0.3, 0, 1)"
   ]
  },
  {
   "cell_type": "code",
   "execution_count": 5,
   "metadata": {},
   "outputs": [
    {
     "data": {
      "text/plain": [
       "array([-2.])"
      ]
     },
     "execution_count": 5,
     "metadata": {},
     "output_type": "execute_result"
    }
   ],
   "source": [
    "w.bc"
   ]
  }
 ],
 "metadata": {
  "kernelspec": {
   "display_name": "Python 3 (ipykernel)",
   "language": "python",
   "name": "python3"
  },
  "language_info": {
   "codemirror_mode": {
    "name": "ipython",
    "version": 3
   },
   "file_extension": ".py",
   "mimetype": "text/x-python",
   "name": "python",
   "nbconvert_exporter": "python",
   "pygments_lexer": "ipython3",
   "version": "3.11.4"
  }
 },
 "nbformat": 4,
 "nbformat_minor": 4
}
