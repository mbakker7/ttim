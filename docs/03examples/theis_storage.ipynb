{
 "cells": [
  {
   "cell_type": "markdown",
   "metadata": {},
   "source": [
    "### Theis storage test"
   ]
  },
  {
   "cell_type": "code",
   "execution_count": 1,
   "metadata": {},
   "outputs": [],
   "source": [
    "import numpy as np\n",
    "import matplotlib.pyplot as plt\n",
    "from scipy.special import exp1\n",
    "from scipy.integrate import solve_ivp, quad"
   ]
  },
  {
   "cell_type": "code",
   "execution_count": 2,
   "metadata": {},
   "outputs": [],
   "source": [
    "Q = -100\n",
    "npor = 0.3\n",
    "k = 10\n",
    "H = 10\n",
    "T = k * H\n",
    "Ss = 1e-4\n",
    "S = Ss * H"
   ]
  },
  {
   "cell_type": "code",
   "execution_count": 3,
   "metadata": {},
   "outputs": [],
   "source": [
    "def headtheis(r, t, T=T, S=S, Q=Q):\n",
    "    u = r**2 * S / (4 * T * t)\n",
    "    h = -Q / (4 * np.pi * T) * exp1(u)\n",
    "    return h\n",
    "\n",
    "\n",
    "def voltheis(r, t, T, S, Q):\n",
    "    u = r**2 * S / (4 * T * t)\n",
    "    h = -Q / (4 * np.pi * T) * exp1(u)\n",
    "    vol = h * 2 * np.pi * r\n",
    "    return vol * S"
   ]
  },
  {
   "cell_type": "code",
   "execution_count": 4,
   "metadata": {},
   "outputs": [
    {
     "data": {
      "text/plain": [
       "(999.999999994425, 1.4198836879586452e-06)"
      ]
     },
     "execution_count": 4,
     "metadata": {},
     "output_type": "execute_result"
    }
   ],
   "source": [
    "# demonstrate headtheis works correctly\n",
    "quad(voltheis, a=1e-3, b=10000, args=(10, T, S, Q))  # gives 1000 m^3"
   ]
  },
  {
   "cell_type": "code",
   "execution_count": 5,
   "metadata": {},
   "outputs": [],
   "source": [
    "def volume(r, t, T=T, S=S, Q=Q):\n",
    "    return quad(voltheis, a=1e-3, b=r, args=(10, T, S, Q))[0] + npor * np.pi * (r**2)"
   ]
  },
  {
   "cell_type": "code",
   "execution_count": 6,
   "metadata": {},
   "outputs": [],
   "source": [
    "def vxytheis(t, xy):\n",
    "    x, y = xy\n",
    "    r = np.sqrt(x**2 + y**2)\n",
    "    u = S * r**2 / (4 * T * t)\n",
    "    Qr = -Q / (2 * np.pi) / r * np.exp(-u)\n",
    "    vr = Qr / (H * npor)\n",
    "    vx = vr * x / r\n",
    "    vy = vr * y / r\n",
    "    return np.array([vx, vy])"
   ]
  },
  {
   "cell_type": "code",
   "execution_count": 7,
   "metadata": {},
   "outputs": [],
   "source": [
    "def vxytheisnew(t, xy):\n",
    "    x, y = xy\n",
    "    r = np.sqrt(x**2 + y**2)\n",
    "    u = S * r**2 / (4 * T * t)\n",
    "    Qr = -Q / (2 * np.pi) / r * np.exp(-u)\n",
    "    vr = Qr / (H * (npor + S * headtheis(x, t)))\n",
    "    vx = vr * x / r\n",
    "    vy = vr * y / r\n",
    "    return np.array([vx, vy])"
   ]
  },
  {
   "cell_type": "code",
   "execution_count": 8,
   "metadata": {},
   "outputs": [
    {
     "data": {
      "text/plain": [
       "(10.300504380350029, 999.9726219155026)"
      ]
     },
     "execution_count": 8,
     "metadata": {},
     "output_type": "execute_result"
    }
   ],
   "source": [
    "# trace pathline for 10 days\n",
    "path0 = solve_ivp(vxytheis, (1e-5, 10), y0=[1e-5, 0], method=\"DOP853\")\n",
    "R0 = path0.y[0, -1]\n",
    "R0, np.pi * R0**2 * npor * H"
   ]
  },
  {
   "cell_type": "code",
   "execution_count": 9,
   "metadata": {},
   "outputs": [
    {
     "data": {
      "text/plain": [
       "(10.286920903323537, 997.3369938953231)"
      ]
     },
     "execution_count": 9,
     "metadata": {},
     "output_type": "execute_result"
    }
   ],
   "source": [
    "path0 = solve_ivp(vxytheisnew, (1e-5, 10), y0=[1e-5, 0], method=\"DOP853\")\n",
    "R1 = path0.y[0, -1]\n",
    "R1, np.pi * R1**2 * npor * H"
   ]
  },
  {
   "cell_type": "code",
   "execution_count": 10,
   "metadata": {},
   "outputs": [
    {
     "data": {
      "text/plain": [
       "0.0009076383332409225"
      ]
     },
     "execution_count": 10,
     "metadata": {},
     "output_type": "execute_result"
    }
   ],
   "source": [
    "headtheis(5, 10) * S"
   ]
  },
  {
   "cell_type": "code",
   "execution_count": 11,
   "metadata": {},
   "outputs": [
    {
     "data": {
      "text/plain": [
       "3.0"
      ]
     },
     "execution_count": 11,
     "metadata": {},
     "output_type": "execute_result"
    }
   ],
   "source": [
    "npor * H"
   ]
  },
  {
   "cell_type": "code",
   "execution_count": 12,
   "metadata": {},
   "outputs": [
    {
     "name": "stdout",
     "output_type": "stream",
     "text": [
      "R, volume 10.286920903323537 997.3369938953231\n"
     ]
    }
   ],
   "source": [
    "R = path0.y[0, -1]\n",
    "print(\"R, volume\", R, np.pi * R**2 * npor * H)"
   ]
  },
  {
   "cell_type": "code",
   "execution_count": 13,
   "metadata": {},
   "outputs": [
    {
     "data": {
      "text/plain": [
       "1009.0147425061979"
      ]
     },
     "execution_count": 13,
     "metadata": {},
     "output_type": "execute_result"
    }
   ],
   "source": [
    "from scipy.integrate import quad\n",
    "\n",
    "quad(headtheis, 1e-5, R, args=(100, T, S, Q))[0] + np.pi * R**2 * npor * H"
   ]
  },
  {
   "cell_type": "code",
   "execution_count": 14,
   "metadata": {},
   "outputs": [],
   "source": [
    "t0 = 0\n",
    "t1 = 10\n",
    "\n",
    "\n",
    "def vxytheis2(t, xy):\n",
    "    x, y = xy\n",
    "    r = np.sqrt(x**2 + y**2)\n",
    "    u1 = S * r**2 / (4 * T * (t - t0))\n",
    "    u2 = S * r**2 / (4 * T * (t - t1))\n",
    "    Qr = -Q / (2 * np.pi) / r * np.exp(-u1)\n",
    "    if t >= t1:\n",
    "        Qr += 2 * Q / (2 * np.pi) / r * np.exp(-u2)\n",
    "    vr = Qr / (H * npor)\n",
    "    vx = vr * x / r\n",
    "    vy = vr * y / r\n",
    "    return np.array([vx, vy])"
   ]
  },
  {
   "cell_type": "code",
   "execution_count": 15,
   "metadata": {},
   "outputs": [
    {
     "data": {
      "text/plain": [
       "0.23642465667948978"
      ]
     },
     "execution_count": 15,
     "metadata": {},
     "output_type": "execute_result"
    }
   ],
   "source": [
    "path1 = solve_ivp(vxytheis2, (10 + 1e-6, 20), y0=[R, 0], method=\"DOP853\")\n",
    "path1.y[0, -1]"
   ]
  },
  {
   "cell_type": "code",
   "execution_count": 16,
   "metadata": {},
   "outputs": [
    {
     "data": {
      "text/plain": [
       "  message: 'The solver successfully reached the end of the integration interval.'\n",
       "     nfev: 194\n",
       "     njev: 0\n",
       "      nlu: 0\n",
       "      sol: None\n",
       "   status: 0\n",
       "  success: True\n",
       "        t: array([10.000001  , 10.27008746, 10.59652189, 12.68413034, 17.0030137 ,\n",
       "       18.78126275, 19.51325123, 19.81416749, 19.9371275 , 19.98633926,\n",
       "       20.        ])\n",
       " t_events: None\n",
       "        y: array([[10.2869209 , 10.16266029,  9.99100995,  8.81345225,  5.64399507,\n",
       "         3.60375877,  2.28483344,  1.42395422,  0.85029311,  0.44815448,\n",
       "         0.23642466],\n",
       "       [ 0.        ,  0.        ,  0.        ,  0.        ,  0.        ,\n",
       "         0.        ,  0.        ,  0.        ,  0.        ,  0.        ,\n",
       "         0.        ]])\n",
       " y_events: None"
      ]
     },
     "execution_count": 16,
     "metadata": {},
     "output_type": "execute_result"
    }
   ],
   "source": [
    "path1"
   ]
  },
  {
   "cell_type": "code",
   "execution_count": 17,
   "metadata": {},
   "outputs": [
    {
     "data": {
      "text/plain": [
       "array([-0.53039491, -0.        ])"
      ]
     },
     "execution_count": 17,
     "metadata": {},
     "output_type": "execute_result"
    }
   ],
   "source": [
    "vxytheis2(12 + 1e-6, (10, 0))"
   ]
  }
 ],
 "metadata": {
  "kernelspec": {
   "display_name": "Python 3",
   "language": "python",
   "name": "python3"
  },
  "language_info": {
   "codemirror_mode": {
    "name": "ipython",
    "version": 3
   },
   "file_extension": ".py",
   "mimetype": "text/x-python",
   "name": "python",
   "nbconvert_exporter": "python",
   "pygments_lexer": "ipython3",
   "version": "3.8.2"
  }
 },
 "nbformat": 4,
 "nbformat_minor": 4
}
