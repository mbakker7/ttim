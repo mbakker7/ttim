{
 "cells": [
  {
   "cell_type": "markdown",
   "metadata": {},
   "source": [
    "# Calibrating TTim model to hypothetical pumping test"
   ]
  },
  {
   "cell_type": "code",
   "execution_count": null,
   "metadata": {},
   "outputs": [],
   "source": [
    "import matplotlib.pyplot as plt\n",
    "import numpy as np\n",
    "\n",
    "import ttim"
   ]
  },
  {
   "cell_type": "markdown",
   "metadata": {},
   "source": [
    "### Use observation times from Oude Korendijk"
   ]
  },
  {
   "cell_type": "code",
   "execution_count": 2,
   "metadata": {},
   "outputs": [],
   "source": [
    "drawdown = np.loadtxt(\"data/oudekorendijk_h30.dat\")\n",
    "tobs = drawdown[:, 0] / 60 / 24\n",
    "robs = 30\n",
    "Q = 788"
   ]
  },
  {
   "cell_type": "markdown",
   "metadata": {},
   "source": [
    "### Generate data"
   ]
  },
  {
   "cell_type": "code",
   "execution_count": 3,
   "metadata": {},
   "outputs": [
    {
     "name": "stdout",
     "output_type": "stream",
     "text": [
      "self.neq  1\n",
      "solution complete\n"
     ]
    }
   ],
   "source": [
    "ml = ttim.ModelMaq(kaq=60, z=(-18, -25), Saq=1e-4, tmin=1e-5, tmax=1)\n",
    "w = ttim.Well(ml, xw=0, yw=0, rw=0.1, tsandQ=[(0, 788)], layers=0)\n",
    "ml.solve()\n",
    "rnd = np.random.default_rng(2)\n",
    "hobs = ml.head(robs, 0, tobs)[0] + 0.05 * rnd.random(len(tobs))"
   ]
  },
  {
   "cell_type": "markdown",
   "metadata": {},
   "source": [
    "### See if TTim can find aquifer parameters back"
   ]
  },
  {
   "cell_type": "code",
   "execution_count": 4,
   "metadata": {},
   "outputs": [
    {
     "name": "stdout",
     "output_type": "stream",
     "text": [
      "............................................\n",
      "Fit succeeded.\n",
      "[[Fit Statistics]]\n",
      "    # fitting method   = leastsq\n",
      "    # function evals   = 41\n",
      "    # data points      = 34\n",
      "    # variables        = 2\n",
      "    chi-square         = 0.09714912\n",
      "    reduced chi-square = 0.00303591\n",
      "    Akaike info crit   = -195.167536\n",
      "    Bayesian info crit = -192.114815\n",
      "[[Variables]]\n",
      "    kaq0:  59.5331900 +/- 2.36790654 (3.98%) (init = 100)\n",
      "    Saq0:  9.2405e-05 +/- 1.2516e-05 (13.54%) (init = 0.001)\n",
      "[[Correlations]] (unreported correlations are < 0.100)\n",
      "    C(kaq0, Saq0) = -0.851\n"
     ]
    }
   ],
   "source": [
    "cal = ttim.Calibrate(ml)\n",
    "cal.set_parameter(name=\"kaq0\", initial=100)\n",
    "cal.set_parameter(name=\"Saq0\", initial=1e-3)\n",
    "cal.series(name=\"obs1\", x=robs, y=0, layer=0, t=tobs, h=hobs)\n",
    "cal.fit()"
   ]
  },
  {
   "cell_type": "code",
   "execution_count": 5,
   "metadata": {},
   "outputs": [
    {
     "data": {
      "text/html": [
       "<div>\n",
       "<style scoped>\n",
       "    .dataframe tbody tr th:only-of-type {\n",
       "        vertical-align: middle;\n",
       "    }\n",
       "\n",
       "    .dataframe tbody tr th {\n",
       "        vertical-align: top;\n",
       "    }\n",
       "\n",
       "    .dataframe thead th {\n",
       "        text-align: right;\n",
       "    }\n",
       "</style>\n",
       "<table border=\"1\" class=\"dataframe\">\n",
       "  <thead>\n",
       "    <tr style=\"text-align: right;\">\n",
       "      <th></th>\n",
       "      <th>optimal</th>\n",
       "      <th>std</th>\n",
       "      <th>perc_std</th>\n",
       "      <th>pmin</th>\n",
       "      <th>pmax</th>\n",
       "      <th>initial</th>\n",
       "      <th>parray</th>\n",
       "    </tr>\n",
       "  </thead>\n",
       "  <tbody>\n",
       "    <tr>\n",
       "      <th>kaq0</th>\n",
       "      <td>59.5332</td>\n",
       "      <td>2.367907</td>\n",
       "      <td>3.97746</td>\n",
       "      <td>-inf</td>\n",
       "      <td>inf</td>\n",
       "      <td>100</td>\n",
       "      <td>[59.53319002210707]</td>\n",
       "    </tr>\n",
       "    <tr>\n",
       "      <th>Saq0</th>\n",
       "      <td>9.24053e-05</td>\n",
       "      <td>0.000013</td>\n",
       "      <td>13.5447</td>\n",
       "      <td>-inf</td>\n",
       "      <td>inf</td>\n",
       "      <td>0.001</td>\n",
       "      <td>[9.240529867448516e-05]</td>\n",
       "    </tr>\n",
       "  </tbody>\n",
       "</table>\n",
       "</div>"
      ],
      "text/plain": [
       "          optimal       std perc_std  pmin  pmax initial  \\\n",
       "kaq0      59.5332  2.367907  3.97746  -inf   inf     100   \n",
       "Saq0  9.24053e-05  0.000013  13.5447  -inf   inf   0.001   \n",
       "\n",
       "                       parray  \n",
       "kaq0      [59.53319002210707]  \n",
       "Saq0  [9.240529867448516e-05]  "
      ]
     },
     "execution_count": 5,
     "metadata": {},
     "output_type": "execute_result"
    }
   ],
   "source": [
    "cal.parameters"
   ]
  },
  {
   "cell_type": "code",
   "execution_count": 6,
   "metadata": {},
   "outputs": [
    {
     "name": "stdout",
     "output_type": "stream",
     "text": [
      "rmse: 0.05345397106082128\n"
     ]
    }
   ],
   "source": [
    "print(\"rmse:\", cal.rmse())"
   ]
  },
  {
   "cell_type": "code",
   "execution_count": 7,
   "metadata": {},
   "outputs": [
    {
     "data": {
      "text/plain": [
       "[<matplotlib.lines.Line2D at 0x123bad410>]"
      ]
     },
     "execution_count": 7,
     "metadata": {},
     "output_type": "execute_result"
    },
    {
     "data": {
      "image/png": "[encoded data removed]",
      "text/plain": [
       "<Figure size 432x288 with 1 Axes>"
      ]
     },
     "metadata": {
      "needs_background": "light"
     },
     "output_type": "display_data"
    }
   ],
   "source": [
    "hm = ml.head(robs, 0, tobs, 0)\n",
    "plt.semilogx(tobs, hobs, \".k\")\n",
    "plt.semilogx(tobs, hm[0], \"r\")"
   ]
  },
  {
   "cell_type": "code",
   "execution_count": 8,
   "metadata": {},
   "outputs": [
    {
     "name": "stdout",
     "output_type": "stream",
     "text": [
      "correlation matrix\n",
      "[[ 5.60698139e+00 -2.52171428e-05]\n",
      " [-2.52171428e-05  1.56651901e-10]]\n"
     ]
    }
   ],
   "source": [
    "print(\"correlation matrix\")\n",
    "print(cal.fitresult.covar)"
   ]
  },
  {
   "cell_type": "markdown",
   "metadata": {},
   "source": [
    "Fit with `scipy.least_squares` (not recommended)"
   ]
  },
  {
   "cell_type": "code",
   "execution_count": 9,
   "metadata": {},
   "outputs": [
    {
     "name": "stdout",
     "output_type": "stream",
     "text": [
      "......................................................\n",
      "         optimal       std perc_std  pmin  pmax initial  \\\n",
      "kaq0     59.5334  2.339157  3.92915  -inf   inf     100   \n",
      "Saq0  9.2398e-05  0.000012  13.4157  -inf   inf   0.001   \n",
      "\n",
      "                      parray  \n",
      "kaq0     [59.53335695354822]  \n",
      "Saq0  [9.23979769151393e-05]  \n",
      "[2.33915730e+00 1.23958453e-05]\n",
      "[[ 5.47165689e+00 -2.46555615e-05]\n",
      " [-2.46555615e-05  1.53656981e-10]]\n",
      "[[ 1.         -0.85031398]\n",
      " [-0.85031398  1.        ]]\n"
     ]
    }
   ],
   "source": [
    "cal = ttim.Calibrate(ml)\n",
    "cal.set_parameter(name=\"kaq0\", initial=100)\n",
    "cal.set_parameter(name=\"Saq0\", initial=1e-3)\n",
    "cal.series(name=\"obs1\", x=robs, y=0, layer=0, t=tobs, h=hobs)\n",
    "cal.fit_least_squares(report=True)"
   ]
  },
  {
   "cell_type": "markdown",
   "metadata": {},
   "source": [
    "## Calibrate parameters in multiple layers\n",
    "Example showing how parameters can be optimized when multiple layers share the same parameter value."
   ]
  },
  {
   "cell_type": "code",
   "execution_count": 10,
   "metadata": {},
   "outputs": [
    {
     "name": "stdout",
     "output_type": "stream",
     "text": [
      "self.neq  1\n",
      "solution complete\n"
     ]
    }
   ],
   "source": [
    "ml = ttim.ModelMaq(\n",
    "    kaq=[10.0, 10.0],\n",
    "    z=(-10, -16, -18, -25),\n",
    "    c=[10.0],\n",
    "    Saq=[0.1, 1e-4],\n",
    "    tmin=1e-5,\n",
    "    tmax=1,\n",
    ")\n",
    "w = ttim.Well(ml, xw=0, yw=0, rw=0.1, tsandQ=[(0, 788)], layers=1)\n",
    "ml.solve()\n",
    "hobs0 = ml.head(robs, 0, tobs, layers=[0])[0]\n",
    "hobs1 = ml.head(robs, 0, tobs, layers=[1])[0]"
   ]
  },
  {
   "cell_type": "code",
   "execution_count": 11,
   "metadata": {},
   "outputs": [
    {
     "data": {
      "text/html": [
       "<div>\n",
       "<style scoped>\n",
       "    .dataframe tbody tr th:only-of-type {\n",
       "        vertical-align: middle;\n",
       "    }\n",
       "\n",
       "    .dataframe tbody tr th {\n",
       "        vertical-align: top;\n",
       "    }\n",
       "\n",
       "    .dataframe thead th {\n",
       "        text-align: right;\n",
       "    }\n",
       "</style>\n",
       "<table border=\"1\" class=\"dataframe\">\n",
       "  <thead>\n",
       "    <tr style=\"text-align: right;\">\n",
       "      <th></th>\n",
       "      <th>optimal</th>\n",
       "      <th>std</th>\n",
       "      <th>perc_std</th>\n",
       "      <th>pmin</th>\n",
       "      <th>pmax</th>\n",
       "      <th>initial</th>\n",
       "      <th>parray</th>\n",
       "    </tr>\n",
       "  </thead>\n",
       "  <tbody>\n",
       "    <tr>\n",
       "      <th>kaq0</th>\n",
       "      <td>59.5334</td>\n",
       "      <td>2.339157</td>\n",
       "      <td>3.92915</td>\n",
       "      <td>-inf</td>\n",
       "      <td>inf</td>\n",
       "      <td>100</td>\n",
       "      <td>[59.53335695354822]</td>\n",
       "    </tr>\n",
       "    <tr>\n",
       "      <th>Saq0</th>\n",
       "      <td>9.2398e-05</td>\n",
       "      <td>0.000012</td>\n",
       "      <td>13.4157</td>\n",
       "      <td>-inf</td>\n",
       "      <td>inf</td>\n",
       "      <td>0.001</td>\n",
       "      <td>[9.23979769151393e-05]</td>\n",
       "    </tr>\n",
       "  </tbody>\n",
       "</table>\n",
       "</div>"
      ],
      "text/plain": [
       "         optimal       std perc_std  pmin  pmax initial  \\\n",
       "kaq0     59.5334  2.339157  3.92915  -inf   inf     100   \n",
       "Saq0  9.2398e-05  0.000012  13.4157  -inf   inf   0.001   \n",
       "\n",
       "                      parray  \n",
       "kaq0     [59.53335695354822]  \n",
       "Saq0  [9.23979769151393e-05]  "
      ]
     },
     "execution_count": 11,
     "metadata": {},
     "output_type": "execute_result"
    }
   ],
   "source": [
    "cal.parameters"
   ]
  },
  {
   "cell_type": "code",
   "execution_count": 12,
   "metadata": {},
   "outputs": [
    {
     "name": "stdout",
     "output_type": "stream",
     "text": [
      "..............................................................................................\n",
      "Fit succeeded.\n"
     ]
    },
    {
     "data": {
      "text/html": [
       "<div>\n",
       "<style scoped>\n",
       "    .dataframe tbody tr th:only-of-type {\n",
       "        vertical-align: middle;\n",
       "    }\n",
       "\n",
       "    .dataframe tbody tr th {\n",
       "        vertical-align: top;\n",
       "    }\n",
       "\n",
       "    .dataframe thead th {\n",
       "        text-align: right;\n",
       "    }\n",
       "</style>\n",
       "<table border=\"1\" class=\"dataframe\">\n",
       "  <thead>\n",
       "    <tr style=\"text-align: right;\">\n",
       "      <th></th>\n",
       "      <th>optimal</th>\n",
       "      <th>std</th>\n",
       "      <th>perc_std</th>\n",
       "      <th>pmin</th>\n",
       "      <th>pmax</th>\n",
       "      <th>initial</th>\n",
       "      <th>parray</th>\n",
       "    </tr>\n",
       "  </thead>\n",
       "  <tbody>\n",
       "    <tr>\n",
       "      <th>kaq0_1</th>\n",
       "      <td>10.002821</td>\n",
       "      <td>7.760404e-04</td>\n",
       "      <td>0.007758</td>\n",
       "      <td>0.00000</td>\n",
       "      <td>30.0</td>\n",
       "      <td>20.000</td>\n",
       "      <td>[10.00282083843134, 10.00282083843134]</td>\n",
       "    </tr>\n",
       "    <tr>\n",
       "      <th>Saq0</th>\n",
       "      <td>0.099977</td>\n",
       "      <td>1.029338e-06</td>\n",
       "      <td>0.001030</td>\n",
       "      <td>0.00001</td>\n",
       "      <td>0.2</td>\n",
       "      <td>0.001</td>\n",
       "      <td>[0.09997723703792818]</td>\n",
       "    </tr>\n",
       "    <tr>\n",
       "      <th>Saq1</th>\n",
       "      <td>0.000100</td>\n",
       "      <td>2.783601e-09</td>\n",
       "      <td>0.002783</td>\n",
       "      <td>0.00001</td>\n",
       "      <td>0.2</td>\n",
       "      <td>0.001</td>\n",
       "      <td>[0.00010001141042525883]</td>\n",
       "    </tr>\n",
       "    <tr>\n",
       "      <th>c1</th>\n",
       "      <td>10.000832</td>\n",
       "      <td>2.330321e-04</td>\n",
       "      <td>0.002330</td>\n",
       "      <td>0.10000</td>\n",
       "      <td>200.0</td>\n",
       "      <td>1.000</td>\n",
       "      <td>[10.000832122134655]</td>\n",
       "    </tr>\n",
       "  </tbody>\n",
       "</table>\n",
       "</div>"
      ],
      "text/plain": [
       "          optimal           std  perc_std     pmin   pmax  initial  \\\n",
       "kaq0_1  10.002821  7.760404e-04  0.007758  0.00000   30.0   20.000   \n",
       "Saq0     0.099977  1.029338e-06  0.001030  0.00001    0.2    0.001   \n",
       "Saq1     0.000100  2.783601e-09  0.002783  0.00001    0.2    0.001   \n",
       "c1      10.000832  2.330321e-04  0.002330  0.10000  200.0    1.000   \n",
       "\n",
       "                                        parray  \n",
       "kaq0_1  [10.00282083843134, 10.00282083843134]  \n",
       "Saq0                     [0.09997723703792818]  \n",
       "Saq1                  [0.00010001141042525883]  \n",
       "c1                        [10.000832122134655]  "
      ]
     },
     "metadata": {},
     "output_type": "display_data"
    }
   ],
   "source": [
    "cal = ttim.Calibrate(ml)\n",
    "cal.set_parameter(\n",
    "    name=\"kaq0_1\", initial=20.0, pmin=0.0, pmax=30.0\n",
    ")  # layers 0 and 1 have the same k-value\n",
    "cal.set_parameter(name=\"Saq0\", initial=1e-3, pmin=1e-5, pmax=0.2)\n",
    "cal.set_parameter(name=\"Saq1\", initial=1e-3, pmin=1e-5, pmax=0.2)\n",
    "cal.set_parameter(name=\"c1\", initial=1.0, pmin=0.1, pmax=200.0)\n",
    "cal.series(name=\"obs0\", x=robs, y=0, layer=0, t=tobs, h=hobs0)\n",
    "cal.series(name=\"obs1\", x=robs, y=0, layer=1, t=tobs, h=hobs1)\n",
    "cal.fit(report=False)\n",
    "display(cal.parameters)"
   ]
  },
  {
   "cell_type": "code",
   "execution_count": 13,
   "metadata": {},
   "outputs": [
    {
     "data": {
      "text/plain": [
       "<matplotlib.legend.Legend at 0x124f9e690>"
      ]
     },
     "execution_count": 13,
     "metadata": {},
     "output_type": "execute_result"
    },
    {
     "data": {
      "image/png": "[encoded data removed]",
      "text/plain": [
       "<Figure size 432x288 with 1 Axes>"
      ]
     },
     "metadata": {
      "needs_background": "light"
     },
     "output_type": "display_data"
    }
   ],
   "source": [
    "plt.semilogx(tobs, hobs0, \".C0\", label=\"obs layer 0\")\n",
    "plt.semilogx(tobs, hobs1, \".C1\", label=\"obs layer 1\")\n",
    "\n",
    "hm = ml.head(robs, 0, tobs)\n",
    "plt.semilogx(tobs, hm[0], \"C0\", label=\"modelled head layer 0\")\n",
    "plt.semilogx(tobs, hm[1], \"C1\", label=\"modelled head layer 1\")\n",
    "\n",
    "plt.legend(loc=\"best\")"
   ]
  },
  {
   "cell_type": "markdown",
   "metadata": {},
   "source": [
    "### Generate data for head measured in well"
   ]
  },
  {
   "cell_type": "code",
   "execution_count": 9,
   "metadata": {},
   "outputs": [],
   "source": [
    "tobs2 = np.hstack((tobs, np.arange(0.61, 1, 0.01)))"
   ]
  },
  {
   "cell_type": "code",
   "execution_count": 12,
   "metadata": {},
   "outputs": [
    {
     "name": "stdout",
     "output_type": "stream",
     "text": [
      "self.neq  1\n",
      "solution complete\n"
     ]
    }
   ],
   "source": [
    "ml = ttim.ModelMaq(kaq=60, z=(-18, -25), Saq=1e-4, tmin=1e-5, tmax=1)\n",
    "w = ttim.Well(ml, xw=0, yw=0, rw=0.3, res=0.02, tsandQ=[(0, 788), (0.6, 0)], layers=0)\n",
    "ml.solve()\n",
    "rnd = np.random.default_rng(2)\n",
    "hobs2 = w.headinside(tobs2)[0] + 0.05 * rnd.random(len(tobs2))"
   ]
  },
  {
   "cell_type": "code",
   "execution_count": 13,
   "metadata": {},
   "outputs": [
    {
     "name": "stdout",
     "output_type": "stream",
     "text": [
      "..................................................................................................................................................\n",
      "Fit succeeded.\n",
      "[[Fit Statistics]]\n",
      "    # fitting method   = leastsq\n",
      "    # function evals   = 143\n",
      "    # data points      = 73\n",
      "    # variables        = 3\n",
      "    chi-square         = 0.17064806\n",
      "    reduced chi-square = 0.00243783\n",
      "    Akaike info crit   = -436.278631\n",
      "    Bayesian info crit = -429.407253\n",
      "[[Variables]]\n",
      "    kaq0:  60.2257029 +/- 1.32915917 (2.21%) (init = 100)\n",
      "    Saq0:  0.00144777 +/- 0.00829132 (572.70%) (init = 0.001)\n",
      "    res:   0.02699969 +/- 0.01388099 (51.41%) (init = 0.05)\n",
      "[[Correlations]] (unreported correlations are < 0.100)\n",
      "    C(Saq0, res)  =  1.000\n",
      "    C(kaq0, Saq0) = -0.530\n",
      "    C(kaq0, res)  = -0.506\n"
     ]
    }
   ],
   "source": [
    "cal = ttim.Calibrate(ml)\n",
    "cal.set_parameter(name=\"kaq0\", initial=100)\n",
    "cal.set_parameter(name=\"Saq0\", initial=1e-3)\n",
    "cal.set_parameter_by_reference(name=\"res\", parameter=w.res[:], initial=0.05)\n",
    "cal.seriesinwell(name=\"obs1\", element=w, t=tobs2, h=hobs2)\n",
    "cal.fit()"
   ]
  },
  {
   "cell_type": "code",
   "execution_count": 15,
   "metadata": {},
   "outputs": [
    {
     "data": {
      "text/plain": [
       "[<matplotlib.lines.Line2D at 0x13433f190>]"
      ]
     },
     "execution_count": 15,
     "metadata": {},
     "output_type": "execute_result"
    },
    {
     "data": {
      "image/png": "[encoded data removed]",
      "text/plain": [
       "<Figure size 432x288 with 1 Axes>"
      ]
     },
     "metadata": {
      "needs_background": "light"
     },
     "output_type": "display_data"
    }
   ],
   "source": [
    "hm = w.headinside(tobs2)\n",
    "plt.semilogx(tobs2, hobs2, \".k\")\n",
    "plt.semilogx(tobs2, hm[0], \"r\")"
   ]
  },
  {
   "cell_type": "code",
   "execution_count": null,
   "metadata": {},
   "outputs": [],
   "source": []
  }
 ],
 "metadata": {
  "kernelspec": {
   "display_name": "Python 3",
   "language": "python",
   "name": "python3"
  },
  "language_info": {
   "codemirror_mode": {
    "name": "ipython",
    "version": 3
   },
   "file_extension": ".py",
   "mimetype": "text/x-python",
   "name": "python",
   "nbconvert_exporter": "python",
   "pygments_lexer": "ipython3",
   "version": "3.7.4"
  },
  "latex_envs": {
   "LaTeX_envs_menu_present": true,
   "autoclose": false,
   "autocomplete": true,
   "bibliofile": "biblio.bib",
   "cite_by": "apalike",
   "current_citInitial": 1,
   "eqLabelWithNumbers": true,
   "eqNumInitial": 1,
   "hotkeys": {
    "equation": "Ctrl-E",
    "itemize": "Ctrl-I"
   },
   "labels_anchors": false,
   "latex_user_defs": false,
   "report_style_numbering": false,
   "user_envs_cfg": false
  },
  "varInspector": {
   "cols": {
    "lenName": 16,
    "lenType": 16,
    "lenVar": 40
   },
   "kernels_config": {
    "python": {
     "delete_cmd_postfix": "",
     "delete_cmd_prefix": "del ",
     "library": "var_list.py",
     "varRefreshCmd": "print(var_dic_list())"
    },
    "r": {
     "delete_cmd_postfix": ") ",
     "delete_cmd_prefix": "rm(",
     "library": "var_list.r",
     "varRefreshCmd": "cat(var_dic_list()) "
    }
   },
   "types_to_exclude": [
    "module",
    "function",
    "builtin_function_or_method",
    "instance",
    "_Feature"
   ],
   "window_display": false
  }
 },
 "nbformat": 4,
 "nbformat_minor": 4
}
